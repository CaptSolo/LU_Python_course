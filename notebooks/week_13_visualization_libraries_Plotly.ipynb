{
 "cells": [
  {
   "cell_type": "markdown",
   "metadata": {},
   "source": [
    "![LU Logo](https://www.df.lu.lv/fileadmin/user_upload/LU.LV/Apaksvietnes/Fakultates/www.df.lu.lv/Par_mums/Logo/DF_logo/01_DF_logo_LV.png)"
   ]
  },
  {
   "cell_type": "markdown",
   "metadata": {},
   "source": [
    "# Python Visualization Libraries"
   ]
  },
  {
   "cell_type": "markdown",
   "metadata": {},
   "source": [
    "## Lesson Overview\n",
    "\n",
    "We will cover the following topics in this lesson:\n",
    "\n",
    "* Plotly visualization library overview\n",
    "* mechanics of creating plots\n",
    "\n",
    "\n",
    "\n",
    "## Lesson Objectives\n",
    "\n",
    "At the end of this lesson you should be able to:\n",
    "\n",
    "* create basic plots using plotly\n",
    "* create interactive plots using plotly\n",
    "* create some intermediete plots using plotly\n",
    "* create some advanced plots using plotly\n",
    "\n"
   ]
  },
  {
   "cell_type": "markdown",
   "metadata": {},
   "source": [
    "### Import required libraries"
   ]
  },
  {
   "cell_type": "code",
   "execution_count": null,
   "metadata": {},
   "outputs": [],
   "source": [
    "# generally imports go at the top of a notebook\n",
    "# python version\n",
    "import sys\n",
    "print(f\"Python version: {sys.version}\")\n",
    "\n",
    "# import pandas\n",
    "import pandas as pd\n",
    "print(f\"Pandas version: {pd.__version__}\")\n",
    "# we will use pandas to read in our data and manipulate it\n",
    "\n",
    "# import Plotly the object of this lesson\n",
    "import plotly\n",
    "print(f\"Plotly version: {plotly.__version__}\")\n",
    "\n",
    "# if you do not have plotly you should install it with\n",
    "# pip install plotly\n"
   ]
  },
  {
   "cell_type": "code",
   "execution_count": null,
   "metadata": {},
   "outputs": [],
   "source": []
  },
  {
   "cell_type": "markdown",
   "metadata": {},
   "source": [
    "## Topic 1: - Plotly visualization library\n",
    "\n",
    "![Plotly](https://upload.wikimedia.org/wikipedia/commons/8/8a/Plotly-logo.png)\n",
    "\n",
    "Plotly library is a powerful visualization library that can be used to create interactive plots. It is a very powerful library that can be used to create a wide variety of plots. It is also a very complex library that has a steep learning curve. We will cover the basics of Plotly in this lesson.\n",
    "\n",
    "#### History of Plotly library and the company behind it\n",
    "\n",
    "Plotly is a technical computing company headquartered in Montreal, Canada. The company develops online data analytics and visualization tools. Plotly provides online graphing, analytics, and statistics tools for individuals and collaboration, as well as scientific graphing libraries for Python, R, MATLAB, Perl, Julia, JavaScript, and other languages.\n",
    "\n",
    "Plotly the Python library was created by Plotly the company in 2012. The library was open sourced in 2015.\n",
    "Licensing is currently under MIT license: https://plotly.com/python/is-plotly-free/\n",
    "\n",
    "Plotly the Python library is open source and free to use. Plotly the company offers products based on the open source library. Plotly the company also offers a commercial product called Dash Enterprise that is built on top of the open source library + Flask + React.js. Dash Enterprise is a commercial product that is not free to use and requires a license.\n",
    "\n",
    "### Technical underpinning of Plotly library\n",
    "\n",
    "Plotly library utilizes the following Javascript libraries when used in a browser:\n",
    "\n",
    "* plotly.js - a JavaScript library for creating interactive plots\n",
    "* d3.js - a JavaScript library for manipulating documents based on data\n",
    "\n",
    "### Documentation of Plotly library for Python\n",
    "\n",
    "* Plotly library documentation: https://plotly.com/python/\n",
    "\n"
   ]
  },
  {
   "cell_type": "markdown",
   "metadata": {},
   "source": [
    "## First Plotly plot\n",
    "\n",
    "We will be using Plotly Express which is an easy-to-use, high-level interface to Plotly, which operates on a variety of types of data and produces easy-to-style figures.\n",
    "\n",
    "More on Plotly Express: https://plotly.com/python/plotly-express/"
   ]
  },
  {
   "cell_type": "code",
   "execution_count": null,
   "metadata": {},
   "outputs": [],
   "source": [
    "import plotly.express as px\n",
    "\n",
    "\n",
    "fig = px.line(x=[\"a\",\"b\",\"c\"], y=[3,4,7], title=\"sample figure\")\n",
    "print(fig) # to display the figure in the notebook\n",
    "fig.show() # we call show to display the figure"
   ]
  },
  {
   "cell_type": "markdown",
   "metadata": {},
   "source": [
    "### Philosophy of Plotly Express\n",
    "\n",
    "As seen from print(fig) command, Figure object is a dictionary-like object. It contains data and layout keys. Data is a list of traces, and layout is a dictionary of keys that define the layout of the figure.\n",
    "\n",
    "Thus our task is to provide appropriate data and layout to the Figure object.\n"
   ]
  },
  {
   "cell_type": "markdown",
   "metadata": {},
   "source": [
    "## Basic Plotly plot\n"
   ]
  },
  {
   "cell_type": "code",
   "execution_count": null,
   "metadata": {},
   "outputs": [],
   "source": [
    "# let's create a similar plot using Plotly itself using the plotly.graph_objects module\n",
    "import plotly.graph_objects as go # very common to import as go\n",
    "# \n",
    "fig = go.Figure(data=go.Scatter(x=[\"a\",\"b\",\"c\"], y=[3,4,7]))\n",
    "# let's add a title after a figure is created\n",
    "fig.update_layout(title=\"sample figure\")\n",
    "fig.show()"
   ]
  },
  {
   "cell_type": "markdown",
   "metadata": {},
   "source": [
    "## Plotting a function\n",
    "\n",
    "Let's plot the following cube function: $f(x) = x^3 - 5$\n",
    "\n",
    "The range of the function will be from -5 to 5. We will plot the function using 101 points."
   ]
  },
  {
   "cell_type": "code",
   "execution_count": null,
   "metadata": {},
   "outputs": [],
   "source": [
    "# our first step is to generate the data using the cubic function.\n",
    "\n",
    "# we will use numpy to generate the data\n",
    "import numpy as np\n",
    "# we will use the linspace function to generate the x values\n",
    "x = np.linspace(-5,5,101)\n",
    "\n",
    "# Question to students why 101 and not 100?"
   ]
  },
  {
   "cell_type": "code",
   "execution_count": null,
   "metadata": {},
   "outputs": [],
   "source": [
    "# now we can generate the y values\n",
    "y = x**3 - 5 # remember numpy will apply the exponent to each element of the array\n",
    "\n",
    "# now we can plot the data\n",
    "fig = go.Figure(layout = {\"title\":\"Cubic function\"}, data=go.Scatter(x=x, y=y))\n",
    "# fig.update_layout(title=\"Cubic Function\") # notice we already passed layout function above\n",
    "# let's add x and y axis labels\n",
    "fig.update_xaxes(title=\"x\")\n",
    "fig.update_yaxes(title=\"y\")\n",
    "# let's add a grid\n",
    "fig.update_layout(xaxis=dict(showgrid=True, gridwidth=1, gridcolor='black'),\n",
    "                  yaxis=dict(showgrid=True, gridwidth=1, gridcolor='black'))\n",
    "# let's add a horizontal line at y=0\n",
    "fig.add_hline(y=0, line=dict(color='orange', width=2))\n",
    "fig.add_vline(x=0, line=dict(color='red', width=2))\n",
    "\n",
    "# all of the above layout options could have been added at once using the update_layout function\n",
    "# alternatively we could have passed a layout dictionary to the Figure function\n",
    "\n",
    "fig.show()"
   ]
  },
  {
   "cell_type": "code",
   "execution_count": null,
   "metadata": {},
   "outputs": [],
   "source": []
  },
  {
   "cell_type": "markdown",
   "metadata": {},
   "source": [
    "#### Exercise 1.1 - Plot a quadratic function\n",
    "\n",
    "Create a basic plot using plotly express or go. We want to plot the following quadratic function:\n",
    "\n",
    "`f(x) = x^2 + 2x + 1` in the range of x from -10 to 10 using 0.5 step size.\n",
    "\n",
    "Assign appropriate labels to the axes and the plot itself."
   ]
  },
  {
   "cell_type": "markdown",
   "metadata": {},
   "source": [
    "## Intermediate Plotly Graphs\n",
    "\n",
    "### Stacked Bar Charts"
   ]
  },
  {
   "cell_type": "code",
   "execution_count": null,
   "metadata": {},
   "outputs": [],
   "source": [
    "\n",
    "\n",
    "df = px.data.gapminder().query(\"country == 'Canada'\")\n",
    "fig = px.bar(df, x='year', y='pop',\n",
    "             hover_data=['lifeExp', 'gdpPercap'], color='lifeExp',\n",
    "             labels={'pop':'population of Canada'}, height=400)\n",
    "fig.show()"
   ]
  },
  {
   "cell_type": "markdown",
   "metadata": {},
   "source": [
    "### Interactivity of Plotly\n",
    "\n",
    "Notice how in the above graphs we can zoom in, we can save the graph as a png file, we can pan the graph, we can select a region of the graph and plot only that region, we can hover over the graph and see the values of the data points."
   ]
  },
  {
   "cell_type": "code",
   "execution_count": null,
   "metadata": {},
   "outputs": [],
   "source": [
    "df = px.data.gapminder().query(\"continent == 'Europe'\")\n",
    "fig = px.bar(df, x='year', y='pop',\n",
    "             hover_data=['lifeExp', 'gdpPercap'], color='country',\n",
    "             labels={'pop':'population of Canada'}, height=400)\n",
    "fig.show()"
   ]
  },
  {
   "cell_type": "markdown",
   "metadata": {},
   "source": [
    "### Activating data selection\n",
    "\n",
    "Notice how we can click on some country and the graph will show/hide that country. We can click on multiple countries and the graph will show only those countries.\n",
    "\n",
    "Note: no data on Latvia is provided by `px.data.gapminder().query(\"continent == 'Europe'\")`\n",
    "\n",
    "#### Bonus exercise idea\n",
    "Bonus idea: find data source that has data on Latvia and plot it."
   ]
  },
  {
   "cell_type": "markdown",
   "metadata": {},
   "source": [
    "## Histograms\n",
    "\n",
    "Histograms are used to plot the distribution of a variable. Histograms are very useful for exploratory data analysis."
   ]
  },
  {
   "cell_type": "code",
   "execution_count": null,
   "metadata": {},
   "outputs": [],
   "source": [
    "df = px.data.tips() \n",
    "# px.data.tips() is a pandas dataframe of famous tips dataset\n",
    "fig = px.histogram(df, x=\"total_bill\")\n",
    "fig.show()"
   ]
  },
  {
   "cell_type": "markdown",
   "metadata": {},
   "source": [
    "## Heatmaps"
   ]
  },
  {
   "cell_type": "code",
   "execution_count": null,
   "metadata": {},
   "outputs": [],
   "source": [
    "z = [[.1, .3, .5, .7, .9],\n",
    "     [1, .8, .6, .4, .2],\n",
    "     [.2, 0, .5, .7, .9],\n",
    "     [.9, .8, .4, .2, 0],\n",
    "     [.3, .4, .5, .7, 1]]\n",
    "\n",
    "fig = px.imshow(z, text_auto=True)\n",
    "fig.show()"
   ]
  },
  {
   "cell_type": "markdown",
   "metadata": {},
   "source": []
  },
  {
   "cell_type": "markdown",
   "metadata": {},
   "source": [
    "## Financial Charts"
   ]
  },
  {
   "cell_type": "code",
   "execution_count": null,
   "metadata": {},
   "outputs": [],
   "source": [
    "from datetime import datetime\n",
    "\n",
    "df = pd.read_csv('https://raw.githubusercontent.com/plotly/datasets/master/finance-charts-apple.csv')\n",
    "\n",
    "fig = go.Figure(data=[go.Candlestick(x=df['Date'],\n",
    "                open=df['AAPL.Open'],\n",
    "                high=df['AAPL.High'],\n",
    "                low=df['AAPL.Low'],\n",
    "                close=df['AAPL.Close'])])\n",
    "\n",
    "fig.show()"
   ]
  },
  {
   "cell_type": "markdown",
   "metadata": {},
   "source": [
    "### Note on selecting subset of data in above chart\n",
    "\n",
    "Because x axis is date, we can select a subset of data by selecting a region on the x axis."
   ]
  },
  {
   "cell_type": "markdown",
   "metadata": {},
   "source": [
    "## Complex Plotly full plot example with multiple subplots\n",
    "\n",
    "https://plotly.com/python/map-subplots-and-small-multiples/"
   ]
  },
  {
   "cell_type": "code",
   "execution_count": null,
   "metadata": {},
   "outputs": [],
   "source": [
    "df = pd.read_csv('https://raw.githubusercontent.com/plotly/datasets/master/1962_2006_walmart_store_openings.csv')\n",
    "df.head()\n",
    "\n",
    "data = []\n",
    "layout = dict(\n",
    "    title = 'New Walmart Stores per year 1962-2006<br>\\\n",
    "Source: <a href=\"http://www.econ.umn.edu/~holmes/data/WalMart/index.html\">\\\n",
    "University of Minnesota</a>',\n",
    "    # showlegend = False,\n",
    "    autosize = False,\n",
    "    width = 1000,\n",
    "    height = 900,\n",
    "    hovermode = False,\n",
    "    legend = dict(\n",
    "        x=0.7,\n",
    "        y=-0.1,\n",
    "        bgcolor=\"rgba(255, 255, 255, 0)\",\n",
    "        font = dict( size=11 ),\n",
    "    )\n",
    ")\n",
    "years = df['YEAR'].unique()\n",
    "\n",
    "for i in range(len(years)):\n",
    "    geo_key = 'geo'+str(i+1) if i != 0 else 'geo'\n",
    "    lons = list(df[ df['YEAR'] == years[i] ]['LON'])\n",
    "    lats = list(df[ df['YEAR'] == years[i] ]['LAT'])\n",
    "    # Walmart store data\n",
    "    data.append(\n",
    "        dict(\n",
    "            type = 'scattergeo',\n",
    "            showlegend=False,\n",
    "            lon = lons,\n",
    "            lat = lats,\n",
    "            geo = geo_key,\n",
    "            name = int(years[i]),\n",
    "            marker = dict(\n",
    "                color = \"rgb(0, 0, 255)\",\n",
    "                opacity = 0.5\n",
    "            )\n",
    "        )\n",
    "    )\n",
    "    # Year markers\n",
    "    data.append(\n",
    "        dict(\n",
    "            type = 'scattergeo',\n",
    "            showlegend = False,\n",
    "            lon = [-78],\n",
    "            lat = [47],\n",
    "            geo = geo_key,\n",
    "            text = [years[i]],\n",
    "            mode = 'text',\n",
    "        )\n",
    "    )\n",
    "    layout[geo_key] = dict(\n",
    "        scope = 'usa',\n",
    "        showland = True,\n",
    "        landcolor = 'rgb(229, 229, 229)',\n",
    "        showcountries = False,\n",
    "        domain = dict( x = [], y = [] ),\n",
    "        subunitcolor = \"rgb(255, 255, 255)\",\n",
    "    )\n",
    "\n",
    "\n",
    "def draw_sparkline( domain, lataxis, lonaxis ):\n",
    "    ''' Returns a sparkline layout object for geo coordinates  '''\n",
    "    return dict(\n",
    "        showland = False,\n",
    "        showframe = False,\n",
    "        showcountries = False,\n",
    "        showcoastlines = False,\n",
    "        domain = domain,\n",
    "        lataxis = lataxis,\n",
    "        lonaxis = lonaxis,\n",
    "        bgcolor = 'rgba(255,200,200,0.0)'\n",
    "    )\n",
    "\n",
    "# Stores per year sparkline\n",
    "layout['geo44'] = draw_sparkline({'x':[0.6,0.8], 'y':[0,0.15]}, \\\n",
    "                                 {'range':[-5.0, 30.0]}, {'range':[0.0, 40.0]} )\n",
    "data.append(\n",
    "    dict(\n",
    "        type = 'scattergeo',\n",
    "        mode = 'lines',\n",
    "        lat = list(df.groupby(by=['YEAR']).count()['storenum']/1e1),\n",
    "        lon = list(range(len(df.groupby(by=['YEAR']).count()['storenum']/1e1))),\n",
    "        line = dict( color = \"rgb(0, 0, 255)\" ),\n",
    "        name = \"New stores per year<br>Peak of 178 stores per year in 1990\",\n",
    "        geo = 'geo44',\n",
    "    )\n",
    ")\n",
    "\n",
    "# Cumulative sum sparkline\n",
    "layout['geo45'] = draw_sparkline({'x':[0.8,1], 'y':[0,0.15]}, \\\n",
    "                                 {'range':[-5.0, 50.0]}, {'range':[0.0, 50.0]} )\n",
    "data.append(\n",
    "    dict(\n",
    "        type = 'scattergeo',\n",
    "        mode = 'lines',\n",
    "        lat = list(df.groupby(by=['YEAR']).count().cumsum()['storenum']/1e2),\n",
    "        lon = list(range(len(df.groupby(by=['YEAR']).count()['storenum']/1e1))),\n",
    "        line = dict( color = \"rgb(214, 39, 40)\" ),\n",
    "        name =\"Cumulative sum<br>3176 stores total in 2006\",\n",
    "        geo = 'geo45',\n",
    "    )\n",
    ")\n",
    "\n",
    "z = 0\n",
    "COLS = 5\n",
    "ROWS = 9\n",
    "for y in reversed(range(ROWS)):\n",
    "    for x in range(COLS):\n",
    "        geo_key = 'geo'+str(z+1) if z != 0 else 'geo'\n",
    "        layout[geo_key]['domain']['x'] = [float(x)/float(COLS), float(x+1)/float(COLS)]\n",
    "        layout[geo_key]['domain']['y'] = [float(y)/float(ROWS), float(y+1)/float(ROWS)]\n",
    "        z=z+1\n",
    "        if z > 42:\n",
    "            break\n",
    "\n",
    "fig = go.Figure(data=data, layout=layout)\n",
    "fig.update_layout(width=800)\n",
    "fig.show()"
   ]
  },
  {
   "cell_type": "markdown",
   "metadata": {},
   "source": [
    "## Lesson Overview\n",
    "\n",
    "What have we learned?\n",
    "\n",
    "* Plotly visualization library overview\n",
    "* Plotly Express\n",
    "* Plotly figures\n",
    "* Plotly Graph Objects\n",
    "* Plotly bar charts\n",
    "* Plotly stacked bar charts\n",
    "* Plotly histograms\n",
    "* Plotly heatmaps\n",
    "* Plotly subplots"
   ]
  },
  {
   "cell_type": "markdown",
   "metadata": {},
   "source": [
    "## Exercises for further practice\n",
    "\n",
    "### Plotting an Elephant or Batman function\n",
    "\n",
    "https://www.physicsforums.com/threads/graph-of-an-elephant.998283/\n",
    "\n",
    "Implement in Python!\n",
    "\n",
    "### Exercise 2\n",
    "\n",
    "Create a financial chart for a different stock."
   ]
  },
  {
   "cell_type": "markdown",
   "metadata": {},
   "source": [
    "## Additional Resources\n",
    "\n",
    "### Topic 1 - resources\n",
    "\n",
    "- [Plotly Advanced Plots](https://plotly.com/python/) \n",
    "\n",
    "### Topic 2 - Transforms\n",
    "\n",
    "- [Transforming data](https://plotly.com/python/#transforms)\n",
    "\n",
    "### Topic 3 - Custom Controls\n",
    "\n",
    "- [Custom Controls](https://plotly.com/python/#controls)\n"
   ]
  }
 ],
 "metadata": {
  "kernelspec": {
   "display_name": "Python 3 (ipykernel)",
   "language": "python",
   "name": "python3"
  },
  "language_info": {
   "codemirror_mode": {
    "name": "ipython",
    "version": 3
   },
   "file_extension": ".py",
   "mimetype": "text/x-python",
   "name": "python",
   "nbconvert_exporter": "python",
   "pygments_lexer": "ipython3",
   "version": "3.12.4"
  }
 },
 "nbformat": 4,
 "nbformat_minor": 4
}
