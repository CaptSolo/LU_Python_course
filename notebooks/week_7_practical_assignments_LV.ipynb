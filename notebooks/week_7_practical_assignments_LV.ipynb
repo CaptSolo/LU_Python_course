{
 "cells": [
  {
   "cell_type": "markdown",
   "id": "f198e8d8-1799-4fe4-8921-70b6d96d1b52",
   "metadata": {},
   "source": [
    "## Uzdevumi treniņam\n",
    "\n",
    "---\n",
    "\n",
    "### Uzdevums 1\n",
    "\n",
    "Lietotājs ievada datumu formātā DD.MM.YYYY. \n",
    "\n",
    "Aprēķināt un izdrukāt, kura gada diena pēc kārtas tā ir. Piemēram, 2. janvāris ir gada 2. diena, bet 5. februāris ir gada 36. diena.\n"
   ]
  },
  {
   "cell_type": "code",
   "execution_count": null,
   "id": "098a7f0e-7878-446a-8afe-e5dd218ef3c1",
   "metadata": {},
   "outputs": [],
   "source": []
  },
  {
   "cell_type": "markdown",
   "id": "4282d3c1-641f-4ae3-b7a2-65631479734b",
   "metadata": {},
   "source": [
    "---\n",
    "\n",
    "### Uzdevums 2\n",
    "\n",
    "Ir dota vārdnīca ar angļu un latviešu valodas vārdu pāriem, kas atrodas CSV datnē [week_7_dictionary.csv](https://github.com/CaptSolo/LU_Python_course/blob/main/notebooks/week_7_dictionary.csv)\n",
    "\n",
    "Izveidot programmu, kas:\n",
    "\n",
    "1) nolasa šo vārdnīcu\n",
    "2) ļauj lietotājam ievadīt frāzi angļu valodā\n",
    "3) izdrukā šīs frāzes tulkojumu latviešu valodā (izmantojot šo vārdnīcu)\n",
    "\n",
    "Ievadītajā frāzē vārdnīcā atrastie vārdi ir jāaizstāj ar to tulkojumu. Vārdi, kas nav vārdnīcā, tiek atstāti netulkoti.\n",
    "\n",
    "Piemēram, frāze \"elephant is huge\" ir tulkojama kā \"zilonis ir milzīgs\"."
   ]
  },
  {
   "cell_type": "code",
   "execution_count": null,
   "id": "faa200ab-c3e9-4d1c-9c28-ea01ea5a2589",
   "metadata": {},
   "outputs": [],
   "source": []
  },
  {
   "cell_type": "markdown",
   "id": "d41c968e-78a1-4388-9dc9-a7bcb3e7084b",
   "metadata": {},
   "source": [
    "---\n",
    "\n",
    "### Uzdevums 3\n",
    "\n",
    "Jūsu uzdevums ir realizēt datorspēles inventāra sarakstu, kas tiek glabāts kā Python vārdnīca. Šī vārdnīca satur nosaukuma un tam atbilstošā daudzuma pārus, piemēram:\n",
    "\n",
    "```\n",
    "inventory = {\n",
    "    \"arrow\": 30,\n",
    "    \"rope\": 3,\n",
    "    \"torch\": 5,\n",
    "}\n",
    "```\n",
    "\n",
    "Programmas darba sākumā vārdnīca ir jānolasa no diska (ja uz diska nav atbilstošā datne, tad tiek izveidota tukša vārdnīca) un darba beigās tā ir jāsaglabā uz diska.\n",
    "\n",
    "Programma ļauj lietotājam:\n",
    "- izdrukāt vārdnīcas saturu (lietu nosaukumus un skaitu)\n",
    "- mainīt vārdnīcas saturu ievadot lietas nosaukumu un pēc tam skaitli, par kādu ir jāpalielina vai jāsamazina (ja ievadīts negatīvs skaitlis) šīs lietas skaits\n",
    "\n",
    "*Piezīme: vārdnīcas lietu skaits nedrīkst būt negatīvs.*"
   ]
  },
  {
   "cell_type": "code",
   "execution_count": null,
   "id": "a08043ff-9627-420c-8f25-24b1896e2346",
   "metadata": {},
   "outputs": [],
   "source": []
  },
  {
   "cell_type": "markdown",
   "id": "21cf27b0-0a81-4975-a6dd-d81dfe5446cc",
   "metadata": {},
   "source": [
    "---\n",
    "\n",
    "### Uzdevums 4\n",
    "\n",
    "Izmēģiniet dažādas attēlu apstrādes operācijas, izmantojot Python [scikit-image](https://scikit-image.org/) bibliotēku, kā arī `matplotlib` attēlu vizualizācijām:\n",
    "\n",
    "- augšupielādēt Colab jebkādu krāsu attēlu pēc savas izvēles JPG formātā.\n",
    "\n",
    "- ielasīt attēlu kā mainīgo `im`, izmantojot `imread` funkciju. Attēlu iespējams aplūkot, izmantojot matplotlib.pyplot `imshow` funkciju.\n",
    "\n",
    "- vadoties pēc dokumentācijas, uzlabot attēla kontrastu (`exposure.equalize_hist`)\n",
    "\n",
    "- vadoties pēc dokumentācijas, izpludināt attēlu (`filters.gaussian`)\n",
    "\n",
    "- vadoties pēc dokumentācijas, uzlabot attēla asumu (`unsharp_masking`)\n",
    "\n",
    "*Piezīme: scikit-image vietā var izmantot arī [Pillow bibliotēku](https://pillow.readthedocs.io/en/stable/).*\n",
    "\n",
    "\n"
   ]
  },
  {
   "cell_type": "code",
   "execution_count": null,
   "id": "53189fc1-7f94-4ed6-bb0d-8a36636e5031",
   "metadata": {},
   "outputs": [],
   "source": []
  },
  {
   "cell_type": "markdown",
   "id": "508f1eea-7ea3-4442-9acf-e10e8bbfec35",
   "metadata": {},
   "source": [
    "---\n",
    "\n",
    "### Uzdevums 5\n",
    "\n",
    "Izveidojiet vienkāršu tīmekļa API (tīmekļa servisu), kas:\n",
    "- ļauj uzzināt šī brīža datumu un laiku\n",
    "- atgriež citātus no programmā iekļauta citātu saraksta\n",
    "\n",
    "Uzdevuma veikšanai var izmantot Python ietvarus `Flask` vai `FastAPI`. Ir jārealizē tikai lasīšanas (read-only) API.\n",
    "\n",
    "API izsaukumu rezultāti ir atgriežami JSON formātā.\n",
    "\n",
    "Jūsu uzdevums ir izstrādāt API, kas atbild uz šādiem API izsaukumiem:\n",
    "- `/now` = atgriež šī brīža datumu un laiku\n",
    "- `/random` = atgriež gadījuma citātu (citāta ID un tekstu)\n",
    "- `/quote/<id>` = atgriež ID atbilstošo citātu\n",
    "\n",
    "*Šis uzdevums ir izpildāms ārpus Jupyter Notebook vides.*"
   ]
  }
 ],
 "metadata": {
  "kernelspec": {
   "display_name": "Python 3 (ipykernel)",
   "language": "python",
   "name": "python3"
  },
  "language_info": {
   "codemirror_mode": {
    "name": "ipython",
    "version": 3
   },
   "file_extension": ".py",
   "mimetype": "text/x-python",
   "name": "python",
   "nbconvert_exporter": "python",
   "pygments_lexer": "ipython3",
   "version": "3.12.7"
  }
 },
 "nbformat": 4,
 "nbformat_minor": 5
}
