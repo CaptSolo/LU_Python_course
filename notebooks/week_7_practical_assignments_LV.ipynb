{
 "cells": [
  {
   "cell_type": "markdown",
   "id": "f198e8d8-1799-4fe4-8921-70b6d96d1b52",
   "metadata": {},
   "source": [
    "## Uzdevumi treniņam\n",
    "\n",
    "---\n",
    "\n",
    "### Uzdevums 1\n",
    "\n",
    "... Te būs atrodami praktisko darbu uzdevumi ...\n"
   ]
  },
  {
   "cell_type": "code",
   "execution_count": null,
   "id": "098a7f0e-7878-446a-8afe-e5dd218ef3c1",
   "metadata": {},
   "outputs": [],
   "source": []
  }
 ],
 "metadata": {
  "kernelspec": {
   "display_name": "Python 3 (ipykernel)",
   "language": "python",
   "name": "python3"
  },
  "language_info": {
   "codemirror_mode": {
    "name": "ipython",
    "version": 3
   },
   "file_extension": ".py",
   "mimetype": "text/x-python",
   "name": "python",
   "nbconvert_exporter": "python",
   "pygments_lexer": "ipython3",
   "version": "3.12.7"
  }
 },
 "nbformat": 4,
 "nbformat_minor": 5
}
