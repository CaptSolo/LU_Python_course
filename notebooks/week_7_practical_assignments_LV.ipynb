{
 "cells": [
  {
   "cell_type": "markdown",
   "id": "f198e8d8-1799-4fe4-8921-70b6d96d1b52",
   "metadata": {},
   "source": [
    "## Uzdevumi treniņam\n",
    "\n",
    "---\n",
    "\n",
    "### Uzdevums 1 – Datumi\n",
    "\n",
    "Lietotājs ievada datumu formātā DD.MM.YYYY. \n",
    "\n",
    "Aprēķināt un izdrukāt, kura gada diena pēc kārtas un kura nedēļas diena tā ir.\n",
    "\n",
    "Piemēram, 02-01-2025 ir ceturtdiena un gada 2. diena.\n"
   ]
  },
  {
   "cell_type": "code",
   "execution_count": null,
   "id": "098a7f0e-7878-446a-8afe-e5dd218ef3c1",
   "metadata": {},
   "outputs": [],
   "source": []
  },
  {
   "cell_type": "markdown",
   "id": "d41c968e-78a1-4388-9dc9-a7bcb3e7084b",
   "metadata": {},
   "source": [
    "---\n",
    "\n",
    "### Uzdevums 2 – Pirmskaitļi\n",
    "\n",
    "Izvadīt pirmos N pirmskaitļus."
   ]
  },
  {
   "cell_type": "code",
   "execution_count": null,
   "id": "b94544c0-6351-4ad4-bed0-b9fa00fcb0b6",
   "metadata": {},
   "outputs": [],
   "source": []
  },
  {
   "cell_type": "markdown",
   "id": "4282d3c1-641f-4ae3-b7a2-65631479734b",
   "metadata": {},
   "source": [
    "---\n",
    "\n",
    "### Uzdevums 3 – Vārdnīcas\n",
    "\n",
    "Ir dota vārdnīca ar angļu un latviešu valodas vārdu pāriem, kas atrodas CSV datnē [week_7_dictionary.csv](https://github.com/CaptSolo/LU_Python_course/blob/main/notebooks/week_7_dictionary.csv)\n",
    "\n",
    "Izveidot programmu, kas:\n",
    "\n",
    "1) nolasa šo vārdnīcu\n",
    "2) ļauj lietotājam ievadīt frāzi angļu valodā\n",
    "3) izdrukā šīs frāzes tulkojumu latviešu valodā (izmantojot šo vārdnīcu)\n",
    "\n",
    "Ievadītajā frāzē vārdnīcā atrastie vārdi ir jāaizstāj ar to tulkojumu. Vārdi, kas nav vārdnīcā, tiek atstāti netulkoti.\n",
    "\n",
    "Piemēram, frāze \"elephant is huge\" ir tulkojama kā \"zilonis ir milzīgs\"."
   ]
  },
  {
   "cell_type": "code",
   "execution_count": null,
   "id": "faa200ab-c3e9-4d1c-9c28-ea01ea5a2589",
   "metadata": {},
   "outputs": [],
   "source": []
  },
  {
   "cell_type": "markdown",
   "id": "7d6225b7-ecc5-4d38-91bf-cc45dfb14e19",
   "metadata": {},
   "source": [
    "---\n",
    "\n",
    "### Uzdevums 4 – Skaitļa minēšana\n",
    "\n",
    "Ar gadījuma skaitļu ģeneratoru izvēlieties skaitli robežās no 1 līdz 250 un uzrakstiet programmu, kas ļauj lietotājam minēt kāds ir izvēlētais skaitlis.\n",
    "\n",
    "Lietotājam jābūt iespējai minēt vairākas reizes. Atbildē uz katru minējumu izvadiet ziņu par to vai skaitlis ir uzminēts (tad pārtrauciet minēšanu) vai arī vai izvēlētais skaitlis ir lielāks vai mazāks par lietotāja ievadīto skaitli.\n",
    "\n",
    "Iekļaujiet programmā pārbaudi vai lietotājs ir ievadījis veselu skaitli norādītajās vērtību robežās. Ja nav, tad prasiet to ievadīt atkal.\n",
    "\n",
    "Jautājums: cik reizes ir jāļauj lietotājam minēt skaitli, lai tam vienmēr būtu iespēja to uzminēt?"
   ]
  },
  {
   "cell_type": "code",
   "execution_count": null,
   "id": "e4674a6c-64b4-4ca9-bea3-a1c16a032978",
   "metadata": {},
   "outputs": [],
   "source": []
  },
  {
   "cell_type": "markdown",
   "id": "21cf27b0-0a81-4975-a6dd-d81dfe5446cc",
   "metadata": {},
   "source": [
    "---\n",
    "\n",
    "### Uzdevums 5 – Python bibliotēkas\n",
    "\n",
    "- Izvēlieties un izmēģiniet darbībā vismaz 1 Python iebūvēto bibliotēku;\n",
    "- Izvēlieties un izmēģiniet darbībā 1-2 ārējās Python bibliotēkas.\n",
    "\n",
    "Izveidojiet programmu, kas pielieto šīs bibliotēkas.\n",
    "\n",
    "Piemēram, var izveidot programmu, kas:\n",
    "\n",
    "- ar `requests` bibliotēkas palīdzību nolasa kādas tīmekļa lapas HTML pirmkodu;\n",
    "- ar `BeautifulSoup` bibliotēkas palīdzību no HTML pirmkoda izvelk ārā lapas teksta saturu;\n",
    "- ar iebūvētās `collections` bibliotēkas palīdzību saskaita vārdu biežumu šajā teksta saturā."
   ]
  },
  {
   "cell_type": "code",
   "execution_count": null,
   "id": "53189fc1-7f94-4ed6-bb0d-8a36636e5031",
   "metadata": {},
   "outputs": [],
   "source": []
  }
 ],
 "metadata": {
  "kernelspec": {
   "display_name": "Python 3 (ipykernel)",
   "language": "python",
   "name": "python3"
  },
  "language_info": {
   "codemirror_mode": {
    "name": "ipython",
    "version": 3
   },
   "file_extension": ".py",
   "mimetype": "text/x-python",
   "name": "python",
   "nbconvert_exporter": "python",
   "pygments_lexer": "ipython3",
   "version": "3.12.7"
  }
 },
 "nbformat": 4,
 "nbformat_minor": 5
}
