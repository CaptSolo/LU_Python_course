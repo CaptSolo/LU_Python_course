{
 "cells": [
  {
   "cell_type": "markdown",
   "metadata": {},
   "source": [
    "![LU Logo](https://www.lu.lv/fileadmin/user_upload/LU.LV/www.lu.lv/Logo/Logo_jaunie/LU_logo_LV_horiz.png)\n"
   ]
  },
  {
   "cell_type": "markdown",
   "metadata": {},
   "source": [
    "# 5. ndēļa : Python Standarta Biblioteka, Moduļi, Pakotnes"
   ]
  },
  {
   "cell_type": "markdown",
   "metadata": {},
   "source": [
    "## Nodarbības plāns\n",
    "\n",
    "Mēs apskatīsim šādas tēmas:\n",
    "\n",
    "- Python standarta bibliotēka: importēšana un iebūvēto moduļu izmantošana.\n",
    "  - random, Counter, ...\n",
    "- citu bibliotēku importēšana: pip, virtuālās vides.\n",
    "  - requests, ...\n",
    "- savu moduļu izveide.\n",
    "\n",
    "## Prasības zināšanām pirms nodarbības\n",
    "\n",
    "- Python sintakse\n",
    "- Python pamata datu tipi\n",
    "- Python funkcijas\n",
    "\n",
    "\n",
    "## Nodarbības mērķi\n",
    "\n",
    "Nodarbības beigās studenti:\n",
    "\n",
    "- būs guvuši izpratni par Python iebūvētajām un trešo pušu bibliotēkām\n",
    "- varēs importēt un izmantot iebūvētos moduļus no Python standarta bibliotēkas\n",
    "- varēs importēt un izmantot trešo pušu bibliotēkas, izmantojot `pip`, Python pakotņu pārvaldnieku\n",
    "- sapratīs virtuālās vides konceptu un varēs izveidot un pārvaldīt virtuālās vides\n",
    "- Understand the concept of virtual environments, and how to create and manage them\n",
    "- mācēs izveidot, importēt un izmantot savus Python moduļus\n"
   ]
  },
  {
   "cell_type": "markdown",
   "metadata": {},
   "source": [
    "### Import required libraries"
   ]
  },
  {
   "cell_type": "code",
   "execution_count": null,
   "metadata": {},
   "outputs": [],
   "source": [
    "# generally imports go at the top of a notebook\n",
    "# python version\n",
    "import sys\n",
    "print(f\"Python version: {sys.version}\")"
   ]
  },
  {
   "cell_type": "markdown",
   "metadata": {},
   "source": [
    "## Topic 1: - Python standard library\n",
    "\n",
    "Python is called \"batteries included\" – it is shipped with a large number of library modules for a variety of tasks. \n",
    "\n",
    "![Batteries included](https://github.com/ValRCS/python_public_resources/blob/main/img/batteries.png?raw=true)\n",
    "\n",
    "Python modules are files containing Python code, typically functions, variables, and classes, bundled together for easy reuse. \n",
    "\n",
    "The Python standard library is a collection of pre-installed modules that come with Python. These modules provide functionalities for various common tasks such as file handling, mathematical operations, networking, and more.\n",
    "\n",
    "In order to use these modules you first need to import them:\n",
    "* `import module_name`\n",
    "\n",
    "You may also choose to import a module and give it another (usually shorter) name alias. For example, the following statement will import the [Pandas data analysis library](https://pandas.pydata.org/) and give it a shorter name `pd`:\n",
    "* `import pandas as pd`\n",
    "* Note: Pandas is a third-party library and it needs to be installed before it can be imported.\n",
    "\n",
    "It is also possible to import just a part of a module by listing the functions, variables and classes that you want to import. For example, the following statement will import the `Counter` class from the `collections` module:\n",
    "* `from collections import Counter`\n",
    "\n",
    "---\n",
    "\n",
    "[**The Python standard library**](https://docs.python.org/3/library/) contains a large number of modules covering a variety of tasks:\n",
    "\n",
    "* **Data Types and Data Structures**: tools for working with various data types such as dates, times, collections (e.g., lists, dictionaries), queues, etc.\n",
    "* **File and Directory Access**: reading from and writing to files, working with file paths, and managing directories.\n",
    "* **Networking**: tools for working with various Internet protocols (HTTP, FTP, SMTP, etc.).\n",
    "* **Concurrency**: tools for working with threads, processes, and asynchronous I/O.\n",
    "* **Text Processing**: regular expressions, Unicode, text wrapping, and formatting.\n",
    "* **Mathematical Operations**: mathematical functions, random number generation, and statistics.\n",
    "* **Database Access**: interfaces for working with various databases.\n",
    "* **Debugging and Testing**: debugging tools, unit testing frameworks, and profiling tools.\n",
    "* **System Administration**: accessing and managing operating system services, command-line arguments, logging, etc.\n"
   ]
  },
  {
   "cell_type": "markdown",
   "metadata": {},
   "source": [
    "#### Example: Mathematical operations\n",
    "\n",
    "https://docs.python.org/3/library/math.html"
   ]
  },
  {
   "cell_type": "code",
   "execution_count": null,
   "metadata": {},
   "outputs": [],
   "source": [
    "# import the \"math\" module\n",
    "import math"
   ]
  },
  {
   "cell_type": "code",
   "execution_count": null,
   "metadata": {},
   "outputs": [],
   "source": [
    "# we can ask for help about a module\n",
    "help(math)"
   ]
  },
  {
   "cell_type": "code",
   "execution_count": null,
   "metadata": {},
   "outputs": [],
   "source": [
    "# pi constant\n",
    "print(math.pi)"
   ]
  },
  {
   "cell_type": "code",
   "execution_count": null,
   "metadata": {},
   "outputs": [],
   "source": [
    "# cosine function\n",
    "math.cos(math.pi)"
   ]
  },
  {
   "cell_type": "markdown",
   "metadata": {},
   "source": [
    "Notice how we have to prefix module functions, classes and variables with the module name and a dot: `math.cos`\n",
    "\n",
    "Modules in Python have their own namespaces – they serve as a way to avoid naming conflicts. When you import a module, you're essentially bringing its namespace (e.g. `math`) into your code.\n",
    "\n",
    "If you need to use just a few of module's objects, you can import them directly into the current namespace using `from module import name` syntax. In this case you will not need to add the module name prefix when referring to the imported module objects:"
   ]
  },
  {
   "cell_type": "code",
   "execution_count": null,
   "metadata": {},
   "outputs": [],
   "source": [
    "from math import cos, pi\n",
    "\n",
    "cos(pi)"
   ]
  },
  {
   "cell_type": "markdown",
   "metadata": {},
   "source": [
    "#### Module name aliases\n",
    "\n",
    "When importing a module, you may change the name (alias) that your program will use to refer to this module.\n",
    "\n",
    "Here is an example of importing the [calendar module](https://docs.python.org/3/library/calendar.html):"
   ]
  },
  {
   "cell_type": "code",
   "execution_count": null,
   "metadata": {},
   "outputs": [],
   "source": [
    "import calendar as cal\n",
    "\n",
    "cal.prmonth(2023,10)"
   ]
  },
  {
   "cell_type": "code",
   "execution_count": null,
   "metadata": {},
   "outputs": [],
   "source": [
    "help(cal)"
   ]
  },
  {
   "cell_type": "markdown",
   "metadata": {},
   "source": [
    "#### Exploring module contents\n",
    "\n",
    "We can use the `dir()` function to explore the contents of Python modules.\n",
    "\n",
    "The `dir()` function returns a list of names in the local scope or a list of attributes of an object (e.g., a module, class, or instance). When called with an object, it returns a list of attributes and methods associated with that object."
   ]
  },
  {
   "cell_type": "code",
   "execution_count": null,
   "metadata": {},
   "outputs": [],
   "source": [
    "# calling dir() without arguments\n",
    "dir()"
   ]
  },
  {
   "cell_type": "code",
   "execution_count": null,
   "metadata": {},
   "outputs": [],
   "source": [
    "# the names starting with underlines are for internal use – you may want to ignore them for now:\n",
    "\n",
    "for name in dir():\n",
    "    if not name.startswith(\"_\"):\n",
    "        print(name)"
   ]
  },
  {
   "cell_type": "code",
   "execution_count": null,
   "metadata": {},
   "outputs": [],
   "source": [
    "# let's convert this code into a function\n",
    "\n",
    "def print_dir(names):    \n",
    "    for name in names:\n",
    "        if not name.startswith(\"_\"):\n",
    "            print(name)"
   ]
  },
  {
   "cell_type": "code",
   "execution_count": null,
   "metadata": {},
   "outputs": [],
   "source": [
    "print_dir(dir())"
   ]
  },
  {
   "cell_type": "markdown",
   "metadata": {},
   "source": [
    "#### random - Pseudo-random number generation\n",
    "\n",
    "This module implements pseudo-random number generators for various distributions.\n",
    "\n",
    "https://docs.python.org/3/library/random.html"
   ]
  },
  {
   "cell_type": "code",
   "execution_count": null,
   "metadata": {},
   "outputs": [],
   "source": [
    "import random as rnd\n",
    "\n",
    "# directory list of a module\n",
    "print_dir(dir(rnd))"
   ]
  },
  {
   "cell_type": "code",
   "execution_count": null,
   "metadata": {},
   "outputs": [],
   "source": [
    "help(rnd.randint)"
   ]
  },
  {
   "cell_type": "code",
   "execution_count": null,
   "metadata": {},
   "outputs": [],
   "source": [
    "# generate 10 random numbers from 1..6\n",
    "\n",
    "for i in range(10):\n",
    "    print(rnd.randint(1,6))"
   ]
  },
  {
   "cell_type": "code",
   "execution_count": null,
   "metadata": {},
   "outputs": [],
   "source": [
    "# sample: choose random unique elements from the given input\n",
    "\n",
    "rnd.sample(['apple', 'pear', 'pear', 'carrot', 'lemon', 'lime'], k=3)"
   ]
  },
  {
   "cell_type": "markdown",
   "metadata": {},
   "source": [
    "#### Counting things\n",
    "\n",
    "The [Counter class](https://docs.python.org/3/library/collections.html#collections.Counter) lets us count *hashable* objects. It is a collection where elements are stored as dictionary keys and their counts are stored as dictionary values."
   ]
  },
  {
   "cell_type": "code",
   "execution_count": null,
   "metadata": {},
   "outputs": [],
   "source": [
    "from collections import Counter\n",
    "\n",
    "things_to_count = ['apple', 'pear', 'pear', 'carrot', 'lemon', 'lime', 'lime', 'lime']"
   ]
  },
  {
   "cell_type": "code",
   "execution_count": null,
   "metadata": {},
   "outputs": [],
   "source": [
    "temp = {}\n",
    "\n",
    "for item in things_to_count:\n",
    "    if item in temp:\n",
    "        temp[item] += 1\n",
    "    else:\n",
    "        temp[item] = 1\n",
    "\n",
    "print(temp)"
   ]
  },
  {
   "cell_type": "code",
   "execution_count": null,
   "metadata": {},
   "outputs": [],
   "source": [
    "cnt = Counter(things_to_count)\n",
    "\n",
    "# print count values\n",
    "print(cnt)"
   ]
  },
  {
   "cell_type": "code",
   "execution_count": null,
   "metadata": {},
   "outputs": [],
   "source": [
    "# show the top 2 items\n",
    "cnt.most_common(2)"
   ]
  },
  {
   "cell_type": "code",
   "execution_count": null,
   "metadata": {},
   "outputs": [],
   "source": [
    "for item, count in cnt.most_common(2):\n",
    "    print(f\"{item}  {count}\")"
   ]
  },
  {
   "cell_type": "code",
   "execution_count": null,
   "metadata": {},
   "outputs": [],
   "source": [
    "help(cnt)"
   ]
  },
  {
   "cell_type": "markdown",
   "metadata": {},
   "source": [
    "#### datetime - Date and time operations\n",
    "\n",
    "https://docs.python.org/3/library/datetime.html"
   ]
  },
  {
   "cell_type": "code",
   "execution_count": null,
   "metadata": {},
   "outputs": [],
   "source": [
    "import datetime as dt\n",
    "\n",
    "start = dt.date(2023, 9, 1)\n",
    "now = dt.date.today()\n",
    "\n",
    "print(start)\n",
    "print(now)\n",
    "\n",
    "print(now - start)"
   ]
  },
  {
   "cell_type": "code",
   "execution_count": null,
   "metadata": {},
   "outputs": [],
   "source": [
    "# convert datetime string to a date object\n",
    "\n",
    "from_iso = dt.datetime.fromisoformat('2023-10-03')\n",
    "print(from_iso)"
   ]
  },
  {
   "cell_type": "markdown",
   "metadata": {},
   "source": [
    "#### time - Time access and conversions\n",
    "\n",
    "https://docs.python.org/3/library/time.html"
   ]
  },
  {
   "cell_type": "code",
   "execution_count": null,
   "metadata": {},
   "outputs": [],
   "source": [
    "import time\n",
    "\n",
    "print(time.localtime())"
   ]
  },
  {
   "cell_type": "code",
   "execution_count": null,
   "metadata": {},
   "outputs": [],
   "source": [
    "time.strftime(\"%a, %d %b %Y %H:%M:%S\")"
   ]
  },
  {
   "cell_type": "code",
   "execution_count": null,
   "metadata": {},
   "outputs": [],
   "source": [
    "time.strptime(\"10 Oct 23\", \"%d %b %y\")"
   ]
  },
  {
   "cell_type": "code",
   "execution_count": null,
   "metadata": {},
   "outputs": [],
   "source": [
    "# 5 second delay\n",
    "time.sleep(5)"
   ]
  },
  {
   "cell_type": "markdown",
   "metadata": {},
   "source": [
    "#### Python's \"Easter eggs\""
   ]
  },
  {
   "cell_type": "code",
   "execution_count": null,
   "metadata": {},
   "outputs": [],
   "source": [
    "import this"
   ]
  },
  {
   "cell_type": "code",
   "execution_count": null,
   "metadata": {},
   "outputs": [],
   "source": [
    "## XKCD comic\n",
    "import antigravity"
   ]
  },
  {
   "cell_type": "markdown",
   "metadata": {},
   "source": [
    "#### Topic 1 - libraries mini exercise"
   ]
  },
  {
   "cell_type": "code",
   "execution_count": null,
   "metadata": {},
   "outputs": [],
   "source": [
    "# Choose a module from the Python standard library:\n",
    "# https://docs.python.org/3/library/index.html\n",
    "\n",
    "# Import and explore this module. See how to use it in practice.\n"
   ]
  },
  {
   "cell_type": "markdown",
   "metadata": {},
   "source": [
    "## Topic 2: - Third-party Libraries\n",
    "\n",
    "In addition to the standard library, there is a collection of hundreds of thousands of libraries (modules, packages and entire frameworks) available from the [**Python Package Index**](https://pypi.org/).\n",
    "\n",
    "Third-party libraries further extend Python's already powerful capabilities and contribute to Python's popularity in fields such as web development, data science, artificial intelligence and more.\n",
    "\n",
    "---\n",
    "\n",
    "**Installing third-party libraries:**\n",
    "\n",
    "Third-party libraries need to be installed before they can be imported and used.\n",
    "\n",
    "They can be installed using the `pip` package installer.  It is a command-line tool used to install and manage Python software packages available from the Python Package Index (PyPI) or other sources.\n",
    "\n",
    "For example, the following command-line instruction will install the package named [requests](https://requests.readthedocs.io/en/latest/):\n",
    "* `pip install requests`\n",
    "\n",
    "When using Jupyter notebooks (including Google Colab) as development environment, you can run command-line instructions directly within the notebook by prefixing them with an `!` exclamation mark:\n",
    "\n",
    "* `!pip install requests`\n",
    "\n",
    "Once the package has been installed, you can import it just like any other Python package:\n",
    "* `import requests`\n",
    "\n",
    "Often, `pip` is used together with *virtual environments* to manage dependencies for specific projects. The use of virtual environments is described further in this topic.\n",
    "\n",
    "---\n",
    "\n",
    "**Third-party library lists:**\n",
    "\n",
    "- [Awesome Python](https://github.com/vinta/awesome-python)\n",
    "- [PyPI - Python Package Index](https://pypi.org/)\n",
    "\n",
    "Interesting:\n",
    "- [Python Developers Survey 2022 Results](https://lp.jetbrains.com/python-developers-survey-2022/)\n",
    "\n",
    "---\n",
    "\n",
    "Examples of Python's **third-party libraries**:\n",
    "* **Pandas**: Offers data structures and data analysis tools for working with structured data.\n",
    "* **Requests**: Simplifies making HTTP requests to web services.\n",
    "* **TensorFlow**: An open-source framework for machine learning and artificial intelligence.\n",
    "* **Flask**: A micro web framework for developing web applications."
   ]
  },
  {
   "cell_type": "code",
   "execution_count": null,
   "metadata": {},
   "outputs": [],
   "source": [
    "## Find out the total number of projects on PyPI\n",
    "## Note: this code downloads the full list of PyPI projects\n",
    "\n",
    "#import xmlrpc.client\n",
    "\n",
    "#def get_total_number_of_projects():\n",
    "#    client = xmlrpc.client.ServerProxy('https://pypi.org/pypi')\n",
    "#    return len(client.list_packages())\n",
    "\n",
    "#total_projects = get_total_number_of_projects()\n",
    "#print(f\"Total number of projects on PyPI: {total_projects}\")"
   ]
  },
  {
   "cell_type": "markdown",
   "metadata": {},
   "source": [
    "---\n",
    "\n",
    "#### Requests module\n",
    "\n",
    "Lets install the \"requests\" module:\n",
    "\n",
    "> \"Requests is an elegant and simple HTTP library for Python, built for human beings.\"\n",
    "\n",
    "https://requests.readthedocs.io/en/latest/"
   ]
  },
  {
   "cell_type": "code",
   "execution_count": null,
   "metadata": {},
   "outputs": [],
   "source": [
    "!pip install requests"
   ]
  },
  {
   "cell_type": "code",
   "execution_count": null,
   "metadata": {},
   "outputs": [],
   "source": [
    "import requests\n",
    "# the module has been installed and imported - you can use it now"
   ]
  },
  {
   "cell_type": "code",
   "execution_count": null,
   "metadata": {},
   "outputs": [],
   "source": [
    "# raw wiki text of Wikipedia article about Rīga\n",
    "url = \"https://lv.wikipedia.org/wiki/Rīga?action=raw\""
   ]
  },
  {
   "cell_type": "code",
   "execution_count": null,
   "metadata": {},
   "outputs": [],
   "source": [
    "# let's get the contents of this webpage\n",
    "result = requests.get(url)\n",
    "\n",
    "# result code \"200\" means the page was retrieved OK\n",
    "print(result.status_code)\n",
    "print()"
   ]
  },
  {
   "cell_type": "code",
   "execution_count": null,
   "metadata": {},
   "outputs": [],
   "source": [
    "text = result.text\n",
    "\n",
    "# start of the actual article in the wiki text\n",
    "position = text.index(\"'''Rīga'''\")\n",
    "\n",
    "# show a fragment of the wiki page\n",
    "print(text[position:position+800])"
   ]
  },
  {
   "cell_type": "markdown",
   "metadata": {},
   "source": [
    "---\n",
    "\n",
    "The `requests` module can also process structured JSON (JavaScript Object Notation) data:"
   ]
  },
  {
   "cell_type": "code",
   "execution_count": null,
   "metadata": {},
   "outputs": [],
   "source": [
    "json_url = \"https://jsonplaceholder.typicode.com/posts/1/comments\""
   ]
  },
  {
   "cell_type": "code",
   "execution_count": null,
   "metadata": {},
   "outputs": [],
   "source": [
    "from pprint import pprint"
   ]
  },
  {
   "cell_type": "code",
   "execution_count": null,
   "metadata": {},
   "outputs": [],
   "source": [
    "# request JSON data (HTTP GET request)\n",
    "result = requests.get(json_url)\n",
    "\n",
    "if result.status_code == 200:\n",
    "\n",
    "    # parse JSON data\n",
    "    data = result.json()\n",
    "\n",
    "    pprint(data[0])\n",
    "\n",
    "else:\n",
    "\n",
    "    print(f\"Failed to retrieve data, status code: {result.status_code}\")"
   ]
  },
  {
   "cell_type": "code",
   "execution_count": null,
   "metadata": {},
   "outputs": [],
   "source": [
    "data[0][\"name\"]"
   ]
  },
  {
   "cell_type": "code",
   "execution_count": null,
   "metadata": {},
   "outputs": [],
   "source": [
    "print(data[0])"
   ]
  },
  {
   "cell_type": "code",
   "execution_count": null,
   "metadata": {},
   "outputs": [],
   "source": [
    "pprint(data[0])"
   ]
  },
  {
   "cell_type": "code",
   "execution_count": null,
   "metadata": {},
   "outputs": [],
   "source": [
    "data"
   ]
  },
  {
   "cell_type": "markdown",
   "metadata": {},
   "source": [
    "---\n",
    "\n",
    "#### Bonus: Python virtual environments\n",
    "\n",
    "**Virtual environment** is an isolated program environment in which you can install packages independently of the system-wide Python environment.\n",
    "\n",
    "Advantages of using virtual environments:\n",
    "* prevent conflicts among versions and dependencies\n",
    "* keep the system-wide Python free of various packages used by individual projects\n",
    "* make it easier to manage multiple Python projects with differing requirements\n",
    "\n",
    "It is considered best practice to create a virtual environment for each project, isolating it from other projects.\n",
    "\n",
    "**Creating a virtual environment**\n",
    "\n",
    "To create a virtual environment, execute this command from the command line:\n",
    "\n",
    "`python -m venv venv`\n",
    "\n",
    "This command will create a new directory named `venv` containing the virtual environment.\n"
   ]
  },
  {
   "cell_type": "markdown",
   "metadata": {},
   "source": [
    "**Activating the virtual environment**\n",
    "\n",
    "Once the virtual environment is created, it needs to be activated:\n",
    "\n",
    "`source venv/bin/activate` on Linux\n",
    "\n",
    "`venv\\Scripts\\activate` on Windows\n",
    "\n",
    "After activation, your command-line prompt may show the name of the virtual environment (venv), indicating that it's currently active.\n",
    "\n",
    "With the virtual environment activated, use `pip` to install libraries and they will be installed within the virtual environment, not affecting the system-wide installation of Python.\n",
    "\n",
    "**Deactivating the virtual environment**\n",
    "\n",
    "When you're done working in the virtual environment, you can deactivate it using this command:\n",
    "\n",
    "`deactivate`"
   ]
  },
  {
   "cell_type": "code",
   "execution_count": null,
   "metadata": {},
   "outputs": [],
   "source": []
  },
  {
   "cell_type": "markdown",
   "metadata": {},
   "source": [
    "#### Topic 2 - mini exercise"
   ]
  },
  {
   "cell_type": "code",
   "execution_count": null,
   "metadata": {},
   "outputs": [],
   "source": [
    "# Choose a third-party library to explore (see third-party library lists above).\n",
    "# Import and explore this library. See how to use it in practice.\n"
   ]
  },
  {
   "cell_type": "markdown",
   "metadata": {},
   "source": [
    "## Topic 3: - Making your own modules\n",
    "\n",
    "A **Python module** is a file containing Python code, usually including functions, classes, and variables, that can be reused in other Python programs. \n",
    "\n",
    "A **Python package** is a directory that contains multiple module files, organized in a hierarchical structure. Packages allow you to bundle several modules together, making it easier to manage and distribute code.\n",
    "\n",
    "Benefits of using modules and packages:\n",
    "* keep Python files small and organized\n",
    "* reuse code across multiple files and projects\n",
    "* modularization makes collaboration easier\n",
    "* namespaces help prevent name collisions"
   ]
  },
  {
   "cell_type": "markdown",
   "metadata": {},
   "source": [
    "#### Creating a module\n",
    "\n",
    "To create and use a Python module:\n",
    "\n",
    "1) write some Python code (functions, classes, etc.) to a file (e.g. `my_file.py`)\n",
    "2) import this file from other Python code: `import my_file`\n",
    "\n",
    "When a Python module is imported, the interpreter first searches for a built-in module with that name. If not found, it then searches for the file in a list of directories given by the variable `sys.path` (including the directory the Python script was launched from):\n",
    "* [The Module Search Path](https://docs.python.org/3/tutorial/modules.html#the-module-search-path)\n",
    "\n",
    "Let's create a Python file using Jupyter's write to file command: "
   ]
  },
  {
   "cell_type": "code",
   "execution_count": null,
   "metadata": {},
   "outputs": [],
   "source": [
    "%%writefile my_module.py\n",
    "\n",
    "i = [\"apple\", \"pear\", \"orange\"]\n",
    "\n",
    "my_str = \"Sveiciens! Šis ir my_module.py piemērs.\"\n",
    "\n",
    "def func(data_in):\n",
    "    print(f\"Received argument: {data_in}\")\n",
    "\n",
    "class Test:\n",
    "    # do nothings\n",
    "    pass"
   ]
  },
  {
   "cell_type": "code",
   "execution_count": null,
   "metadata": {},
   "outputs": [],
   "source": [
    "import my_module as my"
   ]
  },
  {
   "cell_type": "code",
   "execution_count": null,
   "metadata": {},
   "outputs": [],
   "source": [
    "# all the objects defined in my_module are available for use\n",
    "\n",
    "print(my.my_str)    # text string\n",
    "print()\n",
    "\n",
    "print(my.i)         # a list\n",
    "print()\n",
    "\n",
    "my.func([1,2,3])    # a function"
   ]
  },
  {
   "cell_type": "code",
   "execution_count": null,
   "metadata": {},
   "outputs": [],
   "source": [
    "# we can also define the instances of my.Test class\n",
    "\n",
    "my_obj = my.Test()\n",
    "\n",
    "print(type(my_obj))"
   ]
  },
  {
   "cell_type": "code",
   "execution_count": null,
   "metadata": {},
   "outputs": [],
   "source": [
    "my.func(my_obj)"
   ]
  },
  {
   "cell_type": "markdown",
   "metadata": {},
   "source": [
    "#### Executing modules as Python scripts\n",
    "\n",
    "Python modules could also be executed as Python scripts:\n",
    "\n",
    "`python my_module.py <arguments>`\n",
    "\n",
    "In this case the code of the module is also executed, just as if you imported it. However, there is a difference that helps us distinguish between the two cases - when a module is imported versus when a module is run as a script:\n",
    "\n",
    "* when imported, the module's `__name__` variable is set to the name of the modules\n",
    "* when run as a script, the module's `__name__` variable is set to `__main__`\n",
    "\n",
    "You can utilize this feature to run some code when a Python module is run as a script (e.g. to demonstrate how to use this module). \n",
    "\n",
    "This feature is called \"main guard\" and it is implemented as the following `if` statement:\n",
    "\n",
    "```\n",
    "if __name__ == \"__main__\":\n",
    "    # code to run when executed as a script\n",
    "```\n",
    "\n",
    "Now we can create modules that can be both imported and run in standalone mode:"
   ]
  },
  {
   "cell_type": "code",
   "execution_count": null,
   "metadata": {},
   "outputs": [],
   "source": [
    "%%writefile my_module2.py\n",
    "\n",
    "i = [\"apple\", \"pear\", \"orange\"]\n",
    "\n",
    "my_str = \"Sveiciens! Šis ir my_module.py piemērs.\"\n",
    "\n",
    "def func(data_in):\n",
    "    print(f\"Received argument: {data_in}\")\n",
    "\n",
    "if __name__ == \"__main__\":\n",
    "    # code to run when executed as a script\n",
    "\n",
    "    print(\"Executing in standalone mode.\")\n",
    "    print(\"This code will not be executed when importing this module.\\n\")\n",
    "    func(my_str)"
   ]
  },
  {
   "cell_type": "markdown",
   "metadata": {},
   "source": [
    "Let's use a Jupyter command to execute this Python file in a standalone mode (you can also run the file directly from command line):"
   ]
  },
  {
   "cell_type": "code",
   "execution_count": null,
   "metadata": {},
   "outputs": [],
   "source": []
  },
  {
   "cell_type": "code",
   "execution_count": null,
   "metadata": {},
   "outputs": [],
   "source": [
    "%run my_module2.py"
   ]
  },
  {
   "cell_type": "code",
   "execution_count": null,
   "metadata": {},
   "outputs": [],
   "source": [
    "import my_module2\n",
    "\n",
    "print(my_module2.i)"
   ]
  },
  {
   "cell_type": "markdown",
   "metadata": {},
   "source": [
    "#### Topic 3 - mini exercise"
   ]
  },
  {
   "cell_type": "code",
   "execution_count": null,
   "metadata": {},
   "outputs": [],
   "source": [
    "# define your own module that contains some Python code (variables, functions, ...)\n",
    "# demonstrate how this module can be imported and used\n",
    "# add some code to be executed in standalone mode only (use the \"main guard\" feature)"
   ]
  },
  {
   "cell_type": "code",
   "execution_count": null,
   "metadata": {},
   "outputs": [],
   "source": []
  },
  {
   "cell_type": "markdown",
   "metadata": {},
   "source": [
    "## Lesson Overview\n",
    "\n",
    "In this lesson we have learned about:\n",
    "\n",
    "* Python standard library: importing and using built-in Python modules\n",
    "* installing, importing and using third-party libraries:\n",
    "   * installing modules using `pip`\n",
    "   * creating and using virtual environments\n",
    "* creating your own modules\n",
    "   * executing modules in standalone mode\n"
   ]
  },
  {
   "cell_type": "markdown",
   "metadata": {},
   "source": [
    "## Additional Resources\n",
    "\n",
    "### Topic 1 - resources\n",
    "\n",
    "- [The Python standard library](https://docs.python.org/3/library/)\n",
    "- [Brief Tour of the Standard Library](https://docs.python.org/3/tutorial/stdlib.html)\n",
    "\n",
    "### Topic 2 - resources\n",
    "\n",
    "- [Awesome Python list](https://github.com/vinta/awesome-python)\n",
    "- [PyPI - Python Package Index](https://pypi.org/)\n",
    "- [Python Virtual Environments: A Primer](https://realpython.com/python-virtual-environments-a-primer/)\n",
    "\n",
    "### Topic 3 - resources\n",
    "\n",
    "- [Modules](https://docs.python.org/3/tutorial/modules.html) - Python tutorial\n",
    "- [Python Modules and Packages – An Introduction](https://realpython.com/python-modules-packages/)\n"
   ]
  },
  {
   "cell_type": "code",
   "execution_count": null,
   "metadata": {},
   "outputs": [],
   "source": []
  }
 ],
 "metadata": {
  "kernelspec": {
   "display_name": "Python 3 (ipykernel)",
   "language": "python",
   "name": "python3"
  },
  "language_info": {
   "codemirror_mode": {
    "name": "ipython",
    "version": 3
   },
   "file_extension": ".py",
   "mimetype": "text/x-python",
   "name": "python",
   "nbconvert_exporter": "python",
   "pygments_lexer": "ipython3",
   "version": "3.12.5"
  }
 },
 "nbformat": 4,
 "nbformat_minor": 4
}
