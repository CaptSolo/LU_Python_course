{
 "cells": [
  {
   "cell_type": "markdown",
   "metadata": {},
   "source": [
    "![LU Logo](https://www.lu.lv/fileadmin/user_upload/LU.LV/www.lu.lv/Logo/Logo_jaunie/LU_logo_LV_horiz.png)\n"
   ]
  },
  {
   "cell_type": "markdown",
   "metadata": {},
   "source": [
    "# 5. nedēļa : Python Standarta Biblioteka, Moduļi, Pakotnes"
   ]
  },
  {
   "cell_type": "markdown",
   "metadata": {},
   "source": [
    "## Nodarbības plāns\n",
    "\n",
    "Mēs apskatīsim šādas tēmas:\n",
    "\n",
    "- Python standarta bibliotēka: importēšana un iebūvēto moduļu izmantošana.\n",
    "  - random, Counter, ...\n",
    "- citu bibliotēku importēšana: pip, virtuālās vides.\n",
    "  - requests, ...\n",
    "- savu moduļu izveide.\n",
    "\n",
    "## Prasības zināšanām pirms nodarbības\n",
    "\n",
    "- Python sintakse\n",
    "- Python pamata datu tipi\n",
    "- Python funkcijas\n",
    "\n",
    "\n",
    "## Nodarbības mērķi\n",
    "\n",
    "Nodarbības beigās studenti:\n",
    "\n",
    "- būs guvuši izpratni par Python iebūvētajām un trešo pušu bibliotēkām\n",
    "- varēs importēt un izmantot iebūvētos moduļus no Python standarta bibliotēkas\n",
    "- varēs importēt un izmantot trešo pušu bibliotēkas, izmantojot `pip`, Python pakotņu pārvaldnieku\n",
    "- sapratīs virtuālās vides konceptu un varēs izveidot un pārvaldīt virtuālās vides\n",
    "- Understand the concept of virtual environments, and how to create and manage them\n",
    "- mācēs izveidot, importēt un izmantot savus Python moduļus\n"
   ]
  },
  {
   "cell_type": "markdown",
   "metadata": {},
   "source": [
    "## 1. tēma: - Python standarta bibliotēka\n",
    "\n",
    "Python bieži aprakstā kā \"baterijas iekļautas\" - tas tiek piegādāts ar lielu skaitu bibliotēku moduļu dažādām uzdevumu veikšanai.\n",
    "\n",
    "![Batteries included](https://github.com/ValRCS/python_public_resources/blob/main/img/batteries.png?raw=true)\n",
    "\n",
    "Python moduļi ir faili, kas satur Python kodu, parasti funkcijas, mainīgos un klases, kas ir kopā ietverti, lai tos būtu viegli izmantot vēlāk.\n",
    "\n",
    "Savukārt Python standarta biblioteka ir iebūvēto moduļu kolekcija, kas tiek piegādāta kopā ar Python. Šie moduļi nodrošina funkcionalitāti dažādām kopējām uzdevumu veikšanai, piemēram, failu apstrādei, matemātiskām operācijām, tīklošanai un citiem.\n",
    "\n",
    "Lai lietotu šos moduļus, vispirms ir jāimportē tie:\n",
    "* `import module_name`\n",
    "\n",
    "Jūs varat arī izvēlēties importēt moduli un tam piešķirt citu (parasti īsāku) nosaukumu. Piemēram, šāds paziņojums importēs [Pandas datu analīzes bibliotēku](https://pandas.pydata.org/) un tam piešķirs īsāku nosaukumu `pd`:\n",
    "* `import pandas as pd`\n",
    "* Piezīme: Pandas ir ārēja bibliotēka, un tā ir jāinstalē pirms tā var tikt importēta.\n",
    "\n",
    "Jūs varat arī importēt tikai daļu no moduļa, norādot funkcijas, mainīgos un klases, ko vēlaties importēt. Piemēram, šāds paziņojums importēs `Counter` klasi no iebūvētā`collections` moduļa:\n",
    "* `from collections import Counter`\n",
    "\n",
    "---\n",
    "\n",
    "[**The Python standard library**](https://docs.python.org/3/library/) satur lielu moduļu skaitu, kas aptver dažādas uzdevumu veikšanas jomas:\n",
    "\n",
    "* **Data Types and Data Structures**: rīki darbam ar dažādiem datu tipiem, piemēram, datumiem, laikiem, kolekcijām (piemēram, sarakstiem, vārdnīcām), rindām utt.\n",
    "* **File and Directory Access**: lasīšana no un rakstīšana failos, darbs ar failu ceļiem un direktorijām (sīkāk citā nodarbībā).\n",
    "* **Networking**: rīki darbam ar dažādiem interneta protokoliem (HTTP, FTP, SMTP utt.).\n",
    "* **Concurrency**: rīki darbam ar pavedieniem, procesiem un asinhrono ievadi/izvadi.\n",
    "* **Text Processing**: regulārās izteiksmes, Unicode, teksta ietināšana un formatēšana.\n",
    "* **Mathematical Operations**: matemātiskās funkcijas, gadījuma skaitļu ģenerēšana un statistika.\n",
    "* **Database Access**: saskarnes darbam ar dažādām datu bāzēm.\n",
    "* **Debugging and Testing**: atkļūdošanas rīki, vienību testēšanas ietvaru un profilēšanas rīki.\n",
    "* **System Administration**: sistēmas administrēšana, operētājsistēmas pakalpojumu piekļuve un pārvaldīšana, komandrindas argumenti, žurnālošana utt."
   ]
  },
  {
   "cell_type": "markdown",
   "metadata": {},
   "source": [
    "### Sys modulis\n",
    "\n",
    "`sys` modulis nodrošina piekļuvi dažādiem Python interpretatora funkcijām un mainīgajiem, kas ir saistīti ar sistēmu. \n",
    "\n",
    "Dokumentācija: [sys — System-specific parameters and functions](https://docs.python.org/3/library/sys.html)\n",
    "\n",
    "Pagaidām mēs apskatīsim tikai veidu kā apskatīt Python interpretatora versiju, kas tiek izmantota.\n"
   ]
  },
  {
   "cell_type": "code",
   "execution_count": 1,
   "metadata": {},
   "outputs": [
    {
     "name": "stdout",
     "output_type": "stream",
     "text": [
      "Python interpretatora versija: 3.12.5 (tags/v3.12.5:ff3bc82, Aug  6 2024, 20:45:27) [MSC v.1940 64 bit (AMD64)]\n"
     ]
    }
   ],
   "source": [
    "# importējam sys moduli\n",
    "import sys\n",
    "# izdrukājam Python versiju\n",
    "print(f\"Python interpretatora versija: {sys.version}\")"
   ]
  },
  {
   "cell_type": "markdown",
   "metadata": {},
   "source": [
    "### Datetime modulis\n",
    "\n",
    "Datetime modulis nodrošina klases un funkcijas darbam ar datumiem un laikiem.\n",
    "\n",
    "Dokumentācija: [datetime — Basic date and time types](https://docs.python.org/3/library/datetime.html)"
   ]
  },
  {
   "cell_type": "code",
   "execution_count": 4,
   "metadata": {},
   "outputs": [
    {
     "name": "stdout",
     "output_type": "stream",
     "text": [
      "Šobrīd ir: 2024-09-25 16:47:32.339639\n",
      "Sākuma laiks: 2024-09-25 16:47:32.340537\n",
      "Beigu laiks: 2024-09-25 16:47:32.666903\n",
      "Laika starpība: 0:00:00.326366\n"
     ]
    }
   ],
   "source": [
    "# mēs importēsim tikai datetime klasi no datetime moduļa\n",
    "from datetime import datetime \n",
    "# šis ir viens no gadijumiem kad par moduļa un tā satura nosaukumiem varētu strīdēties\n",
    "\n",
    "# izdrukājam šī brīža datumu un laiku\n",
    "print(f\"Šobrīd ir: {datetime.now()}\")\n",
    "\n",
    "now = datetime.now()\n",
    "# neliels cikls, kas aizņem laiku\n",
    "for _ in range(10_000_000):\n",
    "    pass # neko nedaram, tikai pārbaudam cik daudz laika aizņem šis cikls\n",
    "later = datetime.now()\n",
    "\n",
    "# cik daudz laika aizņēma cikls\n",
    "difference = later - now  # tātad šie datateim objekti atbalsta aritmētiku\n",
    "print(f\"Sākuma laiks: {now}\")\n",
    "print(f\"Beigu laiks: {later}\")\n",
    "print(f\"Laika starpība: {difference}\")"
   ]
  },
  {
   "cell_type": "markdown",
   "metadata": {},
   "source": [
    "### Matemātikas modulis\n",
    "\n",
    "Matemātikas modulis nodrošina dažādas matemātiskas funkcijas.\n",
    "\n",
    "Dokumentācija: [math — Mathematical functions](https://docs.python.org/3/library/math.html)\n"
   ]
  },
  {
   "cell_type": "code",
   "execution_count": 6,
   "metadata": {},
   "outputs": [],
   "source": [
    "# importējam math moduli\n",
    "import math"
   ]
  },
  {
   "cell_type": "code",
   "execution_count": 7,
   "metadata": {},
   "outputs": [
    {
     "name": "stdout",
     "output_type": "stream",
     "text": [
      "Help on built-in module math:\n",
      "\n",
      "NAME\n",
      "    math\n",
      "\n",
      "DESCRIPTION\n",
      "    This module provides access to the mathematical functions\n",
      "    defined by the C standard.\n",
      "\n",
      "FUNCTIONS\n",
      "    acos(x, /)\n",
      "        Return the arc cosine (measured in radians) of x.\n",
      "\n",
      "        The result is between 0 and pi.\n",
      "\n",
      "    acosh(x, /)\n",
      "        Return the inverse hyperbolic cosine of x.\n",
      "\n",
      "    asin(x, /)\n",
      "        Return the arc sine (measured in radians) of x.\n",
      "\n",
      "        The result is between -pi/2 and pi/2.\n",
      "\n",
      "    asinh(x, /)\n",
      "        Return the inverse hyperbolic sine of x.\n",
      "\n",
      "    atan(x, /)\n",
      "        Return the arc tangent (measured in radians) of x.\n",
      "\n",
      "        The result is between -pi/2 and pi/2.\n",
      "\n",
      "    atan2(y, x, /)\n",
      "        Return the arc tangent (measured in radians) of y/x.\n",
      "\n",
      "        Unlike atan(y/x), the signs of both x and y are considered.\n",
      "\n",
      "    atanh(x, /)\n",
      "        Return the inverse hyperbolic tangent of x.\n",
      "\n",
      "    cbrt(x, /)\n",
      "        Return the cube root of x.\n",
      "\n",
      "    ceil(x, /)\n",
      "        Return the ceiling of x as an Integral.\n",
      "\n",
      "        This is the smallest integer >= x.\n",
      "\n",
      "    comb(n, k, /)\n",
      "        Number of ways to choose k items from n items without repetition and without order.\n",
      "\n",
      "        Evaluates to n! / (k! * (n - k)!) when k <= n and evaluates\n",
      "        to zero when k > n.\n",
      "\n",
      "        Also called the binomial coefficient because it is equivalent\n",
      "        to the coefficient of k-th term in polynomial expansion of the\n",
      "        expression (1 + x)**n.\n",
      "\n",
      "        Raises TypeError if either of the arguments are not integers.\n",
      "        Raises ValueError if either of the arguments are negative.\n",
      "\n",
      "    copysign(x, y, /)\n",
      "        Return a float with the magnitude (absolute value) of x but the sign of y.\n",
      "\n",
      "        On platforms that support signed zeros, copysign(1.0, -0.0)\n",
      "        returns -1.0.\n",
      "\n",
      "    cos(x, /)\n",
      "        Return the cosine of x (measured in radians).\n",
      "\n",
      "    cosh(x, /)\n",
      "        Return the hyperbolic cosine of x.\n",
      "\n",
      "    degrees(x, /)\n",
      "        Convert angle x from radians to degrees.\n",
      "\n",
      "    dist(p, q, /)\n",
      "        Return the Euclidean distance between two points p and q.\n",
      "\n",
      "        The points should be specified as sequences (or iterables) of\n",
      "        coordinates.  Both inputs must have the same dimension.\n",
      "\n",
      "        Roughly equivalent to:\n",
      "            sqrt(sum((px - qx) ** 2.0 for px, qx in zip(p, q)))\n",
      "\n",
      "    erf(x, /)\n",
      "        Error function at x.\n",
      "\n",
      "    erfc(x, /)\n",
      "        Complementary error function at x.\n",
      "\n",
      "    exp(x, /)\n",
      "        Return e raised to the power of x.\n",
      "\n",
      "    exp2(x, /)\n",
      "        Return 2 raised to the power of x.\n",
      "\n",
      "    expm1(x, /)\n",
      "        Return exp(x)-1.\n",
      "\n",
      "        This function avoids the loss of precision involved in the direct evaluation of exp(x)-1 for small x.\n",
      "\n",
      "    fabs(x, /)\n",
      "        Return the absolute value of the float x.\n",
      "\n",
      "    factorial(n, /)\n",
      "        Find n!.\n",
      "\n",
      "        Raise a ValueError if x is negative or non-integral.\n",
      "\n",
      "    floor(x, /)\n",
      "        Return the floor of x as an Integral.\n",
      "\n",
      "        This is the largest integer <= x.\n",
      "\n",
      "    fmod(x, y, /)\n",
      "        Return fmod(x, y), according to platform C.\n",
      "\n",
      "        x % y may differ.\n",
      "\n",
      "    frexp(x, /)\n",
      "        Return the mantissa and exponent of x, as pair (m, e).\n",
      "\n",
      "        m is a float and e is an int, such that x = m * 2.**e.\n",
      "        If x is 0, m and e are both 0.  Else 0.5 <= abs(m) < 1.0.\n",
      "\n",
      "    fsum(seq, /)\n",
      "        Return an accurate floating-point sum of values in the iterable seq.\n",
      "\n",
      "        Assumes IEEE-754 floating-point arithmetic.\n",
      "\n",
      "    gamma(x, /)\n",
      "        Gamma function at x.\n",
      "\n",
      "    gcd(*integers)\n",
      "        Greatest Common Divisor.\n",
      "\n",
      "    hypot(...)\n",
      "        hypot(*coordinates) -> value\n",
      "\n",
      "        Multidimensional Euclidean distance from the origin to a point.\n",
      "\n",
      "        Roughly equivalent to:\n",
      "            sqrt(sum(x**2 for x in coordinates))\n",
      "\n",
      "        For a two dimensional point (x, y), gives the hypotenuse\n",
      "        using the Pythagorean theorem:  sqrt(x*x + y*y).\n",
      "\n",
      "        For example, the hypotenuse of a 3/4/5 right triangle is:\n",
      "\n",
      "            >>> hypot(3.0, 4.0)\n",
      "            5.0\n",
      "\n",
      "    isclose(a, b, *, rel_tol=1e-09, abs_tol=0.0)\n",
      "        Determine whether two floating-point numbers are close in value.\n",
      "\n",
      "          rel_tol\n",
      "            maximum difference for being considered \"close\", relative to the\n",
      "            magnitude of the input values\n",
      "          abs_tol\n",
      "            maximum difference for being considered \"close\", regardless of the\n",
      "            magnitude of the input values\n",
      "\n",
      "        Return True if a is close in value to b, and False otherwise.\n",
      "\n",
      "        For the values to be considered close, the difference between them\n",
      "        must be smaller than at least one of the tolerances.\n",
      "\n",
      "        -inf, inf and NaN behave similarly to the IEEE 754 Standard.  That\n",
      "        is, NaN is not close to anything, even itself.  inf and -inf are\n",
      "        only close to themselves.\n",
      "\n",
      "    isfinite(x, /)\n",
      "        Return True if x is neither an infinity nor a NaN, and False otherwise.\n",
      "\n",
      "    isinf(x, /)\n",
      "        Return True if x is a positive or negative infinity, and False otherwise.\n",
      "\n",
      "    isnan(x, /)\n",
      "        Return True if x is a NaN (not a number), and False otherwise.\n",
      "\n",
      "    isqrt(n, /)\n",
      "        Return the integer part of the square root of the input.\n",
      "\n",
      "    lcm(*integers)\n",
      "        Least Common Multiple.\n",
      "\n",
      "    ldexp(x, i, /)\n",
      "        Return x * (2**i).\n",
      "\n",
      "        This is essentially the inverse of frexp().\n",
      "\n",
      "    lgamma(x, /)\n",
      "        Natural logarithm of absolute value of Gamma function at x.\n",
      "\n",
      "    log(...)\n",
      "        log(x, [base=math.e])\n",
      "        Return the logarithm of x to the given base.\n",
      "\n",
      "        If the base is not specified, returns the natural logarithm (base e) of x.\n",
      "\n",
      "    log10(x, /)\n",
      "        Return the base 10 logarithm of x.\n",
      "\n",
      "    log1p(x, /)\n",
      "        Return the natural logarithm of 1+x (base e).\n",
      "\n",
      "        The result is computed in a way which is accurate for x near zero.\n",
      "\n",
      "    log2(x, /)\n",
      "        Return the base 2 logarithm of x.\n",
      "\n",
      "    modf(x, /)\n",
      "        Return the fractional and integer parts of x.\n",
      "\n",
      "        Both results carry the sign of x and are floats.\n",
      "\n",
      "    nextafter(x, y, /, *, steps=None)\n",
      "        Return the floating-point value the given number of steps after x towards y.\n",
      "\n",
      "        If steps is not specified or is None, it defaults to 1.\n",
      "\n",
      "        Raises a TypeError, if x or y is not a double, or if steps is not an integer.\n",
      "        Raises ValueError if steps is negative.\n",
      "\n",
      "    perm(n, k=None, /)\n",
      "        Number of ways to choose k items from n items without repetition and with order.\n",
      "\n",
      "        Evaluates to n! / (n - k)! when k <= n and evaluates\n",
      "        to zero when k > n.\n",
      "\n",
      "        If k is not specified or is None, then k defaults to n\n",
      "        and the function returns n!.\n",
      "\n",
      "        Raises TypeError if either of the arguments are not integers.\n",
      "        Raises ValueError if either of the arguments are negative.\n",
      "\n",
      "    pow(x, y, /)\n",
      "        Return x**y (x to the power of y).\n",
      "\n",
      "    prod(iterable, /, *, start=1)\n",
      "        Calculate the product of all the elements in the input iterable.\n",
      "\n",
      "        The default start value for the product is 1.\n",
      "\n",
      "        When the iterable is empty, return the start value.  This function is\n",
      "        intended specifically for use with numeric values and may reject\n",
      "        non-numeric types.\n",
      "\n",
      "    radians(x, /)\n",
      "        Convert angle x from degrees to radians.\n",
      "\n",
      "    remainder(x, y, /)\n",
      "        Difference between x and the closest integer multiple of y.\n",
      "\n",
      "        Return x - n*y where n*y is the closest integer multiple of y.\n",
      "        In the case where x is exactly halfway between two multiples of\n",
      "        y, the nearest even value of n is used. The result is always exact.\n",
      "\n",
      "    sin(x, /)\n",
      "        Return the sine of x (measured in radians).\n",
      "\n",
      "    sinh(x, /)\n",
      "        Return the hyperbolic sine of x.\n",
      "\n",
      "    sqrt(x, /)\n",
      "        Return the square root of x.\n",
      "\n",
      "    sumprod(p, q, /)\n",
      "        Return the sum of products of values from two iterables p and q.\n",
      "\n",
      "        Roughly equivalent to:\n",
      "\n",
      "            sum(itertools.starmap(operator.mul, zip(p, q, strict=True)))\n",
      "\n",
      "        For float and mixed int/float inputs, the intermediate products\n",
      "        and sums are computed with extended precision.\n",
      "\n",
      "    tan(x, /)\n",
      "        Return the tangent of x (measured in radians).\n",
      "\n",
      "    tanh(x, /)\n",
      "        Return the hyperbolic tangent of x.\n",
      "\n",
      "    trunc(x, /)\n",
      "        Truncates the Real x to the nearest Integral toward 0.\n",
      "\n",
      "        Uses the __trunc__ magic method.\n",
      "\n",
      "    ulp(x, /)\n",
      "        Return the value of the least significant bit of the float x.\n",
      "\n",
      "DATA\n",
      "    e = 2.718281828459045\n",
      "    inf = inf\n",
      "    nan = nan\n",
      "    pi = 3.141592653589793\n",
      "    tau = 6.283185307179586\n",
      "\n",
      "FILE\n",
      "    (built-in)\n",
      "\n",
      "\n"
     ]
    }
   ],
   "source": [
    "# ja mums nav pieejama dokumentācija, mēs varam izmantot help funkciju\n",
    "help(math)"
   ]
  },
  {
   "cell_type": "code",
   "execution_count": 8,
   "metadata": {},
   "outputs": [
    {
     "name": "stdout",
     "output_type": "stream",
     "text": [
      "3.141592653589793\n"
     ]
    }
   ],
   "source": [
    "# pi konstante\n",
    "print(math.pi)"
   ]
  },
  {
   "cell_type": "code",
   "execution_count": 9,
   "metadata": {},
   "outputs": [
    {
     "data": {
      "text/plain": [
       "-1.0"
      ]
     },
     "execution_count": 9,
     "metadata": {},
     "output_type": "execute_result"
    }
   ],
   "source": [
    "# kosinusa funkcija\n",
    "math.cos(math.pi)"
   ]
  },
  {
   "cell_type": "markdown",
   "metadata": {},
   "source": [
    "Notice how we have to prefix module functions, classes and variables with the module name and a dot: `math.cos`\n",
    "Ievērojiet, ka mums ir jāpievieno prefikss ar moduļa nosaukumu un punktu, lai piekļūtu moduļa funkcijām, klasēm un mainīgajiem: `math.cos`\n",
    "\n",
    "Moduļiem Python ir savas vides (`namespace` angliski) nosaukumi - tie kalpo kā veids, kā izvairīties no nosaukumu konfliktiem. Kad importējat moduli, jūs būtībā ieviešat tā vidi (piemēram, `math`) savā kodā.\n",
    "\n",
    "Tā kā bieži moduļi ir visai lieli, jūs varāt importēt globālājā vidē tikai tos objektus, kas jums ir nepieciešami, izmantojot `from module import name` sintaksi. Šajā gadījumā jums nebūs nepieciešams pievienot moduļa nosaukuma prefiksu, kad atsaucaties uz importētajiem moduļa objektiem:\n"
   ]
  },
  {
   "cell_type": "code",
   "execution_count": 10,
   "metadata": {},
   "outputs": [
    {
     "data": {
      "text/plain": [
       "-1.0"
      ]
     },
     "execution_count": 10,
     "metadata": {},
     "output_type": "execute_result"
    }
   ],
   "source": [
    "from math import cos, pi\n",
    "\n",
    "cos(pi)\n",
    "# ērti bet var būt konflikti ar nosaukumiem globālajā telpā"
   ]
  },
  {
   "cell_type": "markdown",
   "metadata": {},
   "source": [
    "### Moduļu nosaukumu aliasi\n",
    "\n",
    "Kad importējat moduli, jūs varat mainīt nosaukumu (aliass), ar kuru jūsu programma atsaucas uz šo moduli.\n",
    "\n",
    "Šis ir noderīgs gadījumos, kad moduļa nosaukums ir garš vai, ja jūs vēlaties izvairīties no nosaukumu konfliktiem.\n",
    "\n",
    "Piemērs importējot kalendāra moduli [calendar module](https://docs.python.org/3/library/calendar.html):"
   ]
  },
  {
   "cell_type": "code",
   "execution_count": 11,
   "metadata": {},
   "outputs": [
    {
     "name": "stdout",
     "output_type": "stream",
     "text": [
      "    October 2024\n",
      "Mo Tu We Th Fr Sa Su\n",
      "    1  2  3  4  5  6\n",
      " 7  8  9 10 11 12 13\n",
      "14 15 16 17 18 19 20\n",
      "21 22 23 24 25 26 27\n",
      "28 29 30 31\n"
     ]
    }
   ],
   "source": [
    "import calendar as cal # tātad mēs importējam calendar moduli un to saucam par cal\n",
    "\n",
    "cal.prmonth(2024, 10) # izdrukājam oktobra mēnesi 2024 gadā"
   ]
  },
  {
   "cell_type": "markdown",
   "metadata": {},
   "source": [
    "### Moduļu satura pārskats\n",
    "\n",
    "Mēs varēsim izmantot `dir()` funkciju, lai izpētītu Python moduļu saturu.\n",
    "\n",
    "`dir()` funkcija atgriež sarakstu ar nosaukumiem lokālajā telpā vai objekta atribūtiem (piemēram, moduļa, klases vai instances). Kad to izsauc ar objektu, tas atgriež sarakstu ar atribūtiem un metodēm, kas saistīti ar šo objektu."
   ]
  },
  {
   "cell_type": "code",
   "execution_count": 12,
   "metadata": {},
   "outputs": [
    {
     "data": {
      "text/plain": [
       "['In',\n",
       " 'Out',\n",
       " '_',\n",
       " '_10',\n",
       " '_9',\n",
       " '__',\n",
       " '___',\n",
       " '__builtin__',\n",
       " '__builtins__',\n",
       " '__doc__',\n",
       " '__loader__',\n",
       " '__name__',\n",
       " '__package__',\n",
       " '__spec__',\n",
       " '__vsc_ipynb_file__',\n",
       " '_dh',\n",
       " '_i',\n",
       " '_i1',\n",
       " '_i10',\n",
       " '_i11',\n",
       " '_i12',\n",
       " '_i2',\n",
       " '_i3',\n",
       " '_i4',\n",
       " '_i5',\n",
       " '_i6',\n",
       " '_i7',\n",
       " '_i8',\n",
       " '_i9',\n",
       " '_ih',\n",
       " '_ii',\n",
       " '_iii',\n",
       " '_oh',\n",
       " 'cal',\n",
       " 'cos',\n",
       " 'datetime',\n",
       " 'difference',\n",
       " 'exit',\n",
       " 'get_ipython',\n",
       " 'later',\n",
       " 'math',\n",
       " 'now',\n",
       " 'open',\n",
       " 'pi',\n",
       " 'quit',\n",
       " 'sys']"
      ]
     },
     "execution_count": 12,
     "metadata": {},
     "output_type": "execute_result"
    }
   ],
   "source": [
    "# izsaucot dir bez argumentiem, mēs saņemam sarakstu ar visiem pieejamajiem nosaukumiem\n",
    "dir()"
   ]
  },
  {
   "cell_type": "code",
   "execution_count": 13,
   "metadata": {},
   "outputs": [
    {
     "name": "stdout",
     "output_type": "stream",
     "text": [
      "In\n",
      "Out\n",
      "cal\n",
      "cos\n",
      "datetime\n",
      "difference\n",
      "exit\n",
      "get_ipython\n",
      "later\n",
      "math\n",
      "now\n",
      "open\n",
      "pi\n",
      "quit\n",
      "sys\n"
     ]
    }
   ],
   "source": [
    "# nosaukumi, kas sākas ar pasvītrojumu ir domāti iekšējai lietošanai, varat tos pagaidām ignorēt\n",
    "\n",
    "for name in dir():\n",
    "    if not name.startswith(\"_\"):\n",
    "        print(name)\n",
    "\n",
    "# varam redzēt kas ir pieejams šajā Python interpretatorā uz doto brīdi"
   ]
  },
  {
   "cell_type": "code",
   "execution_count": 14,
   "metadata": {},
   "outputs": [],
   "source": [
    "# pārveidosim šo kodu par funkciju\n",
    "\n",
    "def print_dir(names):    \n",
    "    for name in names:\n",
    "        if not name.startswith(\"_\"):\n",
    "            print(name)"
   ]
  },
  {
   "cell_type": "code",
   "execution_count": 15,
   "metadata": {},
   "outputs": [
    {
     "name": "stdout",
     "output_type": "stream",
     "text": [
      "In\n",
      "Out\n",
      "cal\n",
      "cos\n",
      "datetime\n",
      "difference\n",
      "exit\n",
      "get_ipython\n",
      "later\n",
      "math\n",
      "name\n",
      "now\n",
      "open\n",
      "pi\n",
      "print_dir\n",
      "quit\n",
      "sys\n"
     ]
    }
   ],
   "source": [
    "print_dir(dir())"
   ]
  },
  {
   "cell_type": "markdown",
   "metadata": {},
   "source": [
    "### random - modulis gadījuma skaitļu ģenerēšanai\n",
    "\n",
    "Ši modulis implementē pseido-gadījuma skaitļu ģeneratorus dažādām sadalījumiem.\n",
    "\n",
    "https://docs.python.org/3/library/random.html"
   ]
  },
  {
   "cell_type": "code",
   "execution_count": 16,
   "metadata": {},
   "outputs": [
    {
     "name": "stdout",
     "output_type": "stream",
     "text": [
      "BPF\n",
      "LOG4\n",
      "NV_MAGICCONST\n",
      "RECIP_BPF\n",
      "Random\n",
      "SG_MAGICCONST\n",
      "SystemRandom\n",
      "TWOPI\n",
      "betavariate\n",
      "binomialvariate\n",
      "choice\n",
      "choices\n",
      "expovariate\n",
      "gammavariate\n",
      "gauss\n",
      "getrandbits\n",
      "getstate\n",
      "lognormvariate\n",
      "normalvariate\n",
      "paretovariate\n",
      "randbytes\n",
      "randint\n",
      "random\n",
      "randrange\n",
      "sample\n",
      "seed\n",
      "setstate\n",
      "shuffle\n",
      "triangular\n",
      "uniform\n",
      "vonmisesvariate\n",
      "weibullvariate\n"
     ]
    }
   ],
   "source": [
    "import random as rnd\n",
    "\n",
    "# rnd moduļa saturs\n",
    "print_dir(dir(rnd))"
   ]
  },
  {
   "cell_type": "code",
   "execution_count": null,
   "metadata": {},
   "outputs": [],
   "source": [
    "help(rnd.randint)"
   ]
  },
  {
   "cell_type": "code",
   "execution_count": 17,
   "metadata": {},
   "outputs": [
    {
     "name": "stdout",
     "output_type": "stream",
     "text": [
      "3\n",
      "2\n",
      "6\n",
      "3\n",
      "1\n",
      "4\n",
      "3\n",
      "1\n",
      "6\n",
      "4\n"
     ]
    }
   ],
   "source": [
    "# ģenerējam 10 gadījuma skaitļus no 1 līdz 6\n",
    "\n",
    "for i in range(10):\n",
    "    print(rnd.randint(1,6))"
   ]
  },
  {
   "cell_type": "code",
   "execution_count": 18,
   "metadata": {},
   "outputs": [
    {
     "data": {
      "text/plain": [
       "['apple', 'pear', 'carrot']"
      ]
     },
     "execution_count": 18,
     "metadata": {},
     "output_type": "execute_result"
    }
   ],
   "source": [
    "# nejauši izvēlamies 3 elementus no dotā saraksta\n",
    "\n",
    "rnd.sample(['apple', 'pear', 'pear', 'carrot', 'lemon', 'lime'], k=3)"
   ]
  },
  {
   "cell_type": "markdown",
   "metadata": {},
   "source": [
    "### Skaitītājs - Counter\n",
    "\n",
    "[Skaitītaja klase](https://docs.python.org/3/library/collections.html#collections.Counter) ļauj mums skaitīt *hashable* objektus. Tā ir kolekcija, kur elementi tiek glabāti kā vārdnīcas atslēgas, un to skaiti glabā kā vārdnīcas vērtības.\n",
    "\n",
    "Varam saukt Counter par vārdnīcu ar papildu funkcionalitāti."
   ]
  },
  {
   "cell_type": "code",
   "execution_count": 19,
   "metadata": {},
   "outputs": [],
   "source": [
    "from collections import Counter\n",
    "\n",
    "things_to_count = ['apple', 'pear', 'pear', 'carrot', 'lemon', 'lime', 'lime', 'lime']"
   ]
  },
  {
   "cell_type": "code",
   "execution_count": 20,
   "metadata": {},
   "outputs": [
    {
     "name": "stdout",
     "output_type": "stream",
     "text": [
      "{'apple': 1, 'pear': 2, 'carrot': 1, 'lemon': 1, 'lime': 3}\n"
     ]
    }
   ],
   "source": [
    "# ja nebūtu Counter, tad būtu jāraksta kaut kas līdzīgs šim\n",
    "temp = {}\n",
    "\n",
    "for item in things_to_count:\n",
    "    if item in temp:\n",
    "        temp[item] += 1\n",
    "    else:\n",
    "        temp[item] = 1\n",
    "\n",
    "print(temp)"
   ]
  },
  {
   "cell_type": "code",
   "execution_count": 21,
   "metadata": {},
   "outputs": [
    {
     "name": "stdout",
     "output_type": "stream",
     "text": [
      "Counter({'lime': 3, 'pear': 2, 'apple': 1, 'carrot': 1, 'lemon': 1})\n"
     ]
    }
   ],
   "source": [
    "# daudz ērtāk izmantot Counter\n",
    "cnt = Counter(things_to_count)\n",
    "\n",
    "# print count values\n",
    "print(cnt)"
   ]
  },
  {
   "cell_type": "code",
   "execution_count": 22,
   "metadata": {},
   "outputs": [
    {
     "data": {
      "text/plain": [
       "[('lime', 3), ('pear', 2), ('apple', 1)]"
      ]
     },
     "execution_count": 22,
     "metadata": {},
     "output_type": "execute_result"
    }
   ],
   "source": [
    "# top 3 biežāk sastopamie elementi\n",
    "cnt.most_common(3)"
   ]
  },
  {
   "cell_type": "code",
   "execution_count": 23,
   "metadata": {},
   "outputs": [
    {
     "name": "stdout",
     "output_type": "stream",
     "text": [
      "lime  3\n",
      "pear  2\n",
      "apple  1\n"
     ]
    }
   ],
   "source": [
    "for item, count in cnt.most_common(3):\n",
    "    print(f\"{item}  {count}\")"
   ]
  },
  {
   "cell_type": "code",
   "execution_count": null,
   "metadata": {},
   "outputs": [],
   "source": [
    "help(cnt)"
   ]
  },
  {
   "cell_type": "markdown",
   "metadata": {},
   "source": [
    "### time - modulis laika operācijām\n",
    "\n",
    "Dokumentācija: https://docs.python.org/3/library/time.html"
   ]
  },
  {
   "cell_type": "code",
   "execution_count": 24,
   "metadata": {},
   "outputs": [
    {
     "name": "stdout",
     "output_type": "stream",
     "text": [
      "time.struct_time(tm_year=2024, tm_mon=9, tm_mday=25, tm_hour=17, tm_min=0, tm_sec=51, tm_wday=2, tm_yday=269, tm_isdst=1)\n"
     ]
    }
   ],
   "source": [
    "import time\n",
    "\n",
    "print(time.localtime())"
   ]
  },
  {
   "cell_type": "code",
   "execution_count": 25,
   "metadata": {},
   "outputs": [
    {
     "data": {
      "text/plain": [
       "'Wed, 25 Sep 2024 17:01:04'"
      ]
     },
     "execution_count": 25,
     "metadata": {},
     "output_type": "execute_result"
    }
   ],
   "source": [
    "# laika formāta mainīšana\n",
    "time.strftime(\"%a, %d %b %Y %H:%M:%S\")"
   ]
  },
  {
   "cell_type": "code",
   "execution_count": 26,
   "metadata": {},
   "outputs": [
    {
     "data": {
      "text/plain": [
       "time.struct_time(tm_year=2023, tm_mon=10, tm_mday=10, tm_hour=0, tm_min=0, tm_sec=0, tm_wday=1, tm_yday=283, tm_isdst=-1)"
      ]
     },
     "execution_count": 26,
     "metadata": {},
     "output_type": "execute_result"
    }
   ],
   "source": [
    "# varam pārveidot tekstu par laiku\n",
    "time.strptime(\"10 Oct 23\", \"%d %b %y\")"
   ]
  },
  {
   "cell_type": "code",
   "execution_count": 27,
   "metadata": {},
   "outputs": [],
   "source": [
    "# nozīmīga ir arī time.sleep funkcija\n",
    "# tā aizkavē programmas darbību uz noteiktu laiku\n",
    "time.sleep(5)"
   ]
  },
  {
   "cell_type": "markdown",
   "metadata": {},
   "source": [
    "### Python \"Lieldienu olas\" - mazie jociņi\n",
    "\n",
    "Šie moduļi ir vairāk kā jociņi, nekā praktiska lietošana, bet tie ir jautri un var būt noderīgi, lai iepazītos ar Python standarta bibliotēku."
   ]
  },
  {
   "cell_type": "code",
   "execution_count": 28,
   "metadata": {},
   "outputs": [
    {
     "name": "stdout",
     "output_type": "stream",
     "text": [
      "The Zen of Python, by Tim Peters\n",
      "\n",
      "Beautiful is better than ugly.\n",
      "Explicit is better than implicit.\n",
      "Simple is better than complex.\n",
      "Complex is better than complicated.\n",
      "Flat is better than nested.\n",
      "Sparse is better than dense.\n",
      "Readability counts.\n",
      "Special cases aren't special enough to break the rules.\n",
      "Although practicality beats purity.\n",
      "Errors should never pass silently.\n",
      "Unless explicitly silenced.\n",
      "In the face of ambiguity, refuse the temptation to guess.\n",
      "There should be one-- and preferably only one --obvious way to do it.\n",
      "Although that way may not be obvious at first unless you're Dutch.\n",
      "Now is better than never.\n",
      "Although never is often better than *right* now.\n",
      "If the implementation is hard to explain, it's a bad idea.\n",
      "If the implementation is easy to explain, it may be a good idea.\n",
      "Namespaces are one honking great idea -- let's do more of those!\n"
     ]
    }
   ],
   "source": [
    "import this"
   ]
  },
  {
   "cell_type": "code",
   "execution_count": 29,
   "metadata": {},
   "outputs": [],
   "source": [
    "## XKCD comic - https://xkcd.com/353/\n",
    "import antigravity"
   ]
  },
  {
   "cell_type": "markdown",
   "metadata": {},
   "source": [
    "## Topic 2: - Third-party Libraries\n",
    "\n",
    "In addition to the standard library, there is a collection of hundreds of thousands of libraries (modules, packages and entire frameworks) available from the [**Python Package Index**](https://pypi.org/).\n",
    "\n",
    "Third-party libraries further extend Python's already powerful capabilities and contribute to Python's popularity in fields such as web development, data science, artificial intelligence and more.\n",
    "\n",
    "---\n",
    "\n",
    "**Installing third-party libraries:**\n",
    "\n",
    "Third-party libraries need to be installed before they can be imported and used.\n",
    "\n",
    "They can be installed using the `pip` package installer.  It is a command-line tool used to install and manage Python software packages available from the Python Package Index (PyPI) or other sources.\n",
    "\n",
    "For example, the following command-line instruction will install the package named [requests](https://requests.readthedocs.io/en/latest/):\n",
    "* `pip install requests`\n",
    "\n",
    "When using Jupyter notebooks (including Google Colab) as development environment, you can run command-line instructions directly within the notebook by prefixing them with an `!` exclamation mark:\n",
    "\n",
    "* `!pip install requests`\n",
    "\n",
    "Once the package has been installed, you can import it just like any other Python package:\n",
    "* `import requests`\n",
    "\n",
    "Often, `pip` is used together with *virtual environments* to manage dependencies for specific projects. The use of virtual environments is described further in this topic.\n",
    "\n",
    "---\n",
    "\n",
    "**Third-party library lists:**\n",
    "\n",
    "- [Awesome Python](https://github.com/vinta/awesome-python)\n",
    "- [PyPI - Python Package Index](https://pypi.org/)\n",
    "\n",
    "Interesting:\n",
    "- [Python Developers Survey 2022 Results](https://lp.jetbrains.com/python-developers-survey-2022/)\n",
    "\n",
    "---\n",
    "\n",
    "Examples of Python's **third-party libraries**:\n",
    "* **Pandas**: Offers data structures and data analysis tools for working with structured data.\n",
    "* **Requests**: Simplifies making HTTP requests to web services.\n",
    "* **TensorFlow**: An open-source framework for machine learning and artificial intelligence.\n",
    "* **Flask**: A micro web framework for developing web applications."
   ]
  },
  {
   "cell_type": "code",
   "execution_count": null,
   "metadata": {},
   "outputs": [],
   "source": [
    "## Find out the total number of projects on PyPI\n",
    "## Note: this code downloads the full list of PyPI projects\n",
    "\n",
    "#import xmlrpc.client\n",
    "\n",
    "#def get_total_number_of_projects():\n",
    "#    client = xmlrpc.client.ServerProxy('https://pypi.org/pypi')\n",
    "#    return len(client.list_packages())\n",
    "\n",
    "#total_projects = get_total_number_of_projects()\n",
    "#print(f\"Total number of projects on PyPI: {total_projects}\")"
   ]
  },
  {
   "cell_type": "markdown",
   "metadata": {},
   "source": [
    "---\n",
    "\n",
    "#### Requests module\n",
    "\n",
    "Lets install the \"requests\" module:\n",
    "\n",
    "> \"Requests is an elegant and simple HTTP library for Python, built for human beings.\"\n",
    "\n",
    "https://requests.readthedocs.io/en/latest/"
   ]
  },
  {
   "cell_type": "code",
   "execution_count": null,
   "metadata": {},
   "outputs": [],
   "source": [
    "!pip install requests"
   ]
  },
  {
   "cell_type": "code",
   "execution_count": null,
   "metadata": {},
   "outputs": [],
   "source": [
    "import requests\n",
    "# the module has been installed and imported - you can use it now"
   ]
  },
  {
   "cell_type": "code",
   "execution_count": null,
   "metadata": {},
   "outputs": [],
   "source": [
    "# raw wiki text of Wikipedia article about Rīga\n",
    "url = \"https://lv.wikipedia.org/wiki/Rīga?action=raw\""
   ]
  },
  {
   "cell_type": "code",
   "execution_count": null,
   "metadata": {},
   "outputs": [],
   "source": [
    "# let's get the contents of this webpage\n",
    "result = requests.get(url)\n",
    "\n",
    "# result code \"200\" means the page was retrieved OK\n",
    "print(result.status_code)\n",
    "print()"
   ]
  },
  {
   "cell_type": "code",
   "execution_count": null,
   "metadata": {},
   "outputs": [],
   "source": [
    "text = result.text\n",
    "\n",
    "# start of the actual article in the wiki text\n",
    "position = text.index(\"'''Rīga'''\")\n",
    "\n",
    "# show a fragment of the wiki page\n",
    "print(text[position:position+800])"
   ]
  },
  {
   "cell_type": "markdown",
   "metadata": {},
   "source": [
    "---\n",
    "\n",
    "The `requests` module can also process structured JSON (JavaScript Object Notation) data:"
   ]
  },
  {
   "cell_type": "code",
   "execution_count": null,
   "metadata": {},
   "outputs": [],
   "source": [
    "json_url = \"https://jsonplaceholder.typicode.com/posts/1/comments\""
   ]
  },
  {
   "cell_type": "code",
   "execution_count": null,
   "metadata": {},
   "outputs": [],
   "source": [
    "from pprint import pprint"
   ]
  },
  {
   "cell_type": "code",
   "execution_count": null,
   "metadata": {},
   "outputs": [],
   "source": [
    "# request JSON data (HTTP GET request)\n",
    "result = requests.get(json_url)\n",
    "\n",
    "if result.status_code == 200:\n",
    "\n",
    "    # parse JSON data\n",
    "    data = result.json()\n",
    "\n",
    "    pprint(data[0])\n",
    "\n",
    "else:\n",
    "\n",
    "    print(f\"Failed to retrieve data, status code: {result.status_code}\")"
   ]
  },
  {
   "cell_type": "code",
   "execution_count": null,
   "metadata": {},
   "outputs": [],
   "source": [
    "data[0][\"name\"]"
   ]
  },
  {
   "cell_type": "code",
   "execution_count": null,
   "metadata": {},
   "outputs": [],
   "source": [
    "print(data[0])"
   ]
  },
  {
   "cell_type": "code",
   "execution_count": null,
   "metadata": {},
   "outputs": [],
   "source": [
    "pprint(data[0])"
   ]
  },
  {
   "cell_type": "code",
   "execution_count": null,
   "metadata": {},
   "outputs": [],
   "source": [
    "data"
   ]
  },
  {
   "cell_type": "markdown",
   "metadata": {},
   "source": [
    "---\n",
    "\n",
    "#### Bonus: Python virtual environments\n",
    "\n",
    "**Virtual environment** is an isolated program environment in which you can install packages independently of the system-wide Python environment.\n",
    "\n",
    "Advantages of using virtual environments:\n",
    "* prevent conflicts among versions and dependencies\n",
    "* keep the system-wide Python free of various packages used by individual projects\n",
    "* make it easier to manage multiple Python projects with differing requirements\n",
    "\n",
    "It is considered best practice to create a virtual environment for each project, isolating it from other projects.\n",
    "\n",
    "**Creating a virtual environment**\n",
    "\n",
    "To create a virtual environment, execute this command from the command line:\n",
    "\n",
    "`python -m venv venv`\n",
    "\n",
    "This command will create a new directory named `venv` containing the virtual environment.\n"
   ]
  },
  {
   "cell_type": "markdown",
   "metadata": {},
   "source": [
    "**Activating the virtual environment**\n",
    "\n",
    "Once the virtual environment is created, it needs to be activated:\n",
    "\n",
    "`source venv/bin/activate` on Linux\n",
    "\n",
    "`venv\\Scripts\\activate` on Windows\n",
    "\n",
    "After activation, your command-line prompt may show the name of the virtual environment (venv), indicating that it's currently active.\n",
    "\n",
    "With the virtual environment activated, use `pip` to install libraries and they will be installed within the virtual environment, not affecting the system-wide installation of Python.\n",
    "\n",
    "**Deactivating the virtual environment**\n",
    "\n",
    "When you're done working in the virtual environment, you can deactivate it using this command:\n",
    "\n",
    "`deactivate`"
   ]
  },
  {
   "cell_type": "code",
   "execution_count": null,
   "metadata": {},
   "outputs": [],
   "source": []
  },
  {
   "cell_type": "markdown",
   "metadata": {},
   "source": [
    "#### Topic 2 - mini exercise"
   ]
  },
  {
   "cell_type": "code",
   "execution_count": null,
   "metadata": {},
   "outputs": [],
   "source": [
    "# Choose a third-party library to explore (see third-party library lists above).\n",
    "# Import and explore this library. See how to use it in practice.\n"
   ]
  },
  {
   "cell_type": "markdown",
   "metadata": {},
   "source": [
    "## Topic 3: - Making your own modules\n",
    "\n",
    "A **Python module** is a file containing Python code, usually including functions, classes, and variables, that can be reused in other Python programs. \n",
    "\n",
    "A **Python package** is a directory that contains multiple module files, organized in a hierarchical structure. Packages allow you to bundle several modules together, making it easier to manage and distribute code.\n",
    "\n",
    "Benefits of using modules and packages:\n",
    "* keep Python files small and organized\n",
    "* reuse code across multiple files and projects\n",
    "* modularization makes collaboration easier\n",
    "* namespaces help prevent name collisions"
   ]
  },
  {
   "cell_type": "markdown",
   "metadata": {},
   "source": [
    "#### Creating a module\n",
    "\n",
    "To create and use a Python module:\n",
    "\n",
    "1) write some Python code (functions, classes, etc.) to a file (e.g. `my_file.py`)\n",
    "2) import this file from other Python code: `import my_file`\n",
    "\n",
    "When a Python module is imported, the interpreter first searches for a built-in module with that name. If not found, it then searches for the file in a list of directories given by the variable `sys.path` (including the directory the Python script was launched from):\n",
    "* [The Module Search Path](https://docs.python.org/3/tutorial/modules.html#the-module-search-path)\n",
    "\n",
    "Let's create a Python file using Jupyter's write to file command: "
   ]
  },
  {
   "cell_type": "code",
   "execution_count": null,
   "metadata": {},
   "outputs": [],
   "source": [
    "%%writefile my_module.py\n",
    "\n",
    "i = [\"apple\", \"pear\", \"orange\"]\n",
    "\n",
    "my_str = \"Sveiciens! Šis ir my_module.py piemērs.\"\n",
    "\n",
    "def func(data_in):\n",
    "    print(f\"Received argument: {data_in}\")\n",
    "\n",
    "class Test:\n",
    "    # do nothings\n",
    "    pass"
   ]
  },
  {
   "cell_type": "code",
   "execution_count": null,
   "metadata": {},
   "outputs": [],
   "source": [
    "import my_module as my"
   ]
  },
  {
   "cell_type": "code",
   "execution_count": null,
   "metadata": {},
   "outputs": [],
   "source": [
    "# all the objects defined in my_module are available for use\n",
    "\n",
    "print(my.my_str)    # text string\n",
    "print()\n",
    "\n",
    "print(my.i)         # a list\n",
    "print()\n",
    "\n",
    "my.func([1,2,3])    # a function"
   ]
  },
  {
   "cell_type": "code",
   "execution_count": null,
   "metadata": {},
   "outputs": [],
   "source": [
    "# we can also define the instances of my.Test class\n",
    "\n",
    "my_obj = my.Test()\n",
    "\n",
    "print(type(my_obj))"
   ]
  },
  {
   "cell_type": "code",
   "execution_count": null,
   "metadata": {},
   "outputs": [],
   "source": [
    "my.func(my_obj)"
   ]
  },
  {
   "cell_type": "markdown",
   "metadata": {},
   "source": [
    "#### Executing modules as Python scripts\n",
    "\n",
    "Python modules could also be executed as Python scripts:\n",
    "\n",
    "`python my_module.py <arguments>`\n",
    "\n",
    "In this case the code of the module is also executed, just as if you imported it. However, there is a difference that helps us distinguish between the two cases - when a module is imported versus when a module is run as a script:\n",
    "\n",
    "* when imported, the module's `__name__` variable is set to the name of the modules\n",
    "* when run as a script, the module's `__name__` variable is set to `__main__`\n",
    "\n",
    "You can utilize this feature to run some code when a Python module is run as a script (e.g. to demonstrate how to use this module). \n",
    "\n",
    "This feature is called \"main guard\" and it is implemented as the following `if` statement:\n",
    "\n",
    "```\n",
    "if __name__ == \"__main__\":\n",
    "    # code to run when executed as a script\n",
    "```\n",
    "\n",
    "Now we can create modules that can be both imported and run in standalone mode:"
   ]
  },
  {
   "cell_type": "code",
   "execution_count": null,
   "metadata": {},
   "outputs": [],
   "source": [
    "%%writefile my_module2.py\n",
    "\n",
    "i = [\"apple\", \"pear\", \"orange\"]\n",
    "\n",
    "my_str = \"Sveiciens! Šis ir my_module.py piemērs.\"\n",
    "\n",
    "def func(data_in):\n",
    "    print(f\"Received argument: {data_in}\")\n",
    "\n",
    "if __name__ == \"__main__\":\n",
    "    # code to run when executed as a script\n",
    "\n",
    "    print(\"Executing in standalone mode.\")\n",
    "    print(\"This code will not be executed when importing this module.\\n\")\n",
    "    func(my_str)"
   ]
  },
  {
   "cell_type": "markdown",
   "metadata": {},
   "source": [
    "Let's use a Jupyter command to execute this Python file in a standalone mode (you can also run the file directly from command line):"
   ]
  },
  {
   "cell_type": "code",
   "execution_count": null,
   "metadata": {},
   "outputs": [],
   "source": []
  },
  {
   "cell_type": "code",
   "execution_count": null,
   "metadata": {},
   "outputs": [],
   "source": [
    "%run my_module2.py"
   ]
  },
  {
   "cell_type": "code",
   "execution_count": null,
   "metadata": {},
   "outputs": [],
   "source": [
    "import my_module2\n",
    "\n",
    "print(my_module2.i)"
   ]
  },
  {
   "cell_type": "markdown",
   "metadata": {},
   "source": [
    "#### Topic 3 - mini exercise"
   ]
  },
  {
   "cell_type": "code",
   "execution_count": null,
   "metadata": {},
   "outputs": [],
   "source": [
    "# define your own module that contains some Python code (variables, functions, ...)\n",
    "# demonstrate how this module can be imported and used\n",
    "# add some code to be executed in standalone mode only (use the \"main guard\" feature)"
   ]
  },
  {
   "cell_type": "code",
   "execution_count": null,
   "metadata": {},
   "outputs": [],
   "source": []
  },
  {
   "cell_type": "markdown",
   "metadata": {},
   "source": [
    "## Treniņa uzdevumi\n",
    "\n",
    "### Uzdevums 1 - standarta bibliotēka"
   ]
  },
  {
   "cell_type": "code",
   "execution_count": 30,
   "metadata": {},
   "outputs": [],
   "source": [
    "# Izvēleties moduli no Python standarta bibliotēkas un izpētiet to.\n",
    "# https://docs.python.org/3/library/index.html\n",
    "\n",
    "# importējiet izvēlēto moduli un izmantojiet vismaz trīs tā funkcijas/metodes/klases/...\n"
   ]
  },
  {
   "cell_type": "markdown",
   "metadata": {},
   "source": [
    "## Lesson Overview\n",
    "\n",
    "In this lesson we have learned about:\n",
    "\n",
    "* Python standard library: importing and using built-in Python modules\n",
    "* installing, importing and using third-party libraries:\n",
    "   * installing modules using `pip`\n",
    "   * creating and using virtual environments\n",
    "* creating your own modules\n",
    "   * executing modules in standalone mode\n"
   ]
  },
  {
   "cell_type": "markdown",
   "metadata": {},
   "source": [
    "## Additional Resources\n",
    "\n",
    "### Topic 1 - resources\n",
    "\n",
    "- [The Python standard library](https://docs.python.org/3/library/)\n",
    "- [Brief Tour of the Standard Library](https://docs.python.org/3/tutorial/stdlib.html)\n",
    "\n",
    "### Topic 2 - resources\n",
    "\n",
    "- [Awesome Python list](https://github.com/vinta/awesome-python)\n",
    "- [PyPI - Python Package Index](https://pypi.org/)\n",
    "- [Python Virtual Environments: A Primer](https://realpython.com/python-virtual-environments-a-primer/)\n",
    "\n",
    "### Topic 3 - resources\n",
    "\n",
    "- [Modules](https://docs.python.org/3/tutorial/modules.html) - Python tutorial\n",
    "- [Python Modules and Packages – An Introduction](https://realpython.com/python-modules-packages/)\n"
   ]
  },
  {
   "cell_type": "code",
   "execution_count": null,
   "metadata": {},
   "outputs": [],
   "source": []
  }
 ],
 "metadata": {
  "kernelspec": {
   "display_name": "Python 3 (ipykernel)",
   "language": "python",
   "name": "python3"
  },
  "language_info": {
   "codemirror_mode": {
    "name": "ipython",
    "version": 3
   },
   "file_extension": ".py",
   "mimetype": "text/x-python",
   "name": "python",
   "nbconvert_exporter": "python",
   "pygments_lexer": "ipython3",
   "version": "3.12.5"
  }
 },
 "nbformat": 4,
 "nbformat_minor": 4
}
