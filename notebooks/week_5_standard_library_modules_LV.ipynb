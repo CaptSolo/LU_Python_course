{
 "cells": [
  {
   "cell_type": "markdown",
   "metadata": {},
   "source": [
    "![LU Logo](https://www.lu.lv/fileadmin/user_upload/LU.LV/www.lu.lv/Logo/Logo_jaunie/LU_logo_LV_horiz.png)\n"
   ]
  },
  {
   "cell_type": "markdown",
   "metadata": {},
   "source": [
    "# 5. nedēļa : Python standarta bibliotēka, Moduļi, Pakotnes, Virtuālās vides"
   ]
  },
  {
   "cell_type": "markdown",
   "metadata": {},
   "source": [
    "## Nodarbības plāns\n",
    "\n",
    "Mēs apskatīsim šādas tēmas:\n",
    "\n",
    "- Python standarta bibliotēka: importēšana un iebūvēto moduļu izmantošana.\n",
    "  - random, Counter, ...\n",
    "- citu bibliotēku importēšana: pip, virtuālās vides.\n",
    "  - requests, ...\n",
    "- savu moduļu izveide.\n",
    "\n",
    "## Prasības zināšanām pirms nodarbības\n",
    "\n",
    "- Python sintakse\n",
    "- Python pamata datu tipi\n",
    "- Python funkcijas\n",
    "\n",
    "\n",
    "## Nodarbības mērķi\n",
    "\n",
    "Nodarbības beigās studenti:\n",
    "\n",
    "- būs guvuši izpratni par Python iebūvētajām un trešo pušu bibliotēkām\n",
    "- varēs importēt un izmantot iebūvētos moduļus no Python standarta bibliotēkas\n",
    "- varēs importēt un izmantot trešo pušu bibliotēkas, izmantojot `pip` Python pakotņu pārvaldnieku\n",
    "- sapratīs virtuālās vides konceptu un varēs izveidot un pārvaldīt virtuālās vides\n",
    "- mācēs izveidot, importēt un izmantot savus Python moduļus\n"
   ]
  },
  {
   "cell_type": "markdown",
   "metadata": {},
   "source": [
    "## 1. tēma - Python standarta bibliotēka\n",
    "\n",
    "Python bieži raksturo kā \"baterijas iekļautas\" (\"batteries included\") - tas tiek piegādāts ar lielu skaitu bibliotēku moduļu dažādu uzdevumu veikšanai.\n",
    "\n",
    "![Batteries included](https://github.com/ValRCS/python_public_resources/blob/main/img/batteries.png?raw=true)\n",
    "\n",
    "Python moduļi ir datnes, kas satur Python kodu, parasti funkcijas, mainīgos un klases, kas ir apkopoti lai tos būtu viegli izmantot vēlāk.\n",
    "\n",
    "Savukārt Python standarta biblioteka ir iebūvēto moduļu kolekcija, kas tiek piegādāta kopā ar Python. Šie moduļi nodrošina funkcionalitāti dažādu uzdevumu veikšanai, piemēram, datņu apstrādei, matemātiskām operācijām, tīklošanai un citiem.\n",
    "\n",
    "Lai lietotu šos moduļus, vispirms ir jāimportē tie:\n",
    "* `import module_name`\n",
    "\n",
    "Jūs varat arī izvēlēties importēt moduli un tam piešķirt citu (parasti īsāku) nosaukumu. Piemēram, šāda komanda importēs [Pandas datu analīzes bibliotēku](https://pandas.pydata.org/) un tai piešķirs īsāku nosaukumu `pd`:\n",
    "* `import pandas as pd`\n",
    "* Piezīme: Pandas ir ārēja bibliotēka un tā ir jāinstalē pirms tā var tikt importēta. Ārējo bibliotēku instalēšana tiek apskatīta tālāk šajā nodarbībā.\n",
    "\n",
    "Jūs varat arī importēt tikai daļu no moduļa, norādot funkcijas, mainīgos un klases, ko vēlaties importēt. Piemēram, šāda komanda importēs `Counter` klasi no iebūvētā`collections` moduļa:\n",
    "* `from collections import Counter`\n",
    "\n",
    "---\n",
    "\n",
    "[**The Python standarta bibliotēka**](https://docs.python.org/3/library/) satur lielu moduļu skaitu, kas aptver dažādas uzdevumu veikšanas jomas:\n",
    "\n",
    "* **Data Types and Data Structures**: rīki darbam ar dažādiem datu tipiem, piemēram, datumiem, laikiem, kolekcijām (sarakstiem, vārdnīcām, u.c.), teksta rindām utt.\n",
    "* **File and Directory Access**: lasīšana no un rakstīšana datnēs, darbs ar datņu ceļiem un direktorijām (sīkāk citā nodarbībā).\n",
    "* **Networking**: rīki darbam ar dažādiem interneta protokoliem (HTTP, FTP, SMTP utt.).\n",
    "* **Concurrency**: rīki darbam ar pavedieniem, procesiem un asinhrono ievadi/izvadi.\n",
    "* **Text Processing**: regulārās izteiksmes, Unicode, teksta formatēšana, u.c. darbības\n",
    "* **Mathematical Operations**: matemātiskās funkcijas, gadījuma skaitļu ģenerēšana un statistika.\n",
    "* **Database Access**: saskarnes darbam ar dažādām datubāzēm.\n",
    "* **Debugging and Testing**: atkļūdošanas rīki, vienību testēšanas ietvari un profilēšanas rīki.\n",
    "* **System Administration**: sistēmas administrēšana, operētājsistēmas pakalpojumu piekļuve un pārvaldīšana, komandrindas argumenti, žurnālošana utt."
   ]
  },
  {
   "cell_type": "markdown",
   "metadata": {},
   "source": [
    "### Sys modulis\n",
    "\n",
    "`sys` modulis nodrošina piekļuvi dažādām Python interpretatora funkcijām un mainīgajiem, kas ir saistīti ar datorsistēmu. \n",
    "\n",
    "Dokumentācija: [sys — System-specific parameters and functions](https://docs.python.org/3/library/sys.html)\n",
    "\n",
    "Pagaidām mēs apskatīsim tikai veidu kā uzzināt Python interpretatora versiju, kas šobrīd tiek izmantota.\n"
   ]
  },
  {
   "cell_type": "code",
   "execution_count": null,
   "metadata": {},
   "outputs": [],
   "source": [
    "# importējam sys moduli\n",
    "import sys\n",
    "\n",
    "# izdrukājam Python versiju\n",
    "print(f\"Python interpretatora versija: {sys.version}\")"
   ]
  },
  {
   "cell_type": "markdown",
   "metadata": {},
   "source": [
    "### Datetime modulis\n",
    "\n",
    "Datetime modulis nodrošina klases un funkcijas darbam ar datumiem un laikiem.\n",
    "\n",
    "Dokumentācija: [datetime — Basic date and time types](https://docs.python.org/3/library/datetime.html)"
   ]
  },
  {
   "cell_type": "code",
   "execution_count": null,
   "metadata": {},
   "outputs": [],
   "source": [
    "# mēs no datetime moduļa importēsim tikai datetime klasi\n",
    "from datetime import datetime \n",
    "# šis ir viens no gadijumiem kad par moduļa un tā satura nosaukumiem varētu strīdēties\n",
    "\n",
    "# izdrukājam šī brīža datumu un laiku\n",
    "print(f\"Šobrīd ir: {datetime.now()}\")\n",
    "print()\n",
    "\n",
    "now = datetime.now()\n",
    "# neliels cikls, kas aizņem laiku\n",
    "for i in range(10_000_000):\n",
    "    pass # neko nedaram, tikai pārbaudam cik daudz laika aizņem šis cikls\n",
    "later = datetime.now()\n",
    "\n",
    "# cik daudz laika aizņēma cikls\n",
    "difference = later - now  # tātad šie datetime objekti atbalsta datumu aritmētiku\n",
    "print(f\"Sākuma laiks: {now}\")\n",
    "print(f\"Beigu laiks: {later}\")\n",
    "print(f\"Laika starpība: {difference}\")"
   ]
  },
  {
   "cell_type": "markdown",
   "metadata": {},
   "source": [
    "### Matemātikas modulis\n",
    "\n",
    "Matemātikas modulis nodrošina dažādas matemātiskas funkcijas.\n",
    "\n",
    "Dokumentācija: [math — Mathematical functions](https://docs.python.org/3/library/math.html)\n"
   ]
  },
  {
   "cell_type": "code",
   "execution_count": null,
   "metadata": {},
   "outputs": [],
   "source": [
    "# importējam math moduli\n",
    "import math"
   ]
  },
  {
   "cell_type": "code",
   "execution_count": null,
   "metadata": {},
   "outputs": [],
   "source": [
    "# ja mums nav pieejama dokumentācija, mēs varam izmantot help funkciju\n",
    "help(math)"
   ]
  },
  {
   "cell_type": "code",
   "execution_count": null,
   "metadata": {},
   "outputs": [],
   "source": [
    "# pi konstante\n",
    "print(math.pi)"
   ]
  },
  {
   "cell_type": "code",
   "execution_count": null,
   "metadata": {},
   "outputs": [],
   "source": [
    "# kosinusa funkcija\n",
    "math.cos(math.pi)"
   ]
  },
  {
   "cell_type": "markdown",
   "metadata": {},
   "source": [
    "Ievērojiet, ka mums ir jāpievieno prefikss ar moduļa nosaukumu un punktu, lai piekļūtu moduļa funkcijām, klasēm un mainīgajiem: `math.cos`\n",
    "\n",
    "Python moduļiem ir savas vārdtelpas (`namespace` angliski) - tās kalpo kā veids, kā izvairīties no nosaukumu konfliktiem. Kad importējat moduli, jūs būtībā ieviešat tā vārdtelpu (piemēram, `math`) savā kodā.\n",
    "\n",
    "Tā kā bieži moduļi ir visai lieli, jūs varat izvēlēties importēt globālājā vidē tikai tos objektus, kas jums ir nepieciešami, izmantojot `from module import name` sintaksi. Šajā gadījumā jums nebūs nepieciešams pievienot moduļa nosaukuma prefiksu, kad atsaucaties uz importētajiem moduļa objektiem:"
   ]
  },
  {
   "cell_type": "code",
   "execution_count": null,
   "metadata": {},
   "outputs": [],
   "source": [
    "from math import cos, pi\n",
    "\n",
    "cos(pi)\n",
    "# ērti, bet var būt konflikti ar citiem nosaukumiem globālajā vārdtelpā"
   ]
  },
  {
   "cell_type": "markdown",
   "metadata": {},
   "source": [
    "### Moduļu nosaukumu aliasi\n",
    "\n",
    "Kad importējat moduli, jūs varat mainīt tā nosaukumu (alias), ar kuru jūsu programma atsaucas uz šo moduli.\n",
    "\n",
    "Šis ir noderīgs gadījumos, kad moduļa nosaukums ir garš vai ja jūs vēlaties izvairīties no nosaukumu konfliktiem.\n",
    "\n",
    "Piemērs importējot kalendāra moduli [calendar module](https://docs.python.org/3/library/calendar.html):"
   ]
  },
  {
   "cell_type": "code",
   "execution_count": null,
   "metadata": {},
   "outputs": [],
   "source": [
    "import calendar as cal # tātad mēs importējam calendar moduli un to saucam par cal\n",
    "\n",
    "cal.prmonth(2025, 09) # izdrukājam 2025. gada septembra mēnesi"
   ]
  },
  {
   "cell_type": "markdown",
   "metadata": {},
   "source": [
    "### Moduļu satura pārskats\n",
    "\n",
    "Lai izpētītu Python moduļu saturu, mēs varam izmantot `dir()` funkciju.\n",
    "\n",
    "`dir()` funkcija atgriež sarakstu ar nosaukumiem lokālajā telpā (local scope) vai sarakstu ar objekta (piemēram, moduļa, klases vai instances) atribūtiem. Kad to izsauc ar objektu, tas atgriež sarakstu ar atribūtiem un metodēm, kas saistīti ar šo objektu."
   ]
  },
  {
   "cell_type": "code",
   "execution_count": null,
   "metadata": {},
   "outputs": [],
   "source": [
    "# izsaucot dir bez argumentiem, mēs saņemam sarakstu ar visiem pieejamajiem nosaukumiem\n",
    "dir()"
   ]
  },
  {
   "cell_type": "code",
   "execution_count": null,
   "metadata": {},
   "outputs": [],
   "source": [
    "# nosaukumi, kas sākas ar pasvītrojumu ir domāti iekšējai lietošanai, varat tos pagaidām ignorēt\n",
    "\n",
    "for name in dir():\n",
    "    if not name.startswith(\"_\"):\n",
    "        print(name)\n",
    "\n",
    "# varam redzēt kas ir pieejams šajā Python interpretatorā uz doto brīdi"
   ]
  },
  {
   "cell_type": "code",
   "execution_count": null,
   "metadata": {},
   "outputs": [],
   "source": [
    "# pārveidosim šo kodu par funkciju\n",
    "\n",
    "def print_dir(names):    \n",
    "    for name in names:\n",
    "        if not name.startswith(\"_\"):\n",
    "            print(name)"
   ]
  },
  {
   "cell_type": "code",
   "execution_count": null,
   "metadata": {},
   "outputs": [],
   "source": [
    "print_dir(dir())"
   ]
  },
  {
   "cell_type": "markdown",
   "metadata": {},
   "source": [
    "### random - modulis gadījuma skaitļu ģenerēšanai\n",
    "\n",
    "Ši modulis implementē pseido-gadījuma skaitļu ģeneratorus dažādiem vērtību sadalījumiem.\n",
    "\n",
    "https://docs.python.org/3/library/random.html"
   ]
  },
  {
   "cell_type": "code",
   "execution_count": null,
   "metadata": {},
   "outputs": [],
   "source": [
    "import random as rnd\n",
    "\n",
    "# rnd moduļa saturs\n",
    "print_dir(dir(rnd))"
   ]
  },
  {
   "cell_type": "code",
   "execution_count": null,
   "metadata": {},
   "outputs": [],
   "source": [
    "help(rnd.randint)"
   ]
  },
  {
   "cell_type": "code",
   "execution_count": null,
   "metadata": {},
   "outputs": [],
   "source": [
    "# ģenerējam 10 gadījuma skaitļus no 1 līdz 6\n",
    "\n",
    "for i in range(10):\n",
    "    print(rnd.randint(1,6))"
   ]
  },
  {
   "cell_type": "code",
   "execution_count": null,
   "metadata": {},
   "outputs": [],
   "source": [
    "# nejauši izvēlamies 3 elementus no dotā saraksta\n",
    "\n",
    "rnd.sample(['apple', 'pear', 'pear', 'carrot', 'lemon', 'lime'], k=3)"
   ]
  },
  {
   "cell_type": "markdown",
   "metadata": {},
   "source": [
    "### Skaitītājs - Counter\n",
    "\n",
    "[Skaitītaja klase](https://docs.python.org/3/library/collections.html#collections.Counter) ļauj mums skaitīt objektus. Tā ir kolekcija, kur elementi (objekti) tiek glabāti kā vārdnīcas atslēgas, un to skaiti - kā vārdnīcas vērtības. Lai objektus varētu skaitīt, tiem ir jābūt *hashable*.\n",
    "\n",
    "Mēs `Counter` varam saukt par vārdnīcu ar papildu funkcionalitāti."
   ]
  },
  {
   "cell_type": "code",
   "execution_count": null,
   "metadata": {},
   "outputs": [],
   "source": [
    "# importējam Counter klasi\n",
    "from collections import Counter\n",
    "\n",
    "things_to_count = ['apple', 'pear', 'pear', 'carrot', 'lemon', 'lime', 'lime', 'lime']"
   ]
  },
  {
   "cell_type": "code",
   "execution_count": null,
   "metadata": {},
   "outputs": [],
   "source": [
    "# ja nebūtu Counter, tad būtu jāraksta kaut kas līdzīgs šim\n",
    "\n",
    "temp = {}\n",
    "\n",
    "for item in things_to_count:\n",
    "    if item in temp:\n",
    "        temp[item] += 1\n",
    "    else:\n",
    "        temp[item] = 1\n",
    "\n",
    "print(temp)"
   ]
  },
  {
   "cell_type": "code",
   "execution_count": null,
   "metadata": {},
   "outputs": [],
   "source": [
    "# daudz ērtāk ir izmantot Counter\n",
    "cnt = Counter(things_to_count)\n",
    "\n",
    "# print count values\n",
    "print(cnt)"
   ]
  },
  {
   "cell_type": "code",
   "execution_count": null,
   "metadata": {},
   "outputs": [],
   "source": [
    "# 3 biežāk sastopamie elementi\n",
    "cnt.most_common(3)"
   ]
  },
  {
   "cell_type": "code",
   "execution_count": null,
   "metadata": {},
   "outputs": [],
   "source": [
    "for item, count in cnt.most_common(3):\n",
    "    print(f\"{item}\\t{count}\")"
   ]
  },
  {
   "cell_type": "code",
   "execution_count": null,
   "metadata": {},
   "outputs": [],
   "source": [
    "help(cnt)"
   ]
  },
  {
   "cell_type": "markdown",
   "metadata": {},
   "source": [
    "### time - modulis laika operācijām\n",
    "\n",
    "Dokumentācija: https://docs.python.org/3/library/time.html"
   ]
  },
  {
   "cell_type": "code",
   "execution_count": null,
   "metadata": {},
   "outputs": [],
   "source": [
    "import time\n",
    "\n",
    "print(time.localtime())"
   ]
  },
  {
   "cell_type": "code",
   "execution_count": null,
   "metadata": {},
   "outputs": [],
   "source": [
    "# laika formāta norādīšana\n",
    "# https://docs.python.org/3/library/time.html#time.strftime\n",
    "time.strftime(\"%a, %d %b %Y %H:%M:%S\")"
   ]
  },
  {
   "cell_type": "code",
   "execution_count": null,
   "metadata": {},
   "outputs": [],
   "source": [
    "# varam pārveidot tekstu par laiku\n",
    "my_time = time.strptime(\"01 Oct 25\", \"%d %b %y\")\n",
    "print(my_time)\n",
    "print(time.strftime(\"%a, %d %b %Y %H:%M:%S\", my_time))"
   ]
  },
  {
   "cell_type": "code",
   "execution_count": null,
   "metadata": {},
   "outputs": [],
   "source": [
    "# nozīmīga ir arī time.sleep funkcija\n",
    "# tā aizkavē programmas darbību uz noteiktu laiku\n",
    "time.sleep(5)"
   ]
  },
  {
   "cell_type": "markdown",
   "metadata": {},
   "source": [
    "### Python \"Lieldienu olas\" - mazie jociņi\n",
    "\n",
    "Šie moduļi ir vairāk kā jociņi, nekā praktiskai lietošanai, bet tie ir jautri un var būt noderīgi, lai iepazītos ar Python standarta bibliotēku."
   ]
  },
  {
   "cell_type": "code",
   "execution_count": null,
   "metadata": {},
   "outputs": [],
   "source": [
    "import this"
   ]
  },
  {
   "cell_type": "code",
   "execution_count": null,
   "metadata": {},
   "outputs": [],
   "source": [
    "## XKCD comic - https://xkcd.com/353/\n",
    "import antigravity"
   ]
  },
  {
   "cell_type": "markdown",
   "metadata": {},
   "source": [
    "## 2. tēma - ārējās bibliotēkas\n",
    "\n",
    "Papildus Python standarta bibliotēkai ir pieejami simtiem tūkstoši citu bibliotēku (moduļu, pakotņu un pilnu ietvaru) no [**Python Package Index (PyPI)**](https://pypi.org/).\n",
    "\n",
    "Ārējās bibliotēkas papildina Python jau tā spēcīgās iespējas un veicina Python popularitāti dažādās jomās, piemēram, tīmekļa izstrādē, datu zinātnē, mākslīgajā intelektā un praktiski jebkurā citā jomā, kurā Python tiek izmantots.\n",
    "\n",
    "---\n",
    "\n",
    "### Ārējo biblioteku uzstādīšana\n",
    "\n",
    "Ārējās bibliotēkas ir jāuzstāda, pirms tās var importēt un izmantot.\n",
    "\n",
    "Tās var uzstādīt, izmantojot `pip` pakotņu pārvaldnieku. Tas ir komandrindas rīks, kas ir iekļauts kopā ar Python un ļauj uzstādīt un pārvaldīt Python pakotnes no Python Package Index vai citiem avotiem.\n",
    "\n",
    "Piemēram, šāda komandrindas instrukcija uzstādīs PyPI pakotni ar nosaukumu [requests](https://requests.readthedocs.io/en/latest/):\n",
    "\n",
    "* `pip install requests`\n",
    "\n",
    "Ja jūs kā izstrādes vidi lietojat Jupyter notebooks (ieskaitot Google Colab), jūs varat izpildīt komandrindas instrukcijas tieši notebook vidē, pievienojot tām priekšā `!` izsaukuma zīmi:\n",
    "\n",
    "* `!pip install requests`\n",
    "\n",
    "Kad pakotne ir uzstādīta, to var importēt tāpat kā jebkuru citu Python pakotni:\n",
    "* `import requests`\n",
    "\n",
    "Bieži vien `pip` tiek izmantots kopā ar *virtuālajām vidēm*, lai pārvaldītu atkarības konkrētiem projektiem. Virtuālo vižu izmantošana tiek aprakstīta tālāk šajā tēmā.\n",
    "\n",
    "---\n",
    "\n",
    "### Resursi ārējo bibliotēku meklēšanai\n",
    "\n",
    "- [Awesome Python](https://github.com/vinta/awesome-python) - jau atlasīti Python resursi\n",
    "- [PyPI - Python Package Index](https://pypi.org/) - oficiālais Python pakotņu reģistrs, kurā ir pieejamas simtiem tūkstoši Python pakotņu\n",
    "\n",
    "Interesanti:\n",
    "- [Python Developers Survey 2023 Results](https://lp.jetbrains.com/python-developers-survey-2023/)\n",
    "- [Python Developers Survey 2024 Results](https://lp.jetbrains.com/python-developers-survey-2024/)\n",
    "\n",
    "---\n",
    "\n",
    "Piemēri Python ārējām bibliotēkām:\n",
    "* **Pandas**: piedāvā datu struktūras un datu analīzes rīkus darbam ar strukturētiem datiem.\n",
    "* **Requests**: vienkāršo HTTP pieprasījumu veikšanu uz tīmekļa pakalpojumiem.\n",
    "* **TensorFlow**: atvērtā koda ietvars priekš mašīnmācīšanās un mākslīgā intelekta.\n",
    "* **Flask**: mikro-ietvars tīmekļa lietotņu izstrādei.\n"
   ]
  },
  {
   "cell_type": "markdown",
   "metadata": {},
   "source": [
    "---\n",
    "\n",
    "### Requests modulis\n",
    "\n",
    "Uzstādīsim requests moduli un izmēģināsim veikt HTTP GET pieprasījumu uz kādu tīmekļa vietni.\n",
    "\n",
    "- Apraksts: \"Requests is an elegant and simple HTTP library for Python, built for human beings.\"\n",
    "\n",
    "https://requests.readthedocs.io/en/latest/"
   ]
  },
  {
   "cell_type": "code",
   "execution_count": null,
   "metadata": {},
   "outputs": [],
   "source": [
    "!pip install requests\n",
    "# ja jau esam instalējuši requests, tad šo soli var izlaist"
   ]
  },
  {
   "cell_type": "code",
   "execution_count": null,
   "metadata": {},
   "outputs": [],
   "source": [
    "import requests\n",
    "# tagad varam sākt darboties ar requests moduli"
   ]
  },
  {
   "cell_type": "code",
   "execution_count": null,
   "metadata": {},
   "outputs": [],
   "source": [
    "# Latviskās Vikipēdijas lapa par Rīgu\t\n",
    "url = \"https://lv.wikipedia.org/wiki/Rīga?action=raw\"\n",
    "print(f\"URL: {url}\")"
   ]
  },
  {
   "cell_type": "code",
   "execution_count": null,
   "metadata": {},
   "outputs": [],
   "source": [
    "# iegūsim lapas saturu ar GET pieprasījumu\n",
    "result = requests.get(url)\n",
    "\n",
    "# apskatīsim rezultāta kodu\n",
    "# kods 200 nozīmē, ka viss ir kārtībā\n",
    "# kāds kods varētu būt, ja kaut kas būtu noticis nepareizi?\n",
    "# avots: https://developer.mozilla.org/en-US/docs/Web/HTTP/Status\n",
    "print(result.status_code)\n",
    "print()"
   ]
  },
  {
   "cell_type": "code",
   "execution_count": null,
   "metadata": {},
   "outputs": [],
   "source": [
    "text = result.text\n",
    "\n",
    "# atradīsim kur sākas teksts par Rīgu\n",
    "position = text.index(\"'''Rīga'''\")\n",
    "\n",
    "# apskatīsim nākamos 800 simbolus\n",
    "print(text[position:position+800])"
   ]
  },
  {
   "cell_type": "markdown",
   "metadata": {},
   "source": [
    "---\n",
    "\n",
    "#### JSON datu apstrāde ar requests moduli\n",
    "\n",
    "`requests` modulis var apstrādāt strukturētus JSON (JavaScript Object Notation) datus:\n"
   ]
  },
  {
   "cell_type": "code",
   "execution_count": null,
   "metadata": {},
   "outputs": [],
   "source": [
    "# izmantosim fiktīvu json datu avotu, kuru bieži izmanto piemēru veidošanai\n",
    "json_url = \"https://jsonplaceholder.typicode.com/posts/1/comments\""
   ]
  },
  {
   "cell_type": "code",
   "execution_count": null,
   "metadata": {},
   "outputs": [],
   "source": [
    "# importēsim fuknciju sarežģītāku datu struktūru pārskatāmām izdrukām\n",
    "from pprint import pprint\n",
    "\n",
    "# ši funkcija ir daļa no pprint moduļa, kas ir iebūvēts Python\n",
    "# docs: https://docs.python.org/3/library/pprint.html"
   ]
  },
  {
   "cell_type": "code",
   "execution_count": null,
   "metadata": {},
   "outputs": [],
   "source": [
    "# iegūsim datus ar GET pieprasījumu\n",
    "result = requests.get(json_url)\n",
    "\n",
    "if result.status_code == 200:\n",
    "\n",
    "    # atpazīsim / noparsēsim datus kā JSON\n",
    "    data = result.json()\n",
    "\n",
    "    pprint(data[0])\n",
    "\n",
    "else:\n",
    "\n",
    "    print(f\"Failed to retrieve data, status code: {result.status_code}\")"
   ]
  },
  {
   "cell_type": "code",
   "execution_count": null,
   "metadata": {},
   "outputs": [],
   "source": [
    "# nedaudz apskatīsim datus\n",
    "data[0][\"name\"]"
   ]
  },
  {
   "cell_type": "markdown",
   "metadata": {},
   "source": [
    "---\n",
    "\n",
    "## 3. tēma: Python virtuālās vides\n",
    "\n",
    "**Virtuālā vide** ir izolēta programmatūras vide, kurā var instalēt pakotnes neatkarīgi no sistēmas Python vides.\n",
    "\n",
    "Priekšrocības, izmantojot virtuālās vides:\n",
    "* var izvairīties no konfliktiem starp pakotņu versijām un atkarībām\n",
    "* var saglabāt sistēmas Python brīvu no dažādām pakotnēm, ko izmanto individuālie projekti\n",
    "* var vienkāršot vairāku Python projektu ar atšķirīgām prasībām pārvaldīšanu\n",
    "\n",
    "Labā prakse ir izveidot virtuālo vidi katram projektam, izolējot to no citiem projektiem.\n",
    "\n",
    "### Virtuālās vides izveide\n",
    "\n",
    "Lai izveidotu virtuālo vidi, izmantojot iebūvēto `venv` moduli, izpildiet šādu komandu no komandrindas:\n",
    "\n",
    "`python -m venv venv`\n",
    "\n",
    "Šī komanda izveidos jaunu direktoriju ar nosaukumu `venv`, kas saturēs virtuālo vidi. Otrā `venv` parametra vietā varat norādīt jebkuru citu direktorijas nosaukumu, piemēram, `python -m venv myenv`.\n",
    "\n"
   ]
  },
  {
   "cell_type": "markdown",
   "metadata": {
    "jp-MarkdownHeadingCollapsed": true
   },
   "source": [
    "### Virtuālās vides aktivizēšana\n",
    "\n",
    "Kad virtuālā vide ir izveidota, to ir nepieciešams aktivizēt:\n",
    "\n",
    "`source venv/bin/activate` - Linux, līdzīgi macOS\n",
    "\n",
    "`venv\\Scripts\\activate` - Windows Cmd\n",
    "\n",
    "`venv\\Scripts\\Activate.ps1` - Windows PowerShell\n",
    "\n",
    "Pēc aktivizācijas, jūsu komandrindas logs var parādīt virtuālās vides nosaukumu (venv), norādot, ka tā ir aktīva.\n",
    "\n",
    "Kad virtuālā vide ir aktivizēta, visas Python komandas, kas tiek izpildītas, izmantos virtuālo vidi, nevis sistēmas Python instalāciju.\n",
    "\n",
    "Daži izstrādes rīki, piemēram, Visual Studio Code, prot automātiski aktivizēt direktorijā atrodamu Python virtuālo vidi, ja šīs virtuālās vides direktorija ir nosaukta standarta veidā (piem., `venv` vai `.venv`).\n",
    "\n",
    "#### pip list\n",
    "\n",
    "Ar `pip list` komandu varat pārbaudīt visas virtuālajā vidē uzstādītās pakotnes. Sākumā šis saraksts saturēs vien pāris iebūvētās pakotnes, kas ir nepieciešamas Python darbībai.\n",
    "\n",
    "Izmantojot `pip`, jūs varat instalēt visas nepieciešamās pakotnes, kas ir nepieciešamas jūsu projektam.\n",
    "\n",
    "#### pip freeze\n",
    "\n",
    "`pip freeze` komanda parāda visas uzstādītās pakotnes, to versijas un atkarības. Šī informācija tiek saglabāta datnē `requirements.txt`, kas var tikt izmantota, lai uzstādītu visas vajadzīgās pakotnes citā Python instalācijā.\n",
    "\n",
    "Komanda: `pip freeze > requirements.txt`\n",
    "\n",
    "#### requirements.txt\n",
    "\n",
    "`requirements.txt` ir teksta datne, kas uzskaita visas nepieciešamās pakotnes un to versijas, kas ir nepieciešamas jūsu projektam.\n",
    "\n",
    "Jūs varat izmantot šo failu, lai uzstādītu visas nepieciešamās pakotnes citā Python instalācijā, izmantojot `pip install -r requirements.txt` komandu.\n",
    "\n",
    "requirements.txt vietā var būt jebkurš datnes nosaukums, bet tas ir standarta nosaukums, ko izmanto daudzi Python izstrādātāji.\n",
    "\n",
    "### Virtuālās vides deaktivizēšana\n",
    "\n",
    "Kad esat beiguši darbu ar virtuālo vidi, to var deaktivizēt, izpildot šādu komandu:\n",
    "\n",
    "`deactivate`"
   ]
  },
  {
   "cell_type": "markdown",
   "metadata": {},
   "source": [
    "### Papildus materiāli par virtuālām vidēm Python valodā\n",
    "\n",
    "Pastāv vairāki citi risinājumi, kas ļauj izveidot virtuālas vides Python valodai, piemēram:\n",
    "\n",
    "- [Anaconda](https://www.anaconda.com/) - piedāvā atlasītus risinājumus datu zinātnei un mašīnmācīšanai\n",
    "- [Pyenv](https://github.com/pyenv/pyenv)\n",
    "- [Virtualenv](https://virtualenv.pypa.io/en/latest/) - vecāks risinājums, bet joprojām izmantojams\n",
    "- [Poetry](https://python-poetry.org/) - ja vēlaties iegūt vairāk funkcionalitātes, nekā tikai virtuālās vides\n",
    "- [uv](https://docs.astral.sh/uv/) - jauns un ļoti ātrs Python pakotņu un projektu pārvaldnieks"
   ]
  },
  {
   "cell_type": "code",
   "execution_count": null,
   "metadata": {},
   "outputs": [],
   "source": [
    "\n"
   ]
  },
  {
   "cell_type": "markdown",
   "metadata": {},
   "source": [
    "## 4. tēma: - Savu moduļu izveide\n",
    "\n",
    "Savu moduļu izveide ir vienkārša un noderīga prakse, kas ļaus jums atkārtoti izmantot kodu vairākos projektos.\n",
    "\n",
    "**Python modulis** ir datne, kas satur Python kodu, parasti funkcijas, klases un mainīgos, kas var tikt izmantoti citās Python programmās.\n",
    "\n",
    "**Python pakotne** ir direktorija, kas parasti satur vairākus moduļus, organizētus hierarhiskā struktūrā. Pakotnes ļauj sapludināt vairākus moduļus kopā, padarot to kodu vieglāk pārvaldāmu un sadalāmu.\n",
    "\n",
    "Priekšrocības, izmantojot moduļus un pakotnes:\n",
    "* var uzturēt Python datnes nelielas un labi organizētas\n",
    "* var atkārtoti izmantot programmas kodu vairākās datnēs un projektos\n",
    "* modulārā koda izmantošana atvieglo sadarbību\n",
    "* vārdtelpas (namespaces) palīdz novērst nosaukumu konfliktus\n",
    "\n"
   ]
  },
  {
   "cell_type": "markdown",
   "metadata": {},
   "source": [
    "### Moduļa izveide\n",
    "\n",
    "Lai izveidotu un izmantotu Python moduli:\n",
    "\n",
    "1) uzrakstiet datnē (piemēram, `my_file.py`) Python kodu (funkcijas, klases utt.)\n",
    "2) importējiet šo datni citā Python programmā: `import my_file`\n",
    "\n",
    "Kad Python modulis ir importēts, jūs varat izmantot visas funkcijas, klases un mainīgos, kas ir definēti šajā modulī.\n",
    "\n",
    "### Moduļa meklēšanas kārtība\n",
    "\n",
    "Kad Python modulis tiek importēts, interpretators meklē šo moduli saskaņā ar noteiktu meklēšanas kārtību.\n",
    "Vispirms tas meklē iebūvētos moduļus un, ja tādi nav, tas meklē datnes direktorijās, kas ir norādītas `sys.path` sarakstā (ieskaitot direktoriju, no kuras tika palaists Python skripts).\n",
    "\n",
    "* [The Module Search Path](https://docs.python.org/3/tutorial/modules.html#the-module-search-path)\n",
    "\n",
    "Izveidosim nelielu moduli izmantojot Jupyter notebook write to file iespēju.\n"
   ]
  },
  {
   "cell_type": "code",
   "execution_count": null,
   "metadata": {},
   "outputs": [],
   "source": [
    "%%writefile my_module.py\n",
    "\n",
    "i = [\"apple\", \"pear\", \"orange\"]\n",
    "\n",
    "my_str = \"Sveiciens! Šis ir my_module.py piemērs.\"\n",
    "\n",
    "def func(data_in):\n",
    "    print(f\"Received argument: {data_in}\")\n",
    "\n",
    "class Test:\n",
    "    # do nothing\n",
    "    pass"
   ]
  },
  {
   "cell_type": "code",
   "execution_count": null,
   "metadata": {},
   "outputs": [],
   "source": [
    "# tā kā my_module.py atrodas šajā pašā direktorijā, mēs to varam importēt\n",
    "import my_module as my\n",
    "\n",
    "# ievērosim ka importējot moduli, mēs importējām to ar nosaukumu my nevis tā pilnu nosaukumu"
   ]
  },
  {
   "cell_type": "code",
   "execution_count": null,
   "metadata": {},
   "outputs": [],
   "source": [
    "# visi objekti, kas definēti my_module, ir pieejami izmantošanai\n",
    "\n",
    "print(my.my_str)    # text string\n",
    "print()\n",
    "\n",
    "print(my.i)         # a list\n",
    "print()\n",
    "\n",
    "my.func([1,2,3])    # a function"
   ]
  },
  {
   "cell_type": "code",
   "execution_count": null,
   "metadata": {},
   "outputs": [],
   "source": [
    "# mēs varam arī izmantot my.Test klasi\n",
    "\n",
    "my_obj = my.Test()\n",
    "\n",
    "print(type(my_obj))"
   ]
  },
  {
   "cell_type": "markdown",
   "metadata": {},
   "source": [
    "### Moduļu palaišana skripta veidā\n",
    "\n",
    "Python moduļus var izpildīt arī skripta (script) veidā:\n",
    "\n",
    "`python my_module.py <arguments>`\n",
    "\n",
    "Šajā gadījumā moduļa kods tiek izpildīts, tāpat kā to importējot. Tomēr ir atšķirība, kas palīdz mums atšķirt divus gadījumus - kad modulis tiek importēts un kad tas tiek izpildīts kā skripts:\t\n",
    "\n",
    "* kad tas tiek importēts, moduļa `__name__` mainīgais tiek iestatīts uz moduļa nosaukumu\n",
    "* kad tas tiek izpildīts kā skripts, moduļa `__name__` mainīgais tiek iestatīts uz `\"__main__\"`\n",
    "\n",
    "Jūs varat izmantot šo īpašību, lai izpildītu kodu tikai tad, kad Python modulis tiek izpildīts kā skripts (piemēram, lai parādītu piemēru kā izmantot šo moduli).\n",
    "\n",
    "Šo pārbaudi sauc par \"main guard\" un to implementē ar sekojošu `if` komandu:\n",
    "\n",
    "```python\n",
    "\n",
    "if __name__ == \"__main__\":\n",
    "    # code to run when executed as a script\n",
    "```\n",
    "\n",
    "Tagad mēs varam izveidot moduli, kuru var arī palaist kā skriptu:"
   ]
  },
  {
   "cell_type": "code",
   "execution_count": null,
   "metadata": {},
   "outputs": [],
   "source": [
    "%%writefile my_module2.py\n",
    "\n",
    "i = [\"apple\", \"pear\", \"orange\"]\n",
    "\n",
    "my_str = \"Sveiciens! Šis ir my_module.py piemērs.\"\n",
    "\n",
    "def func(data_in):\n",
    "    print(f\"Received argument: {data_in}\")\n",
    "\n",
    "if __name__ == \"__main__\":\n",
    "    # code to run when executed as a script\n",
    "\n",
    "    print(\"Executing in standalone mode.\")\n",
    "    print(\"This code will not be executed when importing this module.\\n\")\n",
    "    func(my_str)"
   ]
  },
  {
   "cell_type": "markdown",
   "metadata": {},
   "source": [
    "### Jupyter komandas Python skriptu izpildei\n",
    "\n",
    "Izmantosim Jupyter komandu lai izpildītu šo Python datni standalone režīmā (varat arī palaist datni tieši no komandrindas):\n"
   ]
  },
  {
   "cell_type": "code",
   "execution_count": null,
   "metadata": {},
   "outputs": [],
   "source": [
    "%run my_module2.py"
   ]
  },
  {
   "cell_type": "code",
   "execution_count": null,
   "metadata": {},
   "outputs": [],
   "source": [
    "# parasts imports\n",
    "import my_module2\n",
    "\n",
    "print(my_module2.i)"
   ]
  },
  {
   "cell_type": "markdown",
   "metadata": {},
   "source": [
    "### Pakotnes izveide\n",
    "\n",
    "Pakotne ir direktorija, kas satur vairākus Python moduļus, organizētus hierarhiskā struktūrā.\n",
    "\n",
    "Lai izveidotu Python pakotni:\n",
    "* izveidojiet direktoriju ar pakotnes nosaukumu\n",
    "* iekšā šajā direktorijā izveidojiet vienu vai vairākus Python moduļus\n",
    "\n",
    "Pakotni var importēt tāpat kā moduli, izmantojot pakotnes nosaukumu un moduļa nosaukumu, atdalot tos ar punktu:\n",
    "`import package.module`\n",
    "\n",
    "Piezīme: agrāk bija obligāti direktorijā ievietot `__init__.py` datni, lai Python interpretators saprastu, ka direktorija ir pakotne. Sākot ar Python 3.3, šī datne nav obligāta, bet to joprojām var izmantot, lai inicializētu pakotni.\n",
    "\n",
    "---\n",
    "\n",
    "#### Vārda dienu saraksts (pakotnes piemērs)\n",
    "\n",
    "https://github.com/CaptSolo/lv-namedays/\n",
    "\n",
    "Vārda dienu saraksta pakotne satur latviešu vārda dienu kalendāru un rīkus darbam ar to. To var izmantot gan kā ārējo bibliotēku, gan kā komandrindas rīku.\n"
   ]
  },
  {
   "cell_type": "markdown",
   "metadata": {},
   "source": [
    "## Treniņa uzdevumi\n",
    "\n",
    "### Uzdevums 1 - standarta bibliotēka"
   ]
  },
  {
   "cell_type": "code",
   "execution_count": null,
   "metadata": {},
   "outputs": [],
   "source": [
    "# Izvēleties moduli no Python standarta bibliotēkas un izpētiet to.\n",
    "# https://docs.python.org/3/library/index.html\n",
    "\n",
    "# importējiet izvēlēto moduli un izmantojiet vismaz trīs tā funkcijas/metodes/klases/...\n"
   ]
  },
  {
   "cell_type": "markdown",
   "metadata": {},
   "source": [
    "### Uzdevums 2 - ārējās bibliotēkas, virtuālā vide\n",
    "\n",
    "* Izvēleties ārējo bibliotēku no [PyPI](https://pypi.org/) un uzstādiet to, izmantojot `pip`.\n",
    "* Importējiet šo bibliotēku un izmēģiniet to praksē.\n",
    "* Vislabāk, ja izmantosiet bibliotēku, kas ir noderīga jūsu darbā vai hobijam.\n",
    "* Ieteicams arī izveidot virtuālo vidi šim projektam."
   ]
  },
  {
   "cell_type": "markdown",
   "metadata": {},
   "source": [
    "### Uzdevums 3 - savu moduļu izveide\n",
    "\n",
    "* definējiet savu moduli, kas satur kādu Python kodu (funkcijas, mainīgos, ...)\n",
    "* importējiet šo moduli un izmantojiet to\n",
    "* pievienojiet kādu programmas kodu, kas tiks izpildīts tikai standalone režīmā (izmantojot \"main guard\" funkcionalitāti)\n"
   ]
  },
  {
   "cell_type": "markdown",
   "metadata": {},
   "source": [
    "## Lekcijas kopsavilkums\n",
    "\n",
    "Šajā nodarbībā mēs esam apguvuši:\n",
    "\n",
    "* Python standarta bibliotēkas moduļu importēšanu un izmantošanu\n",
    "* ārējo bibliotēku importēšanu, uzstādīšanu un izmantošanu, izmantojot `pip`\n",
    "* virtuālo vidi un kā to izveidot un izmantot\n",
    "* savu moduļu izveidi un izpildi kā skriptus\n",
    "\n"
   ]
  },
  {
   "cell_type": "markdown",
   "metadata": {},
   "source": [
    "## Papildu resursi\n",
    "\n",
    "### 1. tēma - resursi\n",
    "\n",
    "- [The Python standard library](https://docs.python.org/3/library/)\n",
    "- [Brief Tour of the Standard Library](https://docs.python.org/3/tutorial/stdlib.html)\n",
    "\n",
    "### 2. tēma - resursi\n",
    "\n",
    "- [Awesome Python list](https://github.com/vinta/awesome-python)\n",
    "- [PyPI - Python Package Index](https://pypi.org/)\n",
    "\n",
    "### 3. tēma - resursi\n",
    "\n",
    "- [Python Virtual Environments: A Primer](https://realpython.com/python-virtual-environments-a-primer/)\n",
    "- [uv cheatsheet](https://mathspp.com/blog/uv-cheatsheet) - mathspp\n",
    "\n",
    "### 4. tēma - resursi\n",
    "\n",
    "- [Modules](https://docs.python.org/3/tutorial/modules.html) - Python tutorial\n",
    "- [Python Modules and Packages – An Introduction](https://realpython.com/python-modules-packages/)\n"
   ]
  },
  {
   "cell_type": "code",
   "execution_count": null,
   "metadata": {},
   "outputs": [],
   "source": []
  }
 ],
 "metadata": {
  "kernelspec": {
   "display_name": "Python 3 (ipykernel)",
   "language": "python",
   "name": "python3"
  },
  "language_info": {
   "codemirror_mode": {
    "name": "ipython",
    "version": 3
   },
   "file_extension": ".py",
   "mimetype": "text/x-python",
   "name": "python",
   "nbconvert_exporter": "python",
   "pygments_lexer": "ipython3",
   "version": "3.12.7"
  }
 },
 "nbformat": 4,
 "nbformat_minor": 4
}
