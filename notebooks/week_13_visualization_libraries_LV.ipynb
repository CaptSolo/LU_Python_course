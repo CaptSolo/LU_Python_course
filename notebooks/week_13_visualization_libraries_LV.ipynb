{
 "cells": [
  {
   "cell_type": "markdown",
   "metadata": {},
   "source": [
    "![LU Logo](https://www.lu.lv/fileadmin/user_upload/LU.LV/www.lu.lv/Logo/Logo_jaunie/LU_logo_LV_horiz.png)\n"
   ]
  },
  {
   "cell_type": "markdown",
   "metadata": {},
   "source": [
    "# Python datu vizualizācijas bibliotēkas"
   ]
  },
  {
   "cell_type": "markdown",
   "metadata": {},
   "source": []
  },
  {
   "cell_type": "markdown",
   "metadata": {},
   "source": [
    "## Nodarbības saturs\n",
    "\n",
    "Mēs apskatīsim sekojošas tēmas:\n",
    "\n",
    "* matplotlib vizualizācijas bibliotēka\n",
    "* seaborn vizualizācijas bibliotēka - papildinājums matplotlib funkcionalitātei\n",
    "* plotly vizualizācijas bibliotēka - interaktīvas vizualizācijas\n",
    "* citas vizualizācijas bibliotēkas - networkx, folium, u.c.\n",
    "\n",
    "\n",
    "## Nodarbības mērķi\n",
    "\n",
    "Nodarbības beigās Jums būtu jāspēj:\n",
    "\n",
    "* izveidot dažādus matplotlib vizualizāciju veidus\n",
    "* veidot uzlabotas vizualizācijas ar seaborn palīdzību\n",
    "* izmantot plotly lai izveidotu interaktīvas vizualizācijas\n",
    "* izveidot cita veida vizualizācijas ar networkx, folium, u.c. bibliotēkām"
   ]
  },
  {
   "cell_type": "markdown",
   "metadata": {},
   "source": []
  },
  {
   "cell_type": "markdown",
   "metadata": {},
   "source": [
    "## Pyhton datu vizualizācijas pasaule"
   ]
  },
  {
   "cell_type": "markdown",
   "metadata": {},
   "source": [
    "![Python Visualization Landscape](https://github.com/rougier/python-visualization-landscape/blob/master/landscape-colors.png?raw=true)\n",
    "\n",
    "Klikšķināma versija: [Python Visualization Landscape](https://rougier.github.io/python-visualization-landscape/landscape-colors.html)\n",
    "\n",
    "Pārskats par Python vizualizāciju bibliotēkām:\n",
    "- https://www.anaconda.com/python-data-visualization-2018-why-so-many-libraries/\n",
    "\n",
    "---"
   ]
  },
  {
   "cell_type": "markdown",
   "metadata": {},
   "source": [
    "## Motivācija\n",
    "\n",
    "[Same Stats, Different Graphs](https://www.autodeskresearch.com/publications/samestats)\n",
    "- \"Nekad netici tikai statistikai, vienmēr vizualizē datus.\" "
   ]
  },
  {
   "cell_type": "markdown",
   "metadata": {},
   "source": [
    "## 1. tēma - matplotlib datu vizualizācijas bibliotēka\n",
    "\n",
    "Skat.: Matplotlib notebook\n",
    "* week_13_visualization_libraries_Matplotlib_LV.ipynb"
   ]
  },
  {
   "cell_type": "code",
   "execution_count": null,
   "metadata": {},
   "outputs": [],
   "source": []
  },
  {
   "cell_type": "markdown",
   "metadata": {},
   "source": [
    "## 2. tēma - plotly datu vizualizācijas bibliotēka\n",
    "\n",
    "Skat.: Plotly notebook\n",
    "\n",
    "- week_13_visualization_libraries_Plotly_LV.ipynb"
   ]
  },
  {
   "cell_type": "code",
   "execution_count": 2,
   "metadata": {},
   "outputs": [],
   "source": []
  },
  {
   "cell_type": "markdown",
   "metadata": {},
   "source": [
    "## 3. tēma - citas vizualizācijas bibliotēkas"
   ]
  },
  {
   "cell_type": "markdown",
   "metadata": {},
   "source": [
    "[Pandas datu vizualizācija](https://pandas.pydata.org/pandas-docs/stable/user_guide/visualization.html)\n",
    "\n",
    "---\n"
   ]
  },
  {
   "cell_type": "markdown",
   "metadata": {},
   "source": [
    "### Karšu vizualizācija\n",
    "\n",
    "Folium (Python) + Leaflet:\n",
    "- https://python-visualization.github.io/folium/\n",
    "  - https://python-visualization.github.io/folium/quickstart.html\n",
    "  - https://github.com/ValRCS/LU-pysem/blob/master/Folium_library/FOLIUM.ipynb\n",
    "- https://melaniewalsh.github.io/Intro-Cultural-Analytics/07-Mapping/02-Custom-Maps.html\n",
    "\n",
    "Web Mapping w. Python + Leaflet:\n",
    "- https://programminghistorian.org/en/lessons/mapping-with-python-leaflet\n",
    "\n",
    "---"
   ]
  },
  {
   "cell_type": "markdown",
   "metadata": {},
   "source": [
    "### Tīklu / grafu vizualizācija\n",
    "\n",
    "NetworkX (Python):\n",
    "- [Drawing graphs with NetworkX](https://networkx.github.io/documentation/stable/tutorial.html#drawing-graphs)\n",
    "  - grafu vizualizācija tiek veikta ar Matplotlib vai Graphviz palīdzību\n",
    "- [Visualizing a NetworkX graph in the Notebook with D3.js](https://ipython-books.github.io/64-visualizing-a-networkx-graph-in-the-notebook-with-d3js/)\n",
    "  - (Jupyter + %%javascript)\n",
    "\n",
    "Python un grafu vizualizācijas:\n",
    "- Plotly: https://plot.ly/python/network-graphs/\n",
    "- PyGraphistry: https://github.com/graphistry/pygraphistry\n",
    "- PyVis: https://pyvis.readthedocs.io/en/latest/"
   ]
  }
 ],
 "metadata": {
  "kernelspec": {
   "display_name": "Python 3 (ipykernel)",
   "language": "python",
   "name": "python3"
  },
  "language_info": {
   "codemirror_mode": {
    "name": "ipython",
    "version": 3
   },
   "file_extension": ".py",
   "mimetype": "text/x-python",
   "name": "python",
   "nbconvert_exporter": "python",
   "pygments_lexer": "ipython3",
   "version": "3.12.7"
  }
 },
 "nbformat": 4,
 "nbformat_minor": 4
}
