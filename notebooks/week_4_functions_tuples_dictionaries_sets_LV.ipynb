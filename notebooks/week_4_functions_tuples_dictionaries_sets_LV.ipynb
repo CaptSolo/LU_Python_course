{
 "cells": [
  {
   "cell_type": "markdown",
   "metadata": {},
   "source": [
    "![LU Logo](https://www.df.lu.lv/fileadmin/user_upload/LU.LV/Apaksvietnes/Fakultates/www.df.lu.lv/Par_mums/Logo/DF_logo/01_DF_logo_LV.png)"
   ]
  },
  {
   "cell_type": "markdown",
   "metadata": {},
   "source": [
    "# Week 4 - korteži, funkcijas, vārdnīcas, kopas\n",
    "\n",
    "\n",
    "\n",
    "\n"
   ]
  },
  {
   "cell_type": "markdown",
   "metadata": {},
   "source": [
    "## Kopsavilkums\n",
    "\n",
    "Mēs apskatīsim sekojošos tematus:\n",
    "\n",
    "* sarakstu izveide ar īso sintaksi - (list comprehension angliski)\n",
    "* korteži - nemaināmi saraksti (tuples angliski)\n",
    "* funkcijas - koda strukturēšanai un atkārtotas izmantošanas nolūkiem\n",
    "* vārdnīcas - atslēgu-vērtību pāri (dictionary angliski)\n",
    "* kopas - nesakārtotas unikālu elementu kolekcijas\n",
    "\n",
    "\n",
    "## Nepieciešamās zināšanas\n",
    "\n",
    "* Python sintakses pamati\n",
    "* Python pamata datu tipi - strings, integers, floats, booleans\n",
    "* Python pamata operatori - +, -, *, /, %, //, **\n",
    "* zarošanās konstrukcijas - if, elif, else\n",
    "* cikli: for un while\n",
    "\n",
    "## Nodarbības mērķi\n",
    "\n",
    "Nodarbības beigās studenti varēs:\n",
    "\n",
    "* Izveidot sarakstus ar īso sintaksi\n",
    "* Izveidot un lietot kortežus\n",
    "* Izveidot un lietot funkcijas, ar un bez argumentiem\n",
    "* Izveidot un lietot vārdnīcas\n",
    "* Izveidot un lietot kopas"
   ]
  },
  {
   "cell_type": "code",
   "execution_count": 1,
   "metadata": {},
   "outputs": [
    {
     "name": "stdout",
     "output_type": "stream",
     "text": [
      "Python version: 3.12.5 (tags/v3.12.5:ff3bc82, Aug  6 2024, 20:45:27) [MSC v.1940 64 bit (AMD64)]\n"
     ]
    }
   ],
   "source": [
    "# import komandas parasti tiek liktas programmas sākumā\n",
    "\n",
    "# Python versijas pārbaude\n",
    "import sys\n",
    "print(f\"Python version: {sys.version}\")"
   ]
  },
  {
   "cell_type": "markdown",
   "metadata": {},
   "source": [
    "## 1. tēma - Sarakstu izveidošana ar īso sintaksi (list comprehension)"
   ]
  },
  {
   "cell_type": "code",
   "execution_count": 2,
   "metadata": {},
   "outputs": [
    {
     "name": "stdout",
     "output_type": "stream",
     "text": [
      "squares: [0, 1, 4, 9, 16, 25, 36, 49, 64, 81]\n"
     ]
    }
   ],
   "source": [
    "# sarakstu izveide ir bieži sastopama darbība\n",
    "# līdz ar to var būt ērti izmantot īpašu sintaksi\n",
    "\n",
    "# apskatīsim sarakstu izveidi ar standarta ciklu palīdzību\n",
    "squares = []\n",
    "\n",
    "for x in range(10):\n",
    "    squares.append(x**2)\n",
    "\n",
    "print(f\"squares: {squares}\")"
   ]
  },
  {
   "cell_type": "code",
   "execution_count": 2,
   "metadata": {},
   "outputs": [
    {
     "name": "stdout",
     "output_type": "stream",
     "text": [
      "also_squares: [0, 1, 4, 9, 16, 25, 36, 49, 64, 81]\n"
     ]
    }
   ],
   "source": [
    "# mēs varam to pašu izdarīt ar īso sintaksi - list comprehension \n",
    "also_squares = [x**2 for x in range(10)]\n",
    "\n",
    "print(f\"also_squares: {also_squares}\")"
   ]
  },
  {
   "cell_type": "code",
   "execution_count": 3,
   "metadata": {},
   "outputs": [
    {
     "name": "stdout",
     "output_type": "stream",
     "text": [
      "[0, 4, 16, 36, 64]\n"
     ]
    }
   ],
   "source": [
    "# filtrēšana izmantojot īso sintaksi\n",
    "# mēs varam pievienot if nosacījumu, lai filtrētu sarakstu, to veidojot\n",
    "# piemēram mēs varam izveidot sarakstu tikai ar pāra skaitļu kvadrātiem\n",
    "even_squares = [x**2 for x in range(10) if x % 2 == 0]\n",
    "\n",
    "print(even_squares)"
   ]
  },
  {
   "cell_type": "markdown",
   "metadata": {},
   "source": [
    "### Sarakstu izveidošanas ar īso sintaksi pilnais apraksts\n",
    "\n",
    "```python\n",
    "[expression for item in list if conditional]\n",
    "```\n",
    "\n",
    "Docs: https://docs.python.org/3/tutorial/datastructures.html#list-comprehensions\n"
   ]
  },
  {
   "cell_type": "markdown",
   "metadata": {},
   "source": [
    "### Īsās sintakses salīdzinājums ar parastu for ciklu\n",
    "\n",
    "Kad lietot īso sintaksi:\n",
    "* Kad vēlamies izveidojot jaunu sarakstu, izmantojot esošu sarakstu\n",
    "* Kad gribam pielietot funkciju visiem saraksta elementiem\n",
    "* Kad gribam filtrēt saraksta elementus\n",
    "\n",
    "Kad lietot parasto for ciklu:\n",
    "* Kad vēlamies veikt sarežģītākas darbības ar katru saraksta elementu\n"
   ]
  },
  {
   "cell_type": "markdown",
   "metadata": {},
   "source": [
    "## 2. tēma - Korteži"
   ]
  },
  {
   "cell_type": "markdown",
   "metadata": {},
   "source": [
    "### Korteži - nemaināmi saraksti\n",
    "\n",
    "- Definējam izmantojot iekavas, atdalam ar komatu.\n",
    "  - `new_tuple = (1, 2, \"string\")` \n",
    "- Korteži ir  *nemaināmi* - *immutable* , pēc kortežu definēšanas to elementus nevar mainīt.\n",
    "- Korteži ir noderīgi grupējot elementus, kuru saturu nevēlamies mainīt piemēram konkrētuIP adresi. \n",
    "- Korteži arī tiek izmantoti lai atgriestu vairākas vērtības no funkcijas (par funkcijām runāsim sīkāk šajā lekcijā).\n",
    "\n",
    "Tehniska piezīme: ja kāds korteža elements ir maināms objekts (piemēram saraksts), tad šī objekta saturu var mainīt ar attiecīgām metodēm. Tomēr pats objekts nevar tikt mainīts uz citu objektu.\n"
   ]
  },
  {
   "cell_type": "code",
   "execution_count": 4,
   "metadata": {},
   "outputs": [
    {
     "name": "stdout",
     "output_type": "stream",
     "text": [
      "Tuple length 2\n",
      "First element of the tuple 192.168.0.1\n",
      "Second element of the tuple 80\n"
     ]
    }
   ],
   "source": [
    "# izveidosim kortežu ar IP adresi un portu\n",
    "ip_port = ('192.168.0.1', 80)\n",
    "\n",
    "# cik garš ir kortežs\n",
    "print(\"Tuple length\", len(ip_port))\n",
    "\n",
    "# pirmā korteža elementa vērtība\n",
    "print(\"First element of the tuple\", ip_port[0])\n",
    "\n",
    "# otra korteža elementa vērtība\n",
    "print(\"Second element of the tuple\", ip_port[1])\n",
    "\n"
   ]
  },
  {
   "cell_type": "code",
   "execution_count": 5,
   "metadata": {},
   "outputs": [
    {
     "name": "stdout",
     "output_type": "stream",
     "text": [
      "Is 80 in the tuple? True\n",
      "Is 192 in the tuple? False\n",
      "Is string 192 in the the first element of the tuple? True\n"
     ]
    }
   ],
   "source": [
    "# vai skaitlis 80 ir mūsu kortežā?\n",
    "print(\"Is 80 in the tuple?\", 80 in ip_port)\n",
    "\n",
    "# vai skaitlis 192 ir mūsu kortežā?\n",
    "print(\"Is 192 in the tuple?\", 192 in ip_port) \n",
    "# kāpēc šis atgriež False?\n",
    "\n",
    "# vai teksts \"192\" ir pirmajā korteža elementā?\n",
    "print(\"Is string 192 in the the first element of the tuple?\", \"192\" in ip_port[0])"
   ]
  },
  {
   "cell_type": "code",
   "execution_count": 6,
   "metadata": {},
   "outputs": [
    {
     "name": "stdout",
     "output_type": "stream",
     "text": [
      "(12345, 54321, 'hello!')\n"
     ]
    }
   ],
   "source": [
    "# kortežu pakošana un atpakošana (tuple packing and unpacking)\n",
    "\n",
    "# pakošana\n",
    "t = 12345, 54321, 'hello!' # ar komatiem atdalītas vērtības tiek sapakotas kortežā\n",
    "print(t) "
   ]
  },
  {
   "cell_type": "code",
   "execution_count": 8,
   "metadata": {},
   "outputs": [
    {
     "name": "stdout",
     "output_type": "stream",
     "text": [
      "1\n",
      "2\n",
      "3\n"
     ]
    }
   ],
   "source": [
    "# kortežu atpakošana\n",
    "# kortežu atpakošana ir veids, \n",
    "# kā piešķirt korteža elementu vērtības vairākiem mainīgajiem\n",
    "\n",
    "a, b, c = 1, 2, 3\n",
    "print(a)\n",
    "print(b)\n",
    "print(c)"
   ]
  },
  {
   "cell_type": "code",
   "execution_count": 9,
   "metadata": {},
   "outputs": [
    {
     "name": "stdout",
     "output_type": "stream",
     "text": [
      "(0, 1, 2, 3, 4, 5, 6, 7, 8, 9)\n",
      "0 1 [2, 3, 4, 5, 6, 7, 8] 9\n"
     ]
    }
   ],
   "source": [
    "# ko darīt ja vēlamies atpakot tikai daļu korteža elementu?\n",
    "# mēs varēsim izmantot * operatoru\n",
    "\n",
    "numbers_tuple = tuple(range(10))\n",
    "print(numbers_tuple)\n",
    "first, second, *rest, tail = numbers_tuple\n",
    "print(first, second, rest, tail) # piezīme: rest ir saraksts, nevis kortežs\n",
    "\n",
    "# tātad šo kortežu atpakošanas paņemienu var izmantot arī sarakstiem"
   ]
  },
  {
   "cell_type": "code",
   "execution_count": 10,
   "metadata": {},
   "outputs": [
    {
     "name": "stdout",
     "output_type": "stream",
     "text": [
      "0 1 (2, 3, 4, 5, 6, 7, 8) 9\n"
     ]
    }
   ],
   "source": [
    "# griešana darbojas arī uz kortežiem\n",
    "# ja mēs nezinātu par atpakošanu, mēs varētu rīkoties šādi\t\n",
    "first = numbers_tuple[0]\n",
    "second = numbers_tuple[1]\n",
    "rest = numbers_tuple[2:-1] # sākot no 3. elementa līdz pēdējam elementam, to neieskaitot\n",
    "tail = numbers_tuple[-1]\n",
    "print(first, second, rest, tail) \n",
    "# piezīme: rest ir kortežs, nevis saraksts, tāpēc ka mēs griezām kortežu"
   ]
  },
  {
   "cell_type": "code",
   "execution_count": 12,
   "metadata": {},
   "outputs": [
    {
     "name": "stdout",
     "output_type": "stream",
     "text": [
      "1985 1955\n",
      "1955 1985\n"
     ]
    }
   ],
   "source": [
    "# kortežu pakošana un atpakošana var būt noderīga, lai apmainītu divu mainīgo vērtības\n",
    "a = 1985\n",
    "b = 1955\n",
    "print(a, b)\n",
    "a, b = b, a # interpretators strāda no labās puses uz kreiso\n",
    "# tehniski mēs veidojam kortežu labajā pusē, un tad atpakojam to kreisajā pusē\n",
    "print(a, b)"
   ]
  },
  {
   "cell_type": "code",
   "execution_count": 13,
   "metadata": {},
   "outputs": [
    {
     "name": "stdout",
     "output_type": "stream",
     "text": [
      "(1, 2, 3, [4, 5, 6], 7, 8, 9)\n",
      "(1, 2, 3, [4, 5, 6, 700], 7, 8, 9)\n",
      "(1, 2, 3, [400, 5, 6, 700], 7, 8, 9)\n",
      "(1, 2, 3, [5, 6, 400, 700], 7, 8, 9)\n",
      "(1, 2, 3, [], 7, 8, 9)\n",
      "'tuple' object does not support item assignment\n"
     ]
    }
   ],
   "source": [
    "# Korteži ir noteikta izmēra un šķietami nemainīgi\n",
    "# tomēr, ja kortežā ir kāda maināma datu struktūra, kā piemēram saraksts, \n",
    "# jūs varat mainīt šīs datu struktūras saturu\n",
    "\n",
    "# piemēram\n",
    "\n",
    "# kortežs ar sarakstu kā vienu no elementiem\n",
    "tup = (1,2,3,[4,5,6], 7, 8, 9)\n",
    "print(tup)\n",
    "# mēs varam pievienot elementu sarakstam, kas ir korteža elements\n",
    "tup[3].append(700)\n",
    "print(tup)\n",
    "# mēs varam nomainīt elementu sarakstam, kas atrodas korteža iekšpusē\n",
    "tup[3][0] = 400\n",
    "print(tup)\n",
    "# mēs varam sakārtot sarakstu, kas ir korteža elements\n",
    "tup[3].sort()\n",
    "print(tup)\n",
    "# mēs arī varam izdzēst visus saraksta elementus\n",
    "# pats saraksts paliek, bet tas ir tukšs\n",
    "tup[3].clear()\n",
    "print(tup)\n",
    "\n",
    "# mēs nevaram nomainīt pašu elementu kortežā - tas ir nemainīgs\n",
    "# piemēram, sarakstu nevar nomainīt ar citu sarakstu\n",
    "try:\n",
    "    tup[3] = [1,2,3] # te būs izņēmuma situācija\n",
    "except TypeError as e:\n",
    "    print(e)"
   ]
  },
  {
   "cell_type": "markdown",
   "metadata": {},
   "source": [
    "## 3. tēma - funkcijas"
   ]
  },
  {
   "cell_type": "markdown",
   "metadata": {},
   "source": [
    "### Funkcijas - programmu strukturēšanas pamata bloki\n",
    "\n",
    "- Funkcijas var izmantot atkārtoti, tādējādi samazinot koda apjomu un padarot to lasāmāku un vieglāk uzturamu.\n",
    "\n",
    "### Kas ir funkcija?\n",
    "\n",
    "- Funkcija ir koda bloks, kas veic konkrētu uzdevumu, kad to izsauc.\n",
    "- Funkcijai vajadzētu darīt vienu lietu un darīt to labi.\n",
    "- Citiem vārdiem sakot, funkcijai vajadzētu būt vienam mērķim.\n",
    "- Lielas funkcijas, kas veic daudz uzdevumu, ir grūti atkļūdot un uzturēt.\n",
    "\n",
    " \n",
    "Funkcijai:\n",
    "\n",
    "- [parasti] ir nosaukums (ar kuru to izsauc)\n",
    "   - `fun_nosaukums()`\n",
    "- var būt argumenti (vērtības, kuras funkcija saņem)\n",
    "   - `fun_nosaukums(argumenti)`\n",
    "- var būt atgriežamā vērtība(s)\n",
    "   - `return vertiba`\n"
   ]
  },
  {
   "cell_type": "code",
   "execution_count": 15,
   "metadata": {},
   "outputs": [],
   "source": [
    "# definēsim vienkāršu funkciju, kas izdrukā ziņojumu\n",
    "\n",
    "def greet_user(): # funkcijas nosaukumam jābūt saprotamam un jāatspoguļo funkcijas būtība\n",
    "    \"\"\"Display a simple greeting.\"\"\"\n",
    "    # \"\"\" pēc funkcijas definīcijas ir docstring, kas apraksta, ko funkcija dara\n",
    "    # tas nozīmē, ka ierakstot help(greet_user), jūs redzēsiet docstring\n",
    "    # arī lielākā daļa IDE, kad jūs virs funkcijas nosaukuma pārvietosiet peli, jūs redzēsiet docstring\n",
    "    # iespējams arī izveidot dokumentāciju ar Sphinx, kas izmanto docstring\n",
    "    # sīkāk par docstring: https://www.python.org/dev/peps/pep-0257/\n",
    "    print(\"Hello there!\")\n",
    "\n",
    "# neizsaucot funkciju, tā nedarbosies"
   ]
  },
  {
   "cell_type": "code",
   "execution_count": 16,
   "metadata": {},
   "outputs": [
    {
     "name": "stdout",
     "output_type": "stream",
     "text": [
      "Hello there!\n"
     ]
    }
   ],
   "source": [
    "# tagad mēs varēsim izsaukt funkciju\n",
    "greet_user()"
   ]
  },
  {
   "cell_type": "code",
   "execution_count": 17,
   "metadata": {},
   "outputs": [
    {
     "name": "stdout",
     "output_type": "stream",
     "text": [
      "Help on function greet_user in module __main__:\n",
      "\n",
      "greet_user()\n",
      "    Display a simple greeting.\n",
      "\n"
     ]
    }
   ],
   "source": [
    "help(greet_user)"
   ]
  },
  {
   "cell_type": "code",
   "execution_count": 18,
   "metadata": {},
   "outputs": [
    {
     "name": "stdout",
     "output_type": "stream",
     "text": [
      "Hello from Valdis! Uldis\n",
      "Hi mom! Valdis\n"
     ]
    }
   ],
   "source": [
    "# Mēs varētu vēlēties izveidot pielāgotu sveiciena funkciju\n",
    "# To var izdarīt, padodot tai vārdu un sveicienu\n",
    "\n",
    "def greet(name, greeting): # name un greeting ir parametri\n",
    "    print(f\"{greeting} {name}\")\n",
    "\n",
    "# Tehniski, kad mēs definējam funkciju, mēs definējam parametrus\n",
    "# Kad mēs izsaucam funkciju, mēs padodam argumentus\n",
    "# Šie argumenti tiek piešķirti parametriem\n",
    "greet(\"Uldis\", \"Hello from Valdis!\") # Uldis and Hello from Valdis! ir argumenti\n",
    "\n",
    "# bieži vien argumenti un parametri tiek izmantoti kā vārdi ar līdzīgu nozīmi\n",
    "\n",
    "# mēs varam izsaukt funkciju arī ar citiem argumentiem\n",
    "greet(\"Valdis\", \"Hi mom!\")"
   ]
  },
  {
   "cell_type": "code",
   "execution_count": 20,
   "metadata": {},
   "outputs": [
    {
     "name": "stdout",
     "output_type": "stream",
     "text": [
      "Hello World\n",
      "Hello Python\n",
      "Hello Latvia\n"
     ]
    }
   ],
   "source": [
    "# Python mums ļauj izveidot funkcijas ar noklusētām vērtībām\n",
    "# tas nozīmē, ka, ja mēs nepieškirsim vērtību šim parametram, tiks izmantota noklusētā vērtība\n",
    "def default_greeting(text=\"World\"):\n",
    "    print(\"Hello\", text)\n",
    "\n",
    "default_greeting()\n",
    "default_greeting(\"Python\")\n",
    "default_greeting(text=\"Latvia\") # šeit mēs izmantojam vārdu, lai norādītu, kura vērtība tiek mainīta\n",
    "# tas ir noderīgi, ja funkcijai ir vairāki parametri ar noklusētām vērtībām\n",
    "# it īpaši svarīgi tas būtu, ja ir daudz bool tipa parametru.\n",
    "# Savādāk būs grūti saprast, kuriem parametriem tiek piešķirta vērtība\n"
   ]
  },
  {
   "cell_type": "code",
   "execution_count": 21,
   "metadata": {},
   "outputs": [
    {
     "name": "stdout",
     "output_type": "stream",
     "text": [
      "5\n",
      "(9, 27)\n",
      "[16, 64]\n"
     ]
    }
   ],
   "source": [
    "# Mūsu funkcijas var ne tikai saņemt argumentus, bet arī atgriezt vērtības.\n",
    "# Tam izmanto return komandu.\n",
    "# Ja mēs neizmantojam return komandu, funkcija atgriezīs None.\n",
    "\n",
    "# Piemērs 1: atgriežam vienu vērtību\n",
    "def add(a, b):\n",
    "    return a + b\n",
    "\n",
    "# Piemērs 2: atgriežam vairākas vērtības\n",
    "def square_and_cube(x):\n",
    "    return x ** 2, x ** 3 # mēs atgriežam kortežu ar diviem elementiem\n",
    "\n",
    "def square_and_cube_list(x):\n",
    "    return [x ** 2, x ** 3] # mēs atgriežam sarakstu ar diviem elementiem\n",
    "    \n",
    "print(add(2, 3))\n",
    "print(square_and_cube(3))\n",
    "print(square_and_cube_list(4))"
   ]
  },
  {
   "cell_type": "code",
   "execution_count": 22,
   "metadata": {},
   "outputs": [
    {
     "name": "stdout",
     "output_type": "stream",
     "text": [
      "Kaut kāds teksts\n"
     ]
    }
   ],
   "source": [
    "# Jāpiemin ka Python interpretators nepārbauda funkciju argumentu datu tipus\n",
    "print(add(\"Kaut kāds\", \" teksts\"))"
   ]
  },
  {
   "cell_type": "code",
   "execution_count": 23,
   "metadata": {},
   "outputs": [
    {
     "name": "stdout",
     "output_type": "stream",
     "text": [
      "3\n",
      "(9, 27)\n",
      "9 27\n"
     ]
    }
   ],
   "source": [
    "# ja funkcija atgriež vērtību, mēs to varam saglabāt mainīgajā\n",
    "add_result = add(1, 2)\n",
    "print(add_result)\n",
    "my_tuple = square_and_cube(3)\n",
    "print(my_tuple)\n",
    "square, cube = square_and_cube(3) # izmantosim atpakošanu\n",
    "print(square, cube)\n"
   ]
  },
  {
   "cell_type": "markdown",
   "metadata": {},
   "source": [
    "### Brīdinājums: Nelietojiet maināmus objektus kā noklusējuma argumentus funkcijām"
   ]
  },
  {
   "cell_type": "code",
   "execution_count": 25,
   "metadata": {},
   "outputs": [
    {
     "name": "stdout",
     "output_type": "stream",
     "text": [
      "['baz']\n",
      "['baz', 'baz']\n",
      "****************************************\n",
      "['baz']\n",
      "['baz']\n",
      "['baz']\n",
      "['baz']\n"
     ]
    }
   ],
   "source": [
    "# Jāuzmantās definējot noklusētās vērtības\n",
    "# 99.9% gadījumu jums vajadzētu izmantot nemainīgus objektus kā noklusētās vērtības\n",
    "# savādak var sanākt neparedzēti rezultāti\n",
    "\n",
    "def foo(bar=[]):\n",
    "    bar.append(\"baz\")\n",
    "    return bar\n",
    "\n",
    "print(foo())\n",
    "print(foo()) \n",
    "# kas notika šeit?\n",
    "# šeit tika izveidots tikai viens saraksts, un tas tika modificēts divreiz\n",
    "# visticamāk, tas nav tas, ko jūs vēlaties\n",
    "# tas ir tāpēc, ka noklusētās vērtības tiek piešķirtas funkcijas definīcijas laikā\n",
    "print(\"*\"*40)\n",
    "# pamēģināsim vēlreiz\n",
    "# šis būtu piemērotākais veids, kā to izdarīt, ja tiešam vajag sarakstu kā noklusēto vērtību\n",
    "def foo_corrected(bar=None):\n",
    "    if bar is None:\n",
    "        bar = []\n",
    "    bar.append(\"baz\")\n",
    "    return bar\n",
    "\n",
    "print(foo_corrected())\n",
    "print(foo_corrected())\n",
    "\n",
    "# varējam arī padot jaunu sarakstu kā argumentu\n",
    "print(foo([]))\n",
    "print(foo([]))\n",
    "\n",
    "# key takeway - use immutable objects as default values\n",
    "# galvenais secinājums - izmantojiet nemainīgus objektus kā noklusētās vērtības, piemēram None, kortēžus, skaitļus"
   ]
  },
  {
   "cell_type": "markdown",
   "metadata": {},
   "source": [
    "### Funkcijas ar patvaļīgu argumentu skaitu"
   ]
  },
  {
   "cell_type": "code",
   "execution_count": 27,
   "metadata": {},
   "outputs": [
    {
     "name": "stdout",
     "output_type": "stream",
     "text": [
      "Supplied arguments: ()\n",
      "0\n",
      "Supplied arguments: (1, 2, 3, 4, 5)\n",
      "15\n",
      "****************************************\n",
      "Supplied arguments: ()\n",
      "1\n",
      "Supplied arguments: (1, 2, 3, 4, 5)\n",
      "120\n"
     ]
    }
   ],
   "source": [
    "\n",
    "# mēs varam izveidot funkciju, kas pieņem patvaļīgu argumentu skaitu\n",
    "# šim nolūkam mēs varam izmantot *args\n",
    "# args ir tikai mainīgā nosaukums, mēs varam izmantot jebkuru nosaukumu, ko vēlamies\n",
    "\n",
    "\n",
    "def my_sum(*args):\n",
    "    print(f\"Supplied arguments: {args}\")\n",
    "    return sum(args)\n",
    "\n",
    "def my_product(*args):\n",
    "    print(f\"Supplied arguments: {args}\")\n",
    "    product = 1 # svarīgi, jo reizināšanas vienība ir 1\n",
    "    for arg in args:\n",
    "        product *= arg\n",
    "    return product\n",
    "\n",
    "print(my_sum())\n",
    "print(my_sum(1,2,3,4,5))\n",
    "print(\"*\"*40)\n",
    "print(my_product())\n",
    "print(my_product(1,2,3,4,5))\n",
    "\n"
   ]
  },
  {
   "cell_type": "code",
   "execution_count": 28,
   "metadata": {},
   "outputs": [
    {
     "name": "stdout",
     "output_type": "stream",
     "text": [
      "1 2 (3, 4, 5)\n"
     ]
    },
    {
     "data": {
      "text/plain": [
       "15"
      ]
     },
     "execution_count": 28,
     "metadata": {},
     "output_type": "execute_result"
    }
   ],
   "source": [
    "# mēs varam kombinēt pozicionālos un mainīgos argumentus\n",
    "def my_function(a, b, *args):\n",
    "    \"\"\"\n",
    "    Šī funkcija ņem divus pozicionālos argumentus un mainīgu skaitu papildus argumentu\n",
    "    un saskaita tos visus.\n",
    "    Argumenti:\n",
    "        a: pozicionāls arguments\n",
    "        b: pozicionāls arguments\n",
    "        args: kortežs ar mainīgu skaitu argumentu   \n",
    "    Atgriež:\n",
    "        Visu argumentu summu        \n",
    "        \"\"\"\n",
    "    print(a, b, args)\n",
    "    return a + b + sum(args)\n",
    "\n",
    "my_function(1, 2, 3, 4, 5)\n"
   ]
  },
  {
   "cell_type": "markdown",
   "metadata": {},
   "source": [
    "### Funkciju datu tipu norādīšana"
   ]
  },
  {
   "cell_type": "code",
   "execution_count": 30,
   "metadata": {},
   "outputs": [
    {
     "name": "stdout",
     "output_type": "stream",
     "text": [
      "3\n",
      "ab\n"
     ]
    }
   ],
   "source": [
    "# Mēs varam izmantot tipu norādījumus, lai norādītu funkcijas argumentu tipus\n",
    "# Mēs varam izmantot tipu norādījumus, lai norādītu funkcijas atgriezto vērtību tipu\n",
    "# Šie norādījumi ir neobligāti, bet tie var būt noderīgi dokumentācijas nolūkiem\n",
    "# Python IGNORĒS šos tipu norādījumus, tie ir tikai dokumentācijai un ārējiem koda pārbaudes rīkiem - linteriem\n",
    "# Kāpēc mēs izmantosim tipu norādījumus? kad mēs rakstām bibliotēku, ko izmantos citi cilvēki.\n",
    "# Kad rakstām lielu programmu, ko mēs izmantosim ilgu laiku\n",
    "\n",
    "\n",
    "def add_hints(a: int, b: int) -> int:\n",
    "    return a + b\n",
    "\n",
    "print(add_hints(1, 2))\n",
    "print(add_hints('a', 'b')) # strāda, bet linter rīks brīdinās, ka datu tipi nesakrīt\n",
    "\n",
    "# populārs linting rīks ir PyLance, kas nāk kopā ar Python paplašinājumu VS Code\n",
    "# ir arī PyLint, Flake8, mypy utt.\n"
   ]
  },
  {
   "cell_type": "code",
   "execution_count": 30,
   "metadata": {},
   "outputs": [
    {
     "name": "stdout",
     "output_type": "stream",
     "text": [
      "Help on function add_hints in module __main__:\n",
      "\n",
      "add_hints(a: int, b: int) -> int\n",
      "\n"
     ]
    }
   ],
   "source": [
    "help(add_hints)"
   ]
  },
  {
   "cell_type": "markdown",
   "metadata": {},
   "source": [
    "## 4. tēma - Vārdnīcas (dictionaries)"
   ]
  },
  {
   "cell_type": "markdown",
   "metadata": {},
   "source": [
    "### Vārdnīcas - atslēgu-vērtību pāri\n",
    "\n",
    "Galvenās vārdnīcu īpašības:\n",
    "- Vārdnīcas ir nekārtotas\n",
    "- Vārdnīcas ir maināmas(to vērtības var mainīt)\t\n",
    "- Vārdnīcas ir dinamiskas (to var paplašināt un sašaurināt)\n",
    "- Vārdnīcu atslēgas ir unikālas un nemaināmas objekti (piemēram, teksts, skaitļi, nemaināmi korteži)\n",
    "- Vārdnīcu vērtības var būt gandrīz jebkas (piemēram, virknes, skaitļi, saraksti, citas vārdnīcas, utt.)\n"
   ]
  },
  {
   "cell_type": "code",
   "execution_count": 1,
   "metadata": {},
   "outputs": [
    {
     "name": "stdout",
     "output_type": "stream",
     "text": [
      "{}\n",
      "Length of my_dict: 0\n",
      "{'food': 'pizza', 'number': 42}\n",
      "Length of my_dict: 2\n"
     ]
    }
   ],
   "source": [
    "# izveidosim tukšu vārdnīcu\n",
    "my_dict = {}\n",
    "print(my_dict)\n",
    "# len() atgriež pāru skaitu vārdnīcā\n",
    "print(\"Length of my_dict:\", len(my_dict))\n",
    "\n",
    "# izveidosim vārdnīcu ar diviem atslēgu-vērtību pāriem\n",
    "my_dict = {'food': 'pizza', 'number': 42}\n",
    "print(my_dict)\n",
    "print(\"Length of my_dict:\", len(my_dict))\n"
   ]
  },
  {
   "cell_type": "code",
   "execution_count": 2,
   "metadata": {},
   "outputs": [
    {
     "name": "stdout",
     "output_type": "stream",
     "text": [
      "Is there any milk in the fridge? False\n",
      "Is there any food in the fridge? True\n"
     ]
    }
   ],
   "source": [
    "# mēs varam izmantot 'in' operatoru, lai pārbaudītu, vai mums ir kāda atslēga vārdnīcā\n",
    "# pārbaudīsim, vai mums ir piens ledusskapī\n",
    "print(\"Is there any milk in the fridge?\", \"milk\" in my_dict) # O(1) laika sarežģītība\n",
    "# kā būtu ar atslēgu 'food'?\n",
    "print(\"Is there any food in the fridge?\", \"food\" in my_dict)"
   ]
  },
  {
   "cell_type": "code",
   "execution_count": 3,
   "metadata": {},
   "outputs": [
    {
     "name": "stdout",
     "output_type": "stream",
     "text": [
      "{'food': 'pizza', 'number': 42, 'milk': 'Valmieras piens'}\n"
     ]
    }
   ],
   "source": [
    "# pievienosim jaunu atslēgu-vērtību vārdnīcai\n",
    "# pievienosim atslēgu pienu mūsu vārdnīcai\n",
    "\n",
    "my_dict['milk'] = \"Valmieras piens\" # O(1) laika sarežģītība\n",
    "print(my_dict)"
   ]
  },
  {
   "cell_type": "code",
   "execution_count": 5,
   "metadata": {},
   "outputs": [],
   "source": [
    "# kā būtu ja mēs mainītu jau esošo atslēgu vērtību?\n",
    "# nomainīsim vērtību atslēgai 'food'\n",
    "my_dict['food'] = 'vegan salad'  # O(1) laika sarežģītība"
   ]
  },
  {
   "cell_type": "code",
   "execution_count": 36,
   "metadata": {},
   "outputs": [
    {
     "data": {
      "text/plain": [
       "dict_values(['vegan salad', 42, 'Valmieras piens'])"
      ]
     },
     "execution_count": 36,
     "metadata": {},
     "output_type": "execute_result"
    }
   ],
   "source": [
    "# mēs varam apskatīt visas vērtības vārdnīcā\n",
    "# šis objekts izskatās līdzīgi sarakstam, bet tas nav saraksts\n",
    "my_dict.values()"
   ]
  },
  {
   "cell_type": "code",
   "execution_count": 6,
   "metadata": {},
   "outputs": [
    {
     "name": "stdout",
     "output_type": "stream",
     "text": [
      "Is there 42 in the dictionary values?  True\n"
     ]
    }
   ],
   "source": [
    "# mēs varam pārbaudīt vai kāda vērtība ir vārdnīcā\n",
    "# kā būtu pārbaudīt, vai vārdnīcā ir vērtība 42?\n",
    "# to mēs varēsim izdarīt, izmantojot 'in' operatoru kopā ar vārdnīcas values\n",
    "# te būs O(n) laika sarežģītība, kur n ir atslēgu skaits vārdnīcā\n",
    "\n",
    "print(\"Is there 42 in the dictionary values? \", 42 in my_dict.values()) # O(n) laika sarežģītība"
   ]
  },
  {
   "cell_type": "code",
   "execution_count": 7,
   "metadata": {},
   "outputs": [
    {
     "name": "stdout",
     "output_type": "stream",
     "text": [
      "What food is in my fridge? vegan salad\n"
     ]
    }
   ],
   "source": [
    "# kā būtu atrast vērtību, izmantojot atslēgu?\t\n",
    "# tas ir viens no galvenajiem iemesliem, kāpēc izmantot vārdnīcu\n",
    "# atrast vērtību pēc atslēgas ir ātri - O(1) - konstanta laika sarežģītība - tas ir tas pats kas HashTable,HashMap,Map citās valodās\n",
    "# atrast vērtību iterējot cauri visām vērtībām ir lēni - O(n) - lineāra laika sarežģītība\n",
    "\n",
    "print(\"What food is in my fridge?\", my_dict[\"food\"])"
   ]
  },
  {
   "cell_type": "code",
   "execution_count": 8,
   "metadata": {},
   "outputs": [
    {
     "name": "stdout",
     "output_type": "stream",
     "text": [
      "KeyError: drink is not in my_dict\n"
     ]
    }
   ],
   "source": [
    "# kā būtu atrast vērtību pēc neeksistējošas atslēgas?\n",
    "# tas izraisīs KeyError izņēmumu\n",
    "try:\n",
    "    print(\"My drink is\", my_dict[\"drink\"])\n",
    "except KeyError:\n",
    "    print(\"KeyError: drink is not in my_dict\")"
   ]
  },
  {
   "cell_type": "code",
   "execution_count": 9,
   "metadata": {},
   "outputs": [
    {
     "name": "stdout",
     "output_type": "stream",
     "text": [
      "drink is not in the dictionary\n",
      "None\n",
      "drink is not in the dictionary\n",
      "vegan salad\n"
     ]
    }
   ],
   "source": [
    "# mēs būtu varējuši izmantot 'in' operatoru, lai pārbaudītu, vai atslēga ir vārdnīcā pirms mēģināt piekļūt vērtībai\n",
    "if 'drink' in my_dict:\n",
    "    print(my_dict['drink'])\n",
    "else:\n",
    "    print('drink is not in the dictionary')\n",
    "\n",
    "# tomēr ir iespējams izmantot get() metodi, lai izdarītu to pašu\n",
    "print(my_dict.get('drink')) # atgriezīs None, ja atslēga nav vārdnīcā\n",
    "print(my_dict.get('drink', 'drink is not in the dictionary')) # otrais arguments ir noklusējuma vērtība, ja atslēga nav vārdnīcā\n",
    "print(my_dict.get('food', 'food is not in the dictionary'))"
   ]
  },
  {
   "cell_type": "code",
   "execution_count": 12,
   "metadata": {},
   "outputs": [
    {
     "name": "stdout",
     "output_type": "stream",
     "text": [
      "dict_items([('food', 'vegan salad'), ('number', 42), ('milk', 'Valmieras piens')])\n",
      "[('food', 'vegan salad'), ('number', 42), ('milk', 'Valmieras piens')]\n"
     ]
    }
   ],
   "source": [
    "# mēs varam apskatīt visas atslēgu-vērtību pārus vārdnīcā kā sarakstam līdzīgu objektu, kurš satur kortēžus\n",
    "print(my_dict.items()) \n",
    "my_dict_items = list(my_dict.items()) # varam to pārveidot par sarakstu ar list() funkciju\n",
    "print(my_dict_items)"
   ]
  },
  {
   "cell_type": "code",
   "execution_count": 13,
   "metadata": {},
   "outputs": [
    {
     "name": "stdout",
     "output_type": "stream",
     "text": [
      "food vegan salad\n",
      "number 42\n",
      "milk Valmieras piens\n",
      "\n",
      "food vegan salad\n",
      "number 42\n",
      "milk Valmieras piens\n"
     ]
    }
   ],
   "source": [
    "# iterēšana cauri vārdnīcai\n",
    "for key in my_dict:\n",
    "    print(key, my_dict[key])\n",
    "\n",
    "print()\n",
    "\n",
    "# alternatīva ir izmantot items() metodi, kas atgriež atslēgu-vērtību pārus\n",
    "for key, value in my_dict.items(): # key, value are arbitrary names, could be k,v etc\n",
    "    print(key, value)"
   ]
  },
  {
   "cell_type": "code",
   "execution_count": 14,
   "metadata": {},
   "outputs": [
    {
     "name": "stdout",
     "output_type": "stream",
     "text": [
      "{'food': 'vegan salad', 'milk': 'Valmieras piens'}\n"
     ]
    }
   ],
   "source": [
    "# jāuzmanās, lai nemainītu vārdnīcas izmēru, kamēr iterējam cauri tai\n",
    "# labāk izmantot kopiju vārdnīcas, ja plānojam mainīt oriģinālo vārdnīcu\t\n",
    "for key,value  in my_dict.copy().items():\n",
    "    if value == 42:\n",
    "        del my_dict[key] # izdzēsīsim atslēgu, ja vērtība ir 42\n",
    "\n",
    "print(my_dict)"
   ]
  },
  {
   "cell_type": "code",
   "execution_count": 15,
   "metadata": {},
   "outputs": [
    {
     "name": "stdout",
     "output_type": "stream",
     "text": [
      "unhashable type: 'list'\n"
     ]
    }
   ],
   "source": [
    "my_dict2 = {}\n",
    "\n",
    "# šāda pieeja nedarbosies, jo saraksts ir ir mainīgs objekts\n",
    "key2 = [1, 2, 3]\n",
    "value2 = \"teksts\"\n",
    "try:\n",
    "    my_dict2[key2] = value2\n",
    "except TypeError as e:\n",
    "    print(e)"
   ]
  },
  {
   "cell_type": "code",
   "execution_count": 16,
   "metadata": {},
   "outputs": [
    {
     "name": "stdout",
     "output_type": "stream",
     "text": [
      "{(1, 2, 3): 'teksts'}\n"
     ]
    }
   ],
   "source": [
    "# savukārt kortežs kurā ir skaitļi ir nemainīgs objekts un tas darbosies kā atslēga\n",
    "key2 = (1, 2, 3)\n",
    "my_dict2[key2] = value2\n",
    "\n",
    "print(my_dict2)"
   ]
  },
  {
   "cell_type": "code",
   "execution_count": 17,
   "metadata": {},
   "outputs": [
    {
     "name": "stdout",
     "output_type": "stream",
     "text": [
      "{(1, 2, 3): 'teksts', (2024, 9, 16): 'today'}\n"
     ]
    }
   ],
   "source": [
    "my_dict2[(2024,9,16)] = \"today\"\n",
    "print(my_dict2)"
   ]
  },
  {
   "cell_type": "markdown",
   "metadata": {},
   "source": [
    "### Vārdnīcu metodes\n",
    "\n",
    "Šeit ir metodes, ko var izmantot ar vārdnīcām\n",
    "- .keys() atgriež sarakstu ar visām atslēgām vārdnīcā\n",
    "- .values() atgriež sarakstu ar visām vērtībām vārdnīcā\n",
    "- .items() atgriež sarakstu ar pāriem atslēga-vērtība vārdnīcā\n",
    "- .get(key) atgriež vērtību, kas saistīta ar atslēgu, citādi None\n",
    "- .get(key, default) atgriež vērtību, kas saistīta ar atslēgu, citādi default\n",
    "- .update(other_dictionary) pievieno visus atslēgu-vērtību pārus no other_dictionary vārdnīcai\n",
    "- .pop(key) noņem atslēgu-vērtību pāri, kas saistīts ar atslēgu, no vārdnīcas\n",
    "- .popitem() noņem nejauši izvēlētu atslēgu-vērtību pāri no vārdnīcas\n",
    "- .clear() noņem visus atslēgu-vērtību pārus no vārdnīcas\n",
    "\n",
    "Pilns metožu saraksts: https://docs.python.org/3/library/stdtypes.html#dict\n",
    "\n",
    "Atslēgu secība vārdnīcās ir tāda pati, kādā tās tika pievienotas(kopš Python 3.6):\n",
    "\n",
    "Ja jums vajag sakārtotu vārdnīcu, jums vajadzētu izmantot OrderedDict no collections moduļa.\n",
    "Tikai jāņem vērā ka OrderedDict būs lēnāka par parastu vārdnīcu. \n",
    "Daudzas operācijas būs O(log n) laika, nevis O(1) laikā kā parastās vārdnīcas.\n",
    "\n",
    "Šeit vietā analoģija ar C++ Map kura ir līdzīga Python sakārtotai vārdnīcai, un C++ unordered_map kura ir nekārtota vārdnīca.\n",
    "\n",
    "Parasti mums nav nepieciešams zināt atslēgu secību, bet ir svarīgi zināt, ka tā ir."
   ]
  },
  {
   "cell_type": "markdown",
   "metadata": {},
   "source": []
  },
  {
   "cell_type": "markdown",
   "metadata": {},
   "source": [
    "### Topic 4: - Sets"
   ]
  },
  {
   "cell_type": "markdown",
   "metadata": {},
   "source": [
    "#### Sets in Python are unordered collections of unique elements\n",
    "\n",
    "Key features of sets:\n",
    "- sets are unordered\n",
    "- elements in sets are unique\n",
    "- sets are mutable\n",
    "- sets can be used to perform mathematical set operations like union, intersection, symmetric difference etc.\n",
    "\n",
    "Primary uses of sets:\n",
    "- removing duplicate entries\n",
    "- fast membership testing\n",
    "- mathematical set operations"
   ]
  },
  {
   "cell_type": "code",
   "execution_count": 52,
   "metadata": {},
   "outputs": [
    {
     "name": "stdout",
     "output_type": "stream",
     "text": [
      "{1, 2, 3, 4, 5}\n"
     ]
    }
   ],
   "source": [
    "# let's create a set\n",
    "set_1 = {1, 2, 3, 4, 5,2,1,4} # note we use same syntax as for dictionaries but without key-value pairs\n",
    "print(set_1) # all duplicates are removed, order might look different than what we entered, it is not guaranteed"
   ]
  },
  {
   "cell_type": "code",
   "execution_count": 53,
   "metadata": {},
   "outputs": [
    {
     "name": "stdout",
     "output_type": "stream",
     "text": [
      "True\n"
     ]
    }
   ],
   "source": [
    "# we can check in constant time if an element is in a set\n",
    "print(1 in set_1) # this is O(1) time"
   ]
  },
  {
   "cell_type": "code",
   "execution_count": 54,
   "metadata": {},
   "outputs": [
    {
     "name": "stdout",
     "output_type": "stream",
     "text": [
      "{1, 2, 3, 4, 5, 6, 7, 8, 9, 10, 11}\n",
      "{0, 1, 2, 3, 4, 5, 6, 7, 8, 9, 10, 11, -1, -5, -4, -3, -2}\n"
     ]
    }
   ],
   "source": [
    "# let's update our set\n",
    "set_1.update(range(2,12))\n",
    "print(set_1) # again for small numbers sets might look ordered but they are not\n",
    "set_1.update(range(-5,5)) # might not look so ordered anymore\n",
    "print(set_1)"
   ]
  },
  {
   "cell_type": "code",
   "execution_count": 55,
   "metadata": {},
   "outputs": [
    {
     "name": "stdout",
     "output_type": "stream",
     "text": [
      "{1, 2, 3, 4, 5, 6, 7}\n",
      "[1, 2, 3, 4, 5, 6, 7]\n"
     ]
    }
   ],
   "source": [
    "# so sets can be used to remove duplicates from a list\n",
    "my_list = [1, 2, 3, 4, 5, 5, 5, 6, 7, 7]\n",
    "my_set = set(my_list)\n",
    "print(my_set)\n",
    "# go back to list\n",
    "my_list = list(my_set)\n",
    "print(my_list)"
   ]
  },
  {
   "cell_type": "code",
   "execution_count": 56,
   "metadata": {},
   "outputs": [
    {
     "name": "stdout",
     "output_type": "stream",
     "text": [
      "{3, 4, 5, 6, 7}\n",
      "{5, 6, 7, 8, 9}\n",
      "{3, 4, 5, 6, 7, 8, 9}\n",
      "{3, 4, 5, 6, 7, 8, 9}\n"
     ]
    }
   ],
   "source": [
    "# finally sets can be used for various set operations like union, intersection, difference, etc.\n",
    "\n",
    "n_3_7 = set(range(3, 8))\n",
    "n_5_9 = set(range(5, 10))\n",
    "print(n_3_7)\n",
    "print(n_5_9)\n",
    "# union \n",
    "# union means all elements from both sets without duplicates\n",
    "print(n_3_7.union(n_5_9))\n",
    "# alternative union\n",
    "print(n_3_7 | n_5_9) # syntactic sugar"
   ]
  },
  {
   "cell_type": "code",
   "execution_count": null,
   "metadata": {},
   "outputs": [],
   "source": [
    "# intersection of two sets\n",
    "# intersection means common elements\n",
    "\n",
    "print(n_3_7.intersection(n_5_9))\n",
    "# alternative syntax\n",
    "print(n_3_7 & n_5_9)\n"
   ]
  },
  {
   "cell_type": "code",
   "execution_count": 57,
   "metadata": {},
   "outputs": [
    {
     "name": "stdout",
     "output_type": "stream",
     "text": [
      "{3, 4}\n",
      "{8, 9}\n",
      "{3, 4}\n",
      "{3, 4, 8, 9}\n",
      "{3, 4, 8, 9}\n"
     ]
    }
   ],
   "source": [
    "# we also have difference operation\n",
    "# difference() - returns a set that contains the difference between two sets\n",
    "# this means return all items that are in the first set, and not in the second set\n",
    "\n",
    "print(n_3_7.difference(n_5_9))\n",
    "# difference is not commutative\n",
    "print(n_5_9.difference(n_3_7))\n",
    "# there is also shorthand for difference\n",
    "print(n_3_7 - n_5_9)\n",
    "\n",
    "# there is also symmetric_difference() - returns a set that contains all items from both sets, except items that are present in both sets\n",
    "print(n_3_7.symmetric_difference(n_5_9))\n",
    "# shorthand\n",
    "print(n_3_7 ^ n_5_9)"
   ]
  },
  {
   "cell_type": "markdown",
   "metadata": {},
   "source": [
    "---\n",
    "\n",
    "There are more set methods such as isdisjoint, issubset, issuperset, union, intersection, difference, symmetric_difference, ...\n",
    "\n",
    "Additional information: https://docs.python.org/3/library/stdtypes.html#set\n",
    "\n",
    "---"
   ]
  },
  {
   "cell_type": "markdown",
   "metadata": {},
   "source": [
    "## Lesson Overview\n",
    "\n",
    "What have we learned?\n",
    "\n",
    "* Tuples - also known as immutable lists\n",
    "* Functions - the basic building blocks of programs\n",
    "* Dictionaries - key-value pairs\n",
    "* Sets - unordered collections of unique elements with support for set operations"
   ]
  },
  {
   "cell_type": "code",
   "execution_count": null,
   "metadata": {},
   "outputs": [],
   "source": []
  },
  {
   "cell_type": "markdown",
   "metadata": {},
   "source": [
    "#### Topic 1 - tuple mini exercise"
   ]
  },
  {
   "cell_type": "code",
   "execution_count": null,
   "metadata": {},
   "outputs": [],
   "source": [
    "# create a tuple representing you as a person and your age\n",
    "# from the tuple create a new tuple with your age increased by 1 and your last and first name swapped"
   ]
  },
  {
   "cell_type": "markdown",
   "metadata": {},
   "source": [
    "## Exercises for further practice\n",
    "\n",
    "### Mini Exercises\n",
    "\n",
    "---\n",
    "\n",
    "Write a function that takes in a dictionary and value and returns a list of tuples of all keys and values in the dictionary whose value matches the value passed in.\n",
    "- example:\n",
    "   - input: `{'a': 1, 'b': 2, 'c': 3, 'd': 2}, 2`\n",
    "   - output: `[('b', 2), ('d', 2)]`\n",
    "\n",
    "Note: this can be done very efficiently using list comprehension.\n",
    "\n",
    "--- \n",
    "\n",
    "Write a function called `sum_squares` that takes a list of numbers and returns the sum of the squares of all the numbers.\n",
    "\n",
    "---\n",
    "\n",
    "### Exercise 1\n",
    "\n",
    "Write a function that takes a string and counts the number of times each character appears in the string. Return a list of tuples, where each tuple contains a character and the number of times it appears in the string.\n",
    "\n",
    "Bonus if you can supply top n most frequent characters to return.\n",
    "\n",
    "### Exercise 2 - is_pangram\n",
    "\n",
    "Write a function called `is_pangram` that will return `True` if a given string is a pangram, otherwise it will return `False`. A pangram is a sentence that contains every letter of the alphabet at least once. For example, the sentence `\"The quick brown fox jumps over the lazy dog\"` is a pangram because it uses the letters `a-z` at least once (case is irrelevant).\n",
    "\n",
    "Bonus if you can ignore punctuation and whitespace.\n",
    "\n",
    "Extra bonus if you can supply custom alphabets to check against. This would allow you to check if a sentence is a pangram in a language other than English."
   ]
  },
  {
   "cell_type": "markdown",
   "metadata": {},
   "source": [
    "## Additional Resources\n",
    "\n",
    "### Topic 1 - tuples\n",
    "\n",
    "- [Tuple official docs](https://docs.python.org/3/library/stdtypes.html#tuples)\n",
    "\n",
    "### Topic 2 - functions\n",
    "\n",
    "- [Functions built ins official docs](https://docs.python.org/3/library/functions.html)\n",
    "- [Automate the boring stuff with Python: Functions](https://automatetheboringstuff.com/2e/chapter3/)\n",
    "\n",
    "### Topic 3 - dictionaries\n",
    "\n",
    "- [Dictionaries official docs](https://docs.python.org/3/library/stdtypes.html#dict)\n",
    "- [Automate the boring stuff with Python: Dictionaries](https://automatetheboringstuff.com/2e/chapter5/)\n",
    "\n",
    "### Topic 4 - sets\n",
    "\n",
    "- [Sets official docs](https://docs.python.org/3/library/stdtypes.html#set)\n"
   ]
  },
  {
   "cell_type": "markdown",
   "metadata": {},
   "source": [
    "## Additional Information\n",
    "\n",
    "- [OpenPyXL library](https://openpyxl.readthedocs.io/en/stable/tutorial.html) for working with Excel files\n",
    "\n",
    "- Python 3.12 was released on October 2, 2023\n",
    "  - [Python 3.12: New features](https://realpython.com/python312-new-features/)\n",
    "  - [What's new in Python 3.12](https://docs.python.org/3.12/whatsnew/3.12.html)\n",
    " \n"
   ]
  },
  {
   "cell_type": "code",
   "execution_count": null,
   "metadata": {},
   "outputs": [],
   "source": []
  }
 ],
 "metadata": {
  "kernelspec": {
   "display_name": "Python 3 (ipykernel)",
   "language": "python",
   "name": "python3"
  },
  "language_info": {
   "codemirror_mode": {
    "name": "ipython",
    "version": 3
   },
   "file_extension": ".py",
   "mimetype": "text/x-python",
   "name": "python",
   "nbconvert_exporter": "python",
   "pygments_lexer": "ipython3",
   "version": "3.12.3"
  }
 },
 "nbformat": 4,
 "nbformat_minor": 4
}
