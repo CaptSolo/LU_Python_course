{
 "cells": [
  {
   "cell_type": "markdown",
   "metadata": {},
   "source": [
    "![LU Logo](https://www.df.lu.lv/fileadmin/user_upload/LU.LV/Apaksvietnes/Fakultates/www.df.lu.lv/Par_mums/Logo/DF_logo/01_DF_logo_LV.png)"
   ]
  },
  {
   "cell_type": "markdown",
   "metadata": {},
   "source": [
    "# 8. nedēļa - Objektu Orientētās Programmēšana\n",
    "\n",
    "Mēs apskatīsim šādas tēmas:\n",
    "\n",
    "* klases un objekti\n",
    "* inkapsulācija, polimorfisms\n",
    "* mantošana, kompozīcija\n",
    "\n",
    "## Prasības priekšzināšanām\n",
    "\n",
    "Pirms šīs nodarbības ir svarīgi, lai jūs jau būtu iepazinušies ar šādām tēmām:\n",
    "* Pamata Python sintakse\n",
    "* Pamata Python datu tipi\n",
    "* Pamata Python operatori\n",
    "* Nosacījumu izteiksmes, sadalījums ar if, elif, else\n",
    "* Cikli: for un while\n",
    "* Funkcijas\n",
    "* imports, moduļi un pakotnes\n",
    "* Datu struktūras: saraksti, tuples, vārdnīcas, kopas\n",
    "* Failu ievade/izvade\n",
    "\n",
    "## Nodarbības plāns\n",
    "\n",
    "Nodarbības beigās jums jābūt spējīgiem:\n",
    "\n",
    "\n",
    "* saprast objektu orientētās programmēšanas pamatprincipus\n",
    "* izveidot klasi\n",
    "* izveidot objektu\n",
    "* saprast atšķirību starp klasi un objektu\n",
    "* saprast atšķirību starp klases atribūtu un objekta atribūtu\n",
    "* saprast atšķirību starp klases metodi un objekta metodi\n",
    "* saprast atšķirību starp mantošanu un kompozīciju\n",
    "* saprast atšķirību starp inkapsulāciju un polimorfismu\n",
    "\n"
   ]
  },
  {
   "cell_type": "markdown",
   "metadata": {},
   "source": [
    "## Nepieciešamo biblioteku imports\n",
    "\n",
    "Tehniski mums nevajag nekādas īpašas bibliotēkas šajā nodarbībā, bet mēs varētu izmantot `random` bibliotēku, lai parādītu kāda veida objekti var būt izveidoti. Tāpat mēs izmantojam `sys` biblioteku Python versijas pārbaudei. Savukārt datetime bibliotēka tiek izmantota laika datuma un laika iegūšanai.\n"
   ]
  },
  {
   "cell_type": "code",
   "execution_count": 1,
   "metadata": {},
   "outputs": [
    {
     "name": "stdout",
     "output_type": "stream",
     "text": [
      "Python version: 3.12.5 (tags/v3.12.5:ff3bc82, Aug  6 2024, 20:45:27) [MSC v.1940 64 bit (AMD64)]\n",
      "Date and time: 2024-09-30 15:56:29.153575\n"
     ]
    }
   ],
   "source": [
    "# generally imports go at the top of a notebook\n",
    "# python version\n",
    "import sys\n",
    "print(f\"Python version: {sys.version}\")\n",
    "# laiks\n",
    "from datetime import datetime\n",
    "print(f\"Date and time: {datetime.now()}\")\n",
    "# nejauši skaitļi\n",
    "import random"
   ]
  },
  {
   "cell_type": "markdown",
   "metadata": {},
   "source": [
    "## 1. tēma - Klases un objekti\n",
    "\n",
    "### 1.1 Objekt Orientētās Programmēšanas (OOP) ideja\n",
    "\n",
    "* OOP ir programmēšanas paradigma, kas nodrošina veidu, kā strukturēt programmas, lai īpašības un uzvedība tiktu iekļautas individuālās objektos.\n",
    "* OOP parādījās 1960. un 1970. gadu laikā kā atbilde uz problēmām, kas radās ar vecākajām programmēšanas paradigmas.\n",
    "* OOP ir balstīta uz konceptu, ka programmēšanas valodas jābūt orientētām uz objektiem, kas var saturēt datus un kodu:\n",
    "  * Dati tiek glabāti kā atribūti (bieži saukti par laukiem(fields) vai arī īpašībām(properties)).\n",
    "  * Izpildāmas kods tiek glabāts kā metodes (procedūras).\n",
    "* OOP ļauj izveidot atkārtoti izmantojamu kodu, kas ir labāk organizēts un saprotamāks.\n",
    " \n",
    "---\n",
    "\n",
    "* Klase ir kā veidne, kas definē objekta atribūtus un metodes.\n",
    "* Objekts ir konkrētas klases instance.\n",
    "* Objektiem raksturīga īpašība ir ka objekta procedūras var piekļūt un bieži vien modificēt objekta datu laukus, ar kuriem tie ir saistīti (objektiem ir jēdziens \"this\" vai \"self\").\n",
    "\n",
    "\n",
    "---\n",
    "\n",
    "* OOP ir balstīta uz četriem galvenajiem principiem:\n",
    "  * Abstrakcija\n",
    "  * Mantošana\n",
    "  * Polimorfisms\n",
    "  * Inkapsulācija\n",
    "* Veidojot programmu OOP sitlā, jūs veidojiet klases, kuru objekti (klases instances) var sazināties viens ar otru, lai veiktu darbības.\n",
    "* Pastāv daudz OOP valodu, bet Python ir viena no vispopulārākajām.\n",
    "* Python principā ir OOP valoda, bet tā ļauj arī izmantot citas paradigmas.\t\n",
    "* Python OOP ir ļoti elastīga un ļauj jums izmantot tikai tos OOP konceptus, kas jums ir nepieciešami.\n"
   ]
  },
  {
   "cell_type": "markdown",
   "metadata": {},
   "source": [
    "### Python tukšas klases veidošana"
   ]
  },
  {
   "cell_type": "code",
   "execution_count": 1,
   "metadata": {},
   "outputs": [
    {
     "name": "stdout",
     "output_type": "stream",
     "text": [
      "<__main__.Simple_Robot object at 0x000001E1679A04D0>\n"
     ]
    }
   ],
   "source": [
    "# Klase tātad ir objekta veidne - melnraksts, pēc kuras tiek veidots objekts.\n",
    "\n",
    "# Klases var būt arī bez īpašībām un metodēm, tās var būt tukšas.\n",
    "\n",
    "# izveidosim ļoti vienkāršu klasi - kurā nav ne īpašību, nedz metodes.\n",
    "\n",
    "class Simple_Robot:\n",
    "    \"\"\"\n",
    "    This class does nothing.\n",
    "    \"\"\"\n",
    "    pass # empty command\n",
    "\n",
    "# izveidojam objektu no klases - tā saukto instanci\n",
    "robbie = Simple_Robot()\n",
    "\n",
    "print(robbie) # Izdrukās objekta adresi atmiņā"
   ]
  },
  {
   "cell_type": "code",
   "execution_count": 2,
   "metadata": {},
   "outputs": [
    {
     "name": "stdout",
     "output_type": "stream",
     "text": [
      "Help on Simple_Robot in module __main__ object:\n",
      "\n",
      "class Simple_Robot(builtins.object)\n",
      " |  This class does nothing.\n",
      " |\n",
      " |  Data descriptors defined here:\n",
      " |\n",
      " |  __dict__\n",
      " |      dictionary for instance variables\n",
      " |\n",
      " |  __weakref__\n",
      " |      list of weak references to the object\n",
      "\n"
     ]
    }
   ],
   "source": [
    "help(robbie)"
   ]
  },
  {
   "cell_type": "code",
   "execution_count": 3,
   "metadata": {},
   "outputs": [
    {
     "name": "stdout",
     "output_type": "stream",
     "text": [
      "<__main__.Simple_Robot object at 0x000001E167AF1160>\n"
     ]
    }
   ],
   "source": [
    "# šadus objektus var izveidot cik vien vēlas\n",
    "another_robot = Simple_Robot()\n",
    "print(another_robot) # šis būs cits objekts ar citu adresi atmiņā"
   ]
  },
  {
   "cell_type": "code",
   "execution_count": 4,
   "metadata": {},
   "outputs": [
    {
     "name": "stdout",
     "output_type": "stream",
     "text": [
      "red\n",
      "30\n"
     ]
    }
   ],
   "source": [
    "# tā kā mūsu klases veidne bija tukša tad šie objekti praktiski neko nedarīs, nedz saturēs kādus datus.\n",
    "# mēs varam mainīt situāciju, pievienojot īpašības klasei.\n",
    "robbie.color = \"red\"\n",
    "robbie.weight = 30\n",
    "\n",
    "# tagad mūsu objekts satur divas īpašības - krāsu un svaru\n",
    "print(robbie.color)\n",
    "print(robbie.weight)\n",
    "\n",
    "# tomēr vai šai pieejai ir kāda problēma?"
   ]
  },
  {
   "cell_type": "markdown",
   "metadata": {},
   "source": [
    "### Robot klases veidošana"
   ]
  },
  {
   "cell_type": "code",
   "execution_count": 5,
   "metadata": {},
   "outputs": [],
   "source": [
    "# Daudz ērtāk būtu, ja objektu izveidojot varētu piešķirt īpašības.\n",
    "# Izveidosim klasi, kuras objektus veidojot tiem jau būs kādas īpašības.\n",
    "\n",
    "class Robot:\n",
    "    # __init__ ir tā saucamā \"maģiskā metode\", kas tiek izsaukta, kad tiek izveidots jauns objekts\n",
    "    # tipiski to lieto, lai inicializētu objekta īpašības\n",
    "\n",
    "    # __init__ tiek izsaukta automātiski, tā netiek izsaukta ekspliciti\n",
    "    # __init__ ir cieši saistīta ar konstruktoriem citās valodās\n",
    "    # tehniski tas nav 100% tas pats, jo tas tiek izsaukts uzreiz pēc objekta izveides nevis tā izveides laikā\n",
    "    \n",
    "    # self ir atsauce uz pašu objektu (nevis klasi!)\n",
    "\n",
    "    def __init__(self, name, color, weight): # ieverojam ka __init__ metodei ir jābūt vismaz vienam argumentam - self\n",
    "        self.name = name # mēs piešķiram objekta īpašībām vērtības, kas tiek padotas kā argumenti\n",
    "        self.color = color # nosaukumiem nav jābūt vienādiem ar argumentiem\n",
    "        self.weight = weight\n",
    "        print(f\"Robot {name} is created!\") # šis izdruksies, kad tiks izveidots objekts\n",
    "\n",
    "    # šis klases objektiem būs arī mūsu definēta metode (funkcija) - say_hi\n",
    "    # šai metodei ir jābūt vismaz vienam argumentam - self\n",
    "    # šī metode līdz ar to var piekļūt objekta īpašībām un citām metodēm\n",
    "    def say_hi(self):\n",
    "        '''\n",
    "        This function says hi.\n",
    "        '''\n",
    "        # this is a custom method that we can call on the object\n",
    "        # note the use of self to access the object's attributes\n",
    "        print(\"Hi, my name is \" + self.name) # so method can access the object's attributes using self"
   ]
  },
  {
   "cell_type": "code",
   "execution_count": 6,
   "metadata": {},
   "outputs": [
    {
     "name": "stdout",
     "output_type": "stream",
     "text": [
      "Robot Arnie is created!\n",
      "Hi, my name is Arnie\n",
      "\n",
      "Robot Bob is created!\n",
      "Hi, my name is Bob\n"
     ]
    }
   ],
   "source": [
    "# izveidosim pāris robotus un apskatīsim to darbību\n",
    "\n",
    "arnie = Robot(\"Arnie\", \"metallic\", 180) # ievērojiet mēs padevām trīs argumentus, bet __init__ metodei ir četri, jo self tiek padots automātiski\n",
    "arnie.say_hi() # šoreiz nav neviena argumenta, jo self tiek padots automātiski\n",
    "print()\n",
    "\n",
    "bob = Robot(\"Bob\", \"plastic\", 120)\n",
    "bob.say_hi()"
   ]
  },
  {
   "cell_type": "code",
   "execution_count": 8,
   "metadata": {},
   "outputs": [
    {
     "name": "stdout",
     "output_type": "stream",
     "text": [
      "<__main__.Robot object at 0x000001E167AF1550>\n"
     ]
    }
   ],
   "source": [
    "print(arnie)\n",
    "# bez citu metožu definēšanas, objektiem būs noklusējuma metodes, piemēram __str__\n",
    "# šī metode ļauj izdrukāt objektu, izmantojot print funkciju\n",
    "# noklusējuma __str__ metode izdrukās objekta adresi atmiņā, kas nav īpaši noderīgi"
   ]
  },
  {
   "cell_type": "code",
   "execution_count": 9,
   "metadata": {},
   "outputs": [
    {
     "data": {
      "text/plain": [
       "['__class__',\n",
       " '__delattr__',\n",
       " '__dict__',\n",
       " '__dir__',\n",
       " '__doc__',\n",
       " '__eq__',\n",
       " '__format__',\n",
       " '__ge__',\n",
       " '__getattribute__',\n",
       " '__getstate__',\n",
       " '__gt__',\n",
       " '__hash__',\n",
       " '__init__',\n",
       " '__init_subclass__',\n",
       " '__le__',\n",
       " '__lt__',\n",
       " '__module__',\n",
       " '__ne__',\n",
       " '__new__',\n",
       " '__reduce__',\n",
       " '__reduce_ex__',\n",
       " '__repr__',\n",
       " '__setattr__',\n",
       " '__sizeof__',\n",
       " '__str__',\n",
       " '__subclasshook__',\n",
       " '__weakref__',\n",
       " 'color',\n",
       " 'name',\n",
       " 'say_hi',\n",
       " 'weight']"
      ]
     },
     "execution_count": 9,
     "metadata": {},
     "output_type": "execute_result"
    }
   ],
   "source": [
    "dir(arnie)\n",
    "# dir parāda visas objekta metodes un īpašības, mēs redzam arī mūsu definētās metodes un īpašības\n"
   ]
  },
  {
   "cell_type": "markdown",
   "metadata": {},
   "source": [
    "### 1.2 - Dunder metodes\n",
    "\n",
    "Tā sauktās dunder metodes ir speciālas metodes, kas tiek izmantotas, lai emulētu vai pārrakstītu kādu iebūvētu uzvedību Pythonā.\n",
    "\n",
    "Tās var atpazīt pēc divām apakšsvītrām sākumā un beigās to nosaukumā. Piemēram, `__init__` metode ir dunder metode, kas tiek izmantota, lai inicializētu jaunu objektu.\n",
    "\n",
    "Pilns saraksts ar dunder metodēm: https://docs.python.org/3/reference/datamodel.html#special-method-names\n",
    "\n"
   ]
  },
  {
   "cell_type": "code",
   "execution_count": 10,
   "metadata": {},
   "outputs": [],
   "source": [
    "\n",
    "\n",
    "# Kad mēs izdrukājām objektu, mēs saņēmām objekta teksta reprezentāciju un tā atrašanās vietu atmiņā.\n",
    "\n",
    "# Mēs varam to mainīt, definējot __str__() metodi.\n",
    "\n",
    "# Izveidosim jaunu klasi, kas pārvalda UFO objektus. Šoreiz mēs definēsim __str__() metodi.\n",
    "\n",
    "class UFO:\n",
    "    def __init__(self, x, y): # jau zinām, ka __init__ tiek izsaukta automātiski\n",
    "        self.x = x\n",
    "        self.y = y\n",
    "        print(f\"UFO at ({self.x}, {self.y}) is created!\")\n",
    "        \n",
    "    def __str__(self):\n",
    "        return f\"UFO at ({self.x}, {self.y})\"\n",
    "    \n",
    "# mums ir daudz citu metožu, kas varētu būt noderīgas, piemēram __add__\n",
    "# tā ļaus mums saskaitīt divus UFO objektus kopā izmantojot + zīmi\n",
    "    def __add__(self, other):\n",
    "        return UFO(self.x + other.x, self.y + other.y) # this returns a new UFO object with new coordinates"
   ]
  },
  {
   "cell_type": "code",
   "execution_count": 11,
   "metadata": {},
   "outputs": [
    {
     "name": "stdout",
     "output_type": "stream",
     "text": [
      "UFO at (10, 20) is created!\n",
      "UFO at (10, 20)\n"
     ]
    }
   ],
   "source": [
    "ufo = UFO(10, 20)\n",
    "print(ufo) # tagad mēs redzam mūsu definēto teksta reprezentāciju"
   ]
  },
  {
   "cell_type": "code",
   "execution_count": 12,
   "metadata": {},
   "outputs": [
    {
     "name": "stdout",
     "output_type": "stream",
     "text": [
      "UFO at (1000, 2000) is created!\n",
      "UFO at (1000, 2000)\n",
      "\n",
      "UFO at (1010, 2020) is created!\n",
      "UFO at (1010, 2020)\n"
     ]
    }
   ],
   "source": [
    "weather_balloon = UFO(1000, 2000)\n",
    "print(weather_balloon)\n",
    "print()\n",
    "\n",
    "# izveidosim jaunu objektu, kas ir divu citu objektu summa\n",
    "# to mēs varam darīt, jo mēs definējām __add__ metodi, kas iepriekš netika definēta\n",
    "ufo_weather_balloon = ufo + weather_balloon\n",
    "print(ufo_weather_balloon)"
   ]
  },
  {
   "cell_type": "markdown",
   "metadata": {},
   "source": [
    "### Python viss (gandrīz) ir objekts"
   ]
  },
  {
   "cell_type": "code",
   "execution_count": 13,
   "metadata": {},
   "outputs": [
    {
     "data": {
      "text/plain": [
       "'145'"
      ]
     },
     "execution_count": 13,
     "metadata": {},
     "output_type": "execute_result"
    }
   ],
   "source": [
    "# piemēram teksts ir objekts, kas satur vairākas metodes\n",
    "\"123\".replace(\"23\", \"45\")"
   ]
  },
  {
   "cell_type": "code",
   "execution_count": 14,
   "metadata": {},
   "outputs": [
    {
     "data": {
      "text/plain": [
       "['__add__',\n",
       " '__class__',\n",
       " '__contains__',\n",
       " '__delattr__',\n",
       " '__dir__',\n",
       " '__doc__',\n",
       " '__eq__',\n",
       " '__format__',\n",
       " '__ge__',\n",
       " '__getattribute__',\n",
       " '__getitem__',\n",
       " '__getnewargs__',\n",
       " '__getstate__',\n",
       " '__gt__',\n",
       " '__hash__',\n",
       " '__init__',\n",
       " '__init_subclass__',\n",
       " '__iter__',\n",
       " '__le__',\n",
       " '__len__',\n",
       " '__lt__',\n",
       " '__mod__',\n",
       " '__mul__',\n",
       " '__ne__',\n",
       " '__new__',\n",
       " '__reduce__',\n",
       " '__reduce_ex__',\n",
       " '__repr__',\n",
       " '__rmod__',\n",
       " '__rmul__',\n",
       " '__setattr__',\n",
       " '__sizeof__',\n",
       " '__str__',\n",
       " '__subclasshook__',\n",
       " 'capitalize',\n",
       " 'casefold',\n",
       " 'center',\n",
       " 'count',\n",
       " 'encode',\n",
       " 'endswith',\n",
       " 'expandtabs',\n",
       " 'find',\n",
       " 'format',\n",
       " 'format_map',\n",
       " 'index',\n",
       " 'isalnum',\n",
       " 'isalpha',\n",
       " 'isascii',\n",
       " 'isdecimal',\n",
       " 'isdigit',\n",
       " 'isidentifier',\n",
       " 'islower',\n",
       " 'isnumeric',\n",
       " 'isprintable',\n",
       " 'isspace',\n",
       " 'istitle',\n",
       " 'isupper',\n",
       " 'join',\n",
       " 'ljust',\n",
       " 'lower',\n",
       " 'lstrip',\n",
       " 'maketrans',\n",
       " 'partition',\n",
       " 'removeprefix',\n",
       " 'removesuffix',\n",
       " 'replace',\n",
       " 'rfind',\n",
       " 'rindex',\n",
       " 'rjust',\n",
       " 'rpartition',\n",
       " 'rsplit',\n",
       " 'rstrip',\n",
       " 'split',\n",
       " 'splitlines',\n",
       " 'startswith',\n",
       " 'strip',\n",
       " 'swapcase',\n",
       " 'title',\n",
       " 'translate',\n",
       " 'upper',\n",
       " 'zfill']"
      ]
     },
     "execution_count": 14,
     "metadata": {},
     "output_type": "execute_result"
    }
   ],
   "source": [
    "dir(\"123\")"
   ]
  },
  {
   "cell_type": "code",
   "execution_count": 15,
   "metadata": {},
   "outputs": [
    {
     "name": "stdout",
     "output_type": "stream",
     "text": [
      "Help on wrapper_descriptor:\n",
      "\n",
      "__add__(self, value, /) unbound builtins.str method\n",
      "    Return self+value.\n",
      "\n"
     ]
    }
   ],
   "source": [
    "help(str.__add__)"
   ]
  },
  {
   "cell_type": "code",
   "execution_count": 15,
   "metadata": {},
   "outputs": [
    {
     "data": {
      "text/plain": [
       "'123abc'"
      ]
     },
     "execution_count": 15,
     "metadata": {},
     "output_type": "execute_result"
    }
   ],
   "source": [
    "\"123\" + \"abc\" # tā kā str ir definēts __add__ mēs varam saskaitīt divus str objektus kopā"
   ]
  },
  {
   "cell_type": "code",
   "execution_count": 16,
   "metadata": {},
   "outputs": [
    {
     "name": "stdout",
     "output_type": "stream",
     "text": [
      "Help on method_descriptor:\n",
      "\n",
      "replace(self, old, new, count=-1, /) unbound builtins.str method\n",
      "    Return a copy with all occurrences of substring old replaced by new.\n",
      "\n",
      "      count\n",
      "        Maximum number of occurrences to replace.\n",
      "        -1 (the default value) means replace all occurrences.\n",
      "\n",
      "    If the optional argument count is given, only the first count occurrences are\n",
      "    replaced.\n",
      "\n"
     ]
    }
   ],
   "source": [
    "help(str.replace)"
   ]
  },
  {
   "cell_type": "markdown",
   "metadata": {},
   "source": [
    "### 1.3 Klases un statiskās metodes\n",
    "\n",
    "- Klases metodes ir metodes, kas nav saistītas ar objektu, bet ar pašu klasi. Tās tiek definētas, izmantojot @classmethod dekoratoru. Tās saņem klasi kā argumentu, kas ļauj tām piekļūt klases atribūtiem (nevis objekta atribūtiem).\n",
    "- Statiskās metodes ir līdzīgas klases metodēm, izņemot to, ka tās nesaņem papildus argumentus; tās ir identiskas normālām funkcijām, kas pieder klasei. Tās tiek definētas, izmantojot @staticmethod dekoratoru.\n",
    "\n",
    "Šādas metodes ir reti izmantotas, bet tās var būt noderīgas dažos gadījumos. Piemēram, mēs varētu izmantot klasi lai grupētu funkcijas, kas ir saistītas ar klasi, bet nav saistītas ar objektiem.\n",
    "\n",
    "Ieguvums šādām metodēm: tās netiek lieki duplicētas katrā objektā, kas tiek izveidots no klases."
   ]
  },
  {
   "cell_type": "code",
   "execution_count": 17,
   "metadata": {},
   "outputs": [],
   "source": [
    "# Izveidosim klasi sauktu par Calculator, kura izmantos klases un statiskās metodes\n",
    "\n",
    "# mēs glabāsim PI vērtību klases mainīgajā\n",
    "# mums būs klases metode, kas atgriezīs apļa laukumu\n",
    "# mums būs statiskā metode, kas atgriezīs skaitļa pakāpi\n",
    "\n",
    "\n",
    "class Calculator:\n",
    "    PI = 3.1415926\n",
    "    \n",
    "    @classmethod # tā sauktais dekorators, kas norāda, ka šī metode ir klases metode. Par dekoratoriem vēlāk būs vairāk\n",
    "    def area_of_circle(cls, radius): # ievērojam cls nevis self, lai gan tehniski nosaukums var būt jebkurš\n",
    "        # cls ir vispār pieņemtais nosaukums klases metodes argumentam\n",
    "        return cls.PI * radius * radius\n",
    "    \n",
    "    @staticmethod\n",
    "    def power_of_number(number, power): # ievērojam, ka šai metodei nav neviena īpašība, kas saistīta ar objektu\n",
    "        return number ** power\n",
    "  "
   ]
  },
  {
   "cell_type": "code",
   "execution_count": 18,
   "metadata": {},
   "outputs": [
    {
     "name": "stdout",
     "output_type": "stream",
     "text": [
      "Help on class Calculator in module __main__:\n",
      "\n",
      "class Calculator(builtins.object)\n",
      " |  Class methods defined here:\n",
      " |\n",
      " |  area_of_circle(radius)\n",
      " |\n",
      " |  ----------------------------------------------------------------------\n",
      " |  Static methods defined here:\n",
      " |\n",
      " |  power_of_number(number, power)\n",
      " |\n",
      " |  ----------------------------------------------------------------------\n",
      " |  Data descriptors defined here:\n",
      " |\n",
      " |  __dict__\n",
      " |      dictionary for instance variables\n",
      " |\n",
      " |  __weakref__\n",
      " |      list of weak references to the object\n",
      " |\n",
      " |  ----------------------------------------------------------------------\n",
      " |  Data and other attributes defined here:\n",
      " |\n",
      " |  PI = 3.1415926\n",
      "\n"
     ]
    }
   ],
   "source": [
    "help(Calculator)"
   ]
  },
  {
   "cell_type": "code",
   "execution_count": 19,
   "metadata": {},
   "outputs": [
    {
     "name": "stdout",
     "output_type": "stream",
     "text": [
      "78.539815\n",
      "8\n",
      "\n",
      "78.539815\n"
     ]
    }
   ],
   "source": [
    "# mēs uzreiz varam sākt izmantot šīs metodes, bez objekta izveides\n",
    "\n",
    "print(Calculator.area_of_circle(5))\n",
    "print(Calculator.power_of_number(2, 3))\n",
    "print()\n",
    "\n",
    "# jā ļoti gribas var izveidot objektu un izmantot klases metodi vai statisko metodi\n",
    "calc = Calculator() # izveidojam objektu\n",
    "print(calc.area_of_circle(5)) # šeit nav lielas jēgas, jo mēs neizmantojam objekta īpašības nedz metodes\n",
    "\n",
    "# tādad jūs varat izveidot klases, kas satur gan objekta metodes, gan klases metodes, gan statiskās metodes\n",
    "\n",
    "# statisko un klases metožu izmantošana var būt ērta, ja veidojam klasi kā bibliotēku, kurai nav nepieciešams objekts."
   ]
  },
  {
   "cell_type": "code",
   "execution_count": 21,
   "metadata": {},
   "outputs": [],
   "source": [
    "# print(peter)"
   ]
  },
  {
   "cell_type": "code",
   "execution_count": 22,
   "metadata": {},
   "outputs": [],
   "source": [
    "# peter.__dict__"
   ]
  },
  {
   "cell_type": "markdown",
   "metadata": {},
   "source": [
    "## Topic 2: - encapsulation, inheritance"
   ]
  },
  {
   "cell_type": "markdown",
   "metadata": {},
   "source": [
    "### Encapsulation\n",
    "\n",
    "What is encapsulation in OOP (object-oriented programming)?\n",
    "\n",
    "Encapsulation means bundling together data and the methods for working with this data. \n",
    "\n",
    "It may also refer to the process of restricting access to methods and variables in a class in order to prevent direct data modification so it prevents accidental data modification.\n",
    "\n",
    "#### Benefits:\n",
    "\n",
    "* Control: Encapsulation provides control over the data by allowing you to restrict or permit data modification only through methods.\n",
    "* Flexibility & Maintenance: Since the internal representation of an object is hidden, it can be changed without affecting the external interface of the object. This is useful in maintaining and updating software.\n",
    "* Increased Security: Protects the integrity of the data by only allowing it to be changed in well-defined ways.\n",
    "\n",
    "---\n",
    "\n",
    "In most programming languages, encapsulation is achieved by declaring class variables/attributes as private and providing public get and set methods to modify them.\n",
    "\n",
    "In Python, we do not really have private attributes and methods but there is a naming convention that attributes and methods denoted using underscore prefix, for example `_name`, are considered \"private\" and should not be used directly.\n",
    "\n",
    "We can also use double underscore as the prefix, for example `__name`. This is called name mangling and it is used to prevent accidental access of private variables. Python interpreter changes the name of the variable from `__name` to `_classname__name` thus making it more difficult to access.\n"
   ]
  },
  {
   "cell_type": "code",
   "execution_count": 23,
   "metadata": {},
   "outputs": [],
   "source": [
    "class Customer:\n",
    "    \"\"\"A customer of ABC Bank with a checking account. Customers have the\n",
    "    following properties:\n",
    "\n",
    "    Attributes:\n",
    "        name: A string representing the customer's name.\n",
    "        _balance: A float tracking the current balance of the customer's account.\n",
    "    \"\"\"\n",
    "\n",
    "    def __init__(self, name, balance=0.0):\n",
    "        \"\"\"Return a Customer object whose name is *name* and starting\n",
    "        balance is *balance*.\"\"\"\n",
    "        self.name = name\n",
    "        self._balance = balance\n",
    "\n",
    "    def get_balance(self):\n",
    "        return self._balance\n",
    "        \n",
    "    def withdraw(self, amount):\n",
    "        \"\"\"Return the balance remaining after withdrawing *amount*\n",
    "        dollars.\"\"\"\n",
    "        if amount > self._balance:\n",
    "            raise RuntimeError('Amount greater than the available balance.')\n",
    "        self._balance -= amount\n",
    "        return self._balance\n",
    "\n",
    "    def deposit(self, amount):\n",
    "        \"\"\"Return the balance remaining after depositing *amount*\n",
    "        dollars.\"\"\"\n",
    "        self._balance += amount\n",
    "        return self._balance"
   ]
  },
  {
   "cell_type": "code",
   "execution_count": 24,
   "metadata": {},
   "outputs": [
    {
     "name": "stdout",
     "output_type": "stream",
     "text": [
      "Help on class Customer in module __main__:\n",
      "\n",
      "class Customer(builtins.object)\n",
      " |  Customer(name, balance=0.0)\n",
      " |  \n",
      " |  A customer of ABC Bank with a checking account. Customers have the\n",
      " |  following properties:\n",
      " |  \n",
      " |  Attributes:\n",
      " |      name: A string representing the customer's name.\n",
      " |      _balance: A float tracking the current balance of the customer's account.\n",
      " |  \n",
      " |  Methods defined here:\n",
      " |  \n",
      " |  __init__(self, name, balance=0.0)\n",
      " |      Return a Customer object whose name is *name* and starting\n",
      " |      balance is *balance*.\n",
      " |  \n",
      " |  deposit(self, amount)\n",
      " |      Return the balance remaining after depositing *amount*\n",
      " |      dollars.\n",
      " |  \n",
      " |  get_balance(self)\n",
      " |  \n",
      " |  withdraw(self, amount)\n",
      " |      Return the balance remaining after withdrawing *amount*\n",
      " |      dollars.\n",
      " |  \n",
      " |  ----------------------------------------------------------------------\n",
      " |  Data descriptors defined here:\n",
      " |  \n",
      " |  __dict__\n",
      " |      dictionary for instance variables (if defined)\n",
      " |  \n",
      " |  __weakref__\n",
      " |      list of weak references to the object (if defined)\n",
      "\n"
     ]
    }
   ],
   "source": [
    "help(Customer)"
   ]
  },
  {
   "cell_type": "code",
   "execution_count": 25,
   "metadata": {},
   "outputs": [
    {
     "name": "stdout",
     "output_type": "stream",
     "text": [
      "Current balance is 333\n",
      "Current balance is 33\n"
     ]
    }
   ],
   "source": [
    "vs = Customer(\"Pēteris\", balance=333)\n",
    "\n",
    "print(f\"Current balance is {vs.get_balance()}\")\n",
    "\n",
    "vs.withdraw(300)\n",
    "print(f\"Current balance is {vs.get_balance()}\")"
   ]
  },
  {
   "cell_type": "code",
   "execution_count": 26,
   "metadata": {},
   "outputs": [
    {
     "name": "stdout",
     "output_type": "stream",
     "text": [
      "RuntimeError: Amount greater than the available balance.\n",
      "Current balance is 33\n"
     ]
    }
   ],
   "source": [
    "try:\n",
    "    vs.withdraw(40)\n",
    "except RuntimeError:\n",
    "    print(\"RuntimeError: Amount greater than the available balance.\")\n",
    "print(f\"Current balance is {vs.get_balance()}\")"
   ]
  },
  {
   "cell_type": "markdown",
   "metadata": {},
   "source": [
    "#### Attribute and method hiding"
   ]
  },
  {
   "cell_type": "code",
   "execution_count": 27,
   "metadata": {},
   "outputs": [
    {
     "name": "stdout",
     "output_type": "stream",
     "text": [
      "Creating a new robot spy named Austin Powers\n",
      "Creating a new robot spy named James Bond\n"
     ]
    }
   ],
   "source": [
    "# let's create a private Robot class with a private attribute called __secret_password\n",
    "\n",
    "class RobotSpy:\n",
    "    \n",
    "    def __init__(self, name, internal_name, password):\n",
    "        print(f\"Creating a new robot spy named {name}\")\n",
    "        self.name = name\n",
    "        self._internal_name = internal_name # this is  purely a convention and does not prevent external code from accessing it\n",
    "        self.__secret_password = password # this does prevent external code from accessing it directly\n",
    "    \n",
    "    def get_secret_password(self):\n",
    "        # you could add extra logic here to check if the user is authorized to get the password\n",
    "        return self.__secret_password\n",
    "    \n",
    "    def set_secret_password(self, new_password):\n",
    "        # you could add extra logic here to check if the new password is valid\n",
    "        if self.__is_password_valid(new_password):\n",
    "        # you could check if the new password is at least 8 characters long etc\n",
    "        # also you could check if the user is authorized to change the password\n",
    "            self.__secret_password = new_password\n",
    "        # else you could raise an exception or do nothing or log the error etc\n",
    "\n",
    "    # we can have private methods as well\n",
    "    # let's create a private method that checks if the password is valid\n",
    "    def __is_password_valid(self, password):\n",
    "        return len(password) >= 8 # this could be as complex as you want\n",
    "\n",
    "\n",
    "# let's create some robot spies\n",
    "austin = RobotSpy('Austin Powers', '068', 'shagadelic')\n",
    "bond = RobotSpy('James Bond', '007', 'password123')\n"
   ]
  },
  {
   "cell_type": "code",
   "execution_count": 28,
   "metadata": {},
   "outputs": [
    {
     "name": "stdout",
     "output_type": "stream",
     "text": [
      "The name of the austin Robot is:  Austin Powers\n",
      "The code name of the bond Robot is:  007\n",
      "Error:  'RobotSpy' object has no attribute '__secret_password'\n"
     ]
    }
   ],
   "source": [
    "# now we can access public variables with ease\n",
    "print(\"The name of the austin Robot is: \", austin.name)\n",
    "\n",
    "# we can get code name for bond robot\n",
    "print(\"The code name of the bond Robot is: \", bond._internal_name)\n",
    "\n",
    "# we can not get the secret name of the bond robot directly\n",
    "try:\n",
    "    print(\"The secret name of the bond Robot is: \", bond.__secret_password)\n",
    "except AttributeError as e:\n",
    "    print(\"Error: \", e)\n"
   ]
  },
  {
   "cell_type": "code",
   "execution_count": 29,
   "metadata": {},
   "outputs": [
    {
     "name": "stdout",
     "output_type": "stream",
     "text": [
      "Mr. Bond your secret is password123\n",
      "Mr. Bond your secret is 12345678\n",
      "I can get your password without using the get method 12345678\n",
      "False\n"
     ]
    }
   ],
   "source": [
    "# thus to access the secret password we need to use the get method\n",
    "print(\"Mr. Bond your secret is\", bond.get_secret_password())\n",
    "\n",
    "# we can also use the set method to change the secret password\n",
    "bond.set_secret_password(\"12345678\")\n",
    "print(\"Mr. Bond your secret is\", bond.get_secret_password())\n",
    "\n",
    "# we mentioned that the password is name mangling protected\n",
    "# if we really want to access it we can still do it like this\n",
    "print(\"I can get your password without using the get method\", bond._RobotSpy__secret_password)\n",
    "\n",
    "# this is not recommended but possible\n",
    "# similarly we could access the private method if we knew the name\n",
    "# but this is not recommended\n",
    "print(bond._RobotSpy__is_password_valid(\"123456\"))\n",
    "\n",
    "# overall encapsulation in Python is not enforced too strictly\n",
    "# but it is still a good practice to use it on larger projects"
   ]
  },
  {
   "cell_type": "markdown",
   "metadata": {},
   "source": [
    "#### Topic 2.2: - inheritance\n",
    "\n",
    "Inheritance is one of the fundamental pillars of object-oriented programming (OOP).\n",
    "\n",
    "It allows a class (called the subclass or derived class) to inherit attributes and methods from another class (called the superclass or base class). Inheritance models the \"is-a\" relationship between objects and promotes code reuse and the creation of hierarchies.\n",
    "\n",
    "*Note: technically it is possible to inherit from multiple classes but generally it is not recommended because it can lead to confusion and extra complexity.*"
   ]
  },
  {
   "cell_type": "code",
   "execution_count": 30,
   "metadata": {},
   "outputs": [],
   "source": [
    "# general syntax for class based inheritance\n",
    "class BaseClass:\n",
    "    pass\n",
    "\n",
    "class DerivedClass(BaseClass):\n",
    "    pass\n",
    "\n",
    "# this example is pretty useless, but it shows the syntax"
   ]
  },
  {
   "cell_type": "code",
   "execution_count": 31,
   "metadata": {},
   "outputs": [
    {
     "name": "stdout",
     "output_type": "stream",
     "text": [
      "<__main__.DerivedClass object at 0x000002308F22A190>\n"
     ]
    }
   ],
   "source": [
    "my_object = DerivedClass()\n",
    "print(my_object)"
   ]
  },
  {
   "cell_type": "code",
   "execution_count": 32,
   "metadata": {},
   "outputs": [],
   "source": [
    "# defining and using inheritance\n",
    "\n",
    "class FlyingVehicle:\n",
    "    def __init__(self, name, speed):\n",
    "        self.name = name\n",
    "        self.speed = speed\n",
    "\n",
    "    def __str__(self): # we are overriding the __str__ method from the object class\n",
    "        return f\"{self.name} flies at {self.speed} mph\"\n",
    "\n",
    "#    def __repr__(self): # we are overriding the __repr__ method from the object class\n",
    "#        return f\"FlyingVehicle({self.__dict__})\"\n",
    "\n",
    "    def __repr__(self): # we are overriding the __repr__ method from the object class\n",
    "        return f\"{self.__class__.__name__}({self.__dict__})\"\n",
    "    \n",
    "    def fly(self): # this is a method specific to the FlyingVehicle class and all its subclasses\n",
    "        return f\"{self.name} is flying\"\n",
    "\n",
    "    \n",
    "class Airplane(FlyingVehicle):\n",
    "    def __init__(self, name, speed, capacity):\n",
    "        super().__init__(name, speed) # note the call to super() - this calls __init__ from the parent class (FlyingVehicle here)\n",
    "        self.capacity = capacity\n",
    "\n",
    "    def __str__(self): # we are overriding the __str__ method from parent class FlyingVehicle\n",
    "        return f\"{self.name} flies at {self.speed} mph and has a capacity of {self.capacity}\"\n",
    "\n",
    "    def fly(self): # we are overriding the fly method from parent class FlyingVehicle\n",
    "        return f\"{self.name} is flying with {self.capacity} passengers\"\n",
    "    \n",
    "    def take_off(self): # this is a method specific to the Airplane class and not present in the parent class\n",
    "        return f\"{self.name} is taking off\""
   ]
  },
  {
   "cell_type": "code",
   "execution_count": 33,
   "metadata": {},
   "outputs": [
    {
     "name": "stdout",
     "output_type": "stream",
     "text": [
      "Hot air balloon flies at 30 mph\n"
     ]
    },
    {
     "data": {
      "text/plain": [
       "FlyingVehicle({'name': 'Hot air balloon', 'speed': 30})"
      ]
     },
     "execution_count": 33,
     "metadata": {},
     "output_type": "execute_result"
    }
   ],
   "source": [
    "something = FlyingVehicle(\"Hot air balloon\", 30)\n",
    "\n",
    "print(something)\n",
    "\n",
    "something"
   ]
  },
  {
   "cell_type": "code",
   "execution_count": 34,
   "metadata": {},
   "outputs": [
    {
     "name": "stdout",
     "output_type": "stream",
     "text": [
      "Airbus flies at 500 mph and has a capacity of 200\n",
      "\n",
      "Airbus is taking off\n",
      "Airbus is flying with 200 passengers\n",
      "\n",
      "Airplane({'name': 'Airbus', 'speed': 500, 'capacity': 200})\n"
     ]
    }
   ],
   "source": [
    "plane = Airplane(\"Airbus\", 500, 200)\n",
    "print(plane)\n",
    "print()\n",
    "\n",
    "print(plane.take_off())\n",
    "print(plane.fly())\n",
    "print()\n",
    "\n",
    "print(repr(plane))"
   ]
  },
  {
   "cell_type": "markdown",
   "metadata": {},
   "source": [
    "### Example of built in class Counter\n",
    "\n",
    "Counter is actually a subclass (class that inherits from another) of dictionary class.\n",
    "\n",
    "Informally we could call it a \"dictionary with benefits\"."
   ]
  },
  {
   "cell_type": "code",
   "execution_count": 35,
   "metadata": {},
   "outputs": [],
   "source": [
    "from collections import Counter\n",
    "\n",
    "c = Counter(\"kaut kāds teksts un vēl cits teksts\".split())"
   ]
  },
  {
   "cell_type": "code",
   "execution_count": 36,
   "metadata": {},
   "outputs": [
    {
     "data": {
      "text/plain": [
       "['__add__',\n",
       " '__and__',\n",
       " '__class__',\n",
       " '__class_getitem__',\n",
       " '__contains__',\n",
       " '__delattr__',\n",
       " '__delitem__',\n",
       " '__dict__',\n",
       " '__dir__',\n",
       " '__doc__',\n",
       " '__eq__',\n",
       " '__format__',\n",
       " '__ge__',\n",
       " '__getattribute__',\n",
       " '__getitem__',\n",
       " '__getstate__',\n",
       " '__gt__',\n",
       " '__hash__',\n",
       " '__iadd__',\n",
       " '__iand__',\n",
       " '__init__',\n",
       " '__init_subclass__',\n",
       " '__ior__',\n",
       " '__isub__',\n",
       " '__iter__',\n",
       " '__le__',\n",
       " '__len__',\n",
       " '__lt__',\n",
       " '__missing__',\n",
       " '__module__',\n",
       " '__ne__',\n",
       " '__neg__',\n",
       " '__new__',\n",
       " '__or__',\n",
       " '__pos__',\n",
       " '__reduce__',\n",
       " '__reduce_ex__',\n",
       " '__repr__',\n",
       " '__reversed__',\n",
       " '__ror__',\n",
       " '__setattr__',\n",
       " '__setitem__',\n",
       " '__sizeof__',\n",
       " '__str__',\n",
       " '__sub__',\n",
       " '__subclasshook__',\n",
       " '__weakref__',\n",
       " '_keep_positive',\n",
       " 'clear',\n",
       " 'copy',\n",
       " 'elements',\n",
       " 'fromkeys',\n",
       " 'get',\n",
       " 'items',\n",
       " 'keys',\n",
       " 'most_common',\n",
       " 'pop',\n",
       " 'popitem',\n",
       " 'setdefault',\n",
       " 'subtract',\n",
       " 'total',\n",
       " 'update',\n",
       " 'values']"
      ]
     },
     "execution_count": 36,
     "metadata": {},
     "output_type": "execute_result"
    }
   ],
   "source": [
    "dir(c)"
   ]
  },
  {
   "cell_type": "code",
   "execution_count": 37,
   "metadata": {},
   "outputs": [
    {
     "data": {
      "text/plain": [
       "[('teksts', 2), ('kaut', 1)]"
      ]
     },
     "execution_count": 37,
     "metadata": {},
     "output_type": "execute_result"
    }
   ],
   "source": [
    "c.most_common(2)"
   ]
  },
  {
   "cell_type": "markdown",
   "metadata": {},
   "source": [
    "### Topic 2 - mini exercise\n",
    "\n",
    "Create a class TalkativePerson that inherits from Person class that you created in first exercise. TalkativePerson should have an additional method called talk() that prints \"Hello, my name is \" followed by their name.\n",
    "\n",
    "Also it should have a method that adds a hobby to the list of hobbies.\n",
    "Add a method that prints all hobbies of the person."
   ]
  },
  {
   "cell_type": "code",
   "execution_count": 38,
   "metadata": {},
   "outputs": [],
   "source": [
    "# TODO Create a class TalkativePerson that inherits from Person class\n",
    "# TODO create additional method called talk()\n",
    "# TODO create additional method called add_hobby(hobby_name)\n"
   ]
  },
  {
   "cell_type": "code",
   "execution_count": 39,
   "metadata": {},
   "outputs": [],
   "source": [
    "# TODO demonstrate your TalkativePerson class\n",
    "# talkative = TalkativePerson(\"John\", \"123\" , [])\n",
    "\n",
    "# talkative.talk()"
   ]
  },
  {
   "cell_type": "code",
   "execution_count": 40,
   "metadata": {},
   "outputs": [],
   "source": [
    "# TODO continue demonstrating your TalkativePerson class\n",
    "# print(talkative.hobbies)\n",
    "# print()\n",
    "\n",
    "# talkative.add_hobby(\"hiking\")\n",
    "# print(talkative.hobbies)"
   ]
  },
  {
   "cell_type": "markdown",
   "metadata": {},
   "source": [
    "## Topic 3 Polymorphism\n",
    "\n",
    "Polymorphism is another core concept in object-oriented programming (OOP). Derived from the Greek words \"poly\" (many) and \"morph\" (forms), polymorphism allows objects of different classes to be treated as if they are objects of the same class.\n",
    "\n",
    "The essence of polymorphism is providing a single interface for working with entities of different types.\n",
    "\n",
    "### Benefits of Polymorphism:\n",
    "\n",
    "* Flexibility: Polymorphism provides flexibility in using pre-defined methods across different types or classes.\n",
    "* Reusability: Common interfaces can be reused for objects of different types.\n",
    "* Extensibility: New classes can be added with little or no modification to existing code, promoting the Open/Closed Principle.\n",
    "\n",
    "### Polymorphism in Python\n",
    "\n",
    "Since Python is a dynamic language we use runtime polymorphism in Python. This will generally mean overwriting methods(we can not overload methods in Python).\n",
    "We can use the same function or operator on different types of objects. \n",
    "\n",
    "For example, we can use the + operator to add two integers or two strings. The same operator is also used to concatenate two lists.\n",
    "\n",
    "Definition: **Runtime (Dynamic) Polymorphism**: This occurs when the implementation of a particular interface or method is decided at runtime rather than at compile time. Inheritance and method overriding are its main tools."
   ]
  },
  {
   "cell_type": "code",
   "execution_count": 41,
   "metadata": {},
   "outputs": [
    {
     "name": "stdout",
     "output_type": "stream",
     "text": [
      "None\n",
      "Woof!\n",
      "Meow!\n"
     ]
    }
   ],
   "source": [
    "# Runtime Polymorphism\n",
    "class AnimalRobot:\n",
    "    def speak(self):\n",
    "        pass\n",
    "\n",
    "class Dog(AnimalRobot):\n",
    "    def speak(self):\n",
    "        return \"Woof!\"\n",
    "\n",
    "class Cat(AnimalRobot):\n",
    "    def speak(self):\n",
    "        return \"Meow!\"\n",
    "    \n",
    "# Here, both Dog and Cat are subclasses of AnimalRobot and \n",
    "# they both provide their own implementation of the speak() method.\n",
    "\n",
    "# At runtime, the speak method of the object's actual type (either Dog or Cat)\n",
    "# will be called, demonstrating polymorphism.\n",
    "\n",
    "pet = AnimalRobot()\n",
    "print(pet.speak())  # Output: None\n",
    "# In a way we are simulating the behavior of an abstract class in Python.\n",
    "\n",
    "pet = Dog()\n",
    "print(pet.speak())  # Output: Woof!\n",
    "\n",
    "pet = Cat()\n",
    "print(pet.speak())  # Output: Meow!"
   ]
  },
  {
   "cell_type": "markdown",
   "metadata": {},
   "source": [
    "### Topic 3.2 : - composibility\n",
    "\n",
    "Composability in object-oriented programming (OOP) refers to the design principle where simple objects are combined to create more complex ones. Rather than defining a monolithic structure that tries to capture every aspect of a problem domain, composability focuses on building smaller, simpler objects that can be combined in flexible ways.\n",
    "\n",
    "In OOP, this often means favoring composition over inheritance. While inheritance allows a new class to be derived from an existing one, sometimes it can lead to complex class hierarchies that are hard to understand, maintain, or modify. On the other hand, composition involves building classes by combining simpler, already-existing objects. This approach is more flexible and easier to understand.\n",
    "\n",
    "#### Implementing composition in Python\n",
    "\n",
    "* With composition, one class contains a reference to another class and delegates certain responsibilities, allowing you to mix and match features from different classes.\n",
    "* This way, instead of inheriting all properties and behaviors of a parent class, a class only references the properties and behaviors it needs."
   ]
  },
  {
   "cell_type": "code",
   "execution_count": 42,
   "metadata": {},
   "outputs": [
    {
     "name": "stdout",
     "output_type": "stream",
     "text": [
      "Engine starting...\n",
      "['Wheel 0 rotating...', 'Wheel 1 rotating...', 'Wheel 2 rotating...', 'Wheel 3 rotating...']\n",
      "Engine stopping...\n"
     ]
    }
   ],
   "source": [
    "## Composibility example\n",
    "\n",
    "class Engine:\n",
    "    def start(self):\n",
    "        return \"Engine starting...\"\n",
    "\n",
    "    def stop(self):\n",
    "        return \"Engine stopping...\"\n",
    "    \n",
    "class Wheel:\n",
    "    def __init__(self, number) -> None:\n",
    "        self.number = number\n",
    "    def rotate(self):\n",
    "        return f\"Wheel {self.number} rotating...\"\n",
    "\n",
    "class Car:\n",
    "    def __init__(self, num_wheels=4):\n",
    "        self.engine = Engine()\n",
    "        self.num_wheels = num_wheels\n",
    "        # we can use list comprehension to create a list of wheels\n",
    "        self.wheels = [Wheel(i) for i in range(num_wheels)] # note we pass in the wheel number to the Wheel constructor\n",
    "        \n",
    "    def start(self):\n",
    "        return self.engine.start()\n",
    "\n",
    "    def stop(self):\n",
    "        return self.engine.stop()\n",
    "    \n",
    "    def rotate_wheels(self):\n",
    "        return [wheel.rotate() for wheel in self.wheels]\n",
    "\n",
    "my_car = Car()\n",
    "print(my_car.start())  # Engine starting...\n",
    "print(my_car.rotate_wheels())  # ['Wheel rotating...', 'Wheel rotating...', 'Wheel rotating...', 'Wheel rotating...']\n",
    "print(my_car.stop())   # Engine stopping..\n"
   ]
  },
  {
   "cell_type": "markdown",
   "metadata": {},
   "source": [
    "In the above code, the Car class has an Engine object rather than inheriting from it. This allows Car to delegate the start and stop behaviors to the Engine, demonstrating composition.\n",
    "\n",
    "The Car class also has a list of Wheel objects. This allows Car to delegate the rotate behavior to each Wheel, demonstrating composition.\n",
    "\n",
    "- The ongoing challenge is how to design classes that are loosely coupled and highly cohesive.\n",
    "- There is also a question on how best communicate attributes between classes and methods of different classes.\n",
    "\n",
    "At some point you will need to decide whether to use inheritance or composition or both."
   ]
  },
  {
   "cell_type": "markdown",
   "metadata": {},
   "source": [
    "### Bonus: Simple \"data\" classes\n",
    "\n",
    "Sometimes it is useful to have a data type similar to the Pascal “record” or C “struct”, bundling together a few named data items. You could do this using an empty class definition:"
   ]
  },
  {
   "cell_type": "code",
   "execution_count": 43,
   "metadata": {},
   "outputs": [
    {
     "name": "stdout",
     "output_type": "stream",
     "text": [
      "{}\n",
      "{'name': 'Jānis Bērziņš', 'dept': 'IT nodaļa', 'salary': 2000}\n"
     ]
    }
   ],
   "source": [
    "class Employee:\n",
    "    \n",
    "    def __str__(self):\n",
    "        return f'{self.__dict__}'\n",
    "\n",
    "john = Employee()\n",
    "print(john)\n",
    "\n",
    "# Fill the fields of the record\n",
    "john.name = 'Jānis Bērziņš'\n",
    "john.dept = 'IT nodaļa'\n",
    "john.salary = 2000\n",
    "print(john)"
   ]
  },
  {
   "cell_type": "markdown",
   "metadata": {},
   "source": [
    "---\n",
    "\n",
    "... or you can define an Employee class with a proper `__init__` method and other related attributes and methods:\n"
   ]
  },
  {
   "cell_type": "code",
   "execution_count": 44,
   "metadata": {},
   "outputs": [],
   "source": [
    "class Employee:\n",
    "    \n",
    "    def __init__(self, name, dept, salary):\n",
    "        self.name = name\n",
    "        self.dept = dept\n",
    "        self.salary = salary\n",
    "        \n",
    "    def __str__(self):\n",
    "        return f'{self.__dict__}'"
   ]
  },
  {
   "cell_type": "code",
   "execution_count": 45,
   "metadata": {},
   "outputs": [
    {
     "name": "stdout",
     "output_type": "stream",
     "text": [
      "{'name': 'Jānis Bērziņš', 'dept': 'IT nodaļa', 'salary': 2000}\n"
     ]
    }
   ],
   "source": [
    "john2 = Employee('Jānis Bērziņš', 'IT nodaļa', 2000)\n",
    "print(john2)"
   ]
  },
  {
   "cell_type": "markdown",
   "metadata": {},
   "source": [
    "---\n",
    "\n",
    "... or you can use a **dataclass**.\n",
    "\n",
    "**Dataclasses** let you define objects that typically contain only data:\n",
    "- https://docs.python.org/3/library/dataclasses.html\n",
    "- https://realpython.com/python-data-classes/"
   ]
  },
  {
   "cell_type": "code",
   "execution_count": 46,
   "metadata": {},
   "outputs": [
    {
     "name": "stdout",
     "output_type": "stream",
     "text": [
      "Employee2(name='Jānis Bērziņš', dept='IT nodaļa', salary=2000)\n",
      "Jānis Bērziņš\n",
      "\n"
     ]
    }
   ],
   "source": [
    "from dataclasses import dataclass\n",
    "\n",
    "@dataclass   # this is a dataclass \"decorator\"\n",
    "class Employee2:\n",
    "    \"\"\"Class for information about company employees.\"\"\"\n",
    "    name: str\n",
    "    dept: str\n",
    "    salary: int\n",
    "\n",
    "john2 = Employee2('Jānis Bērziņš', 'IT nodaļa', 2000)\n",
    "print(john2)\n",
    "print(john2.name)\n",
    "\n",
    "print()"
   ]
  },
  {
   "cell_type": "markdown",
   "metadata": {},
   "source": [
    "## Praktiskie uzdevumi"
   ]
  },
  {
   "cell_type": "markdown",
   "metadata": {},
   "source": [
    "### Uzdevums - 1\n",
    "\n",
    "Izveidojiet klasi `Person` ar trim atribūtiem: `name` un `age` un `hobbies`. Izveidojiet klasi metodi, kas atgriež cilvēka vārdu un vecumu.\n",
    "\n",
    "Jums jaizmanto `__init__` metode, lai inicializētu klases atribūtus.\n",
    "\n",
    "Tāpat jāizveido savas `__str__` metode, lai varētu izdrukāt cilvēka informāciju.\n",
    "\n",
    "Tāpat jāizvedo kāda sava metode, kas atgriež cilvēka hobijus.\n"
   ]
  },
  {
   "cell_type": "code",
   "execution_count": null,
   "metadata": {},
   "outputs": [],
   "source": [
    "class Person:\n",
    "    pass\n",
    "    # TODO izveido mani!\n",
    "\n"
   ]
  },
  {
   "cell_type": "markdown",
   "metadata": {},
   "source": [
    "## Lesson Summary\n",
    "\n",
    "In this lesson we learned about the following concepts:\n",
    "\n",
    "* Classes - a blueprint for creating objects\n",
    "* Objects - an instance of a class\n",
    "* Attributes - data stored inside a class or instance and represent the state or quality of the class or instance\n",
    "* Methods - functions that are associated with a class\n",
    "\n",
    "---\n",
    "\n",
    "* Static Methods and Class Methods - methods that are associated with a class rather than an instance of a class\n",
    "* Dunder Methods - methods with double underscores before and after the method name, used to create functionality that can't be represented as a normal method\n",
    "* Initializers - special methods used to initialize new objects\n",
    "\n",
    "---\n",
    "\n",
    "* Encapsulation - the grouping of public and private attributes and methods into a programmatic class, making abstraction possible\n",
    "* Inheritance - when a class inherits the attributes and methods of another class\n",
    "* Polymorphism - overriding the functionality of a parent class in a child class\n",
    "* Composition - when a class is made up of other classes as attributes\n",
    "\n",
    "---\n",
    "\n",
    "* Dataclasses - simple classes that typically contain only data"
   ]
  },
  {
   "cell_type": "markdown",
   "metadata": {},
   "source": [
    "## Additional Resources\n",
    "\n",
    "### Topic 1 - classes and objects\n",
    "\n",
    "- [Classes official doc](https://docs.python.org/3/tutorial/classes.html)\n",
    "- [Objects official doc](https://docs.python.org/3/tutorial/classes.html#class-objects)\n",
    "- [`__dunder__` methods official doc](https://docs.python.org/3/reference/datamodel.html?highlight=__add__#special-method-names)\n",
    "- [statics and class methods Real Python](https://realpython.com/instance-class-and-static-methods-demystified/)\n",
    "\n",
    "### Topic 2 - resources\n",
    "\n",
    "- [Encapsulation G4G](https://www.geeksforgeeks.org/encapsulation-in-python/)\n",
    "- [Inheritance G4G](https://www.geeksforgeeks.org/inheritance-in-python/)\n",
    "\n",
    "### Topic 3 - resources\n",
    "\n",
    "- [Polymorphism G4G](https://www.geeksforgeeks.org/polymorphism-in-python/)\n",
    "- [Composition Real Python](https://realpython.com/inheritance-composition-python/)\n"
   ]
  },
  {
   "cell_type": "code",
   "execution_count": null,
   "metadata": {},
   "outputs": [],
   "source": []
  }
 ],
 "metadata": {
  "kernelspec": {
   "display_name": "Python 3 (ipykernel)",
   "language": "python",
   "name": "python3"
  },
  "language_info": {
   "codemirror_mode": {
    "name": "ipython",
    "version": 3
   },
   "file_extension": ".py",
   "mimetype": "text/x-python",
   "name": "python",
   "nbconvert_exporter": "python",
   "pygments_lexer": "ipython3",
   "version": "3.12.3"
  }
 },
 "nbformat": 4,
 "nbformat_minor": 4
}
