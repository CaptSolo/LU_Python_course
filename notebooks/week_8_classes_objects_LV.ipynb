{
 "cells": [
  {
   "cell_type": "markdown",
   "metadata": {},
   "source": [
    "![LU Logo](https://www.df.lu.lv/fileadmin/user_upload/LU.LV/Apaksvietnes/Fakultates/www.df.lu.lv/Par_mums/Logo/DF_logo/01_DF_logo_LV.png)"
   ]
  },
  {
   "cell_type": "markdown",
   "metadata": {},
   "source": [
    "# 8. nedēļa - Objektu Orientētās Programmēšana\n",
    "\n",
    "Mēs apskatīsim šādas tēmas:\n",
    "\n",
    "* klases un objekti\n",
    "* inkapsulācija, polimorfisms\n",
    "* mantošana, kompozīcija\n",
    "\n",
    "## Prasības priekšzināšanām\n",
    "\n",
    "Pirms šīs nodarbības ir svarīgi, lai jūs jau būtu iepazinušies ar šādām tēmām:\n",
    "* Pamata Python sintakse\n",
    "* Pamata Python datu tipi\n",
    "* Pamata Python operatori\n",
    "* Nosacījumu izteiksmes, sadalījums ar if, elif, else\n",
    "* Cikli: for un while\n",
    "* Funkcijas\n",
    "* imports, moduļi un pakotnes\n",
    "* Datu struktūras: saraksti, tuples, vārdnīcas, kopas\n",
    "* Failu ievade/izvade\n",
    "\n",
    "## Nodarbības plāns\n",
    "\n",
    "Nodarbības beigās jums jābūt spējīgiem:\n",
    "\n",
    "\n",
    "* saprast objektu orientētās programmēšanas pamatprincipus\n",
    "* izveidot klasi\n",
    "* izveidot objektu\n",
    "* saprast atšķirību starp klasi un objektu\n",
    "* saprast atšķirību starp klases atribūtu un objekta atribūtu\n",
    "* saprast atšķirību starp klases metodi un objekta metodi\n",
    "* saprast atšķirību starp mantošanu un kompozīciju\n",
    "* saprast atšķirību starp inkapsulāciju un polimorfismu\n",
    "\n"
   ]
  },
  {
   "cell_type": "markdown",
   "metadata": {},
   "source": [
    "## Nepieciešamo biblioteku imports\n",
    "\n",
    "Tehniski mums nevajag nekādas īpašas bibliotēkas šajā nodarbībā, bet mēs varētu izmantot `random` bibliotēku, lai parādītu kāda veida objekti var būt izveidoti. Tāpat mēs izmantojam `sys` biblioteku Python versijas pārbaudei. Savukārt datetime bibliotēka tiek izmantota laika datuma un laika iegūšanai.\n"
   ]
  },
  {
   "cell_type": "code",
   "execution_count": 1,
   "metadata": {},
   "outputs": [
    {
     "name": "stdout",
     "output_type": "stream",
     "text": [
      "Python version: 3.12.5 (tags/v3.12.5:ff3bc82, Aug  6 2024, 20:45:27) [MSC v.1940 64 bit (AMD64)]\n",
      "Date and time: 2024-09-30 15:56:29.153575\n"
     ]
    }
   ],
   "source": [
    "# generally imports go at the top of a notebook\n",
    "# python version\n",
    "import sys\n",
    "print(f\"Python version: {sys.version}\")\n",
    "# laiks\n",
    "from datetime import datetime\n",
    "print(f\"Date and time: {datetime.now()}\")\n",
    "# nejauši skaitļi\n",
    "import random"
   ]
  },
  {
   "cell_type": "markdown",
   "metadata": {},
   "source": [
    "## 1. tēma - Klases un objekti\n",
    "\n",
    "### 1.1 Objekt Orientētās Programmēšanas (OOP) ideja\n",
    "\n",
    "* OOP ir programmēšanas paradigma, kas nodrošina veidu, kā strukturēt programmas, lai īpašības un uzvedība tiktu iekļautas individuālās objektos.\n",
    "* OOP parādījās 1960. un 1970. gadu laikā kā atbilde uz problēmām, kas radās ar vecākajām programmēšanas paradigmas.\n",
    "* OOP ir balstīta uz konceptu, ka programmēšanas valodas jābūt orientētām uz objektiem, kas var saturēt datus un kodu:\n",
    "  * Dati tiek glabāti kā atribūti (bieži saukti par laukiem(fields) vai arī īpašībām(properties)).\n",
    "  * Izpildāmas kods tiek glabāts kā metodes (procedūras).\n",
    "* OOP ļauj izveidot atkārtoti izmantojamu kodu, kas ir labāk organizēts un saprotamāks.\n",
    " \n",
    "---\n",
    "\n",
    "* Klase ir kā veidne, kas definē objekta atribūtus un metodes.\n",
    "* Objekts ir konkrētas klases instance.\n",
    "* Objektiem raksturīga īpašība ir ka objekta procedūras var piekļūt un bieži vien modificēt objekta datu laukus, ar kuriem tie ir saistīti (objektiem ir jēdziens \"this\" vai \"self\").\n",
    "\n",
    "\n",
    "---\n",
    "\n",
    "* OOP ir balstīta uz četriem galvenajiem principiem:\n",
    "  * Abstrakcija\n",
    "  * Mantošana\n",
    "  * Polimorfisms\n",
    "  * Inkapsulācija\n",
    "* Veidojot programmu OOP sitlā, jūs veidojiet klases, kuru objekti (klases instances) var sazināties viens ar otru, lai veiktu darbības.\n",
    "* Pastāv daudz OOP valodu, bet Python ir viena no vispopulārākajām.\n",
    "* Python principā ir OOP valoda, bet tā ļauj arī izmantot citas paradigmas.\t\n",
    "* Python OOP ir ļoti elastīga un ļauj jums izmantot tikai tos OOP konceptus, kas jums ir nepieciešami.\n"
   ]
  },
  {
   "cell_type": "markdown",
   "metadata": {},
   "source": [
    "### Python tukšas klases veidošana"
   ]
  },
  {
   "cell_type": "code",
   "execution_count": 1,
   "metadata": {},
   "outputs": [
    {
     "name": "stdout",
     "output_type": "stream",
     "text": [
      "<__main__.Simple_Robot object at 0x000001E1679A04D0>\n"
     ]
    }
   ],
   "source": [
    "# Klase tātad ir objekta veidne - melnraksts, pēc kuras tiek veidots objekts.\n",
    "\n",
    "# Klases var būt arī bez īpašībām un metodēm, tās var būt tukšas.\n",
    "\n",
    "# izveidosim ļoti vienkāršu klasi - kurā nav ne īpašību, nedz metodes.\n",
    "\n",
    "class Simple_Robot:\n",
    "    \"\"\"\n",
    "    This class does nothing.\n",
    "    \"\"\"\n",
    "    pass # empty command\n",
    "\n",
    "# izveidojam objektu no klases - tā saukto instanci\n",
    "robbie = Simple_Robot()\n",
    "\n",
    "print(robbie) # Izdrukās objekta adresi atmiņā"
   ]
  },
  {
   "cell_type": "code",
   "execution_count": 2,
   "metadata": {},
   "outputs": [
    {
     "name": "stdout",
     "output_type": "stream",
     "text": [
      "Help on Simple_Robot in module __main__ object:\n",
      "\n",
      "class Simple_Robot(builtins.object)\n",
      " |  This class does nothing.\n",
      " |\n",
      " |  Data descriptors defined here:\n",
      " |\n",
      " |  __dict__\n",
      " |      dictionary for instance variables\n",
      " |\n",
      " |  __weakref__\n",
      " |      list of weak references to the object\n",
      "\n"
     ]
    }
   ],
   "source": [
    "help(robbie)"
   ]
  },
  {
   "cell_type": "code",
   "execution_count": 3,
   "metadata": {},
   "outputs": [
    {
     "name": "stdout",
     "output_type": "stream",
     "text": [
      "<__main__.Simple_Robot object at 0x000001E167AF1160>\n"
     ]
    }
   ],
   "source": [
    "# šadus objektus var izveidot cik vien vēlas\n",
    "another_robot = Simple_Robot()\n",
    "print(another_robot) # šis būs cits objekts ar citu adresi atmiņā"
   ]
  },
  {
   "cell_type": "code",
   "execution_count": 4,
   "metadata": {},
   "outputs": [
    {
     "name": "stdout",
     "output_type": "stream",
     "text": [
      "red\n",
      "30\n"
     ]
    }
   ],
   "source": [
    "# tā kā mūsu klases veidne bija tukša tad šie objekti praktiski neko nedarīs, nedz saturēs kādus datus.\n",
    "# mēs varam mainīt situāciju, pievienojot īpašības klasei.\n",
    "robbie.color = \"red\"\n",
    "robbie.weight = 30\n",
    "\n",
    "# tagad mūsu objekts satur divas īpašības - krāsu un svaru\n",
    "print(robbie.color)\n",
    "print(robbie.weight)\n",
    "\n",
    "# tomēr vai šai pieejai ir kāda problēma?"
   ]
  },
  {
   "cell_type": "markdown",
   "metadata": {},
   "source": [
    "### Robot klases veidošana"
   ]
  },
  {
   "cell_type": "code",
   "execution_count": 5,
   "metadata": {},
   "outputs": [],
   "source": [
    "# Daudz ērtāk būtu, ja objektu izveidojot varētu piešķirt īpašības.\n",
    "# Izveidosim klasi, kuras objektus veidojot tiem jau būs kādas īpašības.\n",
    "\n",
    "class Robot:\n",
    "    # __init__ ir tā saucamā \"maģiskā metode\", kas tiek izsaukta, kad tiek izveidots jauns objekts\n",
    "    # tipiski to lieto, lai inicializētu objekta īpašības\n",
    "\n",
    "    # __init__ tiek izsaukta automātiski, tā netiek izsaukta ekspliciti\n",
    "    # __init__ ir cieši saistīta ar konstruktoriem citās valodās\n",
    "    # tehniski tas nav 100% tas pats, jo tas tiek izsaukts uzreiz pēc objekta izveides nevis tā izveides laikā\n",
    "    \n",
    "    # self ir atsauce uz pašu objektu (nevis klasi!)\n",
    "\n",
    "    def __init__(self, name, color, weight): # ieverojam ka __init__ metodei ir jābūt vismaz vienam argumentam - self\n",
    "        self.name = name # mēs piešķiram objekta īpašībām vērtības, kas tiek padotas kā argumenti\n",
    "        self.color = color # nosaukumiem nav jābūt vienādiem ar argumentiem\n",
    "        self.weight = weight\n",
    "        print(f\"Robot {name} is created!\") # šis izdruksies, kad tiks izveidots objekts\n",
    "\n",
    "    # šis klases objektiem būs arī mūsu definēta metode (funkcija) - say_hi\n",
    "    # šai metodei ir jābūt vismaz vienam argumentam - self\n",
    "    # šī metode līdz ar to var piekļūt objekta īpašībām un citām metodēm\n",
    "    def say_hi(self):\n",
    "        '''\n",
    "        This function says hi.\n",
    "        '''\n",
    "        # this is a custom method that we can call on the object\n",
    "        # note the use of self to access the object's attributes\n",
    "        print(\"Hi, my name is \" + self.name) # so method can access the object's attributes using self"
   ]
  },
  {
   "cell_type": "code",
   "execution_count": 6,
   "metadata": {},
   "outputs": [
    {
     "name": "stdout",
     "output_type": "stream",
     "text": [
      "Robot Arnie is created!\n",
      "Hi, my name is Arnie\n",
      "\n",
      "Robot Bob is created!\n",
      "Hi, my name is Bob\n"
     ]
    }
   ],
   "source": [
    "# izveidosim pāris robotus un apskatīsim to darbību\n",
    "\n",
    "arnie = Robot(\"Arnie\", \"metallic\", 180) # ievērojiet mēs padevām trīs argumentus, bet __init__ metodei ir četri, jo self tiek padots automātiski\n",
    "arnie.say_hi() # šoreiz nav neviena argumenta, jo self tiek padots automātiski\n",
    "print()\n",
    "\n",
    "bob = Robot(\"Bob\", \"plastic\", 120)\n",
    "bob.say_hi()"
   ]
  },
  {
   "cell_type": "code",
   "execution_count": 8,
   "metadata": {},
   "outputs": [
    {
     "name": "stdout",
     "output_type": "stream",
     "text": [
      "<__main__.Robot object at 0x000001E167AF1550>\n"
     ]
    }
   ],
   "source": [
    "print(arnie)\n",
    "# bez citu metožu definēšanas, objektiem būs noklusējuma metodes, piemēram __str__\n",
    "# šī metode ļauj izdrukāt objektu, izmantojot print funkciju\n",
    "# noklusējuma __str__ metode izdrukās objekta adresi atmiņā, kas nav īpaši noderīgi"
   ]
  },
  {
   "cell_type": "code",
   "execution_count": 9,
   "metadata": {},
   "outputs": [
    {
     "data": {
      "text/plain": [
       "['__class__',\n",
       " '__delattr__',\n",
       " '__dict__',\n",
       " '__dir__',\n",
       " '__doc__',\n",
       " '__eq__',\n",
       " '__format__',\n",
       " '__ge__',\n",
       " '__getattribute__',\n",
       " '__getstate__',\n",
       " '__gt__',\n",
       " '__hash__',\n",
       " '__init__',\n",
       " '__init_subclass__',\n",
       " '__le__',\n",
       " '__lt__',\n",
       " '__module__',\n",
       " '__ne__',\n",
       " '__new__',\n",
       " '__reduce__',\n",
       " '__reduce_ex__',\n",
       " '__repr__',\n",
       " '__setattr__',\n",
       " '__sizeof__',\n",
       " '__str__',\n",
       " '__subclasshook__',\n",
       " '__weakref__',\n",
       " 'color',\n",
       " 'name',\n",
       " 'say_hi',\n",
       " 'weight']"
      ]
     },
     "execution_count": 9,
     "metadata": {},
     "output_type": "execute_result"
    }
   ],
   "source": [
    "dir(arnie)\n",
    "# dir parāda visas objekta metodes un īpašības, mēs redzam arī mūsu definētās metodes un īpašības\n"
   ]
  },
  {
   "cell_type": "markdown",
   "metadata": {},
   "source": [
    "### 1.2 - Dunder metodes\n",
    "\n",
    "Tā sauktās dunder metodes ir speciālas metodes, kas tiek izmantotas, lai emulētu vai pārrakstītu kādu iebūvētu uzvedību Pythonā.\n",
    "\n",
    "Tās var atpazīt pēc divām apakšsvītrām sākumā un beigās to nosaukumā. Piemēram, `__init__` metode ir dunder metode, kas tiek izmantota, lai inicializētu jaunu objektu.\n",
    "\n",
    "Pilns saraksts ar dunder metodēm: https://docs.python.org/3/reference/datamodel.html#special-method-names\n",
    "\n"
   ]
  },
  {
   "cell_type": "code",
   "execution_count": 10,
   "metadata": {},
   "outputs": [],
   "source": [
    "\n",
    "\n",
    "# Kad mēs izdrukājām objektu, mēs saņēmām objekta teksta reprezentāciju un tā atrašanās vietu atmiņā.\n",
    "\n",
    "# Mēs varam to mainīt, definējot __str__() metodi.\n",
    "\n",
    "# Izveidosim jaunu klasi, kas pārvalda UFO objektus. Šoreiz mēs definēsim __str__() metodi.\n",
    "\n",
    "class UFO:\n",
    "    def __init__(self, x, y): # jau zinām, ka __init__ tiek izsaukta automātiski\n",
    "        self.x = x\n",
    "        self.y = y\n",
    "        print(f\"UFO at ({self.x}, {self.y}) is created!\")\n",
    "        \n",
    "    def __str__(self):\n",
    "        return f\"UFO at ({self.x}, {self.y})\"\n",
    "    \n",
    "# mums ir daudz citu metožu, kas varētu būt noderīgas, piemēram __add__\n",
    "# tā ļaus mums saskaitīt divus UFO objektus kopā izmantojot + zīmi\n",
    "    def __add__(self, other):\n",
    "        return UFO(self.x + other.x, self.y + other.y) # this returns a new UFO object with new coordinates"
   ]
  },
  {
   "cell_type": "code",
   "execution_count": 11,
   "metadata": {},
   "outputs": [
    {
     "name": "stdout",
     "output_type": "stream",
     "text": [
      "UFO at (10, 20) is created!\n",
      "UFO at (10, 20)\n"
     ]
    }
   ],
   "source": [
    "ufo = UFO(10, 20)\n",
    "print(ufo) # tagad mēs redzam mūsu definēto teksta reprezentāciju"
   ]
  },
  {
   "cell_type": "code",
   "execution_count": 12,
   "metadata": {},
   "outputs": [
    {
     "name": "stdout",
     "output_type": "stream",
     "text": [
      "UFO at (1000, 2000) is created!\n",
      "UFO at (1000, 2000)\n",
      "\n",
      "UFO at (1010, 2020) is created!\n",
      "UFO at (1010, 2020)\n"
     ]
    }
   ],
   "source": [
    "weather_balloon = UFO(1000, 2000)\n",
    "print(weather_balloon)\n",
    "print()\n",
    "\n",
    "# izveidosim jaunu objektu, kas ir divu citu objektu summa\n",
    "# to mēs varam darīt, jo mēs definējām __add__ metodi, kas iepriekš netika definēta\n",
    "ufo_weather_balloon = ufo + weather_balloon\n",
    "print(ufo_weather_balloon)"
   ]
  },
  {
   "cell_type": "markdown",
   "metadata": {},
   "source": [
    "### Python viss (gandrīz) ir objekts"
   ]
  },
  {
   "cell_type": "code",
   "execution_count": 13,
   "metadata": {},
   "outputs": [
    {
     "data": {
      "text/plain": [
       "'145'"
      ]
     },
     "execution_count": 13,
     "metadata": {},
     "output_type": "execute_result"
    }
   ],
   "source": [
    "# piemēram teksts ir objekts, kas satur vairākas metodes\n",
    "\"123\".replace(\"23\", \"45\")"
   ]
  },
  {
   "cell_type": "code",
   "execution_count": 14,
   "metadata": {},
   "outputs": [
    {
     "data": {
      "text/plain": [
       "['__add__',\n",
       " '__class__',\n",
       " '__contains__',\n",
       " '__delattr__',\n",
       " '__dir__',\n",
       " '__doc__',\n",
       " '__eq__',\n",
       " '__format__',\n",
       " '__ge__',\n",
       " '__getattribute__',\n",
       " '__getitem__',\n",
       " '__getnewargs__',\n",
       " '__getstate__',\n",
       " '__gt__',\n",
       " '__hash__',\n",
       " '__init__',\n",
       " '__init_subclass__',\n",
       " '__iter__',\n",
       " '__le__',\n",
       " '__len__',\n",
       " '__lt__',\n",
       " '__mod__',\n",
       " '__mul__',\n",
       " '__ne__',\n",
       " '__new__',\n",
       " '__reduce__',\n",
       " '__reduce_ex__',\n",
       " '__repr__',\n",
       " '__rmod__',\n",
       " '__rmul__',\n",
       " '__setattr__',\n",
       " '__sizeof__',\n",
       " '__str__',\n",
       " '__subclasshook__',\n",
       " 'capitalize',\n",
       " 'casefold',\n",
       " 'center',\n",
       " 'count',\n",
       " 'encode',\n",
       " 'endswith',\n",
       " 'expandtabs',\n",
       " 'find',\n",
       " 'format',\n",
       " 'format_map',\n",
       " 'index',\n",
       " 'isalnum',\n",
       " 'isalpha',\n",
       " 'isascii',\n",
       " 'isdecimal',\n",
       " 'isdigit',\n",
       " 'isidentifier',\n",
       " 'islower',\n",
       " 'isnumeric',\n",
       " 'isprintable',\n",
       " 'isspace',\n",
       " 'istitle',\n",
       " 'isupper',\n",
       " 'join',\n",
       " 'ljust',\n",
       " 'lower',\n",
       " 'lstrip',\n",
       " 'maketrans',\n",
       " 'partition',\n",
       " 'removeprefix',\n",
       " 'removesuffix',\n",
       " 'replace',\n",
       " 'rfind',\n",
       " 'rindex',\n",
       " 'rjust',\n",
       " 'rpartition',\n",
       " 'rsplit',\n",
       " 'rstrip',\n",
       " 'split',\n",
       " 'splitlines',\n",
       " 'startswith',\n",
       " 'strip',\n",
       " 'swapcase',\n",
       " 'title',\n",
       " 'translate',\n",
       " 'upper',\n",
       " 'zfill']"
      ]
     },
     "execution_count": 14,
     "metadata": {},
     "output_type": "execute_result"
    }
   ],
   "source": [
    "dir(\"123\")"
   ]
  },
  {
   "cell_type": "code",
   "execution_count": 15,
   "metadata": {},
   "outputs": [
    {
     "name": "stdout",
     "output_type": "stream",
     "text": [
      "Help on wrapper_descriptor:\n",
      "\n",
      "__add__(self, value, /) unbound builtins.str method\n",
      "    Return self+value.\n",
      "\n"
     ]
    }
   ],
   "source": [
    "help(str.__add__)"
   ]
  },
  {
   "cell_type": "code",
   "execution_count": 15,
   "metadata": {},
   "outputs": [
    {
     "data": {
      "text/plain": [
       "'123abc'"
      ]
     },
     "execution_count": 15,
     "metadata": {},
     "output_type": "execute_result"
    }
   ],
   "source": [
    "\"123\" + \"abc\" # tā kā str ir definēts __add__ mēs varam saskaitīt divus str objektus kopā"
   ]
  },
  {
   "cell_type": "code",
   "execution_count": 16,
   "metadata": {},
   "outputs": [
    {
     "name": "stdout",
     "output_type": "stream",
     "text": [
      "Help on method_descriptor:\n",
      "\n",
      "replace(self, old, new, count=-1, /) unbound builtins.str method\n",
      "    Return a copy with all occurrences of substring old replaced by new.\n",
      "\n",
      "      count\n",
      "        Maximum number of occurrences to replace.\n",
      "        -1 (the default value) means replace all occurrences.\n",
      "\n",
      "    If the optional argument count is given, only the first count occurrences are\n",
      "    replaced.\n",
      "\n"
     ]
    }
   ],
   "source": [
    "help(str.replace)"
   ]
  },
  {
   "cell_type": "markdown",
   "metadata": {},
   "source": [
    "### 1.3 Klases un statiskās metodes\n",
    "\n",
    "- Klases metodes ir metodes, kas nav saistītas ar objektu, bet ar pašu klasi. Tās tiek definētas, izmantojot @classmethod dekoratoru. Tās saņem klasi kā argumentu, kas ļauj tām piekļūt klases atribūtiem (nevis objekta atribūtiem).\n",
    "- Statiskās metodes ir līdzīgas klases metodēm, izņemot to, ka tās nesaņem papildus argumentus; tās ir identiskas normālām funkcijām, kas pieder klasei. Tās tiek definētas, izmantojot @staticmethod dekoratoru.\n",
    "\n",
    "Šādas metodes ir reti izmantotas, bet tās var būt noderīgas dažos gadījumos. Piemēram, mēs varētu izmantot klasi lai grupētu funkcijas, kas ir saistītas ar klasi, bet nav saistītas ar objektiem.\n",
    "\n",
    "Ieguvums šādām metodēm: tās netiek lieki duplicētas katrā objektā, kas tiek izveidots no klases."
   ]
  },
  {
   "cell_type": "code",
   "execution_count": 17,
   "metadata": {},
   "outputs": [],
   "source": [
    "# Izveidosim klasi sauktu par Calculator, kura izmantos klases un statiskās metodes\n",
    "\n",
    "# mēs glabāsim PI vērtību klases mainīgajā\n",
    "# mums būs klases metode, kas atgriezīs apļa laukumu\n",
    "# mums būs statiskā metode, kas atgriezīs skaitļa pakāpi\n",
    "\n",
    "\n",
    "class Calculator:\n",
    "    PI = 3.1415926\n",
    "    \n",
    "    @classmethod # tā sauktais dekorators, kas norāda, ka šī metode ir klases metode. Par dekoratoriem vēlāk būs vairāk\n",
    "    def area_of_circle(cls, radius): # ievērojam cls nevis self, lai gan tehniski nosaukums var būt jebkurš\n",
    "        # cls ir vispār pieņemtais nosaukums klases metodes argumentam\n",
    "        return cls.PI * radius * radius\n",
    "    \n",
    "    @staticmethod\n",
    "    def power_of_number(number, power): # ievērojam, ka šai metodei nav neviena īpašība, kas saistīta ar objektu\n",
    "        return number ** power\n",
    "  "
   ]
  },
  {
   "cell_type": "code",
   "execution_count": 18,
   "metadata": {},
   "outputs": [
    {
     "name": "stdout",
     "output_type": "stream",
     "text": [
      "Help on class Calculator in module __main__:\n",
      "\n",
      "class Calculator(builtins.object)\n",
      " |  Class methods defined here:\n",
      " |\n",
      " |  area_of_circle(radius)\n",
      " |\n",
      " |  ----------------------------------------------------------------------\n",
      " |  Static methods defined here:\n",
      " |\n",
      " |  power_of_number(number, power)\n",
      " |\n",
      " |  ----------------------------------------------------------------------\n",
      " |  Data descriptors defined here:\n",
      " |\n",
      " |  __dict__\n",
      " |      dictionary for instance variables\n",
      " |\n",
      " |  __weakref__\n",
      " |      list of weak references to the object\n",
      " |\n",
      " |  ----------------------------------------------------------------------\n",
      " |  Data and other attributes defined here:\n",
      " |\n",
      " |  PI = 3.1415926\n",
      "\n"
     ]
    }
   ],
   "source": [
    "help(Calculator)"
   ]
  },
  {
   "cell_type": "code",
   "execution_count": 19,
   "metadata": {},
   "outputs": [
    {
     "name": "stdout",
     "output_type": "stream",
     "text": [
      "78.539815\n",
      "8\n",
      "\n",
      "78.539815\n"
     ]
    }
   ],
   "source": [
    "# mēs uzreiz varam sākt izmantot šīs metodes, bez objekta izveides\n",
    "\n",
    "print(Calculator.area_of_circle(5))\n",
    "print(Calculator.power_of_number(2, 3))\n",
    "print()\n",
    "\n",
    "# jā ļoti gribas var izveidot objektu un izmantot klases metodi vai statisko metodi\n",
    "calc = Calculator() # izveidojam objektu\n",
    "print(calc.area_of_circle(5)) # šeit nav lielas jēgas, jo mēs neizmantojam objekta īpašības nedz metodes\n",
    "\n",
    "# tādad jūs varat izveidot klases, kas satur gan objekta metodes, gan klases metodes, gan statiskās metodes\n",
    "\n",
    "# statisko un klases metožu izmantošana var būt ērta, ja veidojam klasi kā bibliotēku, kurai nav nepieciešams objekts."
   ]
  },
  {
   "cell_type": "code",
   "execution_count": 21,
   "metadata": {},
   "outputs": [],
   "source": [
    "# print(peter)"
   ]
  },
  {
   "cell_type": "code",
   "execution_count": 22,
   "metadata": {},
   "outputs": [],
   "source": [
    "# peter.__dict__"
   ]
  },
  {
   "cell_type": "markdown",
   "metadata": {},
   "source": [
    "## 2. tēma - Iekapsulēšana, mantošana\n"
   ]
  },
  {
   "cell_type": "markdown",
   "metadata": {},
   "source": [
    "### 2.1 Iekapsulēšana - (Encapsulation in English)\n",
    "\n",
    "Kas ir iekapsulēšana OOP (objektu orientētajā programmēšanā)?\n",
    "\n",
    "Iekapsulēšana nozīmē apvienot kopā datus un metodes, kas strādā ar šiem datiem.\n",
    "\n",
    "Papildus tam, iekapsulēšana nozīmē, ka dati var būt paslēpti no citiem objektiem un tikai izmantojot ar tiem saistītās metodes var tos mainīt.\n",
    "\n",
    "#### Iekapsulēšanas priekšrocības:\n",
    "\n",
    "* Kontrole: Iekapsulēšana nodrošina kontroli pār datiem, ļaujot jums ierobežot vai atļaut datu modificēšanu tikai caur metodēm.\n",
    "* Elastība un uzturēšana: Tā kā objekta iekšējā reprezentācija ir paslēpta, to var mainīt, neietekmējot objekta ārējo saksarni - interfeisu. Tas ir noderīgi programmatūras uzturēšanai un atjaunināšanai.\n",
    "* Palielināta drošība: Aizsargā datu integritāti, ļaujot tos mainīt tikai noteiktā veidā.\n",
    "\n",
    "\n",
    "#### Iekapsulēšanas realizācija Python\n",
    "\n",
    "Lielākā daļa programmēšanas valodu piedāvā iespēju iekapsulēt datus, izmantojot privātus atribūtus un metodes. Python neizmanto šo pieeju pilnībā, bet tā vietā izmanto nosaukumu konvenciju, lai norādītu, ka atribūts vai metode ir privāta.\n",
    "\n",
    "Python iekapsulēšana tiek panākta, izmantojot vienkāršu konvenciju: ja atribūts vai metode sākas ar vienu apakšsvītru, tas tiek uzskatīts par privātu.\n",
    "\n",
    "Papildus tam, Python piedāvā iespēju izmantot divus apakšsvītrus, lai norādītu, ka atribūts vai metode ir ļoti privāta, un to nevajadzētu mainīt.\n",
    "Piemēram `_name` ir privāts atribūts, bet `__name` ir ļoti privāts atribūts.\n",
    "\n",
    "Atribūtiem ar divām apakšvītrām joprojām ir piekļuve no ārpuses, bet tie ir pārdēvēti, lai padarītu to grūtāk pieejamu. Angliski to sauc par \"name mangling\".\n",
    "\n",
    "\"Privāti\" mainīgie Python: https://docs.python.org/3/tutorial/classes.html#private-variables\n",
    "\n",
    "\n"
   ]
  },
  {
   "cell_type": "markdown",
   "metadata": {},
   "source": [
    "#### Iekapsulēšanas piemērs\n",
    "\n"
   ]
  },
  {
   "cell_type": "code",
   "execution_count": 1,
   "metadata": {},
   "outputs": [],
   "source": [
    "class Customer:\n",
    "    \"\"\"A customer of ABC Bank with a checking account. Customers have the\n",
    "    following properties:\n",
    "\n",
    "    Attributes:\n",
    "        name: A string representing the customer's name.\n",
    "        _balance: A float tracking the current balance of the customer's account.\n",
    "    \"\"\"\n",
    "\n",
    "    def __init__(self, name, balance=0.0):\n",
    "        \"\"\"Return a Customer object whose name is *name* and starting\n",
    "        balance is *balance*.\"\"\"\n",
    "        self.name = name\n",
    "        self._balance = balance\n",
    "\n",
    "    def get_balance(self):\n",
    "        return self._balance\n",
    "        \n",
    "    def withdraw(self, amount):\n",
    "        \"\"\"Return the balance remaining after withdrawing *amount*\n",
    "        dollars.\"\"\"\n",
    "        if amount > self._balance:\n",
    "            raise RuntimeError('Amount greater than the available balance.')\n",
    "        self._balance -= amount\n",
    "        return self._balance\n",
    "\n",
    "    def deposit(self, amount):\n",
    "        \"\"\"Return the balance remaining after depositing *amount*\n",
    "        dollars.\"\"\"\n",
    "        self._balance += amount\n",
    "        return self._balance"
   ]
  },
  {
   "cell_type": "code",
   "execution_count": 24,
   "metadata": {},
   "outputs": [
    {
     "name": "stdout",
     "output_type": "stream",
     "text": [
      "Help on class Customer in module __main__:\n",
      "\n",
      "class Customer(builtins.object)\n",
      " |  Customer(name, balance=0.0)\n",
      " |  \n",
      " |  A customer of ABC Bank with a checking account. Customers have the\n",
      " |  following properties:\n",
      " |  \n",
      " |  Attributes:\n",
      " |      name: A string representing the customer's name.\n",
      " |      _balance: A float tracking the current balance of the customer's account.\n",
      " |  \n",
      " |  Methods defined here:\n",
      " |  \n",
      " |  __init__(self, name, balance=0.0)\n",
      " |      Return a Customer object whose name is *name* and starting\n",
      " |      balance is *balance*.\n",
      " |  \n",
      " |  deposit(self, amount)\n",
      " |      Return the balance remaining after depositing *amount*\n",
      " |      dollars.\n",
      " |  \n",
      " |  get_balance(self)\n",
      " |  \n",
      " |  withdraw(self, amount)\n",
      " |      Return the balance remaining after withdrawing *amount*\n",
      " |      dollars.\n",
      " |  \n",
      " |  ----------------------------------------------------------------------\n",
      " |  Data descriptors defined here:\n",
      " |  \n",
      " |  __dict__\n",
      " |      dictionary for instance variables (if defined)\n",
      " |  \n",
      " |  __weakref__\n",
      " |      list of weak references to the object (if defined)\n",
      "\n"
     ]
    }
   ],
   "source": [
    "help(Customer)"
   ]
  },
  {
   "cell_type": "code",
   "execution_count": 25,
   "metadata": {},
   "outputs": [
    {
     "name": "stdout",
     "output_type": "stream",
     "text": [
      "Current balance is 333\n",
      "Current balance is 33\n"
     ]
    }
   ],
   "source": [
    "vs = Customer(\"Pēteris\", balance=333)\n",
    "\n",
    "print(f\"Current balance is {vs.get_balance()}\")\n",
    "\n",
    "vs.withdraw(300)\n",
    "print(f\"Current balance is {vs.get_balance()}\")"
   ]
  },
  {
   "cell_type": "code",
   "execution_count": 26,
   "metadata": {},
   "outputs": [
    {
     "name": "stdout",
     "output_type": "stream",
     "text": [
      "RuntimeError: Amount greater than the available balance.\n",
      "Current balance is 33\n"
     ]
    }
   ],
   "source": [
    "try:\n",
    "    vs.withdraw(40)\n",
    "except RuntimeError:\n",
    "    print(\"RuntimeError: Amount greater than the available balance.\")\n",
    "print(f\"Current balance is {vs.get_balance()}\")"
   ]
  },
  {
   "cell_type": "markdown",
   "metadata": {},
   "source": [
    "#### Atribūtu un metožu slēpšana"
   ]
  },
  {
   "cell_type": "code",
   "execution_count": 2,
   "metadata": {},
   "outputs": [
    {
     "name": "stdout",
     "output_type": "stream",
     "text": [
      "Creating a new robot spy named Austin Powers\n",
      "Creating a new robot spy named James Bond\n"
     ]
    }
   ],
   "source": [
    "# izveidosim klasi, kas pārvalda robotu spiegu\n",
    "# tam būs privāta īpašība - __secret_password\n",
    "\n",
    "class RobotSpy:\n",
    "    \n",
    "    def __init__(self, name, internal_name, password):\n",
    "        print(f\"Creating a new robot spy named {name}\")\n",
    "        self.name = name\n",
    "        self._internal_name = internal_name # this is  purely a convention and does not prevent external code from accessing it\n",
    "        self.__secret_password = password # this does prevent external code from accessing it directly\n",
    "    \n",
    "    def get_secret_password(self):\n",
    "        # you could add extra logic here to check if the user is authorized to get the password\n",
    "        return self.__secret_password\n",
    "    \n",
    "    def set_secret_password(self, new_password):\n",
    "        # you could add extra logic here to check if the new password is valid\n",
    "        if self.__is_password_valid(new_password):\n",
    "        # you could check if the new password is at least 8 characters long etc\n",
    "        # also you could check if the user is authorized to change the password\n",
    "            self.__secret_password = new_password\n",
    "        # else you could raise an exception or do nothing or log the error etc\n",
    "\n",
    "    # we can have private methods as well\n",
    "    # let's create a private method that checks if the password is valid\n",
    "    def __is_password_valid(self, password):\n",
    "        return len(password) >= 8 # this could be as complex as you want\n",
    "\n",
    "\n",
    "# izveidosim pāris robotus spiegus\n",
    "austin = RobotSpy('Austin Powers', '068', 'shagadelic')\n",
    "bond = RobotSpy('James Bond', '007', 'password123')\n"
   ]
  },
  {
   "cell_type": "code",
   "execution_count": 4,
   "metadata": {},
   "outputs": [
    {
     "name": "stdout",
     "output_type": "stream",
     "text": [
      "The name of the austin Robot is:  Austin Powers\n",
      "The code name of the bond Robot is:  007\n",
      "Error:  'RobotSpy' object has no attribute '__secret_password'\n"
     ]
    }
   ],
   "source": [
    "# mēs varam iegūt nosaukumu austin robotam bez problēmām\n",
    "print(\"The name of the austin Robot is: \", austin.name)\n",
    "\n",
    "# mēs varam iegūt arī iekšējo nosaukum šiem robotiem (pārkāpjot konvenciju)\t\n",
    "print(\"The code name of the bond Robot is: \", bond._internal_name)\n",
    "\n",
    "# mēs nevaram iegūt paroles vērtību, jo tā ir \"privāta\"\n",
    "try:\n",
    "    print(\"The secret name of the bond Robot is: \", bond.__secret_password)\n",
    "except AttributeError as e:\n",
    "    print(\"Error: \", e)\n"
   ]
  },
  {
   "cell_type": "code",
   "execution_count": 5,
   "metadata": {},
   "outputs": [
    {
     "name": "stdout",
     "output_type": "stream",
     "text": [
      "Mr. Bond your secret is password123\n",
      "Mr. Bond your secret is 12345678\n",
      "I can get your password without using the get method 12345678\n",
      "False\n"
     ]
    }
   ],
   "source": [
    "# tātad, lai piekļūtu noslēpumam, mums ir jāizmanto get metode\n",
    "print(\"Mr. Bond your secret is\", bond.get_secret_password())\n",
    "\n",
    "# līdzīgi mēs varam mainīt paroli, izmantojot set metodi\n",
    "bond.set_secret_password(\"12345678\")\n",
    "print(\"Mr. Bond your secret is\", bond.get_secret_password())\n",
    "\n",
    "# ja mēs ļoti gribētu mēs tomēr varētu piekļūt paroles vērtībai, lai gan tā ir aizsargāta ar name mangling\t\n",
    "print(\"I can get your password without using the get method\", bond._RobotSpy__secret_password)\n",
    "\n",
    "# atkal pārkāpjot konvenciju un labo praksi, mēs varam izsaukt privātu metodi\n",
    "print(bond._RobotSpy__is_password_valid(\"123456\"))\n",
    "\n"
   ]
  },
  {
   "cell_type": "markdown",
   "metadata": {},
   "source": [
    "#### Iekapsulēšanas kopsavilkums\n",
    "\n",
    "Tātad iekapsulēšana ir OOP koncepts, kas ļauj jums apvienot datus un metodes vienā vienībā un paslēpt datus no citiem objektiem. Tas nodrošina kontroli pār datiem, elastību un uzturēšanu, kā arī palielina drošību.\n",
    "\n",
    "Python iekapsulēšana nav pārāk stingra, bet tā vietā izmanto nosaukumu konvenciju, lai norādītu, ka atribūts vai metode ir privāta. Atribūtiem un metodēm, kas sākas ar vienu apakšsvītru, uzskata par privātiem, bet tiem joprojām ir piekļuve no ārpuses. Atribūtiem un metodēm, kas sākas ar divām apakšsvītrām, uzskata par ļoti privātiem, un tos nevajadzētu mainīt."
   ]
  },
  {
   "cell_type": "markdown",
   "metadata": {},
   "source": [
    "### 2.2 - Mantošana\n",
    "\n",
    "Mantošana ir fundamentāls OOP koncepts, kas ļauj klasei iegūt īpašības un metodes no citas klases. Klasi, kura manto īpašības vai/un metodes, sauc par apakšklasi, bet klasi, no kuras manto īpašības, sauc par virsklasi.\n",
    "\n",
    "Mantošana ir svarīgs koncepts, jo tas veicina kodu atkārtotu izmantošanu un hierarhiju veidošanu. Tas ļauj jums izveidot jaunas klases, kas papildina vai maina jau esošas klases, neizmantojot kodu dublēšanu.\n",
    "\n",
    "Mantošana Python tiek panākta, definējot jaunu klasi, kas manto īpašības un metodes no citas klases. Lai definētu mantošanu, jums jānorāda virsklase, no kuras jūs vēlaties mantošanu, iekļaujot to jaunās klases definīcijā.\n",
    "\n",
    "Piezīme: \n",
    "Tehniski Python atļauj mantošanu no vairākām klasēm, bet tas nav ieteicams, jo tas var sarežģīt kodu un padarīt to grūti saprotamu."
   ]
  },
  {
   "cell_type": "markdown",
   "metadata": {},
   "source": [
    "#### Mantošanas piemēri"
   ]
  },
  {
   "cell_type": "code",
   "execution_count": 7,
   "metadata": {},
   "outputs": [
    {
     "name": "stdout",
     "output_type": "stream",
     "text": [
      "<__main__.DerivedClass object at 0x00000219CAEA1F10>\n"
     ]
    }
   ],
   "source": [
    "# vispārējā sintakse klases mantošanai ir šāda\n",
    "class BaseClass:\n",
    "    pass\n",
    "\n",
    "class DerivedClass(BaseClass):\n",
    "    pass\n",
    "\n",
    "# šis piemērs nav īpaši noderīgs, jo DerivedClass nav ko mantot no BaseClass, bet tas ir sintaktiski pareizs\n",
    "\n",
    "\n",
    "my_object = DerivedClass()\n",
    "print(my_object)"
   ]
  },
  {
   "cell_type": "code",
   "execution_count": 8,
   "metadata": {},
   "outputs": [],
   "source": [
    "# noderīgāk būtu, ja BaseClass saturētu kādas īpašības vai metodes, ko mēs vēlamies mantot\n",
    "\n",
    "class FlyingVehicle:\n",
    "    def __init__(self, name, speed):\n",
    "        self.name = name\n",
    "        self.speed = speed\n",
    "\n",
    "    def __str__(self): # we are overriding the __str__ method from the object class\n",
    "        return f\"{self.name} flies at {self.speed} mph\"\n",
    "\n",
    "#    def __repr__(self): # we are overriding the __repr__ method from the object class\n",
    "#        return f\"FlyingVehicle({self.__dict__})\"\n",
    "\n",
    "    def __repr__(self): # we are overriding the __repr__ method from the object class\n",
    "        return f\"{self.__class__.__name__}({self.__dict__})\"\n",
    "    \n",
    "    def fly(self): # this is a method specific to the FlyingVehicle class and all its subclasses\n",
    "        return f\"{self.name} is flying\"\n",
    "\n",
    "# mūsu lidmašīnas klase manto no FlyingVehicle klases\n",
    "\n",
    "class Airplane(FlyingVehicle):\n",
    "    def __init__(self, name, speed, capacity):\n",
    "        super().__init__(name, speed) # note the call to super() - this calls __init__ from the parent class (FlyingVehicle here)\n",
    "        self.capacity = capacity\n",
    "\n",
    "    def __str__(self): # we are overriding the __str__ method from parent class FlyingVehicle\n",
    "        return f\"{self.name} flies at {self.speed} mph and has a capacity of {self.capacity}\"\n",
    "\n",
    "    def fly(self): # we are overriding the fly method from parent class FlyingVehicle\n",
    "        return f\"{self.name} is flying with {self.capacity} passengers\"\n",
    "    \n",
    "    def take_off(self): # this is a method specific to the Airplane class and not present in the parent class\n",
    "        return f\"{self.name} is taking off\""
   ]
  },
  {
   "cell_type": "code",
   "execution_count": 10,
   "metadata": {},
   "outputs": [
    {
     "name": "stdout",
     "output_type": "stream",
     "text": [
      "Hot air balloon flies at 30 mph\n"
     ]
    },
    {
     "data": {
      "text/plain": [
       "FlyingVehicle({'name': 'Hot air balloon', 'speed': 30})"
      ]
     },
     "execution_count": 10,
     "metadata": {},
     "output_type": "execute_result"
    }
   ],
   "source": [
    "# parasts objekts no FlyingVehicle klases\n",
    "hot_air_baloon = FlyingVehicle(\"Hot air balloon\", 30)\n",
    "\n",
    "print(hot_air_baloon)\n",
    "\n",
    "hot_air_baloon"
   ]
  },
  {
   "cell_type": "code",
   "execution_count": 11,
   "metadata": {},
   "outputs": [
    {
     "name": "stdout",
     "output_type": "stream",
     "text": [
      "Airbus flies at 500 mph and has a capacity of 200\n",
      "\n",
      "Airbus is taking off\n",
      "Airbus is flying with 200 passengers\n",
      "\n",
      "Airplane({'name': 'Airbus', 'speed': 500, 'capacity': 200})\n"
     ]
    }
   ],
   "source": [
    "# objekts no Airplane klases, kas manto no FlyingVehicle klases un papildina to\n",
    "plane = Airplane(\"Airbus\", 500, 200)\n",
    "print(plane)\n",
    "print()\n",
    "\n",
    "print(plane.take_off())\n",
    "print(plane.fly())\n",
    "print()\n",
    "\n",
    "print(repr(plane))"
   ]
  },
  {
   "cell_type": "markdown",
   "metadata": {},
   "source": [
    "#### Counter iebūvētā klase - mantošanas piemērs standarta bibliotēkā\n",
    "\n",
    "Python standarta bibliotēkā ir iebūvēta klase, kura saucas Counter, kas ir piemērs mantošanai. Counter klase ir apakšklase, kas manto īpašības un metodes no vārdnīcas klases.\n",
    "\n",
    "Mazāk formāli mēs varētu to saukt par \"vārdnīcu ar priekšrocībām\". Tā ir ļoti noderīga klase, kas ļauj jums skaitīt objektus un tos grupēt pēc to biežuma.\n",
    "\n",
    "Apskataties ap 544 rindiņu Python pirmkodā, lai redzētu, kā Counter klase ir definēta kā apakšklase, kas manto no vārdnīcas klases.\n",
    "https://github.com/python/cpython/blob/3.12/Lib/collections/__init__.py\n",
    "\n"
   ]
  },
  {
   "cell_type": "code",
   "execution_count": 15,
   "metadata": {},
   "outputs": [
    {
     "data": {
      "text/plain": [
       "[('teksts', 2), ('kaut', 1), ('kāds', 1), ('un', 1), ('vēl', 1), ('cits', 1)]"
      ]
     },
     "execution_count": 15,
     "metadata": {},
     "output_type": "execute_result"
    }
   ],
   "source": [
    "from collections import Counter\n",
    "\n",
    "c = Counter(\"kaut kāds teksts un vēl cits teksts\".split())\n",
    "c.most_common()"
   ]
  },
  {
   "cell_type": "code",
   "execution_count": 16,
   "metadata": {},
   "outputs": [
    {
     "data": {
      "text/plain": [
       "['__add__',\n",
       " '__and__',\n",
       " '__class__',\n",
       " '__class_getitem__',\n",
       " '__contains__',\n",
       " '__delattr__',\n",
       " '__delitem__',\n",
       " '__dict__',\n",
       " '__dir__',\n",
       " '__doc__',\n",
       " '__eq__',\n",
       " '__format__',\n",
       " '__ge__',\n",
       " '__getattribute__',\n",
       " '__getitem__',\n",
       " '__getstate__',\n",
       " '__gt__',\n",
       " '__hash__',\n",
       " '__iadd__',\n",
       " '__iand__',\n",
       " '__init__',\n",
       " '__init_subclass__',\n",
       " '__ior__',\n",
       " '__isub__',\n",
       " '__iter__',\n",
       " '__le__',\n",
       " '__len__',\n",
       " '__lt__',\n",
       " '__missing__',\n",
       " '__module__',\n",
       " '__ne__',\n",
       " '__neg__',\n",
       " '__new__',\n",
       " '__or__',\n",
       " '__pos__',\n",
       " '__reduce__',\n",
       " '__reduce_ex__',\n",
       " '__repr__',\n",
       " '__reversed__',\n",
       " '__ror__',\n",
       " '__setattr__',\n",
       " '__setitem__',\n",
       " '__sizeof__',\n",
       " '__str__',\n",
       " '__sub__',\n",
       " '__subclasshook__',\n",
       " '__weakref__',\n",
       " '_keep_positive',\n",
       " 'clear',\n",
       " 'copy',\n",
       " 'elements',\n",
       " 'fromkeys',\n",
       " 'get',\n",
       " 'items',\n",
       " 'keys',\n",
       " 'most_common',\n",
       " 'pop',\n",
       " 'popitem',\n",
       " 'setdefault',\n",
       " 'subtract',\n",
       " 'total',\n",
       " 'update',\n",
       " 'values']"
      ]
     },
     "execution_count": 16,
     "metadata": {},
     "output_type": "execute_result"
    }
   ],
   "source": [
    "dir(c)"
   ]
  },
  {
   "cell_type": "markdown",
   "metadata": {},
   "source": [
    "## 3. tēma - Polimorfisms, kompozīcija\n",
    "\n",
    "Poliformisms ir vēl viens no galvenajiem OOP konceptiem. Poliformisms ir atvasināts no grieķu vārdiem \"poly\" (daudz) un \"morph\" (formas), tas ļauj objektiem no dažādām klasēm tikt uzskatīti par objektiem no vienas klases.\n",
    "\n",
    "Poliformisma pamatideja ir nodrošināt vienu interfeisu darbam ar dažāda veida objektiem. Tas ļauj jums izmantot vienu metodi vai funkciju, lai strādātu ar dažāda veida objektiem, neizmantojot sarežģītas loģikas pārbaudes.\n",
    "\n",
    "Kompozīcija ir citāds OOP koncepts, kas ļauj jums izveidot sarežģītus objektus, izmantojot vienkāršākus objektus. Kompozīcija ir līdzīga mantošanai(skat iepriekšējo tēmu), bet tā vietā, lai klase manto īpašības un metodes no citas klases, tā iekļauj citas klases objektus.\n",
    "\n",
    "\n",
    "### Poliformisma priekšrocības\n",
    "\n",
    "* Elastība: Poliformisms nodrošina elastību, izmantojot iepriekš definētas metodes dažāda veida objektiem.\n",
    "* Pārvaldība: Poliformisms ļauj jums izmantot vienu metodi vai funkciju, lai strādātu ar dažāda veida objektiem, neizmantojot sarežģītas loģikas pārbaudes.\n",
    "* Atkārtota izmantošana: Poliformisms nodrošina atkārtotu izmantošanu, izmantojot iepriekš definētas metodes dažāda veida objektiem.\n",
    "* Paplašināmība: Jaunās klases var pievienot ar nelielām vai bez modifikācijām esošajā kodā, veicinot Atvērtā/Aizvērtā Principu.\n",
    "\n",
    "### Poliformisms un Python\n",
    "\n",
    "Python ir dinamiska valoda, kas nozīmē, ka mēs izmantojam runtime poliformismu Python. Tas parasti nozīmē metožu pārrakstīšanu (mēs nevaram pārslodzēt (overload) metodes Python).\n",
    "\n",
    "Mēs varam izmantot to pašu funkciju vai operatoru dažāda veida objektiem. Piemēram, mēs varam izmantot + operatoru, lai saskaitītu divus veselus skaitļus vai divas virknes. Tas pats operators tiek izmantots, lai apvienotu divus sarakstus.\n",
    "\n",
    "Definīcija: **Runtime (Dinamiskais) Polimorfisms**: Tas notiek, kad konkrētas saskarnes vai metodes realizācija tiek izlemta darba laikā, nevis kompilēšanas laikā. Mantošana un metožu pārrakstīšana ir tā galvenie rīki.\n"
   ]
  },
  {
   "cell_type": "code",
   "execution_count": 1,
   "metadata": {},
   "outputs": [
    {
     "name": "stdout",
     "output_type": "stream",
     "text": [
      "None\n",
      "Woof!\n",
      "Meow!\n"
     ]
    }
   ],
   "source": [
    "# Runtime Polymorphism piemērs\n",
    "class AnimalRobot:\n",
    "    def speak(self):\n",
    "        pass\n",
    "\n",
    "class Dog(AnimalRobot):\n",
    "    def speak(self):\n",
    "        return \"Woof!\"\n",
    "\n",
    "class Cat(AnimalRobot):\n",
    "    def speak(self):\n",
    "        return \"Meow!\"\n",
    "    \n",
    "# Šeit gan Dog, gan Cat ir AnimalRobot apakšklases un abas nodrošina savu implementāciju speak() metodei.\n",
    "\n",
    "# Izpildes laikā tiks izsaukta objekta faktiskā tipa (vai nu Dog, vai Cat) speak() metode, demonstrējot polimorfismu.\n",
    "    \n",
    "pet = AnimalRobot()\n",
    "print(pet.speak())  # Output: None\n",
    "# Savā ziņā mēs simulējam abstraktas klases uzvedību Python.\n",
    "\n",
    "pet = Dog()\n",
    "print(pet.speak())  # Output: Woof!\n",
    "\n",
    "pet = Cat()\n",
    "print(pet.speak())  # Output: Meow!"
   ]
  },
  {
   "cell_type": "markdown",
   "metadata": {},
   "source": [
    "### 3.2 - tēma: - kompozīcija\n",
    "\n",
    "Kompozīcija Ojekt Orientētā Programmēšanā (OOP) attiecas uz dizaina principu, kur vienkārši objekti tiek apvienoti, lai izveidotu sarežģītākus objektus. Tā vietā, lai definētu monolītisku struktūru, kas cenšas iegūt katru problēmas jomas aspektu, kompozīcija koncentrējas uz vienkāršāku objektu apvienošanu.\n",
    "\n",
    "Kompozīcija ir viens no OOP principiem, kas veicina kodu atkārtotu izmantošanu un elastību. Tas ļauj jums izveidot sarežģītus objektus, izmantojot vienkāršākus objektus, kas ir vieglāk saprotami un uzturējami.\n",
    "\n",
    "\n",
    "#### Kompozīcijas izmantošana Python\n",
    "\n",
    "* Lai izmantotu kompozīciju Python, jums jāizveido klase, kas iekļauj citas klases objektus kā atribūtus.\n",
    "* Šiem atribūti var būt jebkura klase, kas jums ir nepieciešama, un jūs varat izmantot tos, lai veiktu sarežģītas darbības.\n",
    "* Kompozīcija ir līdzīga mantošanai, bet tā vietā, lai klase manto īpašības un metodes no citas klases, tā iekļauj citas klases objektus.\n"
   ]
  },
  {
   "cell_type": "code",
   "execution_count": 2,
   "metadata": {},
   "outputs": [
    {
     "name": "stdout",
     "output_type": "stream",
     "text": [
      "Engine starting...\n",
      "['Wheel 0 rotating...', 'Wheel 1 rotating...', 'Wheel 2 rotating...', 'Wheel 3 rotating...']\n",
      "Engine stopping...\n"
     ]
    }
   ],
   "source": [
    "## Kompozīcijas piemērs\n",
    "\n",
    "# Vispirms vienkāršas klases, kas pārvalda dažādas mašīnas sastāvdaļas\n",
    "class Engine:\n",
    "    def start(self):\n",
    "        return \"Engine starting...\"\n",
    "\n",
    "    def stop(self):\n",
    "        return \"Engine stopping...\"\n",
    "    \n",
    "class Wheel:\n",
    "    def __init__(self, number) -> None:\n",
    "        self.number = number\n",
    "    def rotate(self):\n",
    "        return f\"Wheel {self.number} rotating...\"\n",
    "    \n",
    "# Tagad pati automašīnas klase, kas izmanto Engine un Wheel klases\n",
    "\n",
    "class Car:\n",
    "    def __init__(self, num_wheels=4):\n",
    "        self.engine = Engine()\n",
    "        self.num_wheels = num_wheels\n",
    "        # we can use list comprehension to create a list of wheels\n",
    "        self.wheels = [Wheel(i) for i in range(num_wheels)] # note we pass in the wheel number to the Wheel constructor\n",
    "        \n",
    "    def start(self):\n",
    "        return self.engine.start()\n",
    "\n",
    "    def stop(self):\n",
    "        return self.engine.stop()\n",
    "    \n",
    "    def rotate_wheels(self):\n",
    "        return [wheel.rotate() for wheel in self.wheels]\n",
    "\n",
    "my_car = Car()\n",
    "print(my_car.start())  # Engine starting...\n",
    "print(my_car.rotate_wheels())  # ['Wheel rotating...', 'Wheel rotating...', 'Wheel rotating...', 'Wheel rotating...']\n",
    "print(my_car.stop())   # Engine stopping..\n"
   ]
  },
  {
   "cell_type": "markdown",
   "metadata": {},
   "source": [
    "Iepriekšējā koda piemēra, klase Car iekļauj Engine objektu, nevis manto no tā. Tas ļauj Car delegēt start un stop uzvedību Engine, demonstrējot kompozīciju.\n",
    "\n",
    "Car klasei ir arī saraksts ar Wheel objektiem. Tas ļauj Car delegēt rotācijas uzvedību katram Wheel, demonstrējot kompozīciju.\n",
    "\n",
    "#### Izaicinājumi kompozīcijā\n",
    "\n",
    "- Pastāvīgais izaicinājums ir, kā izstrādāt klases, kas ir vāji savienotas(*loose coupling*) un ar augstu saskaņotību(*high cohesion*).\n",
    "- Vēl atvērts paliek jautājums, kā labāk komunicēt atribūtus starp dažādām klasēm un to metodēm.\n",
    "\n",
    "### Kompozīcija vai Mantošana?\n",
    "\n",
    "Kad lietot kompozīciju un kad mantošanu?\n",
    "\n",
    "Ja jums ojektam pastāv jēdziens \"ir\" (piemēram, Suns ir Dzīvnieks), tad jums vajadzētu izmantot mantošanu.\n",
    "\n",
    "Ja jums objektam pastāv jēdziens \"ir daļa no\" (piemēram, Auto atrodas Dzinējs, jeb Dzinējs ir daļa no Auto), tad jums vajadzētu izmantot kompozīciju.\n",
    "\n",
    "Protams, sarežģītākos gadijumos jūs varat izmantot gan mantošanu, gan kompozīciju, lai izveidotu sarežģītus objektus."
   ]
  },
  {
   "cell_type": "markdown",
   "metadata": {},
   "source": [
    "## Bonuss: Vienkāršas \"datu\" klases\n",
    "\n",
    "Dažreiz ir noderīgi izveidot datu tipu, kas ir līdzīgs Pascal, Java \"record\" vai C \"struct\" vai pat Scala \"case class\", apvienojot kopā dažus nosauktus datu vienumus. To var izdarīt, izmantojot tukšu klases definīciju:\n",
    "\n"
   ]
  },
  {
   "cell_type": "code",
   "execution_count": 3,
   "metadata": {},
   "outputs": [
    {
     "name": "stdout",
     "output_type": "stream",
     "text": [
      "{}\n",
      "{'name': 'Jānis Bērziņš', 'dept': 'IT nodaļa', 'salary': 2000}\n"
     ]
    }
   ],
   "source": [
    "# primitīvaas klases no kuras vēlamies objektus tikai ar īpašībām\n",
    "class Employee:\n",
    "    \n",
    "    def __str__(self):\n",
    "        return f'{self.__dict__}'\n",
    "\n",
    "john = Employee()\n",
    "print(john)\n",
    "\n",
    "# ar \"roku\" aizpildīsim objekta īpašības\n",
    "john.name = 'Jānis Bērziņš'\n",
    "john.dept = 'IT nodaļa'\n",
    "john.salary = 2000\n",
    "print(john)\n",
    "# strādā bet nav visai parocīgi"
   ]
  },
  {
   "cell_type": "markdown",
   "metadata": {},
   "source": [
    "---\n",
    "\n",
    "... vai arī jūs varat definēt Employee klasi ar piemērotu `__init__` metodi un citiem saistītiem atribūtiem un metodēm:\n",
    "\n",
    "\n"
   ]
  },
  {
   "cell_type": "code",
   "execution_count": 4,
   "metadata": {},
   "outputs": [],
   "source": [
    "class Employee:\n",
    "    \n",
    "    def __init__(self, name, dept, salary):\n",
    "        self.name = name\n",
    "        self.dept = dept\n",
    "        self.salary = salary\n",
    "        \n",
    "    def __str__(self):\n",
    "        return f'{self.__dict__}'"
   ]
  },
  {
   "cell_type": "code",
   "execution_count": 5,
   "metadata": {},
   "outputs": [
    {
     "name": "stdout",
     "output_type": "stream",
     "text": [
      "{'name': 'Jānis Bērziņš', 'dept': 'IT nodaļa', 'salary': 2000}\n"
     ]
    }
   ],
   "source": [
    "john2 = Employee('Jānis Bērziņš', 'IT nodaļa', 2000)\n",
    "print(john2)"
   ]
  },
  {
   "cell_type": "markdown",
   "metadata": {},
   "source": [
    "---\n",
    "\n",
    "... vēl labāk jūs varat izmanto iebūvētās `dataclasses` bibliotēkas klasi, lai ātri izveidotu šādu klasi:\n",
    "\n",
    "**Datuklases** ļauj jums definēt objektus, kas parasti satur tikai datus:\n",
    "\n",
    "- https://docs.python.org/3/library/dataclasses.html\n",
    "- https://realpython.com/python-data-classes/"
   ]
  },
  {
   "cell_type": "code",
   "execution_count": 6,
   "metadata": {},
   "outputs": [
    {
     "name": "stdout",
     "output_type": "stream",
     "text": [
      "Employee2(name='Jānis Bērziņš', dept='IT nodaļa', salary=2000)\n",
      "Jānis Bērziņš\n",
      "\n"
     ]
    }
   ],
   "source": [
    "from dataclasses import dataclass\n",
    "\n",
    "@dataclass   # this is a dataclass \"decorator\"\n",
    "class Employee2:\n",
    "    \"\"\"Class for information about company employees.\"\"\"\n",
    "    name: str\n",
    "    dept: str\n",
    "    salary: int\n",
    "\n",
    "john2 = Employee2('Jānis Bērziņš', 'IT nodaļa', 2000)\n",
    "print(john2)\n",
    "print(john2.name)\n",
    "\n",
    "print()"
   ]
  },
  {
   "cell_type": "markdown",
   "metadata": {},
   "source": [
    "## Praktiskie uzdevumi"
   ]
  },
  {
   "cell_type": "markdown",
   "metadata": {},
   "source": [
    "### 1. uzdevums - Klases un objekti\n",
    "\n",
    "Izveidojiet klasi `Person` ar trim atribūtiem: `name` un `age` un `hobbies`. Izveidojiet klasi metodi, kas atgriež cilvēka vārdu un vecumu.\n",
    "\n",
    "Jums jaizmanto `__init__` metode, lai inicializētu klases atribūtus.\n",
    "\n",
    "Tāpat jāizveido savas `__str__` metode, lai varētu izdrukāt cilvēka informāciju.\n",
    "\n",
    "Tāpat jāizvedo kāda sava metode, kas atgriež cilvēka hobijus.\n"
   ]
  },
  {
   "cell_type": "code",
   "execution_count": null,
   "metadata": {},
   "outputs": [],
   "source": [
    "class Person:\n",
    "    pass\n",
    "    # TODO izveido mani!\n",
    "\n"
   ]
  },
  {
   "cell_type": "markdown",
   "metadata": {},
   "source": [
    "### 2. uzdevums - mantošana\n",
    "\n",
    "Izveidojie klasi `TalkativePerson`, kas manto no `Person` klases, kuru jūs izveidojāt pirmajā uzdevumā. `TalkativePerson` klasei jābūt papildus metodei, kas saucas `talk()`, kas izdrukā \"Hello, my name is \" un pēc tam cilvēka vārdu.\n",
    "\n",
    "Papildus tam jums jāizveido metode, kas pievieno hobiju cilvēkam.\n",
    "Vēl izveidojiet metodi, kas izdrukā visus cilvēka hobijus.\n"
   ]
  },
  {
   "cell_type": "code",
   "execution_count": null,
   "metadata": {},
   "outputs": [],
   "source": [
    "# TODO Create a class TalkativePerson that inherits from Person class\n",
    "# TODO create additional method called talk()\n",
    "# TODO create additional method called add_hobby(hobby_name)\n"
   ]
  },
  {
   "cell_type": "code",
   "execution_count": null,
   "metadata": {},
   "outputs": [],
   "source": [
    "# TODO demonstrate your TalkativePerson class\n",
    "# talkative = TalkativePerson(\"John\", \"123\" , [])\n",
    "\n",
    "# talkative.talk()"
   ]
  },
  {
   "cell_type": "code",
   "execution_count": null,
   "metadata": {},
   "outputs": [],
   "source": [
    "# TODO continue demonstrating your TalkativePerson class\n",
    "# print(talkative.hobbies)\n",
    "# print()\n",
    "\n",
    "# talkative.add_hobby(\"hiking\")\n",
    "# print(talkative.hobbies)"
   ]
  },
  {
   "cell_type": "markdown",
   "metadata": {},
   "source": [
    "### 3. uzdevums - kompozīcija\n",
    "\n",
    "Izveidojiet klasi \"Computer\" kurā ir iekļauts \"CPU\" objekts un \"RAM\" objekts. CPU objektam jābūt atribūtam \"speed\" un RAM objektam jābūt atribūtam \"size\".\n",
    "Pēc izvēles pievienojiet vēl kādu objektu, piemēram, \"GPU\" objektu ar attiecīgiem atribūtiem un/vai metodēm."
   ]
  },
  {
   "cell_type": "markdown",
   "metadata": {},
   "source": [
    "## Lesson Summary\n",
    "\n",
    "In this lesson we learned about the following concepts:\n",
    "\n",
    "* Classes - a blueprint for creating objects\n",
    "* Objects - an instance of a class\n",
    "* Attributes - data stored inside a class or instance and represent the state or quality of the class or instance\n",
    "* Methods - functions that are associated with a class\n",
    "\n",
    "---\n",
    "\n",
    "* Static Methods and Class Methods - methods that are associated with a class rather than an instance of a class\n",
    "* Dunder Methods - methods with double underscores before and after the method name, used to create functionality that can't be represented as a normal method\n",
    "* Initializers - special methods used to initialize new objects\n",
    "\n",
    "---\n",
    "\n",
    "* Encapsulation - the grouping of public and private attributes and methods into a programmatic class, making abstraction possible\n",
    "* Inheritance - when a class inherits the attributes and methods of another class\n",
    "* Polymorphism - overriding the functionality of a parent class in a child class\n",
    "* Composition - when a class is made up of other classes as attributes\n",
    "\n",
    "---\n",
    "\n",
    "* Dataclasses - simple classes that typically contain only data"
   ]
  },
  {
   "cell_type": "markdown",
   "metadata": {},
   "source": [
    "## Additional Resources\n",
    "\n",
    "### Topic 1 - classes and objects\n",
    "\n",
    "- [Classes official doc](https://docs.python.org/3/tutorial/classes.html)\n",
    "- [Objects official doc](https://docs.python.org/3/tutorial/classes.html#class-objects)\n",
    "- [`__dunder__` methods official doc](https://docs.python.org/3/reference/datamodel.html?highlight=__add__#special-method-names)\n",
    "- [statics and class methods Real Python](https://realpython.com/instance-class-and-static-methods-demystified/)\n",
    "\n",
    "### Topic 2 - resources\n",
    "\n",
    "- [Encapsulation G4G](https://www.geeksforgeeks.org/encapsulation-in-python/)\n",
    "- [Inheritance G4G](https://www.geeksforgeeks.org/inheritance-in-python/)\n",
    "\n",
    "### Topic 3 - resources\n",
    "\n",
    "- [Polymorphism G4G](https://www.geeksforgeeks.org/polymorphism-in-python/)\n",
    "- [Composition Real Python](https://realpython.com/inheritance-composition-python/)\n"
   ]
  },
  {
   "cell_type": "code",
   "execution_count": null,
   "metadata": {},
   "outputs": [],
   "source": []
  }
 ],
 "metadata": {
  "kernelspec": {
   "display_name": "venv312",
   "language": "python",
   "name": "python3"
  },
  "language_info": {
   "codemirror_mode": {
    "name": "ipython",
    "version": 3
   },
   "file_extension": ".py",
   "mimetype": "text/x-python",
   "name": "python",
   "nbconvert_exporter": "python",
   "pygments_lexer": "ipython3",
   "version": "3.12.3"
  }
 },
 "nbformat": 4,
 "nbformat_minor": 4
}
