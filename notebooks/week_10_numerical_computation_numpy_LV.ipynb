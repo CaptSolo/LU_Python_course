{
 "cells": [
  {
   "cell_type": "markdown",
   "metadata": {},
   "source": [
    "![LU Logo](https://www.df.lu.lv/fileadmin/user_upload/LU.LV/Apaksvietnes/Fakultates/www.df.lu.lv/Par_mums/Logo/DF_logo/01_DF_logo_LV.png)"
   ]
  },
  {
   "cell_type": "markdown",
   "metadata": {},
   "source": [
    "# 10. nedēļa - NumPy - fundamentāla bibliotēka skaitliskai datu apstrādei Python valodā\n",
    "\n",
    "![NumPy](https://numpy.org/doc/stable/_static/numpylogo.svg)\n",
    "\n",
    "`NumPy` (saīsinājums no Numerical Python) ir viena no pamatbibliotēkām skaitliskai datu apstrādei Python valodā. Tā nodrošina atbalstu lielām daudzdimensiju masīvu un matricu struktūrām. Tāpat `NumPy` piedāvā matemātisku funkciju kopumu, lai veiktu darbības ar šiem masīviem.\n",
    "\n",
    "\n",
    "## NumPy vēsture\t\n",
    "\n",
    "### Numeric\n",
    "\n",
    "* Pirms NumPy, bija Numeric, dažreiz saukts par \"Numerical\". Tas bija pirmais vecākais NumPy priekštecis un to izstrādāja Jim Hugunin 1990. gadu vidū.\n",
    "* Numeric bija pirmā plaši izplatītā, efektīvā skaitliskās programmēšanas bibliotēka Python valodā, nodrošinot masīva objektu un ar tiem saistītās operācijas.\n",
    "* Lai gan tā bija pamatbibliotēka, tai bija dažas ierobežojumu un neefektivitātes.\n",
    "\n",
    "### numarray\n",
    "\n",
    "* Tā kā Numeric ierobežojumi bija acīmredzami, tika izstrādāta cita masīvu apstrādes bibliotēka, ko sauc par numarray. To galvenokārt izstrādāja Perry Greenfield, Richard White, Jin-chung Hsu un Todd Miller no Space Telescope Science Institute.\n",
    "* Lai gan numarray risināja daudzud Numeric trūkumus, it īpaši lielos masīvos, un piedāvāja jaunas funkcijas, tā nebija saderīga ar Numeric.\n",
    "* Ši sadrumstalotība Python skaitļošanas kopienā bija problēma; daži lietotāji priekšroku deva Numeric ātrumam ar maziem masīviem, bet citi vēlējās numarray plašo funkciju kopu.\n",
    "\n",
    "\n",
    "### NumPy\n",
    "\n",
    "* Lai apvienotu sadrumstalotību, ko izraisīja Numeric un numarray, 2005. gadā Travis Oliphant, zināms zinātniskās Python kopienas pārstāvis, sāka NumPy izstrādi.\n",
    "* Travis Oliphant ņēma labākās daļas no Numeric un numarray un izveidoja NumPy. Būtībā tas bija pārstrādājums, kas iekļāva abu priekšgājēju funkcijas.\n",
    "* NumPy 1.0 tika izlaists 2006. gadā un kļuva par standartu skaitliskajām operācijām Python valodā, atkal apvienojot kopienas zem vienas, spēcīgas bibliotēkas.\n",
    "\n",
    "### Kopiena un turpmākā attīstība\n",
    "\n",
    "* Pēc pirmās izlaišanas NumPy popularitāte ievērojami pieauga, veidojot stipru pamatu citām bibliotēkām, piemēram, SciPy, Matplotlib un vēlāk Pandas (par ko būs redzams vēlāk kursā).\n",
    "* Šodien, NumPy uztur un uzlabo plaša izstrādātāju kopiena, nodrošinot tās nozīmi un lietderību zinātniskajā skaitliskajā aprēķinā.\n",
    "* NumPy bibliotēka ir arī bijusi svarīga daudzos citos datu zinātnes un mašīnmācīšanās projektos Python valodā.\n",
    "\n",
    "### NumFocus\n",
    "\n",
    "* NumPy kļuva par [NumFOCUS](https://numfocus.org/) fiskāli atbalstītu projektu, kas ir nevalstiska organizācija ASV. Šis atbalsts ir palīdzējis nodrošināt projekta ilgtspēju.\n",
    "\n",
    "\n",
    "### Resursi\n",
    "\n",
    "* [Numeric](https://pypi.org/project/Numeric/) - deprecated - vairāk nav atbalstīts\n",
    "* [numarray](https://svn.python.org/www/trunk/pydotorg/pycon/papers/numarray.html) - deprecated - vairāk nav atbalstīts\n",
    "* [history](http://www.southampton.ac.uk/~fangohr/teaching/python/book/html/14-numpy.html)\n",
    "\n",
    "### References\n",
    "\n",
    "* [NumPy](https://numpy.org/)\n",
    "\n",
    "### Grāmatas\n",
    "\n",
    "* [Python Data Science Handbook](https://jakevdp.github.io/PythonDataScienceHandbook/) - NumPy, Pandas, Matplotlib, Scikit-Learn, un citas bibliotēkas\n",
    "* [Elegant SciPy](https://www.oreilly.com/library/view/elegant-scipy/9781491922927/) -  NumPy, SciPy, and Matplotlib\n",
    "* [From Python to Numpy](https://www.labri.fr/perso/nrougier/from-python-to-numpy/) - kā migrēt no vienkārša Python lietotāja uz NumPy - BEZMAKSAS, bet diemžēl jaunākā versija ir no 2017. gada\n",
    "\n"
   ]
  },
  {
   "cell_type": "markdown",
   "metadata": {},
   "source": [
    "## Nodarbības saturs\n",
    "\n",
    "Mēs apskatīsim sekojošas tēmas:\n",
    "\n",
    "* Numpy uzstādīšana\n",
    "* Numpy masīvu izveide\n",
    "* Numpy masīvu indeksēšana un sagriešana\n",
    "* Numpy masīvu manipulācija\n",
    "* Numpy masīvu apkopošana un grupēšana\n",
    "* Numpy masīvu statistikas aprēķini\n",
    "* Numpy masīvu matemātiskās funkcijas\n",
    "\n",
    "### Prasības priekšzināšanām\n",
    "\n",
    "* Python sintakse\n",
    "* Python datu tipi\n",
    "* Python operatori\n",
    "* Nosacījumu izteiksmes, zarošanās ar if, elif, else\n",
    "* Cikli: for un while\n",
    "* Funkcijas\n",
    "* imports, moduļi un pakotnes\n",
    "* Datu struktūras: saraksti, korteži, vārdnīcas, kopas\n",
    "* Failu ievade/izvade\n",
    "* Objektorientētās programmēšanas pamati - Klases un objekti\n",
    "\n",
    "\n",
    "### Nodarbības mērķi\n",
    "\n",
    "Nodarbības beigās jūs jāspēj:\n",
    "\n",
    "* uzstādīt Numpy\n",
    "* izveidot Numpy masīvus\n",
    "* indeksēt un sagriezt Numpy masīvus\n",
    "* manipulēt ar Numpy masīviem\n"
   ]
  },
  {
   "cell_type": "markdown",
   "metadata": {},
   "source": [
    "## NumPy uzstādīšana\n",
    "\n",
    "NumPy ir ārēja bibliotēka, tāpēc to ir nepieciešams uzstādīt, ja tā vēl nav pieejama jūsu Python instalācijā.\n",
    "\n",
    "NumPy pakotni var atrast šeit: https://pypi.org/project/numpy/\n",
    "\n",
    "Lai uzstādītu NumPy, izmantojot `pip`, izpildiet šo komandu komandrindā (labāk izmantot virtuālo vidi):\n",
    "\n",
    "```pip install numpy```\n",
    "\n",
    "* Google Colab jau ir uzstādīts NumPy - iespējams nedaudz vecāka versija\n",
    "* Ja izmantojat Anaconda sadalījumu, NumPy jau ir uzstādīts.\n",
    "\n",
    "### Vai nepieciešama Anaconda?\n",
    "\n",
    "Piezīme: https://numpy.org/install/ sniedz detalizētas instrukcijas NumPy uzstādīšanai.\n",
    "Tas iesaka Anaconda, kas gadās būt distribūcija, ko izveidoja Travis Oliphant, NumPy radītājs.\n",
    "Lai gan Anaconda ir lieliska distribūcija, nav nepieciešams to uzstādīt tikai NumPy dēļ.\n",
    "\n"
   ]
  },
  {
   "cell_type": "code",
   "execution_count": 1,
   "metadata": {},
   "outputs": [
    {
     "name": "stdout",
     "output_type": "stream",
     "text": [
      "NumPy version: 2.1.2\n"
     ]
    }
   ],
   "source": [
    "# Pārliecināties, ka ir instalēts NumPy\n",
    "try:\n",
    "    import numpy as np\n",
    "    # version\n",
    "    print(f\"NumPy version: {np.__version__}\")\n",
    "except ImportError:\n",
    "    print(\"NumPy not found\")"
   ]
  },
  {
   "cell_type": "markdown",
   "metadata": {},
   "source": [
    "## 1. tēma - NumPy Masīvi (Arrays)\n",
    "\n",
    "NumPy masīvi ir galvenais veids, kā mēs izmantosim NumPy. Tie ir līdzīgi Python sarakstiem (lists), bet ar vairākām būtiskām atšķirībām. Tie ir arī daudz ātrāki nekā Python saraksti un tiem ir daudz noderīgu metožu.\n",
    "\n",
    "### Galvenās NumPy masīvu īpašības\n",
    "\n",
    "- **Multidimensionāls** - var saturēt vairākas dimensijas\n",
    "- **Homogēns** - visi elementi ir vienāda datu tipa (piem. int32, float64, utt.)\n",
    "- **Fiksēta izmēra** - izmērs ir fiksēts, kad masīvs tiek izveidots\n",
    "- **Ātrs** - NumPy masīvi ir implementēti C valodā, tāpēc tie ir daudz ātrāki nekā Python saraksti\n",
    "- **Ērts** - NumPy masīviem ir daudz noderīgu metožu\n",
    "\n",
    "Pēc būtības zem NumPy masīva ir primitīvs C masīvs, tāpēc tie ir tik ātri. NumPy masīvus ir viegli pārveidot par sarakstiem un otrādi.\n",
    "\n",
    "\n"
   ]
  },
  {
   "cell_type": "markdown",
   "metadata": {},
   "source": [
    "### NumPy masīvu izveide\n",
    "\n",
    "NumPy masīvu klasi sauc par `ndarray`. To var izveidot, izmantojot funkciju `numpy.array()`.\n",
    "Tai ir arī alias `array`, kas ir īsāks un biežāk izmantots.\n",
    "\n",
    " NumPy masīviem ir vairākas metodes, lai tos izveidotu, piemēram, `numpy.zeros()`, `numpy.ones()`, `numpy.empty()`, `numpy.full()`, `numpy.arange()`, `numpy.linspace()`, `numpy.random.rand()`, `numpy.random.randn()`, `numpy.random.randint()`, utt. Mēs apskatīsim dažas no tām šajā nodarbībā.\n",
    "\n",
    "#### Nejaukt NumPy array ar Python array\n",
    "\n",
    "Python standarta bibliotēkā ir arī `array` klase, bet tā ir paredzēta tikai viendimensionāliem masīviem un piedāvā mazāk funkcionalitātes. Praksē tos izmanto samērā reti. NumPy masīvi ir daudz elastīgāki un var būt daudzu dimensiju.\n",
    "\n"
   ]
  },
  {
   "cell_type": "markdown",
   "metadata": {},
   "source": [
    "### Pamat ideja darbam ar NumPy masīviem - vektorizācija\n",
    "\n",
    "NumPy masīviem ir ļoti svarīga īpašība, ko sauc par vektorizāciju. Tas nozīmē, ka jūs varat veikt operācijas ar masīviem, nevis ar atsevišķiem elementiem. Tas ir ļoti ātrs un ērts veids, kā veikt operācijas ar masīviem."
   ]
  },
  {
   "cell_type": "code",
   "execution_count": 2,
   "metadata": {},
   "outputs": [
    {
     "name": "stdout",
     "output_type": "stream",
     "text": [
      "[1, 4, 9, 16, 25]\n"
     ]
    }
   ],
   "source": [
    "# sāksim ar Python sarakstu\n",
    "my_number_list = [1, 2, 3, 4, 5] # vai list(range(1, 6))\n",
    "# ja gribam šo skaitļu kvadrātu sarakstus tad būs jāizmanto cikls\n",
    "# mēs varam izmantot for ciklu\n",
    "squared_numbers = []\n",
    "for number in my_number_list:\n",
    "    squared_numbers.append(number ** 2)\n",
    "print(squared_numbers)\n"
   ]
  },
  {
   "cell_type": "code",
   "execution_count": 3,
   "metadata": {},
   "outputs": [
    {
     "name": "stdout",
     "output_type": "stream",
     "text": [
      "[1, 4, 9, 16, 25]\n"
     ]
    }
   ],
   "source": [
    "# mēs varam izmantot arī list comprehension\n",
    "squared_numbers_2 = [number ** 2 for number in my_number_list]\n",
    "print(squared_numbers_2)"
   ]
  },
  {
   "cell_type": "code",
   "execution_count": 4,
   "metadata": {},
   "outputs": [
    {
     "name": "stdout",
     "output_type": "stream",
     "text": [
      "[ 1  4  9 16 25]\n",
      "Datu tips: <class 'numpy.ndarray'>\n"
     ]
    }
   ],
   "source": [
    "# tā vietā, lai izmantotu ciklu, mēs varam izmantot NumPy\n",
    "my_number_array = np.array(my_number_list)\n",
    "\n",
    "squared_numbers_np = my_number_array ** 2 # tas ir daudz ātrāk un arī īsāk\n",
    "\n",
    "print(squared_numbers_np) # ievērojiet, ka rezultāts ir NumPy masīvs\n",
    "print(\"Datu tips:\", type(squared_numbers_np))"
   ]
  },
  {
   "cell_type": "markdown",
   "metadata": {},
   "source": [
    "### Masīvu atribūtas un metodes/funkcijas\n",
    "\n",
    "NumPy piedāvā ievērojamu klāstu metožu un atribūtu, lai strādātu ar masīviem. Dažas no tām jau apskatījām, bet ir vēl daudz citu.\n",
    "\n",
    "Pilna dokumentācija par NumPy masīvu metožu un atribūtu klāstu ir šeit: https://numpy.org/doc/stable/reference/arrays.ndarray.html\n",
    "\n",
    "Iespēju robežās vēl apskatīsim dažas no tām."
   ]
  },
  {
   "cell_type": "markdown",
   "metadata": {},
   "source": [
    "### Noderīgas NumPy metodes/funkcijas \n",
    "\n",
    "Ir daudz noderīgu NumPy funkciju, kas padara darbu ar masīviem ērtāku un ātrāku.\n",
    "\n",
    "* Masīvu izveide\n",
    "\n",
    "arange, array, copy, empty, empty_like, eye, fromfile, fromfunction, identity, linspace, logspace, mgrid, ogrid, ones, ones_like, r, zeros, zeros_like\n",
    "\n",
    "* Datu tipu izmaiņas\n",
    "\n",
    "ndarray.astype, atleast_1d, atleast_2d, atleast_3d, mat\n",
    "\n",
    "* Pārveidošana\n",
    "\n",
    "array_split, column_stack, concatenate, diagonal, dsplit, dstack, hsplit, hstack, ndarray.item, newaxis, ravel, repeat, reshape, resize, squeeze, swapaxes, take, transpose, vsplit, vstack\n",
    "\n",
    "* Jautājumi par saturu\n",
    "\n",
    "all, any, nonzero, where\n",
    "\n",
    "* Sakārtošana\n",
    "\n",
    "argmax, argmin, argsort, max, min, ptp, searchsorted, sort\n",
    "\n",
    "* Darbības ar masīviem\n",
    "\n",
    "choose, compress, cumprod, cumsum, inner, ndarray.fill, imag, prod, put, putmask, real, sum\n",
    "\n",
    "* Statistikas funkcijas\n",
    "\n",
    "cov, mean, std, var\n",
    "\n",
    "* Lineārā algebra\n",
    "\n",
    "cross, dot, outer, linalg.svd, vdot\n",
    "\n",
    "* Failu ievade/izvade\n",
    "\n",
    "load, save, savetxt, loadtxt\n",
    "\n",
    "\n",
    "#### Pilns NumPy funkciju saraksts\n",
    "\n",
    "Documentācija: https://numpy.org/doc/stable/reference/routines.html\n",
    "\n",
    "Šajā nodarbībā mēs apskatīsim dažas no tām."
   ]
  },
  {
   "cell_type": "markdown",
   "metadata": {},
   "source": [
    "### Svarīgākie masīvu atribūtas\n",
    "\n",
    "* ndarray.ndim\n",
    "\n",
    "Asu skaits (dimensijas) masīvā.\n",
    "\n",
    "* ndarray.shape\n",
    "\n",
    "Masīva izmērs katrā dimensijā. Piemēram, 2D masīvam ar 2 rindām un 3 kolonnām shape būs (2, 3).\n",
    "\n",
    "* ndarray.size\n",
    "\n",
    "Kopējais elementu skaits masīvā. Tas ir vienāds ar shape vērtību reizinājumu.\n",
    "\n",
    "* ndarray.dtype\n",
    "\n",
    "Objekts, kas apraksta masīva elementu tipu. Var izveidot vai norādīt dtype, izmantojot standarta Python tipus. Papildus NumPy piedāvā savus tipus. numpy.int32, numpy.int16 un numpy.float64 ir daži piemēri.\n",
    "\n",
    "* ndarray.itemsize\n",
    "\n",
    "Katras masīva vienības izmērs baitos. Piemēram, float64 tipam itemsize ir 8 (64/8), bet kompleksam32 tipam itemsize ir 4 (32/8). Tas ir ekvivalents ndarray.dtype.itemsize.\n",
    "\n",
    "* ndarray.data\n",
    "\n",
    "Buferis, kas satur faktiskos masīva elementus. Parasti mēs neizmantosim šo atribūtu, jo masīva elementus piekļūsim, izmantojot indeksēšanas iespējas.\n",
    "\n",
    "* ndarray.nbytes\n",
    "\n",
    "Kopējais masīva atmiņas izmērs baitos. Tas ir vienāds ar itemsize * size.\n"
   ]
  },
  {
   "cell_type": "code",
   "execution_count": 5,
   "metadata": {},
   "outputs": [
    {
     "ename": "NameError",
     "evalue": "name 'a' is not defined",
     "output_type": "error",
     "traceback": [
      "\u001b[1;31m---------------------------------------------------------------------------\u001b[0m",
      "\u001b[1;31mNameError\u001b[0m                                 Traceback (most recent call last)",
      "Cell \u001b[1;32mIn[5], line 2\u001b[0m\n\u001b[0;32m      1\u001b[0m \u001b[38;5;66;03m# Mēs varam izmantot Python dir funkciju, lai iegūtu visas pieejamās metodes un atribūtus\u001b[39;00m\n\u001b[1;32m----> 2\u001b[0m all_attr_method_names \u001b[38;5;241m=\u001b[39m [name \u001b[38;5;28;01mfor\u001b[39;00m name \u001b[38;5;129;01min\u001b[39;00m \u001b[38;5;28mdir\u001b[39m(\u001b[43ma\u001b[49m) \u001b[38;5;28;01mif\u001b[39;00m \u001b[38;5;129;01mnot\u001b[39;00m name\u001b[38;5;241m.\u001b[39mstartswith(\u001b[38;5;124m\"\u001b[39m\u001b[38;5;124m__\u001b[39m\u001b[38;5;124m\"\u001b[39m)]\n\u001b[0;32m      3\u001b[0m \u001b[38;5;28mprint\u001b[39m(all_attr_method_names) \u001b[38;5;66;03m# izprintē visas metodes un atribūtus\u001b[39;00m\n\u001b[0;32m      4\u001b[0m \u001b[38;5;66;03m# cik metodes un atribūti ir pieejami\u001b[39;00m\n",
      "\u001b[1;31mNameError\u001b[0m: name 'a' is not defined"
     ]
    }
   ],
   "source": [
    "# Mēs varam izmantot Python dir funkciju, lai iegūtu visas pieejamās metodes un atribūtus\n",
    "all_attr_method_names = [name for name in dir(my_number_array) if not name.startswith(\"__\")]\n",
    "print(all_attr_method_names) # izprintē visas metodes un atribūtus\n",
    "# cik metodes un atribūti ir pieejami\n",
    "print(\"Kopā metodes un atribūti:\", len(all_attr_method_names))\n",
    "# ir arī metodes, kas sākas ar __ un citas, kas nav metodes"
   ]
  },
  {
   "cell_type": "markdown",
   "metadata": {},
   "source": [
    "#### Vienkārša 1-d masīva izveide ar numpy.array()\n",
    "\n",
    "\n",
    "Tātad Lai izveidotu vienkāršu 1-d masīvu, izmantojiet `numpy.array()` funkciju un padodiet Python sarakstu ar elementiem.\n"
   ]
  },
  {
   "cell_type": "code",
   "execution_count": null,
   "metadata": {},
   "outputs": [],
   "source": [
    "# izveidojam masīvu\n",
    "a = np.array([1, 2, 3, 4, 5]) # tātad padevām Python list - sarakstu\n",
    "# izprintējam masīvu\n",
    "print(\"NumPy masīvs\", a)\n"
   ]
  },
  {
   "cell_type": "markdown",
   "metadata": {},
   "source": [
    "#### Pamata informācija par izveidoto masīvu"
   ]
  },
  {
   "cell_type": "code",
   "execution_count": null,
   "metadata": {},
   "outputs": [],
   "source": [
    "# izprintējam masīva tipu\n",
    "print(\"NumPy masīva tips\", type(a))\n",
    "# izprintējam masīva elementu tipu\n",
    "print(\"NumPy masīva elementu datu tips\", a.dtype)\n",
    "# izprintējam masīva elementu skaitu\n",
    "print(\"NumPy masīva elementu skaits\", a.size) # kopējais elementu skaits\t\n",
    "# izprintējam masīva elementu formu\n",
    "print(\"NumPy masīva forma\", a.shape) # izprintēs (5,) - viendimensiju masīvs ar 5 elementiem\n",
    "# cik atmiņas aizņem viens masīva elements\n",
    "print(\"NumPy masīva viena elementa atmiņas izmērs\", a.itemsize) # viena elementa atmiņas izmērs baitos\n",
    "# cik atmiņas aizņem masīvs\n",
    "print(\"NumPy masīva atmiņas izmērs\", a.nbytes) # kopējais atmiņas izmērs baitos"
   ]
  },
  {
   "cell_type": "markdown",
   "metadata": {},
   "source": [
    "#### Alternatīvas masīvu izveides metodes\n",
    "\n",
    "Ja mums jau ir gatavs saraksts, to var pārveidot par NumPy masīvu, izmantojot nupat redzēto `numpy.array()` funkciju. \n",
    "Augšup minētā piemērā mēs izveidojām skaitļus no secīgas virknes, bet šādā gadījumā mums ir vairākas alternatīvas metodes, lai izveidotu masīvu no saraksta.\n"
   ]
  },
  {
   "cell_type": "code",
   "execution_count": null,
   "metadata": {},
   "outputs": [],
   "source": [
    "# mēs varētu izmantot Python range funkciju, lai izveidotu masīvu\n",
    "b  = np.array(range(1, 6))\n",
    "print(\"NumPy masīvs\", b)"
   ]
  },
  {
   "cell_type": "code",
   "execution_count": null,
   "metadata": {},
   "outputs": [],
   "source": [
    "# salīdzināsim divus masīvus\n",
    "print(\"Salīdzinām masīvus pēc satura\", a == b) # iegūstam indeksus, kur elementi ir vienādi\n",
    "# salīdzinam vai masīvi aizņem to pašu atmiņu\n",
    "print(\"Salīdzinām masīvus pēc atmiņas\", a is b) # masīvi a un b ir atšķirīgi objekti"
   ]
  },
  {
   "cell_type": "markdown",
   "metadata": {},
   "source": [
    "#### NumPy masīvu izveide ar numpy.arange()"
   ]
  },
  {
   "cell_type": "code",
   "execution_count": null,
   "metadata": {},
   "outputs": [],
   "source": [
    "# lai gan Python range funkcija ir lietojama, NumPy piedāvā plašākas iespējas ar np.arange funkciju\n",
    "c = np.arange(1, 6) # būs ātrāka izveide nekā ar Python range funkciju vai no Python list\n",
    "print(\"NumPy masīvs\", c)\n",
    "# np.all pieļauj salīdzināt masīvus elementu pa elementam \n",
    "print(\"Visi masīvi ir vienādi\", np.all(a == b) and np.all(b == c)) # pārbaudam vai visi masīvi ir vienādi\n",
    "# padomājiet vai būtu jāpārbauda arī np.all(a == c) ? Kāpēc jā vai nē?"
   ]
  },
  {
   "cell_type": "code",
   "execution_count": null,
   "metadata": {},
   "outputs": [],
   "source": [
    "# līdzīgi Python range mēs varam izveidot masīvu ar soli\n",
    "# bet varam izmantot jebkuru soli, piemēram 0.5 vai 0.1\n",
    "d = np.arange(0.5, 3, 0.5) # masīvs no 0.5 līdz 3 ar soli 0.5\n",
    "# soļi var būt arī negatīvi\n",
    "# 3.0 nav iekļauts masīvā, beigas netiek iekļautas\n",
    "print(\"NumPy masīvs\", d)\n",
    "# datu tips\n",
    "print(\"NumPy masīva elementu datu tips\", d.dtype)\n",
    "# float64 kas ir tipiski atbilstošs double C valodā"
   ]
  },
  {
   "cell_type": "markdown",
   "metadata": {},
   "source": [
    "#### Masīvu izveide ar numpy.linspace()\n",
    "\n",
    "Var gadīties ka mums ir ērtāk norādīt masīva sākuma un beigu vērtības, nevis soli. Šajā gadījumā mums noderēs `numpy.linspace()` funkcija, kas ļauj norādīt sākuma un beigu vērtības un vēlamo elementu skaitu masīvā."
   ]
  },
  {
   "cell_type": "code",
   "execution_count": null,
   "metadata": {},
   "outputs": [],
   "source": [
    "# izveidosim masīvu kas sākas pie 10 un beidzas pie 8 un mums vajag 5 elementus\n",
    "e = np.linspace(10, 8, 5) # masīvs no 10 līdz 8 ar 5 elementiem\n",
    "print(\"NumPy masīvs\", e)\n",
    "# izmantojot linspace uzmanaties, jo beigu punkts ir iekļauts masīvā"
   ]
  },
  {
   "cell_type": "markdown",
   "metadata": {},
   "source": [
    "#### Masīvu izveide ar numpy.zeros(), numpy.ones(), numpy.empty(), numpy.full()\n",
    "\n",
    "Var gadīties, ka mums ir nepieciešams izveidot masīvu ar noteiktu izmēru, bet ar visiem elementiem vienādiem. Šajā gadījumā mums noderēs `numpy.zeros()`, `numpy.ones()`, `numpy.empty()`, `numpy.full()` funkcijas."
   ]
  },
  {
   "cell_type": "code",
   "execution_count": null,
   "metadata": {},
   "outputs": [],
   "source": [
    "# izmantosim numpy.zeros funkciju, lai izveidotu masīvu ar 0 vērtībām\n",
    "f = np.zeros(5) # masīvs ar 5 elementiem ar 0 vērtībām\n",
    "print(\"NumPy masīvs\", f)\n",
    "# datu tips\n",
    "print(\"NumPy masīva elementu datu tips\", f.dtype) # nevis int32 bet float64! to var arī mainīt"
   ]
  },
  {
   "cell_type": "code",
   "execution_count": null,
   "metadata": {},
   "outputs": [],
   "source": [
    "# varam izveidot masīvu ar 1 vērtībām\n",
    "g = np.ones(5) # masīvs ar 5 elementiem ar 1 vērtībām\n",
    "print(\"NumPy masīvs\", g)\n",
    "# datu tips\n",
    "print(\"NumPy masīva elementu datu tips\", g.dtype) # nevis int32 bet float64! "
   ]
  },
  {
   "cell_type": "code",
   "execution_count": null,
   "metadata": {},
   "outputs": [],
   "source": [
    "# izveidosim masīvu ar konkrētu vērtību\n",
    "h = np.full(5, 7) # masīvs ar 5 elementiem ar vērtību 7\n",
    "print(\"NumPy masīvs\", h)\n",
    "# datu tips\n",
    "print(\"NumPy masīva elementu datu tips\", h.dtype) # šoreiz int64 (jo 7 ir vesela skaitļa vērtība)\n",
    "# pamēģiniet 7 vietā iedot 7.0 un paskatieties kāds būs datu tips :)"
   ]
  },
  {
   "cell_type": "code",
   "execution_count": null,
   "metadata": {},
   "outputs": [],
   "source": [
    "# np.empty ir tiem gadijumiem kad zinam ka mēs pats aizpildīsim masīvu ar vērtībām\n",
    "# mums ir zināms izmērs, bet saturu vēl nezinam\n",
    "# np.empty documentation: Return a new array of given shape and type, without initializing entries.\n",
    "# citiem vārdiem masīvam mēs atvēlam atmiņu, bet tā saturu neinicializējam\n",
    "# dokumentācija: https://numpy.org/doc/stable/reference/generated/numpy.empty.html\n",
    "i = np.empty(5) # masīvs ar 5 elementiem ar saturu kas nav inicializēts\n",
    "print(\"NumPy masīvs\", i)\n",
    "# ko rāda šis masīvs?\n",
    "# vai visiem jums rāda vienādus skaitļus?\n",
    "# kāpēc skaitļi var atšķirties?\t"
   ]
  },
  {
   "cell_type": "markdown",
   "metadata": {},
   "source": [
    "#### Masīvu izveide ar nejaušiem skaitļiem\n",
    "\n",
    "NumPy piedāvā vairākas funkcijas, lai izveidotu masīvus ar nejaušiem skaitļiem. Dažas no tām ir `numpy.random.rand()`, `numpy.random.randn()`, `numpy.random.randint()`."
   ]
  },
  {
   "cell_type": "code",
   "execution_count": null,
   "metadata": {},
   "outputs": [],
   "source": [
    "# izvedosim pseido nejaušu skaitļu masīvus\n",
    "# np.random.rand - skaitļi no 0 līdz 1 (1 nav iekļauts) - [0,1)\n",
    "# uniform distribution - vienmērīga sadalījuma skaitļi\n",
    "np.random.seed(2024) # lai varētu atkārtot eksperimentu\n",
    "j = np.random.rand(5) # masīvs ar 5 nejaušiem skaitļiem no 0 līdz 1\n",
    "print(\"NumPy masīvs\", j)\n",
    "# datu tips\n",
    "print(\"NumPy masīva elementu datu tips\", j.dtype) # float64"
   ]
  },
  {
   "cell_type": "code",
   "execution_count": null,
   "metadata": {},
   "outputs": [],
   "source": [
    "# np.random.randn - skaitļi no N(0,1) sadalījuma\n",
    "# Gausa sadalījuma skaitļi, ar vidējo vērtību 0 un standartnovirzi 1\n",
    "k = np.random.randn(5) # masīvs ar 5 nejaušiem skaitļiem no N(0,1)\n",
    "print(\"NumPy masīvs\", k)\n",
    "# datu tips\n",
    "print(\"NumPy masīva elementu datu tips\", k.dtype) # float64"
   ]
  },
  {
   "cell_type": "code",
   "execution_count": null,
   "metadata": {},
   "outputs": [],
   "source": [
    "# bieži izmantots ir np.random.randint\n",
    "# np.random.randint - veseli skaitļi no zemākā līdz augstākam (augstākais nav iekļauts)\n",
    "# dokumentācija: https://numpy.org/doc/stable/reference/random/generated/numpy.random.randint.html\n",
    "\n",
    "l = np.random.randint(1, 10, 25) # masīvs ar 25 nejaušiem veseliem skaitļiem no 1 līdz 9\n",
    "print(\"NumPy masīvs\", l)\n",
    "# datu tips\n",
    "print(\"NumPy masīva elementu datu tips\", l.dtype) # int32"
   ]
  },
  {
   "cell_type": "markdown",
   "metadata": {},
   "source": [
    "### Pamatdarbības ar masīviem\n",
    "\n",
    "Daudzas darbības ar NumPy masīviem ir līdzīgas Python virkņu(list, str, tuple, utml) darbībām, bet ir arī daudz jaunu iespēju, kas padara darbu ar masīviem ātrāku un ērtāku"
   ]
  },
  {
   "cell_type": "markdown",
   "metadata": {},
   "source": [
    "#### Aritmētiskās darbības ar masīviem"
   ]
  },
  {
   "cell_type": "code",
   "execution_count": null,
   "metadata": {},
   "outputs": [],
   "source": [
    "# tipiski mēs veicam operācijas ar masīviem uzreiz ar visiem elementiem\n",
    "a = np.array([1, 2, 3, 4, 5])\n",
    "b = np.array([6, 7, 8, 9, 10])\n",
    "# saskaitīsim divus masīvus\n",
    "c = a + b # saskaitīsim divus masīvus # tātad te ir noslēpts cikls, kas uz NumPy masīviem darbojas ātrāk\n",
    "print(\"NumPy masīvs\", c)"
   ]
  },
  {
   "cell_type": "markdown",
   "metadata": {},
   "source": [
    "#### Indeksēšana\n",
    "\n",
    "Lai gan indeksēšana ir fundamentāla operācija virkņu tipa datiem, NumPy piekļuve pēc indeksa ir salīdzinoši retāk sastopama, jo mēs vairāk strādājam ar masīviem, nevis atsevišķiem elementiem."
   ]
  },
  {
   "cell_type": "code",
   "execution_count": null,
   "metadata": {},
   "outputs": [],
   "source": [
    "# indeksēšana - tāpat kā Python list\n",
    "a = np.arange(10,110,10) # masīvs no 10 līdz 100 ar soli 10\n",
    "print(\"NumPy masīvs\", a)\n",
    "# trešais elements - indeksēšana sākas no 0, tāpēc trešais elements ir pie indeksa 2\n",
    "print(\"Trešais elements\", a[2]) # 30"
   ]
  },
  {
   "cell_type": "markdown",
   "metadata": {},
   "source": [
    "#### griešana - slicing\n",
    "\n",
    "Var izmantot tādu pašu griešanas metodi kā Python virknēm, lai iegūtu apakšmasīvus.\n"
   ]
  },
  {
   "cell_type": "code",
   "execution_count": null,
   "metadata": {},
   "outputs": [],
   "source": [
    "# pirmie 3 elementi\n",
    "print(\"Pirmie 3 elementi\", a[:3]) # [10, 20, 30]\n",
    "# pēdējie 3 elementi\n",
    "print(\"Pēdējie 3 elementi\", a[-3:]) # [80, 90, 100]\n",
    "# katrs otrais elements\n",
    "print(\"Katrs otrais elements\", a[::2]) # [10, 30, 50, 70, 90]\n",
    "# apgriezts masīvs - ir arī citas metodes, bet šī ir vienkāršākā\n",
    "print(\"Apgriezts masīvs\", a[::-1]) # [100, 90, 80, 70, 60, 50, 40, 30, 20, 10]"
   ]
  },
  {
   "cell_type": "markdown",
   "metadata": {},
   "source": [
    "#### Uzmanīgi! griešana pēc noklusējuma - bez kopijas\n",
    "\n",
    "Ja jūs izgriežat apakšmasīvu no masīva, tas būs tikai skats (view) uz oriģinālo masīvu, nevis kopija. Tas nozīmē, ka, ja jūs maināt apakšmasīvu, tas mainīs arī oriģinālo masīvu."
   ]
  },
  {
   "cell_type": "code",
   "execution_count": null,
   "metadata": {},
   "outputs": [],
   "source": [
    "print(\"Viss masīvs\", a) # masīvs nav mainījies\n",
    "a_first_3 = a[:3] # pirmie 3 elementi\n",
    "print(\"Pirmie 3 elementi\", a_first_3)\n",
    "# nomainam otro elementu\n",
    "a_first_3[1] = 25\n",
    "print(\"Pirmie 3 elementi\", a_first_3)\n",
    "print(\"Viss masīvs\", a) # viss masīvs ir mainījies"
   ]
  },
  {
   "cell_type": "markdown",
   "metadata": {},
   "source": [
    "#### copy() metode"
   ]
  },
  {
   "cell_type": "code",
   "execution_count": null,
   "metadata": {},
   "outputs": [],
   "source": [
    "# ja vēlamies kopēt masīvu griežot, tad jāizmanto copy metode\n",
    "print(\"Viss masīvs\", a) # masīvs nav mainījies\n",
    "a_first_3f_copy = a[:3].copy() # pirmie 3 elementi\n",
    "\n",
    "print(\"Pirmie 3 elementi\", a_first_3f_copy)\n",
    "# nomainam otro elementu\n",
    "a_first_3f_copy[1] = 125\n",
    "print(\"Pirmo 3 elementu kopija\", a_first_3f_copy)\n",
    "print(\"Viss masīvs\", a) # viss masīvs nav mainījies\n"
   ]
  },
  {
   "cell_type": "markdown",
   "metadata": {},
   "source": [
    "#### Numpy Masīvi - Kāpēc kopēšana netiek veikta pēc noklusējuma?\n",
    "\n",
    "Kāds varētu būt iemesls, kāpēc NumPy neveic kopiju pēc noklusējuma? \n",
    "\n",
    "Tas ir tāpēc, ka kopēšana ir dārga operācija, jo tā prasa papildus atmiņas izmantošanu un procesora laiku. Tāpēc NumPy izvairās no kopijas, ja vien tas nav nepieciešams.\n",
    "\n",
    "Ne katram miljoniem garam, vai pat miljardu elementu masīvam ir nepieciešama kopija, tāpēc NumPy izvairās no tās, ja vien jūs to nepieprasāt. "
   ]
  },
  {
   "cell_type": "code",
   "execution_count": null,
   "metadata": {},
   "outputs": [],
   "source": [
    "# bieži vien mēs gribam izpildīt kādu aritmetisku darbību ar masīva griezumu bez kopēšanas\n",
    "# pieskaitīsim pēdejiem 3 elementiem 1000\n",
    "print(\"Viss masīvs\", a) # masīvs nav mainījies\n",
    "a[-3:] += 1000 # līdzīgi būtu arī ar citām darbībām kā -=, *=, /=\n",
    "print(\"Viss masīvs\", a) # pēdejie 3 elementi ir pieskaitīti 1000\n",
    "\n",
    "# ja griešana būtu kopēšana, tad šīs darbības rezultāts nebūtu iespējams"
   ]
  },
  {
   "cell_type": "markdown",
   "metadata": {},
   "source": [
    "#### Kad notiek kopēšana un kad ne?\n",
    "\n",
    "Atbilde ne vienmēr ir skaidra, pamatideja ir tāda, ka NumPy mēģina izvairīties no kopijas, ja vien tas ir iespējams.\n",
    "\n",
    "Diemžēl pastāv izņēmumi, un izņemumiem savi izņēmumi.\n",
    "\n",
    "Sīkak var palasīt interesantu diskusiju Stack Overflow: https://stackoverflow.com/questions/47181092/numpy-views-vs-copy-by-slicing\n",
    "\n",
    "Ja ir  neskaidrības, tad atbildi var atrast izmantojot `np.may_share_memory()` funkciju, kas pārbauda, vai divi masīvi dalās atmiņā.\n",
    "\n",
    "Sīkāk detaļas par šo funkciju var atrast šeit: https://numpy.org/doc/stable/reference/generated/numpy.may_share_memory.html\n",
    "\n"
   ]
  },
  {
   "cell_type": "markdown",
   "metadata": {},
   "source": [
    "### Daudzdimensionāli masīvi\n",
    "\n",
    "Lai gan esam apskatījuši viendimensionālus masīvus, NumPy masīvi var būt arī daudzdimensionāli - 2D, 3D, 4D, utt.\n",
    "\n",
    "Jāatceras, ka datorā NumPy masīvi ir implementēti kā C masīvi ka atmiņas bloks bez pārtraukumiem, tāpēc tie aizņem vienādu atmiņu neatkarīgi no dimensijām. Tas ir viens no iemesliem, kāpēc NumPy masīvi var būt ātri."
   ]
  },
  {
   "cell_type": "markdown",
   "metadata": {},
   "source": [
    "#### Daudzdimensionāla masīva izveide"
   ]
  },
  {
   "cell_type": "code",
   "execution_count": null,
   "metadata": {},
   "outputs": [],
   "source": [
    "# izveidoisim divdimensiju masīvu no skaitļiem no 0 līdz 19\n",
    "# izmantojot np.arange un np.reshape tos ķēdējot\n",
    "a_2d = np.arange(20).reshape(4,5) # tā kā arange atgriež viendimensiju masīvu, tad mēs to pārveidojam divdimensijās\n",
    "print(\"NumPy masīvs\\n\", a)\n",
    "# masīva forma\n",
    "print(\"NumPy masīva forma\", a.shape) # izprintēs (4,5) - divdimensiju masīvs ar 4 rindām un 5 kolonnām"
   ]
  },
  {
   "cell_type": "code",
   "execution_count": null,
   "metadata": {},
   "outputs": [],
   "source": [
    "# varam turpināt veikt tādas pat darbības kā ar viendimensiju masīviem\n",
    "# piemēram kāpināt kvadrātā\n",
    "a_squares = a**2 # ar 2D lists mums būtu jāizmanto 2 cikli!\n",
    "print(\"NumPy masīvs\\n\", a_squares)\n",
    "\n"
   ]
  },
  {
   "cell_type": "code",
   "execution_count": null,
   "metadata": {},
   "outputs": [],
   "source": [
    "# piekļuve individuāliem elementiem - indeksēšana ir līdzīga kā ar viendimensiju masīviem\n",
    "# 2 rinda, 3 kolonna\n",
    "print(\"2 rinda, 3 kolonna\", a_2d[1,2]) # 7\n",
    "# arī a_squares ir 2D masīvs\n",
    "print(\"2 rinda, 3 kolonna\", a_squares[1,2]) # 49"
   ]
  },
  {
   "cell_type": "code",
   "execution_count": null,
   "metadata": {},
   "outputs": [],
   "source": [
    "# indeksējot tikai ar vienu indeksu, mēs saņemam rindu\n",
    "# 4 rinda\n",
    "print(\"4 rinda\", a_2d[3]) # [15 16 17 18 19]"
   ]
  },
  {
   "cell_type": "markdown",
   "metadata": {},
   "source": [
    "#### Aritmētiskas darbības ar daudzdimensionāliem masīviem un to griezumiem"
   ]
  },
  {
   "cell_type": "code",
   "execution_count": null,
   "metadata": {},
   "outputs": [],
   "source": [
    "# kā būtu ar 3 kolonnu?\n",
    "print(\"Viss masīvs\\n\", a_2d) # izprintējam visu masīvu\n",
    "# 3 kolonna\n",
    "print(\"3 kolonna\", a_2d[:,2]) # [ 2  7 12 17] - visi elementi no 3. kolonnas\n",
    "# ievērojiet : - tas nozīmē, ka mēs ņemam visus rindas elementus un tad tikai 3. kolonnas elementus"
   ]
  },
  {
   "cell_type": "code",
   "execution_count": null,
   "metadata": {},
   "outputs": [],
   "source": [
    "# pieskaitīsim 100 pēdejām 2 rindām un 3 kolonnām\n",
    "print(\"Viss masīvs\\n\", a_2d) # izprintējam visu masīvu\n",
    "a_2d[-2:,-3:] += 100 # tas mainīs arī a_2d masīvu\n",
    "print(\"Viss masīvs\\n\", a_2d) # izprintējam visu masīvu"
   ]
  },
  {
   "cell_type": "code",
   "execution_count": null,
   "metadata": {},
   "outputs": [],
   "source": [
    "# kas notiksies ja apgriezīsim masīvu?\n",
    "print(\"Apgriezts masīvs\\n\", a_2d[::-1]) # apgriezts masīvs"
   ]
  },
  {
   "cell_type": "code",
   "execution_count": null,
   "metadata": {},
   "outputs": [],
   "source": [
    "# iespējasm arī apgriezt vispirms rindas un tad kolonnas\n",
    "print(\"Apgriezts pa rindām un tad kolonnām massīvs\\n\", a_2d[::-1][::-1]) # apgriezts individuāli"
   ]
  },
  {
   "cell_type": "code",
   "execution_count": null,
   "metadata": {},
   "outputs": [],
   "source": [
    "# kā būtu ar transponēšanu?\n",
    "print(\"Transponēts masīvs\\n\", a_2d.T) # transponēts masīvs"
   ]
  },
  {
   "cell_type": "markdown",
   "metadata": {},
   "source": [
    "#### 3-D un augstāku dimensiju masīvi\n",
    "\n",
    "NumPy masīvi var būt arī 3D, 4D, 5D, utt. dimensijām. Šie masīvi ir noderīgi, kad mēs strādājam ar attēliem, video, zinātniskiem datiem, utt.\n",
    "\n",
    "Piemēram attēla vertība varētu būt 3D masīvs kurā ir 3 dimensijas - augstums, platums un krāsu kanāli (RGB).\n",
    "\n",
    "Tad piemēram 4D masīvs varētu būt video, kurā ir 4 dimensijas - kadrs, augstums, platums un krāsu kanāli.\n",
    "\n",
    "Jāatcerās, ka zem tā visa joprojām ir C masīvs noteiktam datu tipam ar vienādu atmiņas izmēru, neatkarīgi no dimensijām."
   ]
  },
  {
   "cell_type": "code",
   "execution_count": null,
   "metadata": {},
   "outputs": [],
   "source": [
    "### Izveidosim 3-d masīvu\n",
    "\n",
    "# izveidojam masīvu ar 24 elementiem\n",
    "a_3d = np.arange(24).reshape(2,3,4) # 2 rindas, 3 kolonnas, 4 augstumi\n",
    "print(\"NumPy 3D masīvs\\n\", a_3d)\n",
    "# masīva forma\n",
    "print(\"NumPy 3D masīva forma\", a_3d.shape) # izprintēs (2,3,4) - trīsdimensiju masīvs ar 2 rindām, 3 kolonnām un 4 aug"
   ]
  },
  {
   "cell_type": "code",
   "execution_count": null,
   "metadata": {},
   "outputs": [],
   "source": [
    "# piekļuve individuāliem elementiem - indeksēšana ir līdzīga kā ar divdimensiju masīviem\n",
    "# 2 rinda, 3 kolonna, 4 augstums\n",
    "print(\"2 rinda, 3 kolonna, 4 augstums\", a_3d[1,2,3]) # 23\n"
   ]
  },
  {
   "cell_type": "code",
   "execution_count": null,
   "metadata": {},
   "outputs": [],
   "source": [
    "# veiksim kādu aritmētisku darbību ar daļu no 3D masīva\n",
    "# pieskaitīsim 100 pēdejās rindas pēdejām 2 kolonnām un pēdejām 3 augstumiem    \n",
    "print(\"Viss masīvs\\n\", a_3d) # izprintējam visu masīvu\n",
    "a_3d[-1:,-2:,-3:] += 100 # tas mainīs arī pašu a_3d masīvu\n",
    "print(\"Viss masīvs\\n\", a_3d) # izprintējam visu masīvu"
   ]
  },
  {
   "cell_type": "code",
   "execution_count": null,
   "metadata": {},
   "outputs": [],
   "source": [
    "#### 4D un augstākdimensiju masīviem ir līdzīgi\n",
    "\n",
    "# izveidojam masīvu ar 24 elementiem un pārveidojam to 4D masīvā\n",
    "a_4d = np.arange(24).reshape(2,2,3,2) # 2 rindas, 2 kolonnas, 3 augstumi, 2 laika momenti\n",
    "# tātad svarīgi veidojot daudzu dimensiju masīvu lai kopējās dimensiju reizinājums būtu vienāds ar elementu skaitu\n",
    "print(\"NumPy 4D masīvs\\n\", a_4d)\n",
    "# masīva forma\n",
    "print(\"NumPy 4D masīva forma\", a_4d.shape) # izprintēs (2,2,3,2) - četrdimensiju masīvs ar 2 rindām, 2 kolonnām, 3 augstumiem un 2 laika momentiem\n",
    "# protams augstums un laikam momenti ir tikai piemēri, var būt arī citas interpretācijas"
   ]
  },
  {
   "cell_type": "code",
   "execution_count": null,
   "metadata": {},
   "outputs": [],
   "source": [
    "# Izveidosim 5D masīvu (3,2,2,3,5) visu ar 7 vērtībām\n",
    "a_5d = np.full((3,2,2,3,5), 7) # 3 rindas, 2 kolonnas, 2 augstumi, 3 laika momenti, 5 laika periodi un visi elementi ir 7\n",
    "print(\"NumPy 5D masīvs\\n\", a_5d)\n",
    "# masīva forma\n",
    "print(\"NumPy 5D masīva forma\", a_5d.shape) # izprintēs (3,2,2,3,5) - piecdimensiju masīvs ar 3 rindām, 2 kolonnām, 2 augstumiem, 3 laika momentiem un 5 laika periodiem"
   ]
  },
  {
   "cell_type": "markdown",
   "metadata": {},
   "source": [
    "#### Daudzdimensionālu masīvu pārveidošana 1D masīvā\n",
    "\n",
    "Tā kā NumPy masīvi ir homogēni, tos var pārveidot par viendimensionāliem masīviem, ja nepieciešams.\n",
    "\n",
    "Tā ir viegla operācija, ko var veikt, izmantojot `numpy.ravel()` vai `numpy.flatten()` metodes. Var arī izmantot `numpy.reshape()` metodi, lai pārveidotu masīvu citā formātā."
   ]
  },
  {
   "cell_type": "code",
   "execution_count": null,
   "metadata": {},
   "outputs": [],
   "source": [
    "# pārveidosim 5D masīvu 1 d masīva\n",
    "\n",
    "a_1d = a_5d.flatten() # pārveidojam 5D masīvu 1D masīvā\n",
    "print(\"NumPy 1D masīvs\\n\", a_1d)\n",
    "# masīva forma\n",
    "print(\"NumPy 1D masīva forma\", a_1d.shape) # izprintēs (180) - viendimensiju masīvs ar 180 elementiem"
   ]
  },
  {
   "cell_type": "code",
   "execution_count": null,
   "metadata": {},
   "outputs": [],
   "source": [
    "# vēlreiz apskatīsim šīs atrībūtas\n",
    "# izveidosim 4x5 masīvu ar skaitļiem no 0 līdz 19\n",
    "a = np.arange(20).reshape(4,5)\n",
    "print(\"NumPy masīvs\\n\", a)\n",
    "# masīva forma\n",
    "print(\"NumPy masīva forma\", a.shape) # izprintēs (4,5) - divdimensiju masīvs ar 4 rindām un 5 kolonnām\n",
    "# masīva elementu datu tips\n",
    "print(\"NumPy masīva elementu datu tips\", a.dtype) # int32 vai int64, atkarībā no platformas, ie 32 vai 64 biti\n",
    "# masīva elementu skaits\n",
    "print(\"NumPy masīva elementu skaits\", a.size) # kopējais elementu skaits\n",
    "# masīva elementu izmērs baitos\n",
    "print(\"NumPy masīva elementu izmērs baitos\", a.itemsize) # 4 baiti\n",
    "# masīva atmiņas adrese\n",
    "print(\"NumPy masīva atmiņas adrese\", a.data) # atmiņas adrese - tipiski nav nepieciešams\n",
    "\n",
    "# cik daudz pavisam atmiņas aizņem masīvs?\n",
    "print(\"Atmiņas izmērs\", a.nbytes) # 80 baiti (20 elementi * 4 baiti)"
   ]
  },
  {
   "cell_type": "markdown",
   "metadata": {},
   "source": [
    "### Statistikas metodes\n",
    "\n",
    "NumPy piedāvā daudzas statistikas metodes, lai aprēķinātu vidējo vērtību, mediānu, standartnovirzi, kvantilus, utt."
   ]
  },
  {
   "cell_type": "code",
   "execution_count": null,
   "metadata": {},
   "outputs": [],
   "source": [
    "# vidējā aritmētiskā\n",
    "print(\"Vidējā aritmētiskā\", a.mean()) # 9.5"
   ]
  },
  {
   "cell_type": "code",
   "execution_count": null,
   "metadata": {},
   "outputs": [],
   "source": [
    "# vidējā aritmētiskā pa rindām\n",
    "print(\"Vidējā aritmētiskā pa rindām\", a.mean(axis=1)) # [ 2.  7. 12. 17.]"
   ]
  },
  {
   "cell_type": "code",
   "execution_count": null,
   "metadata": {},
   "outputs": [],
   "source": [
    "# medianas vert\n",
    "np.median(a)"
   ]
  },
  {
   "cell_type": "code",
   "execution_count": null,
   "metadata": {},
   "outputs": [],
   "source": [
    "# medianu var aprēķināt arī pa rindām\n",
    "np.median(a, axis=1)"
   ]
  },
  {
   "cell_type": "code",
   "execution_count": null,
   "metadata": {},
   "outputs": [],
   "source": [
    "# varam aprēķināt arī pa kolonnām\n",
    "np.median(a, axis=0)"
   ]
  },
  {
   "cell_type": "code",
   "execution_count": null,
   "metadata": {},
   "outputs": [],
   "source": [
    "# standartnovirze\n",
    "print(\"Standartnovirze\", a.std()) # 5.766281297335398"
   ]
  },
  {
   "cell_type": "markdown",
   "metadata": {},
   "source": [
    "## Biežāk sastopamas kļūdas, neveiksmes un problēmas izmantojot NumPy"
   ]
  },
  {
   "cell_type": "markdown",
   "metadata": {},
   "source": [
    "Bieži sastopama kļūda ir izsaukt masīva izveides funkciju ar vairākiem skaitļiem, nevis vienu sarakstu ar skaitļiem.\n",
    "\n"
   ]
  },
  {
   "cell_type": "code",
   "execution_count": null,
   "metadata": {},
   "outputs": [],
   "source": [
    "# c = np.array(2,3,4,5,6,7)  # NEPAREIZI\n",
    "# Pareizi būtu jābūt sarakstam\n",
    "c = np.array([2,3,4,6,7,9,44])\n",
    "c"
   ]
  },
  {
   "cell_type": "code",
   "execution_count": null,
   "metadata": {},
   "outputs": [],
   "source": [
    "# savukārt padodot sarakstu ar dažādiem datu tipiem, NumPy pārveidos visus elementus uz vienu datu tipu \n",
    "# ja būs padots skaitlis un burts, tad NumPy pārveidos visu uz string datu tipu\n",
    "\n",
    "t = np.array([4000000000000,\"R\", \"Valdis\", 3.1415926])\n",
    "t # <U21 - Unicode string\n",
    "# NumPy šeit nebūs īsti efektīvs, jo tas pārveidos visu uz string datu tipu\n",
    "# strādājiet ar vienu datu tipu, kur vien iespējams - pēc iespējas skaitlisku datu tipu!"
   ]
  },
  {
   "cell_type": "code",
   "execution_count": null,
   "metadata": {},
   "outputs": [],
   "source": [
    "# Tehniski ir iespējams iet cauri masīvam un veikt kādu darbību ar katru elementu ciklā, bet tas ir lēni un neefektīvi.\n",
    "print(\"Viss masīvs\\n\", a) # izprintējam visu masīvu\n",
    "for item in a:\n",
    "    print(item)"
   ]
  },
  {
   "cell_type": "markdown",
   "metadata": {},
   "source": [
    "## Lineārā algebra\n",
    "\n",
    "NumPy piedāvā arī daudzas lineārās algebras funkcijas, piemēram, matricu reizināšanu, determinanti, inversu, utt."
   ]
  },
  {
   "cell_type": "code",
   "execution_count": null,
   "metadata": {},
   "outputs": [],
   "source": [
    "# izveidosim masīvu ar 2x4 saturot tikai 3\n",
    "threes = np.full((2,4), 3)\n",
    "print(\"NumPy masīvs\\n\", threes)"
   ]
  },
  {
   "cell_type": "code",
   "execution_count": null,
   "metadata": {},
   "outputs": [],
   "source": [
    "# tagad 4x2 masīvs ar 5\n",
    "fives = np.full((4,2), 5)\n",
    "print(\"NumPy masīvs\\n\", fives)"
   ]
  },
  {
   "cell_type": "code",
   "execution_count": null,
   "metadata": {},
   "outputs": [],
   "source": [
    "# matricu mulitplikācija\n",
    "three_fives = np.matmul(threes, fives)\n",
    "print(\"NumPy masīvs\\n\", three_fives)\n",
    "# kāpēc šis ir 2x2 masīvs? kā mums pēc lineārās algebras noteikumiem jābūt?"
   ]
  },
  {
   "cell_type": "code",
   "execution_count": null,
   "metadata": {},
   "outputs": [],
   "source": [
    "# tagad otrādi\n",
    "fives_threes = np.matmul(fives, threes)\n",
    "print(\"NumPy masīvs\\n\", fives_threes)\n",
    "# tātad kāpēc šis ir 4x4 masīvs? \n",
    "# Ja esam aizmirsuši lineārās algebras noteikumus, tad varam izmantot np.matmul dokumentāciju\n",
    "# https://numpy.org/doc/stable/reference/generated/numpy.matmul.html\n",
    "# vai Wikipedia matricu reizināšanas rakstu https://en.wikipedia.org/wiki/Matrix_multiplication"
   ]
  },
  {
   "cell_type": "code",
   "execution_count": null,
   "metadata": {},
   "outputs": [],
   "source": [
    "# atradīsim determinanti three_fives masīvam\n",
    "three_fives_det = np.linalg.det(three_fives)\n",
    "print(\"Determinants\", three_fives_det) # 0.0\n",
    "# kāpēc šis ir 0.0?\n",
    "# atceramies lineārās algebras noteikumus?\n",
    "# 2x2 masīvam determinants ir ad-bc\n",
    "\n"
   ]
  },
  {
   "cell_type": "code",
   "execution_count": null,
   "metadata": {},
   "outputs": [],
   "source": [
    "# pieliksim 10 pie pēdejās vērtības three_fives masīvā\n",
    "three_fives[-1, -1] += 10 # pieskaitam 10 pie pēdejās vērtības\n",
    "print(\"NumPy masīvs\\n\", three_fives)"
   ]
  },
  {
   "cell_type": "code",
   "execution_count": null,
   "metadata": {},
   "outputs": [],
   "source": [
    "# tagad determinants būs cits\n",
    "three_fives_det = np.linalg.det(three_fives)\n",
    "print(\"Determinants\", three_fives_det) # 600 jo 60*70-60*60=600"
   ]
  },
  {
   "cell_type": "code",
   "execution_count": null,
   "metadata": {},
   "outputs": [],
   "source": [
    "# mums ir pieejami arī īpašvektori un īpašvērtības (Eigenvectors and Eigenvalues)\n",
    "\n",
    "# izveidosim masīvu 5x5 ar nejaušiem skaitļiem\n",
    "random_5x5 = np.random.rand(5,5)\n",
    "print(\"NumPy masīvs\\n\", random_5x5)\n",
    "# īpašvērtības un īpašvektori\n",
    "eigenvalues, eigenvectors = np.linalg.eig(random_5x5)\n",
    "print(\"Īpašvērtības\", eigenvalues)\n",
    "print(\"Īpašvektori\", eigenvectors)"
   ]
  },
  {
   "cell_type": "code",
   "execution_count": null,
   "metadata": {},
   "outputs": [],
   "source": [
    "# vienības matricas izveide\n",
    "\n",
    "# izveidosim vienības matricu 5x5\n",
    "identity_5x5 = np.eye(5)\n",
    "print(\"NumPy masīvs\\n\", identity_5x5)"
   ]
  },
  {
   "cell_type": "markdown",
   "metadata": {},
   "source": [
    "### Masīvus savienošana un sadalīšana"
   ]
  },
  {
   "cell_type": "code",
   "execution_count": null,
   "metadata": {},
   "outputs": [],
   "source": [
    "# izveidosim vienkāršu masīxu 3x5 ar 1\n",
    "ones_3x5 = np.ones((3,5))\n",
    "print(\"NumPy masīvs\\n\", ones_3x5)"
   ]
  },
  {
   "cell_type": "code",
   "execution_count": null,
   "metadata": {},
   "outputs": [],
   "source": [
    "# tagad tādu pašu masīvu ar 2\n",
    "twos_3x5 = np.full((3,5), 2)\n",
    "print(\"NumPy masīvs\\n\", twos_3x5)"
   ]
  },
  {
   "cell_type": "code",
   "execution_count": null,
   "metadata": {},
   "outputs": [],
   "source": [
    "# savienosim šos masīvus vertikāli\n",
    "vstack = np.vstack((ones_3x5,twos_3x5,ones_3x5)) # Ievērojiet, ka mums ir jāpadod kortēžs kā argumentu!\n",
    "\n",
    "print(\"NumPy masīvs\\n\", vstack)"
   ]
  },
  {
   "cell_type": "markdown",
   "metadata": {},
   "source": [
    "#### Horizontāla savienošana"
   ]
  },
  {
   "cell_type": "code",
   "execution_count": null,
   "metadata": {},
   "outputs": [],
   "source": [
    "# līdzīgi varam savienot masīvus horizontāli\n",
    "hstack = np.hstack((ones_3x5,twos_3x5,ones_3x5)) # Ievērojiet, ka mums ir jāpadod kortēžs kā argumentu!\n",
    "print(\"NumPy masīvs\\n\", hstack)"
   ]
  },
  {
   "cell_type": "code",
   "execution_count": null,
   "metadata": {},
   "outputs": [],
   "source": [
    "# varam sadalīt masīvu pa rindām\n",
    "hsplit = np.hsplit(hstack, 3)\n",
    "print(type(hsplit)) # tātad iegūstam list - sarakstu ar NumPy masīviem\n",
    "print(\"NumPy masīvs\\n\", *hsplit, sep=\"\\n===\\n\") # izprintējam katru masīvu atsevišķi"
   ]
  },
  {
   "cell_type": "code",
   "execution_count": 114,
   "metadata": {},
   "outputs": [],
   "source": [
    "# vsplit ir līdzīgs, bet sadalīs masīvu pa kolonnām\n",
    "# Ja laiks atļauj varat izmēģināt vsplit"
   ]
  },
  {
   "cell_type": "markdown",
   "metadata": {},
   "source": [
    "## NumPy Masīvi ar būla vērtībām\n",
    "\n",
    "NumPy masīvi var saturēt arī būla vērtības (True, False). Šādi masīvi ir noderīgi, kad mums ir nepieciešams veikt kādas darbības, pamatojoties uz kādu nosacījumu."
   ]
  },
  {
   "cell_type": "code",
   "execution_count": null,
   "metadata": {},
   "outputs": [],
   "source": [
    "a = np.arange(20)\n",
    "print(\"NumPy masīvs\", a)"
   ]
  },
  {
   "cell_type": "code",
   "execution_count": null,
   "metadata": {},
   "outputs": [],
   "source": [
    "b = a > 17 # iegūstam masīvu ar True un False vērtībām par katru elementu\n",
    "b"
   ]
  },
  {
   "cell_type": "code",
   "execution_count": null,
   "metadata": {},
   "outputs": [],
   "source": [
    "# ērti izmantot lai izvēlētos ar kurām vērtībām strādāt\n",
    "a[b] = 500 # tikai vērtības, kas atbilst True tiks nomainītas\n",
    "print(\"NumPy masīvs\", a)"
   ]
  },
  {
   "cell_type": "code",
   "execution_count": null,
   "metadata": {},
   "outputs": [],
   "source": [
    "# varam atrast arī pozīcijas, kurās ir True vērtības\n",
    "c = np.where(b)\n",
    "print(\"Pozīcijas\", c) # (array([18, 19]),) - pozīcijas ir tuple, kurā ir masīvs ar pozīcijām"
   ]
  },
  {
   "cell_type": "code",
   "execution_count": null,
   "metadata": {},
   "outputs": [],
   "source": [
    "# var būt dažādas salīdzināšanas operācijas\n",
    "# piemēram atradīsim pāra skaitļus\n",
    "even_filter = a % 2 == 0\n",
    "print(\"Pāra skaitļu patiesums\", even_filter)\n",
    "print(\"Pāra skaitļi\", a[even_filter])\n",
    "print(\"Kur ir pāra skaitļi\", np.where(even_filter))"
   ]
  },
  {
   "cell_type": "markdown",
   "metadata": {},
   "source": [
    "## Failu operācijas, rakstīšana un lasīšana\n",
    "\n",
    "NumPy piedāvā arī dažas metodes, lai ielasītu un saglabātu masīvus no/uz failiem."
   ]
  },
  {
   "cell_type": "code",
   "execution_count": null,
   "metadata": {},
   "outputs": [],
   "source": [
    "# izveidosim 4x5 masīvu ar nejaušiem skaitļiem\n",
    "random_4x5 = np.random.rand(4,5)\n",
    "print(\"NumPy masīvs\\n\", random_4x5)"
   ]
  },
  {
   "cell_type": "code",
   "execution_count": null,
   "metadata": {},
   "outputs": [],
   "source": [
    "# noapaļosim skaitļus līdz 2 decimāliem\n",
    "random_4x5_rounded = np.round(random_4x5, 2)\n",
    "print(\"NumPy masīvs\\n\", random_4x5_rounded)"
   ]
  },
  {
   "cell_type": "code",
   "execution_count": null,
   "metadata": {},
   "outputs": [],
   "source": [
    "# noglabāsim masīvu failā\n",
    "np.save(\"random_4x5_rounded.npy\", random_4x5_rounded)\n",
    "# .npy ir binārs NumPy formāts, bet var arī saglabāt kā .txt vai .csv\n",
    "# nolasam\n",
    "loaded_random_4x5_rounded = np.load(\"random_4x5_rounded.npy\")\n",
    "print(\"NumPy masīvs\\n\", loaded_random_4x5_rounded)"
   ]
  },
  {
   "cell_type": "code",
   "execution_count": null,
   "metadata": {},
   "outputs": [],
   "source": [
    "# ērtāk var būt noglabāt csv failā\n",
    "np.savetxt(\"random_4x5_rounded.csv\", random_4x5_rounded, delimiter=\",\")\n",
    "# csv ir teksta formāts, bet var arī saglabāt kā .txt\n",
    "# nolasam\n",
    "loaded_random_4x5_rounded_csv = np.loadtxt(\"random_4x5_rounded.csv\", delimiter=\",\")\n",
    "print(\"NumPy masīvs\\n\", loaded_random_4x5_rounded_csv)"
   ]
  },
  {
   "cell_type": "code",
   "execution_count": null,
   "metadata": {},
   "outputs": [],
   "source": [
    "# .npy būs ātrāks un efektīvāks, bet .csv būs saprotamāks un vieglāk lasāms cilvēkiem"
   ]
  },
  {
   "cell_type": "markdown",
   "metadata": {},
   "source": [
    "## Automātiska masīvu pārveidošana"
   ]
  },
  {
   "cell_type": "code",
   "execution_count": null,
   "metadata": {},
   "outputs": [],
   "source": [
    "a = np.arange(24)\n",
    "a"
   ]
  },
  {
   "cell_type": "code",
   "execution_count": null,
   "metadata": {},
   "outputs": [],
   "source": [
    "# varam pārveidot masīvu uz citu formu neuzrādot visas dimensijas\n",
    "# šeit nezinām cik kolonnas, bet zinām ka 6 rindas\n",
    "a.shape = 6, -1 # protams varējam uzdot arī 6, 4 ja mākam skaitīt\n",
    "print(\"NumPy masīvs\\n\", a)"
   ]
  },
  {
   "cell_type": "code",
   "execution_count": null,
   "metadata": {},
   "outputs": [],
   "source": [
    "# tagad  nezinām cik rindas, bet zinām ka 2 kolonnas\n",
    "a.shape = -1, 2\n",
    "print(\"NumPy masīvs\\n\", a)"
   ]
  },
  {
   "cell_type": "markdown",
   "metadata": {},
   "source": [
    "## Broadcasting - Upraidīšana\n",
    "\n",
    "Relatīvi sarežģīts temats, kuru var izlaist, ja laiks nepietiek lekcijā. Tomēr tas ir gana svarīgs, lai saprastu, kā NumPy darbojas, un tas var ievērojami uzlabot jūsu algoritmu efektivitāti.\n",
    "\n",
    "* Termins \"broadcasting\" apraksta, kā numpy apstrādā masīvus ar atšķirīgām formām veicot aritmētiskas operācijas. Noteiktos ierobežojumos mazākais masīvs tiek \"broadcast\" - pāri lielākajam masīvam, lai tie būtu saderīgi.\n",
    "\n",
    "* Broadcasting ir ļoti svarīgs, jo tas ļauj veikt operācijas ar masīviem, kuriem nav vienādas formas, bet tomēr ir saderīgi. Tas ļauj veikt operācijas ar masīviem, kas ir dažādās formās, piemēram, saskaitīšanu, atņemšanu, reizināšanu, utt.\n",
    "\n"
   ]
  },
  {
   "cell_type": "code",
   "execution_count": null,
   "metadata": {},
   "outputs": [],
   "source": [
    "e = np.arange(6)\n",
    "f = np.arange(3)*10  #same as np.arange(0,30,10)\n",
    "print(\"NumPy masīvs\\n\", e)\n",
    "print(\"NumPy masīvs\\n\", f)\n"
   ]
  },
  {
   "cell_type": "code",
   "execution_count": null,
   "metadata": {},
   "outputs": [],
   "source": [
    "# saskaitīt tos kopā tāpat kā ar Python list nevar, jo nesakrīt dimensijas\n",
    "# protams varētu tos salīmēt kopā ar np.concatenate - bet tas ir cits jautājums\n",
    "try:\n",
    "    e + f\n",
    "except ValueError as err:\n",
    "    print(f\"ValueError: {err}\")"
   ]
  },
  {
   "cell_type": "markdown",
   "metadata": {},
   "source": [
    "### Vispārīgi `broadcasting` noteikumi\n",
    "\n",
    "Kad darbojaties ar masīviem, NumPy salīdzina tos elementu pa elementam, sākot ar pēdējo dimensiju un strādājot atpakaļ. Divi masīvi tiek uzskatīti par saderīgiem, ja tie atbilst vismaz vienam no šiem nosacījumiem:\n",
    "\n",
    "#### When operating on two arrays, NumPy compares their shapes element-wise. It starts with the trailing dimensions, and works its way forward. Two dimensions are compatible when\n",
    "\n",
    "* dimensijas ir vienādas, vai\n",
    "* viena no dimensijām ir 1\n",
    "\n"
   ]
  },
  {
   "cell_type": "code",
   "execution_count": null,
   "metadata": {},
   "outputs": [],
   "source": [
    "# pārveidosim mūsu masīvus lai varētu veikt operācijas ar broadcasting palīdzību\n",
    "print(e.reshape(6,1))\n",
    "print(f.reshape(1,3))\n",
    "e.reshape(6,1) + f.reshape(1,3)"
   ]
  },
  {
   "cell_type": "code",
   "execution_count": null,
   "metadata": {},
   "outputs": [],
   "source": [
    "# varam arī reizināt\n",
    "e.reshape(6,1) * f.reshape(1,3)"
   ]
  },
  {
   "cell_type": "code",
   "execution_count": null,
   "metadata": {},
   "outputs": [],
   "source": [
    "# varam ātri izveidot reizināšanas tabulu\n",
    "mtab = np.arange(10).reshape(10,1) * np.arange(10).reshape(1,10)\n",
    "mtab"
   ]
  },
  {
   "cell_type": "markdown",
   "metadata": {},
   "source": [
    "### Broadcasting mācību materiāli\n",
    "\n",
    "Iespējams izmantot \"broadcasting\" lai veiktu operācijas ar masīviem, arī augstākas dimensijas, bet cilvēkiem kuri domā 2D un 3D tas var būt sarežģīti.\n",
    "\n",
    "Piemērs: https://numpy.org/doc/stable/user/basics.broadcasting.html\n"
   ]
  },
  {
   "cell_type": "markdown",
   "metadata": {},
   "source": [
    "## Attēlu apstrāde ar NumPy (PIL ir vēl viena iespēja!)\n",
    "\n",
    "Izmantojot NumPy, mēs varam veikt daudz attēlu apstrādes operāciju, piemēram, attēlu ielāde, saglabāšana, rediģēšana, apstrāde, filtrēšana, utt.\n",
    "\n",
    "Pastāv arī citas bibliotēkas, kas ir vēl ērtākas attēlu apstrādei, piemēram, PIL (Python Imaging Library) vai tās uzlabotā versija Pillow.\n",
    "Parasti šīm ērtākām bibliotekām apakšā ir NumPy, bet tās piedāvā papildu funkcionalitāti, kas padara attēlu apstrādi ērtāku."
   ]
  },
  {
   "cell_type": "code",
   "execution_count": 31,
   "metadata": {},
   "outputs": [],
   "source": [
    "# Lejuplādēsim pirmo plaši izmantoto testa attēlu no Wikipēdijas\n",
    "url='https://upload.wikimedia.org/wikipedia/en/7/7d/Lenna_%28test_image%29.png'\n",
    "save_file='lena.png'"
   ]
  },
  {
   "cell_type": "code",
   "execution_count": 143,
   "metadata": {},
   "outputs": [],
   "source": [
    "# Oriģināls: novembris 1972, fotografēja Dwight Hooker.\n",
    "# Šis 512x512 elektroniskais/mehāniskais skenējums no daļas\n",
    "# no pilnā portreta: Alexander Sawchuk (1972) un divi citi\n"
   ]
  },
  {
   "cell_type": "code",
   "execution_count": 32,
   "metadata": {},
   "outputs": [],
   "source": [
    "# izmantosim standarta Python bibliotēku, lai lejuplādētu failu\n",
    "import urllib.request\n",
    "import shutil"
   ]
  },
  {
   "cell_type": "code",
   "execution_count": 34,
   "metadata": {},
   "outputs": [],
   "source": [
    "# viens no veidiem kā lejuplādēt failu no interneta un saglabāt to uz diska\n",
    "with urllib.request.urlopen(url) as response, open(save_file, 'wb') as out_file:\n",
    "    shutil.copyfileobj(response, out_file) # fails tiks saglabāts pašreizējā darba mapē - ir iespējams norādīt citu vietu"
   ]
  },
  {
   "cell_type": "markdown",
   "metadata": {},
   "source": [
    "### Imageio - papildu bibliotēka attēlu apstrādei\n",
    "\n",
    "Imageio ir Python bibliotēka, kas nodrošina vienkāršu saskarni, lai lasītu un rakstītu plašu attēlu datu klāstu.\n",
    "\n",
    "Attēlu failiem parasti ir papildu informācija, piemēram, izmērs, krāsu kanāli, utt. Imageio ļauj mums viegli ielasīt attēlu failus un strādāt ar tiem kā NumPy masīviem. \n",
    "\n",
    "Lai ielasītu attēlu, mums jāimportē imageio bibliotēka un jāizmanto `imageio.imread()` funkcija.\n",
    "\n",
    "\n",
    "\n",
    "Main website: http://imageio.github.io"
   ]
  },
  {
   "cell_type": "code",
   "execution_count": null,
   "metadata": {},
   "outputs": [],
   "source": [
    "try:\n",
    "    import imageio\n",
    "    # version\n",
    "    print(f\"imageio version: {imageio.__version__}\")\n",
    "except ImportError:\n",
    "    print(\"imageio not found\")\n",
    "    print(\"Please install imageio with 'pip install imageio'\")"
   ]
  },
  {
   "cell_type": "code",
   "execution_count": null,
   "metadata": {},
   "outputs": [],
   "source": [
    "# varam ielādēt datus no attēla\n",
    "lena = imageio.v2.imread('lena.png') # lietojam v2, jo v1 ir deprecated, savukārt v3 ir nedaudz savādāka\n",
    "# tips\n",
    "print(\"Datu tips\", type(lena)) # interesanti, ka tas ir NumPy masīvs!"
   ]
  },
  {
   "cell_type": "code",
   "execution_count": 41,
   "metadata": {
    "scrolled": true
   },
   "outputs": [],
   "source": [
    "# varējām pat uzreiz lejuplādēt attēlu no interneta\n",
    "lena_direct = imageio.v2.imread(url)"
   ]
  },
  {
   "cell_type": "code",
   "execution_count": null,
   "metadata": {},
   "outputs": [],
   "source": [
    "# tipi datiem\n",
    "print(\"Lena datu tips\", type(lena))\n",
    "# forma\n",
    "print(\"Lena forma\", lena.shape)"
   ]
  },
  {
   "cell_type": "markdown",
   "metadata": {},
   "source": [
    "### Kar tad ir imageio.core.util.Image ?\n",
    "\n",
    "To varam atrast šeit: https://imageio.readthedocs.io/en/stable/api/imageio.core.util.html#imageio.core.util.Image\n",
    "\n",
    "Varam atrast šīs klases vecāku klases, lai saprastu, kas ir Image klase.\n"
   ]
  },
  {
   "cell_type": "code",
   "execution_count": null,
   "metadata": {},
   "outputs": [],
   "source": [
    "print(\"Imageo vecāka datu tips\", imageio.core.util.Image.__bases__)\n"
   ]
  },
  {
   "cell_type": "markdown",
   "metadata": {},
   "source": [
    "### NumPy attēla apstrāde un attēlošana"
   ]
  },
  {
   "cell_type": "code",
   "execution_count": 46,
   "metadata": {},
   "outputs": [],
   "source": [
    "import matplotlib.pyplot as plt\n",
    "# par Matplotlib vairāk var uzzināt šeit: https://matplotlib.org/\n",
    "# par to būs arī atsevišķa nodarbība"
   ]
  },
  {
   "cell_type": "code",
   "execution_count": null,
   "metadata": {},
   "outputs": [],
   "source": [
    "plt.imshow(lena)"
   ]
  },
  {
   "cell_type": "code",
   "execution_count": null,
   "metadata": {},
   "outputs": [],
   "source": [
    "lena.shape"
   ]
  },
  {
   "cell_type": "code",
   "execution_count": null,
   "metadata": {},
   "outputs": [],
   "source": [
    "lena.ndim"
   ]
  },
  {
   "cell_type": "code",
   "execution_count": null,
   "metadata": {},
   "outputs": [],
   "source": [
    "lena.size"
   ]
  },
  {
   "cell_type": "markdown",
   "metadata": {},
   "source": [
    "### Attēla pikseļu vērtību izmaiņas"
   ]
  },
  {
   "cell_type": "code",
   "execution_count": null,
   "metadata": {},
   "outputs": [],
   "source": [
    "# nomainīsim dažus pikseļus šajā attēlā\t\n",
    "#lena[60:160,60:160,]=90\n",
    "lena[30:60,30:60,0]= 10 # nomainam sarkanās krāsas vērtību konkrētās vietās rindās 30-60 un kolonnās 30-60\n",
    "lena[60:160,60:160,1]=10\n",
    "lena[160:260,160:260,2]=10\n",
    "# kurš RGB kanāls ir kāds?\n",
    "plt.imshow(lena)"
   ]
  },
  {
   "cell_type": "markdown",
   "metadata": {},
   "source": [
    "## NumPy Histograms - np.histogram()\n",
    "### np version only builds the histogram but does not plot it (unlike mathplotlib version)"
   ]
  },
  {
   "cell_type": "code",
   "execution_count": 56,
   "metadata": {},
   "outputs": [],
   "source": [
    "import matplotlib.pyplot as plt\n",
    "# sīkāk par Matplotlib var uzzināt šeit: https://matplotlib.org/\n",
    "# būs arī nodarbība par vizualizācijām"
   ]
  },
  {
   "cell_type": "code",
   "execution_count": 59,
   "metadata": {},
   "outputs": [],
   "source": [
    "# vektors ar 10000 nejaušiem skaitļiem no N(2,0.5^2) sadalījuma\n",
    "mu, sigma = 2, 0.5\n",
    "np.random.seed(2024) # lai varētu atkārtot eksperimentu\n",
    "v = np.random.normal(mu,sigma,20000)\n"
   ]
  },
  {
   "cell_type": "code",
   "execution_count": null,
   "metadata": {},
   "outputs": [],
   "source": [
    "v[:20], v.mean(),v.max(),v.min()"
   ]
  },
  {
   "cell_type": "code",
   "execution_count": null,
   "metadata": {
    "scrolled": true
   },
   "outputs": [],
   "source": [
    "# attēlosim histogrammu - skaitļu sadalījumu 500 kastītēs\n",
    "plt.hist(v, bins=500)       # matplotlib version (plot)\n",
    "plt.show()"
   ]
  },
  {
   "cell_type": "code",
   "execution_count": null,
   "metadata": {},
   "outputs": [],
   "source": [
    "# varam tikai aprēķināt histogrammu\tun to izmantot citur\n",
    "(n, bins) = np.histogram(v, bins=500)  # NumPy version (no plot)\n",
    "# izdrukāsim pirmās 10 bins\n",
    "print(bins[:10])\n",
    "# lielākā bins vērtība\n",
    "print(\"Lielākā bins vērtība\", n.max())"
   ]
  },
  {
   "cell_type": "code",
   "execution_count": null,
   "metadata": {},
   "outputs": [],
   "source": [
    "plt.plot(.5*(bins[1:]+bins[:-1]), n)\n",
    "plt.show()"
   ]
  },
  {
   "cell_type": "code",
   "execution_count": 65,
   "metadata": {},
   "outputs": [],
   "source": [
    "# ir daudz citu vizualizāciju veidu, kas ir pieejami ar Matplotlib - bet par to citreiz"
   ]
  },
  {
   "cell_type": "markdown",
   "metadata": {},
   "source": [
    "## Uzdevumi patstāvīgam darbam\n",
    "\n",
    "### 1. uzdevums -  Masīvu Veidošana un Pamata Operācijas\n",
    "\n",
    "**Mērķis**: Praktizēt masīvu veidošanu un pamata operācijas.\n",
    "\n",
    "Masīvu Veidošana:\n",
    "\n",
    "* Izveidojiet 1D masīvu ar 10 nejaušiem veseliem skaitļiem no 0 līdz 50.\n",
    "* Izveidojiet 2D masīvu ar izmēru (4, 4), kas satur skaitļus no 1 līdz 16.\n",
    "\n",
    "Masīvu Operācijas:\n",
    "\n",
    "* Aprēķiniet katra elementa kvadrātu 1D masīvā.\n",
    "* Pievienojiet 10 katram elementam 2D masīvā.\n",
    "* Aprēķiniet visu 2D masīva elementu summu.\n",
    "* Papildu Uzdevums: Izveidojiet 3x3 identitātes matricu un sareiziniet to ar pārveidotu 1D masīvu no 1. punkta.\n",
    "\n",
    "Paredzamais laiks: 15-20 minūtes.\n",
    "\n",
    "### 2. uzdevums Indeksēšana un Griezumi ar Nosacījumiem\n",
    "\n",
    "**Mērķis**: Stiprināt zināšanas par indeksēšanu, griezumiem un nosacījumu izmantošanu.\n",
    "\n",
    "Indeksēšana un Griezumi:\n",
    "\n",
    "* Izveidojiet 5x5 masīvu ar nejaušiem veseliem skaitļiem no 10 līdz 100.\n",
    "* Izvelciet un parādiet trešo rindu.\n",
    "* Izvelciet un parādiet masīva apakšmasīvu ar pirmajām trim rindām un pēdējām trim kolonnām.\n",
    "\n",
    "Nosacījuma Izvēle:\n",
    "\n",
    "* Parādiet visus masīva elementus, kas ir lielāki par 50.\n",
    "* Aizvietojiet visus elementus, kas ir mazāki par 30, ar -1.\n",
    "* Papildu Uzdevums: Saskaitiet, cik elementu masīvā ir dalāmi gan ar 3, gan ar 5.\n",
    "\n",
    "Paredzamais laiks: 15-25 minūtes.\n",
    "\n",
    "### 3. uzdevums - Masīvu Apvienošana un Sadalīšana\n",
    "\n",
    "**Mērķis**: Praktizēt masīvu pārveidošanu, apvienošanu un sadalīšanu.\n",
    "\n",
    "Pārveidošana un Izlīdzināšana:\n",
    "\n",
    "1. Izveidojiet 3x4 masīvu ar skaitļiem no 1 līdz 12.\n",
    "2. Pārveidojiet masīvu tā, lai tam būtu izmērs (2, 6).\n",
    "3. Izlīdziniet pārveidoto masīvu atpakaļ uz 1D masīvu.\n",
    "\n",
    "Masīvu Manipulācija:\n",
    "\n",
    "* Izveidojiet 2x2 masīvu ar nejaušiem veseliem skaitļiem no 1 līdz 10, pēc tam izveidojiet otru 2x2 masīvu ar tādiem pašiem nosacījumiem.\n",
    "* Apvienojiet masīvus vertikāli un horizontāli.\n",
    "* Papildu Uzdevums: Sadaliet 3x4 masīvu no 1. punkta divos masīvos pa otro asi.\n",
    "\n",
    "Paredzamais laiks: 20-30 minūtes.\n",
    "\n",
    "### 4. uzdevums - Lineāra Algebra un Masīvu Statistikas Aprēķini\n",
    "\n",
    "Mērķis: Iepazīstināt studentus ar NumPy lineārās algebras funkcijām un statistikas metodēm.\n",
    "\n",
    "Matricas Operācijas:\n",
    "\n",
    "1. Izveidojiet 3x3 matricu ar nejaušām vērtībām.\n",
    "2. Aprēķiniet matricas transponēšanu un apgrieztās matricas (pārliecinieties, vai matrica ir apgriežama).\n",
    "3. Aprēķiniet matricas skalāro reizinājumu ar citu 3x3 matricu, kas sastāv tikai no vieniniekiem.\n",
    "\n",
    "Statistika:\n",
    "\n",
    "* Aprēķiniet vidējo vērtību, standartnovirzi un dispersiju katrai rindai un kolonnai matricā.\n",
    "* Izveidojiet 4x4 masīvu ar nejaušiem veseliem skaitļiem no 5 līdz 50. Atrodiet minimālās un maksimālās vērtības katrā asī.\n",
    "\n",
    "* Papildu Uzdevums: Izveidojiet nejaušu 3x3 matricu un aprēķiniet tās īpašvērtības un īpašvektorus.\n",
    "\n",
    "Paredzamais laiks: 20-30 minūtes."
   ]
  },
  {
   "cell_type": "markdown",
   "metadata": {},
   "source": [
    "### Resurss papildu uzdevumiem - 100 NumPy Exercises\n",
    "\n",
    "* [100 NumPy Exercises](https://github.com/rougier/numpy-100) - 100 vingrinājumi, lai stiprinātu jūsu NumPy prasmes."
   ]
  },
  {
   "cell_type": "markdown",
   "metadata": {},
   "source": [
    "##  Kopsavilkums: Kad lietot NumPy masīvus un kad Python sarakstus?\n",
    "\n",
    "* NumPy ierobežojums un priekšrocība - visi elementi ir vienāda datu tipa\n",
    "* Python saraksti ir elastīgāki un var saturēt dažādus datu tipus\n",
    "* NumPy masīvi ir kompaktāki un ātrāki nekā Python saraksti (apmēram 3-5x atšķirība izmēros)\n",
    "* Ātrāka piekļuve lasīšanai/rakstīšanai / mazāk Python \"grāmatvedības\"\n",
    "* Ērtības operācijas matricu operācijas/Furjē transformācijas/histogrammas/statistikas/filtrēšanas/utml\n",
    "* Lokalitāte atmiņas piekļuvē nodrošina veiktspējas pieaugumu, it īpaši CPU kešatmiņas dēļ\n",
    "* Elementi glabājas secīgi atmiņā, kas ļauj NumPy izmantot moderno CPU vektorizētās instrukcijas, piemēram, Intel SSE un AVX, AMD XOP instrukcijas\n",
    "\n",
    "Ja jums ir daudz vienveidīgu operāciju ar daudziem elementiem vienlaicīgi tad izmantojiet NumPy, ja jums ir daudz individuālu operāciju, varbūt pietiek ar Python sarakstiem.\n",
    "\n",
    "Ja jums ir daudz dažādu datu tipu masīvu, iespējams, labāk izmantot Pandas bibliotēku (cita lekcija), kurai ir vēl lielākas iespējas datu apstrādē. Tā izmanto NumPy zem \"vāka\", bet piedāvā vēl vairāk funkcionalitātes.\n",
    "\n",
    "\n"
   ]
  },
  {
   "cell_type": "markdown",
   "metadata": {},
   "source": [
    "## Resursi / Grāmatas"
   ]
  },
  {
   "cell_type": "markdown",
   "metadata": {},
   "source": [
    "* [Official NumPy Docs](https://docs.scipy.org/doc/numpy/user/index.html) - oficiālā dokumentācija, kurā ir daudz piemēru un skaidrojumu\n",
    "\n",
    "* [NumPy Cookbook](https://www.amazon.com/NumPy-Cookbook-Second-Ivan-Idris-ebook/dp/B00WX3W41A) # dažas labas receptes, bet ne viss ir skaidri, šim autoram ir vairākas grāmatas par NumPy\n",
    "\n",
    "* [PythonDataScienceHandbook](https://github.com/jakevdp/PythonDataScienceHandbook) # lieliska grāmata, kas aptver daudzas tēmas, ieskaitot NumPy\n",
    "\n",
    "* [From Python to Numpy](http://www.labri.fr/perso/nrougier/from-python-to-numpy/) # jauka brīvi pieejama grāmata, kas palīdz pāriet no Python uz NumPy"
   ]
  }
 ],
 "metadata": {
  "kernelspec": {
   "display_name": "venv312",
   "language": "python",
   "name": "python3"
  },
  "language_info": {
   "codemirror_mode": {
    "name": "ipython",
    "version": 3
   },
   "file_extension": ".py",
   "mimetype": "text/x-python",
   "name": "python",
   "nbconvert_exporter": "python",
   "pygments_lexer": "ipython3",
   "version": "3.12.3"
  }
 },
 "nbformat": 4,
 "nbformat_minor": 4
}
