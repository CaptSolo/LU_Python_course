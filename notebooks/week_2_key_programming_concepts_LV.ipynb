{
 "cells": [
  {
   "cell_type": "markdown",
   "metadata": {},
   "source": [
    "![LU Logo](https://www.lu.lv/fileadmin/user_upload/LU.LV/www.lu.lv/Logo/Logo_jaunie/LU_logo_LV_horiz.png)\n"
   ]
  },
  {
   "cell_type": "markdown",
   "metadata": {},
   "source": [
    "# 2. nedēļa: Galvenie programmēšanas jēdzieni\n",
    "\n",
    "\n",
    "\n",
    "\n"
   ]
  },
  {
   "cell_type": "markdown",
   "metadata": {},
   "source": [
    "## Kopsavilkums\n",
    "\n",
    "Nodarbībā tiks apskatītas šādas tēmas:\n",
    "\n",
    "* izpildes zarošanās komandas: if, elif, else\n",
    "* cikli: for cikls, while cikls, ciklu izpildes komandas (break, continue)\n",
    "* izņēmum-situāciju apstrāde: try, except, finally\n",
    "* teksta rindas: indeksēšana, griešana (slicing), teksta rindu metodes\n",
    "* saraksta jēdziens: līdzīgs masīviem citās valodās\n",
    "* sarakstu indeksēšana un griešana\n",
    "* sarakstu metodes: append, extend, insert, remove, pop, clear, index, count, sort, reverse, copy\n",
    "\n",
    "## Prasības\n",
    "\n",
    "* Python sintakses pamati\n",
    "* Python pamata datu tipi - strings, integers, floats, booleans\n",
    "\n",
    "## Nodarbības mērķi\n",
    "\n",
    "Nodarbības beigās studenti varēs:\n",
    "\n",
    "* lietot izpildes zarošanās komandas lai kontrolētu programmas izpildi\n",
    "* pielietot izņēmum-situāciju apstrādes komandas\n",
    "* atkārtoti izpildīt koda fragmentus izmantojot Python ciklus\n",
    "* uzglabāt un apstrādāt datus izmantojot Python teksta rindas un sarakstus\n"
   ]
  },
  {
   "cell_type": "code",
   "execution_count": null,
   "metadata": {},
   "outputs": [],
   "source": [
    "# import komandas parasti tiek liktas programmas sākumā\n",
    "\n",
    "# Python versijas pārbaude\n",
    "import sys\n",
    "print(f\"Python version: {sys.version}\")"
   ]
  },
  {
   "cell_type": "markdown",
   "metadata": {},
   "source": [
    "## 1. tēma: - Izpildes zarošanās komandas\n",
    "\n",
    "### 1.1 - if, elif, else\n",
    "\n",
    "Loģiskās izteiksmes un izpildes zarošanās komandas ļauj izpildīt dažādus koda fragmentus atkarībā no tā vai izteiksmes vērtība ir patiesa vai aplama. Galvenās Python izpildes zarošanās komandas ir `if`, `elif` un `else`."
   ]
  },
  {
   "cell_type": "markdown",
   "metadata": {},
   "source": [
    "---\n",
    "\n",
    "Komanda `if` izpildas tās koda bloku (`komandas`) tad, ja tās nosacījums ir patiess:\n",
    "\n",
    "```\n",
    "if <nosacījums>:\n",
    "    <komandas>\n",
    "```"
   ]
  },
  {
   "cell_type": "code",
   "execution_count": null,
   "metadata": {},
   "outputs": [],
   "source": [
    "# apskatīsim piemēru\n",
    "my_age = 22\n",
    "\n",
    "if my_age > 18: # Python valodā kols (:) norāda koda bloka sākumu\n",
    "    print(\"I'm an adult\") # koda bloks tiek pierakstīts ar atkāpi no kreisās malas\n",
    "    \n",
    "    # joprojām esam \"if\" komandā\n",
    "    print(\"Still inside the if statement\")\n",
    "    print(f\"My age is {my_age}\")\n",
    "    print()\n",
    "    # joprojām \"if\" komandā\n",
    "\n",
    "# aiz \"if\" komandas koda bloka beigām\n",
    "print(\"Outside the if statement\") # šī līnija nav ar atkāpi no malas un tādēļ tā ir ārpus \"if\" koda bloka"
   ]
  },
  {
   "cell_type": "code",
   "execution_count": null,
   "metadata": {
    "scrolled": true
   },
   "outputs": [],
   "source": [
    "my_var = 42\n",
    "\n",
    "# formatētās teksta rindas (formatted literals) sākas ar burtu \"f\" pirms atverošajām pēdiņām\n",
    "print(f\"My age is {my_var}\")\n",
    "print(\"My age is {my_var}\")"
   ]
  },
  {
   "cell_type": "markdown",
   "metadata": {},
   "source": [
    "---\n",
    "#### if, else \n",
    "\n",
    "Komanda `else` norāda uz koda bloku (`komandas`), ko izpildīt tad, ja nosacījums nav patiess\n",
    "```\n",
    "if <nosacījums>:\n",
    "    <komandas>\n",
    "else:\n",
    "    <komandas>\n",
    "```"
   ]
  },
  {
   "cell_type": "code",
   "execution_count": null,
   "metadata": {},
   "outputs": [],
   "source": [
    "# uzrakstīsim programmu, kas pārbauda vai skaitlis ir pāra vai nepāra skaitlis\n",
    "# ja tas ir pāra skaitlis, drukāsim \"even\"\n",
    "# ja tas ir nepāra skailis, drukāsim \"odd\"\n",
    "\n",
    "number = 5\n",
    "\n",
    "if number % 2 == 0:\n",
    "    print(\"even\")\n",
    "    # joprojām iekš \"if\" komandas koda bloka\n",
    "    print(f\"Even number: {number}\")\n",
    "else:\n",
    "    print(\"odd\")\n",
    "    # joprojām iekš \"else\" komandas koda bloka\n",
    "    print(f\"Odd number: {number}\")\n",
    "\n",
    "# ārpus \"if/else\" komandas koda blokiem\n",
    "print()\n",
    "print(\"Outside the if/else statement block of code\")"
   ]
  },
  {
   "cell_type": "markdown",
   "metadata": {},
   "source": [
    "---\n",
    "#### if, elif, else\n",
    "\n",
    "Komanda `elif` (vārdu \"else if\" saīsinājums) satur loģisko izteiksmi, ko pārbaudīt tad, ja `if` komandas nosacījums nav patiess. Tādā gadījumā tiks pārbaudīts `elif` nosacījums un `elif` koda bloks tiks izpildīts tad, ja šis nosacījums ir patiess. Ja tas nav patiess, tad tiks izpildīts `else` komandas koda bloks.\n",
    "\n",
    "```\n",
    "if <nosacījums_1>:\n",
    "    <komandas>\n",
    "elif <nosacījums_2>:\n",
    "    <komandas>\n",
    "else:\n",
    "    <komandas>\n",
    "```"
   ]
  },
  {
   "cell_type": "code",
   "execution_count": null,
   "metadata": {},
   "outputs": [],
   "source": [
    "# apskatīsim piemērus\n",
    "\n",
    "# pārbaudīsim vai \"number\" skaitlis ir lielāks, mazāks vai vienāds ar \"target_number\"\n",
    "number = 10\n",
    "target_number = 20\n",
    "\n",
    "if number > target_number: # checked first\n",
    "    print(\"Number is greater than target number\")\n",
    "elif number < target_number: # checked second\n",
    "    print(\"Number is lesser than target number\")\n",
    "else: # if none of the above conditions are met then we will execute this block\n",
    "    print(\"Number is equal to target number\")\n",
    "\n"
   ]
  },
  {
   "cell_type": "code",
   "execution_count": null,
   "metadata": {},
   "outputs": [],
   "source": [
    "## \"if else\" komandas var arī iekļaut vienu otrā:\n",
    "\n",
    "# if conditionA:\n",
    "#     if conditionB:\n",
    "#         if conditionC:\n",
    "#             if conditionD:\n",
    "#                 if conditionE:\n",
    "#                     if conditionF:\n",
    "\n",
    "# Uzmanību: nelietojiet vairāk kā 3-4 savstarpēji iekļautas \"if else\" komandas\n",
    "# Tās ļoti sarežģī programmas kodu!"
   ]
  },
  {
   "cell_type": "code",
   "execution_count": null,
   "metadata": {},
   "outputs": [],
   "source": [
    "# apskatīsim piemēru ar diviem \"if else\" komandas iekļaušanas līmeņiem (levels of nesting)\n",
    "\n",
    "# pārbaudīsim vai skaitlis \"number\" dalās ar 2 un 3\n",
    "\n",
    "number = 6\n",
    "\n",
    "if number % 2 == 0:\n",
    "    print(\"number is divisible by 2\", number)\n",
    "    if number % 3 == 0:\n",
    "        print(\"number is divisible by 3\", number)\n",
    "    else:\n",
    "        print(\"number is not divisible by 3\", number)\n",
    "else:\n",
    "    print(\"number is not divisible by 2\", number)\n",
    "    if number % 3 == 0:\n",
    "        print(\"number is divisible by 3\", number)\n",
    "    else:\n",
    "        print(\"number is not divisible by 3\", number)\n",
    "\n",
    "# te mēs būtu varējuši iztikt arī ar vienu \"if else\" līmeni\n",
    "# tas būtu ieteicamais risinājums\n",
    "\n",
    "# šis piemērs tikai parāda to, ka \"if else\" komandas var iekļaut vienu otrā"
   ]
  },
  {
   "cell_type": "markdown",
   "metadata": {},
   "source": [
    "### Izņēmum-situāciju apstrāde ar \"try except\" komandām\n",
    "\n",
    "Python valodā mēs varam \"ķert\" kļūdas un izņēmum-situācijas izmantojot komandas `try` un `except`.\n",
    "\n",
    "```\n",
    "try:\n",
    "    # programmas kods, kas var izraisīt kļūdas situāciju\n",
    "except:\n",
    "    # programmas kods, kas tiek izpildīts tad, ja tiek \"noķerta\" kļūda\n",
    "```\n",
    "\n",
    "Šajā komandā notiek izpildes zarošanās atkarībā no tā vai notika kļūda, tādēļ \"try except\" ir sava līdzība ar komandām `if` un `else`."
   ]
  },
  {
   "cell_type": "code",
   "execution_count": null,
   "metadata": {},
   "outputs": [],
   "source": [
    "# atkomentējiet nākamo rindiņu lai redzētu kā izskatās neapstrādāta (nenoķerta) izņēmum-situācija (exception)\n",
    "#print(5/0)"
   ]
  },
  {
   "cell_type": "code",
   "execution_count": null,
   "metadata": {},
   "outputs": [],
   "source": [
    "# apskatīsim try ... except komandas darbībā\n",
    "\n",
    "try:\n",
    "    print(5/0)\n",
    "except:\n",
    "    print(\"You can't divide by zero!\")"
   ]
  },
  {
   "cell_type": "code",
   "execution_count": null,
   "metadata": {},
   "outputs": [],
   "source": [
    "# labākā prakse ir ķert konkrētas izņēmum-situācijas\n",
    "# (nevis atstāt \"except\" komandu tukšu, kas nozīmē ķert visas kļūdas)\n",
    "\n",
    "try:\n",
    "    print(5/0)\n",
    "except ZeroDivisionError: # šī komanda noķers tieši dalīšanu ar 0, bet neķers cita veida kļūdas\n",
    "    print(\"You can't divide by zero!\")\n",
    "except ValueError: # šī komanda noķers ValueError tipa kļūdas\n",
    "    print(\"Another error message\")\n",
    "\n",
    "# kā redzams šajā piemērā, var lietot vairākas \"except\" komandas"
   ]
  },
  {
   "cell_type": "code",
   "execution_count": null,
   "metadata": {},
   "outputs": [],
   "source": [
    "# var pielietot arī else un finally komandas\n",
    "\n",
    "# \"else\" koda bloks tiks izpildīts tikai tad, ja \"try\" koda bloks izpildījās bez kļūdām\n",
    "# \"finally\" tiks izpildīts vienmēr\n",
    "\n",
    "try:\n",
    "    print(5/0)\n",
    "except ZeroDivisionError as e: # kļūdas informāciju var saglabāt mainīgajā (piem., e)\n",
    "    print(\"You can't divide by zero!\")\n",
    "    print(f\"Error: {e}\")\n",
    "else:\n",
    "    print(\"Division successful!\")\n",
    "finally:\n",
    "    # koda fragments, kas tiks izpildīts vienmēr (arī, ja bija notikusi kļūda)\n",
    "    print(\"This will always execute!\")\n",
    "\n",
    "# papildus informācija par \"finally\":\n",
    "# https://docs.python.org/3/tutorial/errors.html#defining-clean-up-actions"
   ]
  },
  {
   "cell_type": "code",
   "execution_count": null,
   "metadata": {},
   "outputs": [],
   "source": [
    "# Ir iespējams definēt pašiem savas \"kļūdas\" (izņēmum-situācijas) kā klases Exception vai citu kļūdu klašu apakšklases.\n",
    "\n",
    "class MyException(Exception):\n",
    "    pass  \n",
    "\n",
    "try:\n",
    "    number = int(input(\"Ievadi skaitli, kas mazāks par 5: \"))\n",
    "\n",
    "    if number >= 5:\n",
    "        raise MyException(\"Skaitlim jābūt mazākam par 5!\")\n",
    "      \n",
    "except MyException as e:\n",
    "    print(\"Kļūda:\", e)\n",
    "\n"
   ]
  },
  {
   "cell_type": "markdown",
   "metadata": {},
   "source": [
    "#### 1. tēma - mini uzdevums"
   ]
  },
  {
   "cell_type": "code",
   "execution_count": null,
   "metadata": {},
   "outputs": [],
   "source": [
    "# Mini uzdevums if/else zināšanu pārbaudei\n",
    "\n",
    "# 1. Izveidojiet mainīgo `age` un piešķiriet tam kādu skaitlisku vērtību\n",
    "# 2. Uzrakstiet if/else komandu, kas:\n",
    "#     - nodrukā \"I'm young\", ja `age` vērtība ir mazāka par vai vienāda ar 30\n",
    "#     - citādi nodrukā \"I'm old\"\n"
   ]
  },
  {
   "cell_type": "markdown",
   "metadata": {},
   "source": [
    "## 2. tēma: - Cikli\n",
    "\n",
    "### 2.1 - While cikls\n",
    "\n",
    "*While* cikli ļauj atkārtoti izpildīt `while` komandas bloku tikmēr, \n",
    "kamēr `while` nosacījums ir patiess. Nosacījuma vērtība tiek pārbaudīta\n",
    "katras cikla izpildes reizes (iterācijas) sākumā:\n",
    " - ja nosacījums ir patiess, tad tiek izpildītas koda bloka komandas\n",
    " - cikla izpilde tiek atkārtota līdz nosacījums kļūst nepatiess\n",
    "\n",
    "*While* cikla sintakse:\n",
    "\n",
    "```\n",
    "while <nosacījums>:\n",
    "    <komandas>\n",
    "```\n",
    "\n",
    "Koda bloka komandas tiek rakstītas ar atkāpi no kreisās malas, tādējādi norādot, ka tās ir pieder `while` ciklam.\n"
   ]
  },
  {
   "cell_type": "code",
   "execution_count": null,
   "metadata": {},
   "outputs": [],
   "source": [
    "# apskatīsim piemēru\n",
    "\n",
    "# šis while cikls nodrukās skaitļus no 1 līdz 5\n",
    "\n",
    "i = 1\n",
    "\n",
    "while i <= 5:       # while koda bloks (nākamajā rindā) sākas ar atstarpi\n",
    "    print(f\"Number is {i}\")\n",
    "    i = i + 1       # ir svarīgi palielināt i vērtību, citādi cikls var turpināties mūžīgi\n"
   ]
  },
  {
   "cell_type": "markdown",
   "metadata": {},
   "source": [
    "---\n",
    "#### While cikla pārtraukšana - komanda \"break\"\n",
    "\n",
    "Ar komandas `break` palīdzību var pārtraukt cikla izpildi. Šī iespēja ir noderīga tad, ja koda blokā ir kāds nosacījums, pie kura ir jāpārtrauc cikla izpilde. Sastopot komandu `break` Python pārtrauc koda bloka izpildi un turpina izpildīt komandas, kas seko aiz cikla koda bloka.\n",
    "\n",
    "---\n",
    "\n",
    "Funkcija `input()` ļauj pajautāt lietotājam ievadīt kādu vērtību, kas programmai tiek nodota kā teksta rinda (gadījumā, ja ir jāievada skaitlis, tad programmā ir jāveic ievadītās teksta rindas pārveidošana par skaitli). Funkcijas `input` parametrs ir teksts, ko attēlot lietotājam pirms tam tiek jautāts ievadīt vērtību.\n",
    "\n",
    "`value = input(\"Text that is displayed to a user: \")`"
   ]
  },
  {
   "cell_type": "code",
   "execution_count": null,
   "metadata": {},
   "outputs": [],
   "source": [
    "# Piemērs: mēs gribam pajautāt lietotājam ievadīt skaitļus\n",
    "# līdz brīdim, kad lietotājs ievada negatīvu skaitli.\n",
    "\n",
    "# Ievadītais skaitlis tiks glabāts mainīgajā \"number\"\n",
    "# Skaitļu atkārtotai ievadīšanai mēs lietosim while ciklu\n",
    "# Lai pātrauktu cikla izpildi, tiks izmantota \"break\" komanda\n",
    "\n",
    "# \"while True\" ir mūžīgais cikls, kas turpinās izpildīties \n",
    "# līdz brīdim, kad tas tiks pātraukts ar komandu \"break\"\n",
    "\n",
    "while True:\n",
    "    \n",
    "    # pajautā lietotājam ievadīt veselu skaitli\n",
    "    number = int(input(\"Enter an integer number (negative number to quit): \")) \n",
    "    \n",
    "    # piezīme: skaitļa pārveidošana par veselu skaitli var izraisīt kļūdas situāciju\n",
    "    # gadījumā, ja ievadīto vērtību nevar pārveidot par veselu skaitli.\n",
    "    \n",
    "    # pārtrauc cikla izpildi gadījumā, ja ir ievadīts negatīvs skaitlis\n",
    "    if number < 0:\n",
    "        print(\"You entered a negative number\", number)\n",
    "        break"
   ]
  },
  {
   "cell_type": "markdown",
   "metadata": {},
   "source": [
    "---\n",
    "#### Komanda \"continue\"\n",
    "\n",
    "`continue` komanda ļauj pārtraukt patreizējās cikla iterācijas izpildi un sākt nākamo cikla iterāciju.\n"
   ]
  },
  {
   "cell_type": "code",
   "execution_count": null,
   "metadata": {},
   "outputs": [],
   "source": [
    "i = 0\n",
    "\n",
    "while i < 5:\n",
    "    print(i)\n",
    "    i += 1      # ir svarīgi palielināt i vērtību lai nebūtu mūžīgais cikls\n",
    "    \n",
    "    if i == 3:\n",
    "        print(\"Skipping to start of next iteration\")\n",
    "        continue\n",
    "        \n",
    "    print('after continue', i)\n",
    "\n",
    "# Komanda \"continue\" ir mazāk izplatīta kā \"break\", jo to var aizvietot\n",
    "# ar \"if\" komandu"
   ]
  },
  {
   "cell_type": "markdown",
   "metadata": {},
   "source": [
    "### 2.1.2 - Kļūdu apstrāde while ciklā\n",
    "\n",
    "While cikli var tikt izmantoti kļūdu situāciju apstrādei.\n",
    "\n",
    "Piemēram, mēs vēlamies, lai lietotājs ievada skaitli un gribam nodrošināt to, ka ievadītā vērtība tiešām ir vesels skaitlis."
   ]
  },
  {
   "cell_type": "code",
   "execution_count": null,
   "metadata": {},
   "outputs": [],
   "source": [
    "# \"while\" cikls var noderēt gadījumā, ja lietotājam ir jāturpina jautāt ievadīt veselu skaili \n",
    "# līdz tas tiešām to izdara. Kļūdu situācijas var apstrādāt ar komandu \"try except\" palīdzību.\n",
    "\n",
    "while True:\n",
    "    try:\n",
    "        number = int(input(\"Enter an integer: \"))\n",
    "        \n",
    "        # šī un turpmākās koda bloka rindiņas tiks izpildītas tikai tad\n",
    "        # ja lietotāja ievadītais teksts tika veiksmīgi pārvērsts \n",
    "        # par veselu skaitli\n",
    "\n",
    "        # beidzam cikla izpildi\n",
    "        break\n",
    "        \n",
    "    except ValueError:\n",
    "        print(\"You didn't enter a integer number, please try again\")\n",
    "\n",
    "print(\"You entered the number\", number)"
   ]
  },
  {
   "cell_type": "markdown",
   "metadata": {},
   "source": [
    "---\n",
    "#### Papildus tēma: \"else\" komanda\n",
    "\n",
    "Cikla beigās tam var pievienot `else` komandu bloku. Šī komanda `while` un `for` ciklos tiek lietota salīdzinoši reti, bet reizēm tā var noderēt. `else` komandas bloks tiek izpildīts tad, ja cikla izpilde ir bijusi veiksmīga (t.i. tas nav ticis pārtraukts ar komandas `break` palīdzību)."
   ]
  },
  {
   "cell_type": "code",
   "execution_count": null,
   "metadata": {},
   "outputs": [],
   "source": [
    "# piemērs: noskaidrot vai skaitlis ir pirmskaitlis\n",
    "\n",
    "# pirmskaitļi dalās tikai ar 1 un paši ar sevi\n",
    "# 1 netiek uzskatīts par pirmskaitli\n",
    "\n",
    "my_number = 17\n",
    "\n",
    "# šim nolūkam mēs izmantosim while ciklu\n",
    "\n",
    "# sākam ar dalītāju 2\n",
    "divisor = 2\n",
    "\n",
    "# patiesībā te pietiktu pārbaudīt tikai dalītājus līdz kvadrātsaknei no \"my_number\". Kādēļ?\n",
    "while divisor < my_number:\n",
    "\n",
    "    if my_number % divisor == 0:\n",
    "        print(f\"{my_number} is not prime\")\n",
    "        print(f\"{my_number} is divisible by {divisor}\")\n",
    "        break\n",
    "        \n",
    "    divisor += 1 # šo programmu varētu realizēt arī efektīvāk, bet iesākumam tas derēs\n",
    "    \n",
    "else: # šī \"else\" komanda ir daļa no \"while\" cikla, nevis daļa no \"if\" komandas!\n",
    "    print(f\"{my_number} is prime\") # tiek izpildīts tikai tad, ja cikls netika pārtraukts ar \"break\" komandu\n"
   ]
  },
  {
   "cell_type": "markdown",
   "metadata": {},
   "source": [
    "---\n",
    "### 2.2 - For cikls\n",
    "\n",
    "Python valodā `for` cikli tiek lietoti lai ietu cauri (iterētu) norādītās kolekcijas objektu sarakstam. Tos var lietot arī gadījumos, kad cikls ir jāizpilda noteiktu reižu skaitu. \n",
    "\n",
    "Tas nozīmē, ka, ja nav zināms cik iterācijas ir jāizpilda, tad ir jālieto `while` cikls. Ja ir zināms iterāciju skaits vai ir nepieciešams iterēt cauri kādai objektu kolekcijai, tad ir jālieto `for` cikls. \n",
    "\n",
    "`for` cikla sintakse:\n",
    "\n",
    "```\n",
    "for <mainīgais> in <kolekcija>:\n",
    "    <komandas>\n",
    "```\n",
    "\n",
    "Katrā cikla iterācijā no *kolekcijas* tiek paņemta kārtējā vērtība un tā tiek piešķirta cikla mainīgajam. \n"
   ]
  },
  {
   "cell_type": "code",
   "execution_count": null,
   "metadata": {},
   "outputs": [],
   "source": [
    "# apskatīsim piemēru\n",
    "\n",
    "# mums ir teksta rinda un mēs vēlamies atsevišķi nodrukāt katru šīs rindas burtu\n",
    "# teksta rinda sastāv no simboliem (burtiem) - t.i. tā ir simbolu kolekcija\n",
    "\n",
    "# piezīme: Python nav atsevišķs simbolu datu tips, simboli tiek glabāti kā \n",
    "# 1 simbolu gara teksta rinda\n",
    "\n",
    "city = \"Rīga\"\n",
    "\n",
    "for letter in city:\n",
    "    print(letter, type(letter))"
   ]
  },
  {
   "cell_type": "markdown",
   "metadata": {},
   "source": [
    "---\n",
    "\n",
    "#### Range() funkcija\n",
    "\n",
    "Lai `for` izpildītu noteiktu reižu skaitu, to var lietot kopā `range()` funkciju:\n",
    "\n",
    "- range funkcija atgriež skaitļu virkni, kas:\n",
    "  - pēc noklusējuma sākas ar 0,\n",
    "  - pēc noklusējuma katrā iterācijā tiek palielināts par 1,\n",
    "  - un beidzas pirms norādītā beigu skaitļa sasniegšanas\n",
    "\n",
    "`range(start, stop, step)`\n",
    "\n",
    "- start: neobligāts. Vesels skaitlis, no kura sākt skaitīšanu. Pēc noklusējuma: 0.\n",
    "- stop: obligāts. Skaitlis, pirms kura sasniegšanas beigt skaitīšanu.\n",
    "- step: neobligāts. Solis = skaitlis, kas katrā iterācijā ir jāpieskaita. Pēc noklusējuma: 1.\n"
   ]
  },
  {
   "cell_type": "code",
   "execution_count": null,
   "metadata": {},
   "outputs": [],
   "source": [
    "# apskatīsim dažus piemērus\n",
    "\n",
    "# lai izpildītu ciklu 5 reizes, var lietot komandu range(5)\n",
    "\n",
    "for n in range(5):\n",
    "    print(\"Hello!\")"
   ]
  },
  {
   "cell_type": "code",
   "execution_count": null,
   "metadata": {},
   "outputs": [],
   "source": [
    "# range(5) atgriezīs 5 veselu skaitļu virkni: 0, 1, 2, 3, 4\n",
    "\n",
    "for n in range(5):\n",
    "    print(n, end=' ') # print() funkcijas parametrs end=' ' norāda, ka visas vērtības ir jādrukā vienā rindā"
   ]
  },
  {
   "cell_type": "code",
   "execution_count": null,
   "metadata": {},
   "outputs": [],
   "source": [
    "# range(3, 6) atgriezīs 3, 4, 5\n",
    "\n",
    "for n in range(3, 6):\n",
    "    print(n, end=' ')"
   ]
  },
  {
   "cell_type": "code",
   "execution_count": null,
   "metadata": {},
   "outputs": [],
   "source": [
    "# range(10, 18, 2) atgriezīs 10, 12, 14, 16\n",
    "\n",
    "for n in range(10, 18, 2):\n",
    "    print(n, end=' ')"
   ]
  },
  {
   "cell_type": "code",
   "execution_count": null,
   "metadata": {},
   "outputs": [],
   "source": [
    "# range() var lietot arī ar negatīviem skaitļiem\n",
    "\n",
    "for n in range(-10, -100, -30): # -10, -40, -70 bet ne -100\n",
    "    print(n, end=' ')"
   ]
  },
  {
   "cell_type": "markdown",
   "metadata": {},
   "source": [
    "---\n",
    "#### break and continue \"for\" ciklā\n",
    "\n",
    "Līdzīgi kā `while` ciklā, arī `for` ciklā var lietot komandas `break` un `continue`.\n",
    "\n",
    "- `break` pārtrauks cikla izpildi\n",
    "- `continue` pārtrauks patreizējās cikla iterācijas izpildi un pāries pie nākamās iterācijas"
   ]
  },
  {
   "cell_type": "code",
   "execution_count": null,
   "metadata": {},
   "outputs": [],
   "source": [
    "# break piemērs\n",
    "\n",
    "for i in range(10):\n",
    "    print(i)\n",
    "    if i == 5:\n",
    "        print(\"Whee, I am out of the loop\", i)\n",
    "        break"
   ]
  },
  {
   "cell_type": "code",
   "execution_count": null,
   "metadata": {},
   "outputs": [],
   "source": [
    "# continue piemērs\n",
    "\n",
    "for i in range(10):\n",
    "    \n",
    "    if i % 2 == 0:\n",
    "        print(\"> Skipping this iteration\", i)\n",
    "        continue \n",
    "        \n",
    "    # piezīme: \"continue\" vietā mēs šeit varējām lietot arī \"else\" (kā daļu no \"if\" komandas)\n",
    "    print(\"Printing this iteration\", i)\n",
    "    print()     # print() bez parametriem drukā tukšu rindu\n"
   ]
  },
  {
   "cell_type": "markdown",
   "metadata": {},
   "source": [
    "---\n",
    "#### else \"for\" ciklā\n",
    "\n",
    "Līdzīgi kā `while` ciklā, arī `for` cikla beigās var pievienot `else` koda bloku.\n",
    "\n",
    "`else` komandas bloks tiks izpildīts tikai tad, ja cikla izpilde ir bijusi veiksmīga (t.i. tas nav ticis pārtraukts ar komandas `break` palīdzību).\n",
    "\n",
    "- diskusija par `for ... else` komandu: https://stackoverflow.com/questions/9979970/why-does-python-use-else-after-for-and-while-loops\n",
    "\n",
    "`else` komandas vietā var izmantot arī mainīgo, kas norāda vai cikla izpilde ir bijusi veiksmīga, piemēram, `is_found` vai `is_done`."
   ]
  },
  {
   "cell_type": "code",
   "execution_count": null,
   "metadata": {},
   "outputs": [],
   "source": [
    "# apskatīsim vēl vienu for/else piemēru\n",
    "\n",
    "# pirmskaitļu pārbaude\n",
    "\n",
    "n = 17\n",
    "\n",
    "for i in range(2, n):      # šoreiz mēs lietosim range()\n",
    "    \n",
    "    if n % i == 0:\n",
    "        print(f'{n} is not prime')\n",
    "        print(f'{n} is divisible by {i}')\n",
    "        break\n",
    "\n",
    "else: # šī \"else\" komanda ir daļa no \"for\" cikla, nevis daļa no \"if\" komandas!\n",
    "    print(f'{n} is prime') # tiek izpildīts tikai tad, ja cikls netika pārtraukts ar \"break\" komandu"
   ]
  },
  {
   "cell_type": "markdown",
   "metadata": {},
   "source": [
    "#### 2. tēma - mini uzdevums\n",
    "\n",
    "Pamēģiniet uzlabot pirmskaitļu pārbaudes programmu:\n",
    "\n",
    "* Padariet to efektīvāku pārbaudot tikai dalītājus robežās līdz kvadrātsaknei no pārbaudāmā skaitļa.\n",
    "* Padariet to efektīvāku pārbaudot tikai nepāra skaitļus."
   ]
  },
  {
   "cell_type": "markdown",
   "metadata": {},
   "source": [
    "---\n",
    "\n",
    "## 3. tēma: - teksta rindas, to indeksēšana un griešana"
   ]
  },
  {
   "cell_type": "markdown",
   "metadata": {},
   "source": [
    "Teksta rindas ir simbolu virknes:\n",
    "- Python valodā tie ir simboli no *Unicode* simbolu kopas\n",
    "\n",
    "*Piezīme: Python valodā nav atsevišķs simbolu datu tips (tie ir teksta rindas ar garumu 1), bet vienkāršības labad mēs tos sauksim par simboliem.*"
   ]
  },
  {
   "cell_type": "code",
   "execution_count": null,
   "metadata": {},
   "outputs": [],
   "source": [
    "# len() funkcija ļauj noskaidrot cik gara ir simbolu virkne\n",
    "#  - tā kā parametru saņem simbolu virkni un atgriež tās simbolu skaitu (veselu skaitli)\n",
    "\n",
    "country = \"Latvia\"\n",
    "print(len(country))"
   ]
  },
  {
   "cell_type": "markdown",
   "metadata": {},
   "source": [
    "---\n",
    "\n",
    "### Indeksēšana\n",
    "\n",
    "Ar indeksēšanas palīdzību mēs varam piekļūt simboliem, no kā sastāv simbolu virkne. Indeksēšanas komanda ļauj norādīt simbolu pēc tā kārtas numura (indeksa) teksta virknē.\n",
    "\n",
    "Kārtas numuri (indeksi) sākas no 0."
   ]
  },
  {
   "cell_type": "code",
   "execution_count": null,
   "metadata": {},
   "outputs": [],
   "source": [
    "# kā var piekļūt atsevišķiem simboli virkņu simboliem?\n",
    "\n",
    "# pirmais simbols ir string[0]\n",
    "\n",
    "# pēdējais simbols ir string[-1] \n",
    "# Lai piekļūtu virnkes elementiem, skaitot no virknes beigām, Python lieto negatīvus indeksus\n",
    "\n",
    "# alternatīva būtu rakstīt: string[len(string) - 1] \n",
    "# bet Python ļauj to pierakstīt īsākā formā\n",
    "\n",
    "print(country[0]) # pirmais simbols\n",
    "\n",
    "print(country[-1]) # pēdējais simbols"
   ]
  },
  {
   "cell_type": "markdown",
   "metadata": {},
   "source": [
    "---\n",
    "### Simbolu virkņu griešana\n",
    "\n",
    "Var būt nepieciešams piekļūt simbolu virknes fragmentiem, kas ir garāki par 1 simbolu. Šim nolūkam var izmantot *simbolu virkņu griešanu*.\n",
    "\n",
    "Virkņu griešana var tikt lietota arī ar cita veida kolekcijām (piem., sarakstiem), bet pagaidām to pielietosim simbolu virknēm.\n",
    "\n",
    "Simbolu virkņu griešana ļauj no teksta izvilkt ārā tā fragmentu:\n",
    "- virkņu griešanā kā parametri tiek norādīti sākuma un beigu indeksi (var norādīt arī neobligātu parametru \"step\")\n",
    "- simbols ar sākuma indeksu tiek iekļauts teksta fragmentā, bet simbols ar beigu indeksu tajā netiek iekļauts"
   ]
  },
  {
   "cell_type": "code",
   "execution_count": null,
   "metadata": {},
   "outputs": [],
   "source": [
    "# piemērs: alfabēts\n",
    "alphabet = \"abcdefghijklmnopqrstuvwxyz\"\n",
    "\n",
    "# pirmie 3 simboli\n",
    "print(alphabet[:3]) # tas pats, kas alphabet[0:3]\n",
    "\n",
    "# pēdējie 3 simboli\n",
    "print(alphabet[-3:]) # šajā gadījumā tas pats, kas alphabet[23:26]"
   ]
  },
  {
   "cell_type": "code",
   "execution_count": null,
   "metadata": {},
   "outputs": [],
   "source": [
    "# griešanā var pielietot arī neobligāto parametru \"step\" (solis)\n",
    "# [start:stop:step]\n",
    "\n",
    "print(alphabet[::2]) # drukāt katru otro simbolu\n",
    "\n",
    "# drukāt katru 3. simbolu, sākot no 11. simbola līdz 20. simbolam (neieskaitot)\n",
    "print(alphabet[10:20:3]) # sākuma indekss 10 norāda uz 11. simbolu (jo skaitīšanu sāk no 0)"
   ]
  },
  {
   "cell_type": "code",
   "execution_count": null,
   "metadata": {},
   "outputs": [],
   "source": [
    "# lai ērti apgriestu virkni pretējā virzienā, var lietot soli -1\n",
    "\n",
    "reverse_alphabet = alphabet[::-1] # apgriest simbolu virkni pretējā virzienā\n",
    "print(reverse_alphabet)"
   ]
  },
  {
   "cell_type": "markdown",
   "metadata": {},
   "source": [
    "#### 3. tēma - mini uzdevums\n",
    "\n",
    "Piešķiriet mainīgajam teksta vērtību ar Jūsu iecienītā ēdiena nosaukumu:\n",
    "- izdrukājiet nosaukuma pirmos 4 simbolus\n",
    "- izdrukājiet pēdējos 4 simbolus\n",
    "- izdrukājiet nosaukumu apgriestā secībā"
   ]
  },
  {
   "cell_type": "markdown",
   "metadata": {},
   "source": [
    "## 4. tēma - saraksti\n"
   ]
  },
  {
   "cell_type": "markdown",
   "metadata": {},
   "source": [
    "Python saraksti:\n",
    "\n",
    "- saraksti ir patvaļīgi izvēlētu objektu kolekcijas\n",
    "- saraksti ir maināmi (*mutable*) - to saturs var tikt mainīts\n",
    "- saraksti ir dinamiski - to izmērs var mainīties\n",
    "- sarkasti ir sakārtoti (tajos ir noteikta elementu secība)\n",
    "- saraksti var saturēt dažāda tipa datus\n",
    "- saraksti var saturēt citus sarakstus (savstarpēji iekļauti saraksti)\n",
    "\n",
    "Python saraksti ir līdzīgi masīviem citās programmēšanas valodās.\n",
    "\n",
    "Sintakse:\n",
    "`list_name = [item1, item2, item3, ...]`"
   ]
  },
  {
   "cell_type": "code",
   "execution_count": 2,
   "metadata": {},
   "outputs": [
    {
     "name": "stdout",
     "output_type": "stream",
     "text": [
      "[1, 2, 3, 4, 5]\n"
     ]
    }
   ],
   "source": [
    "# izveidosim jaunu sarakstu\n",
    "\n",
    "my_list = [1, 2, 3, 4, 5]\n",
    "print(my_list)"
   ]
  },
  {
   "cell_type": "code",
   "execution_count": null,
   "metadata": {},
   "outputs": [],
   "source": [
    "# izveidosim sarakstu ar range() funkcijas izpildes rezultātu\n",
    "# - tas nozīmē, ka range() atgriestā objekta vērtība tiek pārveidota par sarakstu\n",
    "\n",
    "numbers = list(range(1, 6))\n",
    "print(numbers)\n",
    "\n",
    "# salīdzināsim šos sarakstus\n",
    "print(\"Do our lists have same contents?\", my_list == numbers)\n",
    "\n",
    "# salīdzināsim šo sarakstu identitāti - vai tie ir viens un tas pats objekts\n",
    "# šie saraksti ir dažādi objekti, jo tie tika izveidoti atsevišķi viens no otra\n",
    "print(\"Are our lists same objects in memory?\", my_list is numbers)\n",
    "\n",
    "# \"is\" operācija nozīmē to pašu ko: id(my_list) == id(numbers)"
   ]
  },
  {
   "cell_type": "code",
   "execution_count": null,
   "metadata": {},
   "outputs": [],
   "source": [
    "# sarakstu indeksēšana darbojas tāpat kā simbolu virkņu indeksēšana:\n",
    "# 0 ir pirmais elements\n",
    "# -1 ir pēdējais elements\n",
    "\n",
    "print(\"First element\", my_list[0])\n",
    "print(\"Last element\", my_list[-1])"
   ]
  },
  {
   "cell_type": "code",
   "execution_count": null,
   "metadata": {},
   "outputs": [],
   "source": [
    "# griešana darbojas tāpat kā simbolu virknēm:\n",
    "# [start:stop:step]\n",
    "\n",
    "# start indekss (ieskaitot)\n",
    "# stop indekss (neieskaitot)\n",
    "# step solis (neobligāts parametrs)\n",
    "\n",
    "# pirmie 3 elementi\n",
    "print(my_list[:3])  # tas pats kas my_list[0:3]\n",
    "\n",
    "# pēdējie 3 elementi\n",
    "print(my_list[-3:])  "
   ]
  },
  {
   "cell_type": "code",
   "execution_count": null,
   "metadata": {},
   "outputs": [],
   "source": [
    "# \"step\" parametrs:\n",
    "# nodrukāt katru otro saraksta elementu\n",
    "print(my_list[::2])"
   ]
  },
  {
   "cell_type": "code",
   "execution_count": null,
   "metadata": {},
   "outputs": [],
   "source": [
    "# saraksts apgriestā secībā\n",
    "reversed_list = my_list[::-1]\n",
    "print(reversed_list)"
   ]
  },
  {
   "cell_type": "code",
   "execution_count": null,
   "metadata": {},
   "outputs": [],
   "source": [
    "# var lietot arī reversed() funkciju\n",
    "print(list(reversed(my_list)))"
   ]
  },
  {
   "cell_type": "markdown",
   "metadata": {},
   "source": [
    "---\n",
    "#### Saraksti ir maināmi:\n",
    "\n",
    "Saraksti ir maināmi (*mutable*), to saturs var tikt mainīts \"in-place\" (neveidojot jaunu objektu)."
   ]
  },
  {
   "cell_type": "code",
   "execution_count": null,
   "metadata": {},
   "outputs": [],
   "source": [
    "# nomainīsim saraksta 4. elementu\n",
    "my_list[3] = 100\n",
    "print(my_list)\n",
    "\n",
    "# salīdzinājumam: simbolu virknes nav maināmas"
   ]
  },
  {
   "cell_type": "code",
   "execution_count": null,
   "metadata": {},
   "outputs": [],
   "source": [
    "# Python saraksti ir dinamiski:\n",
    "#  - tiem var pievienot un dzēst elementus\n",
    "\n",
    "# elementus sarakstam pievieno ar saraksta objekta metodi \"append\"\n",
    "#  - saraksts ir objekts\n",
    "#  - append() ir tā metode\n",
    "\n",
    "# pievienosim jaunu elementu\n",
    "my_list.append(66) # IN-PLACE darbība, kas maina esošo saraksta objektu!\n",
    "print(my_list)"
   ]
  },
  {
   "cell_type": "code",
   "execution_count": null,
   "metadata": {},
   "outputs": [],
   "source": [
    "# saraksta paplašināšana ar citu sarakstu\n",
    "\n",
    "# kā viena saraksta elementus var pievienot citam sarakstam?\n",
    "#  - to var izdarīt ar extend() metodes palīdzību\n",
    "\n",
    "# extend kā parametru saņem sarakstu un pievieno katru šī saraksta elementu sākotnējam sarakstam\n",
    "\n",
    "my_list.extend([4, 5, 6]) # IN-PLACE - maina sākotnējo sarakstu!\n",
    "print(my_list)"
   ]
  },
  {
   "cell_type": "code",
   "execution_count": null,
   "metadata": {},
   "outputs": [],
   "source": [
    "# kas notiktu, ja extend() vietā mēs lietotu metodi append()?\n",
    "\n",
    "my_list.append([200,300,400])\n",
    "print(my_list) # kas notika?\n",
    "\n",
    "# mēs ieguvām iekļautu (nested) sarakstu"
   ]
  },
  {
   "cell_type": "code",
   "execution_count": null,
   "metadata": {},
   "outputs": [],
   "source": [
    "# kā piekļūt iekšējam sarakstam? \n",
    "print(my_list[-1]) # iekšējais saraksts ir sākotnējā saraksta pēdējais elements\n",
    "\n",
    "# kā piekļūt iekšējā saraksta pirmajam elementam?\n",
    "print(my_list[-1][0]) "
   ]
  },
  {
   "cell_type": "code",
   "execution_count": null,
   "metadata": {},
   "outputs": [],
   "source": [
    "# tagad izdzēsīsim saraksta pēdējo elementu\n",
    "\n",
    "print(\"Before removing the last element of the list: \", my_list)\n",
    "popped_value = my_list.pop() # IN-PLACE - maina sākotnējo sarakstu!\n",
    "print(\"After removing the last element of the list: \", my_list)"
   ]
  },
  {
   "cell_type": "code",
   "execution_count": null,
   "metadata": {},
   "outputs": [],
   "source": [
    "# pop() metode atgriež no saraksta izdzēstā elementa vērtību\n",
    "# mēs to saglabājām mainīgajā \"popped_value\"\n",
    "\n",
    "print(f\"popped value: {popped_value}\")"
   ]
  },
  {
   "cell_type": "code",
   "execution_count": null,
   "metadata": {},
   "outputs": [],
   "source": [
    "# remove() metode izdzēš no saraksta pirmo elementu, kas ir vienāds ar norādīto vērtību\n",
    "my_list.remove(66) # IN-PLACE - maina sākotnējo sarakstu!\n",
    "print(my_list)"
   ]
  },
  {
   "cell_type": "markdown",
   "metadata": {},
   "source": [
    "---\n",
    "#### Iterēšana caur saraksta elementiem"
   ]
  },
  {
   "cell_type": "code",
   "execution_count": 5,
   "metadata": {},
   "outputs": [
    {
     "name": "stdout",
     "output_type": "stream",
     "text": [
      "Kaut\n",
      "kādi\n",
      "vārdi\n",
      "1\n",
      "2\n",
      "3\n"
     ]
    }
   ],
   "source": [
    "# lai izpildītu kādu darbību (iterētu caur) visiem saraksta elementiem, var izmantot \"for\" ciklu\n",
    "\n",
    "my_list = [\"Kaut\", \"kādi\", \"vārdi\", 1, 2, 3]\n",
    "\n",
    "for item in my_list:\n",
    "    print(item)"
   ]
  },
  {
   "cell_type": "code",
   "execution_count": 6,
   "metadata": {},
   "outputs": [
    {
     "name": "stdout",
     "output_type": "stream",
     "text": [
      "Item No. 0 -> Kaut\n",
      "Item No. 1 -> kādi\n",
      "Item No. 2 -> vārdi\n",
      "Item No. 3 -> 1\n",
      "Item No. 4 -> 2\n",
      "Item No. 5 -> 3\n"
     ]
    }
   ],
   "source": [
    "# ko darīt tad, ja ir vajadzība zināt arī katra elementa kārtas numuru sarakstā?\n",
    "\n",
    "## citās progr. valodās var būt ierasts veidot ciklu ar elementu indeksiem:\n",
    "# for i in range(len(my_list)):\n",
    "#     print(i, my_list[i])\n",
    "## bet tas neatbilst Python labajai praksei\n",
    "\n",
    "# tā vietā labāk izmantot enumerate() funkciju:\n",
    "\n",
    "for i, item in enumerate(my_list):   # i, item ir patvaļīgi mainīgo nosaukumi\n",
    "    print(f\"Item No. {i} ->\", item)"
   ]
  },
  {
   "cell_type": "markdown",
   "metadata": {},
   "source": [
    "---\n",
    "#### Saraksta objektu metodes"
   ]
  },
  {
   "cell_type": "markdown",
   "metadata": {},
   "source": [
    "Šīs ir svarīgākās no metodēm, ar kuru palīdzību var veikt darbības ar sarakstiem:\n",
    "\n",
    "- .append() pievieno jaunu elementu saraksta beigās. IN PLACE\n",
    "- .extend() paplašina esošo sarakstu, pievienojot tam visus elementus no cita saraksta. IN PLACE\n",
    "- .insert() ievieto jaunu elementu ar indeksu norādītajā vietā, IN PLACE\n",
    "- .pop() dzēš no saraksta ar indeksu norādīto elementu (pēc noklusēšanas: pēdējo saraksta elementu) un atgriež tā vērtību. IN PLACE\n",
    "- .remove() dzēš no saraksta elementu, kas atbilst norādītajai vērtībai. IN PLACE\n",
    "- .sort() sakārto saraksta elementus. IN PLACE\n",
    "- .reverse() apgriež saraksta elementus pretējā secībā. IN PLACE\n",
    "- .index() atgriež indeksu saraksta elementam, kas atbilst norādītajai vērtībai.\n",
    "- .count() saskaita cik reizes norādītā vērtība ir atrodama sarakstā.\n",
    "- .join() darbojas ar sarakstu ar simbolu virknēm un apvieno tās jaunā simbolu virknē, izmantojot norādīto teksta rindu kā atdalītāju.\n",
    "- .copy() atgriež saraksta kopiju. Šī nav IN PLACE darbība. - \"seklā\" kopija\n",
    "- .clear() dzēš visus saraksta elementus. IN PLACE\n",
    "\n",
    "Dokumentācija: https://docs.python.org/3/tutorial/datastructures.html#more-on-lists\n"
   ]
  },
  {
   "cell_type": "code",
   "execution_count": 7,
   "metadata": {},
   "outputs": [
    {
     "name": "stdout",
     "output_type": "stream",
     "text": [
      "Help on method_descriptor:\n",
      "\n",
      "pop(self, index=-1, /) unbound builtins.list method\n",
      "    Remove and return item at index (default last).\n",
      "\n",
      "    Raises IndexError if list is empty or index is out of range.\n",
      "\n"
     ]
    }
   ],
   "source": [
    "# help() funkcija ļauj pajautāt Python palīdzību / dokumentāciju\n",
    "help(list.pop)"
   ]
  },
  {
   "cell_type": "code",
   "execution_count": 9,
   "metadata": {},
   "outputs": [
    {
     "name": "stdout",
     "output_type": "stream",
     "text": [
      "Help on method_descriptor:\n",
      "\n",
      "join(self, iterable, /) unbound builtins.str method\n",
      "    Concatenate any number of strings.\n",
      "\n",
      "    The string whose method is called is inserted in between each given string.\n",
      "    The result is returned as a new string.\n",
      "\n",
      "    Example: '.'.join(['ab', 'pq', 'rs']) -> 'ab.pq.rs'\n",
      "\n"
     ]
    }
   ],
   "source": [
    "help(str.join)"
   ]
  },
  {
   "cell_type": "code",
   "execution_count": 20,
   "metadata": {},
   "outputs": [],
   "source": [
    "my_list.insert(2, \"vēl teksts\")"
   ]
  },
  {
   "cell_type": "code",
   "execution_count": 21,
   "metadata": {},
   "outputs": [
    {
     "data": {
      "text/plain": [
       "['Kaut', 'kādi', 'vēl teksts', 'vārdi', 1, 2, 3]"
      ]
     },
     "execution_count": 21,
     "metadata": {},
     "output_type": "execute_result"
    }
   ],
   "source": [
    "my_list"
   ]
  },
  {
   "cell_type": "markdown",
   "metadata": {},
   "source": [
    "---\n",
    "#### Simbolu virkņu sadalīšana un teksta sarakstu elementu apvienošana\n",
    "\n",
    "Metode `split()` ļauj teksta rindu sadalīt daļās izmantojot norādīto teksta fragmentu atdalītāju (pēc noklusējuma: tukšuma (whitespace) simbolus). Šīs metodes darba rezultāts ir simbolu virkņu saraksts.\n",
    "\n",
    "`fragments = \"some text\".split()`\n",
    "\n",
    "Metode `join()` darbojas pretējā virzienā - tā ļauj apvienot saraksta elementus (simbolu virknes) garākā simbolu virknē, izmantojot norādīto teksta vērtību kā elementu atdalītājus (skat. piemēru).\n",
    "\n",
    "`longer_string = \" \".join(fragments)`"
   ]
  },
  {
   "cell_type": "code",
   "execution_count": 10,
   "metadata": {},
   "outputs": [
    {
     "name": "stdout",
     "output_type": "stream",
     "text": [
      "['Why,', 'sometimes', \"I've\", 'believed', 'as', 'many', 'as', 'six', 'impossible', 'things', 'before', 'breakfast.']\n"
     ]
    }
   ],
   "source": [
    "my_text = \"Why, sometimes I've believed as many as six impossible things before breakfast.\"\n",
    "\n",
    "# we get a list of \"words\" (tokens)\n",
    "words = my_text.split()\n",
    "\n",
    "print(words)"
   ]
  },
  {
   "cell_type": "code",
   "execution_count": 11,
   "metadata": {},
   "outputs": [
    {
     "name": "stdout",
     "output_type": "stream",
     "text": [
      "Why,\n",
      "sometimes\n",
      "I've\n",
      "believed\n",
      "as\n",
      "many\n",
      "as\n",
      "six\n",
      "impossible\n",
      "things\n",
      "before\n",
      "breakfast.\n"
     ]
    }
   ],
   "source": [
    "for item in words:\n",
    "    print(item)"
   ]
  },
  {
   "cell_type": "code",
   "execution_count": 12,
   "metadata": {},
   "outputs": [
    {
     "name": "stdout",
     "output_type": "stream",
     "text": [
      "Why, sometimes I've believed as many as six impossible things before breakfast.\n"
     ]
    }
   ],
   "source": [
    "# atkal apvienosim sarakstā esošās teksta rindas \n",
    "my_text2 = \" \".join(words)\n",
    "print(my_text2)"
   ]
  },
  {
   "cell_type": "code",
   "execution_count": 13,
   "metadata": {},
   "outputs": [
    {
     "name": "stdout",
     "output_type": "stream",
     "text": [
      "Why, - sometimes - I've - believed - as - many - as - six - impossible - things - before - breakfast.\n"
     ]
    }
   ],
   "source": [
    "# kā atdalītājus var izmanot arī citas simbolu virknes, ne tikai \" \"\n",
    "my_text2 = \" - \".join(words)\n",
    "print(my_text2)"
   ]
  },
  {
   "cell_type": "code",
   "execution_count": 14,
   "metadata": {},
   "outputs": [
    {
     "name": "stdout",
     "output_type": "stream",
     "text": [
      "Why, 🙂 sometimes 🙂 I've 🙂 believed 🙂 as 🙂 many 🙂 as 🙂 six 🙂 impossible 🙂 things 🙂 before 🙂 breakfast.\n"
     ]
    }
   ],
   "source": [
    "# \"emotikoni\" arī ir \"godīgi\" Unicode simboli, arī tos var lietot kā teksta atdalītājus\n",
    "my_text2 = \" 🙂 \".join(words)\n",
    "print(my_text2)"
   ]
  },
  {
   "cell_type": "code",
   "execution_count": null,
   "metadata": {},
   "outputs": [],
   "source": [
    "# simbolu virknes NAV MAINĀMAS (not MUTABLE) - mēs nevaram mainīt esošas teksta virknes vērtību\n",
    "#  - tā vietā mēs varam piešķirt mainīgajam teksta virknes mainīto vērtību\n",
    "\n",
    "# teksta metode replace() ļauj simbolu virknē aizvietot kādu teksta fragmentu ar citu vērtību\n",
    "new_str = my_text.replace(\"things\", \"miracles\")\n",
    "\n",
    "print(new_str)"
   ]
  },
  {
   "cell_type": "markdown",
   "metadata": {},
   "source": [
    "---"
   ]
  },
  {
   "cell_type": "code",
   "execution_count": null,
   "metadata": {},
   "outputs": [],
   "source": [
    "# Mini uzdevums (1)\n",
    "\n",
    "# izveidot sarakstu ar pāra skaitļiem no 10 līdz 30 (ieskaitot)"
   ]
  },
  {
   "cell_type": "code",
   "execution_count": null,
   "metadata": {},
   "outputs": [],
   "source": [
    "# Mini uzdevums (2)\n",
    "\n",
    "# piešķirt kādu teikumu teksta mainīgajam\n",
    "# sadalīt teikumu vārdos\n",
    "# izdrukāt sakārtotu (*sorted*) teikuma vārdu sarakstu"
   ]
  },
  {
   "cell_type": "markdown",
   "metadata": {},
   "source": [
    "## Nodarbības kopsavilkums\n",
    "\n",
    "Nodarbībā tika apskatītas šādas tēmas:\n",
    "\n",
    "# Izpildes zarošanās \n",
    "\n",
    "* **izpildes zarošanās** - atkarībā no nosacījuma vērtības tiek izpildīti dažādi koda bloki.\n",
    "* **if komanda** - zarošanās komanda, kas ļauj izpildīt koda bloku (programmas izpildes zaru) atkarībā no nosacījuma vērtības.\n",
    "* **if-else komanda** - zarošanās komanda, kas ļauj izpildīt koda bloku vai arī norādīto alternatīvo (\"else\") koda bloku.\n",
    "* **if-elif-else komanda** - zarošanās komanda ar vairākiem nosacījumu pārbaudes blokiem (alternatīviem izpildes zariem).\n",
    "\n",
    "### Cikli\n",
    "\n",
    "* **iterēšana** - tā paša koda bloka vairākkārtēja izpilde.\n",
    "* **cikls** - Python komanda, kas ļauj veikt iterēšanu (izpildes ciklu).\n",
    "* **for cikls** - cikls, kurā iterācija tiek veikta pār norādītās kolekcijas elementiem.\n",
    "* **while cikls** - cikls, kurā iterācija tiek veikta kamēr norādītais nosacījums ir patiess.\n",
    "* **cikla kontroles komandas** - komandas, kas ļauj kontrolēt cikla izpildi.\n",
    "\n",
    "### Izņēmum-situāciju apstrāde\n",
    "\n",
    "* **izņēmum-situācija** - kļūda, kas notiek programmas izpildes laikā.\n",
    "* **izņēmum-situāciju apstrāde** - kļūdu / izņēmum-situāciju apstrāde, kas nodrošina, ka šīs kļūdas nepārtrauc sekmīgu programmas darbību.\n",
    "* **try-except komandas** - komandas, kas ļauj apstrādāt sagaidāmās izņēmum-situācijas.\n",
    "\n",
    "### Simbolu virkņu indeksēšana un griešana\n",
    "\n",
    "* **indeksēšana** - piekļūšana norādītajam simbolu virknes simbolam.\n",
    "* **slicing** -  piekļūšana norādītajam simbolu virknes fragmentam.\n",
    "* **indekss** - skaitlis, kas norāda uz simbolu virknes simbolu.\n",
    "* **\"slice\"** - simbolu virknes fragments.\n",
    "\n",
    "### Saraksti\n",
    "\n",
    "* **saraksts** - vērtību virkne.\n",
    "* **saraksta metodes** - metodes, kas ļauj veikt darbības ar virknes tipa objektiem.\n",
    "* **append metode** - metode, kas ļauj saraksta beigās pievienot norādīto objektu.\n",
    "* **pop metode** - metode, kas ļauj no saraksta dzēst norādīto objektu."
   ]
  },
  {
   "cell_type": "markdown",
   "metadata": {},
   "source": [
    "## Papildus uzdevumi\n",
    "\n",
    "### 1. uzdevums - pirmskaitļi\n",
    "\n",
    "Jaunā Jupyter notebook šūnā izveidojiet programmu, kas mainīgajā `primes` saglabā pirmos n pirmskaitļus un pēc tam nodrukā šī saraksta elementus. Vērtību `n` ievada lietotājs - pārbaudiet vai ir ievadīta korekta vērtība!\n",
    "\n",
    "### 2. uzdevums - fizzbuzz\n",
    "\n",
    "Izveidojiet jaunu notebook šūnu, kurā tiek izveidots saraksts `fizz_buzz_list` atbilstoši šādiem nosacījumiem:\n",
    "- iterējiet cauri skaitļiem sākot ar skaitli `start` un beidzot ar skaitli `end` (ieskaitot)\n",
    "- gadījumā, ja skaitlis dalās ar 3, pievienojiet sarakstam tekstu \"Fizz\"\n",
    "- ja skaitlis dalās ar 5, pievienojiet sarakstam tekstu \"Buzz\"\n",
    "- ja skaitlis dalās ar 15, tā vietā pievienojiet sarakstam tekstu \"FizzBuzz\"\n",
    "- visos citos gadījumos pievienojiet sarakstam pašu skaitli\n",
    "\n",
    "Nodrukājiet `fizz_buzz_list` sarakstu.\n"
   ]
  },
  {
   "cell_type": "markdown",
   "metadata": {},
   "source": [
    "## Papildus resursi\n",
    "\n",
    "### 1. tēma - zarošanās, if, elif, else, try, except, finally\n",
    "\n",
    "- [Official if docs](https://docs.python.org/3/reference/compound_stmts.html#if)\n",
    "- [Official try docs](https://docs.python.org/3/reference/compound_stmts.html#try)\n",
    "\n",
    "### 2. tēma - while, for cikli\n",
    "\n",
    "- [Official while docs](https://docs.python.org/3/reference/compound_stmts.html#while)\n",
    "- [Official for docs](https://docs.python.org/3/reference/compound_stmts.html#for)\n",
    "\n",
    "### 3. tēma - simbolu virknes, indeksēšana, griešana\n",
    "\n",
    "- [Official String docs](https://docs.python.org/3/library/stdtypes.html#text-sequence-type-str)\n",
    "- [Official Sequence docs](https://docs.python.org/3/library/stdtypes.html#sequence-types-list-tuple-range)\n",
    "\n",
    "### 4. tēma - saraksti\n",
    "\n",
    "* [Official List docs](https://docs.python.org/3/tutorial/datastructures.html#more-on-lists)\n"
   ]
  }
 ],
 "metadata": {
  "kernelspec": {
   "display_name": "Python 3 (ipykernel)",
   "language": "python",
   "name": "python3"
  },
  "language_info": {
   "codemirror_mode": {
    "name": "ipython",
    "version": 3
   },
   "file_extension": ".py",
   "mimetype": "text/x-python",
   "name": "python",
   "nbconvert_exporter": "python",
   "pygments_lexer": "ipython3",
   "version": "3.12.7"
  }
 },
 "nbformat": 4,
 "nbformat_minor": 4
}
