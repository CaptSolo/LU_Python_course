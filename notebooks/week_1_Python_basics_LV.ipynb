{
 "cells": [
  {
   "cell_type": "markdown",
   "metadata": {},
   "source": [
    "![LU Logo](https://www.lu.lv/fileadmin/user_upload/LU.LV/www.lu.lv/Logo/Logo_jaunie/LU_logo_LV_horiz.png)\n"
   ]
  },
  {
   "cell_type": "markdown",
   "metadata": {},
   "source": [
    "# 1. nedēļa: Ievads un Python pamati\n",
    "\n",
    "\n",
    "\n",
    "\n"
   ]
  },
  {
   "cell_type": "markdown",
   "metadata": {},
   "source": [
    "## Kopsavilkums\n",
    "\n",
    "Nodarbībā tiks apskatītas šādas tēmas:\n",
    "\n",
    "* Ievads un Python programmēšanas valodas vēsture\n",
    "* Python instalēšana un programmēšanas vides sagatavošana\n",
    "* REPL (Read-Evaluate-Print Loop) vide, palīdzība\n",
    "* Sintakse un mainīgie: Python sintakses apgūšana\n",
    "* Datu tipi: teksta rindas, skaitļi (veseli skaitļi, daļskaitļi), loģiskās vērtības\n",
    "* Pamata operatori: aritmētiskie operatori, piešķiršana, salīdzināšana, loģiskie operatori\n",
    "* Mainīgie: mainīgo izveide un pielietošana\n",
    "\n",
    "## Prasības\n",
    "\n",
    "* Zināšanas par programmēšanas pamatjēdzieniem\n",
    "\n",
    "## Nodarbības mērķi\n",
    "\n",
    "Nodarbības beigās studenti varēs:\n",
    "\n",
    "* darboties ar Python interpretatoru\n",
    "* izveidot vienkāršas Python programmas\n",
    "* definēt un lietot mainīgos\n",
    "* lietot salīdzināšanas operatorus"
   ]
  },
  {
   "cell_type": "markdown",
   "metadata": {},
   "source": [
    "---\n",
    "\n",
    "## 1. tēma: - Python: vēsture un motivācija\n",
    "\n",
    "![Python XKCD comic](https://imgs.xkcd.com/comics/python.png)\n",
    "\n",
    "Avots: https://xkcd.com/353/\n"
   ]
  },
  {
   "cell_type": "markdown",
   "metadata": {},
   "source": [
    "### 1.1 - Vēsture"
   ]
  },
  {
   "cell_type": "markdown",
   "metadata": {},
   "source": [
    "* Python programmēšanas valodu izveidoja Guido van Rossum 1980-to gadu beigās\n",
    "  * ABC programmēšanas valodas pēctecis\n",
    "\n",
    "![Guido van Rossum](https://github.com/ValRCS/python_public_resources/blob/main/img/Guido_van_Rossum_2012_w400.jpg?raw=true)\n",
    "\n",
    "* Publiski izlaists 1991. gadā\n",
    "  * kļūdu situāciju apstrāde\n",
    "  * klases un mantošana\n",
    "  * moduļu sistēma\n",
    "  * pamata datu tipi\n",
    "\n",
    "---\n",
    "\n",
    "* [Dokumentārā filma par Python](https://www.youtube.com/watch?v=GfH4QL4VqJ0) (2025)\n",
    "\n",
    "---\n",
    "\n",
    "* Python 2.0, izlaists 2000. gada oktobrī\n",
    "  * Python 2 atbalsts tika pārtraukts 2020. gada 1. janvārī\n",
    "\n",
    "* Python 3.0, izlaists 2008. gada decembrī\n",
    "\n",
    "* Jaunākā versija: Python 3.13, izlaista 2024. gada oktobrī\n",
    "* Ikgadējs publicēšanas cikls - 2025. gadā tiks publicēts Python 3.14, u.t.t.\n",
    "\n",
    "* Informācija par aktuālajām Python versijām: https://devguide.python.org/versions/\n",
    "\n",
    "* Python versiju lejupielāde: https://www.python.org/downloads/\n"
   ]
  },
  {
   "cell_type": "markdown",
   "metadata": {},
   "source": [
    "### 1.2 - Python: motivācija\n"
   ]
  },
  {
   "cell_type": "markdown",
   "metadata": {},
   "source": [
    "* Python ir populāra programmēšanas valoda\n",
    "* Viegli apgūstama\n",
    "* \"Glue\" language\n",
    "* To lieto gan lieli, gan mazi uzņēmumi un organizācijas\n",
    "* Daudz-paradigmu valoda (objekt-orientēta, funkcionāla, ...)"
   ]
  },
  {
   "cell_type": "markdown",
   "metadata": {},
   "source": [
    "**Python ir populāra programmēšanas valoda:**\n",
    "* https://www.tiobe.com/tiobe-index/\n",
    "\n",
    "![TIOBE Programming Language Index](https://github.com/ValRCS/python_public_resources/blob/main/img/tiobe-index-2023_08.png?raw=true)\n",
    "\n",
    "**\"Batteries included\" pieeja:**\n",
    "* [Python standarta bibliotēkā](https://docs.python.org/3/library/) ir atrodamas daudz bibliotēkas dažādu darbību veikšanai\n",
    "* Papildus Python bibliotēkas ir atrodamas [Python Package Index](https://pypi.org/) (Python pakotņu indeksā)\n",
    "\n",
    "![Batteries included](https://github.com/ValRCS/python_public_resources/blob/main/img/batteries.png?raw=true)"
   ]
  },
  {
   "cell_type": "markdown",
   "metadata": {},
   "source": [
    "### 1.3 - Python programmēšana vide\n"
   ]
  },
  {
   "cell_type": "markdown",
   "metadata": {},
   "source": [
    "#### Python instalēšanas iespējas\n",
    "\n",
    "a) Python tīmekļa vietne (standalone installation) https://www.python.org/downloads/\n",
    "\n",
    "b) Anaconda (instalācija, kurā ir iekļautas daudz papildus bibliotēkas un Jupyter Notebooks vide) https://www.anaconda.com/download/\n",
    "\n",
    "c) Google Colab (mākoņserviss, nekas nav jāinstalē - Google versija Jupyter Notebooks videi) https://colab.research.google.com/\n",
    "\n",
    "d) Repl.it (mākoņserviss, nekas nav jāinstalē ) https://repl.it/ vai citas līdzīgas vietnes\n",
    "\n",
    "e) Linux un macOS jau ir iekļauta Python versija, tomēr ir ieteicams uzinstalēt savu (parasti jaunāku) versiju izmantojot kādu no iepriekš apskatītajām metodēm vai pielietojot operētājsistēmas pakotņu pārvaldnieku.\n"
   ]
  },
  {
   "cell_type": "markdown",
   "metadata": {},
   "source": [
    "#### Python darbināšana\n",
    "\n",
    "Python = intepretēta valoda (interpretators komandas izpilda vienu pēc otras)\n",
    "- REPL (Read,Evaluate,Print Loop) - interpretatora dialoga cikls: nolasīt komandu, izpildīt to, izdrukāt rezultātu\n",
    "\n",
    "Python programmu izveides un izpildes iespējas:\n",
    "\n",
    "a) ievadot komandas Python interpretatorā (REPL dialogā);\n",
    "\n",
    "b) Jupyter notebook vidē (līdzīgi Python REPL videi, bet komandas tiek izpildītas tīmekļa saskarnē);\n",
    "\n",
    "c) kā atsevišķas (stand-alone) lietones (rediģējot Python programmas kodu kādā no pirmkoda redaktoriem vai izstrādes vidēm). \n"
   ]
  },
  {
   "cell_type": "markdown",
   "metadata": {},
   "source": [
    "#### Kā atvērt šo failu Google Colab vidē"
   ]
  },
  {
   "cell_type": "markdown",
   "metadata": {},
   "source": [
    "Atveriet šo failu (`week_1_Python_basics-LV.ipynb`) Github vietnē:\n",
    "- https://github.com/CaptSolo/LU_Python_course/tree/main/notebooks\n",
    "\n",
    "Lejuplādējiet šo Jupyter Notebook failu: nospiediet pogu \"Download raw file\".\n",
    "\n",
    "Atveriet [Google Colab](https://colab.research.google.com/), izvēlieties \"Upload\" sadaļu un augšuplādējiet šo Jupyter notebook failu.\n",
    "\n",
    "- Augšuplādētie faili (Jupyter notebooks) ir atrodami [Google Drive](https://drive.google.com/) direktorijā `Colab Notebooks`"
   ]
  },
  {
   "cell_type": "markdown",
   "metadata": {},
   "source": [
    "#### Jupyter Notebooks lietošana\n",
    "\n",
    "Jupyter Notebook vidē Jūs darbojaties ar satura šūnām (cells), kurās atrodas Python programmas koda fragmenti vai Markdown sintaksē noformēts teksts.\n",
    "\n",
    "Šīs taustiņu kombinācijas darbosies gan lokāli instalētā Jupyter Notebook, gan Google Colab vidē:\n",
    "\n",
    "- Ctrl-Enter izpilda šobrīd aktīvās šūnas kodu\n",
    "- Alt-Enter izpilda aktīvās šūnas kodu un zem aktīvās šūnas izveido jaunu koda šūnu\n",
    "- Esc-A izveido jaunu koda šūnu virs šobrīd aktīvās šūnas\n",
    "- Esc-B izveido jaunu koda šūnu zem aktīvās šūnas\n",
    "\n",
    "Šīs kombinācijas nedarbosies Google Colab vidē:\n",
    "\n",
    "- Esc-M nomaina šūnas tipu uz Markdown teksta šūnu (https://guides.github.com/pdfs/markdown-cheatsheet-online.pdf)\n",
    "- Esc-Y nomaina šūnas tipu uz Python koda šūnu\n",
    "- Esc-dd izdzēš aktīvo šūnu\n"
   ]
  },
  {
   "cell_type": "code",
   "execution_count": null,
   "metadata": {},
   "outputs": [],
   "source": [
    "# This is a Python comment\n",
    "# Šis ir Python komentārs (komentāri sākas ar # simbolu)\n",
    "\n",
    "# Izveidojiet jaunu Python koda šūnu un izpildiet tajā kādu Python komandu"
   ]
  },
  {
   "cell_type": "code",
   "execution_count": null,
   "metadata": {},
   "outputs": [],
   "source": []
  },
  {
   "cell_type": "markdown",
   "metadata": {},
   "source": [
    "## 2. tēma: - sintakse, datu tipi, vērtības\n",
    "\n",
    "### 2.1 - Python sintakse"
   ]
  },
  {
   "cell_type": "markdown",
   "metadata": {},
   "source": [
    "#### Vienkārša Python programma:"
   ]
  },
  {
   "cell_type": "code",
   "execution_count": null,
   "metadata": {},
   "outputs": [],
   "source": [
    "print(\"Hello, world!\")   # Šis ir komentārs"
   ]
  },
  {
   "cell_type": "code",
   "execution_count": null,
   "metadata": {},
   "outputs": [],
   "source": [
    "# Katra komanda sākas jaunā rindā \n",
    "# Teksta rindas pieraksta izmantojot ' vai \" simbolus\n",
    "# Komentāri sākas ar # simbolu un turpinās līdz rindas beigām\n",
    "\n",
    "print(\"Hello, world!\")\n",
    "print(\"Some more text\")"
   ]
  },
  {
   "cell_type": "markdown",
   "metadata": {},
   "source": [
    "#### Print ir funkcija. Mēs varam Python pajautāt parādīt palīdzības tekstu par to:"
   ]
  },
  {
   "cell_type": "code",
   "execution_count": null,
   "metadata": {},
   "outputs": [],
   "source": [
    "help(print)"
   ]
  },
  {
   "cell_type": "code",
   "execution_count": null,
   "metadata": {},
   "outputs": [],
   "source": [
    "# Print izsaukumam var būt vairāki parametri:\n",
    "\n",
    "print(\"Some text followed by a number:\", 100)"
   ]
  },
  {
   "cell_type": "code",
   "execution_count": null,
   "metadata": {},
   "outputs": [],
   "source": [
    "# Izdrukājiet kaut ko arī Jūs:\n",
    "\n"
   ]
  },
  {
   "cell_type": "markdown",
   "metadata": {},
   "source": [
    "### 2.2 - Vērtības un datu tipi\n",
    "\n",
    "Python programmēšanas valodā viss, ar ko mēs darbojamies, ir objekti\n",
    "* Katram objektam ir savs tips (ar tā atribūtiem un metodēm) un vērtība\n",
    "* Daļa objektu tipu ir maināmi (mutable), savukārt citu objektu vērtības nevar mainīt \n",
    "\n",
    "Vienkāršākie Python datu tipi:\n",
    "\n",
    "* Teksta rindas = str\n",
    "* Skaitļi\n",
    "  * veseli skaitļi (nav ierobežots garums) = int \n",
    "  * daļskaitļi (double tipa skaitļi ar peldošo komatu) = float\n",
    "* Loģiskās vērtības = bool"
   ]
  },
  {
   "cell_type": "markdown",
   "metadata": {},
   "source": [
    "#### Teksta rindas\n",
    "\n",
    "Teksta rindas ir Unicode simbolu virknes.\n",
    "\n",
    "Teksta rindas pieraksta ar ' vai \" pēdiņām."
   ]
  },
  {
   "cell_type": "code",
   "execution_count": null,
   "metadata": {},
   "outputs": [],
   "source": [
    "'This is my text'"
   ]
  },
  {
   "cell_type": "code",
   "execution_count": null,
   "metadata": {},
   "outputs": [],
   "source": [
    "\"Double quotes work too\""
   ]
  },
  {
   "cell_type": "code",
   "execution_count": null,
   "metadata": {},
   "outputs": [],
   "source": [
    "# Teksta rindās var būt arī pēdiņu ' vai \" simboli:\n",
    "\n",
    "print('This text contains \"quotes\".')\n",
    "print(\"Another way how to include \\\"quotes\\\".\")"
   ]
  },
  {
   "cell_type": "code",
   "execution_count": null,
   "metadata": {},
   "outputs": [],
   "source": [
    "# Ar type funkcijas palīdzību mēs varam uzzināt kāds ir objekta tips\n",
    "type('This is my text')"
   ]
  },
  {
   "cell_type": "code",
   "execution_count": null,
   "metadata": {},
   "outputs": [],
   "source": [
    "# Python ir iespēja pierakstīt arī vairāk-rindu teksta vērtības (ar \"\"\" vai '''):\n",
    "\"\"\"This text\n",
    "spans multiple\n",
    "lines.\n",
    "\"\"\"\n",
    "\n",
    "# Piezīme: jaunas rindas simboli tiek attēloti kā \\n"
   ]
  },
  {
   "cell_type": "code",
   "execution_count": null,
   "metadata": {},
   "outputs": [],
   "source": [
    "# Print funkcija jaunas rindas simbolus attēlo katru jaunā rindā\n",
    "print(\"\"\"This text\n",
    "spans multiple\n",
    "lines.\n",
    "\"\"\")"
   ]
  },
  {
   "cell_type": "code",
   "execution_count": null,
   "metadata": {},
   "outputs": [],
   "source": [
    "# Teksta rindas var apvienot izmantojot + (plus) operatoru:\n",
    "\n",
    "\"First string\" + \" and the second string\""
   ]
  },
  {
   "cell_type": "markdown",
   "metadata": {},
   "source": [
    "#### Skaitļi un aritmētiskie operatori\n",
    "\n",
    "Skaitļu tips var būt:\n",
    "* Integer = veseli skaitļi (ar neierobežotu garumu)\n",
    "* Float = dubultas precizitātes skaitļi ar peldošo komatu"
   ]
  },
  {
   "cell_type": "code",
   "execution_count": null,
   "metadata": {},
   "outputs": [],
   "source": [
    "# Vesels skaitlis:\n",
    "\n",
    "200000"
   ]
  },
  {
   "cell_type": "code",
   "execution_count": null,
   "metadata": {},
   "outputs": [],
   "source": [
    "type(200000)"
   ]
  },
  {
   "cell_type": "code",
   "execution_count": null,
   "metadata": {},
   "outputs": [],
   "source": [
    "# Garāks vesels skaitlis:\n",
    "\n",
    "123456789012345678901234567890"
   ]
  },
  {
   "cell_type": "code",
   "execution_count": null,
   "metadata": {},
   "outputs": [],
   "source": [
    "# Daļskaitlis:\n",
    "\n",
    "3.14"
   ]
  },
  {
   "cell_type": "code",
   "execution_count": null,
   "metadata": {},
   "outputs": [],
   "source": [
    "type(3.14)"
   ]
  },
  {
   "cell_type": "markdown",
   "metadata": {},
   "source": [
    "---\n",
    "\n",
    "**Skaitliskās operācijas:**\n",
    "* https://docs.python.org/3/library/stdtypes.html#numeric-types-int-float-complex"
   ]
  },
  {
   "cell_type": "code",
   "execution_count": null,
   "metadata": {},
   "outputs": [],
   "source": [
    "# Aritmētiskie operatori\n",
    "\n",
    "print(2 + 3)\n",
    "print(2 - 3)\n",
    "print(2 * 3)\n",
    "print(2 / 3)"
   ]
  },
  {
   "cell_type": "code",
   "execution_count": null,
   "metadata": {},
   "outputs": [],
   "source": [
    "# Veselu skaitļu dalīšana\n",
    "print(5 // 3)\n",
    "\n",
    "# Atlikums (modulis) dalot 5 ar 3:\n",
    "print(5 % 3)"
   ]
  },
  {
   "cell_type": "code",
   "execution_count": null,
   "metadata": {},
   "outputs": [],
   "source": [
    "# Mēs varam lietot Python kā kalkulatoru:\n",
    "\n",
    "2 + 3 * (51 + 7)"
   ]
  },
  {
   "cell_type": "code",
   "execution_count": null,
   "metadata": {},
   "outputs": [],
   "source": [
    "2 ** 10    # skaitlis 2 desmitajā pakāpē"
   ]
  },
  {
   "cell_type": "code",
   "execution_count": null,
   "metadata": {},
   "outputs": [],
   "source": [
    "# Googol = 10 simtajā pakāpē\n",
    "\n",
    "10 ** 100"
   ]
  },
  {
   "cell_type": "code",
   "execution_count": null,
   "metadata": {},
   "outputs": [],
   "source": [
    "# Ar funkcijas int() palīdzību tās argumentu var pārvērst par veselu skaitli\n",
    "\n",
    "print(int(\"1000\"))\n",
    "print(int(3.14))"
   ]
  },
  {
   "cell_type": "code",
   "execution_count": null,
   "metadata": {},
   "outputs": [],
   "source": [
    "# Funkcija float() pārvērš doto vērtību par daļskaitli\n",
    "\n",
    "print(float(\"1000\"))"
   ]
  },
  {
   "cell_type": "code",
   "execution_count": null,
   "metadata": {},
   "outputs": [],
   "source": [
    "# str() pārvērš doto vērtību par teksta rindu\n",
    "\n",
    "str(1000000)"
   ]
  },
  {
   "cell_type": "markdown",
   "metadata": {},
   "source": [
    "### Iebūvēts komplekso skaitļu atbalsts\n",
    "\n",
    "* https://docs.python.org/3/library/stdtypes.html#numeric-types-int-float-complex\n",
    "\n",
    "Python ir iekļauts komplekso skaitļu atbalsts, to imagināro daļu pierakstot ar sufiksu `j`."
   ]
  },
  {
   "cell_type": "code",
   "execution_count": null,
   "metadata": {},
   "outputs": [],
   "source": [
    "# Kompleksa skaitļa piemērs\n",
    "complex_number = 3 + 4j # sufikss j norāda uz kompleksā skaitļa imagināro daļu (matemātikā uz to norāda ar i)\n",
    "print(complex_number)\n",
    "\n",
    "# Kompleksa skaitļa kāpināšana kvadrātā\n",
    "print(complex_number ** 2)"
   ]
  },
  {
   "cell_type": "markdown",
   "metadata": {},
   "source": [
    "#### Loģiskās vērtības\n",
    "\n",
    "Loģiskās (boolean) vērtības var būt tikai patiesas (True) vai aplamas (False).\n"
   ]
  },
  {
   "cell_type": "code",
   "execution_count": null,
   "metadata": {},
   "outputs": [],
   "source": [
    "True"
   ]
  },
  {
   "cell_type": "code",
   "execution_count": null,
   "metadata": {},
   "outputs": [],
   "source": [
    "False"
   ]
  },
  {
   "cell_type": "code",
   "execution_count": null,
   "metadata": {},
   "outputs": [],
   "source": [
    "type(True)"
   ]
  },
  {
   "cell_type": "markdown",
   "metadata": {},
   "source": [
    "**Loģisko vērtību pārbaude**\n",
    "\n",
    "Jebkurai vērtībai (jebkuram objektam) var veikt tās patiesuma pārbaudi = noteikt vai tā atbilst patiesuma vērtībai True vai False:\n",
    "* https://docs.python.org/3/library/stdtypes.html#truth-value-testing\n",
    "\n",
    "Lielākajai daļai vērtību to patiesuma vērtība ir True, izņemot:\n",
    "  * konstantes, kuru vērtība ir False: False, None\n",
    "  * nulli: 0, 0.0\n",
    "  * tukšas teksta rindas vai citas tukšas virknes vai kolekcijas: \"\", [], ..."
   ]
  },
  {
   "cell_type": "code",
   "execution_count": null,
   "metadata": {},
   "outputs": [],
   "source": [
    "bool(0.0)"
   ]
  },
  {
   "cell_type": "code",
   "execution_count": null,
   "metadata": {},
   "outputs": [],
   "source": [
    "bool(\"\")"
   ]
  },
  {
   "cell_type": "code",
   "execution_count": null,
   "metadata": {},
   "outputs": [],
   "source": [
    "bool(100)"
   ]
  },
  {
   "cell_type": "markdown",
   "metadata": {},
   "source": [
    "**Loģiskās operācijas**\n",
    "\n",
    "Python ir pieejamas loģiskās (boolean) operācijas \"and\", \"or\" un \"not\":\n",
    "* https://docs.python.org/3/library/stdtypes.html#boolean-operations-and-or-not"
   ]
  },
  {
   "cell_type": "code",
   "execution_count": null,
   "metadata": {},
   "outputs": [],
   "source": [
    "True and False"
   ]
  },
  {
   "cell_type": "code",
   "execution_count": null,
   "metadata": {},
   "outputs": [],
   "source": [
    "True or False"
   ]
  },
  {
   "cell_type": "code",
   "execution_count": null,
   "metadata": {},
   "outputs": [],
   "source": [
    "not True"
   ]
  },
  {
   "cell_type": "markdown",
   "metadata": {},
   "source": [
    "#### 2. tēma - mini uzdevums\n",
    "\n",
    "* pielietojiet Python kā kalkulatoru"
   ]
  },
  {
   "cell_type": "code",
   "execution_count": null,
   "metadata": {},
   "outputs": [],
   "source": []
  },
  {
   "cell_type": "markdown",
   "metadata": {},
   "source": [
    "## 3. tēma: - Mainīgie un operatori\n",
    "\n",
    "**Operatori** ir īpaši simboli, kas norāda Python interpretatoram, ka ir jāveic kādi aprēķini vai darbības. Operatori apvieno Python objektus **izteiksmēs**.\n",
    "\n",
    "Mēs jau iepriekš apskatījām aritmētiskos un loģiskos operatorus. Tālāk šajā tēmā tiks apskatīts piešķiršanas operators (=) un salīdzināšanas operatori."
   ]
  },
  {
   "cell_type": "markdown",
   "metadata": {},
   "source": [
    "### 3.1 - Mainīgie\n",
    "\n",
    "**Mainīgie** ļauj objektam vai vērtībai piešķirt vārdu.\n",
    "\n",
    "* Mainīgie ir kā vārds, kas ir piešķirts objektam (vai kā vārds \"kastei\", kurā ir ievietots objekts)\n",
    "\n",
    "Mainīgo vērtības tiek piešķirtas izmantojot piešķiršanas operatoru: `=`\n",
    "\n",
    "Python valodā nav iepriekš jādeklarē mainīgo tipi - var vienkārši piešķirt tiem vērtību un sākt tos pielietot tālāk programmas kodā. "
   ]
  },
  {
   "cell_type": "code",
   "execution_count": null,
   "metadata": {},
   "outputs": [],
   "source": [
    "# mainīgā definēšana\n",
    "my_variable = 3.14"
   ]
  },
  {
   "cell_type": "code",
   "execution_count": null,
   "metadata": {},
   "outputs": [],
   "source": [
    "# mainīgā pielietošana\n",
    "print(my_variable)"
   ]
  },
  {
   "cell_type": "code",
   "execution_count": null,
   "metadata": {},
   "outputs": [],
   "source": [
    "# mainīgā vērtību var vēlāk nomainīt uz kādu citu vērtību\n",
    "# (tad mainīgais norādīs uz jauno vērtību)\n",
    "\n",
    "my_variable = 1000\n",
    "print(my_variable)"
   ]
  },
  {
   "cell_type": "markdown",
   "metadata": {},
   "source": [
    "Katram objektam (mainīgā vērtībai) ir savs tips, bet pašiem mainīgajiem nav savs tips - to vērtība un tai atbilstošais datu tips var tikt mainīts:"
   ]
  },
  {
   "cell_type": "code",
   "execution_count": null,
   "metadata": {},
   "outputs": [],
   "source": [
    "my_variable = \"I am a text string now!\"\n",
    "print(my_variable)"
   ]
  },
  {
   "cell_type": "code",
   "execution_count": null,
   "metadata": {},
   "outputs": [],
   "source": [
    "# Vairāki mainīgie var norādīt uz to pašu objektu:\n",
    "new_name = my_variable"
   ]
  },
  {
   "cell_type": "markdown",
   "metadata": {},
   "source": [
    "Mainīgos var izmantot izteiksmēs, nodot kā funkciju parametrus, ...:"
   ]
  },
  {
   "cell_type": "code",
   "execution_count": null,
   "metadata": {},
   "outputs": [],
   "source": [
    "pi = 3.14159\n",
    "radius = 5\n",
    "\n",
    "# riņķa līnijas laukums\n",
    "area = pi * (radius ** 2)\n",
    "\n",
    "print(\"Radius:\", radius)\n",
    "print(\"Area:\", area)"
   ]
  },
  {
   "cell_type": "markdown",
   "metadata": {},
   "source": [
    "### Mainīgo nosaukumu veidošanas principi\n",
    "\n",
    "Mainīgo nosaukumu veidošanas labā prakse: https://www.python.org/dev/peps/pep-0008/#naming-conventions\n",
    "\n",
    "Labās prakses pamati:\n",
    "* Mainīgo nosaukumiem ir jābūt aprakstošiem un nav jābūt pārāk gariem\n",
    "* Nosaukumus, kas satur vairākus vārdus, pieraksta ar mazajiem burtiem, atdalot vārdus ar pasvītrojuma simbolu (_).\n",
    "* Izvairieties no pārāk vispārīgiem nosaukumiem (piem., \"data\" vai \"value\")\n",
    "* Izvairieties no pārāk īsiem nosaukumiem (piem, \"a\" vai \"x\")"
   ]
  },
  {
   "cell_type": "code",
   "execution_count": null,
   "metadata": {},
   "outputs": [],
   "source": [
    "# labu nosaukumu paraugi:\n",
    "radius = 7\n",
    "area_of_circle = pi * (radius ** 2)\n",
    "\n",
    "# sliktāki nosaukumu paraugi:\n",
    "r = 7\n",
    "a_o_c = pi * (r ** 2)\n",
    "\n",
    "# slikti nosaukumi:\n",
    "x = 7\n",
    "y = pi * (x ** 2)\n",
    "# ... jo x un y labi neapraksta šo mainīgo būtību\n"
   ]
  },
  {
   "cell_type": "markdown",
   "metadata": {},
   "source": [
    "### Konstantes\n",
    "\n",
    "* Python valodā nav īpaša sintakse konstanšu definēšanai.\n",
    "* Konstantes vienkārši ir mainīgie, kuru vērtības nav paredzēts mainīt.\n",
    "* Konstantēm nosaukumus parasti pieraksta ar visiem lielajiem burtiem."
   ]
  },
  {
   "cell_type": "code",
   "execution_count": null,
   "metadata": {},
   "outputs": [],
   "source": [
    "#\n",
    "PI = 3.1415926\n",
    "GOLDEN_MEAN = 1.6180339887\n",
    "\n",
    "# teorētiski šo konstanšu vērtības var arī mainīt\n",
    "# bet to nevajag darīt!"
   ]
  },
  {
   "cell_type": "markdown",
   "metadata": {},
   "source": [
    "### 3.2 - Salīdzināšanas operatori\n"
   ]
  },
  {
   "cell_type": "markdown",
   "metadata": {},
   "source": [
    "**Salīdzināšanas operatori** ļauj mums salīdzināt 2 vērtības un atgriež šīs salīdzināšas rezultātu (True vai False). Python valodā ir vērtību salīdzināšanas operatori un identitātes salīdzināšanas operatori.\n",
    "\n",
    "Šos operatorus vai pielietot dažādiem objektu tipiem (kaut arī daļai no objektu tipiem var nebūt realizēti visi salīdzināšanas operatori).\n",
    "\n",
    "Vērtību salīdzināšanas operatori:\n",
    "* `==` abas vērtības ir vienādas\n",
    "* `!=` vērtības nav vienādas \n",
    "* `<` mazāks nekā\n",
    "* `<=` mazāks vai vienāds\n",
    "* `>` lielāks nekā\n",
    "* `>=` lielāks vai vienāds"
   ]
  },
  {
   "cell_type": "code",
   "execution_count": null,
   "metadata": {},
   "outputs": [],
   "source": [
    "5 == 5"
   ]
  },
  {
   "cell_type": "code",
   "execution_count": null,
   "metadata": {},
   "outputs": [],
   "source": [
    "print(5 != 5)\n",
    "print(5 < 6)\n",
    "print(5 >= 6)"
   ]
  },
  {
   "cell_type": "code",
   "execution_count": null,
   "metadata": {},
   "outputs": [],
   "source": [
    "# var salīdzināt arī dažāda tipa vērtības\n",
    "\n",
    "print(0 == 0.0)\n",
    "print(5 > 4.5)"
   ]
  },
  {
   "cell_type": "code",
   "execution_count": null,
   "metadata": {},
   "outputs": [],
   "source": [
    "# var salīdzināt teksta rindas:\n",
    "\n",
    "print(\"this\" != \"that\")\n",
    "print(\"this\" == \"this\")"
   ]
  },
  {
   "cell_type": "code",
   "execution_count": null,
   "metadata": {},
   "outputs": [],
   "source": [
    "# viena teksta rinda var būt \"lielāka\" vai \"mazāka\" par citu teksta rindu\n",
    "\n",
    "# teksta rindas tiek salīdzinātas simbolu pa simbolam līdz šie simboli atškiras\n",
    "# pēc tam tiek salīdzināti atšķirīgo simbolu kodi\n",
    "\n",
    "\"this\" < \"that\""
   ]
  },
  {
   "cell_type": "code",
   "execution_count": null,
   "metadata": {},
   "outputs": [],
   "source": [
    "ord(\"i\")"
   ]
  },
  {
   "cell_type": "code",
   "execution_count": null,
   "metadata": {},
   "outputs": [],
   "source": [
    "ord(\"a\")"
   ]
  },
  {
   "cell_type": "code",
   "execution_count": null,
   "metadata": {},
   "outputs": [],
   "source": [
    "# salīdzināšanas operatorus pielieto komandu izpildes kontroles instrukcijās (piem., komandā \"if\")\n",
    "\n",
    "if area > 50:\n",
    "    # komandu bloki Python valodā tiek norādīti ar atstarpi no kreisās malas\n",
    "    # piem., šīs divas print() komandas tiks izpildītas, ja \"if\" nosacījums ir patiess\n",
    "    print(\"Area of this circle is larger than 50\")\n",
    "    print(\"More text here\")\n",
    "\n",
    "# komandu izpildes kontrole tiks apskatīta citā nodarbībā"
   ]
  },
  {
   "cell_type": "code",
   "execution_count": null,
   "metadata": {},
   "outputs": [],
   "source": []
  },
  {
   "cell_type": "markdown",
   "metadata": {},
   "source": [
    "---\n",
    "\n",
    "Identitātes salīdzināšanas operatori pārbauda vai divas vērtības norāda uz vienu un to pašu objektu:\n",
    "* `is` pārbauda objektu identitāti (vai abas vērtības norāda uz to pašu objektu)\n",
    "* `is not` pārbauda vai katra vērtība norāda uz citu objektu\n"
   ]
  },
  {
   "cell_type": "code",
   "execution_count": null,
   "metadata": {},
   "outputs": [],
   "source": [
    "a = 124\n",
    "b = 124.0\n",
    "\n",
    "# vienādas vērtības (pēc salīdzināšanas operatora interpretācijas) bet dažādi objekti:\n",
    "print(a == b)\n",
    "print(a is b)"
   ]
  },
  {
   "cell_type": "markdown",
   "metadata": {},
   "source": [
    "#### 3. tēma - mini-uzdevums\n",
    "\n",
    "- saglabājiet teksta rindu vienā mainīgajā\n",
    "- otrā mainīgajā saglabājiet loģisku vērtību True vai False\n",
    "- izdrukājiet rezultātu izteiksmei, kura apvieno loģiskās vērtības mainīgā un teksta rindas mainīgā vērtības, izmantojot loģisko operatoru \"or\" vai \"and\""
   ]
  },
  {
   "cell_type": "code",
   "execution_count": null,
   "metadata": {},
   "outputs": [],
   "source": []
  },
  {
   "cell_type": "markdown",
   "metadata": {},
   "source": [
    "## Nodarbības kopsavilkums\n",
    "\n",
    "Šajā nodarībā tika apskatīts:\n",
    "\n",
    "* kā darboties ar **Python interpretatoru**\n",
    "* kā izveidot vienkāršas **Python programmas**\n",
    "* **vērtības un vienkārši datu tipi**\n",
    "* **aritmētiskie operatori**\n",
    "* Python **mainīgie** un **konstantes**\n",
    "* **salīdzināšanas operatori**"
   ]
  },
  {
   "cell_type": "markdown",
   "metadata": {},
   "source": [
    "## Papildus uzdevumi\n",
    "\n"
   ]
  },
  {
   "cell_type": "markdown",
   "metadata": {},
   "source": [
    "### 1. uzdevums:\n",
    "\n",
    "- saglabājiet veselu skaitli vienā mainīgajā (piem., `value`)\n",
    "- ļaujiet lietotājam ievadīt veselu skaitli (izmantojot funkciju `input()`) un saglabājiet to citā mainīgajā\n",
    "- salīdziniet ievadīto vērtību ar izvēlēto skaitli\n",
    "  - izdrukājiet ziņu par to vai ievadītā vērtība ir lielāka, mazāka vai vienāda ar izvēlēt `value` mainīgā vērtību"
   ]
  },
  {
   "cell_type": "code",
   "execution_count": null,
   "metadata": {},
   "outputs": [],
   "source": [
    " \n",
    "\n"
   ]
  },
  {
   "cell_type": "markdown",
   "metadata": {},
   "source": [
    "### 2. uzdevums:\n",
    "\n",
    "Apskatiet šo Python programmu un norādiet uz tajā atrodamajiem diviem koda blokiem:"
   ]
  },
  {
   "cell_type": "code",
   "execution_count": null,
   "metadata": {},
   "outputs": [],
   "source": [
    "my_text = \"This is an example text value\"\n",
    "\n",
    "if len(my_text) > 10:\n",
    "    print(\"The length of this text value is larger than 10\")\n",
    "\n",
    "    if len(my_text) > 30:\n",
    "        print(\"This is a rather long text:\")\n",
    "        print(my_text)"
   ]
  },
  {
   "cell_type": "code",
   "execution_count": null,
   "metadata": {},
   "outputs": [],
   "source": [
    "print(len(my_text))"
   ]
  },
  {
   "cell_type": "markdown",
   "metadata": {},
   "source": [
    "## Papildus resursi\n",
    "\n",
    "### Automate the Boring Stuff\n",
    "\n",
    "- [Automate the Boring Stuff with Python](https://automatetheboringstuff.com/)\n",
    "\n",
    "### Python for Everybody\n",
    "\n",
    "- [Dr. Charles Severence](https://www.py4e.com/book) \n",
    "\n",
    "### Microsoft for Python\n",
    "\n",
    "- [Microsoft Course](https://learn.microsoft.com/en-us/training/modules/intro-to-python/)\n",
    "\n",
    "### Google Course for Python\n",
    "\n",
    "- [Google Dev Course](https://developers.google.com/edu/python)\n"
   ]
  }
 ],
 "metadata": {
  "kernelspec": {
   "display_name": "Python 3 (ipykernel)",
   "language": "python",
   "name": "python3"
  },
  "language_info": {
   "codemirror_mode": {
    "name": "ipython",
    "version": 3
   },
   "file_extension": ".py",
   "mimetype": "text/x-python",
   "name": "python",
   "nbconvert_exporter": "python",
   "pygments_lexer": "ipython3",
   "version": "3.12.7"
  }
 },
 "nbformat": 4,
 "nbformat_minor": 4
}
