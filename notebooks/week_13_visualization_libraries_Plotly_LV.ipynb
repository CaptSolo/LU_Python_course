{
 "cells": [
  {
   "cell_type": "markdown",
   "metadata": {},
   "source": [
    "![LU Logo](https://www.lu.lv/fileadmin/user_upload/LU.LV/www.lu.lv/Logo/Logo_jaunie/LU_logo_LV_horiz.png)\n"
   ]
  },
  {
   "cell_type": "markdown",
   "metadata": {},
   "source": [
    "# Python datu vizualizācijas bibliotēkas - Plotly"
   ]
  },
  {
   "cell_type": "markdown",
   "metadata": {},
   "source": [
    "## Nodarbības saturs\n",
    "\n",
    "Mēs apskatīsim sekojošas tēmas:\n",
    "\n",
    "* Plotly vizualizācijas bibliotēkas apskats\n",
    "* Plotly vizualizāciju izveide\n",
    "\n",
    "### Nodarbības mērķi\n",
    "\n",
    "Nodarbības beigās Jums būtu jāspēj:\n",
    "\n",
    "* izveidot galvenos Plotly vizualizāciju veidus\n",
    "* izveidot interaktīvas Plotly vizualizācijas\n",
    "* izveidot dažus sarežģītākus Plotly vizualizāciju veidus\n"
   ]
  },
  {
   "cell_type": "markdown",
   "metadata": {},
   "source": [
    "### Vajadzīgo bibliotēku importēšana\n",
    "\n",
    "Ja Jūsu sistēmā nav instalēts Plotly, to var instalēt ar šādu komandu:\n",
    "\n",
    "```bash\n",
    "pip install plotly\n",
    "```\n",
    "\n",
    "Google Colab ir instalēts Plotly, bet tā var nebūt jaunākā versija.\n",
    "\n",
    "Gadījumā, ja Jupyter notebook neattēlo prasītās vizualizācijas, papildus ir jāuzinstalē arī `ipywidgets` bibliotēka:\n",
    "\n",
    "```bash\n",
    "pip install ipywidgets\n",
    "```"
   ]
  },
  {
   "cell_type": "code",
   "execution_count": null,
   "metadata": {},
   "outputs": [],
   "source": [
    "# generally imports go at the top of a notebook\n",
    "# python version\n",
    "import sys\n",
    "print(f\"Python version: {sys.version}\")\n",
    "\n",
    "# import pandas\n",
    "import pandas as pd\n",
    "print(f\"Pandas version: {pd.__version__}\")\n",
    "# we will use pandas to read in our data and manipulate it\n",
    "\n",
    "# import Plotly the object of this lesson\n",
    "import plotly\n",
    "print(f\"Plotly version: {plotly.__version__}\")\n",
    "\n"
   ]
  },
  {
   "cell_type": "markdown",
   "metadata": {},
   "source": [
    "## 1. tēma - Plotly vizualizācijas bibliotēka\n",
    "\n",
    "![Plotly](https://upload.wikimedia.org/wikipedia/commons/8/8a/Plotly-logo.png)\n",
    "\n",
    "Plotly ir jaudīga datu vizualizācijas bibliotēka, ko var izmantot, lai izveidotu interaktīvus grafikus. Ar tās palīdzību var izveidot plašu vizualizāciju klāstu. Tā ir arī sarežģīta bibliotēka, kurai ir strauja mācīšanās līkne. Šajā nodarbībā mēs apskatīsim Plotly pamatus.\n",
    "\n",
    "### Plotly vēsture\n",
    "\n",
    "Plotly ir uzņēmums, kura galvenā mītne atrodas Monreālā, Kanādā. Tas izstrādā tiešsaistes datu analītikas un vizualizācijas rīkus. Plotly piedāvā interaktīvus grafiku, analītikas un statistikas rīkus, kā arī zinātniskās vizualizācijas bibliotēkas Python, R, MATLAB, Perl, Julia, JavaScript un citām valodām.\n",
    "\n",
    "Plotly Python bibliotēku šis uzņēmums izveidoja 2012. gadā. Trīs gadus vēlāk (2015. gadā) tā kļuva par atvētā pirmkoda bibliotēku. Tā tiek publicēta ar MIT licenci: https://plotly.com/python/is-plotly-free/\n",
    "\n",
    "Plotly bibliotāku var lietot brīvi un bez maksas. Plotly uzņēmums piedāvā arī citus produktus, kuru pamatā ir šī bibliotēka. To skaitā ir komerciāls produkts ar nosaukumu Dash Enterprise, kas ir izveidots, izmantojot Plotly + Flask + React.js. Dash Enterprise ir komerciāls produkts, kuru nevar lietot bez maksas, un tam ir nepieciešama licence.\n",
    "\n",
    "### Javascript bibliotēkas\n",
    "\n",
    "Tīmekļa pārlūka pusē Plotly izmanto šādas Javascript bibliotēkas:\n",
    "\n",
    "* plotly.js - JavaScript bibliotēka interaktīvu grafiku attēlošanai\n",
    "* d3.js - JavaScript bibliotēka datu vizualizācijām\n",
    "\n",
    "### Plotly dokumentācija\n",
    "\n",
    "* Plotly bibliotēkas dokumentācija: https://plotly.com/python/\n",
    "\n"
   ]
  },
  {
   "cell_type": "markdown",
   "metadata": {},
   "source": [
    "## Pirmā Plotly vizualizācija\n",
    "\n",
    "Mēs izmantosim Plotly Express, kas ir viegli lietojama, augsta līmeņa Plotly saskarne, kas darbojas ar dažāda veida datiem un piedāvā vienkārši veidojamas vizualizācijas.\n",
    "\n",
    "Plašāka informācija par Plotly Express: https://plotly.com/python/plotly-express/"
   ]
  },
  {
   "cell_type": "code",
   "execution_count": null,
   "metadata": {},
   "outputs": [],
   "source": [
    "import plotly.express as px\n",
    "\n",
    "fig = px.line(x=[\"a\",\"b\",\"c\"], y=[3,4,7], title=\"sample figure\")\n",
    "\n",
    "fig.show() # we call show to display the figure"
   ]
  },
  {
   "cell_type": "code",
   "execution_count": null,
   "metadata": {},
   "outputs": [],
   "source": [
    "# we can see the contents of fig object by printing it\n",
    "print(fig)"
   ]
  },
  {
   "cell_type": "markdown",
   "metadata": {},
   "source": [
    "---\n",
    "\n",
    "Gadījumā, ja `show()` komanda neattēlo prasīto vizualizāciju, var pamēģināt palaist `fig.show()` ar `renderer=\"iframe\"` vai `renderer=\"colab\"` parametru.\n",
    "\n",
    "---"
   ]
  },
  {
   "cell_type": "markdown",
   "metadata": {},
   "source": [
    "### Plotly Express filozofija\n",
    "\n",
    "Kā redzams izpildot komandu `print(fig)`, `Figure` ir vārdnīcai līdzīgs objekts. Tajā ir atslēgas un tām atbilstošās vērtības, kas definē ģenerējamā grafika datus un izvietojumu.\n",
    "\n",
    "Tādējādi, mūsu uzdevums ir `Figure` objektam nodot vajadzīgo informāciju, kas apraksta datus un vizualizācijas izskatu."
   ]
  },
  {
   "cell_type": "markdown",
   "metadata": {},
   "source": [
    "## Vienkārša Plotly vizualizācija\n",
    "\n",
    "Plotly Express ir augsta līmeņa Plotly saskarne, kas paslēpj `Figure` objekta izveides sarežģītību. Lielāku kontroli pār `Figure` objektu mēs varam iegūt, izmantojot moduli `plotly.graph_objects`.\n"
   ]
  },
  {
   "cell_type": "code",
   "execution_count": null,
   "metadata": {},
   "outputs": [],
   "source": [
    "# let's create a similar plot using Plotly itself using the plotly.graph_objects module\n",
    "\n",
    "import plotly.graph_objects as go # very common to import as go\n",
    "\n",
    "# note how we pass in the data as a go.Scatter object\n",
    "\n",
    "fig = go.Figure(data=go.Scatter(x=[\"a\",\"b\",\"c\"], y=[3,4,7]))\n",
    "# let's add a title after a figure is created\n",
    "fig.update_layout(title=\"sample figure\")\n",
    "fig.show()"
   ]
  },
  {
   "cell_type": "markdown",
   "metadata": {},
   "source": [
    "## Funkcijas līknes attēlošana\n",
    "\n",
    "Uzzīmēsim šādu funkciju: $f(x) = x^3 - 5$\n",
    "\n",
    "Funkcijas diapazons būs no -5 līdz 5. Funkciju attēlosim, izmantojot 101 punktu."
   ]
  },
  {
   "cell_type": "code",
   "execution_count": null,
   "metadata": {},
   "outputs": [],
   "source": [
    "# our first step is to generate the data using the cubic function.\n",
    "\n",
    "# we will use numpy to generate the data\n",
    "import numpy as np\n",
    "# we will use the linspace function to generate the x values\n",
    "x = np.linspace(-5,5,101)\n",
    "\n",
    "# Question to students why 101 and not 100?"
   ]
  },
  {
   "cell_type": "code",
   "execution_count": null,
   "metadata": {},
   "outputs": [],
   "source": [
    "# now we can generate the y values\n",
    "y = x**3 - 5 # remember numpy will apply the exponent to each element of the array\n",
    "\n",
    "# now we can plot the data\n",
    "fig = go.Figure(layout = {\"title\":\"Cubic function\"}, data=go.Scatter(x=x, y=y))\n",
    "# fig.update_layout(title=\"Cubic Function\") # notice we already passed layout function above\n",
    "# let's add x and y axis labels\n",
    "fig.update_xaxes(title=\"x\")\n",
    "fig.update_yaxes(title=\"y\")\n",
    "# let's add a grid\n",
    "fig.update_layout(xaxis=dict(showgrid=True, gridwidth=1, gridcolor='black'),\n",
    "                  yaxis=dict(showgrid=True, gridwidth=1, gridcolor='black'))\n",
    "# let's add a horizontal line at y=0\n",
    "fig.add_hline(y=0, line=dict(color='orange', width=2))\n",
    "fig.add_vline(x=0, line=dict(color='red', width=2))\n",
    "\n",
    "# all of the above layout options could have been added at once using the update_layout function\n",
    "# alternatively we could have passed a layout dictionary to the Figure function\n",
    "\n",
    "fig.show()"
   ]
  },
  {
   "cell_type": "markdown",
   "metadata": {},
   "source": [
    "## Sarežģītāki Plotly vizualizāciju veidi\n",
    "\n",
    "### Stacked Bar Charts"
   ]
  },
  {
   "cell_type": "code",
   "execution_count": null,
   "metadata": {},
   "outputs": [],
   "source": [
    "# plotly express provides some data for us to use\n",
    "# we can use the gapminder dataset\n",
    "# gapminder is a dataset that contains information about countries\n",
    "\n",
    "df = px.data.gapminder().query(\"country == 'Canada'\")\n",
    "# gapminder() returns a dataframe so we immediately call query to filter the data\n",
    "# we are only interested in data for Canada\n",
    "\n",
    "fig = px.bar(df, x='year', y='pop',\n",
    "             hover_data=['lifeExp', 'gdpPercap'], color='lifeExp',\n",
    "             labels={'pop':'population of Canada'}, height=400)\n",
    "fig.show()"
   ]
  },
  {
   "cell_type": "markdown",
   "metadata": {},
   "source": [
    "### Plotly interaktivitāte\n",
    "\n",
    "Ievērojiet, kā mēs varam:\n",
    "- pietuvināt (zoom in) Plotly grafikus\n",
    "- saglabāt tos kā PNG failus\n",
    "- atlasīt diagrammas reģionu un attēlot tikai šo reģionu\n",
    "- novietot peles kursoru uz grafika un redzēt atbilstošās datu punktu vērtības.\n"
   ]
  },
  {
   "cell_type": "code",
   "execution_count": null,
   "metadata": {},
   "outputs": [],
   "source": [
    "df = px.data.gapminder().query(\"continent == 'Europe'\")\n",
    "fig = px.bar(df, x='year', y='pop',\n",
    "             hover_data=['lifeExp', 'gdpPercap'], color='country',\n",
    "             labels={'pop':'population of Europe'}, height=400)\n",
    "fig.show()"
   ]
  },
  {
   "cell_type": "markdown",
   "metadata": {},
   "source": [
    "### Datu izvēles aktivizēšana\n",
    "\n",
    "Ievērojiet, kā mēs varam noklikšķināt uz kādas valsts, un diagrammā tiks parādīta vai paslēpta šī valsts. Mēs varam noklikšķināt uz vairākām valstīm, un diagrammā tiks parādītas tikai šīs valstis.\n",
    "\n",
    "Piezīme: datus par Latviju `px.data.gapminder().query(\"continent == 'Europe\")` nesniedz.\n",
    "\n",
    "#### Papildus uzdevuma ideja\n",
    "\n",
    "Papildus ideja: atrast datu avotu, kurā ir dati par Latviju, un attēlot to."
   ]
  },
  {
   "cell_type": "markdown",
   "metadata": {},
   "source": [
    "## Histogrammas\n",
    "\n",
    "Histogrammas tiek izmantotas, lai attēlotu mainīgā vērtību sadalījumu. Tās ir ļoti noderīgas pētnieciskai datu analīzei."
   ]
  },
  {
   "cell_type": "code",
   "execution_count": null,
   "metadata": {},
   "outputs": [],
   "source": [
    "df = px.data.tips() \n",
    "# px.data.tips() is a pandas dataframe of famous tips dataset\n",
    "fig = px.histogram(df, x=\"total_bill\")\n",
    "fig.show()"
   ]
  },
  {
   "cell_type": "markdown",
   "metadata": {},
   "source": [
    "## Heatmaps (siltuma kartes)\n",
    "\n",
    "Siltuma kartes ļauj datus vizualizēt 2D režģī. Dati režģī tiek attēloti kā krāsas. Siltuma kartes ir ļoti noderīgas korelācijas matricu vizualizēšanai."
   ]
  },
  {
   "cell_type": "code",
   "execution_count": null,
   "metadata": {},
   "outputs": [],
   "source": [
    "z = [[.1, .3, .5, .7, .9],\n",
    "     [1, .8, .6, .4, .2],\n",
    "     [.2, 0, .5, .7, .9],\n",
    "     [.9, .8, .4, .2, 0],\n",
    "     [.3, .4, .5, .7, 1]]\n",
    "\n",
    "fig = px.imshow(z, text_auto=True)\n",
    "# note how imshow is very similar to the matplotlib imshow function\n",
    "fig.show()"
   ]
  },
  {
   "cell_type": "markdown",
   "metadata": {},
   "source": []
  },
  {
   "cell_type": "markdown",
   "metadata": {},
   "source": [
    "## Finanšu diagrammas\n",
    "\n",
    "Candlestick (\"svečturu\") grafiki parasti tiek izmantoti finanšu datu attēlošanai:\n",
    "- tie var attēlot akciju kursa biržas atvēršanas, aizvēršanas, kā arī augstāko un zemāko vērtību\n",
    "- \"candlestick\" krāsa parāda vai akciju cena norādītajā dienā palielinājās vai samazinājās"
   ]
  },
  {
   "cell_type": "code",
   "execution_count": null,
   "metadata": {},
   "outputs": [],
   "source": [
    "from datetime import datetime\n",
    "\n",
    "df = pd.read_csv('https://raw.githubusercontent.com/plotly/datasets/master/finance-charts-apple.csv')\n",
    "\n",
    "fig = go.Figure(data=[go.Candlestick(x=df['Date'],\n",
    "                open=df['AAPL.Open'],\n",
    "                high=df['AAPL.High'],\n",
    "                low=df['AAPL.Low'],\n",
    "                close=df['AAPL.Close'])])\n",
    "\n",
    "fig.show()"
   ]
  },
  {
   "cell_type": "markdown",
   "metadata": {},
   "source": [
    "### Piezīme par datu apakškopas atlasi\n",
    "\n",
    "Tā kā x ass ir datums, mēs varam atlasīt datu apakškopu, norādot datumu apgabalu uz x ass."
   ]
  },
  {
   "cell_type": "markdown",
   "metadata": {},
   "source": [
    "## Sarežģītāks Plotly piemērs ar vairākiem apakš-grafikiem\n",
    "\n",
    "https://plotly.com/python/map-subplots-and-small-multiples/"
   ]
  },
  {
   "cell_type": "code",
   "execution_count": null,
   "metadata": {},
   "outputs": [],
   "source": [
    "df = pd.read_csv('https://raw.githubusercontent.com/plotly/datasets/master/1962_2006_walmart_store_openings.csv')\n",
    "df.head()\n",
    "\n",
    "data = [] # we will store our data in this list\n",
    "\n",
    "# we can prepare the layout dictionary ahead of time\n",
    "layout = dict(\n",
    "    title = 'New Walmart Stores per year 1962-2006<br>\\\n",
    "Source: <a href=\"http://www.econ.umn.edu/~holmes/data/WalMart/index.html\">\\\n",
    "University of Minnesota</a>',\n",
    "    # showlegend = False,\n",
    "    autosize = False,\n",
    "    width = 1000,\n",
    "    height = 900,\n",
    "    hovermode = False,\n",
    "    legend = dict(\n",
    "        x=0.7,\n",
    "        y=-0.1,\n",
    "        bgcolor=\"rgba(255, 255, 255, 0)\",\n",
    "        font = dict( size=11 ),\n",
    "    )\n",
    ")\n",
    "\n",
    "years = df['YEAR'].unique()\n",
    "\n",
    "for i in range(len(years)):\n",
    "    geo_key = 'geo'+str(i+1) if i != 0 else 'geo'\n",
    "    lons = list(df[ df['YEAR'] == years[i] ]['LON'])\n",
    "    lats = list(df[ df['YEAR'] == years[i] ]['LAT'])\n",
    "    # Walmart store data\n",
    "    data.append(\n",
    "        dict(\n",
    "            type = 'scattergeo',\n",
    "            showlegend=False,\n",
    "            lon = lons,\n",
    "            lat = lats,\n",
    "            geo = geo_key,\n",
    "            name = int(years[i]),\n",
    "            marker = dict(\n",
    "                color = \"rgb(0, 0, 255)\",\n",
    "                opacity = 0.5\n",
    "            )\n",
    "        )\n",
    "    )\n",
    "    # Year markers\n",
    "    data.append(\n",
    "        dict(\n",
    "            type = 'scattergeo',\n",
    "            showlegend = False,\n",
    "            lon = [-78],\n",
    "            lat = [47],\n",
    "            geo = geo_key,\n",
    "            text = [years[i]],\n",
    "            mode = 'text',\n",
    "        )\n",
    "    )\n",
    "    layout[geo_key] = dict(\n",
    "        scope = 'usa',\n",
    "        showland = True,\n",
    "        landcolor = 'rgb(229, 229, 229)',\n",
    "        showcountries = False,\n",
    "        domain = dict( x = [], y = [] ),\n",
    "        subunitcolor = \"rgb(255, 255, 255)\",\n",
    "    )\n",
    "\n",
    "\n",
    "def draw_sparkline( domain, lataxis, lonaxis ):\n",
    "    ''' Returns a sparkline layout object for geo coordinates  '''\n",
    "    return dict(\n",
    "        showland = False,\n",
    "        showframe = False,\n",
    "        showcountries = False,\n",
    "        showcoastlines = False,\n",
    "        domain = domain,\n",
    "        lataxis = lataxis,\n",
    "        lonaxis = lonaxis,\n",
    "        bgcolor = 'rgba(255,200,200,0.0)'\n",
    "    )\n",
    "\n",
    "# Stores per year sparkline\n",
    "layout['geo44'] = draw_sparkline({'x':[0.6,0.8], 'y':[0,0.15]}, \\\n",
    "                                 {'range':[-5.0, 30.0]}, {'range':[0.0, 40.0]} )\n",
    "data.append(\n",
    "    dict(\n",
    "        type = 'scattergeo',\n",
    "        mode = 'lines',\n",
    "        lat = list(df.groupby(by=['YEAR']).count()['storenum']/1e1),\n",
    "        lon = list(range(len(df.groupby(by=['YEAR']).count()['storenum']/1e1))),\n",
    "        line = dict( color = \"rgb(0, 0, 255)\" ),\n",
    "        name = \"New stores per year<br>Peak of 178 stores per year in 1990\",\n",
    "        geo = 'geo44',\n",
    "    )\n",
    ")\n",
    "\n",
    "# Cumulative sum sparkline\n",
    "layout['geo45'] = draw_sparkline({'x':[0.8,1], 'y':[0,0.15]}, \\\n",
    "                                 {'range':[-5.0, 50.0]}, {'range':[0.0, 50.0]} )\n",
    "data.append(\n",
    "    dict(\n",
    "        type = 'scattergeo',\n",
    "        mode = 'lines',\n",
    "        lat = list(df.groupby(by=['YEAR']).count().cumsum()['storenum']/1e2),\n",
    "        lon = list(range(len(df.groupby(by=['YEAR']).count()['storenum']/1e1))),\n",
    "        line = dict( color = \"rgb(214, 39, 40)\" ),\n",
    "        name =\"Cumulative sum<br>3176 stores total in 2006\",\n",
    "        geo = 'geo45',\n",
    "    )\n",
    ")\n",
    "\n",
    "z = 0\n",
    "COLS = 5\n",
    "ROWS = 9\n",
    "for y in reversed(range(ROWS)):\n",
    "    for x in range(COLS):\n",
    "        geo_key = 'geo'+str(z+1) if z != 0 else 'geo'\n",
    "        layout[geo_key]['domain']['x'] = [float(x)/float(COLS), float(x+1)/float(COLS)]\n",
    "        layout[geo_key]['domain']['y'] = [float(y)/float(ROWS), float(y+1)/float(ROWS)]\n",
    "        z=z+1\n",
    "        if z > 42:\n",
    "            break\n",
    "\n",
    "# so once all of the data is prepared we can create the figure\n",
    "# so here data will contain a list of dictionaries,\n",
    "# each dictionary contains a type key which indicates the type of plot\n",
    "\n",
    "fig = go.Figure(data=data, layout=layout)\n",
    "fig.update_layout(width=800)\n",
    "fig.show()"
   ]
  },
  {
   "cell_type": "markdown",
   "metadata": {},
   "source": [
    "### Piezīmes par šo vizualizāciju\n",
    "\n",
    "Ievērojiet, kā iepriekšējā diagrammā ir vairākas apakšdiagrammas. Tajā ir karšu apakšdiagrammas, scatter-plot diagrammas virs katra kartes grafika, kā arī vienkāršas līniju diagrammas."
   ]
  },
  {
   "cell_type": "markdown",
   "metadata": {},
   "source": [
    "## Nodarbības kopsavilkums\n",
    "\n",
    "Šajā nodarbībā ir atrodama informācija par:\n",
    "\n",
    "* Plotly datu vizualizācijas pamatiem\n",
    "* Plotly Express\n",
    "* Plotly diagrammām\n",
    "* Plotly Graph objektu\n",
    "* Plotly stabiņu diagrammām \n",
    "* Plotly histogrammām\n",
    "* Plotly heatmaps (siltuma kartēm)\n",
    "* Plotly apakšdiagrammām"
   ]
  },
  {
   "cell_type": "markdown",
   "metadata": {},
   "source": [
    "## Uzdevumi patstāvīgam darbam\n",
    "\n",
    "### 1. uzdevums - Attēlojiet kvadrātisku funkciju\n",
    "\n",
    "Izveidojiet vienkāršu `plotly express` vai `go` vizualizāciju, kas attēlo šādu kvadrātisku funkciju:\n",
    "\n",
    "`f(x) = x^2 + 2x + 1` x vērtību apgabalā no -10 līdz 10 ar soļa izmēru 0.5.\n",
    "\n",
    "Piešķiriet atbilstošus nosaukumus grafikam un tā asīm."
   ]
  },
  {
   "cell_type": "markdown",
   "metadata": {},
   "source": [
    "### 2. uzdevums - Attēlojiet ziloņa vai Betmena funkciju\n",
    "\n",
    "https://www.physicsforums.com/threads/graph-of-an-elephant.998283/\n",
    "\n",
    "Realizējiet to ar Python bibliotēku palīdzību.\n",
    "\n",
    "### 3. uzdevums - Finanšu grafiks\n",
    "\n",
    "Izveidojiet finanšu analīzes diagrammu kāda cita uzņēmuma akcijām."
   ]
  },
  {
   "cell_type": "markdown",
   "metadata": {},
   "source": [
    "## Papildus informācija\n",
    "\n",
    "### 1. tēma - Plotly\n",
    "\n",
    "- [Plotly advanced plots](https://plotly.com/python/)\n",
    "- [3D scatter plots](https://plotly.com/python/3d-scatter-plots/)\n",
    "\n",
    "### 2. tēma - Datu pārveidojumi\n",
    "\n",
    "- [Transforming data](https://plotly.com/python/#transforms) (datu filtrēšana, grupēšana, u.tml.)\n",
    "\n",
    "### Topic 3 - Custom Controls\n",
    "\n",
    "- [Custom Controls](https://plotly.com/python/#controls) (papildus līdzekļi vizualizāciju satura pārvaldīšanai)\n"
   ]
  },
  {
   "cell_type": "code",
   "execution_count": null,
   "metadata": {},
   "outputs": [],
   "source": []
  }
 ],
 "metadata": {
  "kernelspec": {
   "display_name": "Python 3 (ipykernel)",
   "language": "python",
   "name": "python3"
  },
  "language_info": {
   "codemirror_mode": {
    "name": "ipython",
    "version": 3
   },
   "file_extension": ".py",
   "mimetype": "text/x-python",
   "name": "python",
   "nbconvert_exporter": "python",
   "pygments_lexer": "ipython3",
   "version": "3.12.7"
  }
 },
 "nbformat": 4,
 "nbformat_minor": 4
}
