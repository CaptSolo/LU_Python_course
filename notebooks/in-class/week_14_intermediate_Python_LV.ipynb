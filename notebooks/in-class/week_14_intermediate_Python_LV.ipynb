{
 "cells": [
  {
   "cell_type": "markdown",
   "metadata": {},
   "source": [
    "![LU Logo](https://www.lu.lv/fileadmin/user_upload/LU.LV/www.lu.lv/Logo/Logo_jaunie/LU_logo_LV_horiz.png)\n"
   ]
  },
  {
   "cell_type": "markdown",
   "metadata": {},
   "source": [
    "# Vidējā līmeņa Python"
   ]
  },
  {
   "cell_type": "markdown",
   "metadata": {},
   "source": [
    "## Nodarbības saturs\n",
    "\n",
    "Mēs apskatīsim sekojošas tēmas:\n",
    "\n",
    "* Dekoratori (decorators)\n",
    "* Konteksta pārvaldnieki (context managers)\n",
    "* Ģeneratori un ģeneratoru īspieraksts (generators, generator expressions)\n",
    "\n",
    "## Prasības priekšzināšanām\n",
    "\n",
    "* Pamatzināšanas par Python - kas līdz šim ir šajā kursā apskatīts.\n",
    "\n",
    "## Nodarbības mērķi\n",
    "\n",
    "Nodarbības beigās Jums ir jāspēj:\n",
    "\n",
    "* Izveidot un pielietot dekoratorus\n",
    "* Izveidot un pielietot konteksta pārvaldniekus\n",
    "* Izveidot un pielietot ģeneratorus un to īspierakstu"
   ]
  },
  {
   "cell_type": "markdown",
   "metadata": {},
   "source": [
    "## 1. tēma - Dekoratori\n",
    "\n",
    "**Python dekoratori** ļauj paplašināt vai mainīt izsaucamā objekta (piemēram, funkcijas vai metodes) darbību, neiejaucoties paša izsaucamā objekta saturā. Būtībā dekoratori iesaiņo vai \"izdekorē\" funkciju, ļaujot veikt pirms- un pēcapstrādes darbības pirms un pēc sākotnējā funkcijas izsaukuma.\n",
    "\n",
    "Dekoratorus var pielietot, lai papildinātu esošās funkcijas un metodes ar tādu funkcionalitāti kā notikumu žurnāla pieraksts (logging), kešatmiņa vai piekļuves kontrole.\n",
    "\n",
    "Python dekoratori tiek pielietoti, izmantojot \"@\" sintaksi pirms funkcijas vai metodes definīcijas:\n",
    "\n",
    "```\n",
    "@decorator_name\n",
    "def my_function():\n",
    "    ...\n",
    "```\n"
   ]
  },
  {
   "cell_type": "markdown",
   "metadata": {},
   "source": [
    "### 1.1. Augstākas kārtas funkcijas\n",
    "\n",
    "Python funkcijas ir \"pirmās klases\" objekti (\"first-class\" objects). Tās var piešķirt mainīgajiem, nodot kā argumentus un atgriezt no funkcijām (tieši tāpat kā jebkuru citu objektu).\n",
    "\n",
    "Augstākas kārtas funkcijas (higher-order functions) ir funkcijas, kas darbojas ar citām funkcijām: tās var pieņemt funkcijas kā argumentus, tās var atgriezt funkcijas vai arī darīt gan vienu, gan otru. Šajā piemērā `func_2(my_function)` ir augstākas kārtas funkcija."
   ]
  },
  {
   "cell_type": "code",
   "execution_count": 1,
   "metadata": {},
   "outputs": [
    {
     "name": "stdout",
     "output_type": "stream",
     "text": [
      "In func_1: Hello there!\n",
      "\n",
      "In func_2:\n",
      "In func_1: Hi!\n"
     ]
    }
   ],
   "source": [
    "def func_1(text):\n",
    "    print(\"In func_1:\", text)\n",
    "\n",
    "def func_2(my_function):\n",
    "    print(\"In func_2:\")\n",
    "    my_function(\"Hi!\")\n",
    "\n",
    "func_1(\"Hello there!\")\n",
    "print()\n",
    "\n",
    "func_2(func_1)"
   ]
  },
  {
   "cell_type": "markdown",
   "metadata": {},
   "source": [
    "Te mēs redzam, ka `func_2()` izpilda jebkuru funkciju, kas tai tiek nodota kā arguments.\n",
    "\n",
    "Funkcijas iekšienē var arī definēt jaunas funkcijas (sauktas par *iekšējām* vai *iekļautām* funkcijām), kā arī atgriezt funkciju:"
   ]
  },
  {
   "cell_type": "code",
   "execution_count": 2,
   "metadata": {},
   "outputs": [
    {
     "name": "stdout",
     "output_type": "stream",
     "text": [
      "Inside the parent_fn() function.\n"
     ]
    },
    {
     "data": {
      "text/plain": [
       "<function __main__.parent_fn.<locals>.child_fn(text)>"
      ]
     },
     "execution_count": 2,
     "metadata": {},
     "output_type": "execute_result"
    }
   ],
   "source": [
    "def parent_fn():\n",
    "    print(\"Inside the parent_fn() function.\")\n",
    "\n",
    "    def child_fn(text):\n",
    "        print(\"Inside the child_fn() function:\", text)\n",
    "\n",
    "    # returning a function\n",
    "    return child_fn\n",
    "\n",
    "parent_fn() # this will show the returned function object"
   ]
  },
  {
   "cell_type": "code",
   "execution_count": 3,
   "metadata": {},
   "outputs": [
    {
     "name": "stdout",
     "output_type": "stream",
     "text": [
      "Inside the parent_fn() function.\n",
      "\n",
      "Inside the child_fn() function: Hello!\n"
     ]
    }
   ],
   "source": [
    "# parent_fn() returns a function\n",
    "my_fn = parent_fn()\n",
    "print()\n",
    "\n",
    "# we can execute the function returned by parent_fn()\n",
    "my_fn(\"Hello!\")"
   ]
  },
  {
   "cell_type": "markdown",
   "metadata": {},
   "source": [
    "### 1.2. Dekoratori\n",
    "\n",
    "Funkciju dekoratori \"iesaiņo\" funkciju vai klases metodi un modificē vai paplašina tās funkcionalitāti.\n",
    "\n",
    "Izmantojot *augstākas kārtas funkcijas*, mēs varam definēt funkciju, kas saņem citu funkciju kā argumentu un atgriež jaunu funkciju:"
   ]
  },
  {
   "cell_type": "code",
   "execution_count": 4,
   "metadata": {},
   "outputs": [],
   "source": [
    "def my_decorator(func):\n",
    "    \n",
    "    # function that calls func() provided as an argument to my_decorator()\n",
    "    def wrapper():\n",
    "        \n",
    "        print(\"Do something before the function is called.\")\n",
    "\n",
    "        # call the original function\n",
    "        func()\n",
    "        \n",
    "        print(\"Do something after the function is called.\")\n",
    "\n",
    "    # returns the wrapper funcion\n",
    "    return wrapper"
   ]
  },
  {
   "cell_type": "code",
   "execution_count": 5,
   "metadata": {},
   "outputs": [
    {
     "name": "stdout",
     "output_type": "stream",
     "text": [
      "Executing my_fn() function.\n"
     ]
    }
   ],
   "source": [
    "# define a new function\n",
    "def my_fn():\n",
    "    print(\"Executing my_fn() function.\")\n",
    "\n",
    "my_fn()"
   ]
  },
  {
   "cell_type": "markdown",
   "metadata": {},
   "source": [
    "Decorators wrap a function, modifying its behavior:"
   ]
  },
  {
   "cell_type": "code",
   "execution_count": 6,
   "metadata": {},
   "outputs": [
    {
     "name": "stdout",
     "output_type": "stream",
     "text": [
      "Do something before the function is called.\n",
      "Executing my_fn() function.\n",
      "Do something after the function is called.\n"
     ]
    }
   ],
   "source": [
    "# now we can re-define the function by \"wrapping\" it in decorator's inner function\n",
    "my_fn = my_decorator(my_fn)\n",
    "\n",
    "my_fn()"
   ]
  },
  {
   "cell_type": "code",
   "execution_count": 7,
   "metadata": {},
   "outputs": [
    {
     "name": "stdout",
     "output_type": "stream",
     "text": [
      "Do something before the function is called.\n",
      "In the original function.\n",
      "Do something after the function is called.\n"
     ]
    }
   ],
   "source": [
    "# Python decorators let us decorate functions by using the \"@\" syntax\n",
    "\n",
    "# @my_decorator means the same as my_fn2 = my_decorator(my_fn2)\n",
    "\n",
    "@my_decorator\n",
    "def my_fn2():\n",
    "    print(\"In the original function.\")\n",
    "\n",
    "my_fn2()"
   ]
  },
  {
   "cell_type": "markdown",
   "metadata": {},
   "source": [
    "Jūs varat arī definēt dekoratorus savos moduļos un pēc tam importēt un pielietot tos:"
   ]
  },
  {
   "cell_type": "code",
   "execution_count": 8,
   "metadata": {},
   "outputs": [
    {
     "name": "stdout",
     "output_type": "stream",
     "text": [
      "Writing decorator_module.py\n"
     ]
    }
   ],
   "source": [
    "%%writefile decorator_module.py\n",
    "\n",
    "def do_twice(func):\n",
    "\n",
    "    def wrapper():\n",
    "        func()\n",
    "        func()\n",
    "\n",
    "    # returns the wrapper funcion\n",
    "    return wrapper"
   ]
  },
  {
   "cell_type": "code",
   "execution_count": 9,
   "metadata": {},
   "outputs": [
    {
     "name": "stdout",
     "output_type": "stream",
     "text": [
      "Hello, world!\n",
      "Hello, world!\n"
     ]
    }
   ],
   "source": [
    "from decorator_module import do_twice\n",
    "\n",
    "@do_twice\n",
    "def my_fn3():\n",
    "    print(\"Hello, world!\")\n",
    "\n",
    "my_fn3()"
   ]
  },
  {
   "cell_type": "markdown",
   "metadata": {},
   "source": [
    "#### Funkcijas ar argumentiem un atgriežamām vērtībām\n",
    "\n",
    "Ja dekorētā funkcija pieņem argumentus vai atgriež vērtību, dekoratoram arī ir jāapstrādā šie argumenti un jānodod tālāk atgrieztā vērtība.\n",
    "\n",
    "Dekorētā funkcija var saņemt patvaļīgu skaitu pozicionālo un atslēgvārdu argumentu. Lai iegūtu šo argumentu vērtības, mēs varam izmantot sintaksi `*args` (pozicionālajiem argumentiem) un `**kwargs` (atslēgvārdu argumentiem), kas ļauj apstrādāt mainīgu argumentu skaitu:"
   ]
  },
  {
   "cell_type": "code",
   "execution_count": 11,
   "metadata": {},
   "outputs": [],
   "source": [
    "def do_twice_args(func):\n",
    "\n",
    "    # supply arguments to the inner function\n",
    "    def wrapper(*args, **kwargs):\n",
    "        func(*args, **kwargs)\n",
    "        func(*args, **kwargs)\n",
    "\n",
    "    # returns the wrapper funcion\n",
    "    return wrapper"
   ]
  },
  {
   "cell_type": "code",
   "execution_count": 12,
   "metadata": {},
   "outputs": [
    {
     "name": "stdout",
     "output_type": "stream",
     "text": [
      "Name: John\n",
      "Name: John\n"
     ]
    }
   ],
   "source": [
    "@do_twice_args\n",
    "def print_name(name):\n",
    "    print(f\"Name: {name}\")\n",
    "\n",
    "print_name(\"John\")"
   ]
  },
  {
   "cell_type": "markdown",
   "metadata": {},
   "source": [
    "---\n",
    "\n",
    "Var dekorēt arī funkcijas, kas atgriež vērtību:"
   ]
  },
  {
   "cell_type": "code",
   "execution_count": 13,
   "metadata": {},
   "outputs": [],
   "source": [
    "def log_runs(func):\n",
    "\n",
    "    # supply arguments to the inner function\n",
    "    def wrapper(*args, **kwargs):\n",
    "        print(\"Before the function call.\")\n",
    "        result = func(*args, **kwargs)\n",
    "        print(\"After the function call. Return value:\", result)\n",
    "\n",
    "        return result\n",
    "\n",
    "    return wrapper"
   ]
  },
  {
   "cell_type": "code",
   "execution_count": 14,
   "metadata": {},
   "outputs": [
    {
     "name": "stdout",
     "output_type": "stream",
     "text": [
      "Before the function call.\n",
      "In multiply_10x function. Name: Uldis\n",
      "After the function call. Return value: 1500\n"
     ]
    },
    {
     "data": {
      "text/plain": [
       "1500"
      ]
     },
     "execution_count": 14,
     "metadata": {},
     "output_type": "execute_result"
    }
   ],
   "source": [
    "@log_runs\n",
    "def multiply_10x(number, my_name=\"Nothing\"):\n",
    "    print(f\"In multiply_10x function. Name: {my_name}\")\n",
    "    return number * 10\n",
    "\n",
    "multiply_10x(150, my_name=\"Uldis\")"
   ]
  },
  {
   "cell_type": "markdown",
   "metadata": {},
   "source": [
    "---\n",
    "\n",
    "Python funkcijas parasti zina savu nosaukumu un atribūtus, un Python var parādīt dokumentāciju (help), kas apraksta šo funkciju. Tomēr, kad funkcijas tiek dekorētas, tās \"pazaudē\" šo informāciju. Tā vietā tiek parādīta informācija par aptverošo (wrapper) funkciju:"
   ]
  },
  {
   "cell_type": "code",
   "execution_count": 15,
   "metadata": {},
   "outputs": [
    {
     "data": {
      "text/plain": [
       "<function __main__.log_runs.<locals>.wrapper(*args, **kwargs)>"
      ]
     },
     "execution_count": 15,
     "metadata": {},
     "output_type": "execute_result"
    }
   ],
   "source": [
    "multiply_10x"
   ]
  },
  {
   "cell_type": "code",
   "execution_count": 16,
   "metadata": {},
   "outputs": [
    {
     "name": "stdout",
     "output_type": "stream",
     "text": [
      "Help on function wrapper in module __main__:\n",
      "\n",
      "wrapper(*args, **kwargs)\n",
      "    # supply arguments to the inner function\n",
      "\n"
     ]
    }
   ],
   "source": [
    "help(multiply_10x)"
   ]
  },
  {
   "cell_type": "markdown",
   "metadata": {},
   "source": [
    "Šo uzvedību var labot izmantojot `functools.wraps` dekoratoru:"
   ]
  },
  {
   "cell_type": "code",
   "execution_count": 17,
   "metadata": {},
   "outputs": [],
   "source": [
    "import functools\n",
    "\n",
    "def log_runs2(func):\n",
    "\n",
    "    @functools.wraps(func)\n",
    "    def wrapper(*args, **kwargs):\n",
    "        print(\"Before the function call.\")\n",
    "        result = func(*args, **kwargs)\n",
    "        print(\"After the function call. Return value:\", result)\n",
    "\n",
    "        return result\n",
    "\n",
    "    return wrapper"
   ]
  },
  {
   "cell_type": "code",
   "execution_count": 18,
   "metadata": {},
   "outputs": [
    {
     "name": "stdout",
     "output_type": "stream",
     "text": [
      "Before the function call.\n",
      "In multiply_15x function.\n",
      "After the function call. Return value: 2250\n"
     ]
    },
    {
     "data": {
      "text/plain": [
       "2250"
      ]
     },
     "execution_count": 18,
     "metadata": {},
     "output_type": "execute_result"
    }
   ],
   "source": [
    "@log_runs2\n",
    "def multiply_15x(number):\n",
    "    \"\"\"Multiply the number by 15.\"\"\"\n",
    "    \n",
    "    print(\"In multiply_15x function.\")\n",
    "    return number * 15\n",
    "\n",
    "multiply_15x(150)"
   ]
  },
  {
   "cell_type": "markdown",
   "metadata": {},
   "source": [
    "Python tagad var pareizi parādīt funkcijas nosaukumu un tās dokumentāciju (help):"
   ]
  },
  {
   "cell_type": "code",
   "execution_count": 19,
   "metadata": {},
   "outputs": [
    {
     "data": {
      "text/plain": [
       "<function __main__.multiply_15x(number)>"
      ]
     },
     "execution_count": 19,
     "metadata": {},
     "output_type": "execute_result"
    }
   ],
   "source": [
    "multiply_15x"
   ]
  },
  {
   "cell_type": "code",
   "execution_count": 21,
   "metadata": {},
   "outputs": [
    {
     "name": "stdout",
     "output_type": "stream",
     "text": [
      "Help on function multiply_15x in module __main__:\n",
      "\n",
      "multiply_15x(number)\n",
      "    Multiply the number by 15.\n",
      "\n"
     ]
    }
   ],
   "source": [
    "help(multiply_15x)"
   ]
  },
  {
   "cell_type": "markdown",
   "metadata": {},
   "source": [
    "### 1.3. Dekoratoru piemēri\n",
    "\n",
    "Python dekoratorus var pielietot dažādiem mērķiem, tostarp:\n",
    "\n",
    "- **Žurnalēšanai** (logging) - lai pierakstītu informāciju par funkcijas izpildi\n",
    "- **Autorizācijai** – pārbaudot, vai lietotājam ir tiesības izmantot funkciju\n",
    "- **Kešošanai** – \"dārgu\" funkciju izsaukumu rezultātu glabāšanai un saglabātā rezultāta atgriešanai pēc pieprasījuma\n",
    "- **Validācijai** – funkcijas ievades vai izvades vērtību pārbaudei\n",
    "\n",
    "Ja nepieciešams, vienai un tai pašai funkcijai var pielietot vairākus dekoratorus."
   ]
  },
  {
   "cell_type": "markdown",
   "metadata": {},
   "source": [
    "#### Flask tīmekļa ietvars\n",
    "\n",
    "[Flask](https://flask.palletsprojects.com/en/2.3.x/) ir Python tīmekļa mikro-ietvars, kas izmanto dekoratorus maršrutu (route) definēšanai un citiem nolūkiem."
   ]
  },
  {
   "cell_type": "markdown",
   "metadata": {},
   "source": [
    "Šis ir vienkāršs Flask piemērs, kurš, piekļūstot vietnei, atgriež ziņu \"Hello, Flask!\". Tas izmanto `@app.route()` dekoratoru, lai saistītu funkciju ar atbilstošo tīmekļa URL (maršrutu), kuru tā apstrādā:\n",
    "\n",
    "```\n",
    "from flask import Flask\n",
    "\n",
    "app = Flask(__name__)\n",
    "\n",
    "@app.route(\"/\")\n",
    "def home():\n",
    "    return \"Hello, Flask!\"\n",
    "```\n",
    "\n",
    "Mēs varam arī definēt jaunu dekoratoru, kas pārliecinās, ka lietotājs ir pieteicies sistēmā (logged in) pirms piekļuves konkrētam maršrutam:\n",
    "\n",
    "```\n",
    "from flask import Flask, g, request, redirect, url_for\n",
    "import functools\n",
    "\n",
    "app = Flask(__name__)\n",
    "\n",
    "def login_required(func):\n",
    "    \"\"\"Make sure user is logged in before proceeding\"\"\"\n",
    "    @functools.wraps(func)\n",
    "    def wrapper_login_required(*args, **kwargs):\n",
    "        if g.user is None:\n",
    "            return redirect(url_for(\"login\", next=request.url))\n",
    "        return func(*args, **kwargs)\n",
    "    return wrapper_login_required\n",
    "```\n",
    "\n",
    "Pēc tam mēs varam pielietot šo dekoratoru (tādējādi funkcijai būs divi dekoratori) lai pārliecinātos, ka lietotājs ir pieteicies sistēmā:\n",
    "\n",
    "```\n",
    "@app.route('/secret')\n",
    "@login_required\n",
    "def secret():\n",
    "    return \"Welcome to this secret webpage!\"\n",
    "```"
   ]
  },
  {
   "cell_type": "markdown",
   "metadata": {},
   "source": [
    "#### Datu klases"
   ]
  },
  {
   "cell_type": "markdown",
   "metadata": {},
   "source": [
    "Dekorators `@dataclass()`, kas tika ieviests Python 3.7, nodrošina ērtu veidu, kā deklarēt [**datu klases**](https://docs.python.org/3/library/dataclasses.html#dataclasses.dataclass). Datu klases galvenokārt satur datus, un tās apraksta savus atribūtus, izmantojot klases mainīgo tipa anotācijas.\n",
    "\n",
    "```\n",
    "from dataclasses import dataclass\n",
    "\n",
    "@dataclass\n",
    "class Point:\n",
    "    x: float\n",
    "    y: float\n",
    "    z: float = 0.0\n",
    "\n",
    "p = Point(1.5, 2.5)\n",
    "\n",
    "# prints \"Point(x=1.5, y=2.5, z=0.0)\"\n",
    "print(p) \n",
    "```\n",
    "\n",
    "Šajā piemērā ir redzams kā šo dekoratoru pielieto datu klases definēšanai."
   ]
  },
  {
   "cell_type": "markdown",
   "metadata": {},
   "source": [
    "#### Kešošana (caching)"
   ]
  },
  {
   "cell_type": "markdown",
   "metadata": {},
   "source": [
    "Dekoratorus var izmantot kešošanai, saglabājot funkciju izsaukumu rezultātus atmiņā.\n",
    "\n",
    "Kad funkcija tiek izsaukta atkārtoti ar tiem pašiem argumentiem, dekorators nolasa rezultātu no atmiņas, nevis izpilda funkciju, tādējādi optimizējot tās veiktspēju un samazinot lieku aprēķinu daudzumu.\n",
    "\n",
    "Šis paņēmiens, kuru sauc arī par **memoizāciju** (memoization), ir īpaši noderīgs \"dārgām\" vai rekursīvām funkcijām. Piemērs rekursīvai funkcijai, kas var gūt ieguvumus no kešošanas, ir rekursīvā Fibonači virknes funkcija (skat. piemēru).\n",
    "\n",
    "\n",
    "Python standarta bibliotēkā ir iekļauta LRU (least-recently-used) kešošanas funkcionalitāte, kas ir pieejama kā [@functools.lru_cache]((https://docs.python.org/library/functools.html#functools.lru_cache)) dekorators."
   ]
  },
  {
   "cell_type": "code",
   "execution_count": 22,
   "metadata": {},
   "outputs": [],
   "source": [
    "import functools\n",
    "\n",
    "@functools.lru_cache(maxsize=10)\n",
    "def fibonacci(num):\n",
    "    \n",
    "    print(f\"Calculating fibonacci({num})\")\n",
    "    \n",
    "    if num < 2:\n",
    "        return num\n",
    "        \n",
    "    return fibonacci(num - 1) + fibonacci(num - 2)"
   ]
  },
  {
   "cell_type": "code",
   "execution_count": 23,
   "metadata": {},
   "outputs": [
    {
     "name": "stdout",
     "output_type": "stream",
     "text": [
      "Calculating fibonacci(10)\n",
      "Calculating fibonacci(9)\n",
      "Calculating fibonacci(8)\n",
      "Calculating fibonacci(7)\n",
      "Calculating fibonacci(6)\n",
      "Calculating fibonacci(5)\n",
      "Calculating fibonacci(4)\n",
      "Calculating fibonacci(3)\n",
      "Calculating fibonacci(2)\n",
      "Calculating fibonacci(1)\n",
      "Calculating fibonacci(0)\n"
     ]
    },
    {
     "data": {
      "text/plain": [
       "55"
      ]
     },
     "execution_count": 23,
     "metadata": {},
     "output_type": "execute_result"
    }
   ],
   "source": [
    "# \"Calculating fibonacci\" is printed every time the function is executed\n",
    "fibonacci(10)"
   ]
  },
  {
   "cell_type": "code",
   "execution_count": 24,
   "metadata": {},
   "outputs": [
    {
     "data": {
      "text/plain": [
       "21"
      ]
     },
     "execution_count": 24,
     "metadata": {},
     "output_type": "execute_result"
    }
   ],
   "source": [
    "# not printing \"Calculating fibonacci\" this time because the return value has already been cached\n",
    "fibonacci(8)"
   ]
  },
  {
   "cell_type": "markdown",
   "metadata": {},
   "source": [
    "## 2. tēma - Konteksta pārvaldnieki"
   ]
  },
  {
   "cell_type": "markdown",
   "metadata": {},
   "source": [
    "**Konteksta pārvaldnieki** ļauj automātiski piešķirt un atbrīvot resursus, tad, kad tas ir nepieciešams, nodrošinot resursu piešķiršanas un atbrīvošanas darbību uzticamu izpildi.\n",
    "\n",
    "Konteksta pārvaldniekiem ir dažādi pielietojumi, tostarp:\n",
    "* **failu operācijas** - nodrošinot, ka atvērtie faili tiek pareizi aizvērti\n",
    "* **datu bāzes savienojumi** — nodrošinot, ka datu bāzu savienojumi tiek pareizi aizvērti, apstiprināti (commit) vai atgriezti atpakaļ (rollback)\n",
    "* **pavedienu drošība** — resursu piekļuves drošība (thread-safety), izmantojot bloķēšanas mehānismus\n",
    "\n",
    "---\n",
    "\n",
    "Konteksta pārvaldnieki parasti tiek lietoti kopā ar `with` komandu. Tā bieži tiek izmantota darbam ar failiem:\n",
    "\n",
    "```\n",
    "with open(\"test_file.txt\", \"r\") as file:\n",
    "    text = file.read()\n",
    "```\n",
    "\n",
    "Šeit komanda `with` nodrošina to, ka atvērtais fails tiek pareizi aizvērts, pat ja rodas kļūdas situācija (exception). Fails tiek aizvērts, kad programma iziet no `with` komandu bloka: `text = file.read()`\n",
    "\n",
    "Failu var aizvērt arī manuāli, neizmantojot konteksta pārvaldnieku, kā parādīts nākamajā piemērā. Tomēr, ja `file.read()` izsaukuma laikā radīsies kļūdas situācija, tad fails netiks automātiski aizvērts.\n",
    "\n",
    "```\n",
    "file = open(\"test_file.txt\", \"r\")\n",
    "text = file.read()\n",
    "file.close()\n",
    "```\n",
    "\n",
    "Tad, lai pareizi aizvērtu failu (arī kļūdas gadījumā), Jums būtu jāizmanto `try: ... finally:` komandas:\n",
    "\n",
    "```\n",
    "file = open(\"test_file.txt\", \"r\")\n",
    "\n",
    "try:\n",
    "    content = file.read()\n",
    "\n",
    "finally:\n",
    "    file.close()\n",
    "```\n",
    "\n",
    "Konteksta pārvaldnieki vienkāršo resursu pārvaldību Python programmēšanas valodā, padarot kodu vieglāk lasāmu un mazāk pakļautu kļūdām."
   ]
  },
  {
   "cell_type": "markdown",
   "metadata": {},
   "source": [
    "---\n",
    "\n",
    "**Konteksta pārvaldnieku** var īstenot divos veidos:\n",
    "\n",
    "* izmantojot konteksta pārvaldnieka protokolu (interfeisu)\n",
    "* izmantojot ģeneratora funkciju\n",
    "\n",
    "**Konteksta pārvaldnieka protokols** ļauj definēt konteksta pārvaldnieku kā klasi, ieviešot tajā divas īpašas metodes: `__enter__` un `__exit__`. Šīs metodes ļauj izstrādātājiem uzstādīt (set up) un nojaukt (tear down) konteksta pārvaldnieka pārvaldītos resursus."
   ]
  },
  {
   "cell_type": "code",
   "execution_count": 25,
   "metadata": {},
   "outputs": [],
   "source": [
    "# we will duplicate the functionality of the built-in open() function\n",
    "class FileOpener:\n",
    "    \n",
    "    def __init__(self, filename, mode):\n",
    "        self.filename = filename\n",
    "        self.mode = mode\n",
    "        self.file = None\n",
    "\n",
    "    def __enter__(self):\n",
    "        print(f\"Opening: {self.filename}\")\n",
    "        self.file = open(self.filename, self.mode)\n",
    "        return self.file\n",
    "\n",
    "    def __exit__(self, exc_type, exc_val, exc_tb):\n",
    "        if self.file:\n",
    "            print(f\"Closing: {self.filename}\")\n",
    "            self.file.close()"
   ]
  },
  {
   "cell_type": "code",
   "execution_count": 26,
   "metadata": {},
   "outputs": [
    {
     "name": "stdout",
     "output_type": "stream",
     "text": [
      "Opening: decorator_module.py\n",
      "Reading the file.\n",
      "Closing: decorator_module.py\n"
     ]
    }
   ],
   "source": [
    "# now we use our custom FileOpener class as a context manager\n",
    "# we can do so because FileOpener has __enter__() and __exit__() methods\n",
    "\n",
    "with FileOpener(\"decorator_module.py\", \"r\") as in_file:\n",
    "    print(\"Reading the file.\")\n",
    "    content = in_file.read()\n",
    "# here file is already closed just like with the built-in open() function"
   ]
  },
  {
   "cell_type": "markdown",
   "metadata": {},
   "source": [
    "---\n",
    "\n",
    "Konteksta pārvaldniekus var izmantot, lai **pārvaldītu datu bāzes transakcijas**:\n",
    "\n",
    "```\n",
    "class DatabaseTransaction:\n",
    "    def __init__(self, connection):\n",
    "        self.connection = connection\n",
    "\n",
    "    def __enter__(self):\n",
    "        return self.connection.cursor()\n",
    "\n",
    "    def __exit__(self, exc_type, exc_val, exc_tb):\n",
    "        if exc_type is None:\n",
    "            self.connection.commit()\n",
    "        else:\n",
    "            self.connection.rollback()\n",
    "```\n",
    "\n",
    "Pieņemot, ka `conn` norāda uz jau uzstādītu datu bāzes savienojumu:\n",
    "\n",
    "```\n",
    "with DatabaseTransaction(conn) as cursor:\n",
    "    cursor.execute('INSERT INTO table (col1, col2) VALUES (?, ?)', (val1, val2))\n",
    "```"
   ]
  },
  {
   "cell_type": "markdown",
   "metadata": {},
   "source": [
    "---\n",
    "\n",
    "**Taimera konteksta pārvaldnieks** ļauj izmērīt laiku, kas nepieciešams koda bloka izpildei."
   ]
  },
  {
   "cell_type": "code",
   "execution_count": 27,
   "metadata": {},
   "outputs": [],
   "source": [
    "import time\n",
    "\n",
    "class CodeTimer:\n",
    "    def __enter__(self):\n",
    "        self.start_time = time.time()\n",
    "\n",
    "    def __exit__(self, exc_type, exc_val, exc_tb):\n",
    "        self.end_time = time.time()\n",
    "        elapsed_time = self.end_time - self.start_time\n",
    "        print(f'Code took {elapsed_time:.2f} seconds to execute')\n"
   ]
  },
  {
   "cell_type": "code",
   "execution_count": 28,
   "metadata": {},
   "outputs": [
    {
     "name": "stdout",
     "output_type": "stream",
     "text": [
      "Code took 0.03 seconds to execute\n"
     ]
    }
   ],
   "source": [
    "with CodeTimer():\n",
    "    # some time-consuming operations\n",
    "    result = [i**2 for i in range(1000000)]"
   ]
  },
  {
   "cell_type": "code",
   "execution_count": 32,
   "metadata": {},
   "outputs": [
    {
     "name": "stdout",
     "output_type": "stream",
     "text": [
      "CPU times: user 25.4 ms, sys: 5.15 ms, total: 30.5 ms\n",
      "Wall time: 29.7 ms\n",
      "\n",
      "27.6 ms ± 318 μs per loop (mean ± std. dev. of 7 runs, 10 loops each)\n"
     ]
    }
   ],
   "source": [
    "# Jupyter also has a \"magic\" keyword for measuring the duration of code execution.\n",
    "\n",
    "%time result = [i**2 for i in range(1000000)]\n",
    "\n",
    "print()\n",
    "\n",
    "%timeit result = [i**2 for i in range(1000000)]"
   ]
  },
  {
   "cell_type": "markdown",
   "metadata": {},
   "source": [
    "## 3. tēma - Ģeneratori\n",
    "\n",
    "Ģeneratoru funkcijas ļauj deklarēt funkcijas, kas darbojas kā iteratori (piemēram, tās var izmantot for ciklā).\n",
    "\n",
    "Šīs funkcijas ģenerē (yield) vērtības katrai cikla iterācijai, nevis atgriež vienu vienīgu vērtību funkcijas beigās.\n",
    "\n",
    "https://wiki.python.org/moin/Generators\n",
    "\n",
    "* Ģeneratori (ģeneratoru funkcijas)\n",
    "* Ģeneratoru īspieraksts (generator expressions)\n",
    "\n",
    "Ģeneratora funkcijas tiek definētas tāpat kā citas Python funkcijas\n",
    "- izņemot to, ka tās izmanto `yield` komandu, lai atgrieztu vērtības (piemēram, katrai cikla iterācijai), kamēr šī ģeneratora funkcija darbojas.\n",
    "\n",
    "---\n",
    "\n",
    "Ģeneratori:\n",
    "- ir vienkāršāki nekā parastās funkcijas, kas veic to pašu uzdevumu\n",
    "- izmanto mazāk atmiņas, jo atgrieztās vērtības tiek aprēķinātas uz vietas, bez nepieciešamības saglabāt visas vērtības sarakstā\n",
    "- ir \"slinki\" – tie ģenerē vērtības tikai tad, kad tās tiek pieprasītas\n",
    "\n",
    "Ģeneratori var ģenerēt datus, kas ir milzīgi vai pat bezgalīgi."
   ]
  },
  {
   "cell_type": "markdown",
   "metadata": {},
   "source": [
    "#### 3.1. Piemērs"
   ]
  },
  {
   "cell_type": "code",
   "execution_count": 33,
   "metadata": {},
   "outputs": [],
   "source": [
    "# First n numbers - using a regular function\n",
    "\n",
    "def first_n(n):\n",
    "    '''Build and return a list'''\n",
    "    num, nums = 0, []\n",
    "    \n",
    "    while num < n:\n",
    "        nums.append(num)\n",
    "        num += 1\n",
    "        \n",
    "    return nums"
   ]
  },
  {
   "cell_type": "code",
   "execution_count": 34,
   "metadata": {},
   "outputs": [
    {
     "name": "stdout",
     "output_type": "stream",
     "text": [
      "Memory used: 8448728 bytes\n",
      "\n",
      "499999500000\n"
     ]
    }
   ],
   "source": [
    "res = first_n(1000_000)\n",
    "\n",
    "# how much memory does it use?\n",
    "import sys\n",
    "print(f\"Memory used: {sys.getsizeof(res)} bytes\")\n",
    "print()\n",
    "\n",
    "# sum of all the numbers\n",
    "print(sum(res))"
   ]
  },
  {
   "cell_type": "code",
   "execution_count": 36,
   "metadata": {},
   "outputs": [],
   "source": [
    "# First n numbers - using a generator function\n",
    "\n",
    "def first_n_gen(n):\n",
    "    \n",
    "    num = 0\n",
    "    \n",
    "    while num < n:\n",
    "        yield num\n",
    "        num += 1\n",
    "\n",
    "# Generator yields items (as they are requested) instead of returning a list \n",
    "# at the end of the function"
   ]
  },
  {
   "cell_type": "code",
   "execution_count": 37,
   "metadata": {},
   "outputs": [
    {
     "name": "stdout",
     "output_type": "stream",
     "text": [
      "<class 'generator'>\n",
      "\n",
      "Size of res_gen in bytes: 192\n"
     ]
    }
   ],
   "source": [
    "res_gen = first_n_gen(1_000_000)\n",
    "\n",
    "# the result is a generator\n",
    "print(type(res_gen))\n",
    "\n",
    "print()\n",
    "print(f\"Size of res_gen in bytes: {sys.getsizeof(res_gen)}\")"
   ]
  },
  {
   "cell_type": "code",
   "execution_count": 38,
   "metadata": {},
   "outputs": [
    {
     "name": "stdout",
     "output_type": "stream",
     "text": [
      "499999500000\n"
     ]
    }
   ],
   "source": [
    "# generator generates values one-by-one, on demand\n",
    "\n",
    "# calculate the sum of all the values\n",
    "print(sum(res_gen))"
   ]
  },
  {
   "cell_type": "code",
   "execution_count": 39,
   "metadata": {},
   "outputs": [
    {
     "name": "stdout",
     "output_type": "stream",
     "text": [
      "0\n",
      "\n",
      "499999500000\n"
     ]
    }
   ],
   "source": [
    "# once all generator values have been requested,\n",
    "# it is \"used up\" - no values remain to return\n",
    "\n",
    "# so we can not iterate through a generator twice in a row\n",
    "\n",
    "print(sum(res_gen))\n",
    "print()\n",
    "\n",
    "# but we can create a new generator object and iterate through it\n",
    "\n",
    "print(sum(first_n_gen(1_000_000)))"
   ]
  },
  {
   "cell_type": "markdown",
   "metadata": {},
   "source": [
    "---\n",
    "\n",
    "#### 3.2 – Ģeneratoru izveide\n",
    "\n",
    "Iteratori ir objekti, kas ļauj \"pārvietoties\" (iterēt) pa datu kolekciju elementiem.\n",
    "\n",
    "Ģeneratoru izveidei tiek pielietots iteratoru protokols:\n",
    "- `__iter__()` tiek izsaukta, lai inicializētu iteratoru. Tai ir jāatgriež iteratora objekts (parasti tā atgriež `self`)\n",
    "- `__next__()` tiek izmantota, lai iterētu pa iteratoru (tā atgriež nākamo iteratora vērtību)\n",
    "- kad datu plūsma ir beigusies, iteratoram ir jāatgriež `StopIteration` izņēmums (exception).\n",
    "\n",
    "Kad ģenerators ir izveidots, jūs varat iterēt pa to, izmantojot `for` ciklu, vai iegūt vērtības tieši, izmantojot Python `next()` funkciju."
   ]
  },
  {
   "cell_type": "code",
   "execution_count": 40,
   "metadata": {},
   "outputs": [
    {
     "name": "stdout",
     "output_type": "stream",
     "text": [
      "0\n",
      "1\n",
      "2\n",
      "3\n",
      "4\n",
      "5\n",
      "6\n",
      "7\n",
      "8\n",
      "9\n"
     ]
    }
   ],
   "source": [
    "res = first_n_gen(10)\n",
    "\n",
    "for i in res:\n",
    "    print(i)"
   ]
  },
  {
   "cell_type": "code",
   "execution_count": 41,
   "metadata": {},
   "outputs": [
    {
     "name": "stdout",
     "output_type": "stream",
     "text": [
      "499999500000\n"
     ]
    }
   ],
   "source": [
    "# we could implement an iterator directly\n",
    "# but that would require more code than necessary\n",
    "\n",
    "# generators make this code simpler and easier to understand\n",
    "\n",
    "class first_n_iter:\n",
    "\n",
    "    def __init__(self, n):\n",
    "        self.n = n\n",
    "        self.num = 0\n",
    "\n",
    "    def __iter__(self):\n",
    "        return self\n",
    "\n",
    "    def __next__(self):\n",
    "        if self.num < self.n:\n",
    "            cur, self.num = self.num, self.num+1\n",
    "            return cur\n",
    "            \n",
    "        raise StopIteration()\n",
    "\n",
    "print(sum(first_n(1_000_000)))"
   ]
  },
  {
   "cell_type": "code",
   "execution_count": 43,
   "metadata": {},
   "outputs": [
    {
     "name": "stdout",
     "output_type": "stream",
     "text": [
      "__class__\n",
      "__del__\n",
      "__delattr__\n",
      "__dir__\n",
      "__doc__\n",
      "__eq__\n",
      "__format__\n",
      "__ge__\n",
      "__getattribute__\n",
      "__getstate__\n",
      "__gt__\n",
      "__hash__\n",
      "__init__\n",
      "__init_subclass__\n",
      "__iter__\n",
      "__le__\n",
      "__lt__\n",
      "__name__\n",
      "__ne__\n",
      "__new__\n",
      "__next__\n",
      "__qualname__\n",
      "__reduce__\n",
      "__reduce_ex__\n",
      "__repr__\n",
      "__setattr__\n",
      "__sizeof__\n",
      "__str__\n",
      "__subclasshook__\n",
      "close\n",
      "gi_code\n",
      "gi_frame\n",
      "gi_running\n",
      "gi_suspended\n",
      "gi_yieldfrom\n",
      "send\n",
      "throw\n"
     ]
    }
   ],
   "source": [
    "# methods and attributes that a generator object has:\n",
    "\n",
    "my_data = first_n_gen(5)\n",
    "\n",
    "for name in dir(my_data):\n",
    "    print(name)"
   ]
  },
  {
   "cell_type": "code",
   "execution_count": 44,
   "metadata": {},
   "outputs": [
    {
     "name": "stdout",
     "output_type": "stream",
     "text": [
      "0\n"
     ]
    }
   ],
   "source": [
    "# Generators are lazy and you can only iterate through them once\n",
    "\n",
    "next_val = next(my_data)\n",
    "print(next_val)"
   ]
  },
  {
   "cell_type": "code",
   "execution_count": 45,
   "metadata": {},
   "outputs": [
    {
     "name": "stdout",
     "output_type": "stream",
     "text": [
      "1\n",
      "2\n",
      "3\n",
      "4\n"
     ]
    }
   ],
   "source": [
    "print(next(my_data))\n",
    "print(next(my_data))\n",
    "print(next(my_data))\n",
    "print(next(my_data))"
   ]
  },
  {
   "cell_type": "code",
   "execution_count": 47,
   "metadata": {},
   "outputs": [],
   "source": [
    "# Data has finished, this will raise a StopIteration exception\n",
    "#  - uncomment the next line to see it\n",
    "#print(next(my_data))"
   ]
  },
  {
   "cell_type": "code",
   "execution_count": 48,
   "metadata": {},
   "outputs": [
    {
     "name": "stdout",
     "output_type": "stream",
     "text": [
      "0\n",
      "1\n",
      "2\n",
      "3\n",
      "4\n"
     ]
    }
   ],
   "source": [
    "# for loops know how to use the iterator protocol\n",
    "# (e.g. they handle the StopIteration exception)\n",
    "\n",
    "for item in first_n_gen(5):\n",
    "    print(item)"
   ]
  },
  {
   "cell_type": "code",
   "execution_count": 49,
   "metadata": {},
   "outputs": [],
   "source": [
    "# let's add some print() calls\n",
    "\n",
    "def my_gen_fn(n):\n",
    "    print(\"In generator function\")\n",
    "\n",
    "    num = 0\n",
    "    \n",
    "    while num < n:\n",
    "        print(\"- before yield\")\n",
    "        yield num\n",
    "        print(\"- after yield\")\n",
    "        \n",
    "        num += 1\n",
    "\n",
    "    print(\"End of the function\")"
   ]
  },
  {
   "cell_type": "code",
   "execution_count": 50,
   "metadata": {},
   "outputs": [],
   "source": [
    "# this will call the my_gen_fn() function\n",
    "# what will it print?\n",
    "\n",
    "my_gen = my_gen_fn(6)"
   ]
  },
  {
   "cell_type": "code",
   "execution_count": 51,
   "metadata": {},
   "outputs": [
    {
     "name": "stdout",
     "output_type": "stream",
     "text": [
      "In generator function\n",
      "- before yield\n",
      "0\n",
      "\n"
     ]
    }
   ],
   "source": [
    "# let's get some values from this generator\n",
    "# what message gets printed when?\n",
    "\n",
    "print(next(my_gen))\n",
    "print()\n"
   ]
  },
  {
   "cell_type": "code",
   "execution_count": 52,
   "metadata": {},
   "outputs": [
    {
     "name": "stdout",
     "output_type": "stream",
     "text": [
      "- after yield\n",
      "- before yield\n",
      "1\n",
      "\n"
     ]
    }
   ],
   "source": [
    "print(next(my_gen))\n",
    "print()"
   ]
  },
  {
   "cell_type": "markdown",
   "metadata": {},
   "source": [
    "---\n",
    "\n",
    "**Ģeneratori var būt bezgalīgi** (piemēram, tie var ģenerēt bezgalīgas virknes):\n",
    "- šādos gadījumos programmai, kas izmanto ģeneratoru, ir jāierobežo iterāciju skaits un jāpārliecinās, ka tās izpilde kaut kādā brīdī tiek pabeigta."
   ]
  },
  {
   "cell_type": "code",
   "execution_count": 53,
   "metadata": {},
   "outputs": [],
   "source": [
    "# Fibonacci sequence – an infinite generator\n",
    "\n",
    "def fibonacci_gen():\n",
    "    \"\"\"\n",
    "    Generates a Fibonacci sequence.\n",
    "    \"\"\"\n",
    "    a, b = 0, 1\n",
    "\n",
    "    while True:\n",
    "        yield a\n",
    "        a, b = b, a+b"
   ]
  },
  {
   "cell_type": "code",
   "execution_count": 54,
   "metadata": {},
   "outputs": [
    {
     "name": "stdout",
     "output_type": "stream",
     "text": [
      "0\n",
      "1\n",
      "1\n",
      "2\n",
      "3\n",
      "5\n",
      "8\n",
      "13\n",
      "21\n",
      "34\n",
      "55\n",
      "89\n",
      "144\n",
      "233\n",
      "377\n",
      "610\n",
      "987\n",
      "1597\n",
      "2584\n",
      "4181\n"
     ]
    }
   ],
   "source": [
    "# we can use islice() to limit the length of the iterator\n",
    "\n",
    "# https://docs.python.org/3/library/itertools.html#itertools.islice\n",
    "from itertools import islice\n",
    "\n",
    "my_numbers = fibonacci_gen()\n",
    "my_numbers = islice(my_numbers, 20)\n",
    "\n",
    "for item in my_numbers:\n",
    "    print(item)"
   ]
  },
  {
   "cell_type": "code",
   "execution_count": 55,
   "metadata": {},
   "outputs": [
    {
     "name": "stdout",
     "output_type": "stream",
     "text": [
      "Rīga\n",
      "Liepāja\n",
      "Valmiera\n"
     ]
    }
   ],
   "source": [
    "# you can use multiple yield statements\n",
    "# ... but in this example you might as well use a list\n",
    "\n",
    "def city_gen():\n",
    "    yield \"Rīga\"\n",
    "    # we could have done some processing here\n",
    "    yield \"Liepāja\"\n",
    "    yield \"Valmiera\"\n",
    "\n",
    "for item in city_gen():\n",
    "    print(item)"
   ]
  },
  {
   "cell_type": "markdown",
   "metadata": {},
   "source": [
    "---\n",
    "\n",
    "#### 3.3. Ģeneratoru īspieraksts\n",
    "\n",
    "Ģeneratoru īspieraksts (generator expressions) ir līdzīgs sarakstu īspierakstam (list comprehensions), izņemot to, ka tajā tiek izmantotas parastās iekavas `()`, nevis kvadrātiekavas `[]`.\n",
    "\n",
    "Ģeneratoru īspieraksts izveido ģeneratora objektu, nevis sarakstu, un tas:\n",
    "- izmanto \"slinko\" iterēšanu\n",
    "- taupa atmiņu, neizveidojot visu sarakstu atmiņā"
   ]
  },
  {
   "cell_type": "code",
   "execution_count": 56,
   "metadata": {},
   "outputs": [
    {
     "name": "stdout",
     "output_type": "stream",
     "text": [
      "472\n",
      "\n",
      "[0, 1, 4, 9, 16, 25, 36, 49, 64, 81, 100, 121, 144, 169, 196, 225, 256, 289, 324, 361, 400, 441, 484, 529, 576, 625, 676, 729, 784, 841, 900, 961, 1024, 1089, 1156, 1225, 1296, 1369, 1444, 1521, 1600, 1681, 1764, 1849, 1936, 2025, 2116, 2209, 2304, 2401]\n"
     ]
    }
   ],
   "source": [
    "squares = [n**2 for n in range(50)]\n",
    "\n",
    "print(sys.getsizeof(squares))\n",
    "print()\n",
    "\n",
    "print(squares)"
   ]
  },
  {
   "cell_type": "code",
   "execution_count": 57,
   "metadata": {},
   "outputs": [
    {
     "name": "stdout",
     "output_type": "stream",
     "text": [
      "200\n",
      "<class 'generator'>\n",
      "\n",
      "<generator object <genexpr> at 0x12c3cedc0>\n"
     ]
    }
   ],
   "source": [
    "squares_gen = (n**2 for n in range(50))\n",
    "\n",
    "print(sys.getsizeof(squares_gen))\n",
    "print(type(squares_gen))\n",
    "print()\n",
    "\n",
    "print(squares_gen)"
   ]
  },
  {
   "cell_type": "code",
   "execution_count": 58,
   "metadata": {},
   "outputs": [
    {
     "name": "stdout",
     "output_type": "stream",
     "text": [
      "[0, 1, 4, 9, 16, 25, 36, 49, 64, 81, 100, 121, 144, 169, 196, 225, 256, 289, 324, 361, 400, 441, 484, 529, 576, 625, 676, 729, 784, 841, 900, 961, 1024, 1089, 1156, 1225, 1296, 1369, 1444, 1521, 1600, 1681, 1764, 1849, 1936, 2025, 2116, 2209, 2304, 2401]\n"
     ]
    }
   ],
   "source": [
    "print(list(squares_gen))"
   ]
  },
  {
   "cell_type": "code",
   "execution_count": 59,
   "metadata": {},
   "outputs": [
    {
     "name": "stdout",
     "output_type": "stream",
     "text": [
      "40425\n"
     ]
    }
   ],
   "source": [
    "print(sum(n**2 for n in range(50)))"
   ]
  },
  {
   "cell_type": "markdown",
   "metadata": {},
   "source": [
    "---\n",
    "\n",
    "#### 3.4. Ģeneratori kā datu apstrādes plūsmas\n",
    "\n",
    "[**Generator Tricks for Systems Programmers, v3.0**](https://www.dabeaz.com/generators/)\n",
    "- autors: David M. Beazley\n",
    "- apskata dažādus paņēmienus, kā pielietot ģeneratoru funkcijas un ģeneratoru īspierakstu sistēmas programmēšanas kontekstā (žurnālfailu apstrāde, teksta parsēšana u.t.t.)\n",
    "\n",
    "https://github.com/dabeaz/generators\n",
    "\n",
    "https://www.dabeaz.com/generators/Generators.pdf\n",
    "\n",
    "Ģeneratoru funkcijas un ģeneratoru īspieraksts ir jaudīgi rīki lielu vai straumējamu (streaming) datu kopu apstrādei. To \"slinkā\" izpilde un atmiņas efektīvā izmantošana padara tos piemērotus tādiem uzdevumiem kā žurnālfailu apstrāde, teksta parsēšana un lielu datu plūsmu pārvaldība."
   ]
  },
  {
   "cell_type": "markdown",
   "metadata": {},
   "source": [
    "---\n",
    "\n",
    "**Uzdevums**: Aprēķināt kopējo pārsūtīto baitu skaitu, summējot pēdējo datu kolonnu Apache tīmekļa servera žurnālā.\n",
    "\n",
    "```\n",
    "81.107.39.38 - ... \"GET /favicon.ico HTTP/1.1\" 404 133\n",
    "81.107.39.38 - ... \"GET /ply/bookplug.gif HTTP/1.1\" 200 23903\n",
    "81.107.39.38 - ... \"GET /ply/ply.html HTTP/1.1\" 200 97238\n",
    "```\n",
    "\n",
    "---\n",
    "\n",
    "**Skat. David Beazley prezentāciju no 30. slaida**\n",
    "\n",
    "```\n",
    "with open(\"access-log\") as wwwlog:\n",
    "\n",
    "    bytecolumn = (line.rsplit(None,1)[1] for line in wwwlog)\n",
    "    bytes_sent = (int(x) for x in bytecolumn if x != '-')\n",
    "    print(\"Total\", sum(bytes_sent))\n",
    "```\n",
    "\n",
    "**Šī datu apstrādes plūsma tika īstenota izmantojot ģeneratoru īspierakstu.**\n",
    "\n",
    "```\n",
    "open(\"access-log\") => bytecolumn => bytes_sent => sum()\n",
    "```\n",
    "\n",
    "---"
   ]
  },
  {
   "cell_type": "markdown",
   "metadata": {},
   "source": [
    "## Nodarbības pārskats\n",
    "\n",
    "Šajā nodarbībā Jūs apguvāt šādas tēmas:\n",
    "\n",
    "* Dekoratori - kas tie ir un kā tos pielietot\n",
    "* Kontekstu pārvaldnieki - kas tie ir un kā tos pielietot\n",
    "* Ģeneratori un ģeneratoru īspieraksts - kas tie ir un kā tos pielietot"
   ]
  },
  {
   "cell_type": "markdown",
   "metadata": {},
   "source": [
    "## Praktiskie uzdevumi\n",
    "\n",
    "### 1. uzdevums - Izveidojiet dekoratoru\n",
    "\n",
    "Izveidojiet dekoratoru, kas nodrukā Jūsu vārdu pirms un pēc dekorētās funkcijas izsaukuma.\n",
    "\n",
    "### 2. uzdevums - Izveidojiet konteksta pārvaldnieku\n",
    "\n",
    "* Izveidojiet konteksta pārvaldnieku, kas nodrukā Jūsu vārdu pirms un pēc koda bloka izsaukuma.\n",
    "* Papildiniet konteksta pārvaldnieku ar koda bloka izpildes laika uzskaiti.\n",
    "\n",
    "### 3. uzdevums - Pielietojiet ģeneratorus datu apstrādē\n",
    "\n",
    "Pielietojiet ģeneratorus lai izveidotu datu apstrādes plūsmu, kas sastāv no šādiem posmiem:\n",
    "\n",
    "- atvērt teksta failu\n",
    "- sadalīt nolasīto tekstu vārdos (izveidojot ģeneratoru, kas atgriež vārdus / tokenus)\n",
    "- atfiltrēt vārdus, kas ir vairāk nekā 3 simbolus gari\n",
    "- saskaitīt katra vārda pieminēšanas biežumu\n",
    "- nodrukāt iegūto vārdu lietojuma statistiku"
   ]
  },
  {
   "cell_type": "markdown",
   "metadata": {},
   "source": [
    "## Papildus resursi\n",
    "\n",
    "### 1. tēma\n",
    "\n",
    "- [Python Decorators](https://realpython.com/primer-on-python-decorators/) apmācības materiāls\n",
    "- [@functools.wraps](https://docs.python.org/3/library/functools.html#functools.wraps) dekorators\n",
    "- [Flask Quickstart](https://flask.palletsprojects.com/en/2.3.x/quickstart/)\n",
    "- [Data Classes in Python 3.7+](https://realpython.com/python-data-classes/)\n",
    "\n",
    "### 2. tēma\n",
    "\n",
    "- [Context Manager](https://realpython.com/python-with-statement/)\n",
    "\n",
    "### 3. tēma\n",
    "\n",
    "- [Python Wiki: Generators](https://wiki.python.org/moin/Generators)\n",
    "- [How to Use Generators and yield in Python](https://realpython.com/introduction-to-python-generators/) – Real Python"
   ]
  }
 ],
 "metadata": {
  "kernelspec": {
   "display_name": "Python 3 (ipykernel)",
   "language": "python",
   "name": "python3"
  },
  "language_info": {
   "codemirror_mode": {
    "name": "ipython",
    "version": 3
   },
   "file_extension": ".py",
   "mimetype": "text/x-python",
   "name": "python",
   "nbconvert_exporter": "python",
   "pygments_lexer": "ipython3",
   "version": "3.12.7"
  }
 },
 "nbformat": 4,
 "nbformat_minor": 4
}
