{
 "cells": [
  {
   "cell_type": "markdown",
   "metadata": {},
   "source": [
    "![LU Logo](https://www.lu.lv/fileadmin/user_upload/LU.LV/www.lu.lv/Logo/Logo_jaunie/LU_logo_LV_horiz.png)\n"
   ]
  },
  {
   "cell_type": "markdown",
   "metadata": {},
   "source": [
    "# 1. nedēļa: Ievads un Python pamati\n",
    "\n",
    "\n",
    "\n",
    "\n"
   ]
  },
  {
   "cell_type": "markdown",
   "metadata": {},
   "source": [
    "## Kopsavilkums\n",
    "\n",
    "Nodarbībā tiks apskatītas šādas tēmas:\n",
    "\n",
    "* Ievads un Python programmēšanas valodas vēsture\n",
    "* Python instalēšana un programmēšanas vides sagatavošana\n",
    "* REPL (Read-Evaluate-Print Loop) vide, palīdzība\n",
    "* Sintakse un mainīgie: Python sintakses apgūšana\n",
    "* Datu tipi: teksta rindas, skaitļi (veseli skaitļi, daļskaitļi), loģiskās vērtības\n",
    "* Pamata operatori: aritmētiskie operatori, piešķiršana, salīdzināšana, loģiskie operatori\n",
    "* Mainīgie: mainīgo izveide un pielietošana\n",
    "\n",
    "## Prasības\n",
    "\n",
    "* Zināšanas par programmēšanas pamatjēdzieniem\n",
    "\n",
    "## Nodarbības mērķi\n",
    "\n",
    "Nodarbības beigās studenti varēs:\n",
    "\n",
    "* darboties ar Python interpretatoru\n",
    "* izveidot vienkāršas Python programmas\n",
    "* definēt un lietot mainīgos\n",
    "* lietot salīdzināšanas operatorus"
   ]
  },
  {
   "cell_type": "markdown",
   "metadata": {},
   "source": [
    "---\n",
    "\n",
    "## 1. tēma: - Python: vēsture un motivācija\n",
    "\n",
    "![Python XKCD comic](https://imgs.xkcd.com/comics/python.png)\n",
    "\n",
    "Avots: https://xkcd.com/353/\n"
   ]
  },
  {
   "cell_type": "markdown",
   "metadata": {},
   "source": [
    "### 1.1 - Vēsture"
   ]
  },
  {
   "cell_type": "markdown",
   "metadata": {},
   "source": [
    "* Python programmēšanas valodu izveidoja Guido van Rossum 1980-to gadu beigās\n",
    "  * ABC programmēšanas valodas pēctecis\n",
    "\n",
    "![Guido van Rossum](https://github.com/ValRCS/python_public_resources/blob/main/img/Guido_van_Rossum_2012_w400.jpg?raw=true)\n",
    "\n",
    "* Publiski izlaists 1991. gadā\n",
    "  * kļūdu situāciju apstrāde\n",
    "  * klases un mantošana\n",
    "  * moduļu sistēma\n",
    "  * pamata datu tipi\n",
    "\n",
    "---\n",
    "\n",
    "* [Dokumentārā filma par Python](https://www.youtube.com/watch?v=GfH4QL4VqJ0) (2025)\n",
    "\n",
    "---\n",
    "\n",
    "* Python 2.0, izlaists 2000. gada oktobrī\n",
    "  * Python 2 atbalsts tika pārtraukts 2020. gada 1. janvārī\n",
    "\n",
    "* Python 3.0, izlaists 2008. gada decembrī\n",
    "\n",
    "* Jaunākā versija: Python 3.13, izlaista 2024. gada oktobrī\n",
    "* Ikgadējs publicēšanas cikls - 2025. gadā tiks publicēts Python 3.14, u.t.t.\n",
    "\n",
    "* Informācija par aktuālajām Python versijām: https://devguide.python.org/versions/\n",
    "\n",
    "* Python versiju lejupielāde: https://www.python.org/downloads/\n"
   ]
  },
  {
   "cell_type": "markdown",
   "metadata": {},
   "source": [
    "### 1.2 - Python: motivācija\n"
   ]
  },
  {
   "cell_type": "markdown",
   "metadata": {},
   "source": [
    "* Python ir populāra programmēšanas valoda\n",
    "* Viegli apgūstama\n",
    "* \"Glue\" language\n",
    "* To lieto gan lieli, gan mazi uzņēmumi un organizācijas\n",
    "* Daudz-paradigmu valoda (objekt-orientēta, funkcionāla, ...)"
   ]
  },
  {
   "cell_type": "markdown",
   "metadata": {},
   "source": [
    "**Python ir populāra programmēšanas valoda:**\n",
    "* https://www.tiobe.com/tiobe-index/\n",
    "\n",
    "![TIOBE Programming Language Index](https://github.com/ValRCS/python_public_resources/blob/main/img/tiobe-index-2023_08.png?raw=true)\n",
    "\n",
    "**\"Batteries included\" pieeja:**\n",
    "* [Python standarta bibliotēkā](https://docs.python.org/3/library/) ir atrodamas daudz bibliotēkas dažādu darbību veikšanai\n",
    "* Papildus Python bibliotēkas ir atrodamas [Python Package Index](https://pypi.org/) (Python pakotņu indeksā)\n",
    "\n",
    "![Batteries included](https://github.com/ValRCS/python_public_resources/blob/main/img/batteries.png?raw=true)"
   ]
  },
  {
   "cell_type": "markdown",
   "metadata": {},
   "source": [
    "### 1.3 - Programmēšana\n",
    "\n",
    "- Algoritmi (izpildāmo darbību apraksts)\n",
    "- Datori dara tikai un vienīgi to, ko mēs tiem liekam darīt\n",
    "- \"Make it work, make it right, make it fast\" (reāli bieži vien pietiek ar posmu \"make it work\")\n",
    "- No kļūdu ziņojumiem nav jābaidās, tie parasti izskaidro kas ir jāsalabo"
   ]
  },
  {
   "cell_type": "markdown",
   "metadata": {},
   "source": [
    "### 1.4 - Python programmēšana vide\n"
   ]
  },
  {
   "cell_type": "markdown",
   "metadata": {},
   "source": [
    "#### Python instalēšanas iespējas\n",
    "\n",
    "a) Python tīmekļa vietne (standalone installation) https://www.python.org/downloads/\n",
    "\n",
    "b) Anaconda (instalācija, kurā ir iekļautas daudz papildus bibliotēkas un Jupyter Notebooks vide) https://www.anaconda.com/download/\n",
    "\n",
    "c) Google Colab (mākoņserviss, nekas nav jāinstalē - Google versija Jupyter Notebooks videi) https://colab.research.google.com/\n",
    "\n",
    "d) Repl.it (mākoņserviss, nekas nav jāinstalē ) https://repl.it/ vai citas līdzīgas vietnes\n",
    "\n",
    "e) Linux un macOS jau ir iekļauta Python versija, tomēr ir ieteicams uzinstalēt savu (parasti jaunāku) versiju izmantojot kādu no iepriekš apskatītajām metodēm vai pielietojot operētājsistēmas pakotņu pārvaldnieku.\n"
   ]
  },
  {
   "cell_type": "markdown",
   "metadata": {},
   "source": [
    "#### Python darbināšana\n",
    "\n",
    "Python = intepretēta valoda (interpretators komandas izpilda vienu pēc otras)\n",
    "- REPL (Read,Evaluate,Print Loop) - interpretatora dialoga cikls: nolasīt komandu, izpildīt to, izdrukāt rezultātu\n",
    "\n",
    "Python programmu izveides un izpildes iespējas:\n",
    "\n",
    "a) ievadot komandas Python interpretatorā (REPL dialogā);\n",
    "\n",
    "b) Jupyter notebook vidē (līdzīgi Python REPL videi, bet komandas tiek izpildītas tīmekļa saskarnē);\n",
    "\n",
    "c) kā atsevišķas (stand-alone) lietones (rediģējot Python programmas kodu kādā no pirmkoda redaktoriem vai izstrādes vidēm). \n"
   ]
  },
  {
   "cell_type": "markdown",
   "metadata": {},
   "source": [
    "#### Kā atvērt šo failu Google Colab vidē"
   ]
  },
  {
   "cell_type": "markdown",
   "metadata": {},
   "source": [
    "Atveriet šo failu (`week_1_Python_basics-LV.ipynb`) Github vietnē:\n",
    "- https://github.com/CaptSolo/LU_Python_course/tree/main/notebooks\n",
    "\n",
    "Lejuplādējiet šo Jupyter Notebook failu: nospiediet pogu \"Download raw file\".\n",
    "\n",
    "Atveriet [Google Colab](https://colab.research.google.com/), izvēlieties \"Upload\" sadaļu un augšuplādējiet šo Jupyter notebook failu.\n",
    "\n",
    "- Augšuplādētie faili (Jupyter notebooks) ir atrodami [Google Drive](https://drive.google.com/) direktorijā `Colab Notebooks`"
   ]
  },
  {
   "cell_type": "markdown",
   "metadata": {},
   "source": [
    "#### Jupyter Notebooks lietošana\n",
    "\n",
    "Jupyter Notebook vidē Jūs darbojaties ar satura šūnām (cells), kurās atrodas Python programmas koda fragmenti vai Markdown sintaksē noformēts teksts.\n",
    "\n",
    "Šīs taustiņu kombinācijas darbosies gan lokāli instalētā Jupyter Notebook, gan Google Colab vidē:\n",
    "\n",
    "- Ctrl-Enter izpilda šobrīd aktīvās šūnas kodu\n",
    "- Alt-Enter izpilda aktīvās šūnas kodu un zem aktīvās šūnas izveido jaunu koda šūnu\n",
    "- Esc-A izveido jaunu koda šūnu virs šobrīd aktīvās šūnas\n",
    "- Esc-B izveido jaunu koda šūnu zem aktīvās šūnas\n",
    "\n",
    "Šīs kombinācijas nedarbosies Google Colab vidē:\n",
    "\n",
    "- Esc-M nomaina šūnas tipu uz Markdown teksta šūnu (https://guides.github.com/pdfs/markdown-cheatsheet-online.pdf)\n",
    "- Esc-Y nomaina šūnas tipu uz Python koda šūnu\n",
    "- Esc-dd izdzēš aktīvo šūnu\n"
   ]
  },
  {
   "cell_type": "code",
   "execution_count": 4,
   "metadata": {},
   "outputs": [],
   "source": [
    "# This is a Python comment\n",
    "# Šis ir Python komentārs (komentāri sākas ar # simbolu)\n",
    "\n",
    "# Izveidojiet jaunu Python koda šūnu un izpildiet tajā kādu Python komandu\n",
    "\n",
    "mainiigais = 42"
   ]
  },
  {
   "cell_type": "code",
   "execution_count": 5,
   "metadata": {},
   "outputs": [
    {
     "name": "stdout",
     "output_type": "stream",
     "text": [
      "42\n"
     ]
    }
   ],
   "source": [
    "print(mainiigais)"
   ]
  },
  {
   "cell_type": "markdown",
   "metadata": {},
   "source": [
    "## 2. tēma: - sintakse, datu tipi, vērtības\n",
    "\n",
    "### 2.1 - Python sintakse"
   ]
  },
  {
   "cell_type": "markdown",
   "metadata": {},
   "source": [
    "#### Vienkārša Python programma:"
   ]
  },
  {
   "cell_type": "code",
   "execution_count": 6,
   "metadata": {},
   "outputs": [
    {
     "name": "stdout",
     "output_type": "stream",
     "text": [
      "Hello, world!\n"
     ]
    }
   ],
   "source": [
    "print(\"Hello, world!\")   # Šis ir komentārs"
   ]
  },
  {
   "cell_type": "code",
   "execution_count": 7,
   "metadata": {},
   "outputs": [
    {
     "name": "stdout",
     "output_type": "stream",
     "text": [
      "Hello, world!\n",
      "Some more text\n"
     ]
    }
   ],
   "source": [
    "# Katra komanda sākas jaunā rindā \n",
    "# Teksta rindas pieraksta izmantojot ' vai \" simbolus\n",
    "# Komentāri sākas ar # simbolu un turpinās līdz rindas beigām\n",
    "\n",
    "print(\"Hello, world!\")\n",
    "print(\"Some more text\")"
   ]
  },
  {
   "cell_type": "markdown",
   "metadata": {},
   "source": [
    "#### Print ir funkcija. Mēs varam Python pajautāt parādīt palīdzības tekstu par to:"
   ]
  },
  {
   "cell_type": "code",
   "execution_count": 8,
   "metadata": {},
   "outputs": [
    {
     "name": "stdout",
     "output_type": "stream",
     "text": [
      "Help on built-in function print in module builtins:\n",
      "\n",
      "print(*args, sep=' ', end='\\n', file=None, flush=False)\n",
      "    Prints the values to a stream, or to sys.stdout by default.\n",
      "\n",
      "    sep\n",
      "      string inserted between values, default a space.\n",
      "    end\n",
      "      string appended after the last value, default a newline.\n",
      "    file\n",
      "      a file-like object (stream); defaults to the current sys.stdout.\n",
      "    flush\n",
      "      whether to forcibly flush the stream.\n",
      "\n"
     ]
    }
   ],
   "source": [
    "help(print)"
   ]
  },
  {
   "cell_type": "code",
   "execution_count": 9,
   "metadata": {},
   "outputs": [
    {
     "name": "stdout",
     "output_type": "stream",
     "text": [
      "Some text followed by a number: 100\n"
     ]
    }
   ],
   "source": [
    "# Print izsaukumam var būt vairāki parametri:\n",
    "\n",
    "print(\"Some text followed by a number:\", 100)"
   ]
  },
  {
   "cell_type": "code",
   "execution_count": null,
   "metadata": {},
   "outputs": [],
   "source": [
    "# Izdrukājiet kaut ko arī Jūs:\n",
    "\n",
    "\n"
   ]
  },
  {
   "cell_type": "markdown",
   "metadata": {},
   "source": [
    "### 2.2 - Vērtības un datu tipi\n",
    "\n",
    "Python programmēšanas valodā viss, ar ko mēs darbojamies, ir objekti\n",
    "* Katram objektam ir savs tips (ar tā atribūtiem un metodēm) un vērtība\n",
    "* Daļa objektu tipu ir maināmi (mutable), savukārt citu objektu vērtības nevar mainīt \n",
    "\n",
    "Vienkāršākie Python datu tipi:\n",
    "\n",
    "* Teksta rindas = str\n",
    "* Skaitļi\n",
    "  * veseli skaitļi (nav ierobežots garums) = int \n",
    "  * daļskaitļi (double tipa skaitļi ar peldošo komatu) = float\n",
    "* Loģiskās vērtības = bool"
   ]
  },
  {
   "cell_type": "markdown",
   "metadata": {},
   "source": [
    "#### Teksta rindas\n",
    "\n",
    "Teksta rindas ir Unicode simbolu virknes.\n",
    "\n",
    "Teksta rindas pieraksta ar ' vai \" pēdiņām."
   ]
  },
  {
   "cell_type": "code",
   "execution_count": 10,
   "metadata": {},
   "outputs": [
    {
     "data": {
      "text/plain": [
       "'This is my text'"
      ]
     },
     "execution_count": 10,
     "metadata": {},
     "output_type": "execute_result"
    }
   ],
   "source": [
    "'This is my text'"
   ]
  },
  {
   "cell_type": "code",
   "execution_count": 11,
   "metadata": {},
   "outputs": [
    {
     "data": {
      "text/plain": [
       "'Double quotes work too'"
      ]
     },
     "execution_count": 11,
     "metadata": {},
     "output_type": "execute_result"
    }
   ],
   "source": [
    "\"Double quotes work too\""
   ]
  },
  {
   "cell_type": "code",
   "execution_count": 12,
   "metadata": {},
   "outputs": [
    {
     "name": "stdout",
     "output_type": "stream",
     "text": [
      "This text contains \"quotes\".\n",
      "Another way how to include \"quotes\".\n"
     ]
    }
   ],
   "source": [
    "# Teksta rindās var būt arī pēdiņu ' vai \" simboli:\n",
    "\n",
    "print('This text contains \"quotes\".')\n",
    "print(\"Another way how to include \\\"quotes\\\".\")"
   ]
  },
  {
   "cell_type": "code",
   "execution_count": 13,
   "metadata": {},
   "outputs": [
    {
     "data": {
      "text/plain": [
       "str"
      ]
     },
     "execution_count": 13,
     "metadata": {},
     "output_type": "execute_result"
    }
   ],
   "source": [
    "# Ar type funkcijas palīdzību mēs varam uzzināt kāds ir objekta tips\n",
    "type('This is my text')"
   ]
  },
  {
   "cell_type": "code",
   "execution_count": 14,
   "metadata": {},
   "outputs": [
    {
     "name": "stdout",
     "output_type": "stream",
     "text": [
      "Help on class str in module builtins:\n",
      "\n",
      "class str(object)\n",
      " |  str(object='') -> str\n",
      " |  str(bytes_or_buffer[, encoding[, errors]]) -> str\n",
      " |\n",
      " |  Create a new string object from the given object. If encoding or\n",
      " |  errors is specified, then the object must expose a data buffer\n",
      " |  that will be decoded using the given encoding and error handler.\n",
      " |  Otherwise, returns the result of object.__str__() (if defined)\n",
      " |  or repr(object).\n",
      " |  encoding defaults to sys.getdefaultencoding().\n",
      " |  errors defaults to 'strict'.\n",
      " |\n",
      " |  Methods defined here:\n",
      " |\n",
      " |  __add__(self, value, /)\n",
      " |      Return self+value.\n",
      " |\n",
      " |  __contains__(self, key, /)\n",
      " |      Return bool(key in self).\n",
      " |\n",
      " |  __eq__(self, value, /)\n",
      " |      Return self==value.\n",
      " |\n",
      " |  __format__(self, format_spec, /)\n",
      " |      Return a formatted version of the string as described by format_spec.\n",
      " |\n",
      " |  __ge__(self, value, /)\n",
      " |      Return self>=value.\n",
      " |\n",
      " |  __getitem__(self, key, /)\n",
      " |      Return self[key].\n",
      " |\n",
      " |  __getnewargs__(...)\n",
      " |\n",
      " |  __gt__(self, value, /)\n",
      " |      Return self>value.\n",
      " |\n",
      " |  __hash__(self, /)\n",
      " |      Return hash(self).\n",
      " |\n",
      " |  __iter__(self, /)\n",
      " |      Implement iter(self).\n",
      " |\n",
      " |  __le__(self, value, /)\n",
      " |      Return self<=value.\n",
      " |\n",
      " |  __len__(self, /)\n",
      " |      Return len(self).\n",
      " |\n",
      " |  __lt__(self, value, /)\n",
      " |      Return self<value.\n",
      " |\n",
      " |  __mod__(self, value, /)\n",
      " |      Return self%value.\n",
      " |\n",
      " |  __mul__(self, value, /)\n",
      " |      Return self*value.\n",
      " |\n",
      " |  __ne__(self, value, /)\n",
      " |      Return self!=value.\n",
      " |\n",
      " |  __repr__(self, /)\n",
      " |      Return repr(self).\n",
      " |\n",
      " |  __rmod__(self, value, /)\n",
      " |      Return value%self.\n",
      " |\n",
      " |  __rmul__(self, value, /)\n",
      " |      Return value*self.\n",
      " |\n",
      " |  __sizeof__(self, /)\n",
      " |      Return the size of the string in memory, in bytes.\n",
      " |\n",
      " |  __str__(self, /)\n",
      " |      Return str(self).\n",
      " |\n",
      " |  capitalize(self, /)\n",
      " |      Return a capitalized version of the string.\n",
      " |\n",
      " |      More specifically, make the first character have upper case and the rest lower\n",
      " |      case.\n",
      " |\n",
      " |  casefold(self, /)\n",
      " |      Return a version of the string suitable for caseless comparisons.\n",
      " |\n",
      " |  center(self, width, fillchar=' ', /)\n",
      " |      Return a centered string of length width.\n",
      " |\n",
      " |      Padding is done using the specified fill character (default is a space).\n",
      " |\n",
      " |  count(...)\n",
      " |      S.count(sub[, start[, end]]) -> int\n",
      " |\n",
      " |      Return the number of non-overlapping occurrences of substring sub in\n",
      " |      string S[start:end].  Optional arguments start and end are\n",
      " |      interpreted as in slice notation.\n",
      " |\n",
      " |  encode(self, /, encoding='utf-8', errors='strict')\n",
      " |      Encode the string using the codec registered for encoding.\n",
      " |\n",
      " |      encoding\n",
      " |        The encoding in which to encode the string.\n",
      " |      errors\n",
      " |        The error handling scheme to use for encoding errors.\n",
      " |        The default is 'strict' meaning that encoding errors raise a\n",
      " |        UnicodeEncodeError.  Other possible values are 'ignore', 'replace' and\n",
      " |        'xmlcharrefreplace' as well as any other name registered with\n",
      " |        codecs.register_error that can handle UnicodeEncodeErrors.\n",
      " |\n",
      " |  endswith(...)\n",
      " |      S.endswith(suffix[, start[, end]]) -> bool\n",
      " |\n",
      " |      Return True if S ends with the specified suffix, False otherwise.\n",
      " |      With optional start, test S beginning at that position.\n",
      " |      With optional end, stop comparing S at that position.\n",
      " |      suffix can also be a tuple of strings to try.\n",
      " |\n",
      " |  expandtabs(self, /, tabsize=8)\n",
      " |      Return a copy where all tab characters are expanded using spaces.\n",
      " |\n",
      " |      If tabsize is not given, a tab size of 8 characters is assumed.\n",
      " |\n",
      " |  find(...)\n",
      " |      S.find(sub[, start[, end]]) -> int\n",
      " |\n",
      " |      Return the lowest index in S where substring sub is found,\n",
      " |      such that sub is contained within S[start:end].  Optional\n",
      " |      arguments start and end are interpreted as in slice notation.\n",
      " |\n",
      " |      Return -1 on failure.\n",
      " |\n",
      " |  format(...)\n",
      " |      S.format(*args, **kwargs) -> str\n",
      " |\n",
      " |      Return a formatted version of S, using substitutions from args and kwargs.\n",
      " |      The substitutions are identified by braces ('{' and '}').\n",
      " |\n",
      " |  format_map(...)\n",
      " |      S.format_map(mapping) -> str\n",
      " |\n",
      " |      Return a formatted version of S, using substitutions from mapping.\n",
      " |      The substitutions are identified by braces ('{' and '}').\n",
      " |\n",
      " |  index(...)\n",
      " |      S.index(sub[, start[, end]]) -> int\n",
      " |\n",
      " |      Return the lowest index in S where substring sub is found,\n",
      " |      such that sub is contained within S[start:end].  Optional\n",
      " |      arguments start and end are interpreted as in slice notation.\n",
      " |\n",
      " |      Raises ValueError when the substring is not found.\n",
      " |\n",
      " |  isalnum(self, /)\n",
      " |      Return True if the string is an alpha-numeric string, False otherwise.\n",
      " |\n",
      " |      A string is alpha-numeric if all characters in the string are alpha-numeric and\n",
      " |      there is at least one character in the string.\n",
      " |\n",
      " |  isalpha(self, /)\n",
      " |      Return True if the string is an alphabetic string, False otherwise.\n",
      " |\n",
      " |      A string is alphabetic if all characters in the string are alphabetic and there\n",
      " |      is at least one character in the string.\n",
      " |\n",
      " |  isascii(self, /)\n",
      " |      Return True if all characters in the string are ASCII, False otherwise.\n",
      " |\n",
      " |      ASCII characters have code points in the range U+0000-U+007F.\n",
      " |      Empty string is ASCII too.\n",
      " |\n",
      " |  isdecimal(self, /)\n",
      " |      Return True if the string is a decimal string, False otherwise.\n",
      " |\n",
      " |      A string is a decimal string if all characters in the string are decimal and\n",
      " |      there is at least one character in the string.\n",
      " |\n",
      " |  isdigit(self, /)\n",
      " |      Return True if the string is a digit string, False otherwise.\n",
      " |\n",
      " |      A string is a digit string if all characters in the string are digits and there\n",
      " |      is at least one character in the string.\n",
      " |\n",
      " |  isidentifier(self, /)\n",
      " |      Return True if the string is a valid Python identifier, False otherwise.\n",
      " |\n",
      " |      Call keyword.iskeyword(s) to test whether string s is a reserved identifier,\n",
      " |      such as \"def\" or \"class\".\n",
      " |\n",
      " |  islower(self, /)\n",
      " |      Return True if the string is a lowercase string, False otherwise.\n",
      " |\n",
      " |      A string is lowercase if all cased characters in the string are lowercase and\n",
      " |      there is at least one cased character in the string.\n",
      " |\n",
      " |  isnumeric(self, /)\n",
      " |      Return True if the string is a numeric string, False otherwise.\n",
      " |\n",
      " |      A string is numeric if all characters in the string are numeric and there is at\n",
      " |      least one character in the string.\n",
      " |\n",
      " |  isprintable(self, /)\n",
      " |      Return True if the string is printable, False otherwise.\n",
      " |\n",
      " |      A string is printable if all of its characters are considered printable in\n",
      " |      repr() or if it is empty.\n",
      " |\n",
      " |  isspace(self, /)\n",
      " |      Return True if the string is a whitespace string, False otherwise.\n",
      " |\n",
      " |      A string is whitespace if all characters in the string are whitespace and there\n",
      " |      is at least one character in the string.\n",
      " |\n",
      " |  istitle(self, /)\n",
      " |      Return True if the string is a title-cased string, False otherwise.\n",
      " |\n",
      " |      In a title-cased string, upper- and title-case characters may only\n",
      " |      follow uncased characters and lowercase characters only cased ones.\n",
      " |\n",
      " |  isupper(self, /)\n",
      " |      Return True if the string is an uppercase string, False otherwise.\n",
      " |\n",
      " |      A string is uppercase if all cased characters in the string are uppercase and\n",
      " |      there is at least one cased character in the string.\n",
      " |\n",
      " |  join(self, iterable, /)\n",
      " |      Concatenate any number of strings.\n",
      " |\n",
      " |      The string whose method is called is inserted in between each given string.\n",
      " |      The result is returned as a new string.\n",
      " |\n",
      " |      Example: '.'.join(['ab', 'pq', 'rs']) -> 'ab.pq.rs'\n",
      " |\n",
      " |  ljust(self, width, fillchar=' ', /)\n",
      " |      Return a left-justified string of length width.\n",
      " |\n",
      " |      Padding is done using the specified fill character (default is a space).\n",
      " |\n",
      " |  lower(self, /)\n",
      " |      Return a copy of the string converted to lowercase.\n",
      " |\n",
      " |  lstrip(self, chars=None, /)\n",
      " |      Return a copy of the string with leading whitespace removed.\n",
      " |\n",
      " |      If chars is given and not None, remove characters in chars instead.\n",
      " |\n",
      " |  partition(self, sep, /)\n",
      " |      Partition the string into three parts using the given separator.\n",
      " |\n",
      " |      This will search for the separator in the string.  If the separator is found,\n",
      " |      returns a 3-tuple containing the part before the separator, the separator\n",
      " |      itself, and the part after it.\n",
      " |\n",
      " |      If the separator is not found, returns a 3-tuple containing the original string\n",
      " |      and two empty strings.\n",
      " |\n",
      " |  removeprefix(self, prefix, /)\n",
      " |      Return a str with the given prefix string removed if present.\n",
      " |\n",
      " |      If the string starts with the prefix string, return string[len(prefix):].\n",
      " |      Otherwise, return a copy of the original string.\n",
      " |\n",
      " |  removesuffix(self, suffix, /)\n",
      " |      Return a str with the given suffix string removed if present.\n",
      " |\n",
      " |      If the string ends with the suffix string and that suffix is not empty,\n",
      " |      return string[:-len(suffix)]. Otherwise, return a copy of the original\n",
      " |      string.\n",
      " |\n",
      " |  replace(self, old, new, count=-1, /)\n",
      " |      Return a copy with all occurrences of substring old replaced by new.\n",
      " |\n",
      " |        count\n",
      " |          Maximum number of occurrences to replace.\n",
      " |          -1 (the default value) means replace all occurrences.\n",
      " |\n",
      " |      If the optional argument count is given, only the first count occurrences are\n",
      " |      replaced.\n",
      " |\n",
      " |  rfind(...)\n",
      " |      S.rfind(sub[, start[, end]]) -> int\n",
      " |\n",
      " |      Return the highest index in S where substring sub is found,\n",
      " |      such that sub is contained within S[start:end].  Optional\n",
      " |      arguments start and end are interpreted as in slice notation.\n",
      " |\n",
      " |      Return -1 on failure.\n",
      " |\n",
      " |  rindex(...)\n",
      " |      S.rindex(sub[, start[, end]]) -> int\n",
      " |\n",
      " |      Return the highest index in S where substring sub is found,\n",
      " |      such that sub is contained within S[start:end].  Optional\n",
      " |      arguments start and end are interpreted as in slice notation.\n",
      " |\n",
      " |      Raises ValueError when the substring is not found.\n",
      " |\n",
      " |  rjust(self, width, fillchar=' ', /)\n",
      " |      Return a right-justified string of length width.\n",
      " |\n",
      " |      Padding is done using the specified fill character (default is a space).\n",
      " |\n",
      " |  rpartition(self, sep, /)\n",
      " |      Partition the string into three parts using the given separator.\n",
      " |\n",
      " |      This will search for the separator in the string, starting at the end. If\n",
      " |      the separator is found, returns a 3-tuple containing the part before the\n",
      " |      separator, the separator itself, and the part after it.\n",
      " |\n",
      " |      If the separator is not found, returns a 3-tuple containing two empty strings\n",
      " |      and the original string.\n",
      " |\n",
      " |  rsplit(self, /, sep=None, maxsplit=-1)\n",
      " |      Return a list of the substrings in the string, using sep as the separator string.\n",
      " |\n",
      " |        sep\n",
      " |          The separator used to split the string.\n",
      " |\n",
      " |          When set to None (the default value), will split on any whitespace\n",
      " |          character (including \\n \\r \\t \\f and spaces) and will discard\n",
      " |          empty strings from the result.\n",
      " |        maxsplit\n",
      " |          Maximum number of splits.\n",
      " |          -1 (the default value) means no limit.\n",
      " |\n",
      " |      Splitting starts at the end of the string and works to the front.\n",
      " |\n",
      " |  rstrip(self, chars=None, /)\n",
      " |      Return a copy of the string with trailing whitespace removed.\n",
      " |\n",
      " |      If chars is given and not None, remove characters in chars instead.\n",
      " |\n",
      " |  split(self, /, sep=None, maxsplit=-1)\n",
      " |      Return a list of the substrings in the string, using sep as the separator string.\n",
      " |\n",
      " |        sep\n",
      " |          The separator used to split the string.\n",
      " |\n",
      " |          When set to None (the default value), will split on any whitespace\n",
      " |          character (including \\n \\r \\t \\f and spaces) and will discard\n",
      " |          empty strings from the result.\n",
      " |        maxsplit\n",
      " |          Maximum number of splits.\n",
      " |          -1 (the default value) means no limit.\n",
      " |\n",
      " |      Splitting starts at the front of the string and works to the end.\n",
      " |\n",
      " |      Note, str.split() is mainly useful for data that has been intentionally\n",
      " |      delimited.  With natural text that includes punctuation, consider using\n",
      " |      the regular expression module.\n",
      " |\n",
      " |  splitlines(self, /, keepends=False)\n",
      " |      Return a list of the lines in the string, breaking at line boundaries.\n",
      " |\n",
      " |      Line breaks are not included in the resulting list unless keepends is given and\n",
      " |      true.\n",
      " |\n",
      " |  startswith(...)\n",
      " |      S.startswith(prefix[, start[, end]]) -> bool\n",
      " |\n",
      " |      Return True if S starts with the specified prefix, False otherwise.\n",
      " |      With optional start, test S beginning at that position.\n",
      " |      With optional end, stop comparing S at that position.\n",
      " |      prefix can also be a tuple of strings to try.\n",
      " |\n",
      " |  strip(self, chars=None, /)\n",
      " |      Return a copy of the string with leading and trailing whitespace removed.\n",
      " |\n",
      " |      If chars is given and not None, remove characters in chars instead.\n",
      " |\n",
      " |  swapcase(self, /)\n",
      " |      Convert uppercase characters to lowercase and lowercase characters to uppercase.\n",
      " |\n",
      " |  title(self, /)\n",
      " |      Return a version of the string where each word is titlecased.\n",
      " |\n",
      " |      More specifically, words start with uppercased characters and all remaining\n",
      " |      cased characters have lower case.\n",
      " |\n",
      " |  translate(self, table, /)\n",
      " |      Replace each character in the string using the given translation table.\n",
      " |\n",
      " |        table\n",
      " |          Translation table, which must be a mapping of Unicode ordinals to\n",
      " |          Unicode ordinals, strings, or None.\n",
      " |\n",
      " |      The table must implement lookup/indexing via __getitem__, for instance a\n",
      " |      dictionary or list.  If this operation raises LookupError, the character is\n",
      " |      left untouched.  Characters mapped to None are deleted.\n",
      " |\n",
      " |  upper(self, /)\n",
      " |      Return a copy of the string converted to uppercase.\n",
      " |\n",
      " |  zfill(self, width, /)\n",
      " |      Pad a numeric string with zeros on the left, to fill a field of the given width.\n",
      " |\n",
      " |      The string is never truncated.\n",
      " |\n",
      " |  ----------------------------------------------------------------------\n",
      " |  Static methods defined here:\n",
      " |\n",
      " |  __new__(*args, **kwargs)\n",
      " |      Create and return a new object.  See help(type) for accurate signature.\n",
      " |\n",
      " |  maketrans(...)\n",
      " |      Return a translation table usable for str.translate().\n",
      " |\n",
      " |      If there is only one argument, it must be a dictionary mapping Unicode\n",
      " |      ordinals (integers) or characters to Unicode ordinals, strings or None.\n",
      " |      Character keys will be then converted to ordinals.\n",
      " |      If there are two arguments, they must be strings of equal length, and\n",
      " |      in the resulting dictionary, each character in x will be mapped to the\n",
      " |      character at the same position in y. If there is a third argument, it\n",
      " |      must be a string, whose characters will be mapped to None in the result.\n",
      "\n"
     ]
    }
   ],
   "source": [
    "help(str)"
   ]
  },
  {
   "cell_type": "code",
   "execution_count": 15,
   "metadata": {},
   "outputs": [
    {
     "data": {
      "text/plain": [
       "'This text\\nspans multiple\\nlines.\\n'"
      ]
     },
     "execution_count": 15,
     "metadata": {},
     "output_type": "execute_result"
    }
   ],
   "source": [
    "# Python ir iespēja pierakstīt arī vairāk-rindu teksta vērtības (ar \"\"\" vai '''):\n",
    "\"\"\"This text\n",
    "spans multiple\n",
    "lines.\n",
    "\"\"\"\n",
    "\n",
    "# Piezīme: jaunas rindas simboli tiek attēloti kā \\n"
   ]
  },
  {
   "cell_type": "code",
   "execution_count": 16,
   "metadata": {},
   "outputs": [
    {
     "name": "stdout",
     "output_type": "stream",
     "text": [
      "This text\n",
      "spans multiple\n",
      "lines.\n",
      "\n"
     ]
    }
   ],
   "source": [
    "# Print funkcija jaunas rindas simbolus attēlo katru jaunā rindā\n",
    "print(\"\"\"This text\n",
    "spans multiple\n",
    "lines.\n",
    "\"\"\")"
   ]
  },
  {
   "cell_type": "code",
   "execution_count": 17,
   "metadata": {},
   "outputs": [
    {
     "data": {
      "text/plain": [
       "'First string and the second string'"
      ]
     },
     "execution_count": 17,
     "metadata": {},
     "output_type": "execute_result"
    }
   ],
   "source": [
    "# Teksta rindas var apvienot izmantojot + (plus) operatoru:\n",
    "\n",
    "\"First string\" + \" and the second string\""
   ]
  },
  {
   "cell_type": "markdown",
   "metadata": {},
   "source": [
    "#### Skaitļi un aritmētiskie operatori\n",
    "\n",
    "Skaitļu tips var būt:\n",
    "* Integer = veseli skaitļi (ar neierobežotu garumu)\n",
    "* Float = dubultas precizitātes skaitļi ar peldošo komatu"
   ]
  },
  {
   "cell_type": "code",
   "execution_count": 18,
   "metadata": {},
   "outputs": [
    {
     "data": {
      "text/plain": [
       "200000"
      ]
     },
     "execution_count": 18,
     "metadata": {},
     "output_type": "execute_result"
    }
   ],
   "source": [
    "# Vesels skaitlis:\n",
    "\n",
    "200000"
   ]
  },
  {
   "cell_type": "code",
   "execution_count": 19,
   "metadata": {},
   "outputs": [
    {
     "data": {
      "text/plain": [
       "int"
      ]
     },
     "execution_count": 19,
     "metadata": {},
     "output_type": "execute_result"
    }
   ],
   "source": [
    "type(200000)"
   ]
  },
  {
   "cell_type": "code",
   "execution_count": 21,
   "metadata": {},
   "outputs": [
    {
     "data": {
      "text/plain": [
       "123456789012345678901234567890"
      ]
     },
     "execution_count": 21,
     "metadata": {},
     "output_type": "execute_result"
    }
   ],
   "source": [
    "# Garāks vesels skaitlis:\n",
    "\n",
    "123456789012345678901234567890"
   ]
  },
  {
   "cell_type": "code",
   "execution_count": 26,
   "metadata": {},
   "outputs": [
    {
     "data": {
      "text/plain": [
       "3.14"
      ]
     },
     "execution_count": 26,
     "metadata": {},
     "output_type": "execute_result"
    }
   ],
   "source": [
    "# Daļskaitlis:\n",
    "\n",
    "3.14"
   ]
  },
  {
   "cell_type": "code",
   "execution_count": 27,
   "metadata": {},
   "outputs": [
    {
     "data": {
      "text/plain": [
       "float"
      ]
     },
     "execution_count": 27,
     "metadata": {},
     "output_type": "execute_result"
    }
   ],
   "source": [
    "type(3.14)"
   ]
  },
  {
   "cell_type": "code",
   "execution_count": 28,
   "metadata": {},
   "outputs": [
    {
     "name": "stdout",
     "output_type": "stream",
     "text": [
      "Help on class float in module builtins:\n",
      "\n",
      "class float(object)\n",
      " |  float(x=0, /)\n",
      " |\n",
      " |  Convert a string or number to a floating-point number, if possible.\n",
      " |\n",
      " |  Methods defined here:\n",
      " |\n",
      " |  __abs__(self, /)\n",
      " |      abs(self)\n",
      " |\n",
      " |  __add__(self, value, /)\n",
      " |      Return self+value.\n",
      " |\n",
      " |  __bool__(self, /)\n",
      " |      True if self else False\n",
      " |\n",
      " |  __ceil__(self, /)\n",
      " |      Return the ceiling as an Integral.\n",
      " |\n",
      " |  __divmod__(self, value, /)\n",
      " |      Return divmod(self, value).\n",
      " |\n",
      " |  __eq__(self, value, /)\n",
      " |      Return self==value.\n",
      " |\n",
      " |  __float__(self, /)\n",
      " |      float(self)\n",
      " |\n",
      " |  __floor__(self, /)\n",
      " |      Return the floor as an Integral.\n",
      " |\n",
      " |  __floordiv__(self, value, /)\n",
      " |      Return self//value.\n",
      " |\n",
      " |  __format__(self, format_spec, /)\n",
      " |      Formats the float according to format_spec.\n",
      " |\n",
      " |  __ge__(self, value, /)\n",
      " |      Return self>=value.\n",
      " |\n",
      " |  __getnewargs__(self, /)\n",
      " |\n",
      " |  __gt__(self, value, /)\n",
      " |      Return self>value.\n",
      " |\n",
      " |  __hash__(self, /)\n",
      " |      Return hash(self).\n",
      " |\n",
      " |  __int__(self, /)\n",
      " |      int(self)\n",
      " |\n",
      " |  __le__(self, value, /)\n",
      " |      Return self<=value.\n",
      " |\n",
      " |  __lt__(self, value, /)\n",
      " |      Return self<value.\n",
      " |\n",
      " |  __mod__(self, value, /)\n",
      " |      Return self%value.\n",
      " |\n",
      " |  __mul__(self, value, /)\n",
      " |      Return self*value.\n",
      " |\n",
      " |  __ne__(self, value, /)\n",
      " |      Return self!=value.\n",
      " |\n",
      " |  __neg__(self, /)\n",
      " |      -self\n",
      " |\n",
      " |  __pos__(self, /)\n",
      " |      +self\n",
      " |\n",
      " |  __pow__(self, value, mod=None, /)\n",
      " |      Return pow(self, value, mod).\n",
      " |\n",
      " |  __radd__(self, value, /)\n",
      " |      Return value+self.\n",
      " |\n",
      " |  __rdivmod__(self, value, /)\n",
      " |      Return divmod(value, self).\n",
      " |\n",
      " |  __repr__(self, /)\n",
      " |      Return repr(self).\n",
      " |\n",
      " |  __rfloordiv__(self, value, /)\n",
      " |      Return value//self.\n",
      " |\n",
      " |  __rmod__(self, value, /)\n",
      " |      Return value%self.\n",
      " |\n",
      " |  __rmul__(self, value, /)\n",
      " |      Return value*self.\n",
      " |\n",
      " |  __round__(self, ndigits=None, /)\n",
      " |      Return the Integral closest to x, rounding half toward even.\n",
      " |\n",
      " |      When an argument is passed, work like built-in round(x, ndigits).\n",
      " |\n",
      " |  __rpow__(self, value, mod=None, /)\n",
      " |      Return pow(value, self, mod).\n",
      " |\n",
      " |  __rsub__(self, value, /)\n",
      " |      Return value-self.\n",
      " |\n",
      " |  __rtruediv__(self, value, /)\n",
      " |      Return value/self.\n",
      " |\n",
      " |  __sub__(self, value, /)\n",
      " |      Return self-value.\n",
      " |\n",
      " |  __truediv__(self, value, /)\n",
      " |      Return self/value.\n",
      " |\n",
      " |  __trunc__(self, /)\n",
      " |      Return the Integral closest to x between 0 and x.\n",
      " |\n",
      " |  as_integer_ratio(self, /)\n",
      " |      Return a pair of integers, whose ratio is exactly equal to the original float.\n",
      " |\n",
      " |      The ratio is in lowest terms and has a positive denominator.  Raise\n",
      " |      OverflowError on infinities and a ValueError on NaNs.\n",
      " |\n",
      " |      >>> (10.0).as_integer_ratio()\n",
      " |      (10, 1)\n",
      " |      >>> (0.0).as_integer_ratio()\n",
      " |      (0, 1)\n",
      " |      >>> (-.25).as_integer_ratio()\n",
      " |      (-1, 4)\n",
      " |\n",
      " |  conjugate(self, /)\n",
      " |      Return self, the complex conjugate of any float.\n",
      " |\n",
      " |  hex(self, /)\n",
      " |      Return a hexadecimal representation of a floating-point number.\n",
      " |\n",
      " |      >>> (-0.1).hex()\n",
      " |      '-0x1.999999999999ap-4'\n",
      " |      >>> 3.14159.hex()\n",
      " |      '0x1.921f9f01b866ep+1'\n",
      " |\n",
      " |  is_integer(self, /)\n",
      " |      Return True if the float is an integer.\n",
      " |\n",
      " |  ----------------------------------------------------------------------\n",
      " |  Class methods defined here:\n",
      " |\n",
      " |  __getformat__(typestr, /)\n",
      " |      You probably don't want to use this function.\n",
      " |\n",
      " |        typestr\n",
      " |          Must be 'double' or 'float'.\n",
      " |\n",
      " |      It exists mainly to be used in Python's test suite.\n",
      " |\n",
      " |      This function returns whichever of 'unknown', 'IEEE, big-endian' or 'IEEE,\n",
      " |      little-endian' best describes the format of floating-point numbers used by the\n",
      " |      C type named by typestr.\n",
      " |\n",
      " |  fromhex(string, /)\n",
      " |      Create a floating-point number from a hexadecimal string.\n",
      " |\n",
      " |      >>> float.fromhex('0x1.ffffp10')\n",
      " |      2047.984375\n",
      " |      >>> float.fromhex('-0x1p-1074')\n",
      " |      -5e-324\n",
      " |\n",
      " |  ----------------------------------------------------------------------\n",
      " |  Static methods defined here:\n",
      " |\n",
      " |  __new__(*args, **kwargs)\n",
      " |      Create and return a new object.  See help(type) for accurate signature.\n",
      " |\n",
      " |  ----------------------------------------------------------------------\n",
      " |  Data descriptors defined here:\n",
      " |\n",
      " |  imag\n",
      " |      the imaginary part of a complex number\n",
      " |\n",
      " |  real\n",
      " |      the real part of a complex number\n",
      "\n"
     ]
    }
   ],
   "source": [
    "help(float)"
   ]
  },
  {
   "cell_type": "markdown",
   "metadata": {},
   "source": [
    "---\n",
    "\n",
    "**Skaitliskās operācijas:**\n",
    "* https://docs.python.org/3/library/stdtypes.html#numeric-types-int-float-complex"
   ]
  },
  {
   "cell_type": "code",
   "execution_count": 29,
   "metadata": {},
   "outputs": [
    {
     "name": "stdout",
     "output_type": "stream",
     "text": [
      "5\n",
      "-1\n",
      "6\n",
      "0.6666666666666666\n"
     ]
    }
   ],
   "source": [
    "# Aritmētiskie operatori\n",
    "\n",
    "print(2 + 3)\n",
    "print(2 - 3)\n",
    "print(2 * 3)\n",
    "print(2 / 3)"
   ]
  },
  {
   "cell_type": "code",
   "execution_count": 30,
   "metadata": {},
   "outputs": [
    {
     "name": "stdout",
     "output_type": "stream",
     "text": [
      "1\n",
      "2\n"
     ]
    }
   ],
   "source": [
    "# Veselu skaitļu dalīšana\n",
    "print(5 // 3)\n",
    "\n",
    "# Atlikums (modulis) dalot 5 ar 3:\n",
    "print(5 % 3)"
   ]
  },
  {
   "cell_type": "code",
   "execution_count": 31,
   "metadata": {},
   "outputs": [
    {
     "data": {
      "text/plain": [
       "176"
      ]
     },
     "execution_count": 31,
     "metadata": {},
     "output_type": "execute_result"
    }
   ],
   "source": [
    "# Mēs varam lietot Python kā kalkulatoru:\n",
    "\n",
    "2 + 3 * (51 + 7)"
   ]
  },
  {
   "cell_type": "code",
   "execution_count": 32,
   "metadata": {},
   "outputs": [
    {
     "data": {
      "text/plain": [
       "1024"
      ]
     },
     "execution_count": 32,
     "metadata": {},
     "output_type": "execute_result"
    }
   ],
   "source": [
    "2 ** 10    # skaitlis 2 desmitajā pakāpē"
   ]
  },
  {
   "cell_type": "code",
   "execution_count": 33,
   "metadata": {},
   "outputs": [
    {
     "data": {
      "text/plain": [
       "10000000000000000000000000000000000000000000000000000000000000000000000000000000000000000000000000000"
      ]
     },
     "execution_count": 33,
     "metadata": {},
     "output_type": "execute_result"
    }
   ],
   "source": [
    "# Googol = 10 simtajā pakāpē\n",
    "\n",
    "10 ** 100"
   ]
  },
  {
   "cell_type": "code",
   "execution_count": 34,
   "metadata": {},
   "outputs": [
    {
     "name": "stdout",
     "output_type": "stream",
     "text": [
      "1000\n",
      "3\n"
     ]
    }
   ],
   "source": [
    "# Ar funkcijas int() palīdzību tās argumentu var pārvērst par veselu skaitli\n",
    "\n",
    "print(int(\"1000\"))\n",
    "print(int(3.14))"
   ]
  },
  {
   "cell_type": "code",
   "execution_count": 35,
   "metadata": {},
   "outputs": [
    {
     "name": "stdout",
     "output_type": "stream",
     "text": [
      "1000.0\n"
     ]
    }
   ],
   "source": [
    "# Funkcija float() pārvērš doto vērtību par daļskaitli\n",
    "\n",
    "print(float(\"1000\"))"
   ]
  },
  {
   "cell_type": "code",
   "execution_count": 36,
   "metadata": {},
   "outputs": [
    {
     "data": {
      "text/plain": [
       "'1000000'"
      ]
     },
     "execution_count": 36,
     "metadata": {},
     "output_type": "execute_result"
    }
   ],
   "source": [
    "# str() pārvērš doto vērtību par teksta rindu\n",
    "\n",
    "str(1000000)"
   ]
  },
  {
   "cell_type": "markdown",
   "metadata": {},
   "source": [
    "### Iebūvēts komplekso skaitļu atbalsts\n",
    "\n",
    "* https://docs.python.org/3/library/stdtypes.html#numeric-types-int-float-complex\n",
    "\n",
    "Python ir iekļauts komplekso skaitļu atbalsts, to imagināro daļu pierakstot ar sufiksu `j`."
   ]
  },
  {
   "cell_type": "code",
   "execution_count": 37,
   "metadata": {},
   "outputs": [
    {
     "name": "stdout",
     "output_type": "stream",
     "text": [
      "(3+4j)\n",
      "(-7+24j)\n"
     ]
    }
   ],
   "source": [
    "# Kompleksa skaitļa piemērs\n",
    "complex_number = 3 + 4j # sufikss j norāda uz kompleksā skaitļa imagināro daļu (matemātikā uz to norāda ar i)\n",
    "print(complex_number)\n",
    "\n",
    "# Kompleksa skaitļa kāpināšana kvadrātā\n",
    "print(complex_number ** 2)"
   ]
  },
  {
   "cell_type": "markdown",
   "metadata": {},
   "source": [
    "#### Loģiskās vērtības\n",
    "\n",
    "Loģiskās (boolean) vērtības var būt tikai patiesas (True) vai aplamas (False).\n"
   ]
  },
  {
   "cell_type": "code",
   "execution_count": 38,
   "metadata": {},
   "outputs": [
    {
     "data": {
      "text/plain": [
       "True"
      ]
     },
     "execution_count": 38,
     "metadata": {},
     "output_type": "execute_result"
    }
   ],
   "source": [
    "True"
   ]
  },
  {
   "cell_type": "code",
   "execution_count": 39,
   "metadata": {},
   "outputs": [
    {
     "data": {
      "text/plain": [
       "False"
      ]
     },
     "execution_count": 39,
     "metadata": {},
     "output_type": "execute_result"
    }
   ],
   "source": [
    "False"
   ]
  },
  {
   "cell_type": "code",
   "execution_count": 40,
   "metadata": {},
   "outputs": [
    {
     "data": {
      "text/plain": [
       "bool"
      ]
     },
     "execution_count": 40,
     "metadata": {},
     "output_type": "execute_result"
    }
   ],
   "source": [
    "type(True)"
   ]
  },
  {
   "cell_type": "markdown",
   "metadata": {},
   "source": [
    "**Loģisko vērtību pārbaude**\n",
    "\n",
    "Jebkurai vērtībai (jebkuram objektam) var veikt tās patiesuma pārbaudi = noteikt vai tā atbilst patiesuma vērtībai True vai False:\n",
    "* https://docs.python.org/3/library/stdtypes.html#truth-value-testing\n",
    "\n",
    "Lielākajai daļai vērtību to patiesuma vērtība ir True, izņemot:\n",
    "  * konstantes, kuru vērtība ir False: False, None\n",
    "  * nulli: 0, 0.0\n",
    "  * tukšas teksta rindas vai citas tukšas virknes vai kolekcijas: \"\", [], ..."
   ]
  },
  {
   "cell_type": "code",
   "execution_count": 41,
   "metadata": {},
   "outputs": [
    {
     "data": {
      "text/plain": [
       "False"
      ]
     },
     "execution_count": 41,
     "metadata": {},
     "output_type": "execute_result"
    }
   ],
   "source": [
    "bool(0.0)"
   ]
  },
  {
   "cell_type": "code",
   "execution_count": 42,
   "metadata": {},
   "outputs": [
    {
     "data": {
      "text/plain": [
       "True"
      ]
     },
     "execution_count": 42,
     "metadata": {},
     "output_type": "execute_result"
    }
   ],
   "source": [
    "bool(1.1)"
   ]
  },
  {
   "cell_type": "code",
   "execution_count": 43,
   "metadata": {},
   "outputs": [
    {
     "data": {
      "text/plain": [
       "False"
      ]
     },
     "execution_count": 43,
     "metadata": {},
     "output_type": "execute_result"
    }
   ],
   "source": [
    "bool(\"\")"
   ]
  },
  {
   "cell_type": "code",
   "execution_count": 44,
   "metadata": {},
   "outputs": [
    {
     "data": {
      "text/plain": [
       "True"
      ]
     },
     "execution_count": 44,
     "metadata": {},
     "output_type": "execute_result"
    }
   ],
   "source": [
    "bool(100)"
   ]
  },
  {
   "cell_type": "markdown",
   "metadata": {},
   "source": [
    "**Loģiskās operācijas**\n",
    "\n",
    "Python ir pieejamas loģiskās (boolean) operācijas \"and\", \"or\" un \"not\":\n",
    "* https://docs.python.org/3/library/stdtypes.html#boolean-operations-and-or-not"
   ]
  },
  {
   "cell_type": "code",
   "execution_count": 45,
   "metadata": {},
   "outputs": [
    {
     "data": {
      "text/plain": [
       "False"
      ]
     },
     "execution_count": 45,
     "metadata": {},
     "output_type": "execute_result"
    }
   ],
   "source": [
    "True and False"
   ]
  },
  {
   "cell_type": "code",
   "execution_count": 46,
   "metadata": {},
   "outputs": [
    {
     "data": {
      "text/plain": [
       "True"
      ]
     },
     "execution_count": 46,
     "metadata": {},
     "output_type": "execute_result"
    }
   ],
   "source": [
    "True and True"
   ]
  },
  {
   "cell_type": "code",
   "execution_count": 47,
   "metadata": {},
   "outputs": [
    {
     "data": {
      "text/plain": [
       "True"
      ]
     },
     "execution_count": 47,
     "metadata": {},
     "output_type": "execute_result"
    }
   ],
   "source": [
    "True or False"
   ]
  },
  {
   "cell_type": "code",
   "execution_count": 48,
   "metadata": {},
   "outputs": [
    {
     "data": {
      "text/plain": [
       "False"
      ]
     },
     "execution_count": 48,
     "metadata": {},
     "output_type": "execute_result"
    }
   ],
   "source": [
    "False or False"
   ]
  },
  {
   "cell_type": "code",
   "execution_count": 49,
   "metadata": {},
   "outputs": [
    {
     "data": {
      "text/plain": [
       "False"
      ]
     },
     "execution_count": 49,
     "metadata": {},
     "output_type": "execute_result"
    }
   ],
   "source": [
    "not True"
   ]
  },
  {
   "cell_type": "markdown",
   "metadata": {},
   "source": [
    "#### 2. tēma - mini uzdevums\n",
    "\n",
    "* pielietojiet Python kā kalkulatoru"
   ]
  },
  {
   "cell_type": "code",
   "execution_count": null,
   "metadata": {},
   "outputs": [],
   "source": []
  },
  {
   "cell_type": "markdown",
   "metadata": {},
   "source": [
    "## 3. tēma: - Mainīgie un operatori\n",
    "\n",
    "**Operatori** ir īpaši simboli, kas norāda Python interpretatoram, ka ir jāveic kādi aprēķini vai darbības. Operatori apvieno Python objektus **izteiksmēs**.\n",
    "\n",
    "Mēs jau iepriekš apskatījām aritmētiskos un loģiskos operatorus. Tālāk šajā tēmā tiks apskatīts piešķiršanas operators (=) un salīdzināšanas operatori."
   ]
  },
  {
   "cell_type": "markdown",
   "metadata": {},
   "source": [
    "### 3.1 - Mainīgie\n",
    "\n",
    "**Mainīgie** ļauj objektam vai vērtībai piešķirt vārdu.\n",
    "\n",
    "* Mainīgie ir kā vārds, kas ir piešķirts objektam (vai kā vārds \"kastei\", kurā ir ievietots objekts)\n",
    "\n",
    "Mainīgo vērtības tiek piešķirtas izmantojot piešķiršanas operatoru: `=`\n",
    "\n",
    "Python valodā nav iepriekš jādeklarē mainīgo tipi - var vienkārši piešķirt tiem vērtību un sākt tos pielietot tālāk programmas kodā. "
   ]
  },
  {
   "cell_type": "code",
   "execution_count": 50,
   "metadata": {},
   "outputs": [],
   "source": [
    "# mainīgā definēšana\n",
    "my_variable = 3.14"
   ]
  },
  {
   "cell_type": "code",
   "execution_count": 51,
   "metadata": {},
   "outputs": [
    {
     "name": "stdout",
     "output_type": "stream",
     "text": [
      "3.14\n"
     ]
    }
   ],
   "source": [
    "# mainīgā pielietošana\n",
    "print(my_variable)"
   ]
  },
  {
   "cell_type": "code",
   "execution_count": 52,
   "metadata": {},
   "outputs": [
    {
     "name": "stdout",
     "output_type": "stream",
     "text": [
      "1000\n"
     ]
    }
   ],
   "source": [
    "# mainīgā vērtību var vēlāk nomainīt uz kādu citu vērtību\n",
    "# (tad mainīgais norādīs uz jauno vērtību)\n",
    "\n",
    "my_variable = 1000\n",
    "print(my_variable)"
   ]
  },
  {
   "cell_type": "markdown",
   "metadata": {},
   "source": [
    "Katram objektam (mainīgā vērtībai) ir savs tips, bet pašiem mainīgajiem nav savs tips - to vērtība un tai atbilstošais datu tips var tikt mainīts:"
   ]
  },
  {
   "cell_type": "code",
   "execution_count": null,
   "metadata": {},
   "outputs": [],
   "source": [
    "my_variable = \"I am a text string now!\"\n",
    "print(my_variable)"
   ]
  },
  {
   "cell_type": "code",
   "execution_count": 53,
   "metadata": {},
   "outputs": [],
   "source": [
    "# Vairāki mainīgie var norādīt uz to pašu objektu:\n",
    "new_name = my_variable"
   ]
  },
  {
   "cell_type": "markdown",
   "metadata": {},
   "source": [
    "Mainīgos var izmantot izteiksmēs, nodot kā funkciju parametrus, ...:"
   ]
  },
  {
   "cell_type": "code",
   "execution_count": 54,
   "metadata": {},
   "outputs": [
    {
     "name": "stdout",
     "output_type": "stream",
     "text": [
      "Radius: 5\n",
      "Area: 78.53975\n"
     ]
    }
   ],
   "source": [
    "pi = 3.14159\n",
    "radius = 5\n",
    "\n",
    "# riņķa līnijas laukums\n",
    "area = pi * (radius ** 2)\n",
    "\n",
    "print(\"Radius:\", radius)\n",
    "print(\"Area:\", area)"
   ]
  },
  {
   "cell_type": "markdown",
   "metadata": {},
   "source": [
    "### Mainīgo nosaukumu veidošanas principi\n",
    "\n",
    "Mainīgo nosaukumu veidošanas labā prakse: https://www.python.org/dev/peps/pep-0008/#naming-conventions\n",
    "\n",
    "Labās prakses pamati:\n",
    "* Mainīgo nosaukumiem ir jābūt aprakstošiem un nav jābūt pārāk gariem\n",
    "* Nosaukumus, kas satur vairākus vārdus, pieraksta ar mazajiem burtiem, atdalot vārdus ar pasvītrojuma simbolu (_).\n",
    "* Izvairieties no pārāk vispārīgiem nosaukumiem (piem., \"data\" vai \"value\")\n",
    "* Izvairieties no pārāk īsiem nosaukumiem (piem, \"a\" vai \"x\")"
   ]
  },
  {
   "cell_type": "code",
   "execution_count": null,
   "metadata": {},
   "outputs": [],
   "source": [
    "# labu nosaukumu paraugi:\n",
    "radius = 7\n",
    "area_of_circle = pi * (radius ** 2)\n",
    "\n",
    "# sliktāki nosaukumu paraugi:\n",
    "r = 7\n",
    "a_o_c = pi * (r ** 2)\n",
    "\n",
    "# slikti nosaukumi:\n",
    "x = 7\n",
    "y = pi * (x ** 2)\n",
    "# ... jo x un y labi neapraksta šo mainīgo būtību\n"
   ]
  },
  {
   "cell_type": "code",
   "execution_count": 57,
   "metadata": {},
   "outputs": [],
   "source": [
    "print = \"jauna vērtība\""
   ]
  },
  {
   "cell_type": "code",
   "execution_count": 58,
   "metadata": {},
   "outputs": [
    {
     "ename": "TypeError",
     "evalue": "'str' object is not callable",
     "output_type": "error",
     "traceback": [
      "\u001b[0;31m---------------------------------------------------------------------------\u001b[0m",
      "\u001b[0;31mTypeError\u001b[0m                                 Traceback (most recent call last)",
      "Cell \u001b[0;32mIn[58], line 1\u001b[0m\n\u001b[0;32m----> 1\u001b[0m \u001b[38;5;28;43mprint\u001b[39;49m\u001b[43m(\u001b[49m\u001b[38;5;28;43mprint\u001b[39;49m\u001b[43m)\u001b[49m\n",
      "\u001b[0;31mTypeError\u001b[0m: 'str' object is not callable"
     ]
    }
   ],
   "source": [
    "print(print)"
   ]
  },
  {
   "cell_type": "code",
   "execution_count": 59,
   "metadata": {},
   "outputs": [],
   "source": [
    "del print"
   ]
  },
  {
   "cell_type": "code",
   "execution_count": 60,
   "metadata": {},
   "outputs": [
    {
     "name": "stdout",
     "output_type": "stream",
     "text": [
      "1 2 3\n"
     ]
    }
   ],
   "source": [
    "print(1,2,3)"
   ]
  },
  {
   "cell_type": "markdown",
   "metadata": {},
   "source": [
    "### Konstantes\n",
    "\n",
    "* Python valodā nav īpaša sintakse konstanšu definēšanai.\n",
    "* Konstantes vienkārši ir mainīgie, kuru vērtības nav paredzēts mainīt.\n",
    "* Konstantēm nosaukumus parasti pieraksta ar visiem lielajiem burtiem."
   ]
  },
  {
   "cell_type": "code",
   "execution_count": 61,
   "metadata": {},
   "outputs": [],
   "source": [
    "#\n",
    "PI = 3.1415926\n",
    "GOLDEN_MEAN = 1.6180339887\n",
    "\n",
    "# teorētiski šo konstanšu vērtības var arī mainīt\n",
    "# bet to nevajag darīt!"
   ]
  },
  {
   "cell_type": "markdown",
   "metadata": {},
   "source": [
    "### 3.2 - Salīdzināšanas operatori\n"
   ]
  },
  {
   "cell_type": "markdown",
   "metadata": {},
   "source": [
    "**Salīdzināšanas operatori** ļauj mums salīdzināt 2 vērtības un atgriež šīs salīdzināšas rezultātu (True vai False). Python valodā ir vērtību salīdzināšanas operatori un identitātes salīdzināšanas operatori.\n",
    "\n",
    "Šos operatorus vai pielietot dažādiem objektu tipiem (kaut arī daļai no objektu tipiem var nebūt realizēti visi salīdzināšanas operatori).\n",
    "\n",
    "Vērtību salīdzināšanas operatori:\n",
    "* `==` abas vērtības ir vienādas\n",
    "* `!=` vērtības nav vienādas \n",
    "* `<` mazāks nekā\n",
    "* `<=` mazāks vai vienāds\n",
    "* `>` lielāks nekā\n",
    "* `>=` lielāks vai vienāds"
   ]
  },
  {
   "cell_type": "code",
   "execution_count": 62,
   "metadata": {},
   "outputs": [
    {
     "data": {
      "text/plain": [
       "True"
      ]
     },
     "execution_count": 62,
     "metadata": {},
     "output_type": "execute_result"
    }
   ],
   "source": [
    "5 == 5"
   ]
  },
  {
   "cell_type": "code",
   "execution_count": 63,
   "metadata": {},
   "outputs": [
    {
     "name": "stdout",
     "output_type": "stream",
     "text": [
      "False\n",
      "True\n",
      "False\n"
     ]
    }
   ],
   "source": [
    "print(5 != 5)\n",
    "print(5 < 6)\n",
    "print(5 >= 6)"
   ]
  },
  {
   "cell_type": "code",
   "execution_count": 64,
   "metadata": {},
   "outputs": [
    {
     "name": "stdout",
     "output_type": "stream",
     "text": [
      "True\n",
      "True\n"
     ]
    }
   ],
   "source": [
    "# var salīdzināt arī dažāda tipa vērtības\n",
    "\n",
    "print(0 == 0.0)\n",
    "print(5 > 4.5)"
   ]
  },
  {
   "cell_type": "code",
   "execution_count": 65,
   "metadata": {},
   "outputs": [
    {
     "name": "stdout",
     "output_type": "stream",
     "text": [
      "True\n",
      "True\n"
     ]
    }
   ],
   "source": [
    "# var salīdzināt teksta rindas:\n",
    "\n",
    "print(\"this\" != \"that\")\n",
    "print(\"this\" == \"this\")"
   ]
  },
  {
   "cell_type": "code",
   "execution_count": 66,
   "metadata": {},
   "outputs": [
    {
     "data": {
      "text/plain": [
       "False"
      ]
     },
     "execution_count": 66,
     "metadata": {},
     "output_type": "execute_result"
    }
   ],
   "source": [
    "# viena teksta rinda var būt \"lielāka\" vai \"mazāka\" par citu teksta rindu\n",
    "\n",
    "# teksta rindas tiek salīdzinātas simbolu pa simbolam līdz šie simboli atškiras\n",
    "# pēc tam tiek salīdzināti atšķirīgo simbolu kodi\n",
    "\n",
    "\"this\" < \"that\""
   ]
  },
  {
   "cell_type": "code",
   "execution_count": 67,
   "metadata": {},
   "outputs": [
    {
     "data": {
      "text/plain": [
       "105"
      ]
     },
     "execution_count": 67,
     "metadata": {},
     "output_type": "execute_result"
    }
   ],
   "source": [
    "ord(\"i\")"
   ]
  },
  {
   "cell_type": "code",
   "execution_count": 68,
   "metadata": {},
   "outputs": [
    {
     "data": {
      "text/plain": [
       "97"
      ]
     },
     "execution_count": 68,
     "metadata": {},
     "output_type": "execute_result"
    }
   ],
   "source": [
    "ord(\"a\")"
   ]
  },
  {
   "cell_type": "code",
   "execution_count": 69,
   "metadata": {},
   "outputs": [
    {
     "name": "stdout",
     "output_type": "stream",
     "text": [
      "Area of this circle is larger than 50\n",
      "More text here\n"
     ]
    }
   ],
   "source": [
    "# salīdzināšanas operatorus pielieto komandu izpildes kontroles instrukcijās (piem., komandā \"if\")\n",
    "\n",
    "if area > 50: \n",
    "    # komandu bloki Python valodā tiek norādīti ar atstarpi no kreisās malas\n",
    "    # piem., šīs divas print() komandas tiks izpildītas, ja \"if\" nosacījums ir patiess\n",
    "    print(\"Area of this circle is larger than 50\")\n",
    "    print(\"More text here\")\n",
    "\n",
    "# komandu izpildes kontrole tiks apskatīta citā nodarbībā"
   ]
  },
  {
   "cell_type": "code",
   "execution_count": null,
   "metadata": {},
   "outputs": [],
   "source": []
  },
  {
   "cell_type": "markdown",
   "metadata": {},
   "source": [
    "---\n",
    "\n",
    "Identitātes salīdzināšanas operatori pārbauda vai divas vērtības norāda uz vienu un to pašu objektu:\n",
    "* `is` pārbauda objektu identitāti (vai abas vērtības norāda uz to pašu objektu)\n",
    "* `is not` pārbauda vai katra vērtība norāda uz citu objektu\n"
   ]
  },
  {
   "cell_type": "code",
   "execution_count": 70,
   "metadata": {},
   "outputs": [
    {
     "name": "stdout",
     "output_type": "stream",
     "text": [
      "True\n",
      "False\n"
     ]
    }
   ],
   "source": [
    "a = 124\n",
    "b = 124.0\n",
    "\n",
    "# vienādas vērtības (pēc salīdzināšanas operatora interpretācijas) bet dažādi objekti:\n",
    "print(a == b)\n",
    "print(a is b)"
   ]
  },
  {
   "cell_type": "markdown",
   "metadata": {},
   "source": [
    "#### 3. tēma - mini-uzdevums\n",
    "\n",
    "- saglabājiet teksta rindu vienā mainīgajā\n",
    "- otrā mainīgajā saglabājiet loģisku vērtību True vai False\n",
    "- izdrukājiet rezultātu izteiksmei, kura apvieno loģiskās vērtības mainīgā un teksta rindas mainīgā vērtības, izmantojot loģisko operatoru \"or\" vai \"and\""
   ]
  },
  {
   "cell_type": "code",
   "execution_count": 77,
   "metadata": {},
   "outputs": [
    {
     "name": "stdout",
     "output_type": "stream",
     "text": [
      "Mans teksts\n"
     ]
    }
   ],
   "source": [
    "txt = \"Mans teksts\"\n",
    "bool_value = True\n",
    "\n",
    "print(txt)"
   ]
  },
  {
   "cell_type": "code",
   "execution_count": 78,
   "metadata": {},
   "outputs": [
    {
     "name": "stdout",
     "output_type": "stream",
     "text": [
      "Mans teksts\n"
     ]
    }
   ],
   "source": [
    "print(txt or bool_value)"
   ]
  },
  {
   "cell_type": "markdown",
   "metadata": {},
   "source": [
    "## Nodarbības kopsavilkums\n",
    "\n",
    "Šajā nodarībā tika apskatīts:\n",
    "\n",
    "* kā darboties ar **Python interpretatoru**\n",
    "* kā izveidot vienkāršas **Python programmas**\n",
    "* **vērtības un vienkārši datu tipi**\n",
    "* **aritmētiskie operatori**\n",
    "* Python **mainīgie** un **konstantes**\n",
    "* **salīdzināšanas operatori**"
   ]
  },
  {
   "cell_type": "markdown",
   "metadata": {},
   "source": [
    "## Papildus uzdevumi\n",
    "\n"
   ]
  },
  {
   "cell_type": "markdown",
   "metadata": {},
   "source": [
    "### 1. uzdevums:\n",
    "\n",
    "- saglabājiet veselu skaitli vienā mainīgajā (piem., `value`)\n",
    "- ļaujiet lietotājam ievadīt veselu skaitli (izmantojot funkciju `input()`) un saglabājiet to citā mainīgajā\n",
    "- salīdziniet ievadīto vērtību ar izvēlēto skaitli\n",
    "  - izdrukājiet ziņu par to vai ievadītā vērtība ir lielāka, mazāka vai vienāda ar izvēlēt `value` mainīgā vērtību"
   ]
  },
  {
   "cell_type": "code",
   "execution_count": null,
   "metadata": {},
   "outputs": [],
   "source": [
    " \n",
    "\n"
   ]
  },
  {
   "cell_type": "markdown",
   "metadata": {},
   "source": [
    "### 2. uzdevums:\n",
    "\n",
    "Apskatiet šo Python programmu un norādiet uz tajā atrodamajiem diviem koda blokiem:"
   ]
  },
  {
   "cell_type": "code",
   "execution_count": null,
   "metadata": {},
   "outputs": [],
   "source": [
    "my_text = \"This is an example text value\"\n",
    "\n",
    "if len(my_text) > 10:\n",
    "    print(\"The length of this text value is larger than 10\")\n",
    "\n",
    "    if len(my_text) > 30:\n",
    "        print(\"This is a rather long text:\")\n",
    "        print(my_text)"
   ]
  },
  {
   "cell_type": "code",
   "execution_count": null,
   "metadata": {},
   "outputs": [],
   "source": [
    "print(len(my_text))"
   ]
  },
  {
   "cell_type": "markdown",
   "metadata": {},
   "source": [
    "## Papildus resursi\n",
    "\n",
    "### Automate the Boring Stuff\n",
    "\n",
    "- [Automate the Boring Stuff with Python](https://automatetheboringstuff.com/)\n",
    "\n",
    "### Python for Everybody\n",
    "\n",
    "- [Dr. Charles Severence](https://www.py4e.com/book) \n",
    "\n",
    "### Microsoft for Python\n",
    "\n",
    "- [Microsoft Course](https://learn.microsoft.com/en-us/training/modules/intro-to-python/)\n",
    "\n",
    "### Google Course for Python\n",
    "\n",
    "- [Google Dev Course](https://developers.google.com/edu/python)\n"
   ]
  }
 ],
 "metadata": {
  "kernelspec": {
   "display_name": "Python 3 (ipykernel)",
   "language": "python",
   "name": "python3"
  },
  "language_info": {
   "codemirror_mode": {
    "name": "ipython",
    "version": 3
   },
   "file_extension": ".py",
   "mimetype": "text/x-python",
   "name": "python",
   "nbconvert_exporter": "python",
   "pygments_lexer": "ipython3",
   "version": "3.12.7"
  }
 },
 "nbformat": 4,
 "nbformat_minor": 4
}
