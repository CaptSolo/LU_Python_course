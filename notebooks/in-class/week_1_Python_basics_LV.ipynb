{
  "cells": [
    {
      "cell_type": "markdown",
      "metadata": {
        "id": "4OlUN8pmjp3z"
      },
      "source": [
        "![LU Logo](https://www.lu.lv/fileadmin/user_upload/LU.LV/www.lu.lv/Logo/Logo_jaunie/LU_logo_LV_horiz.png)\n"
      ]
    },
    {
      "cell_type": "markdown",
      "metadata": {
        "id": "LAJXp5bPjp31"
      },
      "source": [
        "# 1. nedēļa: Ievads un Python pamati\n",
        "\n",
        "\n",
        "\n",
        "\n"
      ]
    },
    {
      "cell_type": "markdown",
      "metadata": {
        "id": "fat-DVHEjp31"
      },
      "source": [
        "## Kopsavilkums\n",
        "\n",
        "Nodarbībā tiks apskatītas šādas tēmas:\n",
        "\n",
        "* Ievads un Python programmēšanas valodas vēsture\n",
        "* Python instalēšana un programmēšanas vides sagatavošana\n",
        "* REPL (Read-Evaluate-Print Loop) vide, palīdzība\n",
        "* Sintakse un mainīgie: Python sintakses apgūšana\n",
        "* Datu tipi: teksta rindas, skaitļi (veseli skaitļi, daļskaitļi), loģiskās vērtības\n",
        "* Pamata operatori: aritmētiskie operatori, piešķiršana, salīdzināšana, loģiskie operatori\n",
        "* Mainīgie: mainīgo izveide un pielietošana\n",
        "\n",
        "## Prasības\n",
        "\n",
        "* Zināšanas par programmēšanas pamatjēdzieniem\n",
        "\n",
        "## Nodarbības mērķi\n",
        "\n",
        "Nodarbības beigās studenti varēs:\n",
        "\n",
        "* darboties ar Python interpretatoru\n",
        "* izveidot vienkāršas Python programmas\n",
        "* definēt un lietot mainīgos\n",
        "* lietot salīdzināšanas operatorus"
      ]
    },
    {
      "cell_type": "markdown",
      "metadata": {
        "id": "QD3zdHH8jp31"
      },
      "source": [
        "---\n",
        "\n",
        "## 1. tēma: - Python: vēsture un motivācija\n",
        "\n",
        "![Python XKCD comic](https://imgs.xkcd.com/comics/python.png)\n",
        "\n",
        "Avots: https://xkcd.com/353/\n"
      ]
    },
    {
      "cell_type": "markdown",
      "metadata": {
        "id": "adaK8WT8jp31"
      },
      "source": [
        "### 1.1 - Vēsture"
      ]
    },
    {
      "cell_type": "markdown",
      "metadata": {
        "id": "M80ifT1tjp31"
      },
      "source": [
        "* Python programmēšanas valodu izveidoja Guido van Rossum 1980-to gadu beigās\n",
        "  * ABC programmēšanas valodas pēctecis\n",
        "\n",
        "![Guido van Rossum](https://github.com/ValRCS/python_public_resources/blob/main/img/Guido_van_Rossum_2012_w400.jpg?raw=true)\n",
        "\n",
        "* Publiski izlaists 1991. gadā\n",
        "  * kļūdu situāciju apstrāde\n",
        "  * klases un mantošana\n",
        "  * moduļu sistēma\n",
        "  * pamata datu tipi\n",
        "\n",
        "---\n",
        "\n",
        "* Python 2.0, izlaists 2000. gada oktobrī\n",
        "  * Python 2 atbalsts tika pārtraukts 2020. gada 1. janvārī\n",
        "\n",
        "* Python 3.0, izlaists 2008. gada decembrī\n",
        "\n",
        "* Jaunākā versija: Python 3.12, izlaista 2023. gada oktobrī\n",
        "* Ikgadējs publicēšanas cikls - 2024. gadā tiks publicēts Python 3.13, u.t.t.\n",
        "\n",
        "* Python versiju lejupielāde: https://www.python.org/downloads/\n"
      ]
    },
    {
      "cell_type": "markdown",
      "metadata": {
        "id": "82JNUk5Qjp33"
      },
      "source": [
        "### 1.2 - Python: motivācija\n"
      ]
    },
    {
      "cell_type": "markdown",
      "metadata": {
        "id": "7ZszuebRjp33"
      },
      "source": [
        "* Python ir populāra programmēšanas valoda\n",
        "* Viegli apgūstama\n",
        "* \"Glue\" language\n",
        "* To lieto gan lieli, gan mazi uzņēmumi un organizācijas\n",
        "* Daudz-paradigmu valoda (objekt-orientēta, funkcionāla, ...)"
      ]
    },
    {
      "cell_type": "markdown",
      "metadata": {
        "id": "tWUBueWcjp33"
      },
      "source": [
        "**Python ir populāra programmēšanas valoda:**\n",
        "* https://www.tiobe.com/tiobe-index/\n",
        "\n",
        "![TIOBE Programming Language Index](https://github.com/ValRCS/python_public_resources/blob/main/img/tiobe-index-2023_08.png?raw=true)\n",
        "\n",
        "**\"Batteries included\" pieeja:**\n",
        "* [Python standarta bibliotēkā](https://docs.python.org/3/library/) ir atrodamas daudz bibliotēkas dažādu darbību veikšanai\n",
        "* Papildus Python bibliotēkas ir atrodamas [Python Package Index](https://pypi.org/) (Python pakotņu indeksā)\n",
        "\n",
        "![Batteries included](https://github.com/ValRCS/python_public_resources/blob/main/img/batteries.png?raw=true)"
      ]
    },
    {
      "cell_type": "markdown",
      "metadata": {
        "id": "oitCVAIljp35"
      },
      "source": [
        "### 1.3 - Python programmēšana vide\n"
      ]
    },
    {
      "cell_type": "markdown",
      "metadata": {
        "id": "RCJkwFIQjp35"
      },
      "source": [
        "#### Python instalēšanas iespējas\n",
        "\n",
        "a) Python tīmekļa vietne (standalone installation) https://www.python.org/downloads/\n",
        "\n",
        "b) Anaconda (instalācija, kurā ir iekļautas daudz papildus bibliotēkas un Jupyter Notebooks vide) https://www.anaconda.com/download/\n",
        "\n",
        "c) Google Colab (mākoņserviss, nekas nav jāinstalē - Google versija Jupyter Notebooks videi) https://colab.research.google.com/\n",
        "\n",
        "d) Repl.it (mākoņserviss, nekas nav jāinstalē ) https://repl.it/ vai citas līdzīgas vietnes\n",
        "\n",
        "e) Linux un macOS jau ir iekļauta Python versija, tomēr ir ieteicams uzinstalēt savu (parastu jaunāku) versiju izmantojot kādu no iepriekš apskatītajām metodēm vai pielietojot operētājsistēmas pakotņu pārvaldnieku.\n"
      ]
    },
    {
      "cell_type": "markdown",
      "metadata": {
        "id": "d4L-XI40jp35"
      },
      "source": [
        "#### Python darbināšana\n",
        "\n",
        "Python = intepretēta valoda (interpretators komandas izpilda vienu pēc otras)\n",
        "- REPL (Read,Evaluate,Print Loop) - interpretatora dialoga cikls: nolasīt komandu, izpildīt to, izdrukāt rezultātu\n",
        "\n",
        "Python programmu izveides un izpildes iespējas:\n",
        "\n",
        "a) ievadot komandas Python interpretatorā (REPL dialogā);\n",
        "\n",
        "b) Jupyter notebook vidē (līdzīgi Python REPL videi, bet komandas tiek izpildītas tīmekļa saskarnē);\n",
        "\n",
        "c) kā atsevišķas (stand-alone) lietones (rediģējot Python programmas kodu kādā no pirmkoda redaktoriem vai izstrādes vidēm).\n"
      ]
    },
    {
      "cell_type": "markdown",
      "metadata": {
        "id": "EI3vuduTjp35"
      },
      "source": [
        "#### Kā atvērt šo failu Google Colab vidē"
      ]
    },
    {
      "cell_type": "markdown",
      "metadata": {
        "id": "gs1WBSJpjp35"
      },
      "source": [
        "Atveriet šo failu (`week_1_Python_basics-LV.ipynb`) Github vietnē:\n",
        "- https://github.com/CaptSolo/LU_Python_course/tree/main/notebooks\n",
        "\n",
        "Lejuplādējiet šo Jupyter Notebook failu: nospiediet pogu \"Download raw file\".\n",
        "\n",
        "Atveriet [Google Colab](https://colab.research.google.com/), izvēlieties \"Upload\" sadaļu un augšuplādējiet šo Jupyter notebook failu.\n",
        "\n",
        "- Augšuplādētie faili (Jupyter notebooks) ir atrodami [Google Drive](https://drive.google.com/) direktorijā `Colab Notebooks`"
      ]
    },
    {
      "cell_type": "markdown",
      "metadata": {
        "id": "QCpGYXuhjp35"
      },
      "source": [
        "#### Jupyter Notebooks lietošana\n",
        "\n",
        "Jupyter Notebook vidē Jūs darbojaties ar satura šūnām (cells), kurās atrodas Python programmas koda fragmenti vai Markdown sintaksē noformēts teksts.\n",
        "\n",
        "Šīs taustiņu kombinācijas darbosies gan lokāli instalētā Jupyter Notebook, gan Google Colab vidē:\n",
        "\n",
        "- Ctrl-Enter izpilda šobrīd aktīvās šūnas kodu\n",
        "- Alt-Enter izpilda aktīvās šūnas kodu un zem aktīvās šūnas izveido jaunu koda šūnu\n",
        "- Esc-A izveido jaunu koda šūnu virs šobrīd aktīvās šūnas\n",
        "- Esc-B izveido jaunu koda šūnu zem aktīvās šūnas\n",
        "\n",
        "Šīs kombinācijas nedarbosies Google Colab vidē:\n",
        "\n",
        "- Esc-M nomaina šūnas tipu uz Markdown teksta šūnu (https://guides.github.com/pdfs/markdown-cheatsheet-online.pdf)\n",
        "- Esc-Y nomaina šūnas tipu uz Python koda šūnu\n",
        "- Esc-dd izdzēš aktīvo šūnu\n"
      ]
    },
    {
      "cell_type": "markdown",
      "source": [
        "**Šis ir svarīgs teksts**"
      ],
      "metadata": {
        "id": "_aYa1hmooPik"
      }
    },
    {
      "cell_type": "code",
      "source": [
        "print(\"Hello world!\")"
      ],
      "metadata": {
        "id": "Nqh7wzXtnsSO",
        "outputId": "4c2813ac-1bb7-42cc-8465-19e043982a84",
        "colab": {
          "base_uri": "https://localhost:8080/"
        }
      },
      "execution_count": 2,
      "outputs": [
        {
          "output_type": "stream",
          "name": "stdout",
          "text": [
            "Hello world!\n"
          ]
        }
      ]
    },
    {
      "cell_type": "code",
      "source": [],
      "metadata": {
        "id": "CCa6HK4yoGSz"
      },
      "execution_count": null,
      "outputs": []
    },
    {
      "cell_type": "code",
      "execution_count": null,
      "metadata": {
        "id": "EdvJDWQrjp35"
      },
      "outputs": [],
      "source": [
        "# This is a Python comment\n",
        "# Šis ir Python komentārs (komentāri sākas ar # simbolu)\n",
        "\n",
        "# Izveidojiet jaunu Python koda šūnu un izpildiet tajā kādu Python komandu"
      ]
    },
    {
      "cell_type": "code",
      "execution_count": null,
      "metadata": {
        "id": "PFIBcJWtjp37"
      },
      "outputs": [],
      "source": []
    },
    {
      "cell_type": "markdown",
      "metadata": {
        "id": "xkDKbBb_jp37"
      },
      "source": [
        "## 2. tēma: - sintakse, datu tipi, vērtības\n",
        "\n",
        "### 2.1 - Python sintakse"
      ]
    },
    {
      "cell_type": "markdown",
      "metadata": {
        "id": "Ev5XHxBnjp37"
      },
      "source": [
        "#### Vienkārša Python programma:"
      ]
    },
    {
      "cell_type": "code",
      "execution_count": 3,
      "metadata": {
        "id": "SifZq3Cjjp37",
        "outputId": "d8a5f36d-9257-4afa-dc55-bcd3e631c913",
        "colab": {
          "base_uri": "https://localhost:8080/"
        }
      },
      "outputs": [
        {
          "output_type": "stream",
          "name": "stdout",
          "text": [
            "Hello, world!\n"
          ]
        }
      ],
      "source": [
        "print(\"Hello, world!\")   # Šis ir komentārs"
      ]
    },
    {
      "cell_type": "code",
      "execution_count": null,
      "metadata": {
        "id": "Z36sYS88jp37"
      },
      "outputs": [],
      "source": [
        "# Katra komanda sākas jaunā rindā\n",
        "# Teksta rindas pieraksta izmantojot ' vai \" simbolus\n",
        "# Komentāri sākas ar # simbolu un turpinās līdz rindas beigām\n",
        "\n",
        "print(\"Hello, world!\")\n",
        "print(\"Some more text\")"
      ]
    },
    {
      "cell_type": "markdown",
      "metadata": {
        "id": "7fy5Q9FGjp37"
      },
      "source": [
        "#### Print ir funkcija. Mēs varam Python pajautāt parādīt palīdzības tekstu par to:"
      ]
    },
    {
      "cell_type": "code",
      "execution_count": 8,
      "metadata": {
        "id": "IGtuVewzjp37",
        "outputId": "466e8899-707c-4bd5-9382-953f1ba226d8",
        "colab": {
          "base_uri": "https://localhost:8080/"
        }
      },
      "outputs": [
        {
          "output_type": "stream",
          "name": "stdout",
          "text": [
            "Help on built-in function print in module builtins:\n",
            "\n",
            "print(...)\n",
            "    print(value, ..., sep=' ', end='\\n', file=sys.stdout, flush=False)\n",
            "    \n",
            "    Prints the values to a stream, or to sys.stdout by default.\n",
            "    Optional keyword arguments:\n",
            "    file:  a file-like object (stream); defaults to the current sys.stdout.\n",
            "    sep:   string inserted between values, default a space.\n",
            "    end:   string appended after the last value, default a newline.\n",
            "    flush: whether to forcibly flush the stream.\n",
            "\n"
          ]
        }
      ],
      "source": [
        "help(print)"
      ]
    },
    {
      "cell_type": "code",
      "execution_count": 9,
      "metadata": {
        "id": "hQFamEC1jp39",
        "outputId": "ce2022a3-0c5a-4420-993c-24338fe19c06",
        "colab": {
          "base_uri": "https://localhost:8080/"
        }
      },
      "outputs": [
        {
          "output_type": "stream",
          "name": "stdout",
          "text": [
            "Some text followed by a number: 100\n"
          ]
        }
      ],
      "source": [
        "# Print izsaukumam var būt vairāki parametri:\n",
        "\n",
        "print(\"Some text followed by a number:\", 100)"
      ]
    },
    {
      "cell_type": "code",
      "execution_count": null,
      "metadata": {
        "id": "nf9PWX-Xjp39"
      },
      "outputs": [],
      "source": [
        "# Izdrukājiet kaut ko arī Jūs:\n",
        "\n"
      ]
    },
    {
      "cell_type": "markdown",
      "metadata": {
        "id": "UztFwfTCjp39"
      },
      "source": [
        "### 2.2 - Vērtības un datu tipi\n",
        "\n",
        "Python programmēšanas valodā viss, ar ko mēs darbojamies, ir objekti\n",
        "* Katram objektam ir savs tips (ar tā atribūtiem un metodēm) un vērtība\n",
        "* Daļa objektu tipu ir maināmi (mutable), savukārt citu objektu vērtības nevar mainīt\n",
        "\n",
        "Vienkāršākie Python datu tipi:\n",
        "\n",
        "* Teksta rindas = str\n",
        "* Skaitļi\n",
        "  * veseli skaitļi (nav ierobežots garums) = int\n",
        "  * daļskaitļi (double tipa skaitļi ar peldošo komatu) = float\n",
        "* Loģiskās vērtības = bool"
      ]
    },
    {
      "cell_type": "markdown",
      "metadata": {
        "id": "cXXQ0ZN-jp39"
      },
      "source": [
        "#### Teksta rindas\n",
        "\n",
        "Teksta rindas ir Unicode simbolu virknes.\n",
        "\n",
        "Teksta rindas pieraksta ar ' vai \" pēdiņām."
      ]
    },
    {
      "cell_type": "code",
      "execution_count": 10,
      "metadata": {
        "id": "TLv_fqUwjp39",
        "outputId": "4a4d03bc-5c82-4141-a3da-966bb3c1c254",
        "colab": {
          "base_uri": "https://localhost:8080/",
          "height": 36
        }
      },
      "outputs": [
        {
          "output_type": "execute_result",
          "data": {
            "text/plain": [
              "'This is my text'"
            ],
            "application/vnd.google.colaboratory.intrinsic+json": {
              "type": "string"
            }
          },
          "metadata": {},
          "execution_count": 10
        }
      ],
      "source": [
        "'This is my text'"
      ]
    },
    {
      "cell_type": "code",
      "execution_count": 11,
      "metadata": {
        "id": "5P20JVF-jp39",
        "outputId": "b171d489-3e32-42c8-ea94-b9d377036109",
        "colab": {
          "base_uri": "https://localhost:8080/",
          "height": 36
        }
      },
      "outputs": [
        {
          "output_type": "execute_result",
          "data": {
            "text/plain": [
              "'Double quotes work too'"
            ],
            "application/vnd.google.colaboratory.intrinsic+json": {
              "type": "string"
            }
          },
          "metadata": {},
          "execution_count": 11
        }
      ],
      "source": [
        "\"Double quotes work too\""
      ]
    },
    {
      "cell_type": "code",
      "execution_count": 12,
      "metadata": {
        "id": "_y-BXJ7bjp39",
        "outputId": "abdf6e9a-2133-4e83-c340-80d67e183792",
        "colab": {
          "base_uri": "https://localhost:8080/"
        }
      },
      "outputs": [
        {
          "output_type": "stream",
          "name": "stdout",
          "text": [
            "This text contains \"quotes\".\n",
            "Another way how to include \"quotes\".\n"
          ]
        }
      ],
      "source": [
        "# Teksta rindās var būt arī pēdiņu ' vai \" simboli:\n",
        "\n",
        "print('This text contains \"quotes\".')\n",
        "print(\"Another way how to include \\\"quotes\\\".\")"
      ]
    },
    {
      "cell_type": "code",
      "execution_count": 13,
      "metadata": {
        "id": "yI4PV3Ifjp39",
        "outputId": "68dae5cd-3f8d-4aa2-9061-57dcb36cb261",
        "colab": {
          "base_uri": "https://localhost:8080/"
        }
      },
      "outputs": [
        {
          "output_type": "execute_result",
          "data": {
            "text/plain": [
              "str"
            ]
          },
          "metadata": {},
          "execution_count": 13
        }
      ],
      "source": [
        "# Ar type funkcijas palīdzību mēs varam uzzināt kāds ir objekta tips\n",
        "type('This is my text')"
      ]
    },
    {
      "cell_type": "code",
      "execution_count": 14,
      "metadata": {
        "id": "Zh-rJtS-jp3_",
        "outputId": "417fe098-be77-42ad-9aa6-5082259caa9a",
        "colab": {
          "base_uri": "https://localhost:8080/",
          "height": 36
        }
      },
      "outputs": [
        {
          "output_type": "execute_result",
          "data": {
            "text/plain": [
              "'This text\\nspans multiple\\nlines.\\n'"
            ],
            "application/vnd.google.colaboratory.intrinsic+json": {
              "type": "string"
            }
          },
          "metadata": {},
          "execution_count": 14
        }
      ],
      "source": [
        "# Python ir iespēja pierakstīt arī vairāk-rindu teksta vērtības (ar \"\"\" vai '''):\n",
        "\"\"\"This text\n",
        "spans multiple\n",
        "lines.\n",
        "\"\"\"\n",
        "\n",
        "# Piezīme: jaunas rindas simboli tiek attēloti kā \\n"
      ]
    },
    {
      "cell_type": "code",
      "execution_count": 15,
      "metadata": {
        "id": "Ih8GCuULjp3_",
        "outputId": "d5c74040-ea60-4e24-86a7-cf994b3fa430",
        "colab": {
          "base_uri": "https://localhost:8080/"
        }
      },
      "outputs": [
        {
          "output_type": "stream",
          "name": "stdout",
          "text": [
            "This text\n",
            "spans multiple\n",
            "lines.\n",
            "\n"
          ]
        }
      ],
      "source": [
        "# Print funkcija jaunas rindas simbolus attēlo katru jaunā rindā\n",
        "print(\"\"\"This text\n",
        "spans multiple\n",
        "lines.\n",
        "\"\"\")"
      ]
    },
    {
      "cell_type": "code",
      "execution_count": 16,
      "metadata": {
        "id": "ZRbJKGiHjp3_",
        "outputId": "121f6dc1-247e-4dc5-94b1-c7a03ddfb4f9",
        "colab": {
          "base_uri": "https://localhost:8080/",
          "height": 36
        }
      },
      "outputs": [
        {
          "output_type": "execute_result",
          "data": {
            "text/plain": [
              "'First string and the second string'"
            ],
            "application/vnd.google.colaboratory.intrinsic+json": {
              "type": "string"
            }
          },
          "metadata": {},
          "execution_count": 16
        }
      ],
      "source": [
        "# Teksta rindas var apvienot izmantojot + (plus) operatoru:\n",
        "\n",
        "\"First string\" + \" and the second string\""
      ]
    },
    {
      "cell_type": "markdown",
      "metadata": {
        "id": "CifwMQudjp3_"
      },
      "source": [
        "#### Skaitļi un aritmētiskie operatori\n",
        "\n",
        "Skaitļu tips var būt:\n",
        "* Integer = veseli skaitļi (ar neierobežotu garumu)\n",
        "* Float = dubultas precizitātes skaitļi ar peldošo komatu"
      ]
    },
    {
      "cell_type": "code",
      "execution_count": 17,
      "metadata": {
        "id": "y0gvy7x-jp3_",
        "outputId": "ad295527-00b7-49e9-bf67-251cb57ef5d9",
        "colab": {
          "base_uri": "https://localhost:8080/"
        }
      },
      "outputs": [
        {
          "output_type": "execute_result",
          "data": {
            "text/plain": [
              "200000"
            ]
          },
          "metadata": {},
          "execution_count": 17
        }
      ],
      "source": [
        "# Vesels skaitlis:\n",
        "\n",
        "200000"
      ]
    },
    {
      "cell_type": "code",
      "execution_count": 18,
      "metadata": {
        "id": "s0YWjDQRjp3_",
        "outputId": "b345203a-8899-476d-dbb8-115f7ba0fcc2",
        "colab": {
          "base_uri": "https://localhost:8080/"
        }
      },
      "outputs": [
        {
          "output_type": "execute_result",
          "data": {
            "text/plain": [
              "int"
            ]
          },
          "metadata": {},
          "execution_count": 18
        }
      ],
      "source": [
        "type(200000)"
      ]
    },
    {
      "cell_type": "code",
      "source": [
        "200_000_000"
      ],
      "metadata": {
        "id": "ZRQIGmB-q4ty",
        "outputId": "3f421c2e-aeb6-4c0b-f8af-6f12e47c1741",
        "colab": {
          "base_uri": "https://localhost:8080/"
        }
      },
      "execution_count": 21,
      "outputs": [
        {
          "output_type": "execute_result",
          "data": {
            "text/plain": [
              "200000000"
            ]
          },
          "metadata": {},
          "execution_count": 21
        }
      ]
    },
    {
      "cell_type": "code",
      "execution_count": 22,
      "metadata": {
        "id": "fcJOlnsDjp3_",
        "outputId": "f0fc4cca-4a2d-418e-cf17-c87d02266e73",
        "colab": {
          "base_uri": "https://localhost:8080/"
        }
      },
      "outputs": [
        {
          "output_type": "execute_result",
          "data": {
            "text/plain": [
              "123456789012345678901234567890"
            ]
          },
          "metadata": {},
          "execution_count": 22
        }
      ],
      "source": [
        "# Garāks vesels skaitlis:\n",
        "\n",
        "123456789012345678901234567890"
      ]
    },
    {
      "cell_type": "code",
      "execution_count": 24,
      "metadata": {
        "id": "tQh2EUFzjp3_",
        "outputId": "8a968cd9-a6ab-4f80-c9a8-0932b495efcc",
        "colab": {
          "base_uri": "https://localhost:8080/"
        }
      },
      "outputs": [
        {
          "output_type": "execute_result",
          "data": {
            "text/plain": [
              "3.14"
            ]
          },
          "metadata": {},
          "execution_count": 24
        }
      ],
      "source": [
        "# Daļskaitlis:\n",
        "\n",
        "3.14"
      ]
    },
    {
      "cell_type": "code",
      "execution_count": 25,
      "metadata": {
        "id": "U3X6Lzhhjp3_",
        "outputId": "a8ebdb78-2ae9-44a1-f12d-d8870b13261d",
        "colab": {
          "base_uri": "https://localhost:8080/"
        }
      },
      "outputs": [
        {
          "output_type": "execute_result",
          "data": {
            "text/plain": [
              "float"
            ]
          },
          "metadata": {},
          "execution_count": 25
        }
      ],
      "source": [
        "type(3.14)"
      ]
    },
    {
      "cell_type": "markdown",
      "metadata": {
        "id": "4W3f2oJejp4B"
      },
      "source": [
        "---\n",
        "\n",
        "**Skaitliskās operācijas:**\n",
        "* https://docs.python.org/3/library/stdtypes.html#numeric-types-int-float-complex"
      ]
    },
    {
      "cell_type": "code",
      "execution_count": 26,
      "metadata": {
        "id": "-eiZFUUNjp4B",
        "outputId": "4008f8e3-3384-411d-8a7c-0e5c7ef77d37",
        "colab": {
          "base_uri": "https://localhost:8080/"
        }
      },
      "outputs": [
        {
          "output_type": "stream",
          "name": "stdout",
          "text": [
            "5\n",
            "-1\n",
            "6\n",
            "0.6666666666666666\n"
          ]
        }
      ],
      "source": [
        "# Aritmētiskie operatori\n",
        "\n",
        "print(2 + 3)\n",
        "print(2 - 3)\n",
        "print(2 * 3)\n",
        "print(2 / 3)"
      ]
    },
    {
      "cell_type": "code",
      "execution_count": 27,
      "metadata": {
        "id": "tiVnUgK6jp4B",
        "outputId": "bd305257-7ecb-45b3-e4eb-6855aadd0347",
        "colab": {
          "base_uri": "https://localhost:8080/"
        }
      },
      "outputs": [
        {
          "output_type": "stream",
          "name": "stdout",
          "text": [
            "1\n",
            "2\n"
          ]
        }
      ],
      "source": [
        "# Veselu skaitļu dalīšana\n",
        "print(5 // 3)\n",
        "\n",
        "# Atlikums (modulis) dalot 5 ar 3:\n",
        "print(5 % 3)"
      ]
    },
    {
      "cell_type": "code",
      "execution_count": 28,
      "metadata": {
        "id": "PyP-npvZjp4B",
        "outputId": "1720ce11-5626-4670-803e-ed8fa8136ff2",
        "colab": {
          "base_uri": "https://localhost:8080/"
        }
      },
      "outputs": [
        {
          "output_type": "execute_result",
          "data": {
            "text/plain": [
              "176"
            ]
          },
          "metadata": {},
          "execution_count": 28
        }
      ],
      "source": [
        "# Mēs varam lietot Python kā kalkulatoru:\n",
        "\n",
        "2 + 3 * (51 + 7)"
      ]
    },
    {
      "cell_type": "code",
      "execution_count": 29,
      "metadata": {
        "id": "UGFYz5BKjp4B",
        "outputId": "7caa4561-2fd4-4434-f9fd-87d015b89b94",
        "colab": {
          "base_uri": "https://localhost:8080/"
        }
      },
      "outputs": [
        {
          "output_type": "execute_result",
          "data": {
            "text/plain": [
              "1024"
            ]
          },
          "metadata": {},
          "execution_count": 29
        }
      ],
      "source": [
        "2 ** 10    # skaitlis 2 desmitajā pakāpē"
      ]
    },
    {
      "cell_type": "code",
      "execution_count": 30,
      "metadata": {
        "id": "NNu7jNUljp4B",
        "outputId": "97d53b67-6dc1-4498-a5d9-aad2a89dd771",
        "colab": {
          "base_uri": "https://localhost:8080/"
        }
      },
      "outputs": [
        {
          "output_type": "execute_result",
          "data": {
            "text/plain": [
              "10000000000000000000000000000000000000000000000000000000000000000000000000000000000000000000000000000"
            ]
          },
          "metadata": {},
          "execution_count": 30
        }
      ],
      "source": [
        "# Googol = 10 simtajā pakāpē\n",
        "\n",
        "10 ** 100"
      ]
    },
    {
      "cell_type": "code",
      "execution_count": 31,
      "metadata": {
        "id": "ImBEGPw4jp4B",
        "outputId": "a7dfc31a-8eb2-4711-ac38-f8b4e9af10f4",
        "colab": {
          "base_uri": "https://localhost:8080/"
        }
      },
      "outputs": [
        {
          "output_type": "stream",
          "name": "stdout",
          "text": [
            "1000\n",
            "3\n"
          ]
        }
      ],
      "source": [
        "# Ar funkcijas int() palīdzību tās argumentu var pārvērst par veselu skaitli\n",
        "\n",
        "print(int(\"1000\"))\n",
        "print(int(3.14))"
      ]
    },
    {
      "cell_type": "code",
      "execution_count": 32,
      "metadata": {
        "id": "jfld1n9ojp4B",
        "outputId": "34cfbcc3-122d-435e-98f2-369e7278f209",
        "colab": {
          "base_uri": "https://localhost:8080/"
        }
      },
      "outputs": [
        {
          "output_type": "stream",
          "name": "stdout",
          "text": [
            "1000.0\n"
          ]
        }
      ],
      "source": [
        "# Funkcija float() pārvērš doto vērtību par daļskaitli\n",
        "\n",
        "print(float(\"1000\"))"
      ]
    },
    {
      "cell_type": "code",
      "execution_count": 33,
      "metadata": {
        "id": "CTHRa-POjp4B",
        "outputId": "c957be8a-7b76-4f4d-fda2-76e41510eee8",
        "colab": {
          "base_uri": "https://localhost:8080/",
          "height": 36
        }
      },
      "outputs": [
        {
          "output_type": "execute_result",
          "data": {
            "text/plain": [
              "'1000000'"
            ],
            "application/vnd.google.colaboratory.intrinsic+json": {
              "type": "string"
            }
          },
          "metadata": {},
          "execution_count": 33
        }
      ],
      "source": [
        "# str() pārvērš doto vērtību par teksta rindu\n",
        "\n",
        "str(1000000)"
      ]
    },
    {
      "cell_type": "markdown",
      "metadata": {
        "id": "0Lkx-V6Zjp4C"
      },
      "source": [
        "### Iebūvēts komplekso skaitļu atbalsts\n",
        "\n",
        "* https://docs.python.org/3/library/stdtypes.html#numeric-types-int-float-complex\n",
        "\n",
        "Python ir iekļauts komplekso skaitļu atbalsts, to imagināro daļu pierakstot ar sufiksu `j`."
      ]
    },
    {
      "cell_type": "code",
      "execution_count": 34,
      "metadata": {
        "id": "2RDZjEbdjp4C",
        "outputId": "e2e4de1b-a4d3-4a1a-fed3-8d66e0d99533",
        "colab": {
          "base_uri": "https://localhost:8080/"
        }
      },
      "outputs": [
        {
          "output_type": "stream",
          "name": "stdout",
          "text": [
            "(3+4j)\n",
            "(-7+24j)\n"
          ]
        }
      ],
      "source": [
        "# Kompleksa skaitļa piemērs\n",
        "complex_number = 3 + 4j # sufikss j norāda uz kompleksā skaitļa imagināro daļu (matemātikā uz to norāda ar i)\n",
        "print(complex_number)\n",
        "\n",
        "# Kompleksa skaitļa kāpināšana kvadrātā\n",
        "print(complex_number ** 2)"
      ]
    },
    {
      "cell_type": "markdown",
      "metadata": {
        "id": "gTEBdCmwjp4C"
      },
      "source": [
        "#### Loģiskās vērtības\n",
        "\n",
        "Loģiskās (boolean) vērtības var būt tikai patiesas (True) vai aplamas (False).\n"
      ]
    },
    {
      "cell_type": "code",
      "execution_count": 35,
      "metadata": {
        "id": "gLX4W8j0jp4D",
        "outputId": "dc52a129-ffbc-4dab-a51f-ff8a9fc9b219",
        "colab": {
          "base_uri": "https://localhost:8080/"
        }
      },
      "outputs": [
        {
          "output_type": "execute_result",
          "data": {
            "text/plain": [
              "True"
            ]
          },
          "metadata": {},
          "execution_count": 35
        }
      ],
      "source": [
        "True"
      ]
    },
    {
      "cell_type": "code",
      "execution_count": 36,
      "metadata": {
        "id": "AzJqZtx1jp4D",
        "outputId": "7c32a1c1-4025-4283-9515-854c6cbb849b",
        "colab": {
          "base_uri": "https://localhost:8080/"
        }
      },
      "outputs": [
        {
          "output_type": "execute_result",
          "data": {
            "text/plain": [
              "False"
            ]
          },
          "metadata": {},
          "execution_count": 36
        }
      ],
      "source": [
        "False"
      ]
    },
    {
      "cell_type": "code",
      "execution_count": 37,
      "metadata": {
        "id": "zHW6lK5jjp4D",
        "outputId": "79a85ee3-c809-4b04-a578-1c1e42c0bdff",
        "colab": {
          "base_uri": "https://localhost:8080/"
        }
      },
      "outputs": [
        {
          "output_type": "execute_result",
          "data": {
            "text/plain": [
              "bool"
            ]
          },
          "metadata": {},
          "execution_count": 37
        }
      ],
      "source": [
        "type(True)"
      ]
    },
    {
      "cell_type": "markdown",
      "metadata": {
        "id": "W1LzRO_yjp4D"
      },
      "source": [
        "**Loģisko vērtību pārbaude**\n",
        "\n",
        "Jebkurai vērtībai (jebkuram objektam) var veikt tās patiesuma pārbaudi = noteikt vai tā atbilst patiesuma vērtībai True vai False:\n",
        "* https://docs.python.org/3/library/stdtypes.html#truth-value-testing\n",
        "\n",
        "Lielākajai daļai vērtību to patiesuma vērtība ir True, izņemot:\n",
        "  * konstantes, kuru vērtība ir False: False, None\n",
        "  * nulli: 0, 0.0\n",
        "  * tukšas teksta rindas vai citas tukšas virknes vai kolekcijas: \"\", [], ..."
      ]
    },
    {
      "cell_type": "code",
      "execution_count": 38,
      "metadata": {
        "id": "Ch_lBhDKjp4D",
        "outputId": "53f1e360-2d67-472c-bb67-d8835ff5acf3",
        "colab": {
          "base_uri": "https://localhost:8080/"
        }
      },
      "outputs": [
        {
          "output_type": "execute_result",
          "data": {
            "text/plain": [
              "False"
            ]
          },
          "metadata": {},
          "execution_count": 38
        }
      ],
      "source": [
        "bool(0.0)"
      ]
    },
    {
      "cell_type": "code",
      "execution_count": 39,
      "metadata": {
        "id": "d5TFe_xTjp4E",
        "outputId": "b4009666-91e2-429c-9156-ff0e8294c21c",
        "colab": {
          "base_uri": "https://localhost:8080/"
        }
      },
      "outputs": [
        {
          "output_type": "execute_result",
          "data": {
            "text/plain": [
              "False"
            ]
          },
          "metadata": {},
          "execution_count": 39
        }
      ],
      "source": [
        "bool(\"\")"
      ]
    },
    {
      "cell_type": "code",
      "execution_count": 40,
      "metadata": {
        "id": "_KIjstVbjp4E",
        "outputId": "70e73ab5-b4f2-4ceb-9858-369589b33e17",
        "colab": {
          "base_uri": "https://localhost:8080/"
        }
      },
      "outputs": [
        {
          "output_type": "execute_result",
          "data": {
            "text/plain": [
              "True"
            ]
          },
          "metadata": {},
          "execution_count": 40
        }
      ],
      "source": [
        "bool(100)"
      ]
    },
    {
      "cell_type": "markdown",
      "metadata": {
        "id": "LMR6ElIHjp4E"
      },
      "source": [
        "**Loģiskās operācijas**\n",
        "\n",
        "Python ir pieejamas loģiskās (boolean) operācijas \"and\", \"or\" un \"not\":\n",
        "* https://docs.python.org/3/library/stdtypes.html#boolean-operations-and-or-not"
      ]
    },
    {
      "cell_type": "code",
      "execution_count": 41,
      "metadata": {
        "id": "esgrgNLijp4E",
        "outputId": "a9b3eea4-d21e-41ed-e00b-bbc6da8652ae",
        "colab": {
          "base_uri": "https://localhost:8080/"
        }
      },
      "outputs": [
        {
          "output_type": "execute_result",
          "data": {
            "text/plain": [
              "False"
            ]
          },
          "metadata": {},
          "execution_count": 41
        }
      ],
      "source": [
        "True and False"
      ]
    },
    {
      "cell_type": "code",
      "source": [
        "True and True"
      ],
      "metadata": {
        "id": "sF4zSlWCta1w",
        "outputId": "20a6e251-7b39-4aa4-ef5e-8a7084d97189",
        "colab": {
          "base_uri": "https://localhost:8080/"
        }
      },
      "execution_count": 42,
      "outputs": [
        {
          "output_type": "execute_result",
          "data": {
            "text/plain": [
              "True"
            ]
          },
          "metadata": {},
          "execution_count": 42
        }
      ]
    },
    {
      "cell_type": "code",
      "execution_count": 43,
      "metadata": {
        "id": "WTKkWctujp4F",
        "outputId": "eed95988-9c9d-43fd-b6ba-d4997e6d10f1",
        "colab": {
          "base_uri": "https://localhost:8080/"
        }
      },
      "outputs": [
        {
          "output_type": "execute_result",
          "data": {
            "text/plain": [
              "True"
            ]
          },
          "metadata": {},
          "execution_count": 43
        }
      ],
      "source": [
        "True or False"
      ]
    },
    {
      "cell_type": "code",
      "execution_count": 44,
      "metadata": {
        "id": "rIIWpQaBjp4F",
        "outputId": "4e6c86d3-c92a-41e0-92e8-659cef22187f",
        "colab": {
          "base_uri": "https://localhost:8080/"
        }
      },
      "outputs": [
        {
          "output_type": "execute_result",
          "data": {
            "text/plain": [
              "False"
            ]
          },
          "metadata": {},
          "execution_count": 44
        }
      ],
      "source": [
        "not True"
      ]
    },
    {
      "cell_type": "markdown",
      "metadata": {
        "id": "GV94fcTujp4F"
      },
      "source": [
        "#### 2. tēma - mini uzdevums\n",
        "\n",
        "* pielietojiet Python kā kalkulatoru"
      ]
    },
    {
      "cell_type": "code",
      "execution_count": 45,
      "metadata": {
        "id": "8SIYG0u0jp4F",
        "outputId": "d35b0423-c380-4a7f-8089-084f35ae0d60",
        "colab": {
          "base_uri": "https://localhost:8080/"
        }
      },
      "outputs": [
        {
          "output_type": "execute_result",
          "data": {
            "text/plain": [
              "17100"
            ]
          },
          "metadata": {},
          "execution_count": 45
        }
      ],
      "source": [
        "180 * (130-35)"
      ]
    },
    {
      "cell_type": "markdown",
      "metadata": {
        "id": "NLc1YMk1jp4F"
      },
      "source": [
        "## 3. tēma: - Mainīgie un operatori\n",
        "\n",
        "**Operatori** ir īpaši simboli, kas norāda Python interpretatoram, ka ir jāveic kādi aprēķini vai darbības. Operatori apvieno Python objektus **izteiksmēs**.\n",
        "\n",
        "Mēs jau iepriekš apskatījām aritmētiskos un loģiskos operatorus. Tālāk šajā tēmā tiks apskatīts piešķiršanas operators (=) un salīdzināšanas operatori."
      ]
    },
    {
      "cell_type": "markdown",
      "metadata": {
        "id": "mgjv9RYtjp4F"
      },
      "source": [
        "### 3.1 - Mainīgie\n",
        "\n",
        "**Mainīgie** ļauj objektam vai vērtībai piešķirt vārdu.\n",
        "\n",
        "* Mainīgie ir kā vārds, kas ir piešķirts objektam (vai kā vārds \"kastei\", kurā ir ievietots objekts)\n",
        "\n",
        "Mainīgo vērtības tiek piešķirtas izmantojot piešķiršanas operatoru: `=`\n",
        "\n",
        "Python valodā nav iepriekš jādeklarē mainīgo tipi - var vienkārši piešķirt tiem vērtību un sākt tos pielietot tālāk programmas kodā."
      ]
    },
    {
      "cell_type": "code",
      "execution_count": 46,
      "metadata": {
        "id": "CMMVpBsGjp4G"
      },
      "outputs": [],
      "source": [
        "# mainīgā definēšana\n",
        "my_variable = 3.14"
      ]
    },
    {
      "cell_type": "code",
      "execution_count": 47,
      "metadata": {
        "id": "yzwehzQxjp4G",
        "outputId": "8c7e1218-990e-45c9-8149-1cf028704bfd",
        "colab": {
          "base_uri": "https://localhost:8080/"
        }
      },
      "outputs": [
        {
          "output_type": "stream",
          "name": "stdout",
          "text": [
            "3.14\n"
          ]
        }
      ],
      "source": [
        "# mainīgā pielietošana\n",
        "print(my_variable)"
      ]
    },
    {
      "cell_type": "code",
      "execution_count": 52,
      "metadata": {
        "id": "sto0TxcZjp4G",
        "outputId": "9164e446-dbc2-4e9c-e345-d85597cdff5d",
        "colab": {
          "base_uri": "https://localhost:8080/"
        }
      },
      "outputs": [
        {
          "output_type": "stream",
          "name": "stdout",
          "text": [
            "1000\n"
          ]
        }
      ],
      "source": [
        "# mainīgā vērtību var vēlāk nomainīt uz kādu citu vērtību\n",
        "# (tad mainīgais norādīs uz jauno vērtību)\n",
        "\n",
        "my_variable = 1000\n",
        "print(my_variable)"
      ]
    },
    {
      "cell_type": "markdown",
      "metadata": {
        "id": "RrAUuNXfjp4G"
      },
      "source": [
        "Katram objektam (mainīgā vērtībai) ir savs tips, bet pašiem mainīgajiem nav savs tips - to vērtība un tai atbilstošais datu tips var tikt mainīts:"
      ]
    },
    {
      "cell_type": "code",
      "execution_count": 53,
      "metadata": {
        "id": "-Z7TU20ujp4H",
        "outputId": "d830de4e-4f56-4a49-96d0-7f178d64eab0",
        "colab": {
          "base_uri": "https://localhost:8080/"
        }
      },
      "outputs": [
        {
          "output_type": "stream",
          "name": "stdout",
          "text": [
            "I am a text string now!\n"
          ]
        }
      ],
      "source": [
        "my_variable = \"I am a text string now!\"\n",
        "print(my_variable)"
      ]
    },
    {
      "cell_type": "code",
      "execution_count": 54,
      "metadata": {
        "id": "6Nhg7ZdBjp4H"
      },
      "outputs": [],
      "source": [
        "# Vairāki mainīgie var norādīt uz to pašu objektu:\n",
        "new_name = my_variable"
      ]
    },
    {
      "cell_type": "markdown",
      "metadata": {
        "id": "ipUTSV2ejp4H"
      },
      "source": [
        "Mainīgos var izmantot izteiksmēs, nodot kā funkciju parametrus, ...:"
      ]
    },
    {
      "cell_type": "code",
      "execution_count": 57,
      "metadata": {
        "id": "tXmEoRAjjp4H",
        "outputId": "489ff0a6-7c97-439f-b4ad-a7dca6e9b652",
        "colab": {
          "base_uri": "https://localhost:8080/"
        }
      },
      "outputs": [
        {
          "output_type": "stream",
          "name": "stdout",
          "text": [
            "Radius: 5\n",
            "Area: 78.53975\n"
          ]
        }
      ],
      "source": [
        "pi = 3.14159\n",
        "radius = 5\n",
        "\n",
        "# riņķa līnijas laukums\n",
        "area = pi * (radius ** 2)\n",
        "\n",
        "print(\"Radius:\", radius)\n",
        "print(\"Area:\", area)"
      ]
    },
    {
      "cell_type": "markdown",
      "metadata": {
        "id": "Fwn1Xqmgjp4H"
      },
      "source": [
        "### Mainīgo nosaukumu veidošanas principi\n",
        "\n",
        "Mainīgo nosaukumu veidošanas labā prakse: https://www.python.org/dev/peps/pep-0008/#naming-conventions\n",
        "\n",
        "Labās prakses pamati:\n",
        "* Mainīgo nosaukumiem ir jābūt aprakstošiem un nav jābūt pārāk gariem\n",
        "* Nosaukumus, kas satur vairākus vārdus, pieraksta ar mazajiem burtiem, atdalot vārdus ar pasvītrojuma simbolu (_).\n",
        "* Izvairieties no pārāk vispārīgiem nosaukumiem (piem., \"data\" vai \"value\")\n",
        "* Izvairieties no pārāk īsiem nosaukumiem (piem, \"a\" vai \"x\")"
      ]
    },
    {
      "cell_type": "code",
      "execution_count": null,
      "metadata": {
        "id": "se6VDsZRjp4H"
      },
      "outputs": [],
      "source": [
        "# labu nosaukumu paraugi:\n",
        "radius = 7\n",
        "area_of_circle = pi * (radius ** 2)\n",
        "\n",
        "# sliktāki nosaukumu paraugi:\n",
        "r = 7\n",
        "a_o_c = pi * (r ** 2)\n",
        "\n",
        "# slikti nosaukumi:\n",
        "x = 7\n",
        "y = pi * (x ** 2)\n",
        "# ... jo x un y labi neapraksta šo mainīgo būtību\n"
      ]
    },
    {
      "cell_type": "markdown",
      "metadata": {
        "id": "d49mkCvyjp4I"
      },
      "source": [
        "### Konstantes\n",
        "\n",
        "* Python valodā nav īpaša sintakse konstanšu definēšanai.\n",
        "* Konstantes vienkārši ir mainīgie, kuru vērtības nav paredzēts mainīt.\n",
        "* Konstantēm nosaukumus parasti pieraksta ar visiem lielajiem burtiem."
      ]
    },
    {
      "cell_type": "code",
      "execution_count": null,
      "metadata": {
        "id": "MCvz2bhDjp4I"
      },
      "outputs": [],
      "source": [
        "#\n",
        "PI = 3.1415926\n",
        "GOLDEN_MEAN = 1.6180339887\n",
        "\n",
        "# teorētiski šo konstanšu vērtības var arī mainīt\n",
        "# bet to nevajag darīt!"
      ]
    },
    {
      "cell_type": "markdown",
      "metadata": {
        "id": "JFKbOFXtjp4I"
      },
      "source": [
        "### 3.2 - Salīdzināšanas operatori\n"
      ]
    },
    {
      "cell_type": "markdown",
      "metadata": {
        "id": "CI6XgPSsjp4I"
      },
      "source": [
        "**Salīdzināšanas operatori** ļauj mums salīdzināt 2 vērtības un atgriež šīs salīdzināšanas rezultātu (True vai False). Python valodā ir vērtību salīdzināšanas operatori un identitātes salīdzināšanas operatori.\n",
        "\n",
        "Šos operatorus vai pielietot dažādiem objektu tipiem (kaut arī daļai no objektu tipiem var nebūt realizēti visi salīdzināšanas operatori).\n",
        "\n",
        "Vērtību salīdzināšanas operatori:\n",
        "* `==` abas vērtības ir vienādas\n",
        "* `!=` vērtības nav vienādas\n",
        "* `<` mazāks nekā\n",
        "* `<=` mazāks vai vienāds\n",
        "* `>` lielāks nekā\n",
        "* `>=` lielāks vai vienāds"
      ]
    },
    {
      "cell_type": "code",
      "execution_count": 58,
      "metadata": {
        "id": "bS162P3Hjp4I",
        "outputId": "2e48c244-a4fb-4d6d-8b58-2750761245c5",
        "colab": {
          "base_uri": "https://localhost:8080/"
        }
      },
      "outputs": [
        {
          "output_type": "execute_result",
          "data": {
            "text/plain": [
              "True"
            ]
          },
          "metadata": {},
          "execution_count": 58
        }
      ],
      "source": [
        "5 == 5"
      ]
    },
    {
      "cell_type": "code",
      "execution_count": 59,
      "metadata": {
        "id": "yvQAAtzxjp4J",
        "outputId": "d884b094-63fd-4f77-ad26-db15eb303326",
        "colab": {
          "base_uri": "https://localhost:8080/"
        }
      },
      "outputs": [
        {
          "output_type": "stream",
          "name": "stdout",
          "text": [
            "False\n",
            "True\n",
            "False\n"
          ]
        }
      ],
      "source": [
        "print(5 != 5)\n",
        "print(5 < 6)\n",
        "print(5 >= 6)"
      ]
    },
    {
      "cell_type": "code",
      "execution_count": 60,
      "metadata": {
        "id": "4yA5x8NVjp4J",
        "outputId": "f4110bda-cfa9-455f-c093-fb5cd706c89b",
        "colab": {
          "base_uri": "https://localhost:8080/"
        }
      },
      "outputs": [
        {
          "output_type": "stream",
          "name": "stdout",
          "text": [
            "True\n",
            "True\n"
          ]
        }
      ],
      "source": [
        "# var salīdzināt arī dažāda tipa vērtības\n",
        "\n",
        "print(0 == 0.0)\n",
        "print(5 > 4.5)"
      ]
    },
    {
      "cell_type": "code",
      "execution_count": 61,
      "metadata": {
        "id": "2Mub9rg9jp4J",
        "outputId": "070059a9-94ba-4369-a162-eb111676ceb8",
        "colab": {
          "base_uri": "https://localhost:8080/"
        }
      },
      "outputs": [
        {
          "output_type": "stream",
          "name": "stdout",
          "text": [
            "True\n",
            "True\n"
          ]
        }
      ],
      "source": [
        "# var salīdzināt teksta rindas:\n",
        "\n",
        "print(\"this\" != \"that\")\n",
        "print(\"this\" == \"this\")"
      ]
    },
    {
      "cell_type": "code",
      "execution_count": 62,
      "metadata": {
        "id": "8iax7Ac_jp4J",
        "outputId": "33ce9c6a-7011-48ac-807d-75aa2697d393",
        "colab": {
          "base_uri": "https://localhost:8080/"
        }
      },
      "outputs": [
        {
          "output_type": "execute_result",
          "data": {
            "text/plain": [
              "False"
            ]
          },
          "metadata": {},
          "execution_count": 62
        }
      ],
      "source": [
        "# viena teksta rinda var būt \"lielāka\" vai \"mazāka\" par citu teksta rindu\n",
        "\n",
        "# teksta rindas tiek salīdzinātas simbolu pa simbolam līdz šie simboli atškiras\n",
        "# pēc tam tiek salīdzināti atšķirīgo simbolu kodi\n",
        "\n",
        "\"this\" < \"that\""
      ]
    },
    {
      "cell_type": "code",
      "execution_count": 63,
      "metadata": {
        "id": "Iy1ja43ejp4K",
        "outputId": "508dc418-48b3-4580-abfc-d273addfabcd",
        "colab": {
          "base_uri": "https://localhost:8080/"
        }
      },
      "outputs": [
        {
          "output_type": "execute_result",
          "data": {
            "text/plain": [
              "105"
            ]
          },
          "metadata": {},
          "execution_count": 63
        }
      ],
      "source": [
        "ord(\"i\")"
      ]
    },
    {
      "cell_type": "code",
      "execution_count": 64,
      "metadata": {
        "id": "FX8J73KFjp4K",
        "outputId": "5de3bb54-5c64-46dd-b736-9bf725322f4e",
        "colab": {
          "base_uri": "https://localhost:8080/"
        }
      },
      "outputs": [
        {
          "output_type": "execute_result",
          "data": {
            "text/plain": [
              "97"
            ]
          },
          "metadata": {},
          "execution_count": 64
        }
      ],
      "source": [
        "ord(\"a\")"
      ]
    },
    {
      "cell_type": "code",
      "source": [
        "ord(\"ā\")"
      ],
      "metadata": {
        "id": "ue3hx3NwxDA-",
        "outputId": "2d6420b5-46a8-42fa-a9a0-9d41751f1cfb",
        "colab": {
          "base_uri": "https://localhost:8080/"
        }
      },
      "execution_count": 65,
      "outputs": [
        {
          "output_type": "execute_result",
          "data": {
            "text/plain": [
              "257"
            ]
          },
          "metadata": {},
          "execution_count": 65
        }
      ]
    },
    {
      "cell_type": "code",
      "execution_count": 68,
      "metadata": {
        "id": "VNv_C0qmjp4K",
        "outputId": "396b5701-fb5c-4549-ddac-5ebf4cc1ba0f",
        "colab": {
          "base_uri": "https://localhost:8080/"
        }
      },
      "outputs": [
        {
          "output_type": "stream",
          "name": "stdout",
          "text": [
            "Area of this circle is larger than 50\n",
            "More text here\n",
            "\n",
            "This will always be printed\n"
          ]
        }
      ],
      "source": [
        "# salīdzināšanas operatorus pielieto komandu izpildes kontroles instrukcijās (piem., komandā \"if\")\n",
        "\n",
        "if area > 50:\n",
        "    # komandu bloki Python valodā tiek norādīti ar atstarpi no kreisās malas\n",
        "    # piem., šīs divas print() komandas tiks izpildītas, ja \"if\" nosacījums ir patiess\n",
        "    print(\"Area of this circle is larger than 50\")\n",
        "    print(\"More text here\")\n",
        "\n",
        "print()\n",
        "print(\"This will always be printed\")\n",
        "\n",
        "# komandu izpildes kontrole tiks apskatīta citā nodarbībā"
      ]
    },
    {
      "cell_type": "code",
      "execution_count": null,
      "metadata": {
        "id": "W2xeojUljp4K"
      },
      "outputs": [],
      "source": []
    },
    {
      "cell_type": "markdown",
      "metadata": {
        "id": "BGpyAe7Fjp4K"
      },
      "source": [
        "---\n",
        "\n",
        "Identitātes salīdzināšanas operatori pārbauda vai divas vērtības norāda uz vienu un to pašu objektu:\n",
        "* `is` pārbauda objektu identitāti (vai abas vērtības norāda uz to pašu objektu)\n",
        "* `is not` pārbauda vai katra vērtība norāda uz citu objektu\n"
      ]
    },
    {
      "cell_type": "code",
      "execution_count": 69,
      "metadata": {
        "id": "vtBC7zO9jp4K",
        "outputId": "221d13bc-d80e-4285-d01d-4ac154d7ea1b",
        "colab": {
          "base_uri": "https://localhost:8080/"
        }
      },
      "outputs": [
        {
          "output_type": "stream",
          "name": "stdout",
          "text": [
            "True\n",
            "False\n"
          ]
        }
      ],
      "source": [
        "a = 124\n",
        "b = 124.0\n",
        "\n",
        "# vienādas vērtības (pēc salīdzināšanas operatora interpretācijas) bet dažādi objekti:\n",
        "print(a == b)\n",
        "print(a is b)"
      ]
    },
    {
      "cell_type": "markdown",
      "metadata": {
        "id": "rC2SUipLjp4L"
      },
      "source": [
        "#### 3. tēma - mini-uzdevums\n",
        "\n",
        "- saglabājiet teksta rindu vienā mainīgajā\n",
        "- otrā mainīgajā saglabājiet loģisku vērtību True vai False\n",
        "- izdrukājiet rezultātu izteiksmei, kura apvieno loģiskās vērtības mainīgā un teksta rindas mainīgā vērtības, izmantojot loģisko operatoru \"or\" vai \"and\""
      ]
    },
    {
      "cell_type": "code",
      "execution_count": 72,
      "metadata": {
        "id": "iYsTe_Xejp4L"
      },
      "outputs": [],
      "source": []
    },
    {
      "cell_type": "markdown",
      "metadata": {
        "id": "zEFcN9nmjp4L"
      },
      "source": [
        "## Nodarbības kopsavilkums\n",
        "\n",
        "Šajā nodarībā tika apskatīts:\n",
        "\n",
        "* kā darboties ar **Python interpretatoru**\n",
        "* kā izveidot vienkāršas **Python programmas**\n",
        "* **vērtības un vienkārši datu tipi**\n",
        "* **aritmētiskie operatori**\n",
        "* Python **mainīgie** un **konstantes**\n",
        "* **salīdzināšanas operatori**"
      ]
    },
    {
      "cell_type": "markdown",
      "metadata": {
        "id": "Ksong2Ovjp4L"
      },
      "source": [
        "## Papildus uzdevumi\n",
        "\n"
      ]
    },
    {
      "cell_type": "markdown",
      "metadata": {
        "id": "Wq0lwos2jp4L"
      },
      "source": [
        "### 1. uzdevums:\n",
        "\n",
        "- saglabājiet veselu skaitli vienā mainīgajā (piem., `value`)\n",
        "- ļaujiet lietotājam ievadīt veselu skaitli (izmantojot funkciju `input()`) un saglabājiet to citā mainīgajā\n",
        "- salīdziniet ievadīto vērtību ar izvēlēto skaitli\n",
        "  - izdrukājiet ziņu par to vai ievadītā vērtība ir lielāka, mazāka vai vienāda ar izvēlēto `value` mainīgā vērtību"
      ]
    },
    {
      "cell_type": "code",
      "execution_count": null,
      "metadata": {
        "id": "8QCYXCp4jp4M"
      },
      "outputs": [],
      "source": [
        "\n",
        "\n"
      ]
    },
    {
      "cell_type": "markdown",
      "metadata": {
        "id": "SmhrZunEjp4M"
      },
      "source": [
        "### 2. uzdevums:\n",
        "\n",
        "Apskatiet šo Python programmu un norādiet uz tajā atrodamajiem diviem koda blokiem:"
      ]
    },
    {
      "cell_type": "code",
      "execution_count": 73,
      "metadata": {
        "id": "7mLqgVRajp4N",
        "outputId": "71a1fe3e-b049-4329-cf0b-a1787ee01b76",
        "colab": {
          "base_uri": "https://localhost:8080/"
        }
      },
      "outputs": [
        {
          "output_type": "stream",
          "name": "stdout",
          "text": [
            "The length of this text value is larger than 10\n"
          ]
        }
      ],
      "source": [
        "my_text = \"This is an example text value\"\n",
        "\n",
        "if len(my_text) > 10:\n",
        "    print(\"The length of this text value is larger than 10\")\n",
        "\n",
        "    if len(my_text) > 30:\n",
        "        print(\"This is a rather long text:\")\n",
        "        print(my_text)"
      ]
    },
    {
      "cell_type": "code",
      "execution_count": 74,
      "metadata": {
        "id": "lYtW4TM8jp4N",
        "outputId": "3844ad97-4319-4dc1-ed68-9216757f10ed",
        "colab": {
          "base_uri": "https://localhost:8080/"
        }
      },
      "outputs": [
        {
          "output_type": "stream",
          "name": "stdout",
          "text": [
            "29\n"
          ]
        }
      ],
      "source": [
        "print(len(my_text))"
      ]
    },
    {
      "cell_type": "markdown",
      "metadata": {
        "id": "_lm32jewjp4N"
      },
      "source": [
        "## Papildus resursi\n",
        "\n",
        "### Python for Everybody\n",
        "\n",
        "- [Dr. Charles Severence](https://www.py4e.com/book)\n",
        "\n",
        "### Microsoft for Python\n",
        "\n",
        "- [Microsoft Course](https://learn.microsoft.com/en-us/training/modules/intro-to-python/)\n",
        "\n",
        "### Google Course for Python\n",
        "\n",
        "- [Google Dev Course](https://developers.google.com/edu/python)\n"
      ]
    }
  ],
  "metadata": {
    "kernelspec": {
      "display_name": "Python 3 (ipykernel)",
      "language": "python",
      "name": "python3"
    },
    "language_info": {
      "codemirror_mode": {
        "name": "ipython",
        "version": 3
      },
      "file_extension": ".py",
      "mimetype": "text/x-python",
      "name": "python",
      "nbconvert_exporter": "python",
      "pygments_lexer": "ipython3",
      "version": "3.12.4"
    },
    "colab": {
      "provenance": []
    }
  },
  "nbformat": 4,
  "nbformat_minor": 0
}