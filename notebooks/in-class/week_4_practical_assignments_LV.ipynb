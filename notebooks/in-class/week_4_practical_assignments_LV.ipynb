{
 "cells": [
  {
   "cell_type": "markdown",
   "id": "f198e8d8-1799-4fe4-8921-70b6d96d1b52",
   "metadata": {},
   "source": [
    "## Uzdevumi treniņam\n",
    "\n",
    "### Uzdevums 1\n",
    "\n",
    "---\n",
    "\n",
    "Uzrakstiet funkciju, kas kā parametrus saņem vārdnīcu un vērtību, un atgriež sarakstu ar pāriem, kur atslēga un vērtība sakrīt ar vērtību, kas padota funkcijai.\n",
    "- piemērs:\n",
    "   - ievade: `{'a': 1, 'b': 2, 'c': 3, 'd': 2}, 2`\n",
    "   - izvade: `[('b', 2), ('d', 2)]`\n",
    "\n",
    "Piezīme: šo var izdarīt arī izmantojot list comprehension."
   ]
  },
  {
   "cell_type": "code",
   "execution_count": null,
   "id": "098a7f0e-7878-446a-8afe-e5dd218ef3c1",
   "metadata": {},
   "outputs": [],
   "source": []
  },
  {
   "cell_type": "markdown",
   "id": "e798c32f-1c5e-4ee4-a692-b5e4a912e0e5",
   "metadata": {},
   "source": [
    "---\n",
    "\n",
    "### Uzdevums 2 - Burtu skaitīšana\n",
    "\n",
    "\n",
    "Uzrakstiet funkciju, kas ņem tekstu un saskaita cik reizes katrs burts parādās tekstā. Atgrieziet sarakstu ar pāriem, kur katrā pārī ir burts un cik reizes tas parādās tekstā.\n",
    "\n",
    "Piezīme: šāda iespēja jau ir iebūvēta Python Counter objektā, bet mēs vēlamies, lai jūs to izdarītu paši.\n",
    "\n",
    "Bonus: ja varat norādīt top n biežāk sastopamos burtus, ko atgriezt.\n",
    "\n",
    "Papildu sarežģītība: pārveidojiet šo funkciju tā, lai tā skaitītu vārdu biežumu tekstā.\n"
   ]
  },
  {
   "cell_type": "code",
   "execution_count": null,
   "id": "2265e33c-1465-493e-948e-ec4c37905124",
   "metadata": {},
   "outputs": [],
   "source": []
  },
  {
   "cell_type": "markdown",
   "id": "25d0f066-fd78-482a-a8e2-d673b7127335",
   "metadata": {},
   "source": [
    "---\n",
    "\n",
    "### Uzdevums 3 - Pangrammas\n",
    "\n",
    "Uzrakstiet funkciju `is_pangram`, kas atgriezīs `True`, ja dotais teksts ir pangramma, citādi atgriezīs `False`. Pangramma ir teikums, kas satur visus alfabēta burtus vismaz vienu reizi. Piemēram, teikums `\"The quick brown fox jumps over the lazy dog\"` ir pangramma, jo tas izmanto burtus `a-z` vismaz vienu reizi (lielais vai mazais burts nav svarīgs).\n",
    "\n",
    "Papildu sarežģītība, ja jūsu funkcijai ir neobligāts parametrs `alphabet`. Tas ļautu pārbaudīt, vai teikums ir pangramma citā valodā, nekā angļu valodā.\t\n"
   ]
  },
  {
   "cell_type": "code",
   "execution_count": null,
   "id": "4decf9ac-3ca3-4f2b-b5ab-bc6228d7852b",
   "metadata": {},
   "outputs": [],
   "source": []
  },
  {
   "cell_type": "markdown",
   "id": "7b12bfe9-ebc4-4fbd-a4a2-c58fb462f967",
   "metadata": {},
   "source": [
    "---\n",
    "\n",
    "### Uzdevums 4 - Skaitļa minēšana\n",
    "\n",
    "Izvēlieties kādu skaitli (tas var būt fiksēts skaitlis vai arī izvēlēts ar gadījuma skaitļu ģeneratoru) robežās no 1 līdz 100 un uzrakstiet programmu, kas ļauj lietotājam minēt kāds ir izvēlētais skaitlis.\n",
    "\n",
    "Lietotājam jābūt iespējai minēt vairākas reizes. Atbildē uz katru minējumu izvadiet ziņu par to vai skaitlis ir uzminēts (tad pārtrauciet minēšanu) vai arī vai izvēlētais skaitlis ir lielāks vai mazāks par lietotāja ievadīto skaitli.\n",
    "\n",
    "Jautājums: cik reizes ir jāļauj lietotājam minēt skaitli, lai tam vienmēr būtu iespēja to uzminēt?\n",
    "\n",
    "Bonus: pievienojiet pārbaudi vai lietotājs ir ievadījis veselu skaitli norādītajās vērtību robežās. Ja nav, tad prasiet to ievadīt atkal.\n",
    "\n",
    "Papildus sarežģītība: uzrakstiet patstāvīgu (stand-alone) Python programmu (nevis Jupyter notebook šūnu) šo skaitļu minēšanai."
   ]
  },
  {
   "cell_type": "code",
   "execution_count": null,
   "id": "d8645271-2ced-4857-8f6b-7bd7fcc1b278",
   "metadata": {},
   "outputs": [],
   "source": []
  },
  {
   "cell_type": "markdown",
   "id": "6e9739a4-e1d5-4b29-b568-49c7f60dee5d",
   "metadata": {},
   "source": [
    "---\n",
    "\n",
    "### Uzdevums 5 - FizzBuzz\n",
    "\n",
    "Uzrakstiet funkciju `fizzbuzz()`, kam ir parametrs n un kura katram skaitlim robežās no 1..n drukās šādas vērtības (katru savā rindā):\n",
    "- ja skaitlis dalās ar 3, tad drukāt: `Fizz`\n",
    "- ja skaitlis dalās ar 5, tad drukāt: `Buzz`\n",
    "- tomēr, ja skaitlis dalās gan ar 3, gan ar 5, tad drukāt `FizzBuzz`\n",
    "- pārējos gadījos drukāt pašu skaitli (piem., 4)\n",
    "\n",
    "Nodemonstrējiet šo funkciju darbībā."
   ]
  },
  {
   "cell_type": "code",
   "execution_count": null,
   "id": "1c961edd-91c2-4381-a520-b540b1f9b541",
   "metadata": {},
   "outputs": [],
   "source": []
  }
 ],
 "metadata": {
  "kernelspec": {
   "display_name": "Python 3 (ipykernel)",
   "language": "python",
   "name": "python3"
  },
  "language_info": {
   "codemirror_mode": {
    "name": "ipython",
    "version": 3
   },
   "file_extension": ".py",
   "mimetype": "text/x-python",
   "name": "python",
   "nbconvert_exporter": "python",
   "pygments_lexer": "ipython3",
   "version": "3.12.4"
  }
 },
 "nbformat": 4,
 "nbformat_minor": 5
}
