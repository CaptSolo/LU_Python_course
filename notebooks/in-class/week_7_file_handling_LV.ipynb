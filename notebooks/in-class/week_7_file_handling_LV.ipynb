{
 "cells": [
  {
   "cell_type": "markdown",
   "metadata": {},
   "source": [
    "![LU Logo](https://www.lu.lv/fileadmin/user_upload/LU.LV/www.lu.lv/Logo/Logo_jaunie/LU_logo_LV_horiz.png)\n"
   ]
  },
  {
   "cell_type": "markdown",
   "metadata": {},
   "source": [
    "# 7. nedēļa: Darbības ar datnēm\n"
   ]
  },
  {
   "cell_type": "markdown",
   "metadata": {},
   "source": [
    "## Kopsavilkums\n",
    "\n",
    "Mēs apskatīsim šādus tematus:\n",
    "\n",
    "* Darbības ar direktorijām: to izveidošana, pārsaukšana, apskatīšana un dzēšana.\n",
    "  * Darbības ar `pathlib`, `glob` un `rglob`\n",
    "* Darbības ar teksta failiem (datnēm): to lasīšana, papildināšana un rakstīšana.\n",
    "  * Simbolu kodējuma problēmas\n",
    "* Binārās datnes\n",
    "* JSON datnes\n",
    "\n",
    "## Nodarbības mērķi\n",
    "\n",
    "Nodarbības beigās studenti pratīs:\n",
    "\n",
    "* Darboties ar direktorijām (folders)\n",
    "* Darboties ar datnēm"
   ]
  },
  {
   "cell_type": "code",
   "execution_count": null,
   "metadata": {},
   "outputs": [],
   "source": [
    "# import komandas parasti tiek liktas programmas sākumā\n",
    "\n",
    "# Python versijas pārbaude\n",
    "import sys\n",
    "print(f\"Python version: {sys.version}\")"
   ]
  },
  {
   "cell_type": "markdown",
   "metadata": {},
   "source": [
    "## 1.tēma - Darbības ar direktorijām\n",
    "\n",
    "* [pathlib](https://docs.python.org/3/library/pathlib.html) – Objekt-orientēti failsistēmas ceļi (paths)\n",
    "* [os](https://docs.python.org/3/library/os.html) – Dažādas darbības ar datora operētājsistēmu"
   ]
  },
  {
   "cell_type": "code",
   "execution_count": null,
   "metadata": {},
   "outputs": [],
   "source": [
    "# Ieimportēsim pathlib bibliotēkas Path klasi\n",
    "from pathlib import Path"
   ]
  },
  {
   "cell_type": "code",
   "execution_count": null,
   "metadata": {},
   "outputs": [],
   "source": [
    "# Patreizējās darba direktorijas satura apskatīšana\n",
    "\n",
    "# Ceļš uz patreizējo darba direktoriju\n",
    "cur_dir = Path(\".\")\n",
    "\n",
    "# Direktorijas satura apskatīšana (patvaļīgā secībā)\n",
    "for item in cur_dir.iterdir():\n",
    "    print(item)"
   ]
  },
  {
   "cell_type": "code",
   "execution_count": null,
   "metadata": {},
   "outputs": [],
   "source": [
    "# Sakārtosim direktorijas saturu alfabēta secībā\n",
    "\n",
    "for item in sorted(cur_dir.iterdir()):\n",
    "    print(item)"
   ]
  },
  {
   "cell_type": "code",
   "execution_count": null,
   "metadata": {},
   "outputs": [],
   "source": [
    "# Izveidosim jaunu direktoriju (zem patreizējās darba direktorijas)\n",
    "\n",
    "new_dir = Path(\"Test-directory\")   # pēc noklusējuma: zem patreizējās darba direktorijas\n",
    "new_dir.mkdir(exist_ok=True)       # nerādīt kļūdu, ja tāda direktorija jau ir\n",
    "\n",
    "# Drukāsim patreizējās darba direktorijas saturu\n",
    "for item in sorted(cur_dir.iterdir()):\n",
    "    print(item)"
   ]
  },
  {
   "cell_type": "code",
   "execution_count": null,
   "metadata": {},
   "outputs": [],
   "source": [
    "# Pārsauksim direktroju\n",
    "\n",
    "import os\n",
    "\n",
    "os.rename(\"Test-directory\", \"Test-directory-2\")\n",
    "\n",
    "# Drukāsim patreizējās darba direktorijas saturu\n",
    "for item in sorted(cur_dir.iterdir()):\n",
    "    print(item)"
   ]
  },
  {
   "cell_type": "code",
   "execution_count": null,
   "metadata": {},
   "outputs": [],
   "source": [
    "# Dzēsīsim direktoriju (tai ir jābūt tukšai)\n",
    "\n",
    "new_dir = Path(\"Test-directory-2\")\n",
    "new_dir.rmdir()"
   ]
  },
  {
   "cell_type": "markdown",
   "metadata": {},
   "source": [
    "### Demonstrācijas nolūkiem izveidosim dažas datnes un direktorijas.\n",
    "\n",
    "Parasti, lai izveidotu datnes, tās tiek atvērtas (`open`) rakstīšanas režīmā un tajās tiek ierakstīts kaut kāds saturs. Tomēr demonstrācijas nolūkiem mēs šeit izmantosim metodi `touch()`, kas ļauj izveidot tukšu datni."
   ]
  },
  {
   "cell_type": "code",
   "execution_count": null,
   "metadata": {},
   "outputs": [],
   "source": [
    "# Izveidosim 2 direktorijas un vairākas tukšas datnes\n",
    "\n",
    "Path(\"Test-directory\").mkdir()\n",
    "Path(\"Test-directory/sub_dir\").mkdir()\n",
    "\n",
    "Path(\"Test-directory/file1.docx\").touch()\n",
    "Path(\"Test-directory/file2.docx\").touch()\n",
    "Path(\"Test-directory/test1.py\").touch()\n",
    "Path(\"Test-directory/sub_dir/file1.docx\").touch()\n",
    "Path(\"Test-directory/sub_dir/file2.csv\").touch()\n",
    "Path(\"Test-directory/sub_dir/test3.csv\").touch()"
   ]
  },
  {
   "cell_type": "code",
   "execution_count": null,
   "metadata": {
    "scrolled": true
   },
   "outputs": [],
   "source": [
    "# Drukāsim patreizējās darba direktorijas saturu\n",
    "\n",
    "cur_dir = Path(\".\")\n",
    "\n",
    "for item in sorted(cur_dir.iterdir()):\n",
    "    print(item)"
   ]
  },
  {
   "cell_type": "code",
   "execution_count": null,
   "metadata": {},
   "outputs": [],
   "source": [
    "# Ar help() palīdzību ir iespējams apskatīt papildus informāciju par Path objektiem\n",
    "\n",
    "help(cur_dir)"
   ]
  },
  {
   "cell_type": "code",
   "execution_count": null,
   "metadata": {},
   "outputs": [],
   "source": [
    "os.getcwd()"
   ]
  },
  {
   "cell_type": "markdown",
   "metadata": {},
   "source": [
    "### Datņu meklēšana pēc nosaukumu šabloniem\n",
    "\n",
    "Apskatīsim kā meklēt datnes pēc to nosaukumu šabloniem (piem., `*.docx` lai atrastu visas Microsoft Word datnes)."
   ]
  },
  {
   "cell_type": "code",
   "execution_count": null,
   "metadata": {},
   "outputs": [],
   "source": [
    "# Patreizējā darba dirktorijā nav .docx datnes\n",
    "#  - tādēļ glob() izsaukuma rezultātā netiks atgriezts neviens rezultāts\n",
    "\n",
    "matches = cur_dir.glob(\"*.docx\")\n",
    "\n",
    "for item in sorted(matches):\n",
    "    print(item)"
   ]
  },
  {
   "cell_type": "code",
   "execution_count": null,
   "metadata": {},
   "outputs": [],
   "source": [
    "# Liksim Pythonam meklēt datnes apakšdirektorijās\n",
    "#  - tiks atrastas vairākas datnes \"Test-directory\" direktorijā\n",
    "#  - bet Python neveiks meklēšanu rekursīvi (tālāk iekļautās apakšdirektorijās)\n",
    "\n",
    "matches = cur_dir.glob(\"*/*.docx\")\n",
    "\n",
    "for item in sorted(matches):\n",
    "    print(item)"
   ]
  },
  {
   "cell_type": "code",
   "execution_count": null,
   "metadata": {},
   "outputs": [],
   "source": [
    "# Ja mēs vēlamies meklēt datnes rekursīvi jebkurā apakšdirektorijā:\n",
    "#  - tam var izmantot īpašu \"**\" direktoriju šablonu\n",
    "\n",
    "matches = cur_dir.glob(\"**/*.docx\")\n",
    "\n",
    "for item in sorted(matches):\n",
    "    print(item)"
   ]
  },
  {
   "cell_type": "code",
   "execution_count": null,
   "metadata": {},
   "outputs": [],
   "source": [
    "# rglob() ir līdzīgs glob() izsaukumam, kur datņu šablona priekšā ir pievienots \"**/\"\n",
    "\n",
    "matches = cur_dir.rglob(\"*.docx\")\n",
    "\n",
    "for item in sorted(matches):\n",
    "    print(item)"
   ]
  },
  {
   "cell_type": "code",
   "execution_count": null,
   "metadata": {},
   "outputs": [],
   "source": [
    "# Mēs varam arī \"staigāt\" pa direktoriju koku ar os.walk() funkcijas palīdzību\n",
    "\n",
    "import os\n",
    "\n",
    "# Iziet cauri direktoriju kokam un drukāt direktoriju un datņu nosaukumus\n",
    "for dirpath, dirnames, files in os.walk('.'):\n",
    "        print(f'Directory: {dirpath}')\n",
    "        for filename in files:\n",
    "            print(\"   \", filename)\n"
   ]
  },
  {
   "cell_type": "markdown",
   "metadata": {},
   "source": [
    "## 2.tēma - Teksta datņu rakstīšana un lasīšana\n",
    "\n",
    "Šajā tēmā tiks apskatīta teksta failu lasīšana, papildināšana un rakstīšana.\n",
    "\n",
    "Ar `with` komandas palīdzību var nodrošināt to, ka datne pēc tās atvēršanas tiek korekti aizvērta:\n",
    "\n",
    "```\n",
    "with open(filename, \"w\") as file_object:\n",
    "    file_object.write(\"some text\")\n",
    "```\n",
    "\n",
    "Šajā piemērā komanda `with` atver `filename` datni rakstīšanas režīmā (`\"w\"`), piešķir atvērtās datnes objektu mainīgajam `file_object` un pēc tam, kad `with` komandas koda bloks ir izpildīts, aizver atvērto datni."
   ]
  },
  {
   "cell_type": "markdown",
   "metadata": {},
   "source": [
    "### Datņu lasīšana\n",
    "\n",
    "Lai izveidotu datni, ko lasīt, mēs lietosim Jupyter komandu `%%writefile`."
   ]
  },
  {
   "cell_type": "code",
   "execution_count": null,
   "metadata": {},
   "outputs": [],
   "source": [
    "%%writefile test_file.txt\n",
    "first,second,third\n",
    "1,2,3\n",
    "4,5,6\n",
    "7,8,9"
   ]
  },
  {
   "cell_type": "code",
   "execution_count": null,
   "metadata": {},
   "outputs": [],
   "source": [
    "# datnes atvēršana tiks veikta ar komandas \"with\" palīdzību\n",
    "#  - \"r\" norāda, ka datne ir jāatver lasīšanas režīmā\n",
    "\n",
    "with open(\"test_file.txt\", \"r\") as file:\n",
    "    text = file.read()\n",
    "\n",
    "# nodrukāt nolasīto datnes saturu\n",
    "print(text)"
   ]
  },
  {
   "cell_type": "code",
   "execution_count": null,
   "metadata": {},
   "outputs": [],
   "source": [
    "help(open)"
   ]
  },
  {
   "cell_type": "code",
   "execution_count": null,
   "metadata": {},
   "outputs": [],
   "source": [
    "# Ar \"encoding\" parametera palīdzību var norādīt simbolu kodējumu (parasti \"utf-8\")\n",
    "\n",
    "with open(\"test_file.txt\", \"r\", encoding=\"utf-8\") as file:\n",
    "    text = file.read()\n",
    "\n",
    "print(text)"
   ]
  },
  {
   "cell_type": "code",
   "execution_count": null,
   "metadata": {},
   "outputs": [],
   "source": [
    "# Datni var nolasīt arī līniju pa līnijai (line-by-line)\n",
    "\n",
    "with open(\"test_file.txt\", \"r\", encoding=\"utf-8\") as file:\n",
    "    for line in file:\n",
    "        print(line)"
   ]
  },
  {
   "cell_type": "code",
   "execution_count": null,
   "metadata": {},
   "outputs": [],
   "source": [
    "# Nodzēsīsim liekos jaunas rindas simbolus\n",
    "\n",
    "with open(\"test_file.txt\", \"r\", encoding=\"utf-8\") as file:\n",
    "    for line in file:\n",
    "        line = line.rstrip()\n",
    "        print(line)"
   ]
  },
  {
   "cell_type": "code",
   "execution_count": null,
   "metadata": {},
   "outputs": [],
   "source": [
    "# Kā open() funkcijas parametru var norādīt arī Path() objektus\n",
    "\n",
    "test_file = Path(\"test_file.txt\")\n",
    "\n",
    "with open(test_file, \"r\", encoding=\"utf-8\") as file:\n",
    "    for line in file:\n",
    "        line = line.rstrip()\n",
    "        print(line)"
   ]
  },
  {
   "cell_type": "markdown",
   "metadata": {},
   "source": [
    "### Datņu rakstīšana"
   ]
  },
  {
   "cell_type": "code",
   "execution_count": null,
   "metadata": {},
   "outputs": [],
   "source": [
    "# Lai datnē ierakstītu jaunu saturu (dzēšot iepriekšējo saturu, ja tāda datne jau ir), \n",
    "# tā ir jāatver \"w\" (write) režīmā.\n",
    "\n",
    "text = \"\"\"\n",
    "This is another file.\n",
    "It contains lines of text.\n",
    "\"\"\"\n",
    "\n",
    "# Pielietosim Path() objektu\n",
    "write_file_path = Path(\"write_file.txt\")\n",
    "\n",
    "with open(write_file_path, \"w\", encoding=\"utf-8\") as write_file:\n",
    "    write_file.write(text)"
   ]
  },
  {
   "cell_type": "code",
   "execution_count": null,
   "metadata": {},
   "outputs": [],
   "source": [
    "# Pārbaudīsim vai teksta rinda ir ierakstīta šajā datnē\n",
    "\n",
    "with open(write_file_path, \"r\", encoding=\"utf-8\") as file:\n",
    "    data = file.read()\n",
    "\n",
    "print(data)"
   ]
  },
  {
   "cell_type": "code",
   "execution_count": null,
   "metadata": {},
   "outputs": [],
   "source": [
    "# Datnes var atvērt arī pievienošanas režīmā \"a\" (append). Tādā gadījumā\n",
    "# jaunais saturs tiks pievienots datnes beigās, nepārrakstot esošo saturu.\n",
    "\n",
    "with open(write_file_path, \"a\", encoding=\"utf-8\") as write_file:\n",
    "    write_file.write(\"We are appending text at the end of the file.\")\n",
    "    write_file.write(\"One more line here.\")\n"
   ]
  },
  {
   "cell_type": "code",
   "execution_count": null,
   "metadata": {},
   "outputs": [],
   "source": [
    "# Pārbaudīsim datnes saturu\n",
    "\n",
    "with open(write_file_path, \"r\", encoding=\"utf-8\") as file:\n",
    "    data = file.read()\n",
    "\n",
    "print(data)"
   ]
  },
  {
   "cell_type": "code",
   "execution_count": null,
   "metadata": {},
   "outputs": [],
   "source": [
    "# No jauna ierakstītās teksta rindiņas saplūda vienā rindiņā.\n",
    "# Lai tas nenotiktu, rindiņu beigās ir jāpievieno jaunas rindiņas\n",
    "# simbols \"\\n\".\n",
    "\n",
    "with open(write_file_path, \"a\", encoding=\"utf-8\") as write_file:\n",
    "\n",
    "    # add the newline character to start on a new line\n",
    "    write_file.write(\"\\n\")\n",
    "    \n",
    "    write_file.write(\"This text should be on a new line.\\n\")\n",
    "    write_file.write(\"One more line here.\\n\")"
   ]
  },
  {
   "cell_type": "code",
   "execution_count": null,
   "metadata": {},
   "outputs": [],
   "source": [
    "with open(write_file_path, \"r\", encoding=\"utf-8\") as file:\n",
    "    data = file.read()\n",
    "\n",
    "print(data)"
   ]
  },
  {
   "cell_type": "code",
   "execution_count": null,
   "metadata": {},
   "outputs": [],
   "source": [
    "data"
   ]
  },
  {
   "cell_type": "code",
   "execution_count": null,
   "metadata": {},
   "outputs": [],
   "source": [
    "# Dzēst izveidoto datni\n",
    "\n",
    "os.remove(\"test_file.txt\")\n",
    "\n",
    "write_file_path.unlink()"
   ]
  },
  {
   "cell_type": "markdown",
   "metadata": {},
   "source": [
    "## 3.tēma - Bināro un cita veida datņu lasīšana un rakstīšana"
   ]
  },
  {
   "cell_type": "markdown",
   "metadata": {},
   "source": [
    "### Binārās datnes\n",
    "\n",
    "Lai darbotos ar binārām datnēm, to atvēršanas režīmam ir jāpievieno burts `\"b\"` (piem., `\"rb\"` binārās datnes lasīšanai).\n",
    "\n",
    "Binārajām datnēm nav simbolu kodējums (tās ir tikai baitu virknes)."
   ]
  },
  {
   "cell_type": "code",
   "execution_count": null,
   "metadata": {},
   "outputs": [],
   "source": [
    "# Izveidojam baitu objektu\n",
    "\n",
    "data = b'0123456789abcdef'\n",
    "print(data)"
   ]
  },
  {
   "cell_type": "code",
   "execution_count": null,
   "metadata": {},
   "outputs": [],
   "source": [
    "# Rakstam saturu datnē\n",
    "\n",
    "write_binary_path = Path(\"write_file.bin\")\n",
    "\n",
    "with open(write_binary_path, \"wb\") as write_file:\n",
    "    write_file.write(data)"
   ]
  },
  {
   "cell_type": "code",
   "execution_count": null,
   "metadata": {},
   "outputs": [],
   "source": [
    "# Nolasām datnes saturu\n",
    "\n",
    "with open(write_binary_path, \"rb\") as read_file:\n",
    "    data_read = read_file.read()\n",
    "    print(data_read)"
   ]
  },
  {
   "cell_type": "code",
   "execution_count": null,
   "metadata": {},
   "outputs": [],
   "source": [
    "# Ar seek() metodes palīdzību var norādīt uz vietu datnē, kur \n",
    "# veikt tālākās darbības.\n",
    "\n",
    "with open(write_binary_path, \"rb\") as read_file:\n",
    "\n",
    "    # iet uz pozīciju 8 un nolasīt 1 baitu\n",
    "    read_file.seek(8)\n",
    "    print(read_file.read(1))\n",
    "\n",
    "    print()\n",
    "\n",
    "    # iet uz poziciju 3 no datnes beigām un nolasīt 1 baitu\n",
    "    read_file.seek(-3, 2)\n",
    "    print(read_file.read(1))\n"
   ]
  },
  {
   "cell_type": "code",
   "execution_count": null,
   "metadata": {},
   "outputs": [],
   "source": [
    "%%writefile test_file.txt\n",
    "first,second,third\n",
    "1,2,3\n",
    "4,5,6\n",
    "7,8,9"
   ]
  },
  {
   "cell_type": "code",
   "execution_count": null,
   "metadata": {},
   "outputs": [],
   "source": [
    "with open(\"test_file.txt\", \"rb\") as read_file:\n",
    "    data_read = read_file.read()\n",
    "    print(data_read)"
   ]
  },
  {
   "cell_type": "code",
   "execution_count": null,
   "metadata": {},
   "outputs": [],
   "source": [
    "help(data_read)"
   ]
  },
  {
   "cell_type": "markdown",
   "metadata": {},
   "source": [
    "### JSON datnes\n",
    "\n",
    "JSON (JavaScript Object Notation) datnes ļauj tajās saglabāt un no tām nolasīt sarežģītākas Python objektu hierarhijas (vārdnīcas, sarakstus, ...).\n",
    "\n",
    "https://www.json.org/json-en.html\n",
    "\n",
    "JSON formāta pamatā ir divi saliktie datu tipi:\n",
    "- kolekcija ar atslēgu/vērtību pāriem (Python: vārdnīca)\n",
    "- sakārtots vērtību saraksts (Python: saraksts)\n",
    "\n",
    "Šajos objektos var būt iekšā vienkāršāki datu veidi, piemēram, skaitļi un teksta virknes.\n",
    "\n",
    "Python vārdnīca, kas satur sarakstu un vēl vienu vārdnīcu:\n",
    "```\n",
    "json_object = {\n",
    "  \"key 1\": \"value 1\",\n",
    "  \"key 2\": [\"value 2\", \"is\", \"a\", \"list\"],\n",
    "  \"key 3\": {\"lists and dictionaries\": \"can be nested\"}\n",
    "}\n",
    "```\n",
    "\n",
    "Darbam ar JSON datiem var izmantot Python [json](https://docs.python.org/3/library/json.html) bibliotēku:\n",
    "\n",
    "- `json.dump()` – saglabāt strukturētus datus JSON datnē\n",
    "- `json.dumps()` – atgriezt strukturētus datus JSON teksta rindas formā\n",
    "- `json.load()` – nolasīt strukturētus datus no JSON datnes\n",
    "- `json.loads()` – nolasīt strukturētus datus no JSON teksta rindas"
   ]
  },
  {
   "cell_type": "code",
   "execution_count": null,
   "metadata": {},
   "outputs": [],
   "source": []
  },
  {
   "cell_type": "code",
   "execution_count": null,
   "metadata": {},
   "outputs": [],
   "source": [
    "import json"
   ]
  },
  {
   "cell_type": "code",
   "execution_count": null,
   "metadata": {},
   "outputs": [],
   "source": [
    "# Dati, ko vēlamies saglabāt JSON formā\n",
    "#  - saraksts, kas satur Python vārdnīcu, kas satur kortežu\n",
    "\n",
    "data = [\n",
    "    'foo', \n",
    "    {'bar': ('baz', None, 1.0, 2)}\n",
    "]"
   ]
  },
  {
   "cell_type": "code",
   "execution_count": null,
   "metadata": {},
   "outputs": [],
   "source": [
    "print(data)"
   ]
  },
  {
   "cell_type": "code",
   "execution_count": null,
   "metadata": {},
   "outputs": [],
   "source": [
    "data[1]"
   ]
  },
  {
   "cell_type": "code",
   "execution_count": null,
   "metadata": {},
   "outputs": [],
   "source": [
    "data[1][\"bar\"]"
   ]
  },
  {
   "cell_type": "code",
   "execution_count": null,
   "metadata": {},
   "outputs": [],
   "source": [
    "# Saglabājam datus JSON datnē\n",
    "\n",
    "file_path = Path(\"test_data.json\")\n",
    "\n",
    "with open(file_path, \"w\", encoding=\"utf-8\") as file_out:\n",
    "    json.dump(data, file_out)"
   ]
  },
  {
   "cell_type": "code",
   "execution_count": null,
   "metadata": {},
   "outputs": [],
   "source": [
    "# Apskatīsim izveidotās datnes saturu\n",
    "\n",
    "with open(file_path, \"r\", encoding=\"utf-8\") as file_in:\n",
    "    for line in file_in:\n",
    "        print(repr(line))"
   ]
  },
  {
   "cell_type": "code",
   "execution_count": null,
   "metadata": {},
   "outputs": [],
   "source": [
    "# Nolasīsim strukturētus datus no izveidotās JSON datnes\n",
    "\n",
    "with open(file_path, \"r\", encoding=\"utf-8\") as file_in:\n",
    "    new_data = json.load(file_in)"
   ]
  },
  {
   "cell_type": "code",
   "execution_count": null,
   "metadata": {},
   "outputs": [],
   "source": [
    "# Nolasītie dati izskatās *gandrīz* tāpat kā sākotnējā datu struktūra,\n",
    "# vienīgi korteža vietā tagad ir saraksts (jo JSON datņu formātam \n",
    "# nav atsevišķs korteža datu tips).\n",
    "\n",
    "new_data"
   ]
  },
  {
   "cell_type": "code",
   "execution_count": null,
   "metadata": {},
   "outputs": [],
   "source": [
    "# Ar nolasītajiem datiem var darboties tāpat kā ar jebkādu citu \n",
    "# Python datu struktūru\n",
    "\n",
    "new_data[1]['bar']"
   ]
  },
  {
   "cell_type": "markdown",
   "metadata": {},
   "source": [
    "---\n",
    "\n",
    "Python datu struktūras var saglabāt un nolasīt arī JSON teksta rindu formā:"
   ]
  },
  {
   "cell_type": "code",
   "execution_count": null,
   "metadata": {},
   "outputs": [],
   "source": [
    "data"
   ]
  },
  {
   "cell_type": "code",
   "execution_count": null,
   "metadata": {},
   "outputs": [],
   "source": [
    "json_str = json.dumps(data)\n",
    "json_str"
   ]
  },
  {
   "cell_type": "code",
   "execution_count": null,
   "metadata": {},
   "outputs": [],
   "source": [
    "new_data = json.loads(json_str)\n",
    "new_data"
   ]
  },
  {
   "cell_type": "code",
   "execution_count": null,
   "metadata": {},
   "outputs": [],
   "source": []
  },
  {
   "cell_type": "markdown",
   "metadata": {},
   "source": [
    "### CSV datnes\n",
    "\n",
    "CSV (comma separated values / ar komatiem atdalītas vērtības) datnes ļauj mums darboties ar tabulveida datiem, kas sastāv no rindiņām, kur katra rindiņa satur vērtības (tabulas šūnu saturu), kuras parasti tiek atdalītas viena no otras ar komatu.\n",
    "\n",
    "Darbībām ar CSV datnēm ir paredzēta [csv](https://docs.python.org/3/library/csv.html) bibliotēka:"
   ]
  },
  {
   "cell_type": "code",
   "execution_count": null,
   "metadata": {},
   "outputs": [],
   "source": [
    "import csv\n",
    "\n",
    "data = [[\"apple\", \"ābols\"], [\"pear\", \"bumbieris\"], [\"dog\", \"suns\"], [\"white\", \"balts\"], [\"black\", \"melns\"]]"
   ]
  },
  {
   "cell_type": "code",
   "execution_count": null,
   "metadata": {},
   "outputs": [],
   "source": [
    "# Sākumā atvērsim CSV datni rakstīšanas režīmā\n",
    "\n",
    "with open(\"data.csv\", \"w\", encoding=\"utf-8\") as out_file:\n",
    "    csv_file = csv.writer(out_file, lineterminator=\"\\n\")\n",
    "\n",
    "    for item in data:\n",
    "        csv_file.writerow(item)"
   ]
  },
  {
   "cell_type": "code",
   "execution_count": null,
   "metadata": {},
   "outputs": [],
   "source": [
    "# Linux un macOS operētājsistēmās datnes saturu var apskatīties\n",
    "# ar \"cat\" komandu. Atkomentējiet \"!cat\" komandas rindiņu lai\n",
    "# apskatītu datnes saturu tad, ja Jums ir Linux vai macOS.\n",
    "#!cat data.csv"
   ]
  },
  {
   "cell_type": "code",
   "execution_count": null,
   "metadata": {},
   "outputs": [],
   "source": [
    "# Nolasīsim datnes saturu\n",
    "\n",
    "data = []\n",
    "\n",
    "with open(\"data.csv\", \"r\", encoding=\"utf-8\") as in_file:\n",
    "    csv_file = csv.reader(in_file)\n",
    "\n",
    "    for item in csv_file:\n",
    "        print(item)\n",
    "        data.append(item)"
   ]
  },
  {
   "cell_type": "code",
   "execution_count": null,
   "metadata": {},
   "outputs": [],
   "source": [
    "data"
   ]
  },
  {
   "cell_type": "markdown",
   "metadata": {},
   "source": [
    "### Citi datņu veidi\n",
    "\n",
    "Python ļauj darboties ar dažāda veida datnēm, t.sk. ar datņu arhīviem:\n",
    "\n",
    "- [gzip](https://docs.python.org/3/library/gzip.html) arhīvu datņu atbalsts\n",
    "- [Python's zipfile: Manipulate Your ZIP Files Efficiently](https://realpython.com/python-zipfile/)\n",
    "\n",
    "Python iekļautais dažādu arhīvu datņu tipu atbalsts ļauj no arhīva datnēm lasīt datus, tos pirms tam neatarhivējot. Tas var būt noderīgi gadījumos, kad ir jādarbojas ar lielām arhivētām datnēm. \n",
    "\n",
    "Python ir [pickle bibliotēka](https://docs.python.org/3/library/pickle.html), kura ļauj datnēs saglabāt arī sarežģītākus Python objektus, kurus nav iespējams saglabāt vienkāršās JSON datnēs."
   ]
  },
  {
   "cell_type": "markdown",
   "metadata": {},
   "source": [
    "## Kopsavilkums\n",
    "\n",
    "Ko mēs iemācījāmies šajā nodarbībā:\n",
    "* Kā Python valodā darboties ar direktorijām\n",
    "* Kā darboties ar teksta un binārajām datnēm"
   ]
  },
  {
   "cell_type": "markdown",
   "metadata": {},
   "source": [
    "## Papildus tēma - Vārdnīcu īsā sintakse\n",
    "\n",
    "Vārdnīcu veidošanas īsā sintakse (*dictionary comprehension*) piedāvā kompaktu veidu vārdnīcu objektu izveidošanai.\n",
    "\n",
    "- `{item[0]: item[1] for item in some_list if some_condition}`\n",
    "\n",
    "Šajā piemērā katrai `item` vērtībai tiks izveidots atbilstošs vārdnīcas ieraksts, kurā `item[0]` kļūs par atslēgu un `item[1]` - par atslēgai atbilstošo vērtību."
   ]
  },
  {
   "cell_type": "code",
   "execution_count": null,
   "metadata": {},
   "outputs": [],
   "source": [
    "data = [[\"apple\", \"ābols\"], [\"pear\", \"bumbieris\"], [\"dog\", \"suns\"], [\"white\", \"balts\"], [\"black\", \"melns\"]]"
   ]
  },
  {
   "cell_type": "code",
   "execution_count": null,
   "metadata": {},
   "outputs": [],
   "source": [
    "# ar \"for\" ciklu (bez vārdnīcu īsās sintakses)\n",
    "\n",
    "new_dict = {}\n",
    "\n",
    "for key, value in data:\n",
    "    new_dict[key] = value\n",
    "\n",
    "new_dict"
   ]
  },
  {
   "cell_type": "code",
   "execution_count": null,
   "metadata": {},
   "outputs": [],
   "source": [
    "# 1 koda rindiņā ar vārdnīcu īso sintaksti\n",
    "\n",
    "new_dict2 = {key: value for key, value in data}\n",
    "\n",
    "new_dict2"
   ]
  },
  {
   "cell_type": "code",
   "execution_count": null,
   "metadata": {},
   "outputs": [],
   "source": [
    "new_dict2[\"dog\"]"
   ]
  },
  {
   "cell_type": "markdown",
   "metadata": {},
   "source": [
    "## Papildus resursi\n",
    "\n",
    "### Tēma 1 - darbības ar direktorijām\n",
    "\n",
    "- [pathlib](https://docs.python.org/3/library/pathlib.html) - Objektorientēti failsistēmas ceļi\n",
    "- [Working with files in Python](https://realpython.com/working-with-files-in-python/)\n",
    "\n",
    "### Tēma 2 - datņu lasīšana un rakstīšana\n",
    "\n",
    "- [Reading and writing files](https://docs.python.org/3/tutorial/inputoutput.html#reading-and-writing-files) - Python apmācības materiāls\n",
    "- [Reading and writing files](https://automatetheboringstuff.com/2e/chapter9/) - grāmata \"Automate the boring stuff with Python\"\n",
    "- [Working with files in Python](https://realpython.com/working-with-files-in-python/)\n",
    "\n",
    "### Tēma 3 - darbs ar binārajām un cita veida datnēm\n",
    "\n",
    "- [Reading binary files in Python](https://www.pythonmorsels.com/reading-binary-files-in-python/#top)\n",
    "- [gzip — Support for gzip files](https://docs.python.org/3/library/gzip.html)\n",
    "- [Working With JSON Data in Python](https://realpython.com/python-json/)\n",
    "- [Python's zipfile: Manipulate Your ZIP Files Efficiently](https://realpython.com/python-zipfile/)\n"
   ]
  },
  {
   "cell_type": "code",
   "execution_count": null,
   "metadata": {},
   "outputs": [],
   "source": []
  }
 ],
 "metadata": {
  "kernelspec": {
   "display_name": "Python 3 (ipykernel)",
   "language": "python",
   "name": "python3"
  },
  "language_info": {
   "codemirror_mode": {
    "name": "ipython",
    "version": 3
   },
   "file_extension": ".py",
   "mimetype": "text/x-python",
   "name": "python",
   "nbconvert_exporter": "python",
   "pygments_lexer": "ipython3",
   "version": "3.12.4"
  }
 },
 "nbformat": 4,
 "nbformat_minor": 4
}
