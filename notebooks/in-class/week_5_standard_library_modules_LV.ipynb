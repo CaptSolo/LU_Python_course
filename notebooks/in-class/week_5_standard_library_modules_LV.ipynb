{
 "cells": [
  {
   "cell_type": "markdown",
   "metadata": {},
   "source": [
    "![LU Logo](https://www.lu.lv/fileadmin/user_upload/LU.LV/www.lu.lv/Logo/Logo_jaunie/LU_logo_LV_horiz.png)\n"
   ]
  },
  {
   "cell_type": "markdown",
   "metadata": {},
   "source": [
    "# 5. nedēļa : Python standarta bibliotēka, Moduļi, Pakotnes, Virtuālās vides"
   ]
  },
  {
   "cell_type": "markdown",
   "metadata": {},
   "source": [
    "## Nodarbības plāns\n",
    "\n",
    "Mēs apskatīsim šādas tēmas:\n",
    "\n",
    "- Python standarta bibliotēka: importēšana un iebūvēto moduļu izmantošana.\n",
    "  - random, Counter, ...\n",
    "- citu bibliotēku importēšana: pip, virtuālās vides.\n",
    "  - requests, ...\n",
    "- savu moduļu izveide.\n",
    "\n",
    "## Prasības zināšanām pirms nodarbības\n",
    "\n",
    "- Python sintakse\n",
    "- Python pamata datu tipi\n",
    "- Python funkcijas\n",
    "\n",
    "\n",
    "## Nodarbības mērķi\n",
    "\n",
    "Nodarbības beigās studenti:\n",
    "\n",
    "- būs guvuši izpratni par Python iebūvētajām un trešo pušu bibliotēkām\n",
    "- varēs importēt un izmantot iebūvētos moduļus no Python standarta bibliotēkas\n",
    "- varēs importēt un izmantot trešo pušu bibliotēkas, izmantojot `pip` Python pakotņu pārvaldnieku\n",
    "- sapratīs virtuālās vides konceptu un varēs izveidot un pārvaldīt virtuālās vides\n",
    "- mācēs izveidot, importēt un izmantot savus Python moduļus\n"
   ]
  },
  {
   "cell_type": "markdown",
   "metadata": {},
   "source": [
    "## 1. tēma - Python standarta bibliotēka\n",
    "\n",
    "Python bieži raksturo kā \"baterijas iekļautas\" (\"batteries included\") - tas tiek piegādāts ar lielu skaitu bibliotēku moduļu dažādu uzdevumu veikšanai.\n",
    "\n",
    "![Batteries included](https://github.com/ValRCS/python_public_resources/blob/main/img/batteries.png?raw=true)\n",
    "\n",
    "Python moduļi ir datnes, kas satur Python kodu, parasti funkcijas, mainīgos un klases, kas ir apkopoti lai tos būtu viegli izmantot vēlāk.\n",
    "\n",
    "Savukārt Python standarta biblioteka ir iebūvēto moduļu kolekcija, kas tiek piegādāta kopā ar Python. Šie moduļi nodrošina funkcionalitāti dažādu uzdevumu veikšanai, piemēram, datņu apstrādei, matemātiskām operācijām, tīklošanai un citiem.\n",
    "\n",
    "Lai lietotu šos moduļus, vispirms ir jāimportē tie:\n",
    "* `import module_name`\n",
    "\n",
    "Jūs varat arī izvēlēties importēt moduli un tam piešķirt citu (parasti īsāku) nosaukumu. Piemēram, šāda komanda importēs [Pandas datu analīzes bibliotēku](https://pandas.pydata.org/) un tai piešķirs īsāku nosaukumu `pd`:\n",
    "* `import pandas as pd`\n",
    "* Piezīme: Pandas ir ārēja bibliotēka un tā ir jāinstalē pirms tā var tikt importēta. Ārējo bibliotēku instalēšana tiek apskatīta tālāk šajā nodarbībā.\n",
    "\n",
    "Jūs varat arī importēt tikai daļu no moduļa, norādot funkcijas, mainīgos un klases, ko vēlaties importēt. Piemēram, šāda komanda importēs `Counter` klasi no iebūvētā`collections` moduļa:\n",
    "* `from collections import Counter`\n",
    "\n",
    "---\n",
    "\n",
    "[**The Python standarta bibliotēka**](https://docs.python.org/3/library/) satur lielu moduļu skaitu, kas aptver dažādas uzdevumu veikšanas jomas:\n",
    "\n",
    "* **Data Types and Data Structures**: rīki darbam ar dažādiem datu tipiem, piemēram, datumiem, laikiem, kolekcijām (sarakstiem, vārdnīcām, u.c.), teksta rindām utt.\n",
    "* **File and Directory Access**: lasīšana no un rakstīšana datnēs, darbs ar datņu ceļiem un direktorijām (sīkāk citā nodarbībā).\n",
    "* **Networking**: rīki darbam ar dažādiem interneta protokoliem (HTTP, FTP, SMTP utt.).\n",
    "* **Concurrency**: rīki darbam ar pavedieniem, procesiem un asinhrono ievadi/izvadi.\n",
    "* **Text Processing**: regulārās izteiksmes, Unicode, teksta formatēšana, u.c. darbības\n",
    "* **Mathematical Operations**: matemātiskās funkcijas, gadījuma skaitļu ģenerēšana un statistika.\n",
    "* **Database Access**: saskarnes darbam ar dažādām datubāzēm.\n",
    "* **Debugging and Testing**: atkļūdošanas rīki, vienību testēšanas ietvari un profilēšanas rīki.\n",
    "* **System Administration**: sistēmas administrēšana, operētājsistēmas pakalpojumu piekļuve un pārvaldīšana, komandrindas argumenti, žurnālošana utt."
   ]
  },
  {
   "cell_type": "markdown",
   "metadata": {},
   "source": [
    "### Sys modulis\n",
    "\n",
    "`sys` modulis nodrošina piekļuvi dažādām Python interpretatora funkcijām un mainīgajiem, kas ir saistīti ar datorsistēmu. \n",
    "\n",
    "Dokumentācija: [sys — System-specific parameters and functions](https://docs.python.org/3/library/sys.html)\n",
    "\n",
    "Pagaidām mēs apskatīsim tikai veidu kā uzzināt Python interpretatora versiju, kas šobrīd tiek izmantota.\n"
   ]
  },
  {
   "cell_type": "code",
   "execution_count": 1,
   "metadata": {},
   "outputs": [
    {
     "name": "stdout",
     "output_type": "stream",
     "text": [
      "Python interpretatora versija: 3.12.7 (main, Oct 16 2024, 07:12:08) [Clang 18.1.8 ]\n"
     ]
    }
   ],
   "source": [
    "# importējam sys moduli\n",
    "import sys\n",
    "\n",
    "# izdrukājam Python versiju\n",
    "print(f\"Python interpretatora versija: {sys.version}\")"
   ]
  },
  {
   "cell_type": "markdown",
   "metadata": {},
   "source": [
    "### Datetime modulis\n",
    "\n",
    "Datetime modulis nodrošina klases un funkcijas darbam ar datumiem un laikiem.\n",
    "\n",
    "Dokumentācija: [datetime — Basic date and time types](https://docs.python.org/3/library/datetime.html)"
   ]
  },
  {
   "cell_type": "code",
   "execution_count": 3,
   "metadata": {},
   "outputs": [
    {
     "name": "stdout",
     "output_type": "stream",
     "text": [
      "Šobrīd ir: 2025-09-23 12:59:18.939354\n",
      "\n",
      "Sākuma laiks: 2025-09-23 12:59:18.939499\n",
      "Beigu laiks: 2025-09-23 12:59:19.186286\n",
      "Laika starpība: 0:00:00.246787\n"
     ]
    }
   ],
   "source": [
    "# mēs no datetime moduļa importēsim tikai datetime klasi\n",
    "from datetime import datetime \n",
    "# šis ir viens no gadijumiem kad par moduļa un tā satura nosaukumiem varētu strīdēties\n",
    "\n",
    "# izdrukājam šī brīža datumu un laiku\n",
    "print(f\"Šobrīd ir: {datetime.now()}\")\n",
    "print()\n",
    "\n",
    "now = datetime.now()\n",
    "\n",
    "buf = []\n",
    "\n",
    "# neliels cikls, kas aizņem laiku\n",
    "for i in range(10_000_000):\n",
    "    pass # neko nedaram, tikai pārbaudam cik daudz laika aizņem šis cikls\n",
    "    buf.append(i)\n",
    "    \n",
    "later = datetime.now()\n",
    "\n",
    "# cik daudz laika aizņēma cikls\n",
    "difference = later - now  # tātad šie datetime objekti atbalsta datumu aritmētiku\n",
    "print(f\"Sākuma laiks: {now}\")\n",
    "print(f\"Beigu laiks: {later}\")\n",
    "print(f\"Laika starpība: {difference}\")"
   ]
  },
  {
   "cell_type": "markdown",
   "metadata": {},
   "source": [
    "### Matemātikas modulis\n",
    "\n",
    "Matemātikas modulis nodrošina dažādas matemātiskas funkcijas.\n",
    "\n",
    "Dokumentācija: [math — Mathematical functions](https://docs.python.org/3/library/math.html)\n"
   ]
  },
  {
   "cell_type": "code",
   "execution_count": 4,
   "metadata": {},
   "outputs": [],
   "source": [
    "# importējam math moduli\n",
    "import math"
   ]
  },
  {
   "cell_type": "code",
   "execution_count": 5,
   "metadata": {},
   "outputs": [
    {
     "name": "stdout",
     "output_type": "stream",
     "text": [
      "Help on built-in module math:\n",
      "\n",
      "NAME\n",
      "    math\n",
      "\n",
      "DESCRIPTION\n",
      "    This module provides access to the mathematical functions\n",
      "    defined by the C standard.\n",
      "\n",
      "FUNCTIONS\n",
      "    acos(x, /)\n",
      "        Return the arc cosine (measured in radians) of x.\n",
      "\n",
      "        The result is between 0 and pi.\n",
      "\n",
      "    acosh(x, /)\n",
      "        Return the inverse hyperbolic cosine of x.\n",
      "\n",
      "    asin(x, /)\n",
      "        Return the arc sine (measured in radians) of x.\n",
      "\n",
      "        The result is between -pi/2 and pi/2.\n",
      "\n",
      "    asinh(x, /)\n",
      "        Return the inverse hyperbolic sine of x.\n",
      "\n",
      "    atan(x, /)\n",
      "        Return the arc tangent (measured in radians) of x.\n",
      "\n",
      "        The result is between -pi/2 and pi/2.\n",
      "\n",
      "    atan2(y, x, /)\n",
      "        Return the arc tangent (measured in radians) of y/x.\n",
      "\n",
      "        Unlike atan(y/x), the signs of both x and y are considered.\n",
      "\n",
      "    atanh(x, /)\n",
      "        Return the inverse hyperbolic tangent of x.\n",
      "\n",
      "    cbrt(x, /)\n",
      "        Return the cube root of x.\n",
      "\n",
      "    ceil(x, /)\n",
      "        Return the ceiling of x as an Integral.\n",
      "\n",
      "        This is the smallest integer >= x.\n",
      "\n",
      "    comb(n, k, /)\n",
      "        Number of ways to choose k items from n items without repetition and without order.\n",
      "\n",
      "        Evaluates to n! / (k! * (n - k)!) when k <= n and evaluates\n",
      "        to zero when k > n.\n",
      "\n",
      "        Also called the binomial coefficient because it is equivalent\n",
      "        to the coefficient of k-th term in polynomial expansion of the\n",
      "        expression (1 + x)**n.\n",
      "\n",
      "        Raises TypeError if either of the arguments are not integers.\n",
      "        Raises ValueError if either of the arguments are negative.\n",
      "\n",
      "    copysign(x, y, /)\n",
      "        Return a float with the magnitude (absolute value) of x but the sign of y.\n",
      "\n",
      "        On platforms that support signed zeros, copysign(1.0, -0.0)\n",
      "        returns -1.0.\n",
      "\n",
      "    cos(x, /)\n",
      "        Return the cosine of x (measured in radians).\n",
      "\n",
      "    cosh(x, /)\n",
      "        Return the hyperbolic cosine of x.\n",
      "\n",
      "    degrees(x, /)\n",
      "        Convert angle x from radians to degrees.\n",
      "\n",
      "    dist(p, q, /)\n",
      "        Return the Euclidean distance between two points p and q.\n",
      "\n",
      "        The points should be specified as sequences (or iterables) of\n",
      "        coordinates.  Both inputs must have the same dimension.\n",
      "\n",
      "        Roughly equivalent to:\n",
      "            sqrt(sum((px - qx) ** 2.0 for px, qx in zip(p, q)))\n",
      "\n",
      "    erf(x, /)\n",
      "        Error function at x.\n",
      "\n",
      "    erfc(x, /)\n",
      "        Complementary error function at x.\n",
      "\n",
      "    exp(x, /)\n",
      "        Return e raised to the power of x.\n",
      "\n",
      "    exp2(x, /)\n",
      "        Return 2 raised to the power of x.\n",
      "\n",
      "    expm1(x, /)\n",
      "        Return exp(x)-1.\n",
      "\n",
      "        This function avoids the loss of precision involved in the direct evaluation of exp(x)-1 for small x.\n",
      "\n",
      "    fabs(x, /)\n",
      "        Return the absolute value of the float x.\n",
      "\n",
      "    factorial(n, /)\n",
      "        Find n!.\n",
      "\n",
      "        Raise a ValueError if x is negative or non-integral.\n",
      "\n",
      "    floor(x, /)\n",
      "        Return the floor of x as an Integral.\n",
      "\n",
      "        This is the largest integer <= x.\n",
      "\n",
      "    fmod(x, y, /)\n",
      "        Return fmod(x, y), according to platform C.\n",
      "\n",
      "        x % y may differ.\n",
      "\n",
      "    frexp(x, /)\n",
      "        Return the mantissa and exponent of x, as pair (m, e).\n",
      "\n",
      "        m is a float and e is an int, such that x = m * 2.**e.\n",
      "        If x is 0, m and e are both 0.  Else 0.5 <= abs(m) < 1.0.\n",
      "\n",
      "    fsum(seq, /)\n",
      "        Return an accurate floating-point sum of values in the iterable seq.\n",
      "\n",
      "        Assumes IEEE-754 floating-point arithmetic.\n",
      "\n",
      "    gamma(x, /)\n",
      "        Gamma function at x.\n",
      "\n",
      "    gcd(*integers)\n",
      "        Greatest Common Divisor.\n",
      "\n",
      "    hypot(...)\n",
      "        hypot(*coordinates) -> value\n",
      "\n",
      "        Multidimensional Euclidean distance from the origin to a point.\n",
      "\n",
      "        Roughly equivalent to:\n",
      "            sqrt(sum(x**2 for x in coordinates))\n",
      "\n",
      "        For a two dimensional point (x, y), gives the hypotenuse\n",
      "        using the Pythagorean theorem:  sqrt(x*x + y*y).\n",
      "\n",
      "        For example, the hypotenuse of a 3/4/5 right triangle is:\n",
      "\n",
      "            >>> hypot(3.0, 4.0)\n",
      "            5.0\n",
      "\n",
      "    isclose(a, b, *, rel_tol=1e-09, abs_tol=0.0)\n",
      "        Determine whether two floating-point numbers are close in value.\n",
      "\n",
      "          rel_tol\n",
      "            maximum difference for being considered \"close\", relative to the\n",
      "            magnitude of the input values\n",
      "          abs_tol\n",
      "            maximum difference for being considered \"close\", regardless of the\n",
      "            magnitude of the input values\n",
      "\n",
      "        Return True if a is close in value to b, and False otherwise.\n",
      "\n",
      "        For the values to be considered close, the difference between them\n",
      "        must be smaller than at least one of the tolerances.\n",
      "\n",
      "        -inf, inf and NaN behave similarly to the IEEE 754 Standard.  That\n",
      "        is, NaN is not close to anything, even itself.  inf and -inf are\n",
      "        only close to themselves.\n",
      "\n",
      "    isfinite(x, /)\n",
      "        Return True if x is neither an infinity nor a NaN, and False otherwise.\n",
      "\n",
      "    isinf(x, /)\n",
      "        Return True if x is a positive or negative infinity, and False otherwise.\n",
      "\n",
      "    isnan(x, /)\n",
      "        Return True if x is a NaN (not a number), and False otherwise.\n",
      "\n",
      "    isqrt(n, /)\n",
      "        Return the integer part of the square root of the input.\n",
      "\n",
      "    lcm(*integers)\n",
      "        Least Common Multiple.\n",
      "\n",
      "    ldexp(x, i, /)\n",
      "        Return x * (2**i).\n",
      "\n",
      "        This is essentially the inverse of frexp().\n",
      "\n",
      "    lgamma(x, /)\n",
      "        Natural logarithm of absolute value of Gamma function at x.\n",
      "\n",
      "    log(...)\n",
      "        log(x, [base=math.e])\n",
      "        Return the logarithm of x to the given base.\n",
      "\n",
      "        If the base is not specified, returns the natural logarithm (base e) of x.\n",
      "\n",
      "    log10(x, /)\n",
      "        Return the base 10 logarithm of x.\n",
      "\n",
      "    log1p(x, /)\n",
      "        Return the natural logarithm of 1+x (base e).\n",
      "\n",
      "        The result is computed in a way which is accurate for x near zero.\n",
      "\n",
      "    log2(x, /)\n",
      "        Return the base 2 logarithm of x.\n",
      "\n",
      "    modf(x, /)\n",
      "        Return the fractional and integer parts of x.\n",
      "\n",
      "        Both results carry the sign of x and are floats.\n",
      "\n",
      "    nextafter(x, y, /, *, steps=None)\n",
      "        Return the floating-point value the given number of steps after x towards y.\n",
      "\n",
      "        If steps is not specified or is None, it defaults to 1.\n",
      "\n",
      "        Raises a TypeError, if x or y is not a double, or if steps is not an integer.\n",
      "        Raises ValueError if steps is negative.\n",
      "\n",
      "    perm(n, k=None, /)\n",
      "        Number of ways to choose k items from n items without repetition and with order.\n",
      "\n",
      "        Evaluates to n! / (n - k)! when k <= n and evaluates\n",
      "        to zero when k > n.\n",
      "\n",
      "        If k is not specified or is None, then k defaults to n\n",
      "        and the function returns n!.\n",
      "\n",
      "        Raises TypeError if either of the arguments are not integers.\n",
      "        Raises ValueError if either of the arguments are negative.\n",
      "\n",
      "    pow(x, y, /)\n",
      "        Return x**y (x to the power of y).\n",
      "\n",
      "    prod(iterable, /, *, start=1)\n",
      "        Calculate the product of all the elements in the input iterable.\n",
      "\n",
      "        The default start value for the product is 1.\n",
      "\n",
      "        When the iterable is empty, return the start value.  This function is\n",
      "        intended specifically for use with numeric values and may reject\n",
      "        non-numeric types.\n",
      "\n",
      "    radians(x, /)\n",
      "        Convert angle x from degrees to radians.\n",
      "\n",
      "    remainder(x, y, /)\n",
      "        Difference between x and the closest integer multiple of y.\n",
      "\n",
      "        Return x - n*y where n*y is the closest integer multiple of y.\n",
      "        In the case where x is exactly halfway between two multiples of\n",
      "        y, the nearest even value of n is used. The result is always exact.\n",
      "\n",
      "    sin(x, /)\n",
      "        Return the sine of x (measured in radians).\n",
      "\n",
      "    sinh(x, /)\n",
      "        Return the hyperbolic sine of x.\n",
      "\n",
      "    sqrt(x, /)\n",
      "        Return the square root of x.\n",
      "\n",
      "    sumprod(p, q, /)\n",
      "        Return the sum of products of values from two iterables p and q.\n",
      "\n",
      "        Roughly equivalent to:\n",
      "\n",
      "            sum(itertools.starmap(operator.mul, zip(p, q, strict=True)))\n",
      "\n",
      "        For float and mixed int/float inputs, the intermediate products\n",
      "        and sums are computed with extended precision.\n",
      "\n",
      "    tan(x, /)\n",
      "        Return the tangent of x (measured in radians).\n",
      "\n",
      "    tanh(x, /)\n",
      "        Return the hyperbolic tangent of x.\n",
      "\n",
      "    trunc(x, /)\n",
      "        Truncates the Real x to the nearest Integral toward 0.\n",
      "\n",
      "        Uses the __trunc__ magic method.\n",
      "\n",
      "    ulp(x, /)\n",
      "        Return the value of the least significant bit of the float x.\n",
      "\n",
      "DATA\n",
      "    e = 2.718281828459045\n",
      "    inf = inf\n",
      "    nan = nan\n",
      "    pi = 3.141592653589793\n",
      "    tau = 6.283185307179586\n",
      "\n",
      "FILE\n",
      "    (built-in)\n",
      "\n",
      "\n"
     ]
    }
   ],
   "source": [
    "# ja mums nav pieejama dokumentācija, mēs varam izmantot help funkciju\n",
    "help(math)"
   ]
  },
  {
   "cell_type": "code",
   "execution_count": 6,
   "metadata": {},
   "outputs": [
    {
     "name": "stdout",
     "output_type": "stream",
     "text": [
      "3.141592653589793\n"
     ]
    }
   ],
   "source": [
    "# pi konstante\n",
    "print(math.pi)"
   ]
  },
  {
   "cell_type": "code",
   "execution_count": 7,
   "metadata": {},
   "outputs": [
    {
     "data": {
      "text/plain": [
       "-1.0"
      ]
     },
     "execution_count": 7,
     "metadata": {},
     "output_type": "execute_result"
    }
   ],
   "source": [
    "# kosinusa funkcija\n",
    "math.cos(math.pi)"
   ]
  },
  {
   "cell_type": "markdown",
   "metadata": {},
   "source": [
    "Ievērojiet, ka mums ir jāpievieno prefikss ar moduļa nosaukumu un punktu, lai piekļūtu moduļa funkcijām, klasēm un mainīgajiem: `math.cos`\n",
    "\n",
    "Python moduļiem ir savas vārdtelpas (`namespace` angliski) - tās kalpo kā veids, kā izvairīties no nosaukumu konfliktiem. Kad importējat moduli, jūs būtībā ieviešat tā vārdtelpu (piemēram, `math`) savā kodā.\n",
    "\n",
    "Tā kā bieži moduļi ir visai lieli, jūs varat izvēlēties importēt globālājā vidē tikai tos objektus, kas jums ir nepieciešami, izmantojot `from module import name` sintaksi. Šajā gadījumā jums nebūs nepieciešams pievienot moduļa nosaukuma prefiksu, kad atsaucaties uz importētajiem moduļa objektiem:"
   ]
  },
  {
   "cell_type": "code",
   "execution_count": 8,
   "metadata": {},
   "outputs": [
    {
     "data": {
      "text/plain": [
       "-1.0"
      ]
     },
     "execution_count": 8,
     "metadata": {},
     "output_type": "execute_result"
    }
   ],
   "source": [
    "from math import cos, pi\n",
    "\n",
    "cos(pi)\n",
    "# ērti, bet var būt konflikti ar citiem nosaukumiem globālajā vārdtelpā"
   ]
  },
  {
   "cell_type": "markdown",
   "metadata": {},
   "source": [
    "### Moduļu nosaukumu aliasi\n",
    "\n",
    "Kad importējat moduli, jūs varat mainīt tā nosaukumu (alias), ar kuru jūsu programma atsaucas uz šo moduli.\n",
    "\n",
    "Šis ir noderīgs gadījumos, kad moduļa nosaukums ir garš vai ja jūs vēlaties izvairīties no nosaukumu konfliktiem.\n",
    "\n",
    "Piemērs importējot kalendāra moduli [calendar module](https://docs.python.org/3/library/calendar.html):"
   ]
  },
  {
   "cell_type": "code",
   "execution_count": 10,
   "metadata": {},
   "outputs": [
    {
     "name": "stdout",
     "output_type": "stream",
     "text": [
      "   September 2025\n",
      "Mo Tu We Th Fr Sa Su\n",
      " 1  2  3  4  5  6  7\n",
      " 8  9 10 11 12 13 14\n",
      "15 16 17 18 19 20 21\n",
      "22 23 24 25 26 27 28\n",
      "29 30\n"
     ]
    }
   ],
   "source": [
    "import calendar as cal # tātad mēs importējam calendar moduli un to saucam par cal\n",
    "\n",
    "cal.prmonth(2025, 9) # izdrukājam 2025. gada septembra mēnesi"
   ]
  },
  {
   "cell_type": "markdown",
   "metadata": {},
   "source": [
    "### Moduļu satura pārskats\n",
    "\n",
    "Lai izpētītu Python moduļu saturu, mēs varam izmantot `dir()` funkciju.\n",
    "\n",
    "`dir()` funkcija atgriež sarakstu ar nosaukumiem lokālajā telpā (local scope) vai sarakstu ar objekta (piemēram, moduļa, klases vai instances) atribūtiem. Kad to izsauc ar objektu, tas atgriež sarakstu ar atribūtiem un metodēm, kas saistīti ar šo objektu."
   ]
  },
  {
   "cell_type": "code",
   "execution_count": 11,
   "metadata": {},
   "outputs": [
    {
     "data": {
      "text/plain": [
       "['In',\n",
       " 'Out',\n",
       " '_',\n",
       " '_7',\n",
       " '_8',\n",
       " '__',\n",
       " '___',\n",
       " '__builtin__',\n",
       " '__builtins__',\n",
       " '__doc__',\n",
       " '__loader__',\n",
       " '__name__',\n",
       " '__package__',\n",
       " '__session__',\n",
       " '__spec__',\n",
       " '_dh',\n",
       " '_i',\n",
       " '_i1',\n",
       " '_i10',\n",
       " '_i11',\n",
       " '_i2',\n",
       " '_i3',\n",
       " '_i4',\n",
       " '_i5',\n",
       " '_i6',\n",
       " '_i7',\n",
       " '_i8',\n",
       " '_i9',\n",
       " '_ih',\n",
       " '_ii',\n",
       " '_iii',\n",
       " '_oh',\n",
       " 'buf',\n",
       " 'cal',\n",
       " 'cos',\n",
       " 'datetime',\n",
       " 'difference',\n",
       " 'exit',\n",
       " 'get_ipython',\n",
       " 'i',\n",
       " 'later',\n",
       " 'math',\n",
       " 'now',\n",
       " 'open',\n",
       " 'pi',\n",
       " 'quit',\n",
       " 'sys']"
      ]
     },
     "execution_count": 11,
     "metadata": {},
     "output_type": "execute_result"
    }
   ],
   "source": [
    "# izsaucot dir bez argumentiem, mēs saņemam sarakstu ar visiem pieejamajiem nosaukumiem\n",
    "dir()"
   ]
  },
  {
   "cell_type": "code",
   "execution_count": 12,
   "metadata": {},
   "outputs": [
    {
     "name": "stdout",
     "output_type": "stream",
     "text": [
      "In\n",
      "Out\n",
      "buf\n",
      "cal\n",
      "cos\n",
      "datetime\n",
      "difference\n",
      "exit\n",
      "get_ipython\n",
      "i\n",
      "later\n",
      "math\n",
      "now\n",
      "open\n",
      "pi\n",
      "quit\n",
      "sys\n"
     ]
    }
   ],
   "source": [
    "# nosaukumi, kas sākas ar pasvītrojumu ir domāti iekšējai lietošanai, varat tos pagaidām ignorēt\n",
    "\n",
    "for name in dir():\n",
    "    if not name.startswith(\"_\"):\n",
    "        print(name)\n",
    "\n",
    "# varam redzēt kas ir pieejams šajā Python interpretatorā uz doto brīdi"
   ]
  },
  {
   "cell_type": "code",
   "execution_count": 13,
   "metadata": {},
   "outputs": [],
   "source": [
    "# pārveidosim šo kodu par funkciju\n",
    "\n",
    "def print_dir(names):    \n",
    "    for name in names:\n",
    "        if not name.startswith(\"_\"):\n",
    "            print(name)"
   ]
  },
  {
   "cell_type": "code",
   "execution_count": 14,
   "metadata": {},
   "outputs": [
    {
     "name": "stdout",
     "output_type": "stream",
     "text": [
      "In\n",
      "Out\n",
      "buf\n",
      "cal\n",
      "cos\n",
      "datetime\n",
      "difference\n",
      "exit\n",
      "get_ipython\n",
      "i\n",
      "later\n",
      "math\n",
      "name\n",
      "now\n",
      "open\n",
      "pi\n",
      "print_dir\n",
      "quit\n",
      "sys\n"
     ]
    }
   ],
   "source": [
    "print_dir(dir())"
   ]
  },
  {
   "cell_type": "code",
   "execution_count": 15,
   "metadata": {},
   "outputs": [
    {
     "data": {
      "text/plain": [
       "['In',\n",
       " 'Out',\n",
       " 'buf',\n",
       " 'cal',\n",
       " 'cos',\n",
       " 'datetime',\n",
       " 'difference',\n",
       " 'exit',\n",
       " 'get_ipython',\n",
       " 'i',\n",
       " 'later',\n",
       " 'math',\n",
       " 'name',\n",
       " 'now',\n",
       " 'open',\n",
       " 'pi',\n",
       " 'print_dir',\n",
       " 'quit',\n",
       " 'sys']"
      ]
     },
     "execution_count": 15,
     "metadata": {},
     "output_type": "execute_result"
    }
   ],
   "source": [
    "[name for name in dir() if not name.startswith(\"_\")]"
   ]
  },
  {
   "cell_type": "markdown",
   "metadata": {},
   "source": [
    "### random - modulis gadījuma skaitļu ģenerēšanai\n",
    "\n",
    "Ši modulis implementē pseido-gadījuma skaitļu ģeneratorus dažādiem vērtību sadalījumiem.\n",
    "\n",
    "https://docs.python.org/3/library/random.html"
   ]
  },
  {
   "cell_type": "code",
   "execution_count": 16,
   "metadata": {},
   "outputs": [
    {
     "name": "stdout",
     "output_type": "stream",
     "text": [
      "BPF\n",
      "LOG4\n",
      "NV_MAGICCONST\n",
      "RECIP_BPF\n",
      "Random\n",
      "SG_MAGICCONST\n",
      "SystemRandom\n",
      "TWOPI\n",
      "betavariate\n",
      "binomialvariate\n",
      "choice\n",
      "choices\n",
      "expovariate\n",
      "gammavariate\n",
      "gauss\n",
      "getrandbits\n",
      "getstate\n",
      "lognormvariate\n",
      "normalvariate\n",
      "paretovariate\n",
      "randbytes\n",
      "randint\n",
      "random\n",
      "randrange\n",
      "sample\n",
      "seed\n",
      "setstate\n",
      "shuffle\n",
      "triangular\n",
      "uniform\n",
      "vonmisesvariate\n",
      "weibullvariate\n"
     ]
    }
   ],
   "source": [
    "import random as rnd\n",
    "\n",
    "# rnd moduļa saturs\n",
    "print_dir(dir(rnd))"
   ]
  },
  {
   "cell_type": "code",
   "execution_count": 17,
   "metadata": {},
   "outputs": [
    {
     "name": "stdout",
     "output_type": "stream",
     "text": [
      "Help on method randint in module random:\n",
      "\n",
      "randint(a, b) method of random.Random instance\n",
      "    Return random integer in range [a, b], including both end points.\n",
      "\n"
     ]
    }
   ],
   "source": [
    "help(rnd.randint)"
   ]
  },
  {
   "cell_type": "code",
   "execution_count": 18,
   "metadata": {},
   "outputs": [
    {
     "name": "stdout",
     "output_type": "stream",
     "text": [
      "5\n",
      "6\n",
      "5\n",
      "6\n",
      "5\n",
      "2\n",
      "6\n",
      "3\n",
      "6\n",
      "1\n"
     ]
    }
   ],
   "source": [
    "# ģenerējam 10 gadījuma skaitļus no 1 līdz 6\n",
    "\n",
    "for i in range(10):\n",
    "    print(rnd.randint(1,6))"
   ]
  },
  {
   "cell_type": "code",
   "execution_count": 22,
   "metadata": {},
   "outputs": [
    {
     "data": {
      "text/plain": [
       "['lime', 'pear', 'pear']"
      ]
     },
     "execution_count": 22,
     "metadata": {},
     "output_type": "execute_result"
    }
   ],
   "source": [
    "# nejauši izvēlamies 3 elementus no dotā saraksta\n",
    "\n",
    "rnd.sample(['apple', 'pear', 'pear', 'carrot', 'lemon', 'lime'], k=3)"
   ]
  },
  {
   "cell_type": "markdown",
   "metadata": {},
   "source": [
    "### Skaitītājs - Counter\n",
    "\n",
    "[Skaitītaja klase](https://docs.python.org/3/library/collections.html#collections.Counter) ļauj mums skaitīt objektus. Tā ir kolekcija, kur elementi (objekti) tiek glabāti kā vārdnīcas atslēgas, un to skaiti - kā vārdnīcas vērtības. Lai objektus varētu skaitīt, tiem ir jābūt *hashable*.\n",
    "\n",
    "Mēs `Counter` varam saukt par vārdnīcu ar papildu funkcionalitāti."
   ]
  },
  {
   "cell_type": "code",
   "execution_count": 23,
   "metadata": {},
   "outputs": [],
   "source": [
    "# importējam Counter klasi\n",
    "from collections import Counter\n",
    "\n",
    "things_to_count = ['apple', 'pear', 'pear', 'carrot', 'lemon', 'lime', 'lime', 'lime']"
   ]
  },
  {
   "cell_type": "code",
   "execution_count": 24,
   "metadata": {},
   "outputs": [
    {
     "name": "stdout",
     "output_type": "stream",
     "text": [
      "{'apple': 1, 'pear': 2, 'carrot': 1, 'lemon': 1, 'lime': 3}\n"
     ]
    }
   ],
   "source": [
    "# ja nebūtu Counter, tad būtu jāraksta kaut kas līdzīgs šim\n",
    "\n",
    "temp = {}\n",
    "\n",
    "for item in things_to_count:\n",
    "    if item in temp:\n",
    "        temp[item] += 1\n",
    "    else:\n",
    "        temp[item] = 1\n",
    "\n",
    "print(temp)"
   ]
  },
  {
   "cell_type": "code",
   "execution_count": 25,
   "metadata": {},
   "outputs": [
    {
     "name": "stdout",
     "output_type": "stream",
     "text": [
      "Counter({'lime': 3, 'pear': 2, 'apple': 1, 'carrot': 1, 'lemon': 1})\n"
     ]
    }
   ],
   "source": [
    "# daudz ērtāk ir izmantot Counter\n",
    "cnt = Counter(things_to_count)\n",
    "\n",
    "# print count values\n",
    "print(cnt)"
   ]
  },
  {
   "cell_type": "code",
   "execution_count": 26,
   "metadata": {},
   "outputs": [
    {
     "data": {
      "text/plain": [
       "[('lime', 3), ('pear', 2), ('apple', 1)]"
      ]
     },
     "execution_count": 26,
     "metadata": {},
     "output_type": "execute_result"
    }
   ],
   "source": [
    "# 3 biežāk sastopamie elementi\n",
    "cnt.most_common(3)"
   ]
  },
  {
   "cell_type": "code",
   "execution_count": 27,
   "metadata": {},
   "outputs": [
    {
     "name": "stdout",
     "output_type": "stream",
     "text": [
      "lime\t3\n",
      "pear\t2\n",
      "apple\t1\n"
     ]
    }
   ],
   "source": [
    "for item, count in cnt.most_common(3):\n",
    "    print(f\"{item}\\t{count}\")"
   ]
  },
  {
   "cell_type": "code",
   "execution_count": 28,
   "metadata": {},
   "outputs": [
    {
     "name": "stdout",
     "output_type": "stream",
     "text": [
      "Help on Counter in module collections object:\n",
      "\n",
      "class Counter(builtins.dict)\n",
      " |  Counter(iterable=None, /, **kwds)\n",
      " |\n",
      " |  Dict subclass for counting hashable items.  Sometimes called a bag\n",
      " |  or multiset.  Elements are stored as dictionary keys and their counts\n",
      " |  are stored as dictionary values.\n",
      " |\n",
      " |  >>> c = Counter('abcdeabcdabcaba')  # count elements from a string\n",
      " |\n",
      " |  >>> c.most_common(3)                # three most common elements\n",
      " |  [('a', 5), ('b', 4), ('c', 3)]\n",
      " |  >>> sorted(c)                       # list all unique elements\n",
      " |  ['a', 'b', 'c', 'd', 'e']\n",
      " |  >>> ''.join(sorted(c.elements()))   # list elements with repetitions\n",
      " |  'aaaaabbbbcccdde'\n",
      " |  >>> sum(c.values())                 # total of all counts\n",
      " |  15\n",
      " |\n",
      " |  >>> c['a']                          # count of letter 'a'\n",
      " |  5\n",
      " |  >>> for elem in 'shazam':           # update counts from an iterable\n",
      " |  ...     c[elem] += 1                # by adding 1 to each element's count\n",
      " |  >>> c['a']                          # now there are seven 'a'\n",
      " |  7\n",
      " |  >>> del c['b']                      # remove all 'b'\n",
      " |  >>> c['b']                          # now there are zero 'b'\n",
      " |  0\n",
      " |\n",
      " |  >>> d = Counter('simsalabim')       # make another counter\n",
      " |  >>> c.update(d)                     # add in the second counter\n",
      " |  >>> c['a']                          # now there are nine 'a'\n",
      " |  9\n",
      " |\n",
      " |  >>> c.clear()                       # empty the counter\n",
      " |  >>> c\n",
      " |  Counter()\n",
      " |\n",
      " |  Note:  If a count is set to zero or reduced to zero, it will remain\n",
      " |  in the counter until the entry is deleted or the counter is cleared:\n",
      " |\n",
      " |  >>> c = Counter('aaabbc')\n",
      " |  >>> c['b'] -= 2                     # reduce the count of 'b' by two\n",
      " |  >>> c.most_common()                 # 'b' is still in, but its count is zero\n",
      " |  [('a', 3), ('c', 1), ('b', 0)]\n",
      " |\n",
      " |  Method resolution order:\n",
      " |      Counter\n",
      " |      builtins.dict\n",
      " |      builtins.object\n",
      " |\n",
      " |  Methods defined here:\n",
      " |\n",
      " |  __add__(self, other)\n",
      " |      Add counts from two counters.\n",
      " |\n",
      " |      >>> Counter('abbb') + Counter('bcc')\n",
      " |      Counter({'b': 4, 'c': 2, 'a': 1})\n",
      " |\n",
      " |  __and__(self, other)\n",
      " |      Intersection is the minimum of corresponding counts.\n",
      " |\n",
      " |      >>> Counter('abbb') & Counter('bcc')\n",
      " |      Counter({'b': 1})\n",
      " |\n",
      " |  __delitem__(self, elem)\n",
      " |      Like dict.__delitem__() but does not raise KeyError for missing values.\n",
      " |\n",
      " |  __eq__(self, other)\n",
      " |      True if all counts agree. Missing counts are treated as zero.\n",
      " |\n",
      " |  __ge__(self, other)\n",
      " |      True if all counts in self are a superset of those in other.\n",
      " |\n",
      " |  __gt__(self, other)\n",
      " |      True if all counts in self are a proper superset of those in other.\n",
      " |\n",
      " |  __iadd__(self, other)\n",
      " |      Inplace add from another counter, keeping only positive counts.\n",
      " |\n",
      " |      >>> c = Counter('abbb')\n",
      " |      >>> c += Counter('bcc')\n",
      " |      >>> c\n",
      " |      Counter({'b': 4, 'c': 2, 'a': 1})\n",
      " |\n",
      " |  __iand__(self, other)\n",
      " |      Inplace intersection is the minimum of corresponding counts.\n",
      " |\n",
      " |      >>> c = Counter('abbb')\n",
      " |      >>> c &= Counter('bcc')\n",
      " |      >>> c\n",
      " |      Counter({'b': 1})\n",
      " |\n",
      " |  __init__(self, iterable=None, /, **kwds)\n",
      " |      Create a new, empty Counter object.  And if given, count elements\n",
      " |      from an input iterable.  Or, initialize the count from another mapping\n",
      " |      of elements to their counts.\n",
      " |\n",
      " |      >>> c = Counter()                           # a new, empty counter\n",
      " |      >>> c = Counter('gallahad')                 # a new counter from an iterable\n",
      " |      >>> c = Counter({'a': 4, 'b': 2})           # a new counter from a mapping\n",
      " |      >>> c = Counter(a=4, b=2)                   # a new counter from keyword args\n",
      " |\n",
      " |  __ior__(self, other)\n",
      " |      Inplace union is the maximum of value from either counter.\n",
      " |\n",
      " |      >>> c = Counter('abbb')\n",
      " |      >>> c |= Counter('bcc')\n",
      " |      >>> c\n",
      " |      Counter({'b': 3, 'c': 2, 'a': 1})\n",
      " |\n",
      " |  __isub__(self, other)\n",
      " |      Inplace subtract counter, but keep only results with positive counts.\n",
      " |\n",
      " |      >>> c = Counter('abbbc')\n",
      " |      >>> c -= Counter('bccd')\n",
      " |      >>> c\n",
      " |      Counter({'b': 2, 'a': 1})\n",
      " |\n",
      " |  __le__(self, other)\n",
      " |      True if all counts in self are a subset of those in other.\n",
      " |\n",
      " |  __lt__(self, other)\n",
      " |      True if all counts in self are a proper subset of those in other.\n",
      " |\n",
      " |  __missing__(self, key)\n",
      " |      The count of elements not in the Counter is zero.\n",
      " |\n",
      " |  __ne__(self, other)\n",
      " |      True if any counts disagree. Missing counts are treated as zero.\n",
      " |\n",
      " |  __neg__(self)\n",
      " |      Subtracts from an empty counter.  Strips positive and zero counts,\n",
      " |      and flips the sign on negative counts.\n",
      " |\n",
      " |  __or__(self, other)\n",
      " |      Union is the maximum of value in either of the input counters.\n",
      " |\n",
      " |      >>> Counter('abbb') | Counter('bcc')\n",
      " |      Counter({'b': 3, 'c': 2, 'a': 1})\n",
      " |\n",
      " |  __pos__(self)\n",
      " |      Adds an empty counter, effectively stripping negative and zero counts\n",
      " |\n",
      " |  __reduce__(self)\n",
      " |      Helper for pickle.\n",
      " |\n",
      " |  __repr__(self)\n",
      " |      Return repr(self).\n",
      " |\n",
      " |  __sub__(self, other)\n",
      " |      Subtract count, but keep only results with positive counts.\n",
      " |\n",
      " |      >>> Counter('abbbc') - Counter('bccd')\n",
      " |      Counter({'b': 2, 'a': 1})\n",
      " |\n",
      " |  copy(self)\n",
      " |      Return a shallow copy.\n",
      " |\n",
      " |  elements(self)\n",
      " |      Iterator over elements repeating each as many times as its count.\n",
      " |\n",
      " |      >>> c = Counter('ABCABC')\n",
      " |      >>> sorted(c.elements())\n",
      " |      ['A', 'A', 'B', 'B', 'C', 'C']\n",
      " |\n",
      " |      Knuth's example for prime factors of 1836:  2**2 * 3**3 * 17**1\n",
      " |\n",
      " |      >>> import math\n",
      " |      >>> prime_factors = Counter({2: 2, 3: 3, 17: 1})\n",
      " |      >>> math.prod(prime_factors.elements())\n",
      " |      1836\n",
      " |\n",
      " |      Note, if an element's count has been set to zero or is a negative\n",
      " |      number, elements() will ignore it.\n",
      " |\n",
      " |  most_common(self, n=None)\n",
      " |      List the n most common elements and their counts from the most\n",
      " |      common to the least.  If n is None, then list all element counts.\n",
      " |\n",
      " |      >>> Counter('abracadabra').most_common(3)\n",
      " |      [('a', 5), ('b', 2), ('r', 2)]\n",
      " |\n",
      " |  subtract(self, iterable=None, /, **kwds)\n",
      " |      Like dict.update() but subtracts counts instead of replacing them.\n",
      " |      Counts can be reduced below zero.  Both the inputs and outputs are\n",
      " |      allowed to contain zero and negative counts.\n",
      " |\n",
      " |      Source can be an iterable, a dictionary, or another Counter instance.\n",
      " |\n",
      " |      >>> c = Counter('which')\n",
      " |      >>> c.subtract('witch')             # subtract elements from another iterable\n",
      " |      >>> c.subtract(Counter('watch'))    # subtract elements from another counter\n",
      " |      >>> c['h']                          # 2 in which, minus 1 in witch, minus 1 in watch\n",
      " |      0\n",
      " |      >>> c['w']                          # 1 in which, minus 1 in witch, minus 1 in watch\n",
      " |      -1\n",
      " |\n",
      " |  total(self)\n",
      " |      Sum of the counts\n",
      " |\n",
      " |  update(self, iterable=None, /, **kwds)\n",
      " |      Like dict.update() but add counts instead of replacing them.\n",
      " |\n",
      " |      Source can be an iterable, a dictionary, or another Counter instance.\n",
      " |\n",
      " |      >>> c = Counter('which')\n",
      " |      >>> c.update('witch')           # add elements from another iterable\n",
      " |      >>> d = Counter('watch')\n",
      " |      >>> c.update(d)                 # add elements from another counter\n",
      " |      >>> c['h']                      # four 'h' in which, witch, and watch\n",
      " |      4\n",
      " |\n",
      " |  ----------------------------------------------------------------------\n",
      " |  Class methods defined here:\n",
      " |\n",
      " |  fromkeys(iterable, v=None)\n",
      " |      Create a new dictionary with keys from iterable and values set to value.\n",
      " |\n",
      " |  ----------------------------------------------------------------------\n",
      " |  Data descriptors defined here:\n",
      " |\n",
      " |  __dict__\n",
      " |      dictionary for instance variables\n",
      " |\n",
      " |  __weakref__\n",
      " |      list of weak references to the object\n",
      " |\n",
      " |  ----------------------------------------------------------------------\n",
      " |  Data and other attributes defined here:\n",
      " |\n",
      " |  __hash__ = None\n",
      " |\n",
      " |  ----------------------------------------------------------------------\n",
      " |  Methods inherited from builtins.dict:\n",
      " |\n",
      " |  __contains__(self, key, /)\n",
      " |      True if the dictionary has the specified key, else False.\n",
      " |\n",
      " |  __getattribute__(self, name, /)\n",
      " |      Return getattr(self, name).\n",
      " |\n",
      " |  __getitem__(self, key, /)\n",
      " |      Return self[key].\n",
      " |\n",
      " |  __iter__(self, /)\n",
      " |      Implement iter(self).\n",
      " |\n",
      " |  __len__(self, /)\n",
      " |      Return len(self).\n",
      " |\n",
      " |  __reversed__(self, /)\n",
      " |      Return a reverse iterator over the dict keys.\n",
      " |\n",
      " |  __ror__(self, value, /)\n",
      " |      Return value|self.\n",
      " |\n",
      " |  __setitem__(self, key, value, /)\n",
      " |      Set self[key] to value.\n",
      " |\n",
      " |  __sizeof__(...)\n",
      " |      D.__sizeof__() -> size of D in memory, in bytes\n",
      " |\n",
      " |  clear(...)\n",
      " |      D.clear() -> None.  Remove all items from D.\n",
      " |\n",
      " |  get(self, key, default=None, /)\n",
      " |      Return the value for key if key is in the dictionary, else default.\n",
      " |\n",
      " |  items(...)\n",
      " |      D.items() -> a set-like object providing a view on D's items\n",
      " |\n",
      " |  keys(...)\n",
      " |      D.keys() -> a set-like object providing a view on D's keys\n",
      " |\n",
      " |  pop(...)\n",
      " |      D.pop(k[,d]) -> v, remove specified key and return the corresponding value.\n",
      " |\n",
      " |      If the key is not found, return the default if given; otherwise,\n",
      " |      raise a KeyError.\n",
      " |\n",
      " |  popitem(self, /)\n",
      " |      Remove and return a (key, value) pair as a 2-tuple.\n",
      " |\n",
      " |      Pairs are returned in LIFO (last-in, first-out) order.\n",
      " |      Raises KeyError if the dict is empty.\n",
      " |\n",
      " |  setdefault(self, key, default=None, /)\n",
      " |      Insert key with a value of default if key is not in the dictionary.\n",
      " |\n",
      " |      Return the value for key if key is in the dictionary, else default.\n",
      " |\n",
      " |  values(...)\n",
      " |      D.values() -> an object providing a view on D's values\n",
      " |\n",
      " |  ----------------------------------------------------------------------\n",
      " |  Class methods inherited from builtins.dict:\n",
      " |\n",
      " |  __class_getitem__(...)\n",
      " |      See PEP 585\n",
      " |\n",
      " |  ----------------------------------------------------------------------\n",
      " |  Static methods inherited from builtins.dict:\n",
      " |\n",
      " |  __new__(*args, **kwargs) class method of builtins.dict\n",
      " |      Create and return a new object.  See help(type) for accurate signature.\n",
      "\n"
     ]
    }
   ],
   "source": [
    "help(cnt)"
   ]
  },
  {
   "cell_type": "markdown",
   "metadata": {},
   "source": [
    "### time - modulis laika operācijām\n",
    "\n",
    "Dokumentācija: https://docs.python.org/3/library/time.html"
   ]
  },
  {
   "cell_type": "code",
   "execution_count": 29,
   "metadata": {},
   "outputs": [
    {
     "name": "stdout",
     "output_type": "stream",
     "text": [
      "time.struct_time(tm_year=2025, tm_mon=9, tm_mday=23, tm_hour=13, tm_min=17, tm_sec=27, tm_wday=1, tm_yday=266, tm_isdst=1)\n"
     ]
    }
   ],
   "source": [
    "import time\n",
    "\n",
    "print(time.localtime())"
   ]
  },
  {
   "cell_type": "code",
   "execution_count": 30,
   "metadata": {},
   "outputs": [
    {
     "data": {
      "text/plain": [
       "'Tue, 23 Sep 2025 13:18:03'"
      ]
     },
     "execution_count": 30,
     "metadata": {},
     "output_type": "execute_result"
    }
   ],
   "source": [
    "# laika formāta norādīšana\n",
    "# https://docs.python.org/3/library/time.html#time.strftime\n",
    "time.strftime(\"%a, %d %b %Y %H:%M:%S\")"
   ]
  },
  {
   "cell_type": "code",
   "execution_count": 31,
   "metadata": {},
   "outputs": [
    {
     "name": "stdout",
     "output_type": "stream",
     "text": [
      "time.struct_time(tm_year=2025, tm_mon=10, tm_mday=1, tm_hour=0, tm_min=0, tm_sec=0, tm_wday=2, tm_yday=274, tm_isdst=-1)\n",
      "Wed, 01 Oct 2025 00:00:00\n"
     ]
    }
   ],
   "source": [
    "# varam pārveidot tekstu par laiku\n",
    "my_time = time.strptime(\"01 Oct 25\", \"%d %b %y\")\n",
    "print(my_time)\n",
    "print(time.strftime(\"%a, %d %b %Y %H:%M:%S\", my_time))"
   ]
  },
  {
   "cell_type": "code",
   "execution_count": 32,
   "metadata": {},
   "outputs": [],
   "source": [
    "# nozīmīga ir arī time.sleep funkcija\n",
    "# tā aizkavē programmas darbību uz noteiktu laiku\n",
    "time.sleep(5)"
   ]
  },
  {
   "cell_type": "markdown",
   "metadata": {},
   "source": [
    "### Python \"Lieldienu olas\" - mazie jociņi\n",
    "\n",
    "Šie moduļi ir vairāk kā jociņi, nekā praktiskai lietošanai, bet tie ir jautri un var būt noderīgi, lai iepazītos ar Python standarta bibliotēku."
   ]
  },
  {
   "cell_type": "code",
   "execution_count": null,
   "metadata": {},
   "outputs": [],
   "source": [
    "import this"
   ]
  },
  {
   "cell_type": "code",
   "execution_count": null,
   "metadata": {},
   "outputs": [],
   "source": [
    "## XKCD comic - https://xkcd.com/353/\n",
    "import antigravity"
   ]
  },
  {
   "cell_type": "markdown",
   "metadata": {},
   "source": [
    "## 2. tēma - ārējās bibliotēkas\n",
    "\n",
    "Papildus Python standarta bibliotēkai ir pieejami simtiem tūkstoši citu bibliotēku (moduļu, pakotņu un pilnu ietvaru) no [**Python Package Index (PyPI)**](https://pypi.org/).\n",
    "\n",
    "Ārējās bibliotēkas papildina Python jau tā spēcīgās iespējas un veicina Python popularitāti dažādās jomās, piemēram, tīmekļa izstrādē, datu zinātnē, mākslīgajā intelektā un praktiski jebkurā citā jomā, kurā Python tiek izmantots.\n",
    "\n",
    "---\n",
    "\n",
    "### Ārējo biblioteku uzstādīšana\n",
    "\n",
    "Ārējās bibliotēkas ir jāuzstāda, pirms tās var importēt un izmantot.\n",
    "\n",
    "Tās var uzstādīt, izmantojot `pip` pakotņu pārvaldnieku. Tas ir komandrindas rīks, kas ir iekļauts kopā ar Python un ļauj uzstādīt un pārvaldīt Python pakotnes no Python Package Index vai citiem avotiem.\n",
    "\n",
    "Piemēram, šāda komandrindas instrukcija uzstādīs PyPI pakotni ar nosaukumu [requests](https://requests.readthedocs.io/en/latest/):\n",
    "\n",
    "* `pip install requests`\n",
    "\n",
    "Ja jūs kā izstrādes vidi lietojat Jupyter notebooks (ieskaitot Google Colab), jūs varat izpildīt komandrindas instrukcijas tieši notebook vidē, pievienojot tām priekšā `!` izsaukuma zīmi:\n",
    "\n",
    "* `!pip install requests`\n",
    "\n",
    "Kad pakotne ir uzstādīta, to var importēt tāpat kā jebkuru citu Python pakotni:\n",
    "* `import requests`\n",
    "\n",
    "Bieži vien `pip` tiek izmantots kopā ar *virtuālajām vidēm*, lai pārvaldītu atkarības konkrētiem projektiem. Virtuālo vižu izmantošana tiek aprakstīta tālāk šajā tēmā.\n",
    "\n",
    "---\n",
    "\n",
    "### Resursi ārējo bibliotēku meklēšanai\n",
    "\n",
    "- [Awesome Python](https://github.com/vinta/awesome-python) - jau atlasīti Python resursi\n",
    "- [PyPI - Python Package Index](https://pypi.org/) - oficiālais Python pakotņu reģistrs, kurā ir pieejamas simtiem tūkstoši Python pakotņu\n",
    "\n",
    "Interesanti:\n",
    "- [Python Developers Survey 2023 Results](https://lp.jetbrains.com/python-developers-survey-2023/)\n",
    "- [Python Developers Survey 2024 Results](https://lp.jetbrains.com/python-developers-survey-2024/)\n",
    "\n",
    "---\n",
    "\n",
    "Piemēri Python ārējām bibliotēkām:\n",
    "* **Pandas**: piedāvā datu struktūras un datu analīzes rīkus darbam ar strukturētiem datiem.\n",
    "* **Requests**: vienkāršo HTTP pieprasījumu veikšanu uz tīmekļa pakalpojumiem.\n",
    "* **TensorFlow**: atvērtā koda ietvars priekš mašīnmācīšanās un mākslīgā intelekta.\n",
    "* **Flask**: mikro-ietvars tīmekļa lietotņu izstrādei.\n"
   ]
  },
  {
   "cell_type": "markdown",
   "metadata": {},
   "source": [
    "---\n",
    "\n",
    "### Requests modulis\n",
    "\n",
    "Uzstādīsim requests moduli un izmēģināsim veikt HTTP GET pieprasījumu uz kādu tīmekļa vietni.\n",
    "\n",
    "- Apraksts: \"Requests is an elegant and simple HTTP library for Python, built for human beings.\"\n",
    "\n",
    "https://requests.readthedocs.io/en/latest/"
   ]
  },
  {
   "cell_type": "code",
   "execution_count": 34,
   "metadata": {},
   "outputs": [
    {
     "name": "stdout",
     "output_type": "stream",
     "text": [
      "Requirement already satisfied: requests in /Users/captsolo/Documents/Code/LU_Python_course/.venv/lib/python3.12/site-packages (2.32.3)\n",
      "Requirement already satisfied: charset-normalizer<4,>=2 in /Users/captsolo/Documents/Code/LU_Python_course/.venv/lib/python3.12/site-packages (from requests) (3.4.0)\n",
      "Requirement already satisfied: idna<4,>=2.5 in /Users/captsolo/Documents/Code/LU_Python_course/.venv/lib/python3.12/site-packages (from requests) (3.10)\n",
      "Requirement already satisfied: urllib3<3,>=1.21.1 in /Users/captsolo/Documents/Code/LU_Python_course/.venv/lib/python3.12/site-packages (from requests) (2.2.3)\n",
      "Requirement already satisfied: certifi>=2017.4.17 in /Users/captsolo/Documents/Code/LU_Python_course/.venv/lib/python3.12/site-packages (from requests) (2024.8.30)\n"
     ]
    }
   ],
   "source": [
    "!pip install requests\n",
    "# ja jau esam instalējuši requests, tad šo soli var izlaist"
   ]
  },
  {
   "cell_type": "code",
   "execution_count": 35,
   "metadata": {},
   "outputs": [],
   "source": [
    "import requests\n",
    "# tagad varam sākt darboties ar requests moduli"
   ]
  },
  {
   "cell_type": "code",
   "execution_count": 46,
   "metadata": {},
   "outputs": [
    {
     "name": "stdout",
     "output_type": "stream",
     "text": [
      "URL: https://lv.wikipedia.org/wiki/Rīga?action=raw\n"
     ]
    }
   ],
   "source": [
    "# Latviskās Vikipēdijas lapa par Rīgu\t\n",
    "url = \"https://lv.wikipedia.org/wiki/Rīga?action=raw\"\n",
    "print(f\"URL: {url}\")"
   ]
  },
  {
   "cell_type": "code",
   "execution_count": 47,
   "metadata": {},
   "outputs": [
    {
     "name": "stdout",
     "output_type": "stream",
     "text": [
      "200\n",
      "\n"
     ]
    }
   ],
   "source": [
    "# iegūsim lapas saturu ar GET pieprasījumu\n",
    "\n",
    "headers = {\n",
    "    'user-agent': 'Mozilla/5.0 (Macintosh; Intel Mac OS X 10_15_7) AppleWebKit/537.36 (KHTML, like Gecko) Chrome/140.0.0.0 Safari/537.36'\n",
    "}\n",
    "\n",
    "result = requests.get(url, headers=headers)\n",
    "\n",
    "# apskatīsim rezultāta kodu\n",
    "# kods 200 nozīmē, ka viss ir kārtībā\n",
    "# kāds kods varētu būt, ja kaut kas būtu noticis nepareizi?\n",
    "# avots: https://developer.mozilla.org/en-US/docs/Web/HTTP/Status\n",
    "print(result.status_code)\n",
    "print()"
   ]
  },
  {
   "cell_type": "code",
   "execution_count": 48,
   "metadata": {},
   "outputs": [
    {
     "name": "stdout",
     "output_type": "stream",
     "text": [
      "'''Rīga''' ir [[Latvija]]s [[galvaspilsēta]] un viens no galvenajiem [[rūpniecība]]s, darījumu, [[kultūra]]s, [[Sports|sporta]] un [[Finanses|finanšu]] centriem [[Baltijas valstis|Baltijas valstīs]], kā arī nozīmīga [[osta]]s pilsēta. Ar 605 273 iedzīvotājiem (2024. gada dati) tā ir [[Latvijas lielāko apdzīvoto vietu uzskaitījums|lielākā apdzīvotā vieta]] Latvijā. Tās robežās dzīvo aptuveni viena trešdaļa, bet Rīgas [[Aglomerācija|aglomerācijā]] — vairāk nekā puse visu [[Latvijas iedzīvotāji|Latvijas iedzīvotāju]]. Pilsētas teritorijas platība ir 307,17 km<sup>2</sup>. [[Rīgas vēsturiskais centrs]] ir iekļauts [[UNESCO Pasaules mantojuma saraksts|UNESCO Pasaules kultūras mantojuma sarakstā]] un ir ievērojams ar [[jūgendstils|jūgendstila]] arhitektūru, kurai, pēc UNESCO viedokļa, nav līdzīg\n"
     ]
    }
   ],
   "source": [
    "text = result.text\n",
    "\n",
    "# atradīsim kur sākas teksts par Rīgu\n",
    "position = text.index(\"'''Rīga'''\")\n",
    "\n",
    "# apskatīsim nākamos 800 simbolus\n",
    "print(text[position:position+800])"
   ]
  },
  {
   "cell_type": "markdown",
   "metadata": {},
   "source": [
    "---\n",
    "\n",
    "#### JSON datu apstrāde ar requests moduli\n",
    "\n",
    "`requests` modulis var apstrādāt strukturētus JSON (JavaScript Object Notation) datus:\n"
   ]
  },
  {
   "cell_type": "code",
   "execution_count": 49,
   "metadata": {},
   "outputs": [],
   "source": [
    "# izmantosim fiktīvu json datu avotu, kuru bieži izmanto piemēru veidošanai\n",
    "json_url = \"https://jsonplaceholder.typicode.com/posts/1/comments\""
   ]
  },
  {
   "cell_type": "code",
   "execution_count": 51,
   "metadata": {},
   "outputs": [],
   "source": [
    "# importēsim funkciju sarežģītāku datu struktūru pārskatāmām izdrukām\n",
    "from pprint import pprint\n",
    "\n",
    "# ši funkcija ir daļa no pprint moduļa, kas ir iebūvēts Python\n",
    "# docs: https://docs.python.org/3/library/pprint.html"
   ]
  },
  {
   "cell_type": "code",
   "execution_count": 52,
   "metadata": {},
   "outputs": [
    {
     "name": "stdout",
     "output_type": "stream",
     "text": [
      "{'body': 'laudantium enim quasi est quidem magnam voluptate ipsam eos\\n'\n",
      "         'tempora quo necessitatibus\\n'\n",
      "         'dolor quam autem quasi\\n'\n",
      "         'reiciendis et nam sapiente accusantium',\n",
      " 'email': 'Eliseo@gardner.biz',\n",
      " 'id': 1,\n",
      " 'name': 'id labore ex et quam laborum',\n",
      " 'postId': 1}\n"
     ]
    }
   ],
   "source": [
    "# iegūsim datus ar GET pieprasījumu\n",
    "result = requests.get(json_url)\n",
    "\n",
    "if result.status_code == 200:\n",
    "\n",
    "    # atpazīsim / noparsēsim datus kā JSON\n",
    "    data = result.json()\n",
    "\n",
    "    pprint(data[0])\n",
    "\n",
    "else:\n",
    "\n",
    "    print(f\"Failed to retrieve data, status code: {result.status_code}\")"
   ]
  },
  {
   "cell_type": "code",
   "execution_count": 53,
   "metadata": {},
   "outputs": [
    {
     "data": {
      "text/plain": [
       "'id labore ex et quam laborum'"
      ]
     },
     "execution_count": 53,
     "metadata": {},
     "output_type": "execute_result"
    }
   ],
   "source": [
    "# nedaudz apskatīsim datus\n",
    "data[0][\"name\"]"
   ]
  },
  {
   "cell_type": "markdown",
   "metadata": {},
   "source": [
    "---\n",
    "\n",
    "## 3. tēma: Python virtuālās vides\n",
    "\n",
    "**Virtuālā vide** ir izolēta programmatūras vide, kurā var instalēt pakotnes neatkarīgi no sistēmas Python vides.\n",
    "\n",
    "Priekšrocības, izmantojot virtuālās vides:\n",
    "* var izvairīties no konfliktiem starp pakotņu versijām un atkarībām\n",
    "* var saglabāt sistēmas Python brīvu no dažādām pakotnēm, ko izmanto individuālie projekti\n",
    "* var vienkāršot vairāku Python projektu ar atšķirīgām prasībām pārvaldīšanu\n",
    "\n",
    "Labā prakse ir izveidot virtuālo vidi katram projektam, izolējot to no citiem projektiem.\n",
    "\n",
    "### Virtuālās vides izveide\n",
    "\n",
    "Lai izveidotu virtuālo vidi, izmantojot iebūvēto `venv` moduli, izpildiet šādu komandu no komandrindas:\n",
    "\n",
    "`python -m venv venv`\n",
    "\n",
    "Šī komanda izveidos jaunu direktoriju ar nosaukumu `venv`, kas saturēs virtuālo vidi. Otrā `venv` parametra vietā varat norādīt jebkuru citu direktorijas nosaukumu, piemēram, `python -m venv myenv`.\n",
    "\n"
   ]
  },
  {
   "cell_type": "markdown",
   "metadata": {
    "jp-MarkdownHeadingCollapsed": true
   },
   "source": [
    "### Virtuālās vides aktivizēšana\n",
    "\n",
    "Kad virtuālā vide ir izveidota, to ir nepieciešams aktivizēt:\n",
    "\n",
    "`source venv/bin/activate` - Linux, līdzīgi macOS\n",
    "\n",
    "`venv\\Scripts\\activate` - Windows Cmd\n",
    "\n",
    "`venv\\Scripts\\Activate.ps1` - Windows PowerShell\n",
    "\n",
    "Pēc aktivizācijas, jūsu komandrindas logs var parādīt virtuālās vides nosaukumu (venv), norādot, ka tā ir aktīva.\n",
    "\n",
    "Kad virtuālā vide ir aktivizēta, visas Python komandas, kas tiek izpildītas, izmantos virtuālo vidi, nevis sistēmas Python instalāciju.\n",
    "\n",
    "Daži izstrādes rīki, piemēram, Visual Studio Code, prot automātiski aktivizēt direktorijā atrodamu Python virtuālo vidi, ja šīs virtuālās vides direktorija ir nosaukta standarta veidā (piem., `venv` vai `.venv`).\n",
    "\n",
    "#### pip list\n",
    "\n",
    "Ar `pip list` komandu varat pārbaudīt visas virtuālajā vidē uzstādītās pakotnes. Sākumā šis saraksts saturēs vien pāris iebūvētās pakotnes, kas ir nepieciešamas Python darbībai.\n",
    "\n",
    "Izmantojot `pip`, jūs varat instalēt visas nepieciešamās pakotnes, kas ir nepieciešamas jūsu projektam.\n",
    "\n",
    "#### pip freeze\n",
    "\n",
    "`pip freeze` komanda parāda visas uzstādītās pakotnes, to versijas un atkarības. Šī informācija tiek saglabāta datnē `requirements.txt`, kas var tikt izmantota, lai uzstādītu visas vajadzīgās pakotnes citā Python instalācijā.\n",
    "\n",
    "Komanda: `pip freeze > requirements.txt`\n",
    "\n",
    "#### requirements.txt\n",
    "\n",
    "`requirements.txt` ir teksta datne, kas uzskaita visas nepieciešamās pakotnes un to versijas, kas ir nepieciešamas jūsu projektam.\n",
    "\n",
    "Jūs varat izmantot šo failu, lai uzstādītu visas nepieciešamās pakotnes citā Python instalācijā, izmantojot `pip install -r requirements.txt` komandu.\n",
    "\n",
    "requirements.txt vietā var būt jebkurš datnes nosaukums, bet tas ir standarta nosaukums, ko izmanto daudzi Python izstrādātāji.\n",
    "\n",
    "### Virtuālās vides deaktivizēšana\n",
    "\n",
    "Kad esat beiguši darbu ar virtuālo vidi, to var deaktivizēt, izpildot šādu komandu:\n",
    "\n",
    "`deactivate`"
   ]
  },
  {
   "cell_type": "markdown",
   "metadata": {},
   "source": [
    "### Papildus materiāli par virtuālām vidēm Python valodā\n",
    "\n",
    "Pastāv vairāki citi risinājumi, kas ļauj izveidot virtuālas vides Python valodai, piemēram:\n",
    "\n",
    "- [Anaconda](https://www.anaconda.com/) - piedāvā atlasītus risinājumus datu zinātnei un mašīnmācīšanai\n",
    "- [Pyenv](https://github.com/pyenv/pyenv)\n",
    "- [Virtualenv](https://virtualenv.pypa.io/en/latest/) - vecāks risinājums, bet joprojām izmantojams\n",
    "- [Poetry](https://python-poetry.org/) - ja vēlaties iegūt vairāk funkcionalitātes, nekā tikai virtuālās vides\n",
    "- [uv](https://docs.astral.sh/uv/) - jauns un ļoti ātrs Python pakotņu un projektu pārvaldnieks"
   ]
  },
  {
   "cell_type": "code",
   "execution_count": null,
   "metadata": {},
   "outputs": [],
   "source": [
    "\n"
   ]
  },
  {
   "cell_type": "markdown",
   "metadata": {},
   "source": [
    "## 4. tēma: - Savu moduļu izveide\n",
    "\n",
    "Savu moduļu izveide ir vienkārša un noderīga prakse, kas ļaus jums atkārtoti izmantot kodu vairākos projektos.\n",
    "\n",
    "**Python modulis** ir datne, kas satur Python kodu, parasti funkcijas, klases un mainīgos, kas var tikt izmantoti citās Python programmās.\n",
    "\n",
    "**Python pakotne** ir direktorija, kas parasti satur vairākus moduļus, organizētus hierarhiskā struktūrā. Pakotnes ļauj sapludināt vairākus moduļus kopā, padarot to kodu vieglāk pārvaldāmu un sadalāmu.\n",
    "\n",
    "Priekšrocības, izmantojot moduļus un pakotnes:\n",
    "* var uzturēt Python datnes nelielas un labi organizētas\n",
    "* var atkārtoti izmantot programmas kodu vairākās datnēs un projektos\n",
    "* modulārā koda izmantošana atvieglo sadarbību\n",
    "* vārdtelpas (namespaces) palīdz novērst nosaukumu konfliktus\n",
    "\n"
   ]
  },
  {
   "cell_type": "markdown",
   "metadata": {},
   "source": [
    "### Moduļa izveide\n",
    "\n",
    "Lai izveidotu un izmantotu Python moduli:\n",
    "\n",
    "1) uzrakstiet datnē (piemēram, `my_file.py`) Python kodu (funkcijas, klases utt.)\n",
    "2) importējiet šo datni citā Python programmā: `import my_file`\n",
    "\n",
    "Kad Python modulis ir importēts, jūs varat izmantot visas funkcijas, klases un mainīgos, kas ir definēti šajā modulī.\n",
    "\n",
    "### Moduļa meklēšanas kārtība\n",
    "\n",
    "Kad Python modulis tiek importēts, interpretators meklē šo moduli saskaņā ar noteiktu meklēšanas kārtību.\n",
    "Vispirms tas meklē iebūvētos moduļus un, ja tādi nav, tas meklē datnes direktorijās, kas ir norādītas `sys.path` sarakstā (ieskaitot direktoriju, no kuras tika palaists Python skripts).\n",
    "\n",
    "* [The Module Search Path](https://docs.python.org/3/tutorial/modules.html#the-module-search-path)\n",
    "\n",
    "Izveidosim nelielu moduli izmantojot Jupyter notebook write to file iespēju.\n"
   ]
  },
  {
   "cell_type": "code",
   "execution_count": 54,
   "metadata": {},
   "outputs": [
    {
     "data": {
      "text/plain": [
       "['/Users/captsolo/.local/share/uv/python/cpython-3.12.7-macos-aarch64-none/lib/python312.zip',\n",
       " '/Users/captsolo/.local/share/uv/python/cpython-3.12.7-macos-aarch64-none/lib/python3.12',\n",
       " '/Users/captsolo/.local/share/uv/python/cpython-3.12.7-macos-aarch64-none/lib/python3.12/lib-dynload',\n",
       " '',\n",
       " '/Users/captsolo/Documents/Code/LU_Python_course/.venv/lib/python3.12/site-packages']"
      ]
     },
     "execution_count": 54,
     "metadata": {},
     "output_type": "execute_result"
    }
   ],
   "source": [
    "import sys\n",
    "\n",
    "sys.path"
   ]
  },
  {
   "cell_type": "code",
   "execution_count": 55,
   "metadata": {},
   "outputs": [
    {
     "name": "stdout",
     "output_type": "stream",
     "text": [
      "Overwriting my_module.py\n"
     ]
    }
   ],
   "source": [
    "%%writefile my_module.py\n",
    "\n",
    "i = [\"apple\", \"pear\", \"orange\"]\n",
    "\n",
    "my_str = \"Sveiciens! Šis ir my_module.py piemērs.\"\n",
    "\n",
    "def func(data_in):\n",
    "    print(f\"Received argument: {data_in}\")\n",
    "\n",
    "class Test:\n",
    "    # do nothing\n",
    "    pass"
   ]
  },
  {
   "cell_type": "code",
   "execution_count": 56,
   "metadata": {},
   "outputs": [],
   "source": [
    "# tā kā my_module.py atrodas šajā pašā direktorijā, mēs to varam importēt\n",
    "import my_module as my\n",
    "\n",
    "# ievērosim ka importējot moduli, mēs importējām to ar nosaukumu my nevis tā pilnu nosaukumu"
   ]
  },
  {
   "cell_type": "code",
   "execution_count": 57,
   "metadata": {},
   "outputs": [
    {
     "name": "stdout",
     "output_type": "stream",
     "text": [
      "Sveiciens! Šis ir my_module.py piemērs.\n",
      "\n",
      "['apple', 'pear', 'orange']\n",
      "\n",
      "Received argument: [1, 2, 3]\n"
     ]
    }
   ],
   "source": [
    "# visi objekti, kas definēti my_module, ir pieejami izmantošanai\n",
    "\n",
    "print(my.my_str)    # text string\n",
    "print()\n",
    "\n",
    "print(my.i)         # a list\n",
    "print()\n",
    "\n",
    "my.func([1,2,3])    # a function"
   ]
  },
  {
   "cell_type": "code",
   "execution_count": 58,
   "metadata": {},
   "outputs": [
    {
     "name": "stdout",
     "output_type": "stream",
     "text": [
      "<class 'my_module.Test'>\n"
     ]
    }
   ],
   "source": [
    "# mēs varam arī izmantot my.Test klasi\n",
    "\n",
    "my_obj = my.Test()\n",
    "\n",
    "print(type(my_obj))"
   ]
  },
  {
   "cell_type": "markdown",
   "metadata": {},
   "source": [
    "### Moduļu palaišana skripta veidā\n",
    "\n",
    "Python moduļus var izpildīt arī skripta (script) veidā:\n",
    "\n",
    "`python my_module.py <arguments>`\n",
    "\n",
    "Šajā gadījumā moduļa kods tiek izpildīts, tāpat kā to importējot. Tomēr ir atšķirība, kas palīdz mums atšķirt divus gadījumus - kad modulis tiek importēts un kad tas tiek izpildīts kā skripts:\t\n",
    "\n",
    "* kad tas tiek importēts, moduļa `__name__` mainīgais tiek iestatīts uz moduļa nosaukumu\n",
    "* kad tas tiek izpildīts kā skripts, moduļa `__name__` mainīgais tiek iestatīts uz `\"__main__\"`\n",
    "\n",
    "Jūs varat izmantot šo īpašību, lai izpildītu kodu tikai tad, kad Python modulis tiek izpildīts kā skripts (piemēram, lai parādītu piemēru kā izmantot šo moduli).\n",
    "\n",
    "Šo pārbaudi sauc par \"main guard\" un to implementē ar sekojošu `if` komandu:\n",
    "\n",
    "```python\n",
    "\n",
    "if __name__ == \"__main__\":\n",
    "    # code to run when executed as a script\n",
    "```\n",
    "\n",
    "Tagad mēs varam izveidot moduli, kuru var arī palaist kā skriptu:"
   ]
  },
  {
   "cell_type": "code",
   "execution_count": null,
   "metadata": {},
   "outputs": [],
   "source": [
    "%%writefile my_module2.py\n",
    "\n",
    "i = [\"apple\", \"pear\", \"orange\"]\n",
    "\n",
    "my_str = \"Sveiciens! Šis ir my_module.py piemērs.\"\n",
    "\n",
    "def func(data_in):\n",
    "    print(f\"Received argument: {data_in}\")\n",
    "\n",
    "if __name__ == \"__main__\":\n",
    "    # code to run when executed as a script\n",
    "\n",
    "    print(\"Executing in standalone mode.\")\n",
    "    print(\"This code will not be executed when importing this module.\\n\")\n",
    "    func(my_str)"
   ]
  },
  {
   "cell_type": "markdown",
   "metadata": {},
   "source": [
    "### Jupyter komandas Python skriptu izpildei\n",
    "\n",
    "Izmantosim Jupyter komandu lai izpildītu šo Python datni standalone režīmā (varat arī palaist datni tieši no komandrindas):\n"
   ]
  },
  {
   "cell_type": "code",
   "execution_count": 59,
   "metadata": {},
   "outputs": [
    {
     "name": "stdout",
     "output_type": "stream",
     "text": [
      "Executing in standalone mode.\n",
      "This code will not be executed when importing this module.\n",
      "\n",
      "Received argument: Sveiciens! Šis ir my_module.py piemērs.\n"
     ]
    }
   ],
   "source": [
    "%run my_module2.py"
   ]
  },
  {
   "cell_type": "code",
   "execution_count": 60,
   "metadata": {},
   "outputs": [
    {
     "name": "stdout",
     "output_type": "stream",
     "text": [
      "['apple', 'pear', 'orange']\n"
     ]
    }
   ],
   "source": [
    "# parasts imports\n",
    "import my_module2\n",
    "\n",
    "print(my_module2.i)"
   ]
  },
  {
   "cell_type": "markdown",
   "metadata": {},
   "source": [
    "### Pakotnes izveide\n",
    "\n",
    "Pakotne ir direktorija, kas satur vairākus Python moduļus, organizētus hierarhiskā struktūrā.\n",
    "\n",
    "Lai izveidotu Python pakotni:\n",
    "* izveidojiet direktoriju ar pakotnes nosaukumu\n",
    "* iekšā šajā direktorijā izveidojiet vienu vai vairākus Python moduļus\n",
    "\n",
    "Pakotni var importēt tāpat kā moduli, izmantojot pakotnes nosaukumu un moduļa nosaukumu, atdalot tos ar punktu:\n",
    "`import package.module`\n",
    "\n",
    "Piezīme: agrāk bija obligāti direktorijā ievietot `__init__.py` datni, lai Python interpretators saprastu, ka direktorija ir pakotne. Sākot ar Python 3.3, šī datne nav obligāta, bet to joprojām var izmantot, lai inicializētu pakotni.\n",
    "\n",
    "---\n",
    "\n",
    "#### Vārda dienu saraksts (pakotnes piemērs)\n",
    "\n",
    "https://github.com/CaptSolo/lv-namedays/\n",
    "\n",
    "Vārda dienu saraksta pakotne satur latviešu vārda dienu kalendāru un rīkus darbam ar to. To var izmantot gan kā ārējo bibliotēku, gan kā komandrindas rīku.\n"
   ]
  },
  {
   "cell_type": "markdown",
   "metadata": {},
   "source": [
    "## Treniņa uzdevumi\n",
    "\n",
    "### Uzdevums 1 - standarta bibliotēka"
   ]
  },
  {
   "cell_type": "code",
   "execution_count": null,
   "metadata": {},
   "outputs": [],
   "source": [
    "# Izvēleties moduli no Python standarta bibliotēkas un izpētiet to.\n",
    "# https://docs.python.org/3/library/index.html\n",
    "\n",
    "# importējiet izvēlēto moduli un izmantojiet vismaz trīs tā funkcijas/metodes/klases/...\n"
   ]
  },
  {
   "cell_type": "markdown",
   "metadata": {},
   "source": [
    "### Uzdevums 2 - ārējās bibliotēkas, virtuālā vide\n",
    "\n",
    "* Izvēleties ārējo bibliotēku no [PyPI](https://pypi.org/) un uzstādiet to, izmantojot `pip`.\n",
    "* Importējiet šo bibliotēku un izmēģiniet to praksē.\n",
    "* Vislabāk, ja izmantosiet bibliotēku, kas ir noderīga jūsu darbā vai hobijam.\n",
    "* Ieteicams arī izveidot virtuālo vidi šim projektam."
   ]
  },
  {
   "cell_type": "markdown",
   "metadata": {},
   "source": [
    "### Uzdevums 3 - savu moduļu izveide\n",
    "\n",
    "* definējiet savu moduli, kas satur kādu Python kodu (funkcijas, mainīgos, ...)\n",
    "* importējiet šo moduli un izmantojiet to\n",
    "* pievienojiet kādu programmas kodu, kas tiks izpildīts tikai standalone režīmā (izmantojot \"main guard\" funkcionalitāti)\n"
   ]
  },
  {
   "cell_type": "markdown",
   "metadata": {},
   "source": [
    "## Lekcijas kopsavilkums\n",
    "\n",
    "Šajā nodarbībā mēs esam apguvuši:\n",
    "\n",
    "* Python standarta bibliotēkas moduļu importēšanu un izmantošanu\n",
    "* ārējo bibliotēku importēšanu, uzstādīšanu un izmantošanu, izmantojot `pip`\n",
    "* virtuālo vidi un kā to izveidot un izmantot\n",
    "* savu moduļu izveidi un izpildi kā skriptus\n",
    "\n"
   ]
  },
  {
   "cell_type": "markdown",
   "metadata": {},
   "source": [
    "## Papildu resursi\n",
    "\n",
    "### 1. tēma - resursi\n",
    "\n",
    "- [The Python standard library](https://docs.python.org/3/library/)\n",
    "- [Brief Tour of the Standard Library](https://docs.python.org/3/tutorial/stdlib.html)\n",
    "\n",
    "### 2. tēma - resursi\n",
    "\n",
    "- [Awesome Python list](https://github.com/vinta/awesome-python)\n",
    "- [PyPI - Python Package Index](https://pypi.org/)\n",
    "\n",
    "### 3. tēma - resursi\n",
    "\n",
    "- [Python Virtual Environments: A Primer](https://realpython.com/python-virtual-environments-a-primer/)\n",
    "- [uv cheatsheet](https://mathspp.com/blog/uv-cheatsheet) - mathspp\n",
    "\n",
    "### 4. tēma - resursi\n",
    "\n",
    "- [Modules](https://docs.python.org/3/tutorial/modules.html) - Python tutorial\n",
    "- [Python Modules and Packages – An Introduction](https://realpython.com/python-modules-packages/)\n"
   ]
  },
  {
   "cell_type": "code",
   "execution_count": null,
   "metadata": {},
   "outputs": [],
   "source": []
  }
 ],
 "metadata": {
  "kernelspec": {
   "display_name": "Python 3 (ipykernel)",
   "language": "python",
   "name": "python3"
  },
  "language_info": {
   "codemirror_mode": {
    "name": "ipython",
    "version": 3
   },
   "file_extension": ".py",
   "mimetype": "text/x-python",
   "name": "python",
   "nbconvert_exporter": "python",
   "pygments_lexer": "ipython3",
   "version": "3.12.7"
  }
 },
 "nbformat": 4,
 "nbformat_minor": 4
}
