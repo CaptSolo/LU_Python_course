{
 "cells": [
  {
   "cell_type": "markdown",
   "metadata": {},
   "source": [
    "![LU Logo](https://www.df.lu.lv/fileadmin/user_upload/LU.LV/Apaksvietnes/Fakultates/www.df.lu.lv/Par_mums/Logo/DF_logo/01_DF_logo_LV.png)"
   ]
  },
  {
   "cell_type": "markdown",
   "metadata": {},
   "source": [
    "# Intermediate Python"
   ]
  },
  {
   "cell_type": "markdown",
   "metadata": {},
   "source": [
    "## Lesson Overview\n",
    "\n",
    "We will cover the following topics:\n",
    "\n",
    "* Decorators\n",
    "* Context managers\n",
    "* Generators, generator expressions\n",
    "\n",
    "## Lesson Prerequisites\n",
    "\n",
    "* Working knowledge of Python - what has been covered in this course so far.\n",
    "\n",
    "## Lesson Objectives\n",
    "\n",
    "At the end of this lesson you should be able to:\n",
    "\n",
    "* Write and use decorators\n",
    "* Write and use context managers\n",
    "* Write and use generators and generator expressions\n"
   ]
  },
  {
   "cell_type": "markdown",
   "metadata": {},
   "source": [
    "### Import required libraries"
   ]
  },
  {
   "cell_type": "code",
   "execution_count": null,
   "metadata": {},
   "outputs": [],
   "source": [
    "# generally imports go at the top of a notebook\n",
    "# python version\n",
    "import sys\n",
    "print(f\"Python version: {sys.version}\")"
   ]
  },
  {
   "cell_type": "markdown",
   "metadata": {},
   "source": [
    "## Topic 1: - Decorators\n",
    "\n",
    "**Python decorators** are a design pattern that allow us to extend or to modify the behavior of callable objects (like functions or methods) without permanently altering the callable itself. Essentially, decorators wrap or \"decorate\" a function, enabling pre- and post-processing actions around the original function call. \n",
    "\n",
    "Decorators can be used to extend existing functions and methods with functionality such as logging, caching or access control.\n",
    "\n",
    "Python decorators are applied using the \"@\" syntax above the function or method definition:\n",
    "\n",
    "```\n",
    "@decorator_name\n",
    "def my_function():\n",
    "    ...\n",
    "```\n"
   ]
  },
  {
   "cell_type": "markdown",
   "metadata": {},
   "source": [
    "### 1.1 – Higher-Order Functions\n",
    "\n",
    "In Python, functions are \"first-class\" objects. They can be assigned to variables, passed as arguments and returned from functions (just like any other object).\n",
    "\n",
    "Higher-order functions are functions that work with other functions: they may accept functions as their arguments, they may return functions, or both. In this example `func_2(my_function)` is a higher-order function."
   ]
  },
  {
   "cell_type": "code",
   "execution_count": null,
   "metadata": {},
   "outputs": [],
   "source": [
    "def func_1(text):\n",
    "    print(\"In func_1:\", text)\n",
    "\n",
    "def func_2(my_function):\n",
    "    print(\"In func_2:\")\n",
    "    my_function(\"Hi!\")\n",
    "\n",
    "func_1(\"Hello there!\")\n",
    "print()\n",
    "\n",
    "func_2(func_1)"
   ]
  },
  {
   "cell_type": "markdown",
   "metadata": {},
   "source": [
    "Here we can see that `func_2()` executes whatever function is passed to it.\n",
    "\n",
    "A function may also define new functions (called *inner* or *nested functions*) inside it as well as return a function:"
   ]
  },
  {
   "cell_type": "code",
   "execution_count": null,
   "metadata": {},
   "outputs": [],
   "source": [
    "def parent_fn():\n",
    "    print(\"Inside the parent_fn() function.\")\n",
    "\n",
    "    def child_fn(text):\n",
    "        print(\"Inside the child_fn() function:\", text)\n",
    "\n",
    "    # returning a function\n",
    "    return child_fn\n",
    "\n",
    "parent_fn()"
   ]
  },
  {
   "cell_type": "code",
   "execution_count": null,
   "metadata": {},
   "outputs": [],
   "source": [
    "# parent_fn() returns a function\n",
    "my_fn = parent_fn()\n",
    "print()\n",
    "\n",
    "# we can execute the function returned by parent_fn()\n",
    "my_fn(\"Hello!\")"
   ]
  },
  {
   "cell_type": "code",
   "execution_count": null,
   "metadata": {},
   "outputs": [],
   "source": []
  },
  {
   "cell_type": "markdown",
   "metadata": {},
   "source": [
    "### 1.2 – Function decorators\n",
    "\n",
    "Function decorators \"wrap\" a function or a class method and modifies or extends its functionality.\n",
    "\n",
    "Using *higher-order functions* we can define a function that takes another function as an argument and returns back another function:"
   ]
  },
  {
   "cell_type": "code",
   "execution_count": null,
   "metadata": {},
   "outputs": [],
   "source": [
    "def my_decorator(func):\n",
    "    \n",
    "    # function that calls func() provided as an argument to my_decorator()\n",
    "    def wrapper():\n",
    "        \n",
    "        print(\"Do something before the function is called.\")\n",
    "\n",
    "        # call the original function\n",
    "        func()\n",
    "        \n",
    "        print(\"Do something after the function is called.\")\n",
    "\n",
    "    # returns the wrapper funcion\n",
    "    return wrapper"
   ]
  },
  {
   "cell_type": "code",
   "execution_count": null,
   "metadata": {},
   "outputs": [],
   "source": [
    "# define a new function\n",
    "def my_fn():\n",
    "    print(\"Executing my_fn() function.\")\n",
    "\n",
    "my_fn()"
   ]
  },
  {
   "cell_type": "markdown",
   "metadata": {},
   "source": [
    "Decorators wrap a function, modifying its behavior:"
   ]
  },
  {
   "cell_type": "code",
   "execution_count": null,
   "metadata": {},
   "outputs": [],
   "source": [
    "# now we can re-define the function by \"wrapping\" it in decorator's inner function\n",
    "my_fn = my_decorator(my_fn)\n",
    "\n",
    "my_fn()"
   ]
  },
  {
   "cell_type": "code",
   "execution_count": null,
   "metadata": {},
   "outputs": [],
   "source": [
    "# Python decorators let us decorate functions by using the \"@\" syntax\n",
    "\n",
    "# @my_decorator means the same as my_fn2 = my_decorator(my_fn2)\n",
    "\n",
    "@my_decorator\n",
    "def my_fn2():\n",
    "    print(\"In the original function.\")\n",
    "\n",
    "my_fn2()"
   ]
  },
  {
   "cell_type": "markdown",
   "metadata": {},
   "source": [
    "You can also define decorators in your own modules, then import and use them:"
   ]
  },
  {
   "cell_type": "code",
   "execution_count": null,
   "metadata": {},
   "outputs": [],
   "source": [
    "%%writefile decorator_module.py\n",
    "\n",
    "def do_twice(func):\n",
    "\n",
    "    def wrapper():\n",
    "        func()\n",
    "        func()\n",
    "\n",
    "    # returns the wrapper funcion\n",
    "    return wrapper"
   ]
  },
  {
   "cell_type": "code",
   "execution_count": null,
   "metadata": {},
   "outputs": [],
   "source": [
    "from decorator_module import do_twice\n",
    "\n",
    "@do_twice\n",
    "def my_fn3():\n",
    "    print(\"Hello, world!\")\n",
    "\n",
    "my_fn3()"
   ]
  },
  {
   "cell_type": "markdown",
   "metadata": {},
   "source": [
    "#### Functions with arguments and return values\n",
    "\n",
    "If the decorated function accepts arguments or returns a value, the decorator must also handle these arguments and the return value.\n",
    "\n",
    "The decorated function may have an arbitrary number of positional and keyword arguments. To get the values of these arguments, we can use the `*args` (for positional arguments) and `**kwargs` (for keyword arguments) syntax that handles a variable number of arguments:"
   ]
  },
  {
   "cell_type": "code",
   "execution_count": null,
   "metadata": {},
   "outputs": [],
   "source": [
    "def do_twice_args(func):\n",
    "\n",
    "    # supply arguments to the inner function\n",
    "    def wrapper(*args, **kwargs):\n",
    "        func(*args, **kwargs)\n",
    "        func(*args, **kwargs)\n",
    "\n",
    "    # returns the wrapper funcion\n",
    "    return wrapper"
   ]
  },
  {
   "cell_type": "code",
   "execution_count": null,
   "metadata": {},
   "outputs": [],
   "source": [
    "@do_twice_args\n",
    "def print_name(name):\n",
    "    print(f\"Name: {name}\")\n",
    "\n",
    "print_name(\"John\")"
   ]
  },
  {
   "cell_type": "markdown",
   "metadata": {},
   "source": [
    "---\n",
    "\n",
    "You can also decorate functions that return a value:"
   ]
  },
  {
   "cell_type": "code",
   "execution_count": null,
   "metadata": {},
   "outputs": [],
   "source": [
    "def log_runs(func):\n",
    "\n",
    "    # supply arguments to the inner function\n",
    "    def wrapper(*args, **kwargs):\n",
    "        print(\"Before the function call.\")\n",
    "        result = func(*args, **kwargs)\n",
    "        print(\"After the function call. Return value:\", result)\n",
    "\n",
    "        return result\n",
    "\n",
    "    return wrapper"
   ]
  },
  {
   "cell_type": "code",
   "execution_count": null,
   "metadata": {},
   "outputs": [],
   "source": [
    "@log_runs\n",
    "def multiply_10x(number, my_name=\"Nothing\"):\n",
    "    print(f\"In multiply_10x function. Name: {my_name}\")\n",
    "    return number * 10\n",
    "\n",
    "multiply_10x(150, my_name=\"Uldis\")"
   ]
  },
  {
   "cell_type": "markdown",
   "metadata": {},
   "source": [
    "---\n",
    "\n",
    "Python functions normally know their name and attributes, and Python can display documentation (help) related to a function. However, when decorated, functions \"loose\" this information. Instead, information about the wrapper function is displayed:\n"
   ]
  },
  {
   "cell_type": "code",
   "execution_count": null,
   "metadata": {},
   "outputs": [],
   "source": [
    "multiply_10x"
   ]
  },
  {
   "cell_type": "code",
   "execution_count": null,
   "metadata": {},
   "outputs": [],
   "source": [
    "help(multiply_10x)"
   ]
  },
  {
   "cell_type": "markdown",
   "metadata": {},
   "source": [
    "Let's fix that using the `functools.wraps` decorator:"
   ]
  },
  {
   "cell_type": "code",
   "execution_count": null,
   "metadata": {},
   "outputs": [],
   "source": [
    "import functools\n",
    "\n",
    "def log_runs2(func):\n",
    "\n",
    "    @functools.wraps(func)\n",
    "    def wrapper(*args, **kwargs):\n",
    "        print(\"Before the function call.\")\n",
    "        result = func(*args, **kwargs)\n",
    "        print(\"After the function call. Return value:\", result)\n",
    "\n",
    "        return result\n",
    "\n",
    "    return wrapper"
   ]
  },
  {
   "cell_type": "code",
   "execution_count": null,
   "metadata": {},
   "outputs": [],
   "source": [
    "@log_runs2\n",
    "def multiply_15x(number):\n",
    "    \"\"\"Multiply the number by 15.\"\"\"\n",
    "    \n",
    "    print(\"In multiply_15x function.\")\n",
    "    return number * 15\n",
    "\n",
    "multiply_15x(150)"
   ]
  },
  {
   "cell_type": "markdown",
   "metadata": {},
   "source": [
    "Python can now correctly display the name of the function and its help message:"
   ]
  },
  {
   "cell_type": "code",
   "execution_count": null,
   "metadata": {},
   "outputs": [],
   "source": [
    "multiply_15x"
   ]
  },
  {
   "cell_type": "code",
   "execution_count": null,
   "metadata": {},
   "outputs": [],
   "source": [
    "help(multiply_15x)"
   ]
  },
  {
   "cell_type": "markdown",
   "metadata": {},
   "source": [
    "### 1.3 – Decorator Examples\n",
    "\n",
    "Python decorators can be used for various purposes including:\n",
    "- **Logging** information about function execution \n",
    "- **Authorization** – checking if the user is authorized to use the function\n",
    "- **Caching** – storing results of expensive function calls and returning the cached result when requested\n",
    "- **Validation** – checking the inputs or outputs of a function\n",
    "\n",
    "Multiple decorators can be applied to the same function if necessary."
   ]
  },
  {
   "cell_type": "markdown",
   "metadata": {},
   "source": [
    "#### Flask web framework\n",
    "\n",
    "[Flask](https://flask.palletsprojects.com/en/2.3.x/), a web micro-framework for Python, uses decorators for route definitions and other purposes."
   ]
  },
  {
   "cell_type": "markdown",
   "metadata": {},
   "source": [
    "Here is a basic example of Flask returning \"Hello, Flask!\" when the website's root is accessed. It employs a `@app.route()` decorator to associate a function with the corresponding web URL it serves:\n",
    "\n",
    "```\n",
    "from flask import Flask\n",
    "\n",
    "app = Flask(__name__)\n",
    "\n",
    "@app.route(\"/\")\n",
    "def home():\n",
    "    return \"Hello, Flask!\"\n",
    "```\n",
    "\n",
    "We could also define a custom decorator to ensure that a user is logged in before they can access a specific route:\n",
    "\n",
    "```\n",
    "from flask import Flask, g, request, redirect, url_for\n",
    "import functools\n",
    "\n",
    "app = Flask(__name__)\n",
    "\n",
    "def login_required(func):\n",
    "    \"\"\"Make sure user is logged in before proceeding\"\"\"\n",
    "    @functools.wraps(func)\n",
    "    def wrapper_login_required(*args, **kwargs):\n",
    "        if g.user is None:\n",
    "            return redirect(url_for(\"login\", next=request.url))\n",
    "        return func(*args, **kwargs)\n",
    "    return wrapper_login_required\n",
    "```\n",
    "\n",
    "Then you can use this decorator to make sure a user is logged in:\n",
    "\n",
    "```\n",
    "@app.route('/secret')\n",
    "@login_required\n",
    "def secret():\n",
    "    return \"Welcome to this secret webpage!\"\n",
    "```"
   ]
  },
  {
   "cell_type": "markdown",
   "metadata": {},
   "source": [
    "#### Dataclasses"
   ]
  },
  {
   "cell_type": "markdown",
   "metadata": {},
   "source": [
    "The `dataclass()` decorator, introduced in Python 3.7, provides a way to declare [**data classes**](https://docs.python.org/3/library/dataclasses.html#dataclasses.dataclass). Data classes are classes containing mainly data. A data class describes its attributes using class variable type annotations.\n",
    "\n",
    "```\n",
    "from dataclasses import dataclass\n",
    "\n",
    "@dataclass\n",
    "class Point:\n",
    "    x: float\n",
    "    y: float\n",
    "    z: float = 0.0\n",
    "\n",
    "p = Point(1.5, 2.5)\n",
    "\n",
    "# prints \"Point(x=1.5, y=2.5, z=0.0)\"\n",
    "print(p) \n",
    "```\n",
    "\n",
    "This is an example of applying a decorator to a class."
   ]
  },
  {
   "cell_type": "markdown",
   "metadata": {},
   "source": [
    "#### Caching"
   ]
  },
  {
   "cell_type": "markdown",
   "metadata": {},
   "source": [
    "Decorators can be used for caching by storing the results of function calls in a cache.\n",
    "\n",
    "When the function is called again with the same arguments, the decorator retrieves the result from the cache rather than executing the function, optimizing performance and reducing redundant computations. \n",
    "\n",
    "This technique, also called *memoization* is especially useful for expensive or recursive functions. An example of a recursive function that can benefit from caching is the recursive Fibonacci sequence function.\n",
    "\n",
    "Python standard library includes a least-recently-used (LRU) cache as a [@functools.lru_cache](https://docs.python.org/library/functools.html#functools.lru_cache) decorator."
   ]
  },
  {
   "cell_type": "code",
   "execution_count": null,
   "metadata": {},
   "outputs": [],
   "source": [
    "import functools\n",
    "\n",
    "@functools.lru_cache(maxsize=10)\n",
    "def fibonacci(num):\n",
    "    \n",
    "    print(f\"Calculating fibonacci({num})\")\n",
    "    \n",
    "    if num < 2:\n",
    "        return num\n",
    "        \n",
    "    return fibonacci(num - 1) + fibonacci(num - 2)"
   ]
  },
  {
   "cell_type": "code",
   "execution_count": null,
   "metadata": {},
   "outputs": [],
   "source": [
    "# \"Calculating fibonacci\" is printed every time the function is executed\n",
    "fibonacci(10)"
   ]
  },
  {
   "cell_type": "code",
   "execution_count": null,
   "metadata": {},
   "outputs": [],
   "source": [
    "# not printing \"Calculating fibonacci\" this time because the return value has already been cached\n",
    "fibonacci(8)"
   ]
  },
  {
   "cell_type": "markdown",
   "metadata": {},
   "source": [
    "## Topic 2: - Context Managers"
   ]
  },
  {
   "cell_type": "markdown",
   "metadata": {},
   "source": [
    "**Context managers** allow you to allocate and release resources precisely when you want to, ensuring that resource setup and teardown actions are reliably executed.\n",
    "\n",
    "Context managers have a variety of uses including:\n",
    "* **file operations** – properly closing open files\n",
    "* **database connections** – ensuring that database connections are properly closed or committed / rolled back\n",
    "* **thread safety** – acquiring and releasing locks to ensure that resources are accessed in a thread-safe manner\n",
    "\n",
    "---\n",
    "\n",
    "Context managers are commonly used with the `with` statement. The `with` statement is often used when working with files:\n",
    "\n",
    "```\n",
    "with open(\"test_file.txt\", \"r\") as file:\n",
    "    text = file.read()\n",
    "```\n",
    "\n",
    "Here the `with` statement ensures that the opened file is properly closed, even if an exception is raised. Closing the file takes place when the program exits the `with` command block: `text = file.read()`\n",
    "\n",
    "You can close the file manually without a context manager, as demonstrated in the following code. However, if an exception occurs during the file.read() call, the file won't be automatically closed.\n",
    "\n",
    "```\n",
    "file = open(\"test_file.txt\", \"r\")\n",
    "text = file.read()\n",
    "file.close()\n",
    "```\n",
    "\n",
    "In order to properly close the file, you would need to use a `try: ... finally:` statement:\n",
    "\n",
    "```\n",
    "file = open(\"test_file.txt\", \"r\")\n",
    "\n",
    "try:\n",
    "    content = file.read()\n",
    "\n",
    "finally:\n",
    "    file.close()\n",
    "```\n",
    "\n",
    "Context managers simplify resource management in Python, leading to more readable and error-resistant code."
   ]
  },
  {
   "cell_type": "markdown",
   "metadata": {},
   "source": [
    "---\n",
    "\n",
    "A **context manager** can be implemented:\n",
    "* using a context manager protocol (interface)\n",
    "* using a generator function\n",
    "\n",
    "**Context manager protocol** lets you define a context manager as a class by implementing two special methods: `__enter__` and `__exit__`. These methods allow developers to set up and tear down the resources managed by the context manager."
   ]
  },
  {
   "cell_type": "code",
   "execution_count": null,
   "metadata": {},
   "outputs": [],
   "source": [
    "class FileOpener:\n",
    "    \n",
    "    def __init__(self, filename, mode):\n",
    "        self.filename = filename\n",
    "        self.mode = mode\n",
    "        self.file = None\n",
    "\n",
    "    def __enter__(self):\n",
    "        print(f\"Opening: {self.filename}\")\n",
    "        self.file = open(self.filename, self.mode)\n",
    "        return self.file\n",
    "\n",
    "    def __exit__(self, exc_type, exc_val, exc_tb):\n",
    "        if self.file:\n",
    "            print(f\"Closing: {self.filename}\")\n",
    "            self.file.close()"
   ]
  },
  {
   "cell_type": "code",
   "execution_count": null,
   "metadata": {},
   "outputs": [],
   "source": [
    "\n",
    "with FileOpener(\"decorator_module.py\", \"r\") as in_file:\n",
    "    print(\"Reading the file.\")\n",
    "    content = in_file.read()"
   ]
  },
  {
   "cell_type": "markdown",
   "metadata": {},
   "source": [
    "---\n",
    "\n",
    "Context managers can be used to **manage database transactions**:\n",
    "\n",
    "```\n",
    "class DatabaseTransaction:\n",
    "    def __init__(self, connection):\n",
    "        self.connection = connection\n",
    "\n",
    "    def __enter__(self):\n",
    "        return self.connection.cursor()\n",
    "\n",
    "    def __exit__(self, exc_type, exc_val, exc_tb):\n",
    "        if exc_type is None:\n",
    "            self.connection.commit()\n",
    "        else:\n",
    "            self.connection.rollback()\n",
    "```\n",
    "Assuming that `conn` is an already established database connection:\n",
    "\n",
    "```\n",
    "with DatabaseTransaction(conn) as cursor:\n",
    "    cursor.execute('INSERT INTO table (col1, col2) VALUES (?, ?)', (val1, val2))\n",
    "```"
   ]
  },
  {
   "cell_type": "markdown",
   "metadata": {},
   "source": [
    "---\n",
    "\n",
    "**Timer context manager** lets you measure the time taken to execute a block of code."
   ]
  },
  {
   "cell_type": "code",
   "execution_count": null,
   "metadata": {},
   "outputs": [],
   "source": [
    "import time\n",
    "\n",
    "class CodeTimer:\n",
    "    def __enter__(self):\n",
    "        self.start_time = time.time()\n",
    "\n",
    "    def __exit__(self, exc_type, exc_val, exc_tb):\n",
    "        self.end_time = time.time()\n",
    "        elapsed_time = self.end_time - self.start_time\n",
    "        print(f'Code took {elapsed_time:.2f} seconds to execute')\n"
   ]
  },
  {
   "cell_type": "code",
   "execution_count": null,
   "metadata": {},
   "outputs": [],
   "source": [
    "with CodeTimer():\n",
    "    # some time-consuming operations\n",
    "    result = [i**2 for i in range(1000000)]"
   ]
  },
  {
   "cell_type": "code",
   "execution_count": null,
   "metadata": {},
   "outputs": [],
   "source": [
    "# Jupyter also has a \"magic\" keyword for measuring the duration of code execution.\n",
    "\n",
    "%time result = [i**2 for i in range(1000000)]\n",
    "\n",
    "print()\n",
    "\n",
    "%timeit result = [i**2 for i in range(1000000)]"
   ]
  },
  {
   "cell_type": "code",
   "execution_count": null,
   "metadata": {},
   "outputs": [],
   "source": []
  },
  {
   "cell_type": "markdown",
   "metadata": {},
   "source": [
    "## Topic 3: - Generators\n",
    "\n",
    "Generator functions allow us to declare a function that behaves like an iterator (e.g. it can be used in a for loop).\n",
    "\n",
    "These functions can generate (yield) values for each iteration of the loop instead of returning a single value at the end of the function.\n",
    "\n",
    "https://wiki.python.org/moin/Generators\n",
    "\n",
    "* Generators (generator functions)\n",
    "* Generator expressions\n",
    "\n",
    "Generator functions are defined the same way as other Python functions\n",
    "- except that they use `yield` command to return values (e.g., for each iteration of the loop) while this generator function is running\n",
    "\n",
    "---\n",
    "\n",
    "Generators:\n",
    "- are simpler than regular functions written to do the same task\n",
    "- use less memory space because return values are calculated on-the-fly without a need to save all the values to a list\n",
    "- are \"lazy\" – they only generate values when asked to\n",
    "\n",
    "Generators can produce data that is huge or infinite."
   ]
  },
  {
   "cell_type": "markdown",
   "metadata": {},
   "source": [
    "#### 3.1 – Example"
   ]
  },
  {
   "cell_type": "code",
   "execution_count": null,
   "metadata": {},
   "outputs": [],
   "source": [
    "# First n numbers - using a regular function\n",
    "\n",
    "def first_n(n):\n",
    "    '''Build and return a list'''\n",
    "    num, nums = 0, []\n",
    "    \n",
    "    while num < n:\n",
    "        nums.append(num)\n",
    "        num += 1\n",
    "        \n",
    "    return nums"
   ]
  },
  {
   "cell_type": "code",
   "execution_count": null,
   "metadata": {},
   "outputs": [],
   "source": [
    "res = first_n(1000_000)\n",
    "\n",
    "# how much memory does it use?\n",
    "import sys\n",
    "print(sys.getsizeof(res))\n",
    "print()\n",
    "\n",
    "# sum of all the numbers\n",
    "print(sum(res))"
   ]
  },
  {
   "cell_type": "code",
   "execution_count": null,
   "metadata": {},
   "outputs": [],
   "source": [
    "# First n numbers - using a generator function\n",
    "\n",
    "def first_n_gen(n):\n",
    "    \n",
    "    num = 0\n",
    "    \n",
    "    while num < n:\n",
    "        yield num\n",
    "        num += 1\n",
    "\n",
    "# Generator yields items (as they are requested) instead of returning a list \n",
    "# at the end of the function"
   ]
  },
  {
   "cell_type": "code",
   "execution_count": null,
   "metadata": {},
   "outputs": [],
   "source": [
    "res_gen = first_n_gen(1_000_000)\n",
    "\n",
    "# the result is a generator\n",
    "print(type(res_gen))\n",
    "\n",
    "print()\n",
    "print(sys.getsizeof(res_gen))"
   ]
  },
  {
   "cell_type": "code",
   "execution_count": null,
   "metadata": {},
   "outputs": [],
   "source": [
    "# generator generates values one-by-one, on demand\n",
    "\n",
    "# calculate the sum of all the values\n",
    "print(sum(res_gen))"
   ]
  },
  {
   "cell_type": "code",
   "execution_count": null,
   "metadata": {},
   "outputs": [],
   "source": [
    "# once all generator values have been requested,\n",
    "# it is \"used up\" - no values remain to return\n",
    "\n",
    "# so we can not iterate through a generator twice in a row\n",
    "\n",
    "print(sum(res_gen))\n",
    "print()\n",
    "\n",
    "# but we can create a new generator object and iterate through it\n",
    "\n",
    "print(sum(first_n_gen(1_000_000)))"
   ]
  },
  {
   "cell_type": "markdown",
   "metadata": {},
   "source": [
    "---\n",
    "\n",
    "#### 3.2 – Generator implementation\n",
    "\n",
    "Iterators are objects that allow you to \"step over\" (iterate) items in collections of data.\n",
    "\n",
    "Generators implement the iterator protocol \"under the hood\":\n",
    "- `__iter__()` is called to initialize the iterator. It must return an iterator object (typically it returns `self`)\n",
    "- `__next__()` is used to iterate over the iterator (it returns the next iterator value)\n",
    "- once the data stream has ended, an iterator must raise a `StopIteration` exception\n",
    " \n",
    "Once a generator has been created, you can loop over it using a `for` loop or get the values directly using Python's `next()` function."
   ]
  },
  {
   "cell_type": "code",
   "execution_count": null,
   "metadata": {},
   "outputs": [],
   "source": [
    "res = first_n_gen(10)\n",
    "\n",
    "for i in res:\n",
    "    print(i)"
   ]
  },
  {
   "cell_type": "code",
   "execution_count": null,
   "metadata": {},
   "outputs": [],
   "source": [
    "# we could implement an iterator directly\n",
    "# but that would require more code than necessary\n",
    "\n",
    "# generators make this code simpler and easier to understand\n",
    "\n",
    "class first_n_iter:\n",
    "\n",
    "    def __init__(self, n):\n",
    "        self.n = n\n",
    "        self.num = 0\n",
    "\n",
    "    def __iter__(self):\n",
    "        return self\n",
    "\n",
    "    def __next__(self):\n",
    "        if self.num < self.n:\n",
    "            cur, self.num = self.num, self.num+1\n",
    "            return cur\n",
    "            \n",
    "        raise StopIteration()\n",
    "\n",
    "print(sum(first_n(1_000_000)))"
   ]
  },
  {
   "cell_type": "code",
   "execution_count": null,
   "metadata": {},
   "outputs": [],
   "source": [
    "# methods and attributes that a generator object has:\n",
    "\n",
    "my_data = first_n_gen(5)\n",
    "\n",
    "print(dir(my_data))"
   ]
  },
  {
   "cell_type": "code",
   "execution_count": null,
   "metadata": {},
   "outputs": [],
   "source": [
    "# Generators are lazy and you can only iterate through them once\n",
    "\n",
    "next_val = next(my_data)\n",
    "print(next_val)"
   ]
  },
  {
   "cell_type": "code",
   "execution_count": null,
   "metadata": {},
   "outputs": [],
   "source": [
    "print(next(my_data))\n",
    "print(next(my_data))\n",
    "print(next(my_data))\n",
    "print(next(my_data))"
   ]
  },
  {
   "cell_type": "code",
   "execution_count": null,
   "metadata": {},
   "outputs": [],
   "source": [
    "# Data has finished, this will raise a StopIteration exception\n",
    "#  - uncomment the next line to see it\n",
    "#print(next(my_data))"
   ]
  },
  {
   "cell_type": "code",
   "execution_count": null,
   "metadata": {},
   "outputs": [],
   "source": [
    "# for loops know how to use the iterator protocol\n",
    "# (e.g. they handle the StopIteration exception)\n",
    "\n",
    "for item in first_n_gen(5):\n",
    "    print(item)"
   ]
  },
  {
   "cell_type": "code",
   "execution_count": null,
   "metadata": {},
   "outputs": [],
   "source": [
    "# let's add some print() calls\n",
    "\n",
    "def my_gen_fn(n):\n",
    "    print(\"In generator function\")\n",
    "\n",
    "    num = 0\n",
    "    \n",
    "    while num < n:\n",
    "        print(\"- before yield\")\n",
    "        yield num\n",
    "        print(\"- after yield\")\n",
    "        \n",
    "        num += 1\n",
    "\n",
    "    print(\"End of the function\")"
   ]
  },
  {
   "cell_type": "code",
   "execution_count": null,
   "metadata": {},
   "outputs": [],
   "source": [
    "# this will call the my_gen_fn() function\n",
    "# what will it print?\n",
    "\n",
    "my_gen = my_gen_fn(6)"
   ]
  },
  {
   "cell_type": "code",
   "execution_count": null,
   "metadata": {},
   "outputs": [],
   "source": [
    "# let's get some values from this generator\n",
    "# what message gets printed when?\n",
    "\n",
    "print(next(my_gen))\n",
    "print()\n"
   ]
  },
  {
   "cell_type": "code",
   "execution_count": null,
   "metadata": {},
   "outputs": [],
   "source": [
    "print(next(my_gen))\n",
    "print()"
   ]
  },
  {
   "cell_type": "markdown",
   "metadata": {},
   "source": [
    "---\n",
    "\n",
    "**Generators can be infinite** (e.g. to generate infinite sequences):\n",
    "- then the program using the generator has to limit the number of iterations and make sure its execution finishes at some point"
   ]
  },
  {
   "cell_type": "code",
   "execution_count": null,
   "metadata": {},
   "outputs": [],
   "source": [
    "# Fibonacci sequence – an infinite generator\n",
    "\n",
    "def fibonacci_gen():\n",
    "    \"\"\"\n",
    "    Generates a Fibonacci sequence.\n",
    "    \"\"\"\n",
    "    a, b = 0, 1\n",
    "\n",
    "    while True:\n",
    "        yield a\n",
    "        a, b = b, a+b"
   ]
  },
  {
   "cell_type": "code",
   "execution_count": null,
   "metadata": {},
   "outputs": [],
   "source": [
    "# we can use islice() to limit the length of the iterator\n",
    "\n",
    "# https://docs.python.org/3/library/itertools.html#itertools.islice\n",
    "from itertools import islice\n",
    "\n",
    "my_numbers = fibonacci_gen()\n",
    "my_numbers = islice(my_numbers, 20)\n",
    "\n",
    "for item in my_numbers:\n",
    "    print(item)"
   ]
  },
  {
   "cell_type": "code",
   "execution_count": null,
   "metadata": {},
   "outputs": [],
   "source": [
    "# you can use multiple yield statements\n",
    "# ... but in this example you might as well use a list\n",
    "\n",
    "def city_gen():\n",
    "    yield \"Rīga\"\n",
    "    yield \"Liepāja\"\n",
    "    yield \"Valmiera\"\n",
    "\n",
    "for item in city_gen():\n",
    "    print(item)"
   ]
  },
  {
   "cell_type": "markdown",
   "metadata": {},
   "source": [
    "---\n",
    "\n",
    "#### 3.3 – Generator expressions\n",
    "\n",
    "Generator expressions are similar to list comprehension but with parenthesis \"()\" instead of square brackets \"[]\".\n",
    "\n",
    "Generator expressions create a generator object instead of a list and they:\n",
    "- use \"lazy\" iteration\n",
    "- save memory by not constructing the whole list in memory"
   ]
  },
  {
   "cell_type": "code",
   "execution_count": null,
   "metadata": {},
   "outputs": [],
   "source": [
    "squares = [n**2 for n in range(50)]\n",
    "\n",
    "print(sys.getsizeof(squares))\n",
    "print()\n",
    "\n",
    "print(squares)"
   ]
  },
  {
   "cell_type": "code",
   "execution_count": null,
   "metadata": {},
   "outputs": [],
   "source": [
    "squares_gen = (n**2 for n in range(50))\n",
    "\n",
    "print(sys.getsizeof(squares_gen))\n",
    "print(type(squares_gen))\n",
    "print()\n",
    "\n",
    "print(squares_gen)"
   ]
  },
  {
   "cell_type": "code",
   "execution_count": null,
   "metadata": {},
   "outputs": [],
   "source": [
    "print(list(squares_gen))"
   ]
  },
  {
   "cell_type": "markdown",
   "metadata": {},
   "source": [
    "---\n",
    "\n",
    "#### 3.4 – Generators as Data Processing Pipelines\n",
    "\n",
    "[**Generator Tricks for Systems Programmers, v3.0**](https://www.dabeaz.com/generators/)\n",
    "- by David M. Beazley\n",
    "- Looks at various techniques for using generator functions and generator expressions in the context of systems programming (processing log files, text parsing, etc.)\n",
    "\n",
    "https://github.com/dabeaz/generators\n",
    "\n",
    "https://www.dabeaz.com/generators/Generators.pdf"
   ]
  },
  {
   "cell_type": "markdown",
   "metadata": {},
   "source": [
    "---\n",
    "\n",
    "**Task**: Find out how many bytes of data were\n",
    "transferred by summing up the last column\n",
    "of data in the Apache web server log\n",
    "\n",
    "```\n",
    "81.107.39.38 - ... \"GET /favicon.ico HTTP/1.1\" 404 133\n",
    "81.107.39.38 - ... \"GET /ply/bookplug.gif HTTP/1.1\" 200 23903\n",
    "81.107.39.38 - ... \"GET /ply/ply.html HTTP/1.1\" 200 97238\n",
    "```\n",
    "\n",
    "---\n",
    "\n",
    "**See David Beazley's presentation from slide #30**\n",
    "\n",
    "```\n",
    "with open(\"access-log\") as wwwlog:\n",
    "\n",
    "    bytecolumn = (line.rsplit(None,1)[1] for line in wwwlog)\n",
    "    bytes_sent = (int(x) for x in bytecolumn if x != '-')\n",
    "    print(\"Total\", sum(bytes_sent))\n",
    "```\n",
    "\n",
    "**This data processing pipeline is implemented using generator expressions.**\n",
    "\n",
    "```\n",
    "open(\"access-log\") => bytecolumn => bytes_sent => sum()\n",
    "```\n",
    "\n",
    "---"
   ]
  },
  {
   "cell_type": "markdown",
   "metadata": {},
   "source": [
    "#### Topic 3 - mini exercise"
   ]
  },
  {
   "cell_type": "markdown",
   "metadata": {},
   "source": [
    "Write a generator that works like a `range()` function but for floating point values.\n"
   ]
  },
  {
   "cell_type": "markdown",
   "metadata": {},
   "source": [
    "## Lesson Overview\n",
    "\n",
    "What have we learned?\n",
    "\n",
    "* Decorators - what are they and how to use them\n",
    "* Context managers - what are they and how to use them\n",
    "* Generators, generator expressions - what are they and how to use them"
   ]
  },
  {
   "cell_type": "markdown",
   "metadata": {},
   "source": [
    "## Exercises for further practice\n",
    "\n",
    "### Exercise 1 - Write Your Own Decorator\n",
    "\n",
    "Write a Decorator that prints your name before and after the decorated function is called.\n",
    "\n",
    "### Exercise 2 - Write Your Own Context Manager\n",
    "\n",
    "* Write a Context Manager that prints your name before and after the code block is executed.\n",
    "* Add time measurement to the context manager.\n",
    "\n",
    "### Exercise 3 - Use Generators to Process Data\n",
    "\n",
    "Use generators to write a data processing pipeline that consists of the following steps:\n",
    "- open a text file\n",
    "- split text into words (by creating a generator that yields tokens / words)\n",
    "- filter text for words that are more than 3 characters long\n",
    "- count the number of occurrences of each word\n",
    "- finally, print resulting statistics of word occurrences"
   ]
  },
  {
   "cell_type": "markdown",
   "metadata": {},
   "source": [
    "## Additional Resources\n",
    "\n",
    "### Topic 1 - resources\n",
    "\n",
    "- [Primer on Python Decorators](https://realpython.com/primer-on-python-decorators/)\n",
    "- [@functools.wraps](https://docs.python.org/3/library/functools.html#functools.wraps) decorator\n",
    "- [Flask Quickstart](https://flask.palletsprojects.com/en/2.3.x/quickstart/)\n",
    "- [Data Classes in Python 3.7+](https://realpython.com/python-data-classes/)\n",
    "\n",
    "### Topic 2 - resources\n",
    "\n",
    "- [Context Manager](https://realpython.com/python-with-statement/)\n",
    "\n",
    "### Topic 3 - resources\n",
    "\n",
    "- [Python Wiki: Generators](https://wiki.python.org/moin/Generators)\n",
    "- [How to Use Generators and yield in Python](https://realpython.com/introduction-to-python-generators/) – Real Python"
   ]
  },
  {
   "cell_type": "code",
   "execution_count": null,
   "metadata": {},
   "outputs": [],
   "source": []
  }
 ],
 "metadata": {
  "kernelspec": {
   "display_name": "Python 3 (ipykernel)",
   "language": "python",
   "name": "python3"
  },
  "language_info": {
   "codemirror_mode": {
    "name": "ipython",
    "version": 3
   },
   "file_extension": ".py",
   "mimetype": "text/x-python",
   "name": "python",
   "nbconvert_exporter": "python",
   "pygments_lexer": "ipython3",
   "version": "3.12.4"
  }
 },
 "nbformat": 4,
 "nbformat_minor": 4
}
