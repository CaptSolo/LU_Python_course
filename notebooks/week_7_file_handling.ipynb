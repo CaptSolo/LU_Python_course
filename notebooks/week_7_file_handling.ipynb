{
 "cells": [
  {
   "cell_type": "markdown",
   "metadata": {},
   "source": [
    "![LU Logo](https://www.df.lu.lv/fileadmin/user_upload/LU.LV/Apaksvietnes/Fakultates/www.df.lu.lv/Par_mums/Logo/DF_logo/01_DF_logo_LV.png)"
   ]
  },
  {
   "cell_type": "markdown",
   "metadata": {},
   "source": [
    "# Week 7: File Handling\n"
   ]
  },
  {
   "cell_type": "markdown",
   "metadata": {},
   "source": [
    "## Lesson Overview\n",
    "\n",
    "We will cover the following topics:\n",
    "\n",
    "* Folder / directory operations: creating, renaming, deleting, listing.\n",
    "  * Path from pathlib, glob and rglob\n",
    "* Reading from, appending and writing to text files.\n",
    "  * Encoding issues\n",
    "* Binary files\n",
    "* JSON files\n",
    "\n",
    "## Lesson Objectives\n",
    "\n",
    "To learn how to:\n",
    "* Work with folders / directories\n",
    "* Work with files"
   ]
  },
  {
   "cell_type": "markdown",
   "metadata": {},
   "source": [
    "### Import required libraries"
   ]
  },
  {
   "cell_type": "code",
   "execution_count": null,
   "metadata": {},
   "outputs": [],
   "source": [
    "# generally imports go at the top of a notebook\n",
    "# python version\n",
    "import sys\n",
    "print(f\"Python version: {sys.version}\")"
   ]
  },
  {
   "cell_type": "markdown",
   "metadata": {},
   "source": [
    "## Topic 1: - Folder / Directory Operations\n",
    "\n",
    "* [pathlib](https://docs.python.org/3/library/pathlib.html) – Object-oriented filesystem paths\n",
    "* [os](https://docs.python.org/3/library/os.html) – Various operating system interfaces"
   ]
  },
  {
   "cell_type": "code",
   "execution_count": null,
   "metadata": {},
   "outputs": [],
   "source": [
    "# Let's import the required Path object\n",
    "from pathlib import Path"
   ]
  },
  {
   "cell_type": "code",
   "execution_count": null,
   "metadata": {},
   "outputs": [],
   "source": [
    "# Listing contents of the current working directory\n",
    "\n",
    "# Current directory path\n",
    "cur_dir = Path(\".\")\n",
    "\n",
    "# List directory contents (in arbitrary order)\n",
    "for item in cur_dir.iterdir():\n",
    "    print(item)"
   ]
  },
  {
   "cell_type": "code",
   "execution_count": null,
   "metadata": {},
   "outputs": [],
   "source": [
    "# Let's sort directory content list\n",
    "\n",
    "for item in sorted(cur_dir.iterdir()):\n",
    "    print(item)"
   ]
  },
  {
   "cell_type": "code",
   "execution_count": null,
   "metadata": {},
   "outputs": [],
   "source": [
    "# Make a new directory (under the current dir)\n",
    "\n",
    "new_dir = Path(\"Test-directory\")   # under the current dir by default\n",
    "new_dir.mkdir(exist_ok=True)       # it's OK if the directory already exists\n",
    "\n",
    "# Print current dir contents\n",
    "for item in sorted(cur_dir.iterdir()):\n",
    "    print(item)"
   ]
  },
  {
   "cell_type": "code",
   "execution_count": null,
   "metadata": {},
   "outputs": [],
   "source": [
    "# Rename a directory\n",
    "\n",
    "import os\n",
    "\n",
    "os.rename(\"Test-directory\", \"Test-directory-2\")\n",
    "\n",
    "# Print current dir contents\n",
    "for item in sorted(cur_dir.iterdir()):\n",
    "    print(item)"
   ]
  },
  {
   "cell_type": "code",
   "execution_count": null,
   "metadata": {},
   "outputs": [],
   "source": [
    "# Delete a directory (it must be empty)\n",
    "\n",
    "new_dir = Path(\"Test-directory-2\")\n",
    "new_dir.rmdir()"
   ]
  },
  {
   "cell_type": "markdown",
   "metadata": {},
   "source": [
    "#### Creating some files and a directory for demonstrating filename matching operations.\n",
    "\n",
    "To create files, you would normally `open` the file in a write mode but here we will use the `touch()` method to create some empty files."
   ]
  },
  {
   "cell_type": "code",
   "execution_count": null,
   "metadata": {},
   "outputs": [],
   "source": [
    "# create a directory and some empty files\n",
    "\n",
    "Path(\"Test-directory\").mkdir()\n",
    "Path(\"Test-directory/sub_dir\").mkdir()\n",
    "\n",
    "Path(\"Test-directory/file1.docx\").touch()\n",
    "Path(\"Test-directory/file2.docx\").touch()\n",
    "Path(\"Test-directory/test1.py\").touch()\n",
    "Path(\"Test-directory/sub_dir/file1.docx\").touch()\n",
    "Path(\"Test-directory/sub_dir/file2.csv\").touch()\n",
    "Path(\"Test-directory/sub_dir/test3.csv\").touch()"
   ]
  },
  {
   "cell_type": "code",
   "execution_count": null,
   "metadata": {
    "scrolled": true
   },
   "outputs": [],
   "source": [
    "# Print current dir contents\n",
    "\n",
    "cur_dir = Path(\".\")\n",
    "\n",
    "for item in sorted(cur_dir.iterdir()):\n",
    "    print(item)"
   ]
  },
  {
   "cell_type": "code",
   "execution_count": null,
   "metadata": {},
   "outputs": [],
   "source": [
    "# See help for additional information about Path objects\n",
    "\n",
    "help(cur_dir)"
   ]
  },
  {
   "cell_type": "code",
   "execution_count": null,
   "metadata": {},
   "outputs": [],
   "source": [
    "os.getcwd()"
   ]
  },
  {
   "cell_type": "markdown",
   "metadata": {},
   "source": [
    "#### Filename pattern matching\n",
    "\n",
    "We want to search for files according to some filename pattern (e.g. `*.docx` to search for all Microsoft Word files)"
   ]
  },
  {
   "cell_type": "code",
   "execution_count": null,
   "metadata": {},
   "outputs": [],
   "source": [
    "# There are no .docx files in the current directory\n",
    "#  - there will be no matches for this file pattern\n",
    "\n",
    "matches = cur_dir.glob(\"*.docx\")\n",
    "\n",
    "for item in sorted(matches):\n",
    "    print(item)"
   ]
  },
  {
   "cell_type": "code",
   "execution_count": null,
   "metadata": {},
   "outputs": [],
   "source": [
    "# Let's tell Python to look for matches in any directory\n",
    "#  - there will be matches in the \"Test-directory\" directory \n",
    "#  - but Python will not search recursively (in further subdirectories)\n",
    "\n",
    "matches = cur_dir.glob(\"*/*.docx\")\n",
    "\n",
    "for item in sorted(matches):\n",
    "    print(item)"
   ]
  },
  {
   "cell_type": "code",
   "execution_count": null,
   "metadata": {},
   "outputs": [],
   "source": [
    "# We want to find matches recursively, in any subdirectory\n",
    "#  - for this purpose we can use the special \"**\" directory pattern\n",
    "\n",
    "matches = cur_dir.glob(\"**/*.docx\")\n",
    "\n",
    "for item in sorted(matches):\n",
    "    print(item)"
   ]
  },
  {
   "cell_type": "code",
   "execution_count": null,
   "metadata": {},
   "outputs": [],
   "source": [
    "# rglob() is like calling glob() with \"**/\" added in front of the filename pattern\n",
    "\n",
    "matches = cur_dir.rglob(\"*.docx\")\n",
    "\n",
    "for item in sorted(matches):\n",
    "    print(item)"
   ]
  },
  {
   "cell_type": "code",
   "execution_count": null,
   "metadata": {},
   "outputs": [],
   "source": [
    "# We can also \"walk\" a directory tree using os.walk()\n",
    "\n",
    "import os\n",
    "\n",
    "# Walk a directory tree and print directory and file names\n",
    "for dirpath, dirnames, files in os.walk('.'):\n",
    "        print(f'Directory: {dirpath}')\n",
    "        for filename in files:\n",
    "            print(\"   \", filename)\n"
   ]
  },
  {
   "cell_type": "markdown",
   "metadata": {},
   "source": [
    "#### Topic 1 - mini exercise\n",
    "\n",
    "Choose a directory and explore its contents using the methods described above."
   ]
  },
  {
   "cell_type": "markdown",
   "metadata": {},
   "source": [
    "## Topic 2: - Reading from and writing to text files\n",
    "\n",
    "This topic will cover reading from, appending and writing to text files.\n",
    "\n",
    "Use Python's `with` statement to make sure the file is properly closed after opening:\n",
    "\n",
    "```\n",
    "with open(filename, \"w\") as file_object:\n",
    "    file_object.write(\"some text\")\n",
    "```\n",
    "\n",
    "This `with` statement opens the `filename` file for writing (`\"w\"`), assigns it to the `file_object` variable, executes the code block containing the `write()` method and, after the code block has finished executing, closes the file. \n",
    "\n",
    "We will also use Jupyter's command `%%writefile` to create a file to read."
   ]
  },
  {
   "cell_type": "markdown",
   "metadata": {},
   "source": [
    "#### Reading files"
   ]
  },
  {
   "cell_type": "code",
   "execution_count": null,
   "metadata": {},
   "outputs": [],
   "source": [
    "%%writefile test_file.txt\n",
    "first,second,third\n",
    "1,2,3\n",
    "4,5,6\n",
    "7,8,9"
   ]
  },
  {
   "cell_type": "code",
   "execution_count": null,
   "metadata": {},
   "outputs": [],
   "source": [
    "# using \"with\" for opening a file\n",
    "#  - \"r\" instructs to open the file for reading\n",
    "\n",
    "with open(\"test_file.txt\", \"r\") as file:\n",
    "    text = file.read()\n",
    "\n",
    "print(text)"
   ]
  },
  {
   "cell_type": "code",
   "execution_count": null,
   "metadata": {},
   "outputs": [],
   "source": [
    "help(open)"
   ]
  },
  {
   "cell_type": "code",
   "execution_count": null,
   "metadata": {},
   "outputs": [],
   "source": [
    "# use the \"encoding\" parameter to specify character encoding (usually \"utf-8\")\n",
    "\n",
    "with open(\"test_file.txt\", \"r\", encoding=\"utf-8\") as file:\n",
    "    text = file.read()\n",
    "\n",
    "print(text)"
   ]
  },
  {
   "cell_type": "code",
   "execution_count": null,
   "metadata": {},
   "outputs": [],
   "source": [
    "# we can also go through the file line-by-line\n",
    "\n",
    "with open(\"test_file.txt\", \"r\", encoding=\"utf-8\") as file:\n",
    "    for line in file:\n",
    "        print(line)"
   ]
  },
  {
   "cell_type": "code",
   "execution_count": null,
   "metadata": {},
   "outputs": [],
   "source": [
    "# let's get rid of extra newline characters\n",
    "\n",
    "with open(\"test_file.txt\", \"r\", encoding=\"utf-8\") as file:\n",
    "    for line in file:\n",
    "        line = line.rstrip()\n",
    "        print(line)"
   ]
  },
  {
   "cell_type": "code",
   "execution_count": null,
   "metadata": {},
   "outputs": [],
   "source": [
    "# Path objects can also be used in the open() function\n",
    "\n",
    "test_file = Path(\"test_file.txt\")\n",
    "\n",
    "with open(test_file, \"r\", encoding=\"utf-8\") as file:\n",
    "    for line in file:\n",
    "        line = line.rstrip()\n",
    "        print(line)"
   ]
  },
  {
   "cell_type": "markdown",
   "metadata": {},
   "source": [
    "#### Writing files"
   ]
  },
  {
   "cell_type": "code",
   "execution_count": null,
   "metadata": {},
   "outputs": [],
   "source": [
    "# to write to a file (overwriting its contents if the file exists) use the file open mode \"w\"\n",
    "\n",
    "text = \"\"\"\n",
    "This is another file.\n",
    "It contains lines of text.\n",
    "\"\"\"\n",
    "\n",
    "# let's use Path()\n",
    "write_file_path = Path(\"write_file.txt\")\n",
    "\n",
    "with open(write_file_path, \"w\", encoding=\"utf-8\") as write_file:\n",
    "    write_file.write(text)"
   ]
  },
  {
   "cell_type": "code",
   "execution_count": null,
   "metadata": {},
   "outputs": [],
   "source": [
    "# let's check that the text has been written to the file\n",
    "\n",
    "with open(write_file_path, \"r\", encoding=\"utf-8\") as file:\n",
    "    data = file.read()\n",
    "\n",
    "print(data)"
   ]
  },
  {
   "cell_type": "code",
   "execution_count": null,
   "metadata": {},
   "outputs": [],
   "source": [
    "# Files may also be open in the append mode \"a\". In this case, new content will\n",
    "# be appended at the end of th file.\n",
    "\n",
    "with open(write_file_path, \"a\", encoding=\"utf-8\") as write_file:\n",
    "    write_file.write(\"We are appending text at the end of the file.\")\n",
    "    write_file.write(\"One more line here.\")\n"
   ]
  },
  {
   "cell_type": "code",
   "execution_count": null,
   "metadata": {},
   "outputs": [],
   "source": [
    "# let's check file contents\n",
    "\n",
    "with open(write_file_path, \"r\", encoding=\"utf-8\") as file:\n",
    "    data = file.read()\n",
    "\n",
    "print(data)"
   ]
  },
  {
   "cell_type": "code",
   "execution_count": null,
   "metadata": {},
   "outputs": [],
   "source": [
    "# Lines got merged together. To write them on separate lines, \n",
    "# we need to add the newline character \"\\n\" to the end of the line.\n",
    "\n",
    "with open(write_file_path, \"a\", encoding=\"utf-8\") as write_file:\n",
    "\n",
    "    # add the newline character to start on a new line\n",
    "    write_file.write(\"\\n\")\n",
    "    \n",
    "    write_file.write(\"This text should be on a new line.\\n\")\n",
    "    write_file.write(\"One more line here.\\n\")"
   ]
  },
  {
   "cell_type": "code",
   "execution_count": null,
   "metadata": {},
   "outputs": [],
   "source": [
    "with open(write_file_path, \"r\", encoding=\"utf-8\") as file:\n",
    "    data = file.read()\n",
    "\n",
    "print(data)"
   ]
  },
  {
   "cell_type": "code",
   "execution_count": null,
   "metadata": {},
   "outputs": [],
   "source": [
    "data"
   ]
  },
  {
   "cell_type": "code",
   "execution_count": null,
   "metadata": {},
   "outputs": [],
   "source": [
    "print(repr(data))"
   ]
  },
  {
   "cell_type": "code",
   "execution_count": null,
   "metadata": {},
   "outputs": [],
   "source": [
    "# delete the files\n",
    "\n",
    "os.remove(\"test_file.txt\")\n",
    "\n",
    "write_file_path.unlink()"
   ]
  },
  {
   "cell_type": "markdown",
   "metadata": {},
   "source": [
    "## Topic 3: - Reading and writing binary and other types of files"
   ]
  },
  {
   "cell_type": "markdown",
   "metadata": {},
   "source": [
    "#### Binary files\n",
    "\n",
    "To open binary files, append \"b\" to the file open mode.\n",
    "\n",
    "Binary files do not have an encoding."
   ]
  },
  {
   "cell_type": "code",
   "execution_count": null,
   "metadata": {},
   "outputs": [],
   "source": [
    "# create a bytes object\n",
    "data = b'0123456789abcdef'\n",
    "print(data)"
   ]
  },
  {
   "cell_type": "code",
   "execution_count": null,
   "metadata": {},
   "outputs": [],
   "source": [
    "# write to file\n",
    "\n",
    "write_binary_path = Path(\"write_file.bin\")\n",
    "\n",
    "with open(write_binary_path, \"wb\") as write_file:\n",
    "    write_file.write(data)"
   ]
  },
  {
   "cell_type": "code",
   "execution_count": null,
   "metadata": {},
   "outputs": [],
   "source": [
    "# read the file\n",
    "\n",
    "with open(write_binary_path, \"rb\") as read_file:\n",
    "    data_read = read_file.read()\n",
    "    print(data_read)"
   ]
  },
  {
   "cell_type": "code",
   "execution_count": null,
   "metadata": {},
   "outputs": [],
   "source": [
    "# use seek() to go to a given position in the file\n",
    "\n",
    "with open(write_binary_path, \"rb\") as read_file:\n",
    "\n",
    "    # go to position 8 and read 1 byte\n",
    "    read_file.seek(8)\n",
    "    print(read_file.read(1))\n",
    "\n",
    "    print()\n",
    "\n",
    "    # go to position 3 from the end and read 1 byte\n",
    "    read_file.seek(-3, 2)\n",
    "    print(read_file.read(1))\n"
   ]
  },
  {
   "cell_type": "code",
   "execution_count": null,
   "metadata": {},
   "outputs": [],
   "source": [
    "%%writefile test_file.txt\n",
    "first,second,third\n",
    "1,2,3\n",
    "4,5,6\n",
    "7,8,9"
   ]
  },
  {
   "cell_type": "code",
   "execution_count": null,
   "metadata": {},
   "outputs": [],
   "source": [
    "with open(\"test_file.txt\", \"rb\") as read_file:\n",
    "    data_read = read_file.read()\n",
    "    print(data_read)"
   ]
  },
  {
   "cell_type": "code",
   "execution_count": null,
   "metadata": {},
   "outputs": [],
   "source": [
    "help(data_read)"
   ]
  },
  {
   "cell_type": "markdown",
   "metadata": {},
   "source": [
    "#### JSON files\n",
    "\n",
    "JSON (JavaScript Object Notation) files let us save Python data hierarchies (dictionaries, lists, ...) to a file / read them from a file.\n",
    "\n",
    "https://www.json.org/json-en.html\n",
    "\n",
    "```\n",
    "json_object = {\n",
    "  \"key 1\": \"value 1\",\n",
    "  \"key 2\": [\"value 2\", \"is\", \"a\", \"list\"],\n",
    "  \"key 3\": {\"lists and dictionaries\": \"can be nested\"}\n",
    "}\n",
    "```\n",
    "\n",
    "To do this, we will use Python [json](https://docs.python.org/3/library/json.html) library:\n",
    "\n",
    "- json.dump() – save structured data to a JSON file\n",
    "- json.dumps() – return structured data as a JSON string\n",
    "- json.load() – read structured data from a JSON file\n",
    "- json.loads() – read structured data from a JSON string"
   ]
  },
  {
   "cell_type": "code",
   "execution_count": null,
   "metadata": {},
   "outputs": [],
   "source": [
    "import json"
   ]
  },
  {
   "cell_type": "code",
   "execution_count": null,
   "metadata": {},
   "outputs": [],
   "source": [
    "# data to be saved\n",
    "#  - a list containing a dictionary that contains a tuple\n",
    "\n",
    "data = [\n",
    "    'foo', \n",
    "    {'bar': ('baz', None, 1.0, 2)}\n",
    "]"
   ]
  },
  {
   "cell_type": "code",
   "execution_count": null,
   "metadata": {},
   "outputs": [],
   "source": [
    "print(data)"
   ]
  },
  {
   "cell_type": "code",
   "execution_count": null,
   "metadata": {},
   "outputs": [],
   "source": [
    "data[1]"
   ]
  },
  {
   "cell_type": "code",
   "execution_count": null,
   "metadata": {},
   "outputs": [],
   "source": [
    "data[1][\"bar\"]"
   ]
  },
  {
   "cell_type": "code",
   "execution_count": null,
   "metadata": {},
   "outputs": [],
   "source": [
    "# save data to a JSON file\n",
    "\n",
    "file_path = Path(\"test_data.json\")\n",
    "\n",
    "with open(file_path, \"w\", encoding=\"utf-8\") as file_out:\n",
    "    json.dump(data, file_out)"
   ]
  },
  {
   "cell_type": "code",
   "execution_count": null,
   "metadata": {},
   "outputs": [],
   "source": [
    "# let's look at the file that we created\n",
    "\n",
    "with open(file_path, \"r\", encoding=\"utf-8\") as file_in:\n",
    "    for line in file_in:\n",
    "        print(line)"
   ]
  },
  {
   "cell_type": "code",
   "execution_count": null,
   "metadata": {},
   "outputs": [],
   "source": [
    "# load data from a file\n",
    "\n",
    "with open(file_path, \"r\", encoding=\"utf-8\") as file_in:\n",
    "    new_data = json.load(file_in)"
   ]
  },
  {
   "cell_type": "code",
   "execution_count": null,
   "metadata": {},
   "outputs": [],
   "source": [
    "new_data"
   ]
  },
  {
   "cell_type": "code",
   "execution_count": null,
   "metadata": {},
   "outputs": [],
   "source": [
    "new_data[1]['bar']"
   ]
  },
  {
   "cell_type": "markdown",
   "metadata": {},
   "source": [
    "---\n",
    "\n",
    "You can also transform Python data structures to / from JSON strings:"
   ]
  },
  {
   "cell_type": "code",
   "execution_count": null,
   "metadata": {},
   "outputs": [],
   "source": [
    "data"
   ]
  },
  {
   "cell_type": "code",
   "execution_count": null,
   "metadata": {},
   "outputs": [],
   "source": [
    "json_str = json.dumps(data)\n",
    "json_str"
   ]
  },
  {
   "cell_type": "code",
   "execution_count": null,
   "metadata": {},
   "outputs": [],
   "source": [
    "new_data = json.loads(json_str)\n",
    "new_data"
   ]
  },
  {
   "cell_type": "code",
   "execution_count": null,
   "metadata": {},
   "outputs": [],
   "source": []
  },
  {
   "cell_type": "markdown",
   "metadata": {},
   "source": [
    "#### CSV files\n",
    "\n",
    "CSV (comma separated values) files let us work with table-like files which consist of data cells usually separated by comma symbols.\n",
    "\n",
    "To do this, we will use Python [csv](https://docs.python.org/3/library/csv.html) library:"
   ]
  },
  {
   "cell_type": "code",
   "execution_count": null,
   "metadata": {},
   "outputs": [],
   "source": [
    "import csv\n",
    "\n",
    "data = [[\"apple\", \"ābols\"], [\"pear\", \"bumbieris\"], [\"dog\", \"suns\"], [\"white\", \"balts\"], [\"black\", \"melns\"]]"
   ]
  },
  {
   "cell_type": "code",
   "execution_count": null,
   "metadata": {},
   "outputs": [],
   "source": [
    "# first we need to open the CSV file for writing\n",
    "\n",
    "with open(\"data.csv\", \"w\", encoding=\"utf-8\") as out_file:\n",
    "    csv_file = csv.writer(out_file, lineterminator=\"\\n\")\n",
    "\n",
    "    for item in data:\n",
    "        csv_file.writerow(item)"
   ]
  },
  {
   "cell_type": "code",
   "execution_count": null,
   "metadata": {},
   "outputs": [],
   "source": [
    "# on Linux / Mac we can see file contents using the \"cat\" command\n",
    "# uncomment the line below to see the file contents if you have Linux / Mac\n",
    "# !cat data.csv"
   ]
  },
  {
   "cell_type": "code",
   "execution_count": null,
   "metadata": {},
   "outputs": [],
   "source": [
    "# let's read this file\n",
    "\n",
    "data = []\n",
    "\n",
    "with open(\"data.csv\", \"r\", encoding=\"utf-8\") as in_file:\n",
    "    csv_file = csv.reader(in_file)\n",
    "\n",
    "    for item in csv_file:\n",
    "        print(item)\n",
    "        data.append(item)"
   ]
  },
  {
   "cell_type": "code",
   "execution_count": null,
   "metadata": {},
   "outputs": [],
   "source": [
    "data"
   ]
  },
  {
   "cell_type": "markdown",
   "metadata": {},
   "source": [
    "#### Other file types\n",
    "\n",
    "Python supports many other file types including archives:\n",
    "\n",
    "- [gzip](https://docs.python.org/3/library/gzip.html) archive file support\n",
    "- [Python's zipfile: Manipulate Your ZIP Files Efficiently](https://realpython.com/python-zipfile/)\n",
    "\n",
    "Python's support for various archive formats allows you to read data directly from archive files without unarchiving it first. It can be useful when working with large (archived) files.\n",
    "\n",
    "There is also Python's [pickle library](https://docs.python.org/3/library/pickle.html) that allows us to save to disc custom / more complex Python objects (that can not be saved to JSON files)."
   ]
  },
  {
   "cell_type": "markdown",
   "metadata": {},
   "source": [
    "## Lesson Overview\n",
    "\n",
    "In this lesson you learned:\n",
    "* How to work with directories in Python\n",
    "* How to work with text and binary files in Python"
   ]
  },
  {
   "cell_type": "markdown",
   "metadata": {},
   "source": [
    "## Bonus: Dictionary comprehension\n",
    "\n",
    "Dictionary comprehension gives us a compact way for creating dictionaries\n",
    "- `{item[0]: item[1] for item in some_list if some_condition}`\n",
    "\n",
    "In this code snippet `item[0]` will become dictionary's key and `item[1]` will be the corresponding value."
   ]
  },
  {
   "cell_type": "code",
   "execution_count": null,
   "metadata": {},
   "outputs": [],
   "source": [
    "data = [[\"apple\", \"ābols\"], [\"pear\", \"bumbieris\"], [\"dog\", \"suns\"], [\"white\", \"balts\"], [\"black\", \"melns\"]]"
   ]
  },
  {
   "cell_type": "code",
   "execution_count": null,
   "metadata": {},
   "outputs": [],
   "source": [
    "# without dictionary comprehension\n",
    "\n",
    "new_dict = {}\n",
    "\n",
    "for key, value in data:\n",
    "    new_dict[key] = value\n",
    "\n",
    "new_dict"
   ]
  },
  {
   "cell_type": "code",
   "execution_count": null,
   "metadata": {},
   "outputs": [],
   "source": [
    "# in 1 line using dictionary comprehension\n",
    "\n",
    "new_dict2 = {key: value for key, value in data}\n",
    "\n",
    "new_dict2"
   ]
  },
  {
   "cell_type": "code",
   "execution_count": null,
   "metadata": {},
   "outputs": [],
   "source": [
    "new_dict2[\"dog\"]"
   ]
  },
  {
   "cell_type": "markdown",
   "metadata": {},
   "source": [
    "## Additional Resources\n",
    "\n",
    "### Topic 1 - resources\n",
    "\n",
    "- [pathlib](https://docs.python.org/3/library/pathlib.html) - Object-oriented filesystem paths\n",
    "- [Working with files in Python](https://realpython.com/working-with-files-in-python/)\n",
    "\n",
    "### Topic 2 - resources\n",
    "\n",
    "- [Reading and writing files](https://docs.python.org/3/tutorial/inputoutput.html#reading-and-writing-files) - Python tutorial\n",
    "- [Reading and writing files](https://automatetheboringstuff.com/2e/chapter9/) - \"Automate the boring stuff with Python\" book\n",
    "- [Working with files in Python](https://realpython.com/working-with-files-in-python/)\n",
    "\n",
    "### Topic 3 - resources\n",
    "\n",
    "- [Reading binary files in Python](https://www.pythonmorsels.com/reading-binary-files-in-python/#top)\n",
    "- [gzip — Support for gzip files](https://docs.python.org/3/library/gzip.html)\n",
    "- [Working With JSON Data in Python](https://realpython.com/python-json/)\n",
    "- [Python's zipfile: Manipulate Your ZIP Files Efficiently](https://realpython.com/python-zipfile/)\n"
   ]
  },
  {
   "cell_type": "code",
   "execution_count": null,
   "metadata": {},
   "outputs": [],
   "source": []
  }
 ],
 "metadata": {
  "kernelspec": {
   "display_name": "Python 3 (ipykernel)",
   "language": "python",
   "name": "python3"
  },
  "language_info": {
   "codemirror_mode": {
    "name": "ipython",
    "version": 3
   },
   "file_extension": ".py",
   "mimetype": "text/x-python",
   "name": "python",
   "nbconvert_exporter": "python",
   "pygments_lexer": "ipython3",
   "version": "3.12.3"
  }
 },
 "nbformat": 4,
 "nbformat_minor": 4
}
