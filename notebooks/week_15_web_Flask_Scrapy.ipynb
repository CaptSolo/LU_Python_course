{
 "cells": [
  {
   "cell_type": "markdown",
   "metadata": {},
   "source": []
  },
  {
   "cell_type": "markdown",
   "metadata": {},
   "source": [
    "![LU Logo](https://www.lu.lv/fileadmin/user_upload/LU.LV/www.lu.lv/Logo/Logo_jaunie/LU_logo_LV_horiz.png)\n"
   ]
  },
  {
   "cell_type": "markdown",
   "metadata": {},
   "source": [
    "# Week 15 - Web Development with Flask, Web Scraping with Scrapy\n",
    "\n",
    "## Lesson Overview\n",
    "\n",
    "We will cover the following topics in this lesson:\n",
    "\n",
    "* Flask - a Python framework for server-side web development\n",
    "* Scrapy - a Python web scraping library\n",
    "\n",
    "## Learning Objectives\n",
    "\n",
    "At the end of this lesson, you will be able to:\n",
    "\n",
    "* Understand the basics of server side web development\n",
    "* Create a simple web application using Flask\n",
    "* Understand the basics of web scraping\n",
    "* Scrape data from a website using Scrapy\n",
    "\n",
    "## Lesson Prerequisites\n",
    "\n",
    "Before exploring this lesson, you should be able to:\n",
    "\n",
    "* Understand the basics of Python programming - variables, data types, control structures, functions, OOP, and file I/O\n",
    "* Know how to install Python packages using `pip`\n",
    "* Know how to set up a virtual environment using `venv`\n",
    "* Understand the basics of HTML - see MDN Web Docs' [Introduction to HTML](https://developer.mozilla.org/en-US/docs/Learn/HTML/Introduction_to_HTML)"
   ]
  },
  {
   "cell_type": "markdown",
   "metadata": {},
   "source": [
    "## Front End Web Development vs. Back End Web Development\n",
    "\n",
    "Web development can be divided into two main categories: front end and back end.\n",
    "\n",
    "### Front End Web Development\n",
    "\n",
    "Front end web development involves creating the user interface and user experience of a website. This includes designing the layout, colors, fonts, and interactive elements of the website. Front end developers use HTML, CSS, and JavaScript to create the visual elements of a website that users interact with.\n",
    "\n",
    "### Back End Web Development\n",
    "\n",
    "Back end web development involves creating the server-side logic and database interactions of a website. This includes handling user requests, processing data, and generating dynamic content. Back end developers use server-side programming languages like Python, PHP, Ruby, Java and others to build the server-side components of a website.\n",
    "\n",
    "Providing APIs, handling user authentication, and managing databases are some of the tasks that back end developers are responsible for.\n",
    "\n",
    "### Full Stack Web Development\n",
    "\n",
    "Full stack web development involves working on both the front end and back end of a website. Full stack developers are proficient in both front end and back end technologies and can build complete web applications from start to finish. "
   ]
  },
  {
   "cell_type": "markdown",
   "metadata": {},
   "source": [
    "## Flask - A Python Web Framework\n",
    "\n",
    "Flask is a lightweight Python web framework that allows you to build web applications quickly and easily. It is designed to be simple and easy to use, making it a great choice for beginners and experienced developers alike.\n",
    "\n",
    "### How Flask Works\n",
    "\n",
    "Flask is a micro web framework that provides the basic tools and libraries needed to build web applications. It is built on top of the WSGI (Web Server Gateway Interface) standard, which allows it to work with a variety of web servers."
   ]
  },
  {
   "cell_type": "markdown",
   "metadata": {},
   "source": [
    "### Virtual Environment Setup\n",
    "\n",
    "Before installing Flask, it is HIGHLY recommended to create a virtual environment for your project. This will help you manage dependencies and avoid conflicts with other projects.\n",
    "\n",
    "There are multiple ways to create a virtual environment in Python. One common way is to use the built-in `venv` module. Here's how you can create a virtual environment using `venv`:\n",
    "\n",
    "```bash\n",
    "# Create a new directory for your project\n",
    "mkdir myproject\n",
    "cd myproject\n",
    "python -m venv myvenv\n",
    "```\n",
    "\n",
    "Instead of myenv, you can use any name you like for your virtual environment. To activate the virtual environment, you can use the following command:\n",
    "\n",
    "```bash\n",
    "# On Windows\n",
    "myvenv\\Scripts\\activate\n",
    "\n",
    "# On macOS and Linux\n",
    "source myvenv/bin/activate\n",
    "```\n",
    "\n",
    "### Installing Flask\n",
    "\n",
    "Once you have set up and ACTIVATED your virtual environment, you can install Flask using `pip`:\n",
    "\n",
    "```bash\n",
    "\n",
    "pip install Flask\n",
    "```\n"
   ]
  }
 ],
 "metadata": {
  "kernelspec": {
   "display_name": "venv312",
   "language": "python",
   "name": "python3"
  },
  "language_info": {
   "name": "python",
   "version": "3.12.7"
  }
 },
 "nbformat": 4,
 "nbformat_minor": 2
}
