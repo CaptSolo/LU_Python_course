{
 "cells": [
  {
   "cell_type": "markdown",
   "metadata": {},
   "source": []
  },
  {
   "cell_type": "markdown",
   "metadata": {},
   "source": [
    "![LU Logo](https://www.lu.lv/fileadmin/user_upload/LU.LV/www.lu.lv/Logo/Logo_jaunie/LU_logo_LV_horiz.png)\n"
   ]
  },
  {
   "cell_type": "markdown",
   "metadata": {},
   "source": [
    "# Week 15 - Web Development with Flask, Web Scraping with Scrapy\n",
    "\n",
    "## Lesson Overview\n",
    "\n",
    "We will cover the following topics in this lesson:\n",
    "\n",
    "* Flask - a Python framework for server-side web development\n",
    "* Scrapy - a Python web scraping library\n",
    "\n",
    "## Learning Objectives\n",
    "\n",
    "At the end of this lesson, you will be able to:\n",
    "\n",
    "* Understand the basics of server side web development\n",
    "* Create a simple web application using Flask\n",
    "* Understand the basics of web scraping\n",
    "* Scrape data from a website using Scrapy\n",
    "\n",
    "## Lesson Prerequisites\n",
    "\n",
    "Before exploring this lesson, you should be able to:\n",
    "\n",
    "* Understand the basics of Python programming - variables, data types, control structures, functions, OOP, and file I/O\n",
    "* Know how to install Python packages using `pip`\n",
    "* Know how to set up a virtual environment using `venv`\n",
    "* Understand the basics of HTML - see MDN Web Docs' [Introduction to HTML](https://developer.mozilla.org/en-US/docs/Learn/HTML/Introduction_to_HTML)"
   ]
  },
  {
   "cell_type": "markdown",
   "metadata": {},
   "source": [
    "## Front End Web Development vs. Back End Web Development\n",
    "\n",
    "Web development can be divided into two main categories: front end and back end.\n",
    "\n",
    "### Front End Web Development\n",
    "\n",
    "Front end web development involves creating the user interface and user experience of a website. This includes designing the layout, colors, fonts, and interactive elements of the website. Front end developers use HTML, CSS, and JavaScript to create the visual elements of a website that users interact with.\n",
    "\n",
    "### Back End Web Development\n",
    "\n",
    "Back end web development involves creating the server-side logic and database interactions of a website. This includes handling user requests, processing data, and generating dynamic content. Back end developers use server-side programming languages like Python, PHP, Ruby, Java and others to build the server-side components of a website.\n",
    "\n",
    "Providing APIs, handling user authentication, and managing databases are some of the tasks that back end developers are responsible for.\n",
    "\n",
    "### Full Stack Web Development\n",
    "\n",
    "Full stack web development involves working on both the front end and back end of a website. Full stack developers are proficient in both front end and back end technologies and can build complete web applications from start to finish. "
   ]
  },
  {
   "cell_type": "markdown",
   "metadata": {},
   "source": [
    "## Flask - A Python Web Framework\n",
    "\n",
    "Flask is a lightweight Python web framework that allows you to build web applications quickly and easily. It is designed to be simple and easy to use, making it a great choice for beginners and experienced developers alike.\n",
    "\n",
    "### How Flask Works\n",
    "\n",
    "Flask is a micro web framework that provides the basic tools and libraries needed to build web applications. It is built on top of the WSGI (Web Server Gateway Interface) standard, which allows it to work with a variety of web servers."
   ]
  },
  {
   "cell_type": "markdown",
   "metadata": {},
   "source": [
    "### Virtual Environment Setup\n",
    "\n",
    "Before installing Flask, it is HIGHLY recommended to create a virtual environment for your project. This will help you manage dependencies and avoid conflicts with other projects.\n",
    "\n",
    "There are multiple ways to create a virtual environment in Python. One common way is to use the built-in `venv` module. Here's how you can create a virtual environment using `venv`:\n",
    "\n",
    "```bash\n",
    "# Create a new directory for your project\n",
    "mkdir myproject\n",
    "cd myproject\n",
    "python -m venv myvenv\n",
    "```\n",
    "\n",
    "Instead of myenv, you can use any name you like for your virtual environment. To activate the virtual environment, you can use the following command:\n",
    "\n",
    "```bash\n",
    "# On Windows\n",
    "myvenv\\Scripts\\activate\n",
    "\n",
    "# On macOS and Linux\n",
    "source myvenv/bin/activate\n",
    "```\n",
    "\n",
    "### Installing Flask\n",
    "\n",
    "Once you have set up and ACTIVATED your virtual environment, you can install Flask using `pip`:\n",
    "\n",
    "```bash\n",
    "\n",
    "pip install Flask\n",
    "```\n"
   ]
  },
  {
   "cell_type": "markdown",
   "metadata": {},
   "source": [
    "## Creating a Simple Web Application with Flask\n"
   ]
  },
  {
   "cell_type": "markdown",
   "metadata": {},
   "source": [
    "### Hello World Example"
   ]
  },
  {
   "cell_type": "code",
   "execution_count": null,
   "metadata": {},
   "outputs": [
    {
     "name": "stdout",
     "output_type": "stream",
     "text": [
      " * Serving Flask app '__main__'\n",
      " * Debug mode: off\n"
     ]
    },
    {
     "name": "stderr",
     "output_type": "stream",
     "text": [
      "WARNING: This is a development server. Do not use it in a production deployment. Use a production WSGI server instead.\n",
      " * Running on http://127.0.0.1:5000\n",
      "Press CTRL+C to quit\n",
      "127.0.0.1 - - [09/Dec/2024 16:52:30] \"GET / HTTP/1.1\" 200 -\n",
      "127.0.0.1 - - [09/Dec/2024 16:52:30] \"GET /favicon.ico HTTP/1.1\" 404 -\n"
     ]
    }
   ],
   "source": [
    "# let's create a simple Flask app\n",
    "\n",
    "from flask import Flask\n",
    "\n",
    "app = Flask(__name__) # this creates a new Flask app object\n",
    "\n",
    "# we will be using app.route() decorator to define the URL that will trigger the function below\n",
    "@app.route('/') # this route means that the function below will be called when the user goes to the root URL of your website\n",
    "def hello_world():\n",
    "    return 'Hello, World!'\n",
    "\n",
    "# you'd add this line to run the app in script mode\n",
    "# if __name__ == '__main__':\n",
    "#     app.run()\n",
    "\n",
    "app.run() # this is the same as the above line, but it's not recommended to use this in script mode\n",
    "# usually you would not run this from Jupiter notebook, but from a terminal\n",
    "\n",
    "# use Ctrl+C to stop the server on terminal\n",
    "# in Jupyter notebook, you can stop the server by clicking on the stop button"
   ]
  },
  {
   "cell_type": "markdown",
   "metadata": {},
   "source": [
    "### Using parameters in routes\n",
    "\n",
    "Next step is to create a simple web application that takes a parameter in the URL and displays it on the page. Here's an example:\n",
    "\n",
    "```python\n",
    "from flask import Flask\n",
    "\n",
    "app = Flask(__name__)\n",
    "\n",
    "@app.route('/')\n",
    "def hello_world():\n",
    "    return 'Hello, World!'\n",
    "\n",
    "@app.route('/greet/<name>')\n",
    "def greet(name):\n",
    "    return f'Hello, {name}!'\n",
    "\n",
    "if __name__ == '__main__':\n",
    "    app.run()\n",
    "``` "
   ]
  },
  {
   "cell_type": "code",
   "execution_count": null,
   "metadata": {},
   "outputs": [
    {
     "name": "stdout",
     "output_type": "stream",
     "text": [
      " * Serving Flask app '__main__'\n",
      " * Debug mode: off\n"
     ]
    },
    {
     "name": "stderr",
     "output_type": "stream",
     "text": [
      "WARNING: This is a development server. Do not use it in a production deployment. Use a production WSGI server instead.\n",
      " * Running on http://127.0.0.1:5000\n",
      "Press CTRL+C to quit\n",
      "127.0.0.1 - - [09/Dec/2024 16:54:53] \"GET / HTTP/1.1\" 200 -\n",
      "127.0.0.1 - - [09/Dec/2024 16:54:59] \"GET /greet/Valdis HTTP/1.1\" 200 -\n",
      "127.0.0.1 - - [09/Dec/2024 16:55:05] \"GET /greet/LUPython HTTP/1.1\" 200 -\n",
      "127.0.0.1 - - [09/Dec/2024 16:55:11] \"GET /greet/LUPython/Latvia HTTP/1.1\" 404 -\n"
     ]
    }
   ],
   "source": [
    "from flask import Flask\n",
    "\n",
    "app = Flask(__name__)\n",
    "\n",
    "@app.route('/')\n",
    "def hello_world():\n",
    "    return 'Hello, World!'\n",
    "\n",
    "# note that the URL is case-sensitive\n",
    "# note the use of <name> in the URL this is a variable part of the URL\n",
    "@app.route('/greet/<name>')\n",
    "def greet(name):\n",
    "    return f'Hello, {name}!'\n",
    "\n",
    "# note that only first level of the URL will be caught by this route\n",
    "# so /greet/Janis/Berzins will not work\n",
    "# but /greet/Janis will work\n",
    "\n",
    "if __name__ == '__main__':\n",
    "    app.run()\n",
    "\n",
    "# use Ctrl+C to stop the server on terminal\n",
    "# in Jupyter notebook, you can stop the server by clicking on the stop button"
   ]
  },
  {
   "cell_type": "markdown",
   "metadata": {},
   "source": [
    "### Using query parameters\n",
    "\n",
    "Query parameters are another way to pass data to a web application. They are added to the URL after a question mark `?` and are in the form `key=value`. Here's an example:\n",
    "\n",
    "```python\n",
    "\n",
    "from flask import Flask, request\n",
    "\n",
    "app = Flask(__name__)\n",
    "\n",
    "@app.route('/')\n",
    "def hello_world():\n",
    "    return 'Hello, World!'\n",
    "\n",
    "@app.route('/sveiks')\n",
    "def greet():\n",
    "    name = request.args.get('name', 'World')\n",
    "    return f'Hello, {name}!'\n",
    "\n",
    "if __name__ == '__main__':\n",
    "    app.run()\n",
    "```\n",
    "\n",
    "Now you can access the greet route with a query parameter like this: `http://localhost:5000/sveiks?name=Uldis`\n"
   ]
  },
  {
   "cell_type": "code",
   "execution_count": null,
   "metadata": {},
   "outputs": [
    {
     "name": "stdout",
     "output_type": "stream",
     "text": [
      " * Serving Flask app '__main__'\n",
      " * Debug mode: off\n"
     ]
    },
    {
     "name": "stderr",
     "output_type": "stream",
     "text": [
      "WARNING: This is a development server. Do not use it in a production deployment. Use a production WSGI server instead.\n",
      " * Running on http://127.0.0.1:5000\n",
      "Press CTRL+C to quit\n",
      "127.0.0.1 - - [09/Dec/2024 17:07:54] \"GET / HTTP/1.1\" 200 -\n",
      "127.0.0.1 - - [09/Dec/2024 17:08:03] \"GET /sveiks?name=Valdis HTTP/1.1\" 200 -\n"
     ]
    }
   ],
   "source": [
    "## Using query parameters\n",
    "\n",
    "from flask import Flask, request\n",
    "\n",
    "app = Flask(__name__)\n",
    "\n",
    "@app.route('/')\n",
    "def hello_world():\n",
    "    return 'Hello, World!'\n",
    "\n",
    "@app.route('/sveiks')\n",
    "def greet():\n",
    "    name = request.args.get('name', 'Pasaule') #if no name argument is given, we will use 'Pasaule'\n",
    "    return f'Hello, {name}!'\n",
    "\n",
    "if __name__ == '__main__':\n",
    "    app.run()\n",
    "\n",
    "# on local server try something like http://127.0.0.1:5000/sveiks?name=Valdis"
   ]
  },
  {
   "cell_type": "markdown",
   "metadata": {},
   "source": [
    "### Using templates"
   ]
  },
  {
   "cell_type": "code",
   "execution_count": null,
   "metadata": {},
   "outputs": [],
   "source": []
  },
  {
   "cell_type": "markdown",
   "metadata": {},
   "source": [
    "## Flask project structure\n",
    "\n",
    "```\n",
    "project_root/\n",
    "│\n",
    "├── app.py                # Your main Flask application file\n",
    "├── static/               # Folder for static files (CSS, JS, images, etc.)\n",
    "│   └── styles.css        # Your CSS file\n",
    "├── templates/            # Folder for HTML templates\n",
    "│   └── base.html         # Your base template\n",
    "│   └── index.html        # Other templates\n",
    "└── requirements.txt      # (Optional) Python dependencies file\n",
    "```\n"
   ]
  },
  {
   "cell_type": "markdown",
   "metadata": {},
   "source": [
    "### Flask Learning References \n",
    "\n",
    "For further exploration of Flask, you can refer to the following resources:\n",
    "- Official Flask Documentation: https://flask.palletsprojects.com/en/2.0.x/\n",
    "- Miguel Grinberg's Flask Mega-Tutorial: https://blog.miguelgrinberg.com/post/the-flask-mega-tutorial-part-i-hello-world\n",
    "- Corey Schafer's Flask Tutorial Series: https://www.youtube.com/playlist?list=PL-osiE80TeTs4UjLw5MM6OjgkjFeUxCYH\n",
    "\n",
    "#### Handling forms with Flask\n",
    "\n",
    "#### Using databases with Flask\n",
    "\n",
    "#### User authentication with Flask"
   ]
  },
  {
   "cell_type": "markdown",
   "metadata": {},
   "source": [
    "## Web Scraping - what is it?\n",
    "\n",
    "Web scraping is the process of extracting data from websites. It involves sending HTTP requests to a website, parsing the HTML content, and extracting the data you need. Web scraping is commonly used for data mining, price monitoring, and content aggregation.\n",
    "\n",
    "Web scraping can be done manually by simply saving contents of web site you are visiting, but it is often more efficient to use a web scraping library like Scrapy to automate the process.\n",
    "\n",
    "### Rules of Web Scraping\n",
    "\n",
    "* Play nice! Don't overload a website with requests, as this can cause server issues and get you banned.\n",
    "\n",
    "* Before scraping a website, make sure to check the website's terms of service and robots.txt file to ensure that you are not violating any rules or policies.\n",
    "\n",
    "* Also if it is possible to obtain the data you need through an API, it is recommended to use the API instead of scraping the website.\n",
    "\n",
    "* Even better if data can be obtained from a public dataset, it is recommended to use the dataset instead of scraping the website.\n",
    "\n",
    "* Note the difference between scraping something and using the data. Scraping is just the process of extracting data from a website, while using the data is a separate issue. For example there is a difference between doing a research on some website and using the same data to setup a competing service."
   ]
  },
  {
   "cell_type": "markdown",
   "metadata": {},
   "source": [
    "## Scrapy - A Python Web Scraping Library\n",
    "\n",
    "Scrapy is a powerful web scraping library for Python that makes it easy to extract data from websites. It provides a high-level API for crawling websites and extracting data, making it a great choice for web scraping projects.\n",
    "\n",
    "### How Scrapy Works\n",
    "\n",
    "Scrapy works by sending HTTP requests to a website, parsing the HTML content, and extracting the data you need. It provides a set of tools and libraries for building web scrapers, including a built-in web crawler, a powerful selector system, and support for handling cookies and sessions.\n",
    "\n",
    "### Installing Scrapy\n",
    "\n",
    "As usual it is best to create and activate a virtual environment before installing Scrapy. \n",
    "\n",
    "You can install Scrapy using `pip`:\n",
    "\n",
    "```bash\n",
    "pip install Scrapy\n",
    "```"
   ]
  },
  {
   "cell_type": "markdown",
   "metadata": {},
   "source": [
    "### Simple web scraping example with Scrapy\n",
    "\n",
    "Let's say we want to scrape the cities and their populations from wikipedia page: https://en.wikipedia.org/wiki/List_of_cities_in_Latvia\n",
    "(Note that Wikipedia offers an API for accessing its data, so scraping is not necessary in this case. This is just an example.)\n",
    "\n",
    "Here is a simple example of how to scrape data from a website using Scrapy:\n",
    "\n",
    "```python   \n",
    "import scrapy\n",
    "url = 'https://en.wikipedia.org/wiki/List_of_cities_in_Latvia'\n",
    "class CitySpider(scrapy.Spider):\n",
    "    name = 'city_spider'\n",
    "    start_urls = [url]\n",
    "    def parse(self, response):\n",
    "        for row in response.css('table.wikitable tr'):\n",
    "            city = row.css('td:nth-child(2) a::text').get()\n",
    "            population = row.css('td:nth-child(4)::text').get()\n",
    "            if city and population:\n",
    "                yield {\n",
    "                    'city': city,\n",
    "                    'population': population\n",
    "                }\n",
    "\n",
    "scraper = CitySpider()\n",
    "\n",
    "from scrapy.crawler import CrawlerProcess\n",
    "process = CrawlerProcess()\n",
    "process.crawl(scraper)\n",
    "process.start()\n",
    "# see results in the console\n",
    "\n",
    "```\n"
   ]
  },
  {
   "cell_type": "markdown",
   "metadata": {},
   "source": [
    "### Scrapy Learning References\n",
    "\n",
    "For further exploration of Scrapy, you can refer to the following resources:\n",
    "\n",
    "- Official Scrapy Documentation: https://docs.scrapy.org/en/latest/\n",
    "- Scrapy Tutorial: https://docs.scrapy.org/en/latest/intro/tutorial.html\n",
    "- YouTube Tutorial: https://www.youtube.com/watch?v=ve_0h4Y8nuI"
   ]
  },
  {
   "cell_type": "markdown",
   "metadata": {},
   "source": [
    "## Practice\n",
    "\n",
    "### Flask Practice\n",
    "\n",
    "1. Create a simple web application using Flask that displays a list of items. The list should be stored in a Python list and displayed on the web page.\n",
    "2. Add a form to the web application that allows users to add new items to the list.\n",
    "3. Add a delete button next to each item in the list that allows users to delete items from the list.\n",
    "\n",
    "### Scrapy Practice\n",
    "\n",
    "1. Create a Scrapy spider that scrapes data from a website of your choice. The spider should extract at least two fields from the website and save the data to a CSV file.\n",
    "2. Modify the spider to save the data to a database instead of a CSV file.\n",
    "3. Add error handling to the spider to handle cases where the website is down or the data is missing.\n",
    "\n",
    "## Summary\n",
    "\n",
    "In this lesson, we covered the basics of server-side web development using Flask and web scraping using Scrapy. We learned how to create a simple web application with Flask and how to scrape data from a website using Scrapy. We also discussed the rules of web scraping and best practices for working with web scraping libraries."
   ]
  },
  {
   "cell_type": "code",
   "execution_count": null,
   "metadata": {},
   "outputs": [],
   "source": []
  }
 ],
 "metadata": {
  "kernelspec": {
   "display_name": "venv312",
   "language": "python",
   "name": "python3"
  },
  "language_info": {
   "codemirror_mode": {
    "name": "ipython",
    "version": 3
   },
   "file_extension": ".py",
   "mimetype": "text/x-python",
   "name": "python",
   "nbconvert_exporter": "python",
   "pygments_lexer": "ipython3",
   "version": "3.12.7"
  }
 },
 "nbformat": 4,
 "nbformat_minor": 2
}
