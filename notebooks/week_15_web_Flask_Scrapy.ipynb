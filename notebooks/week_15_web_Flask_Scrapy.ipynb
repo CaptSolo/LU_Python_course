{
 "cells": [
  {
   "cell_type": "markdown",
   "metadata": {},
   "source": []
  },
  {
   "cell_type": "markdown",
   "metadata": {},
   "source": [
    "![LU Logo](https://www.lu.lv/fileadmin/user_upload/LU.LV/www.lu.lv/Logo/Logo_jaunie/LU_logo_LV_horiz.png)\n"
   ]
  },
  {
   "cell_type": "markdown",
   "metadata": {},
   "source": [
    "# Week 15 - Web Development with Flask, Web Scraping with Scrapy\n",
    "\n",
    "## Lesson Overview\n",
    "\n",
    "We will cover the following topics in this lesson:\n",
    "\n",
    "* Flask - a Python framework for server-side web development\n",
    "* Scrapy - a Python web scraping library\n",
    "\n",
    "## Learning Objectives\n",
    "\n",
    "At the end of this lesson, you will be able to:\n",
    "\n",
    "* Understand the basics of server side web development\n",
    "* Create a simple web application using Flask\n",
    "* Understand the basics of web scraping\n",
    "* Scrape data from a website using Scrapy\n",
    "\n",
    "## Lesson prerequisites\n",
    "\n",
    "Before exploring this lesson, you should be able to:\n",
    "\n",
    "* Understand the basics of Python programming - variables, data types, control structures, functions, OOP, and file I/O\n",
    "* Know how to install Python packages using `pip`\n",
    "* Know how to set up a virtual environment using `venv`\n",
    "* Understand the basics of HTML - see MDN Web Docs' [Introduction to HTML](https://developer.mozilla.org/en-US/docs/Learn/HTML/Introduction_to_HTML)"
   ]
  }
 ],
 "metadata": {
  "language_info": {
   "name": "python"
  }
 },
 "nbformat": 4,
 "nbformat_minor": 2
}
